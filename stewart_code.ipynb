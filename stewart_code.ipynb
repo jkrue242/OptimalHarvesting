{
 "cells": [
  {
   "cell_type": "code",
   "execution_count": 24,
   "id": "a98a7fc4-1c8d-41b2-aca2-2eb902d02a50",
   "metadata": {},
   "outputs": [
    {
     "data": {
      "text/plain": [
       "forwardstep (generic function with 1 method)"
      ]
     },
     "execution_count": 24,
     "metadata": {},
     "output_type": "execute_result"
    }
   ],
   "source": [
    "function forwardstep(x0,t0,F::Function,u,h)\n",
    "    N = size(u,2) # number of cols of u\n",
    "    n = length(x0)\n",
    "    xs = zeros(eltype(x0),n,N+1)\n",
    "    xs[:,1] = x0\n",
    "    for i = 0:N-1\n",
    "        xs[:,i+2] = xs[:,i+1] + h*F(t0+i*h,xs[:,i+1],u[:,i+1])\n",
    "    end\n",
    "    xs\n",
    "end"
   ]
  },
  {
   "cell_type": "code",
   "execution_count": 25,
   "id": "4e5691ca-0cc4-490f-8f68-e081fa380b86",
   "metadata": {},
   "outputs": [
    {
     "data": {
      "text/plain": [
       "adjointstep (generic function with 1 method)"
      ]
     },
     "execution_count": 25,
     "metadata": {},
     "output_type": "execute_result"
    }
   ],
   "source": [
    "function adjointstep(λend,t0,dFdx::Function,xs,u,h)\n",
    "    N = size(u,2)\n",
    "    n = length(λend)\n",
    "    λs = zeros(eltype(λend),n,N)\n",
    "    λs[:,N] = λend\n",
    "    for i = N-2:-1:0\n",
    "        λs[:,i+1] = λs[:,i+2] + h*dFdx(t0+i*h,xs[:,i+1],u[:,i+1])'*λs[:,i+2]\n",
    "    end\n",
    "    λs\n",
    "end"
   ]
  },
  {
   "cell_type": "code",
   "execution_count": 26,
   "id": "f91d6a4e-71f9-47ce-b9dc-18e31464454b",
   "metadata": {},
   "outputs": [
    {
     "data": {
      "text/plain": [
       "dG (generic function with 1 method)"
      ]
     },
     "execution_count": 26,
     "metadata": {},
     "output_type": "execute_result"
    }
   ],
   "source": [
    "function G(x0,t0,u,h,F::Function,g::Function)\n",
    "    xs = forwardstep(x0,t0,F,u,h)\n",
    "    g(xs[:,end])\n",
    "end\n",
    "\n",
    "function dG(x0,t0,u,h,F::Function,dFdx::Function,dFdu::Function,dg::Function)\n",
    "    xs = forwardstep(x0,t0,F,u,h)\n",
    "    λend = dg(xs[:,end])\n",
    "    λs = adjointstep(λend,t0,dFdx,xs,u,h)\n",
    "    dGval = zeros(eltype(u),size(u,1),size(u,2))\n",
    "    for i = 0:size(u,2)-1\n",
    "        dGval[:,i+1] = h*dFdu(t0+i*h,xs[:,i+1],u[:,i+1])'*λs[:,i+1]\n",
    "    end\n",
    "    dGval\n",
    "end"
   ]
  },
  {
   "cell_type": "code",
   "execution_count": 27,
   "id": "4e3de0e5-ba72-4821-b9ac-4089691778fb",
   "metadata": {},
   "outputs": [
    {
     "data": {
      "text/plain": [
       "proj_u (generic function with 1 method)"
      ]
     },
     "execution_count": 27,
     "metadata": {},
     "output_type": "execute_result"
    }
   ],
   "source": [
    "function proj_u(u,a,b)\n",
    "    clamp.(u,a,b)\n",
    "end"
   ]
  },
  {
   "cell_type": "code",
   "execution_count": 28,
   "id": "bc04d882-27b0-4895-a310-05bc83c27645",
   "metadata": {},
   "outputs": [
    {
     "data": {
      "text/plain": [
       "optcontrol (generic function with 1 method)"
      ]
     },
     "execution_count": 28,
     "metadata": {},
     "output_type": "execute_result"
    }
   ],
   "source": [
    "function optcontrol(x0,t0,u,h,\n",
    "        F::Function,dFdx::Function,dFdu::Function,g::Function,dg::Function,proj::Function;\n",
    "        eps=1e-2,s0=1.0,c1=0.05,maxiter::Int=10_000,ulist=nothing,trace=0)\n",
    "    Gval = G(x0,t0,u,h,F,g)\n",
    "    Gvalold = Gval\n",
    "    if trace > 0\n",
    "        println(\"optcontrol: Gval = $Gval\")\n",
    "    end\n",
    "    dGval = dG(x0,t0,u,h,F,dFdx,dFdu,dg)\n",
    "    if trace > 1\n",
    "        println(\"optcontrol: dGval = \",dGval)\n",
    "    end\n",
    "    firsttime = true\n",
    "    iter = 0\n",
    "    if ulist != nothing\n",
    "        push!(ulist,u)\n",
    "    end\n",
    "    if trace > 0\n",
    "        println(\"optcontrol: iteration $iter: Gval = $Gval\")\n",
    "        println(\"optcontrol: u = \",u)\n",
    "    end\n",
    "    println(\"Gvalold: \", Gvalold)\n",
    "    println(\"Gval: \", Gval)\n",
    "    while ( firsttime || (Gvalold - Gval > eps) ) && (iter < maxiter)\n",
    "        Gvalold = Gval\n",
    "        s = s0\n",
    "        unew = proj(u-s*dGval) # projected gradient descent\n",
    "        Gval = G(x0,t0,unew,h,F,g)\n",
    "        while Gval > Gvalold + c1*dot(dGval,unew-u) && s > 1e-12*s0\n",
    "            s = s / 2\n",
    "            unew = proj(u-s*dGval)\n",
    "            Gval = G(x0,t0,unew,h,F,g)\n",
    "        end\n",
    "        if trace > 0\n",
    "            println()\n",
    "            println(\"optcontrol: s = $s\")\n",
    "            println(\"optcontrol: Gval = $Gval, Gval-Gvalold = $(Gval-Gvalold)\")\n",
    "            if trace > 1\n",
    "                println(\"optcontrol: unew = \",unew)\n",
    "                println(\"optcontrol: dGval = \",dGval)\n",
    "            end\n",
    "        end\n",
    "        u = unew\n",
    "        firsttime = false\n",
    "        dGval = dG(x0,t0,u,h,F,dFdx,dFdu,dg)\n",
    "        if trace > 1\n",
    "            println(\"optcontrol: dGval = \",dGval)\n",
    "        end\n",
    "        if ulist != nothing\n",
    "            push!(ulist,u)\n",
    "        end\n",
    "        iter += 1\n",
    "        if iter < 5\n",
    "            println(\"==========================\")\n",
    "            println(\"Iteration \", iter)\n",
    "            println(\"--------------------------\")\n",
    "            println(\"Values: \")\n",
    "            println(\"Gvalold: \", Gvalold)\n",
    "            println(\"Gval: \", Gval)\n",
    "            println(\"u: \", u)\n",
    "            println(\"dGval: \", dGval)\n",
    "        end\n",
    "    end\n",
    "    (u,iter)\n",
    "end"
   ]
  },
  {
   "cell_type": "code",
   "execution_count": 29,
   "id": "ed40c015-5065-4ec7-9102-c9a3d9b293ca",
   "metadata": {},
   "outputs": [
    {
     "name": "stdout",
     "output_type": "stream",
     "text": [
      "--------\n",
      "[1.0; 0.0;;]\n",
      "Matrix{Float64}\n",
      "=========\n",
      "[1.0; 0.0;;]\n"
     ]
    },
    {
     "data": {
      "text/plain": [
       "dg (generic function with 1 method)"
      ]
     },
     "execution_count": 29,
     "metadata": {},
     "output_type": "execute_result"
    }
   ],
   "source": [
    "F(t,xv,u) = let x = xv[1], y = xv[2]; [u[1]; x^2] end\n",
    "dFdx(t,xv,u) = let x = xv[1], y = xv[2]; [0 0 ;2x 0] end\n",
    "dFdu(t,xv,u) = reshape([1.0; 0.0],2,1)\n",
    "\n",
    "test = dFdu(0,0,0)\n",
    "println(\"--------\")\n",
    "println(test)\n",
    "println(typeof(test))\n",
    "println(\"=========\")\n",
    "println(dFdu(0,0,0))\n",
    "g(xv) = xv[2]\n",
    "dg(xv) = [0.0; 1.0]"
   ]
  },
  {
   "cell_type": "code",
   "execution_count": 30,
   "id": "51b9df71-588c-42f2-b999-831bc799b82e",
   "metadata": {},
   "outputs": [
    {
     "data": {
      "text/plain": [
       "2×1 Matrix{Float64}:\n",
       " 1.0\n",
       " 0.0"
      ]
     },
     "execution_count": 30,
     "metadata": {},
     "output_type": "execute_result"
    }
   ],
   "source": [
    "using LinearAlgebra\n",
    "xv  = [2.1; 1.1]\n",
    "dxv = 1e-3*[1.2; -0.7]\n",
    "t = 0; u = [0.5]; du = 1e-3*[0.7]\n",
    "dFdu(t,xv,u)"
   ]
  },
  {
   "cell_type": "code",
   "execution_count": 31,
   "id": "2ba15878-ad07-4f34-9342-9f6dbf5c2272",
   "metadata": {},
   "outputs": [
    {
     "name": "stdout",
     "output_type": "stream",
     "text": [
      "((F(t, xv + dxv, u) - F(t, xv - dxv, u)) - (2 * dFdx(t, xv, u)) * dxv) / norm(dxv) = [0.0, -1.053887001334176e-12]\n",
      "((F(t, xv, u + du) - F(t, xv, u - du)) - 2 * dFdu(t, xv, u) * du) / norm(du) = [1.7657006809049645e-14, 0.0]\n",
      "((g(xv + dxv) - g(xv - dxv)) - 2 * dot(dg(xv), dxv)) / norm(dxv) = 1.1097654886679491e-13\n"
     ]
    },
    {
     "data": {
      "text/plain": [
       "1.1097654886679491e-13"
      ]
     },
     "execution_count": 31,
     "metadata": {},
     "output_type": "execute_result"
    }
   ],
   "source": [
    "using LinearAlgebra\n",
    "xv  = [2.1; 1.1]\n",
    "dxv = 1e-3*[1.2; -0.7]\n",
    "t = 0; u = [0.5]; du = 1e-3*[0.7]\n",
    "@show (F(t,xv+dxv,u)-F(t,xv-dxv,u)-2dFdx(t,xv,u)*dxv)/norm(dxv)\n",
    "@show (F(t,xv,u+du)-F(t,xv,u-du)-2*dFdu(t,xv,u)*du)/norm(du)\n",
    "@show (g(xv+dxv)-g(xv-dxv)-2*dot(dg(xv),dxv))/norm(dxv)"
   ]
  },
  {
   "cell_type": "code",
   "execution_count": 32,
   "id": "c00f45bb-2de3-4128-8124-7f495ccd2b5f",
   "metadata": {},
   "outputs": [
    {
     "name": "stdout",
     "output_type": "stream",
     "text": [
      "Matrix{Float64}\n",
      "[-1.0 -1.0 -1.0 -1.0 -1.0 -1.0 -1.0 -1.0 -1.0 -1.0 -1.0 -1.0 -1.0 -1.0 -1.0 -1.0 -1.0 -1.0 -1.0 -1.0]\n"
     ]
    },
    {
     "data": {
      "text/plain": [
       "2×21 Matrix{Float64}:\n",
       " 1.0  0.9  0.8    0.7    0.6    0.5   0.4    …  -0.7    -0.8    -0.9    -1.0\n",
       " 0.0  0.1  0.181  0.245  0.294  0.33  0.355      0.476   0.525   0.589   0.67"
      ]
     },
     "execution_count": 32,
     "metadata": {},
     "output_type": "execute_result"
    }
   ],
   "source": [
    "N = 20\n",
    "h = 0.1\n",
    "u = -ones(1,N)\n",
    "println(typeof(u))\n",
    "println(u)\n",
    "xv0 = [1.0; 0.0]\n",
    "xs = forwardstep(xv0,0.0,F,u,h)"
   ]
  },
  {
   "cell_type": "code",
   "execution_count": 33,
   "id": "c0a78fbf-e140-4fb8-92dc-3971b31d4e63",
   "metadata": {},
   "outputs": [
    {
     "data": {
      "text/plain": [
       "2-element Vector{Float64}:\n",
       " 0.0\n",
       " 1.0"
      ]
     },
     "execution_count": 33,
     "metadata": {},
     "output_type": "execute_result"
    }
   ],
   "source": [
    "λend = dg(xs[:,end])\n"
   ]
  },
  {
   "cell_type": "code",
   "execution_count": 34,
   "id": "ec3602db-7bc7-47c0-9c2d-68fac5d2e8e0",
   "metadata": {},
   "outputs": [
    {
     "data": {
      "text/plain": [
       "2×20 Matrix{Float64}:\n",
       " 0.38  0.18  5.55112e-16  -0.16  -0.3  …  -0.52  -0.42  -0.3  -0.16  0.0\n",
       " 1.0   1.0   1.0           1.0    1.0      1.0    1.0    1.0   1.0   1.0"
      ]
     },
     "execution_count": 34,
     "metadata": {},
     "output_type": "execute_result"
    }
   ],
   "source": [
    "λs = adjointstep(λend,0.0,dFdx,xs,u,h)\n"
   ]
  },
  {
   "cell_type": "code",
   "execution_count": 35,
   "id": "e3a529b3-b455-4cab-a073-61f7b53698d8",
   "metadata": {},
   "outputs": [
    {
     "data": {
      "text/plain": [
       "2-element Vector{Float64}:\n",
       " -1.7999999999999996\n",
       "  0.0"
      ]
     },
     "execution_count": 35,
     "metadata": {},
     "output_type": "execute_result"
    }
   ],
   "source": [
    "dFdx(0,xs[:,end-1],u[:,end])'*λend"
   ]
  },
  {
   "cell_type": "code",
   "execution_count": 36,
   "id": "32dd9928-bf21-4ac0-8083-e7de2e2f7908",
   "metadata": {},
   "outputs": [
    {
     "data": {
      "text/plain": [
       "0.6699999999999999"
      ]
     },
     "execution_count": 36,
     "metadata": {},
     "output_type": "execute_result"
    }
   ],
   "source": [
    "G(xv0,0.0,u,h,F,g)\n"
   ]
  },
  {
   "cell_type": "code",
   "execution_count": 37,
   "id": "8f77e435-c18c-495a-9b15-4d6c65970933",
   "metadata": {},
   "outputs": [
    {
     "data": {
      "text/plain": [
       "1×20 Matrix{Float64}:\n",
       " 0.038  0.018  5.55112e-17  -0.016  …  -0.052  -0.042  -0.03  -0.016  0.0"
      ]
     },
     "execution_count": 37,
     "metadata": {},
     "output_type": "execute_result"
    }
   ],
   "source": [
    "dG(xv0,0.0,u,h,F,dFdx,dFdu,dg)"
   ]
  },
  {
   "cell_type": "code",
   "execution_count": 38,
   "id": "75ce0070-6834-46fb-9649-2640fbc693be",
   "metadata": {},
   "outputs": [
    {
     "data": {
      "text/plain": [
       "-0.412225559125876"
      ]
     },
     "execution_count": 38,
     "metadata": {},
     "output_type": "execute_result"
    }
   ],
   "source": [
    "du = 1e-3*rand(1,20)\n",
    "(G(xv0,0.0,u+du,h,F,g)-G(xv0,0.0,u-du,h,F,g)-2*dot(dG(xv0,0.0,u,h,F,dFdx,dFdu,dg),du))/norm(h*du,1)"
   ]
  },
  {
   "cell_type": "code",
   "execution_count": 39,
   "id": "f7836be4-aec6-411c-9706-fc3ceb9c6acd",
   "metadata": {},
   "outputs": [
    {
     "data": {
      "text/plain": [
       "2-element Vector{Float64}:\n",
       " 1.0\n",
       " 0.0"
      ]
     },
     "execution_count": 39,
     "metadata": {},
     "output_type": "execute_result"
    }
   ],
   "source": [
    "N = 80\n",
    "h = 0.025\n",
    "u = -ones(1,N)\n",
    "xv0 = [1.0; 0.0]"
   ]
  },
  {
   "cell_type": "code",
   "execution_count": 40,
   "id": "3857aa3f-bd3a-4873-b875-7073a24c15a2",
   "metadata": {},
   "outputs": [
    {
     "data": {
      "text/plain": [
       "-0.10595909807862172"
      ]
     },
     "execution_count": 40,
     "metadata": {},
     "output_type": "execute_result"
    }
   ],
   "source": [
    "du = 1e-3*rand(1,N)\n",
    "(G(xv0,0.0,u+du,h,F,g)-G(xv0,0.0,u-du,h,F,g)-2*dot(dG(xv0,0.0,u,h,F,dFdx,dFdu,dg),du))/norm(h*du,1)"
   ]
  },
  {
   "cell_type": "code",
   "execution_count": 41,
   "id": "126f1b95-8f0e-41c8-aed4-923edbdab21a",
   "metadata": {},
   "outputs": [
    {
     "name": "stdout",
     "output_type": "stream",
     "text": [
      "Gvalold: 2.0000000000000004\n",
      "Gval: 2.0000000000000004\n",
      "==========================\n",
      "Iteration 1\n",
      "--------------------------\n",
      "Values: \n",
      "Gvalold: 2.0000000000000004\n",
      "Gval: 1.1623735999999996\n",
      "u: [-0.3800000000000001 -0.3600000000000001 -0.3400000000000001 -0.32000000000000006 -0.30000000000000004 -0.28 -0.26 -0.24 -0.21999999999999997 -0.19999999999999998 -0.18 -0.16 -0.13999999999999999 -0.12 -0.1 -0.08000000000000002 -0.06000000000000001 -0.04000000000000001 -0.020000000000000004 0.0]\n",
      "dGval: [0.28879999999999995 0.26879999999999993 0.24955999999999992 0.2310399999999999 0.21319999999999995 0.19599999999999992 0.17939999999999992 0.16335999999999995 0.14783999999999994 0.13279999999999995 0.11819999999999996 0.10399999999999997 0.09015999999999996 0.07663999999999997 0.06339999999999997 0.05039999999999998 0.03759999999999998 0.02495999999999999 0.012439999999999994 0.0]\n",
      "==========================\n",
      "Iteration 2\n",
      "--------------------------\n",
      "Values: \n",
      "Gvalold: 1.1623735999999996\n",
      "Gval: 0.7476206523023996\n",
      "u: [-0.6688000000000001 -0.6288 -0.58956 -0.55104 -0.5132 -0.476 -0.4393999999999999 -0.40335999999999994 -0.36783999999999994 -0.33279999999999993 -0.29819999999999997 -0.26399999999999996 -0.23015999999999995 -0.19663999999999998 -0.1634 -0.1304 -0.09759999999999999 -0.06495999999999999 -0.03244 0.0]\n",
      "dGval: [0.22382911999999996 0.20382911999999995 0.18516671999999992 0.16776191999999993 0.15153623999999993 0.13641263999999995 0.12231543999999994 0.10917023999999996 0.09690383999999996 0.08544415999999998 0.07472015999999997 0.06466175999999997 0.05519975999999998 0.04626575999999998 0.037792079999999985 0.029711679999999987 0.02195807999999999 0.014465279999999995 0.0071676799999999975 0.0]\n",
      "==========================\n",
      "Iteration 3\n",
      "--------------------------\n",
      "Values: \n",
      "Gvalold: 0.7476206523023996\n",
      "Gval: 0.5415061306741846\n",
      "u: [-0.89262912 -0.83262912 -0.7747267199999999 -0.7188019199999999 -0.6647362399999999 -0.61241264 -0.5617154399999998 -0.5125302399999999 -0.4647438399999999 -0.4182441599999999 -0.37292015999999995 -0.3286617599999999 -0.2853597599999999 -0.24290575999999997 -0.20119207999999997 -0.16011167999999998 -0.11955807999999998 -0.07942527999999999 -0.03960767999999999 0.0]\n",
      "dGval: [0.17745654656000004 0.15745654656000005 0.13924180480000004 0.12269232128000003 0.10769229120000004 0.09412986496000005 0.08189691120000005 0.07088878272000004 0.061004085120000044 0.052144448000000045 0.044214298560000045 0.03712063744000004 0.030772816640000034 0.02508231936000003 0.019962541600000022 0.01532857536000002 0.011096993280000016 0.00718563456000001 0.003513392000000004 0.0]\n",
      "==========================\n",
      "Iteration 4\n",
      "--------------------------\n",
      "Values: \n",
      "Gvalold: 0.5415061306741846\n",
      "Gval: 0.4465987264257809\n",
      "u: [-1.0 -0.9900856665600001 -0.9139685247999999 -0.8414942412799999 -0.7724285311999999 -0.70654250496 -0.6436123511999999 -0.58341902272 -0.5257479251199999 -0.470388608 -0.41713445856 -0.36578239743999996 -0.31613257663999994 -0.26798807936 -0.2211546216 -0.17544025536 -0.13065507328 -0.08661091456 -0.043121071999999996 0.0]\n",
      "dGval: [0.14679699768576004 0.12679699768576005 0.10879699768576007 0.09277716901888006 0.07858527740160004 0.06607637426688004 0.05511232819456004 0.04556136713216003 0.03729763077216003 0.03020073245760003 0.024155329993280027 0.019050704744960026 0.01478034841376002 0.011241556877440018 0.008335030494400014 0.005964480270080012 0.004036239288960008 0.0024588788185600056 0.0011428284947200028 0.0]\n"
     ]
    },
    {
     "data": {
      "text/plain": [
       "([-1.0 -1.0 … -0.0015627896305092015 0.0], 38)"
      ]
     },
     "execution_count": 41,
     "metadata": {},
     "output_type": "execute_result"
    }
   ],
   "source": [
    "ulist = []\n",
    "u = zeros(1,20)\n",
    "h = 0.1\n",
    "uopt,iterns = optcontrol(xv0,0.0,u,h,F,dFdx,dFdu,g,dg,u->proj_u(u,-1.0,1.0),eps=1e-4,maxiter=40,ulist=ulist,trace=0)"
   ]
  },
  {
   "cell_type": "code",
   "execution_count": 42,
   "id": "718bcde2-ec3b-47f0-bb45-3ed1faf92630",
   "metadata": {},
   "outputs": [
    {
     "data": {
      "text/plain": [
       "1×20 Matrix{Float64}:\n",
       " -1.0  -1.0  -1.0  -1.0  -1.0  -1.0  -1.0  …  -0.00680896  -0.00156279  0.0"
      ]
     },
     "execution_count": 42,
     "metadata": {},
     "output_type": "execute_result"
    }
   ],
   "source": [
    "uopt\n"
   ]
  },
  {
   "cell_type": "code",
   "execution_count": 43,
   "id": "3ad1c552-104a-43db-9dc7-1cb7626d85f8",
   "metadata": {},
   "outputs": [
    {
     "data": {
      "text/plain": [
       "2×21 Matrix{Float64}:\n",
       " 1.0  0.9  0.8    0.7    0.6    0.5   …  -0.0407103  -0.0408666  -0.0408666\n",
       " 0.0  0.1  0.181  0.245  0.294  0.33      0.386606    0.386772    0.386939"
      ]
     },
     "execution_count": 43,
     "metadata": {},
     "output_type": "execute_result"
    }
   ],
   "source": [
    "xsopt = forwardstep(xv0,0.0,F,uopt,h)\n"
   ]
  },
  {
   "cell_type": "code",
   "execution_count": 44,
   "id": "09b44dcd-d71f-4b6c-b4e5-537d0fd77d3b",
   "metadata": {},
   "outputs": [
    {
     "data": {
      "image/png": "[encoded data removed]",
      "image/svg+xml": [
       "<?xml version=\"1.0\" encoding=\"utf-8\"?>\n",
       "<svg xmlns=\"http://www.w3.org/2000/svg\" xmlns:xlink=\"http://www.w3.org/1999/xlink\" width=\"600\" height=\"400\" viewBox=\"0 0 2400 1600\">\n",
       "<defs>\n",
       "  <clipPath id=\"clip100\">\n",
       "    <rect x=\"0\" y=\"0\" width=\"2400\" height=\"1600\"/>\n",
       "  </clipPath>\n",
       "</defs>\n",
       "<path clip-path=\"url(#clip100)\" d=\"M0 1600 L2400 1600 L2400 8.88178e-14 L0 8.88178e-14  Z\" fill=\"#ffffff\" fill-rule=\"evenodd\" fill-opacity=\"1\"/>\n",
       "<defs>\n",
       "  <clipPath id=\"clip101\">\n",
       "    <rect x=\"480\" y=\"0\" width=\"1681\" height=\"1600\"/>\n",
       "  </clipPath>\n",
       "</defs>\n",
       "<path clip-path=\"url(#clip100)\" d=\"M193.936 1486.45 L2352.76 1486.45 L2352.76 47.2441 L193.936 47.2441  Z\" fill=\"#ffffff\" fill-rule=\"evenodd\" fill-opacity=\"1\"/>\n",
       "<defs>\n",
       "  <clipPath id=\"clip102\">\n",
       "    <rect x=\"193\" y=\"47\" width=\"2160\" height=\"1440\"/>\n",
       "  </clipPath>\n",
       "</defs>\n",
       "<polyline clip-path=\"url(#clip102)\" style=\"stroke:#000000; stroke-linecap:round; stroke-linejoin:round; stroke-width:2; stroke-opacity:0.1; fill:none\" points=\"255.035,1486.45 255.035,47.2441 \"/>\n",
       "<polyline clip-path=\"url(#clip102)\" style=\"stroke:#000000; stroke-linecap:round; stroke-linejoin:round; stroke-width:2; stroke-opacity:0.1; fill:none\" points=\"764.19,1486.45 764.19,47.2441 \"/>\n",
       "<polyline clip-path=\"url(#clip102)\" style=\"stroke:#000000; stroke-linecap:round; stroke-linejoin:round; stroke-width:2; stroke-opacity:0.1; fill:none\" points=\"1273.35,1486.45 1273.35,47.2441 \"/>\n",
       "<polyline clip-path=\"url(#clip102)\" style=\"stroke:#000000; stroke-linecap:round; stroke-linejoin:round; stroke-width:2; stroke-opacity:0.1; fill:none\" points=\"1782.5,1486.45 1782.5,47.2441 \"/>\n",
       "<polyline clip-path=\"url(#clip102)\" style=\"stroke:#000000; stroke-linecap:round; stroke-linejoin:round; stroke-width:2; stroke-opacity:0.1; fill:none\" points=\"2291.66,1486.45 2291.66,47.2441 \"/>\n",
       "<polyline clip-path=\"url(#clip100)\" style=\"stroke:#000000; stroke-linecap:round; stroke-linejoin:round; stroke-width:4; stroke-opacity:1; fill:none\" points=\"193.936,1486.45 2352.76,1486.45 \"/>\n",
       "<polyline clip-path=\"url(#clip100)\" style=\"stroke:#000000; stroke-linecap:round; stroke-linejoin:round; stroke-width:4; stroke-opacity:1; fill:none\" points=\"255.035,1486.45 255.035,1467.55 \"/>\n",
       "<polyline clip-path=\"url(#clip100)\" style=\"stroke:#000000; stroke-linecap:round; stroke-linejoin:round; stroke-width:4; stroke-opacity:1; fill:none\" points=\"764.19,1486.45 764.19,1467.55 \"/>\n",
       "<polyline clip-path=\"url(#clip100)\" style=\"stroke:#000000; stroke-linecap:round; stroke-linejoin:round; stroke-width:4; stroke-opacity:1; fill:none\" points=\"1273.35,1486.45 1273.35,1467.55 \"/>\n",
       "<polyline clip-path=\"url(#clip100)\" style=\"stroke:#000000; stroke-linecap:round; stroke-linejoin:round; stroke-width:4; stroke-opacity:1; fill:none\" points=\"1782.5,1486.45 1782.5,1467.55 \"/>\n",
       "<polyline clip-path=\"url(#clip100)\" style=\"stroke:#000000; stroke-linecap:round; stroke-linejoin:round; stroke-width:4; stroke-opacity:1; fill:none\" points=\"2291.66,1486.45 2291.66,1467.55 \"/>\n",
       "<path clip-path=\"url(#clip100)\" d=\"M232.419 1517.37 Q228.808 1517.37 226.979 1520.93 Q225.174 1524.47 225.174 1531.6 Q225.174 1538.71 226.979 1542.27 Q228.808 1545.82 232.419 1545.82 Q236.053 1545.82 237.859 1542.27 Q239.688 1538.71 239.688 1531.6 Q239.688 1524.47 237.859 1520.93 Q236.053 1517.37 232.419 1517.37 M232.419 1513.66 Q238.229 1513.66 241.285 1518.27 Q244.363 1522.85 244.363 1531.6 Q244.363 1540.33 241.285 1544.94 Q238.229 1549.52 232.419 1549.52 Q226.609 1549.52 223.53 1544.94 Q220.475 1540.33 220.475 1531.6 Q220.475 1522.85 223.53 1518.27 Q226.609 1513.66 232.419 1513.66 Z\" fill=\"#000000\" fill-rule=\"nonzero\" fill-opacity=\"1\" /><path clip-path=\"url(#clip100)\" d=\"M252.581 1542.97 L257.465 1542.97 L257.465 1548.85 L252.581 1548.85 L252.581 1542.97 Z\" fill=\"#000000\" fill-rule=\"nonzero\" fill-opacity=\"1\" /><path clip-path=\"url(#clip100)\" d=\"M277.65 1517.37 Q274.039 1517.37 272.211 1520.93 Q270.405 1524.47 270.405 1531.6 Q270.405 1538.71 272.211 1542.27 Q274.039 1545.82 277.65 1545.82 Q281.285 1545.82 283.09 1542.27 Q284.919 1538.71 284.919 1531.6 Q284.919 1524.47 283.09 1520.93 Q281.285 1517.37 277.65 1517.37 M277.65 1513.66 Q283.46 1513.66 286.516 1518.27 Q289.595 1522.85 289.595 1531.6 Q289.595 1540.33 286.516 1544.94 Q283.46 1549.52 277.65 1549.52 Q271.84 1549.52 268.761 1544.94 Q265.706 1540.33 265.706 1531.6 Q265.706 1522.85 268.761 1518.27 Q271.84 1513.66 277.65 1513.66 Z\" fill=\"#000000\" fill-rule=\"nonzero\" fill-opacity=\"1\" /><path clip-path=\"url(#clip100)\" d=\"M742.072 1517.37 Q738.461 1517.37 736.633 1520.93 Q734.827 1524.47 734.827 1531.6 Q734.827 1538.71 736.633 1542.27 Q738.461 1545.82 742.072 1545.82 Q745.707 1545.82 747.512 1542.27 Q749.341 1538.71 749.341 1531.6 Q749.341 1524.47 747.512 1520.93 Q745.707 1517.37 742.072 1517.37 M742.072 1513.66 Q747.883 1513.66 750.938 1518.27 Q754.017 1522.85 754.017 1531.6 Q754.017 1540.33 750.938 1544.94 Q747.883 1549.52 742.072 1549.52 Q736.262 1549.52 733.184 1544.94 Q730.128 1540.33 730.128 1531.6 Q730.128 1522.85 733.184 1518.27 Q736.262 1513.66 742.072 1513.66 Z\" fill=\"#000000\" fill-rule=\"nonzero\" fill-opacity=\"1\" /><path clip-path=\"url(#clip100)\" d=\"M762.234 1542.97 L767.119 1542.97 L767.119 1548.85 L762.234 1548.85 L762.234 1542.97 Z\" fill=\"#000000\" fill-rule=\"nonzero\" fill-opacity=\"1\" /><path clip-path=\"url(#clip100)\" d=\"M777.35 1514.29 L795.706 1514.29 L795.706 1518.22 L781.632 1518.22 L781.632 1526.7 Q782.651 1526.35 783.669 1526.19 Q784.688 1526 785.706 1526 Q791.493 1526 794.873 1529.17 Q798.253 1532.34 798.253 1537.76 Q798.253 1543.34 794.78 1546.44 Q791.308 1549.52 784.989 1549.52 Q782.813 1549.52 780.544 1549.15 Q778.299 1548.78 775.892 1548.04 L775.892 1543.34 Q777.975 1544.47 780.197 1545.03 Q782.419 1545.58 784.896 1545.58 Q788.901 1545.58 791.239 1543.48 Q793.577 1541.37 793.577 1537.76 Q793.577 1534.15 791.239 1532.04 Q788.901 1529.94 784.896 1529.94 Q783.021 1529.94 781.146 1530.35 Q779.294 1530.77 777.35 1531.65 L777.35 1514.29 Z\" fill=\"#000000\" fill-rule=\"nonzero\" fill-opacity=\"1\" /><path clip-path=\"url(#clip100)\" d=\"M1240.5 1544.91 L1248.14 1544.91 L1248.14 1518.55 L1239.83 1520.21 L1239.83 1515.95 L1248.09 1514.29 L1252.77 1514.29 L1252.77 1544.91 L1260.41 1544.91 L1260.41 1548.85 L1240.5 1548.85 L1240.5 1544.91 Z\" fill=\"#000000\" fill-rule=\"nonzero\" fill-opacity=\"1\" /><path clip-path=\"url(#clip100)\" d=\"M1269.85 1542.97 L1274.73 1542.97 L1274.73 1548.85 L1269.85 1548.85 L1269.85 1542.97 Z\" fill=\"#000000\" fill-rule=\"nonzero\" fill-opacity=\"1\" /><path clip-path=\"url(#clip100)\" d=\"M1294.92 1517.37 Q1291.31 1517.37 1289.48 1520.93 Q1287.67 1524.47 1287.67 1531.6 Q1287.67 1538.71 1289.48 1542.27 Q1291.31 1545.82 1294.92 1545.82 Q1298.55 1545.82 1300.36 1542.27 Q1302.19 1538.71 1302.19 1531.6 Q1302.19 1524.47 1300.36 1520.93 Q1298.55 1517.37 1294.92 1517.37 M1294.92 1513.66 Q1300.73 1513.66 1303.79 1518.27 Q1306.86 1522.85 1306.86 1531.6 Q1306.86 1540.33 1303.79 1544.94 Q1300.73 1549.52 1294.92 1549.52 Q1289.11 1549.52 1286.03 1544.94 Q1282.98 1540.33 1282.98 1531.6 Q1282.98 1522.85 1286.03 1518.27 Q1289.11 1513.66 1294.92 1513.66 Z\" fill=\"#000000\" fill-rule=\"nonzero\" fill-opacity=\"1\" /><path clip-path=\"url(#clip100)\" d=\"M1750.15 1544.91 L1757.79 1544.91 L1757.79 1518.55 L1749.48 1520.21 L1749.48 1515.95 L1757.74 1514.29 L1762.42 1514.29 L1762.42 1544.91 L1770.06 1544.91 L1770.06 1548.85 L1750.15 1548.85 L1750.15 1544.91 Z\" fill=\"#000000\" fill-rule=\"nonzero\" fill-opacity=\"1\" /><path clip-path=\"url(#clip100)\" d=\"M1779.5 1542.97 L1784.39 1542.97 L1784.39 1548.85 L1779.5 1548.85 L1779.5 1542.97 Z\" fill=\"#000000\" fill-rule=\"nonzero\" fill-opacity=\"1\" /><path clip-path=\"url(#clip100)\" d=\"M1794.62 1514.29 L1812.98 1514.29 L1812.98 1518.22 L1798.9 1518.22 L1798.9 1526.7 Q1799.92 1526.35 1800.94 1526.19 Q1801.96 1526 1802.98 1526 Q1808.76 1526 1812.14 1529.17 Q1815.52 1532.34 1815.52 1537.76 Q1815.52 1543.34 1812.05 1546.44 Q1808.58 1549.52 1802.26 1549.52 Q1800.08 1549.52 1797.81 1549.15 Q1795.57 1548.78 1793.16 1548.04 L1793.16 1543.34 Q1795.24 1544.47 1797.47 1545.03 Q1799.69 1545.58 1802.17 1545.58 Q1806.17 1545.58 1808.51 1543.48 Q1810.85 1541.37 1810.85 1537.76 Q1810.85 1534.15 1808.51 1532.04 Q1806.17 1529.94 1802.17 1529.94 Q1800.29 1529.94 1798.42 1530.35 Q1796.56 1530.77 1794.62 1531.65 L1794.62 1514.29 Z\" fill=\"#000000\" fill-rule=\"nonzero\" fill-opacity=\"1\" /><path clip-path=\"url(#clip100)\" d=\"M2262.9 1544.91 L2279.22 1544.91 L2279.22 1548.85 L2257.27 1548.85 L2257.27 1544.91 Q2259.93 1542.16 2264.52 1537.53 Q2269.12 1532.88 2270.3 1531.53 Q2272.55 1529.01 2273.43 1527.27 Q2274.33 1525.51 2274.33 1523.82 Q2274.33 1521.07 2272.39 1519.33 Q2270.47 1517.6 2267.36 1517.6 Q2265.16 1517.6 2262.71 1518.36 Q2260.28 1519.13 2257.5 1520.68 L2257.5 1515.95 Q2260.33 1514.82 2262.78 1514.24 Q2265.23 1513.66 2267.27 1513.66 Q2272.64 1513.66 2275.84 1516.35 Q2279.03 1519.03 2279.03 1523.52 Q2279.03 1525.65 2278.22 1527.57 Q2277.43 1529.47 2275.33 1532.07 Q2274.75 1532.74 2271.65 1535.95 Q2268.54 1539.15 2262.9 1544.91 Z\" fill=\"#000000\" fill-rule=\"nonzero\" fill-opacity=\"1\" /><path clip-path=\"url(#clip100)\" d=\"M2289.03 1542.97 L2293.91 1542.97 L2293.91 1548.85 L2289.03 1548.85 L2289.03 1542.97 Z\" fill=\"#000000\" fill-rule=\"nonzero\" fill-opacity=\"1\" /><path clip-path=\"url(#clip100)\" d=\"M2314.1 1517.37 Q2310.49 1517.37 2308.66 1520.93 Q2306.85 1524.47 2306.85 1531.6 Q2306.85 1538.71 2308.66 1542.27 Q2310.49 1545.82 2314.1 1545.82 Q2317.73 1545.82 2319.54 1542.27 Q2321.37 1538.71 2321.37 1531.6 Q2321.37 1524.47 2319.54 1520.93 Q2317.73 1517.37 2314.1 1517.37 M2314.1 1513.66 Q2319.91 1513.66 2322.96 1518.27 Q2326.04 1522.85 2326.04 1531.6 Q2326.04 1540.33 2322.96 1544.94 Q2319.91 1549.52 2314.1 1549.52 Q2308.29 1549.52 2305.21 1544.94 Q2302.15 1540.33 2302.15 1531.6 Q2302.15 1522.85 2305.21 1518.27 Q2308.29 1513.66 2314.1 1513.66 Z\" fill=\"#000000\" fill-rule=\"nonzero\" fill-opacity=\"1\" /><polyline clip-path=\"url(#clip102)\" style=\"stroke:#000000; stroke-linecap:round; stroke-linejoin:round; stroke-width:2; stroke-opacity:0.1; fill:none\" points=\"193.936,1445.72 2352.76,1445.72 \"/>\n",
       "<polyline clip-path=\"url(#clip102)\" style=\"stroke:#000000; stroke-linecap:round; stroke-linejoin:round; stroke-width:2; stroke-opacity:0.1; fill:none\" points=\"193.936,1106.28 2352.76,1106.28 \"/>\n",
       "<polyline clip-path=\"url(#clip102)\" style=\"stroke:#000000; stroke-linecap:round; stroke-linejoin:round; stroke-width:2; stroke-opacity:0.1; fill:none\" points=\"193.936,766.846 2352.76,766.846 \"/>\n",
       "<polyline clip-path=\"url(#clip102)\" style=\"stroke:#000000; stroke-linecap:round; stroke-linejoin:round; stroke-width:2; stroke-opacity:0.1; fill:none\" points=\"193.936,427.411 2352.76,427.411 \"/>\n",
       "<polyline clip-path=\"url(#clip102)\" style=\"stroke:#000000; stroke-linecap:round; stroke-linejoin:round; stroke-width:2; stroke-opacity:0.1; fill:none\" points=\"193.936,87.9763 2352.76,87.9763 \"/>\n",
       "<polyline clip-path=\"url(#clip100)\" style=\"stroke:#000000; stroke-linecap:round; stroke-linejoin:round; stroke-width:4; stroke-opacity:1; fill:none\" points=\"193.936,1486.45 193.936,47.2441 \"/>\n",
       "<polyline clip-path=\"url(#clip100)\" style=\"stroke:#000000; stroke-linecap:round; stroke-linejoin:round; stroke-width:4; stroke-opacity:1; fill:none\" points=\"193.936,1445.72 212.834,1445.72 \"/>\n",
       "<polyline clip-path=\"url(#clip100)\" style=\"stroke:#000000; stroke-linecap:round; stroke-linejoin:round; stroke-width:4; stroke-opacity:1; fill:none\" points=\"193.936,1106.28 212.834,1106.28 \"/>\n",
       "<polyline clip-path=\"url(#clip100)\" style=\"stroke:#000000; stroke-linecap:round; stroke-linejoin:round; stroke-width:4; stroke-opacity:1; fill:none\" points=\"193.936,766.846 212.834,766.846 \"/>\n",
       "<polyline clip-path=\"url(#clip100)\" style=\"stroke:#000000; stroke-linecap:round; stroke-linejoin:round; stroke-width:4; stroke-opacity:1; fill:none\" points=\"193.936,427.411 212.834,427.411 \"/>\n",
       "<polyline clip-path=\"url(#clip100)\" style=\"stroke:#000000; stroke-linecap:round; stroke-linejoin:round; stroke-width:4; stroke-opacity:1; fill:none\" points=\"193.936,87.9763 212.834,87.9763 \"/>\n",
       "<path clip-path=\"url(#clip100)\" d=\"M50.9921 1446.17 L80.6679 1446.17 L80.6679 1450.1 L50.9921 1450.1 L50.9921 1446.17 Z\" fill=\"#000000\" fill-rule=\"nonzero\" fill-opacity=\"1\" /><path clip-path=\"url(#clip100)\" d=\"M91.5706 1459.06 L99.2095 1459.06 L99.2095 1432.69 L90.8993 1434.36 L90.8993 1430.1 L99.1632 1428.44 L103.839 1428.44 L103.839 1459.06 L111.478 1459.06 L111.478 1463 L91.5706 1463 L91.5706 1459.06 Z\" fill=\"#000000\" fill-rule=\"nonzero\" fill-opacity=\"1\" /><path clip-path=\"url(#clip100)\" d=\"M120.922 1457.12 L125.807 1457.12 L125.807 1463 L120.922 1463 L120.922 1457.12 Z\" fill=\"#000000\" fill-rule=\"nonzero\" fill-opacity=\"1\" /><path clip-path=\"url(#clip100)\" d=\"M145.992 1431.51 Q142.381 1431.51 140.552 1435.08 Q138.746 1438.62 138.746 1445.75 Q138.746 1452.86 140.552 1456.42 Q142.381 1459.96 145.992 1459.96 Q149.626 1459.96 151.431 1456.42 Q153.26 1452.86 153.26 1445.75 Q153.26 1438.62 151.431 1435.08 Q149.626 1431.51 145.992 1431.51 M145.992 1427.81 Q151.802 1427.81 154.857 1432.42 Q157.936 1437 157.936 1445.75 Q157.936 1454.48 154.857 1459.08 Q151.802 1463.67 145.992 1463.67 Q140.181 1463.67 137.103 1459.08 Q134.047 1454.48 134.047 1445.75 Q134.047 1437 137.103 1432.42 Q140.181 1427.81 145.992 1427.81 Z\" fill=\"#000000\" fill-rule=\"nonzero\" fill-opacity=\"1\" /><path clip-path=\"url(#clip100)\" d=\"M51.9875 1106.73 L81.6633 1106.73 L81.6633 1110.67 L51.9875 1110.67 L51.9875 1106.73 Z\" fill=\"#000000\" fill-rule=\"nonzero\" fill-opacity=\"1\" /><path clip-path=\"url(#clip100)\" d=\"M101.756 1092.08 Q98.1447 1092.08 96.316 1095.64 Q94.5104 1099.19 94.5104 1106.32 Q94.5104 1113.42 96.316 1116.99 Q98.1447 1120.53 101.756 1120.53 Q105.39 1120.53 107.196 1116.99 Q109.024 1113.42 109.024 1106.32 Q109.024 1099.19 107.196 1095.64 Q105.39 1092.08 101.756 1092.08 M101.756 1088.38 Q107.566 1088.38 110.621 1092.98 Q113.7 1097.57 113.7 1106.32 Q113.7 1115.04 110.621 1119.65 Q107.566 1124.23 101.756 1124.23 Q95.9456 1124.23 92.8669 1119.65 Q89.8114 1115.04 89.8114 1106.32 Q89.8114 1097.57 92.8669 1092.98 Q95.9456 1088.38 101.756 1088.38 Z\" fill=\"#000000\" fill-rule=\"nonzero\" fill-opacity=\"1\" /><path clip-path=\"url(#clip100)\" d=\"M121.918 1117.68 L126.802 1117.68 L126.802 1123.56 L121.918 1123.56 L121.918 1117.68 Z\" fill=\"#000000\" fill-rule=\"nonzero\" fill-opacity=\"1\" /><path clip-path=\"url(#clip100)\" d=\"M137.033 1089 L155.39 1089 L155.39 1092.94 L141.316 1092.94 L141.316 1101.41 Q142.334 1101.06 143.353 1100.9 Q144.371 1100.71 145.39 1100.71 Q151.177 1100.71 154.556 1103.89 Q157.936 1107.06 157.936 1112.47 Q157.936 1118.05 154.464 1121.15 Q150.992 1124.23 144.672 1124.23 Q142.496 1124.23 140.228 1123.86 Q137.982 1123.49 135.575 1122.75 L135.575 1118.05 Q137.658 1119.19 139.881 1119.74 Q142.103 1120.3 144.58 1120.3 Q148.584 1120.3 150.922 1118.19 Q153.26 1116.08 153.26 1112.47 Q153.26 1108.86 150.922 1106.76 Q148.584 1104.65 144.58 1104.65 Q142.705 1104.65 140.83 1105.07 Q138.978 1105.48 137.033 1106.36 L137.033 1089 Z\" fill=\"#000000\" fill-rule=\"nonzero\" fill-opacity=\"1\" /><path clip-path=\"url(#clip100)\" d=\"M100.76 752.645 Q97.1493 752.645 95.3206 756.209 Q93.515 759.751 93.515 766.881 Q93.515 773.987 95.3206 777.552 Q97.1493 781.094 100.76 781.094 Q104.395 781.094 106.2 777.552 Q108.029 773.987 108.029 766.881 Q108.029 759.751 106.2 756.209 Q104.395 752.645 100.76 752.645 M100.76 748.941 Q106.571 748.941 109.626 753.547 Q112.705 758.131 112.705 766.881 Q112.705 775.608 109.626 780.214 Q106.571 784.797 100.76 784.797 Q94.9502 784.797 91.8715 780.214 Q88.816 775.608 88.816 766.881 Q88.816 758.131 91.8715 753.547 Q94.9502 748.941 100.76 748.941 Z\" fill=\"#000000\" fill-rule=\"nonzero\" fill-opacity=\"1\" /><path clip-path=\"url(#clip100)\" d=\"M120.922 778.246 L125.807 778.246 L125.807 784.126 L120.922 784.126 L120.922 778.246 Z\" fill=\"#000000\" fill-rule=\"nonzero\" fill-opacity=\"1\" /><path clip-path=\"url(#clip100)\" d=\"M145.992 752.645 Q142.381 752.645 140.552 756.209 Q138.746 759.751 138.746 766.881 Q138.746 773.987 140.552 777.552 Q142.381 781.094 145.992 781.094 Q149.626 781.094 151.431 777.552 Q153.26 773.987 153.26 766.881 Q153.26 759.751 151.431 756.209 Q149.626 752.645 145.992 752.645 M145.992 748.941 Q151.802 748.941 154.857 753.547 Q157.936 758.131 157.936 766.881 Q157.936 775.608 154.857 780.214 Q151.802 784.797 145.992 784.797 Q140.181 784.797 137.103 780.214 Q134.047 775.608 134.047 766.881 Q134.047 758.131 137.103 753.547 Q140.181 748.941 145.992 748.941 Z\" fill=\"#000000\" fill-rule=\"nonzero\" fill-opacity=\"1\" /><path clip-path=\"url(#clip100)\" d=\"M101.756 413.21 Q98.1447 413.21 96.316 416.775 Q94.5104 420.316 94.5104 427.446 Q94.5104 434.552 96.316 438.117 Q98.1447 441.659 101.756 441.659 Q105.39 441.659 107.196 438.117 Q109.024 434.552 109.024 427.446 Q109.024 420.316 107.196 416.775 Q105.39 413.21 101.756 413.21 M101.756 409.506 Q107.566 409.506 110.621 414.113 Q113.7 418.696 113.7 427.446 Q113.7 436.173 110.621 440.779 Q107.566 445.362 101.756 445.362 Q95.9456 445.362 92.8669 440.779 Q89.8114 436.173 89.8114 427.446 Q89.8114 418.696 92.8669 414.113 Q95.9456 409.506 101.756 409.506 Z\" fill=\"#000000\" fill-rule=\"nonzero\" fill-opacity=\"1\" /><path clip-path=\"url(#clip100)\" d=\"M121.918 438.812 L126.802 438.812 L126.802 444.691 L121.918 444.691 L121.918 438.812 Z\" fill=\"#000000\" fill-rule=\"nonzero\" fill-opacity=\"1\" /><path clip-path=\"url(#clip100)\" d=\"M137.033 410.131 L155.39 410.131 L155.39 414.066 L141.316 414.066 L141.316 422.538 Q142.334 422.191 143.353 422.029 Q144.371 421.844 145.39 421.844 Q151.177 421.844 154.556 425.015 Q157.936 428.187 157.936 433.603 Q157.936 439.182 154.464 442.284 Q150.992 445.362 144.672 445.362 Q142.496 445.362 140.228 444.992 Q137.982 444.622 135.575 443.881 L135.575 439.182 Q137.658 440.316 139.881 440.872 Q142.103 441.427 144.58 441.427 Q148.584 441.427 150.922 439.321 Q153.26 437.214 153.26 433.603 Q153.26 429.992 150.922 427.886 Q148.584 425.779 144.58 425.779 Q142.705 425.779 140.83 426.196 Q138.978 426.613 137.033 427.492 L137.033 410.131 Z\" fill=\"#000000\" fill-rule=\"nonzero\" fill-opacity=\"1\" /><path clip-path=\"url(#clip100)\" d=\"M91.5706 101.321 L99.2095 101.321 L99.2095 74.9555 L90.8993 76.6222 L90.8993 72.3629 L99.1632 70.6963 L103.839 70.6963 L103.839 101.321 L111.478 101.321 L111.478 105.256 L91.5706 105.256 L91.5706 101.321 Z\" fill=\"#000000\" fill-rule=\"nonzero\" fill-opacity=\"1\" /><path clip-path=\"url(#clip100)\" d=\"M120.922 99.3767 L125.807 99.3767 L125.807 105.256 L120.922 105.256 L120.922 99.3767 Z\" fill=\"#000000\" fill-rule=\"nonzero\" fill-opacity=\"1\" /><path clip-path=\"url(#clip100)\" d=\"M145.992 73.775 Q142.381 73.775 140.552 77.3398 Q138.746 80.8814 138.746 88.011 Q138.746 95.1174 140.552 98.6822 Q142.381 102.224 145.992 102.224 Q149.626 102.224 151.431 98.6822 Q153.26 95.1174 153.26 88.011 Q153.26 80.8814 151.431 77.3398 Q149.626 73.775 145.992 73.775 M145.992 70.0713 Q151.802 70.0713 154.857 74.6777 Q157.936 79.261 157.936 88.011 Q157.936 96.7378 154.857 101.344 Q151.802 105.928 145.992 105.928 Q140.181 105.928 137.103 101.344 Q134.047 96.7378 134.047 88.011 Q134.047 79.261 137.103 74.6777 Q140.181 70.0713 145.992 70.0713 Z\" fill=\"#000000\" fill-rule=\"nonzero\" fill-opacity=\"1\" /><polyline clip-path=\"url(#clip102)\" style=\"stroke:#009af9; stroke-linecap:round; stroke-linejoin:round; stroke-width:4; stroke-opacity:1; fill:none\" points=\"255.035,87.9763 356.866,155.863 458.697,223.75 560.528,291.637 662.359,359.524 764.19,427.411 866.021,495.298 967.853,563.185 1069.68,631.072 1171.51,682.912 1273.35,720.517 1375.18,747.187 1477.01,765.58 1578.84,777.824 1680.67,785.608 1782.5,790.259 1884.33,792.804 1986.16,794.021 2087.99,794.483 2189.83,794.589 2291.66,794.589 \"/>\n",
       "<polyline clip-path=\"url(#clip102)\" style=\"stroke:#e26f46; stroke-linecap:round; stroke-linejoin:round; stroke-width:4; stroke-opacity:1; fill:none\" points=\"255.035,1445.72 356.866,1445.72 458.697,1445.72 560.528,1445.72 662.359,1445.72 764.19,1445.72 866.021,1445.72 967.853,1445.72 1069.68,1285.24 1171.51,1142.9 1273.35,1033.54 1375.18,950.774 1477.01,889.286 1578.84,844.688 1680.67,813.356 1782.5,792.292 1884.33,779.018 1986.16,771.468 2087.99,767.907 2189.83,766.846 \"/>\n",
       "<path clip-path=\"url(#clip100)\" d=\"M1986.72 250.738 L2280.8 250.738 L2280.8 95.2176 L1986.72 95.2176  Z\" fill=\"#ffffff\" fill-rule=\"evenodd\" fill-opacity=\"1\"/>\n",
       "<polyline clip-path=\"url(#clip100)\" style=\"stroke:#000000; stroke-linecap:round; stroke-linejoin:round; stroke-width:4; stroke-opacity:1; fill:none\" points=\"1986.72,250.738 2280.8,250.738 2280.8,95.2176 1986.72,95.2176 1986.72,250.738 \"/>\n",
       "<polyline clip-path=\"url(#clip100)\" style=\"stroke:#009af9; stroke-linecap:round; stroke-linejoin:round; stroke-width:4; stroke-opacity:1; fill:none\" points=\"2010.71,147.058 2154.63,147.058 \"/>\n",
       "<path clip-path=\"url(#clip100)\" d=\"M2203.27 138.412 L2193.89 151.027 L2203.75 164.338 L2198.73 164.338 L2191.18 154.152 L2183.64 164.338 L2178.61 164.338 L2188.68 150.773 L2179.47 138.412 L2184.49 138.412 L2191.37 147.648 L2198.24 138.412 L2203.27 138.412 Z\" fill=\"#000000\" fill-rule=\"nonzero\" fill-opacity=\"1\" /><path clip-path=\"url(#clip100)\" d=\"M2220 128.366 Q2216.9 133.69 2215.4 138.898 Q2213.89 144.106 2213.89 149.453 Q2213.89 154.801 2215.4 160.055 Q2216.92 165.287 2220 170.588 L2216.3 170.588 Q2212.83 165.148 2211.09 159.893 Q2209.38 154.639 2209.38 149.453 Q2209.38 144.291 2211.09 139.06 Q2212.8 133.828 2216.3 128.366 L2220 128.366 Z\" fill=\"#000000\" fill-rule=\"nonzero\" fill-opacity=\"1\" /><path clip-path=\"url(#clip100)\" d=\"M2232.48 131.051 L2232.48 138.412 L2241.25 138.412 L2241.25 141.722 L2232.48 141.722 L2232.48 155.796 Q2232.48 158.967 2233.34 159.87 Q2234.22 160.773 2236.88 160.773 L2241.25 160.773 L2241.25 164.338 L2236.88 164.338 Q2231.95 164.338 2230.07 162.509 Q2228.2 160.657 2228.2 155.796 L2228.2 141.722 L2225.07 141.722 L2225.07 138.412 L2228.2 138.412 L2228.2 131.051 L2232.48 131.051 Z\" fill=\"#000000\" fill-rule=\"nonzero\" fill-opacity=\"1\" /><path clip-path=\"url(#clip100)\" d=\"M2246.18 128.366 L2249.89 128.366 Q2253.36 133.828 2255.07 139.06 Q2256.81 144.291 2256.81 149.453 Q2256.81 154.639 2255.07 159.893 Q2253.36 165.148 2249.89 170.588 L2246.18 170.588 Q2249.26 165.287 2250.77 160.055 Q2252.29 154.801 2252.29 149.453 Q2252.29 144.106 2250.77 138.898 Q2249.26 133.69 2246.18 128.366 Z\" fill=\"#000000\" fill-rule=\"nonzero\" fill-opacity=\"1\" /><polyline clip-path=\"url(#clip100)\" style=\"stroke:#e26f46; stroke-linecap:round; stroke-linejoin:round; stroke-width:4; stroke-opacity:1; fill:none\" points=\"2010.71,198.898 2154.63,198.898 \"/>\n",
       "<path clip-path=\"url(#clip100)\" d=\"M2178.61 205.946 L2178.61 190.252 L2182.87 190.252 L2182.87 205.784 Q2182.87 209.465 2184.31 211.316 Q2185.74 213.145 2188.61 213.145 Q2192.06 213.145 2194.05 210.946 Q2196.07 208.747 2196.07 204.951 L2196.07 190.252 L2200.33 190.252 L2200.33 216.178 L2196.07 216.178 L2196.07 212.196 Q2194.52 214.557 2192.46 215.715 Q2190.42 216.849 2187.71 216.849 Q2183.24 216.849 2180.93 214.071 Q2178.61 211.293 2178.61 205.946 M2189.33 189.627 L2189.33 189.627 Z\" fill=\"#000000\" fill-rule=\"nonzero\" fill-opacity=\"1\" /><path clip-path=\"url(#clip100)\" d=\"M2219.33 180.206 Q2216.23 185.53 2214.73 190.738 Q2213.22 195.946 2213.22 201.293 Q2213.22 206.641 2214.73 211.895 Q2216.25 217.127 2219.33 222.428 L2215.63 222.428 Q2212.16 216.988 2210.42 211.733 Q2208.71 206.479 2208.71 201.293 Q2208.71 196.131 2210.42 190.9 Q2212.13 185.668 2215.63 180.206 L2219.33 180.206 Z\" fill=\"#000000\" fill-rule=\"nonzero\" fill-opacity=\"1\" /><path clip-path=\"url(#clip100)\" d=\"M2231.81 182.891 L2231.81 190.252 L2240.58 190.252 L2240.58 193.562 L2231.81 193.562 L2231.81 207.636 Q2231.81 210.807 2232.66 211.71 Q2233.54 212.613 2236.21 212.613 L2240.58 212.613 L2240.58 216.178 L2236.21 216.178 Q2231.28 216.178 2229.4 214.349 Q2227.53 212.497 2227.53 207.636 L2227.53 193.562 L2224.4 193.562 L2224.4 190.252 L2227.53 190.252 L2227.53 182.891 L2231.81 182.891 Z\" fill=\"#000000\" fill-rule=\"nonzero\" fill-opacity=\"1\" /><path clip-path=\"url(#clip100)\" d=\"M2245.51 180.206 L2249.22 180.206 Q2252.69 185.668 2254.4 190.9 Q2256.14 196.131 2256.14 201.293 Q2256.14 206.479 2254.4 211.733 Q2252.69 216.988 2249.22 222.428 L2245.51 222.428 Q2248.59 217.127 2250.1 211.895 Q2251.62 206.641 2251.62 201.293 Q2251.62 195.946 2250.1 190.738 Q2248.59 185.53 2245.51 180.206 Z\" fill=\"#000000\" fill-rule=\"nonzero\" fill-opacity=\"1\" /></svg>\n"
      ],
      "text/html": [
       "<?xml version=\"1.0\" encoding=\"utf-8\"?>\n",
       "<svg xmlns=\"http://www.w3.org/2000/svg\" xmlns:xlink=\"http://www.w3.org/1999/xlink\" width=\"600\" height=\"400\" viewBox=\"0 0 2400 1600\">\n",
       "<defs>\n",
       "  <clipPath id=\"clip150\">\n",
       "    <rect x=\"0\" y=\"0\" width=\"2400\" height=\"1600\"/>\n",
       "  </clipPath>\n",
       "</defs>\n",
       "<path clip-path=\"url(#clip150)\" d=\"M0 1600 L2400 1600 L2400 8.88178e-14 L0 8.88178e-14  Z\" fill=\"#ffffff\" fill-rule=\"evenodd\" fill-opacity=\"1\"/>\n",
       "<defs>\n",
       "  <clipPath id=\"clip151\">\n",
       "    <rect x=\"480\" y=\"0\" width=\"1681\" height=\"1600\"/>\n",
       "  </clipPath>\n",
       "</defs>\n",
       "<path clip-path=\"url(#clip150)\" d=\"M193.936 1486.45 L2352.76 1486.45 L2352.76 47.2441 L193.936 47.2441  Z\" fill=\"#ffffff\" fill-rule=\"evenodd\" fill-opacity=\"1\"/>\n",
       "<defs>\n",
       "  <clipPath id=\"clip152\">\n",
       "    <rect x=\"193\" y=\"47\" width=\"2160\" height=\"1440\"/>\n",
       "  </clipPath>\n",
       "</defs>\n",
       "<polyline clip-path=\"url(#clip152)\" style=\"stroke:#000000; stroke-linecap:round; stroke-linejoin:round; stroke-width:2; stroke-opacity:0.1; fill:none\" points=\"255.035,1486.45 255.035,47.2441 \"/>\n",
       "<polyline clip-path=\"url(#clip152)\" style=\"stroke:#000000; stroke-linecap:round; stroke-linejoin:round; stroke-width:2; stroke-opacity:0.1; fill:none\" points=\"764.19,1486.45 764.19,47.2441 \"/>\n",
       "<polyline clip-path=\"url(#clip152)\" style=\"stroke:#000000; stroke-linecap:round; stroke-linejoin:round; stroke-width:2; stroke-opacity:0.1; fill:none\" points=\"1273.35,1486.45 1273.35,47.2441 \"/>\n",
       "<polyline clip-path=\"url(#clip152)\" style=\"stroke:#000000; stroke-linecap:round; stroke-linejoin:round; stroke-width:2; stroke-opacity:0.1; fill:none\" points=\"1782.5,1486.45 1782.5,47.2441 \"/>\n",
       "<polyline clip-path=\"url(#clip152)\" style=\"stroke:#000000; stroke-linecap:round; stroke-linejoin:round; stroke-width:2; stroke-opacity:0.1; fill:none\" points=\"2291.66,1486.45 2291.66,47.2441 \"/>\n",
       "<polyline clip-path=\"url(#clip150)\" style=\"stroke:#000000; stroke-linecap:round; stroke-linejoin:round; stroke-width:4; stroke-opacity:1; fill:none\" points=\"193.936,1486.45 2352.76,1486.45 \"/>\n",
       "<polyline clip-path=\"url(#clip150)\" style=\"stroke:#000000; stroke-linecap:round; stroke-linejoin:round; stroke-width:4; stroke-opacity:1; fill:none\" points=\"255.035,1486.45 255.035,1467.55 \"/>\n",
       "<polyline clip-path=\"url(#clip150)\" style=\"stroke:#000000; stroke-linecap:round; stroke-linejoin:round; stroke-width:4; stroke-opacity:1; fill:none\" points=\"764.19,1486.45 764.19,1467.55 \"/>\n",
       "<polyline clip-path=\"url(#clip150)\" style=\"stroke:#000000; stroke-linecap:round; stroke-linejoin:round; stroke-width:4; stroke-opacity:1; fill:none\" points=\"1273.35,1486.45 1273.35,1467.55 \"/>\n",
       "<polyline clip-path=\"url(#clip150)\" style=\"stroke:#000000; stroke-linecap:round; stroke-linejoin:round; stroke-width:4; stroke-opacity:1; fill:none\" points=\"1782.5,1486.45 1782.5,1467.55 \"/>\n",
       "<polyline clip-path=\"url(#clip150)\" style=\"stroke:#000000; stroke-linecap:round; stroke-linejoin:round; stroke-width:4; stroke-opacity:1; fill:none\" points=\"2291.66,1486.45 2291.66,1467.55 \"/>\n",
       "<path clip-path=\"url(#clip150)\" d=\"M232.419 1517.37 Q228.808 1517.37 226.979 1520.93 Q225.174 1524.47 225.174 1531.6 Q225.174 1538.71 226.979 1542.27 Q228.808 1545.82 232.419 1545.82 Q236.053 1545.82 237.859 1542.27 Q239.688 1538.71 239.688 1531.6 Q239.688 1524.47 237.859 1520.93 Q236.053 1517.37 232.419 1517.37 M232.419 1513.66 Q238.229 1513.66 241.285 1518.27 Q244.363 1522.85 244.363 1531.6 Q244.363 1540.33 241.285 1544.94 Q238.229 1549.52 232.419 1549.52 Q226.609 1549.52 223.53 1544.94 Q220.475 1540.33 220.475 1531.6 Q220.475 1522.85 223.53 1518.27 Q226.609 1513.66 232.419 1513.66 Z\" fill=\"#000000\" fill-rule=\"nonzero\" fill-opacity=\"1\" /><path clip-path=\"url(#clip150)\" d=\"M252.581 1542.97 L257.465 1542.97 L257.465 1548.85 L252.581 1548.85 L252.581 1542.97 Z\" fill=\"#000000\" fill-rule=\"nonzero\" fill-opacity=\"1\" /><path clip-path=\"url(#clip150)\" d=\"M277.65 1517.37 Q274.039 1517.37 272.211 1520.93 Q270.405 1524.47 270.405 1531.6 Q270.405 1538.71 272.211 1542.27 Q274.039 1545.82 277.65 1545.82 Q281.285 1545.82 283.09 1542.27 Q284.919 1538.71 284.919 1531.6 Q284.919 1524.47 283.09 1520.93 Q281.285 1517.37 277.65 1517.37 M277.65 1513.66 Q283.46 1513.66 286.516 1518.27 Q289.595 1522.85 289.595 1531.6 Q289.595 1540.33 286.516 1544.94 Q283.46 1549.52 277.65 1549.52 Q271.84 1549.52 268.761 1544.94 Q265.706 1540.33 265.706 1531.6 Q265.706 1522.85 268.761 1518.27 Q271.84 1513.66 277.65 1513.66 Z\" fill=\"#000000\" fill-rule=\"nonzero\" fill-opacity=\"1\" /><path clip-path=\"url(#clip150)\" d=\"M742.072 1517.37 Q738.461 1517.37 736.633 1520.93 Q734.827 1524.47 734.827 1531.6 Q734.827 1538.71 736.633 1542.27 Q738.461 1545.82 742.072 1545.82 Q745.707 1545.82 747.512 1542.27 Q749.341 1538.71 749.341 1531.6 Q749.341 1524.47 747.512 1520.93 Q745.707 1517.37 742.072 1517.37 M742.072 1513.66 Q747.883 1513.66 750.938 1518.27 Q754.017 1522.85 754.017 1531.6 Q754.017 1540.33 750.938 1544.94 Q747.883 1549.52 742.072 1549.52 Q736.262 1549.52 733.184 1544.94 Q730.128 1540.33 730.128 1531.6 Q730.128 1522.85 733.184 1518.27 Q736.262 1513.66 742.072 1513.66 Z\" fill=\"#000000\" fill-rule=\"nonzero\" fill-opacity=\"1\" /><path clip-path=\"url(#clip150)\" d=\"M762.234 1542.97 L767.119 1542.97 L767.119 1548.85 L762.234 1548.85 L762.234 1542.97 Z\" fill=\"#000000\" fill-rule=\"nonzero\" fill-opacity=\"1\" /><path clip-path=\"url(#clip150)\" d=\"M777.35 1514.29 L795.706 1514.29 L795.706 1518.22 L781.632 1518.22 L781.632 1526.7 Q782.651 1526.35 783.669 1526.19 Q784.688 1526 785.706 1526 Q791.493 1526 794.873 1529.17 Q798.253 1532.34 798.253 1537.76 Q798.253 1543.34 794.78 1546.44 Q791.308 1549.52 784.989 1549.52 Q782.813 1549.52 780.544 1549.15 Q778.299 1548.78 775.892 1548.04 L775.892 1543.34 Q777.975 1544.47 780.197 1545.03 Q782.419 1545.58 784.896 1545.58 Q788.901 1545.58 791.239 1543.48 Q793.577 1541.37 793.577 1537.76 Q793.577 1534.15 791.239 1532.04 Q788.901 1529.94 784.896 1529.94 Q783.021 1529.94 781.146 1530.35 Q779.294 1530.77 777.35 1531.65 L777.35 1514.29 Z\" fill=\"#000000\" fill-rule=\"nonzero\" fill-opacity=\"1\" /><path clip-path=\"url(#clip150)\" d=\"M1240.5 1544.91 L1248.14 1544.91 L1248.14 1518.55 L1239.83 1520.21 L1239.83 1515.95 L1248.09 1514.29 L1252.77 1514.29 L1252.77 1544.91 L1260.41 1544.91 L1260.41 1548.85 L1240.5 1548.85 L1240.5 1544.91 Z\" fill=\"#000000\" fill-rule=\"nonzero\" fill-opacity=\"1\" /><path clip-path=\"url(#clip150)\" d=\"M1269.85 1542.97 L1274.73 1542.97 L1274.73 1548.85 L1269.85 1548.85 L1269.85 1542.97 Z\" fill=\"#000000\" fill-rule=\"nonzero\" fill-opacity=\"1\" /><path clip-path=\"url(#clip150)\" d=\"M1294.92 1517.37 Q1291.31 1517.37 1289.48 1520.93 Q1287.67 1524.47 1287.67 1531.6 Q1287.67 1538.71 1289.48 1542.27 Q1291.31 1545.82 1294.92 1545.82 Q1298.55 1545.82 1300.36 1542.27 Q1302.19 1538.71 1302.19 1531.6 Q1302.19 1524.47 1300.36 1520.93 Q1298.55 1517.37 1294.92 1517.37 M1294.92 1513.66 Q1300.73 1513.66 1303.79 1518.27 Q1306.86 1522.85 1306.86 1531.6 Q1306.86 1540.33 1303.79 1544.94 Q1300.73 1549.52 1294.92 1549.52 Q1289.11 1549.52 1286.03 1544.94 Q1282.98 1540.33 1282.98 1531.6 Q1282.98 1522.85 1286.03 1518.27 Q1289.11 1513.66 1294.92 1513.66 Z\" fill=\"#000000\" fill-rule=\"nonzero\" fill-opacity=\"1\" /><path clip-path=\"url(#clip150)\" d=\"M1750.15 1544.91 L1757.79 1544.91 L1757.79 1518.55 L1749.48 1520.21 L1749.48 1515.95 L1757.74 1514.29 L1762.42 1514.29 L1762.42 1544.91 L1770.06 1544.91 L1770.06 1548.85 L1750.15 1548.85 L1750.15 1544.91 Z\" fill=\"#000000\" fill-rule=\"nonzero\" fill-opacity=\"1\" /><path clip-path=\"url(#clip150)\" d=\"M1779.5 1542.97 L1784.39 1542.97 L1784.39 1548.85 L1779.5 1548.85 L1779.5 1542.97 Z\" fill=\"#000000\" fill-rule=\"nonzero\" fill-opacity=\"1\" /><path clip-path=\"url(#clip150)\" d=\"M1794.62 1514.29 L1812.98 1514.29 L1812.98 1518.22 L1798.9 1518.22 L1798.9 1526.7 Q1799.92 1526.35 1800.94 1526.19 Q1801.96 1526 1802.98 1526 Q1808.76 1526 1812.14 1529.17 Q1815.52 1532.34 1815.52 1537.76 Q1815.52 1543.34 1812.05 1546.44 Q1808.58 1549.52 1802.26 1549.52 Q1800.08 1549.52 1797.81 1549.15 Q1795.57 1548.78 1793.16 1548.04 L1793.16 1543.34 Q1795.24 1544.47 1797.47 1545.03 Q1799.69 1545.58 1802.17 1545.58 Q1806.17 1545.58 1808.51 1543.48 Q1810.85 1541.37 1810.85 1537.76 Q1810.85 1534.15 1808.51 1532.04 Q1806.17 1529.94 1802.17 1529.94 Q1800.29 1529.94 1798.42 1530.35 Q1796.56 1530.77 1794.62 1531.65 L1794.62 1514.29 Z\" fill=\"#000000\" fill-rule=\"nonzero\" fill-opacity=\"1\" /><path clip-path=\"url(#clip150)\" d=\"M2262.9 1544.91 L2279.22 1544.91 L2279.22 1548.85 L2257.27 1548.85 L2257.27 1544.91 Q2259.93 1542.16 2264.52 1537.53 Q2269.12 1532.88 2270.3 1531.53 Q2272.55 1529.01 2273.43 1527.27 Q2274.33 1525.51 2274.33 1523.82 Q2274.33 1521.07 2272.39 1519.33 Q2270.47 1517.6 2267.36 1517.6 Q2265.16 1517.6 2262.71 1518.36 Q2260.28 1519.13 2257.5 1520.68 L2257.5 1515.95 Q2260.33 1514.82 2262.78 1514.24 Q2265.23 1513.66 2267.27 1513.66 Q2272.64 1513.66 2275.84 1516.35 Q2279.03 1519.03 2279.03 1523.52 Q2279.03 1525.65 2278.22 1527.57 Q2277.43 1529.47 2275.33 1532.07 Q2274.75 1532.74 2271.65 1535.95 Q2268.54 1539.15 2262.9 1544.91 Z\" fill=\"#000000\" fill-rule=\"nonzero\" fill-opacity=\"1\" /><path clip-path=\"url(#clip150)\" d=\"M2289.03 1542.97 L2293.91 1542.97 L2293.91 1548.85 L2289.03 1548.85 L2289.03 1542.97 Z\" fill=\"#000000\" fill-rule=\"nonzero\" fill-opacity=\"1\" /><path clip-path=\"url(#clip150)\" d=\"M2314.1 1517.37 Q2310.49 1517.37 2308.66 1520.93 Q2306.85 1524.47 2306.85 1531.6 Q2306.85 1538.71 2308.66 1542.27 Q2310.49 1545.82 2314.1 1545.82 Q2317.73 1545.82 2319.54 1542.27 Q2321.37 1538.71 2321.37 1531.6 Q2321.37 1524.47 2319.54 1520.93 Q2317.73 1517.37 2314.1 1517.37 M2314.1 1513.66 Q2319.91 1513.66 2322.96 1518.27 Q2326.04 1522.85 2326.04 1531.6 Q2326.04 1540.33 2322.96 1544.94 Q2319.91 1549.52 2314.1 1549.52 Q2308.29 1549.52 2305.21 1544.94 Q2302.15 1540.33 2302.15 1531.6 Q2302.15 1522.85 2305.21 1518.27 Q2308.29 1513.66 2314.1 1513.66 Z\" fill=\"#000000\" fill-rule=\"nonzero\" fill-opacity=\"1\" /><polyline clip-path=\"url(#clip152)\" style=\"stroke:#000000; stroke-linecap:round; stroke-linejoin:round; stroke-width:2; stroke-opacity:0.1; fill:none\" points=\"193.936,1445.72 2352.76,1445.72 \"/>\n",
       "<polyline clip-path=\"url(#clip152)\" style=\"stroke:#000000; stroke-linecap:round; stroke-linejoin:round; stroke-width:2; stroke-opacity:0.1; fill:none\" points=\"193.936,1106.28 2352.76,1106.28 \"/>\n",
       "<polyline clip-path=\"url(#clip152)\" style=\"stroke:#000000; stroke-linecap:round; stroke-linejoin:round; stroke-width:2; stroke-opacity:0.1; fill:none\" points=\"193.936,766.846 2352.76,766.846 \"/>\n",
       "<polyline clip-path=\"url(#clip152)\" style=\"stroke:#000000; stroke-linecap:round; stroke-linejoin:round; stroke-width:2; stroke-opacity:0.1; fill:none\" points=\"193.936,427.411 2352.76,427.411 \"/>\n",
       "<polyline clip-path=\"url(#clip152)\" style=\"stroke:#000000; stroke-linecap:round; stroke-linejoin:round; stroke-width:2; stroke-opacity:0.1; fill:none\" points=\"193.936,87.9763 2352.76,87.9763 \"/>\n",
       "<polyline clip-path=\"url(#clip150)\" style=\"stroke:#000000; stroke-linecap:round; stroke-linejoin:round; stroke-width:4; stroke-opacity:1; fill:none\" points=\"193.936,1486.45 193.936,47.2441 \"/>\n",
       "<polyline clip-path=\"url(#clip150)\" style=\"stroke:#000000; stroke-linecap:round; stroke-linejoin:round; stroke-width:4; stroke-opacity:1; fill:none\" points=\"193.936,1445.72 212.834,1445.72 \"/>\n",
       "<polyline clip-path=\"url(#clip150)\" style=\"stroke:#000000; stroke-linecap:round; stroke-linejoin:round; stroke-width:4; stroke-opacity:1; fill:none\" points=\"193.936,1106.28 212.834,1106.28 \"/>\n",
       "<polyline clip-path=\"url(#clip150)\" style=\"stroke:#000000; stroke-linecap:round; stroke-linejoin:round; stroke-width:4; stroke-opacity:1; fill:none\" points=\"193.936,766.846 212.834,766.846 \"/>\n",
       "<polyline clip-path=\"url(#clip150)\" style=\"stroke:#000000; stroke-linecap:round; stroke-linejoin:round; stroke-width:4; stroke-opacity:1; fill:none\" points=\"193.936,427.411 212.834,427.411 \"/>\n",
       "<polyline clip-path=\"url(#clip150)\" style=\"stroke:#000000; stroke-linecap:round; stroke-linejoin:round; stroke-width:4; stroke-opacity:1; fill:none\" points=\"193.936,87.9763 212.834,87.9763 \"/>\n",
       "<path clip-path=\"url(#clip150)\" d=\"M50.9921 1446.17 L80.6679 1446.17 L80.6679 1450.1 L50.9921 1450.1 L50.9921 1446.17 Z\" fill=\"#000000\" fill-rule=\"nonzero\" fill-opacity=\"1\" /><path clip-path=\"url(#clip150)\" d=\"M91.5706 1459.06 L99.2095 1459.06 L99.2095 1432.69 L90.8993 1434.36 L90.8993 1430.1 L99.1632 1428.44 L103.839 1428.44 L103.839 1459.06 L111.478 1459.06 L111.478 1463 L91.5706 1463 L91.5706 1459.06 Z\" fill=\"#000000\" fill-rule=\"nonzero\" fill-opacity=\"1\" /><path clip-path=\"url(#clip150)\" d=\"M120.922 1457.12 L125.807 1457.12 L125.807 1463 L120.922 1463 L120.922 1457.12 Z\" fill=\"#000000\" fill-rule=\"nonzero\" fill-opacity=\"1\" /><path clip-path=\"url(#clip150)\" d=\"M145.992 1431.51 Q142.381 1431.51 140.552 1435.08 Q138.746 1438.62 138.746 1445.75 Q138.746 1452.86 140.552 1456.42 Q142.381 1459.96 145.992 1459.96 Q149.626 1459.96 151.431 1456.42 Q153.26 1452.86 153.26 1445.75 Q153.26 1438.62 151.431 1435.08 Q149.626 1431.51 145.992 1431.51 M145.992 1427.81 Q151.802 1427.81 154.857 1432.42 Q157.936 1437 157.936 1445.75 Q157.936 1454.48 154.857 1459.08 Q151.802 1463.67 145.992 1463.67 Q140.181 1463.67 137.103 1459.08 Q134.047 1454.48 134.047 1445.75 Q134.047 1437 137.103 1432.42 Q140.181 1427.81 145.992 1427.81 Z\" fill=\"#000000\" fill-rule=\"nonzero\" fill-opacity=\"1\" /><path clip-path=\"url(#clip150)\" d=\"M51.9875 1106.73 L81.6633 1106.73 L81.6633 1110.67 L51.9875 1110.67 L51.9875 1106.73 Z\" fill=\"#000000\" fill-rule=\"nonzero\" fill-opacity=\"1\" /><path clip-path=\"url(#clip150)\" d=\"M101.756 1092.08 Q98.1447 1092.08 96.316 1095.64 Q94.5104 1099.19 94.5104 1106.32 Q94.5104 1113.42 96.316 1116.99 Q98.1447 1120.53 101.756 1120.53 Q105.39 1120.53 107.196 1116.99 Q109.024 1113.42 109.024 1106.32 Q109.024 1099.19 107.196 1095.64 Q105.39 1092.08 101.756 1092.08 M101.756 1088.38 Q107.566 1088.38 110.621 1092.98 Q113.7 1097.57 113.7 1106.32 Q113.7 1115.04 110.621 1119.65 Q107.566 1124.23 101.756 1124.23 Q95.9456 1124.23 92.8669 1119.65 Q89.8114 1115.04 89.8114 1106.32 Q89.8114 1097.57 92.8669 1092.98 Q95.9456 1088.38 101.756 1088.38 Z\" fill=\"#000000\" fill-rule=\"nonzero\" fill-opacity=\"1\" /><path clip-path=\"url(#clip150)\" d=\"M121.918 1117.68 L126.802 1117.68 L126.802 1123.56 L121.918 1123.56 L121.918 1117.68 Z\" fill=\"#000000\" fill-rule=\"nonzero\" fill-opacity=\"1\" /><path clip-path=\"url(#clip150)\" d=\"M137.033 1089 L155.39 1089 L155.39 1092.94 L141.316 1092.94 L141.316 1101.41 Q142.334 1101.06 143.353 1100.9 Q144.371 1100.71 145.39 1100.71 Q151.177 1100.71 154.556 1103.89 Q157.936 1107.06 157.936 1112.47 Q157.936 1118.05 154.464 1121.15 Q150.992 1124.23 144.672 1124.23 Q142.496 1124.23 140.228 1123.86 Q137.982 1123.49 135.575 1122.75 L135.575 1118.05 Q137.658 1119.19 139.881 1119.74 Q142.103 1120.3 144.58 1120.3 Q148.584 1120.3 150.922 1118.19 Q153.26 1116.08 153.26 1112.47 Q153.26 1108.86 150.922 1106.76 Q148.584 1104.65 144.58 1104.65 Q142.705 1104.65 140.83 1105.07 Q138.978 1105.48 137.033 1106.36 L137.033 1089 Z\" fill=\"#000000\" fill-rule=\"nonzero\" fill-opacity=\"1\" /><path clip-path=\"url(#clip150)\" d=\"M100.76 752.645 Q97.1493 752.645 95.3206 756.209 Q93.515 759.751 93.515 766.881 Q93.515 773.987 95.3206 777.552 Q97.1493 781.094 100.76 781.094 Q104.395 781.094 106.2 777.552 Q108.029 773.987 108.029 766.881 Q108.029 759.751 106.2 756.209 Q104.395 752.645 100.76 752.645 M100.76 748.941 Q106.571 748.941 109.626 753.547 Q112.705 758.131 112.705 766.881 Q112.705 775.608 109.626 780.214 Q106.571 784.797 100.76 784.797 Q94.9502 784.797 91.8715 780.214 Q88.816 775.608 88.816 766.881 Q88.816 758.131 91.8715 753.547 Q94.9502 748.941 100.76 748.941 Z\" fill=\"#000000\" fill-rule=\"nonzero\" fill-opacity=\"1\" /><path clip-path=\"url(#clip150)\" d=\"M120.922 778.246 L125.807 778.246 L125.807 784.126 L120.922 784.126 L120.922 778.246 Z\" fill=\"#000000\" fill-rule=\"nonzero\" fill-opacity=\"1\" /><path clip-path=\"url(#clip150)\" d=\"M145.992 752.645 Q142.381 752.645 140.552 756.209 Q138.746 759.751 138.746 766.881 Q138.746 773.987 140.552 777.552 Q142.381 781.094 145.992 781.094 Q149.626 781.094 151.431 777.552 Q153.26 773.987 153.26 766.881 Q153.26 759.751 151.431 756.209 Q149.626 752.645 145.992 752.645 M145.992 748.941 Q151.802 748.941 154.857 753.547 Q157.936 758.131 157.936 766.881 Q157.936 775.608 154.857 780.214 Q151.802 784.797 145.992 784.797 Q140.181 784.797 137.103 780.214 Q134.047 775.608 134.047 766.881 Q134.047 758.131 137.103 753.547 Q140.181 748.941 145.992 748.941 Z\" fill=\"#000000\" fill-rule=\"nonzero\" fill-opacity=\"1\" /><path clip-path=\"url(#clip150)\" d=\"M101.756 413.21 Q98.1447 413.21 96.316 416.775 Q94.5104 420.316 94.5104 427.446 Q94.5104 434.552 96.316 438.117 Q98.1447 441.659 101.756 441.659 Q105.39 441.659 107.196 438.117 Q109.024 434.552 109.024 427.446 Q109.024 420.316 107.196 416.775 Q105.39 413.21 101.756 413.21 M101.756 409.506 Q107.566 409.506 110.621 414.113 Q113.7 418.696 113.7 427.446 Q113.7 436.173 110.621 440.779 Q107.566 445.362 101.756 445.362 Q95.9456 445.362 92.8669 440.779 Q89.8114 436.173 89.8114 427.446 Q89.8114 418.696 92.8669 414.113 Q95.9456 409.506 101.756 409.506 Z\" fill=\"#000000\" fill-rule=\"nonzero\" fill-opacity=\"1\" /><path clip-path=\"url(#clip150)\" d=\"M121.918 438.812 L126.802 438.812 L126.802 444.691 L121.918 444.691 L121.918 438.812 Z\" fill=\"#000000\" fill-rule=\"nonzero\" fill-opacity=\"1\" /><path clip-path=\"url(#clip150)\" d=\"M137.033 410.131 L155.39 410.131 L155.39 414.066 L141.316 414.066 L141.316 422.538 Q142.334 422.191 143.353 422.029 Q144.371 421.844 145.39 421.844 Q151.177 421.844 154.556 425.015 Q157.936 428.187 157.936 433.603 Q157.936 439.182 154.464 442.284 Q150.992 445.362 144.672 445.362 Q142.496 445.362 140.228 444.992 Q137.982 444.622 135.575 443.881 L135.575 439.182 Q137.658 440.316 139.881 440.872 Q142.103 441.427 144.58 441.427 Q148.584 441.427 150.922 439.321 Q153.26 437.214 153.26 433.603 Q153.26 429.992 150.922 427.886 Q148.584 425.779 144.58 425.779 Q142.705 425.779 140.83 426.196 Q138.978 426.613 137.033 427.492 L137.033 410.131 Z\" fill=\"#000000\" fill-rule=\"nonzero\" fill-opacity=\"1\" /><path clip-path=\"url(#clip150)\" d=\"M91.5706 101.321 L99.2095 101.321 L99.2095 74.9555 L90.8993 76.6222 L90.8993 72.3629 L99.1632 70.6963 L103.839 70.6963 L103.839 101.321 L111.478 101.321 L111.478 105.256 L91.5706 105.256 L91.5706 101.321 Z\" fill=\"#000000\" fill-rule=\"nonzero\" fill-opacity=\"1\" /><path clip-path=\"url(#clip150)\" d=\"M120.922 99.3767 L125.807 99.3767 L125.807 105.256 L120.922 105.256 L120.922 99.3767 Z\" fill=\"#000000\" fill-rule=\"nonzero\" fill-opacity=\"1\" /><path clip-path=\"url(#clip150)\" d=\"M145.992 73.775 Q142.381 73.775 140.552 77.3398 Q138.746 80.8814 138.746 88.011 Q138.746 95.1174 140.552 98.6822 Q142.381 102.224 145.992 102.224 Q149.626 102.224 151.431 98.6822 Q153.26 95.1174 153.26 88.011 Q153.26 80.8814 151.431 77.3398 Q149.626 73.775 145.992 73.775 M145.992 70.0713 Q151.802 70.0713 154.857 74.6777 Q157.936 79.261 157.936 88.011 Q157.936 96.7378 154.857 101.344 Q151.802 105.928 145.992 105.928 Q140.181 105.928 137.103 101.344 Q134.047 96.7378 134.047 88.011 Q134.047 79.261 137.103 74.6777 Q140.181 70.0713 145.992 70.0713 Z\" fill=\"#000000\" fill-rule=\"nonzero\" fill-opacity=\"1\" /><polyline clip-path=\"url(#clip152)\" style=\"stroke:#009af9; stroke-linecap:round; stroke-linejoin:round; stroke-width:4; stroke-opacity:1; fill:none\" points=\"255.035,87.9763 356.866,155.863 458.697,223.75 560.528,291.637 662.359,359.524 764.19,427.411 866.021,495.298 967.853,563.185 1069.68,631.072 1171.51,682.912 1273.35,720.517 1375.18,747.187 1477.01,765.58 1578.84,777.824 1680.67,785.608 1782.5,790.259 1884.33,792.804 1986.16,794.021 2087.99,794.483 2189.83,794.589 2291.66,794.589 \"/>\n",
       "<polyline clip-path=\"url(#clip152)\" style=\"stroke:#e26f46; stroke-linecap:round; stroke-linejoin:round; stroke-width:4; stroke-opacity:1; fill:none\" points=\"255.035,1445.72 356.866,1445.72 458.697,1445.72 560.528,1445.72 662.359,1445.72 764.19,1445.72 866.021,1445.72 967.853,1445.72 1069.68,1285.24 1171.51,1142.9 1273.35,1033.54 1375.18,950.774 1477.01,889.286 1578.84,844.688 1680.67,813.356 1782.5,792.292 1884.33,779.018 1986.16,771.468 2087.99,767.907 2189.83,766.846 \"/>\n",
       "<path clip-path=\"url(#clip150)\" d=\"M1986.72 250.738 L2280.8 250.738 L2280.8 95.2176 L1986.72 95.2176  Z\" fill=\"#ffffff\" fill-rule=\"evenodd\" fill-opacity=\"1\"/>\n",
       "<polyline clip-path=\"url(#clip150)\" style=\"stroke:#000000; stroke-linecap:round; stroke-linejoin:round; stroke-width:4; stroke-opacity:1; fill:none\" points=\"1986.72,250.738 2280.8,250.738 2280.8,95.2176 1986.72,95.2176 1986.72,250.738 \"/>\n",
       "<polyline clip-path=\"url(#clip150)\" style=\"stroke:#009af9; stroke-linecap:round; stroke-linejoin:round; stroke-width:4; stroke-opacity:1; fill:none\" points=\"2010.71,147.058 2154.63,147.058 \"/>\n",
       "<path clip-path=\"url(#clip150)\" d=\"M2203.27 138.412 L2193.89 151.027 L2203.75 164.338 L2198.73 164.338 L2191.18 154.152 L2183.64 164.338 L2178.61 164.338 L2188.68 150.773 L2179.47 138.412 L2184.49 138.412 L2191.37 147.648 L2198.24 138.412 L2203.27 138.412 Z\" fill=\"#000000\" fill-rule=\"nonzero\" fill-opacity=\"1\" /><path clip-path=\"url(#clip150)\" d=\"M2220 128.366 Q2216.9 133.69 2215.4 138.898 Q2213.89 144.106 2213.89 149.453 Q2213.89 154.801 2215.4 160.055 Q2216.92 165.287 2220 170.588 L2216.3 170.588 Q2212.83 165.148 2211.09 159.893 Q2209.38 154.639 2209.38 149.453 Q2209.38 144.291 2211.09 139.06 Q2212.8 133.828 2216.3 128.366 L2220 128.366 Z\" fill=\"#000000\" fill-rule=\"nonzero\" fill-opacity=\"1\" /><path clip-path=\"url(#clip150)\" d=\"M2232.48 131.051 L2232.48 138.412 L2241.25 138.412 L2241.25 141.722 L2232.48 141.722 L2232.48 155.796 Q2232.48 158.967 2233.34 159.87 Q2234.22 160.773 2236.88 160.773 L2241.25 160.773 L2241.25 164.338 L2236.88 164.338 Q2231.95 164.338 2230.07 162.509 Q2228.2 160.657 2228.2 155.796 L2228.2 141.722 L2225.07 141.722 L2225.07 138.412 L2228.2 138.412 L2228.2 131.051 L2232.48 131.051 Z\" fill=\"#000000\" fill-rule=\"nonzero\" fill-opacity=\"1\" /><path clip-path=\"url(#clip150)\" d=\"M2246.18 128.366 L2249.89 128.366 Q2253.36 133.828 2255.07 139.06 Q2256.81 144.291 2256.81 149.453 Q2256.81 154.639 2255.07 159.893 Q2253.36 165.148 2249.89 170.588 L2246.18 170.588 Q2249.26 165.287 2250.77 160.055 Q2252.29 154.801 2252.29 149.453 Q2252.29 144.106 2250.77 138.898 Q2249.26 133.69 2246.18 128.366 Z\" fill=\"#000000\" fill-rule=\"nonzero\" fill-opacity=\"1\" /><polyline clip-path=\"url(#clip150)\" style=\"stroke:#e26f46; stroke-linecap:round; stroke-linejoin:round; stroke-width:4; stroke-opacity:1; fill:none\" points=\"2010.71,198.898 2154.63,198.898 \"/>\n",
       "<path clip-path=\"url(#clip150)\" d=\"M2178.61 205.946 L2178.61 190.252 L2182.87 190.252 L2182.87 205.784 Q2182.87 209.465 2184.31 211.316 Q2185.74 213.145 2188.61 213.145 Q2192.06 213.145 2194.05 210.946 Q2196.07 208.747 2196.07 204.951 L2196.07 190.252 L2200.33 190.252 L2200.33 216.178 L2196.07 216.178 L2196.07 212.196 Q2194.52 214.557 2192.46 215.715 Q2190.42 216.849 2187.71 216.849 Q2183.24 216.849 2180.93 214.071 Q2178.61 211.293 2178.61 205.946 M2189.33 189.627 L2189.33 189.627 Z\" fill=\"#000000\" fill-rule=\"nonzero\" fill-opacity=\"1\" /><path clip-path=\"url(#clip150)\" d=\"M2219.33 180.206 Q2216.23 185.53 2214.73 190.738 Q2213.22 195.946 2213.22 201.293 Q2213.22 206.641 2214.73 211.895 Q2216.25 217.127 2219.33 222.428 L2215.63 222.428 Q2212.16 216.988 2210.42 211.733 Q2208.71 206.479 2208.71 201.293 Q2208.71 196.131 2210.42 190.9 Q2212.13 185.668 2215.63 180.206 L2219.33 180.206 Z\" fill=\"#000000\" fill-rule=\"nonzero\" fill-opacity=\"1\" /><path clip-path=\"url(#clip150)\" d=\"M2231.81 182.891 L2231.81 190.252 L2240.58 190.252 L2240.58 193.562 L2231.81 193.562 L2231.81 207.636 Q2231.81 210.807 2232.66 211.71 Q2233.54 212.613 2236.21 212.613 L2240.58 212.613 L2240.58 216.178 L2236.21 216.178 Q2231.28 216.178 2229.4 214.349 Q2227.53 212.497 2227.53 207.636 L2227.53 193.562 L2224.4 193.562 L2224.4 190.252 L2227.53 190.252 L2227.53 182.891 L2231.81 182.891 Z\" fill=\"#000000\" fill-rule=\"nonzero\" fill-opacity=\"1\" /><path clip-path=\"url(#clip150)\" d=\"M2245.51 180.206 L2249.22 180.206 Q2252.69 185.668 2254.4 190.9 Q2256.14 196.131 2256.14 201.293 Q2256.14 206.479 2254.4 211.733 Q2252.69 216.988 2249.22 222.428 L2245.51 222.428 Q2248.59 217.127 2250.1 211.895 Q2251.62 206.641 2251.62 201.293 Q2251.62 195.946 2250.1 190.738 Q2248.59 185.53 2245.51 180.206 Z\" fill=\"#000000\" fill-rule=\"nonzero\" fill-opacity=\"1\" /></svg>\n"
      ]
     },
     "execution_count": 44,
     "metadata": {},
     "output_type": "execute_result"
    }
   ],
   "source": [
    "using Plots\n",
    "plot(h*(0:20),xsopt[1,:],label=\"x(t)\")\n",
    "plot!(h*(0:19),uopt[1,:],label=\"u(t)\")"
   ]
  }
 ],
 "metadata": {
  "kernelspec": {
   "display_name": "Julia 1.10.2",
   "language": "julia",
   "name": "julia-1.10"
  },
  "language_info": {
   "file_extension": ".jl",
   "mimetype": "application/julia",
   "name": "julia",
   "version": "1.10.2"
  }
 },
 "nbformat": 4,
 "nbformat_minor": 5
}

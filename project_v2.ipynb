{
 "cells": [
  {
   "cell_type": "code",
   "execution_count": 1,
   "id": "673c8607-2d9f-4fb7-89b9-afe3124ddfa7",
   "metadata": {},
   "outputs": [],
   "source": [
    "using LinearAlgebra, Plots"
   ]
  },
  {
   "cell_type": "markdown",
   "id": "495c9590-f30d-4468-b152-22c8d198fac2",
   "metadata": {},
   "source": [
    "## Optimal Fishing Effort\n",
    "\n",
    "#### Minimization problem: \n",
    "$\\quad$ $\\min_u{g(\\textbf{x}(T))}$ subject to $\\frac{d\\textbf{x}}{dt} = \\textbf{F}(\\textbf{x}(t), \\textbf{u}(t))$, $x(0) = x_0$\n",
    "#### where\n",
    "$\\quad$ $\\textbf{F}(\\textbf{x}(t), \\textbf{u}(t)) = \\begin{bmatrix} \\alpha f(f_{max}-f)-\\beta f u \\\\ \\delta m + \\beta f u \\end{bmatrix} \\;$ , $\\beta = 1, f_{max}=f_{0}=1$\n",
    "\n",
    "\n",
    "#### Where our objective function is \n",
    "$\\quad$ $g(\\begin{bmatrix} f \\\\ m\\end{bmatrix}) = -m(T)$\n",
    "\n",
    "#### And the gradient is \n",
    "$\\quad$ $\\nabla g(\\begin{bmatrix} f \\\\ m\\end{bmatrix}) = \\begin{bmatrix} 0 \\\\ 1 \\end{bmatrix}$"
   ]
  },
  {
   "cell_type": "code",
   "execution_count": 2,
   "id": "82bcf7f7-a2e0-45a6-93b2-9dfb3c321b08",
   "metadata": {},
   "outputs": [
    {
     "data": {
      "text/plain": [
       "dg (generic function with 1 method)"
      ]
     },
     "execution_count": 2,
     "metadata": {},
     "output_type": "execute_result"
    }
   ],
   "source": [
    "function F(t::Any,xv::Vector{Float64}, u::Float64, params::Dict{String,Real})\n",
    "    f = xv[1]\n",
    "    m = xv[2]\n",
    "    alpha = get(params,\"alpha\",0.1)\n",
    "    beta = get(params,\"beta\",0.5)\n",
    "    delta = get(params,\"delta\",0.05)\n",
    "    \n",
    "    return [\n",
    "        alpha * f * (1 - f) - beta * f * u, \n",
    "        delta * m + beta * f * u\n",
    "    ]\n",
    "end\n",
    "\n",
    "function dg(x::Any)\n",
    "    return [\n",
    "        0,\n",
    "        1\n",
    "    ]\n",
    "end"
   ]
  },
  {
   "cell_type": "markdown",
   "id": "af88f4a2-15f2-4bfb-98f8-a3137349dcd9",
   "metadata": {},
   "source": [
    "#### Derivative of $\\textbf{F}$ with respect to $\\textbf{x}$\n",
    "$\\quad$ $\\nabla_{x} \\textbf{F}(t, \\textbf{x}, \\textbf{u}) = \\begin{bmatrix} \\alpha -2 \\alpha f - u  && 0  \\\\ u  && \\delta \\end{bmatrix}$"
   ]
  },
  {
   "cell_type": "code",
   "execution_count": 22,
   "id": "1f931b72-7bc8-4f43-8c64-36e9dfb5ee3a",
   "metadata": {},
   "outputs": [
    {
     "data": {
      "text/plain": [
       "jacF (generic function with 1 method)"
      ]
     },
     "execution_count": 22,
     "metadata": {},
     "output_type": "execute_result"
    }
   ],
   "source": [
    "function jacF(xv::Vector{Float64}, u::Float64, params::Dict{String,Real})\n",
    "    alpha = get(params,\"alpha\",0.1)\n",
    "    beta = get(params,\"beta\",0.5)\n",
    "    delta = get(params,\"delta\",0.05)\n",
    "\n",
    "    f, _ = xv\n",
    "    return [-alpha * (1 - 2*f) + beta * u  beta * f;  \n",
    "            beta * u                       delta]\n",
    "end"
   ]
  },
  {
   "cell_type": "markdown",
   "id": "d7347321-59d7-4791-a27e-941604b3f796",
   "metadata": {},
   "source": [
    "#### Derivative of $\\textbf{F}$ with respect to $\\textbf{u}$\n",
    "$\\quad$ $\\nabla_{u} \\textbf{F}(t, \\textbf{x}, \\textbf{u}) = \\begin{bmatrix} -\\beta f \\\\ \\beta f \\end{bmatrix}$"
   ]
  },
  {
   "cell_type": "code",
   "execution_count": 4,
   "id": "7ab452b5-ce96-467b-9307-9714bac84870",
   "metadata": {},
   "outputs": [
    {
     "data": {
      "text/plain": [
       "dFdu (generic function with 1 method)"
      ]
     },
     "execution_count": 4,
     "metadata": {},
     "output_type": "execute_result"
    }
   ],
   "source": [
    "function dFdu(x::Vector{Float64}, u::Float64, params::Dict{String,Real})\n",
    "    f = x[1]\n",
    "    alpha = get(params,\"alpha\",0.1)\n",
    "    beta = get(params,\"beta\",0.5)\n",
    "    delta = get(params,\"delta\",0.05)\n",
    "\n",
    "    return [\n",
    "        -beta * f,\n",
    "        beta * f\n",
    "    ]\n",
    "end"
   ]
  },
  {
   "cell_type": "markdown",
   "id": "f29f696b-b590-436e-84a2-b98d0f0bcae0",
   "metadata": {},
   "source": [
    "#### Discretization via Euler's Method\n",
    "$\\quad$ $\\textbf{x}_{k+1} = \\textbf{x} + h\\textbf{F}(\\textbf{x}_{k},\\textbf{u}_{k})$\n",
    "\n",
    "This allows us to find $\\textbf{x}(T)$ via a forward pass"
   ]
  },
  {
   "cell_type": "code",
   "execution_count": 5,
   "id": "85f47153-8a3c-4612-86d1-4d7e48379e49",
   "metadata": {},
   "outputs": [
    {
     "data": {
      "text/plain": [
       "forward (generic function with 1 method)"
      ]
     },
     "execution_count": 5,
     "metadata": {},
     "output_type": "execute_result"
    }
   ],
   "source": [
    "function forward(x0::Vector{Float64}, t0::Float64, F::Function, u::Vector{Float64}, params::Dict{String,Real})\n",
    "    N = length(u)\n",
    "    xs = zeros(eltype(x0), N+1, length(x0))\n",
    "    xs[1, :] = x0\n",
    "    h = get(params,\"h\",0.1)\n",
    "    for i in 1:N\n",
    "        t = t0 + h*i\n",
    "        xs[i+1, :] = xs[i, :] + h*F(t, xs[i, :], u[i],params)\n",
    "    end\n",
    "    return xs\n",
    "end"
   ]
  },
  {
   "cell_type": "markdown",
   "id": "e21f9b1f-c596-4c07-97f2-1b5f72c590c2",
   "metadata": {},
   "source": [
    "#### Lagrange Multiplier Equations\n",
    "$\\quad$ $\\lambda_{k-1} = \\lambda_{k} + h\\nabla_{x} \\textbf{F}(\\textbf{x}_k, \\textbf{u}_k)^T \\lambda$\n",
    "\n",
    "Moving backwards from the last $\\lambda$ fills in the rest of the $\\lambda$'s via a backward pass"
   ]
  },
  {
   "cell_type": "code",
   "execution_count": 31,
   "id": "53884045-a1e6-4380-a206-fb703cbdf310",
   "metadata": {},
   "outputs": [
    {
     "data": {
      "text/plain": [
       "backward (generic function with 1 method)"
      ]
     },
     "execution_count": 31,
     "metadata": {},
     "output_type": "execute_result"
    }
   ],
   "source": [
    "function backward(xv, u,grad_g::Function, jacF::Function,params::Dict{String,Real})\n",
    "    N = size(xv, 1) - 1\n",
    "    lambdas = zeros(Float64, N, size(xv, 2))\n",
    "    lambdas[end, :] = dg(xv[end, :])\n",
    "    h = get(params,\"h\",0.1)\n",
    "    for k in N-1:-1:1\n",
    "        lambdas[k, :] = lambdas[k+1,:] + h * jacF(xv[k+1, :], u[k+1],params)'*lambdas[k+1,:]\n",
    "\n",
    "    end\n",
    "    return lambdas\n",
    "end"
   ]
  },
  {
   "cell_type": "code",
   "execution_count": 63,
   "id": "e30c8e92-b4b6-4104-ad1d-12a69678870c",
   "metadata": {},
   "outputs": [
    {
     "data": {
      "text/plain": [
       "du (generic function with 3 methods)"
      ]
     },
     "execution_count": 63,
     "metadata": {},
     "output_type": "execute_result"
    }
   ],
   "source": [
    "function du(lambdas, xv, u, dFdu::Function,params::Dict{String,Real})\n",
    "    grad_u = zeros(length(u))\n",
    "    h = get(params,\"h\",0.1)\n",
    "    for k in 1:length(u)\n",
    "        grad_u[k] = dot(lambdas[k, :], dFdu(xv[k, :], u[k],params)) * h\n",
    "    end\n",
    "    return grad_u\n",
    "end"
   ]
  },
  {
   "cell_type": "code",
   "execution_count": 99,
   "id": "25e4492c-02e7-46b5-8999-c1bdc3291d26",
   "metadata": {},
   "outputs": [
    {
     "data": {
      "text/plain": [
       "gradient_descent (generic function with 2 methods)"
      ]
     },
     "execution_count": 99,
     "metadata": {},
     "output_type": "execute_result"
    }
   ],
   "source": [
    "function gradient_descent(u, grad_u, step_size, umin, umax)\n",
    "    u_new = u - step_size * grad_u\n",
    "    return clamp.(u_new, umin, umax)\n",
    "end"
   ]
  },
  {
   "cell_type": "code",
   "execution_count": 77,
   "id": "5e9d3dbb-30c6-4f62-b3ab-84874e9c2825",
   "metadata": {},
   "outputs": [
    {
     "data": {
      "text/plain": [
       "line_search (generic function with 1 method)"
      ]
     },
     "execution_count": 77,
     "metadata": {},
     "output_type": "execute_result"
    }
   ],
   "source": [
    "function line_search(u, d, grad_u, objective_func, c1, alpha, beta, umax, F, x0, t0, h)\n",
    "    u_new = clamp.(u + alpha * d, -umax, umax)  # Initialize u_new for the first iteration\n",
    "    G_current = calculate_objective(u, x0, t0, F, h)\n",
    "\n",
    "    while true\n",
    "        G_new = calculate_objective(u_new, x0, t0, F, h)\n",
    "        if G_new <= G_current + c1 * alpha * dot(grad_u, d)\n",
    "            break  # Sufficient decrease condition met\n",
    "        end\n",
    "        alpha *= beta  # Reduce step size\n",
    "        if alpha < 1e-8  # Avoid infinite loops, ensure that u_new is defined even if loop breaks here\n",
    "            break\n",
    "        end\n",
    "        u_new = clamp.(u + alpha * d, -umax, umax)  # Update u_new within the loop\n",
    "    end\n",
    "    return u_new, alpha\n",
    "end"
   ]
  },
  {
   "cell_type": "code",
   "execution_count": 94,
   "id": "193afacc-97b6-4905-b60c-79637279ad10",
   "metadata": {},
   "outputs": [
    {
     "data": {
      "text/plain": [
       "g (generic function with 1 method)"
      ]
     },
     "execution_count": 94,
     "metadata": {},
     "output_type": "execute_result"
    }
   ],
   "source": [
    "function g(u, x0, t0, F::Function, h)\n",
    "    xv = forward(x0, t0, F, u, h)\n",
    "    return states[end, 2]  # Assuming we're minimizing the second state variable at the final time\n",
    "end"
   ]
  },
  {
   "cell_type": "code",
   "execution_count": 97,
   "id": "72a4c883-954c-4c45-b3ec-334bac27f5e5",
   "metadata": {},
   "outputs": [
    {
     "data": {
      "text/plain": [
       "optimize (generic function with 3 methods)"
      ]
     },
     "execution_count": 97,
     "metadata": {},
     "output_type": "execute_result"
    }
   ],
   "source": [
    "function optimize()\n",
    "    N = 400  # Number of steps\n",
    "    T = 40.0  # Total time in years\n",
    "    h = T / N\n",
    "    x0 = [1.0, 0.0]  # Initial conditions\n",
    "    u = fill(0.5, N)  # Start with half the maximum effort\n",
    "    umin, umax = 0.0, 1.0  # Control limits\n",
    "    states = nothing\n",
    "    params = Dict(\n",
    "        \"alpha\"=>0.05,\n",
    "        \"beta\"=>0.5,\n",
    "        \"delta\"=>0.05,\n",
    "        \"umin\"=>0.0,\n",
    "        \"umax\"=>0.5,\n",
    "        \"N\"=>N,\n",
    "        \"h\"=>h,\n",
    "    )\n",
    "    for iteration in 1:1000\n",
    "        xv = forward(x0, 0.0, F, u, params)\n",
    "        lambdas = backward(xv, u, dg, jacF,params)\n",
    "        grad_u = du(lambdas, xv, u, h, dFdu,params)\n",
    "        u = gradient_descent(u, grad_u, h, umin, umax)\n",
    "    end\n",
    "\n",
    "    return u, states\n",
    "end"
   ]
  },
  {
   "cell_type": "code",
   "execution_count": 98,
   "id": "2dd22e22-dc32-426f-9e18-a94fdfef611f",
   "metadata": {},
   "outputs": [
    {
     "data": {
      "text/plain": [
       "([1.0, 1.0, 1.0, 1.0, 1.0, 1.0, 1.0, 1.0, 1.0, 1.0  …  0.4999821249088238, 0.499981929193184, 0.4999817634573618, 0.4999816259708532, 0.49998151508481953, 0.49998142922854877, 0.4999813669060466, 0.4999813266927857, 0.4999813072325846, 0.4999813072346106], nothing)"
      ]
     },
     "execution_count": 98,
     "metadata": {},
     "output_type": "execute_result"
    }
   ],
   "source": [
    "optimize()"
   ]
  },
  {
   "cell_type": "code",
   "execution_count": 93,
   "id": "22e54f4f-26c9-451d-b7ce-34a0a1c34baf",
   "metadata": {},
   "outputs": [
    {
     "data": {
      "image/png": "[encoded data removed]",
      "image/svg+xml": [
       "<?xml version=\"1.0\" encoding=\"utf-8\"?>\n",
       "<svg xmlns=\"http://www.w3.org/2000/svg\" xmlns:xlink=\"http://www.w3.org/1999/xlink\" width=\"600\" height=\"400\" viewBox=\"0 0 2400 1600\">\n",
       "<defs>\n",
       "  <clipPath id=\"clip990\">\n",
       "    <rect x=\"0\" y=\"0\" width=\"2400\" height=\"1600\"/>\n",
       "  </clipPath>\n",
       "</defs>\n",
       "<path clip-path=\"url(#clip990)\" d=\"M0 1600 L2400 1600 L2400 8.88178e-14 L0 8.88178e-14  Z\" fill=\"#ffffff\" fill-rule=\"evenodd\" fill-opacity=\"1\"/>\n",
       "<defs>\n",
       "  <clipPath id=\"clip991\">\n",
       "    <rect x=\"480\" y=\"0\" width=\"1681\" height=\"1600\"/>\n",
       "  </clipPath>\n",
       "</defs>\n",
       "<path clip-path=\"url(#clip990)\" d=\"M156.274 1486.45 L2352.76 1486.45 L2352.76 47.2441 L156.274 47.2441  Z\" fill=\"#ffffff\" fill-rule=\"evenodd\" fill-opacity=\"1\"/>\n",
       "<defs>\n",
       "  <clipPath id=\"clip992\">\n",
       "    <rect x=\"156\" y=\"47\" width=\"2197\" height=\"1440\"/>\n",
       "  </clipPath>\n",
       "</defs>\n",
       "<polyline clip-path=\"url(#clip992)\" style=\"stroke:#000000; stroke-linecap:round; stroke-linejoin:round; stroke-width:2; stroke-opacity:0.1; fill:none\" points=\"213.245,1486.45 213.245,47.2441 \"/>\n",
       "<polyline clip-path=\"url(#clip992)\" style=\"stroke:#000000; stroke-linecap:round; stroke-linejoin:round; stroke-width:2; stroke-opacity:0.1; fill:none\" points=\"732.582,1486.45 732.582,47.2441 \"/>\n",
       "<polyline clip-path=\"url(#clip992)\" style=\"stroke:#000000; stroke-linecap:round; stroke-linejoin:round; stroke-width:2; stroke-opacity:0.1; fill:none\" points=\"1251.92,1486.45 1251.92,47.2441 \"/>\n",
       "<polyline clip-path=\"url(#clip992)\" style=\"stroke:#000000; stroke-linecap:round; stroke-linejoin:round; stroke-width:2; stroke-opacity:0.1; fill:none\" points=\"1771.25,1486.45 1771.25,47.2441 \"/>\n",
       "<polyline clip-path=\"url(#clip992)\" style=\"stroke:#000000; stroke-linecap:round; stroke-linejoin:round; stroke-width:2; stroke-opacity:0.1; fill:none\" points=\"2290.59,1486.45 2290.59,47.2441 \"/>\n",
       "<polyline clip-path=\"url(#clip990)\" style=\"stroke:#000000; stroke-linecap:round; stroke-linejoin:round; stroke-width:4; stroke-opacity:1; fill:none\" points=\"156.274,1486.45 2352.76,1486.45 \"/>\n",
       "<polyline clip-path=\"url(#clip990)\" style=\"stroke:#000000; stroke-linecap:round; stroke-linejoin:round; stroke-width:4; stroke-opacity:1; fill:none\" points=\"213.245,1486.45 213.245,1467.55 \"/>\n",
       "<polyline clip-path=\"url(#clip990)\" style=\"stroke:#000000; stroke-linecap:round; stroke-linejoin:round; stroke-width:4; stroke-opacity:1; fill:none\" points=\"732.582,1486.45 732.582,1467.55 \"/>\n",
       "<polyline clip-path=\"url(#clip990)\" style=\"stroke:#000000; stroke-linecap:round; stroke-linejoin:round; stroke-width:4; stroke-opacity:1; fill:none\" points=\"1251.92,1486.45 1251.92,1467.55 \"/>\n",
       "<polyline clip-path=\"url(#clip990)\" style=\"stroke:#000000; stroke-linecap:round; stroke-linejoin:round; stroke-width:4; stroke-opacity:1; fill:none\" points=\"1771.25,1486.45 1771.25,1467.55 \"/>\n",
       "<polyline clip-path=\"url(#clip990)\" style=\"stroke:#000000; stroke-linecap:round; stroke-linejoin:round; stroke-width:4; stroke-opacity:1; fill:none\" points=\"2290.59,1486.45 2290.59,1467.55 \"/>\n",
       "<path clip-path=\"url(#clip990)\" d=\"M213.245 1517.37 Q209.634 1517.37 207.806 1520.93 Q206 1524.47 206 1531.6 Q206 1538.71 207.806 1542.27 Q209.634 1545.82 213.245 1545.82 Q216.88 1545.82 218.685 1542.27 Q220.514 1538.71 220.514 1531.6 Q220.514 1524.47 218.685 1520.93 Q216.88 1517.37 213.245 1517.37 M213.245 1513.66 Q219.056 1513.66 222.111 1518.27 Q225.19 1522.85 225.19 1531.6 Q225.19 1540.33 222.111 1544.94 Q219.056 1549.52 213.245 1549.52 Q207.435 1549.52 204.357 1544.94 Q201.301 1540.33 201.301 1531.6 Q201.301 1522.85 204.357 1518.27 Q207.435 1513.66 213.245 1513.66 Z\" fill=\"#000000\" fill-rule=\"nonzero\" fill-opacity=\"1\" /><path clip-path=\"url(#clip990)\" d=\"M692.189 1544.91 L699.827 1544.91 L699.827 1518.55 L691.517 1520.21 L691.517 1515.95 L699.781 1514.29 L704.457 1514.29 L704.457 1544.91 L712.096 1544.91 L712.096 1548.85 L692.189 1548.85 L692.189 1544.91 Z\" fill=\"#000000\" fill-rule=\"nonzero\" fill-opacity=\"1\" /><path clip-path=\"url(#clip990)\" d=\"M731.54 1517.37 Q727.929 1517.37 726.1 1520.93 Q724.295 1524.47 724.295 1531.6 Q724.295 1538.71 726.1 1542.27 Q727.929 1545.82 731.54 1545.82 Q735.174 1545.82 736.98 1542.27 Q738.809 1538.71 738.809 1531.6 Q738.809 1524.47 736.98 1520.93 Q735.174 1517.37 731.54 1517.37 M731.54 1513.66 Q737.35 1513.66 740.406 1518.27 Q743.485 1522.85 743.485 1531.6 Q743.485 1540.33 740.406 1544.94 Q737.35 1549.52 731.54 1549.52 Q725.73 1549.52 722.651 1544.94 Q719.596 1540.33 719.596 1531.6 Q719.596 1522.85 722.651 1518.27 Q725.73 1513.66 731.54 1513.66 Z\" fill=\"#000000\" fill-rule=\"nonzero\" fill-opacity=\"1\" /><path clip-path=\"url(#clip990)\" d=\"M761.702 1517.37 Q758.091 1517.37 756.262 1520.93 Q754.457 1524.47 754.457 1531.6 Q754.457 1538.71 756.262 1542.27 Q758.091 1545.82 761.702 1545.82 Q765.336 1545.82 767.142 1542.27 Q768.971 1538.71 768.971 1531.6 Q768.971 1524.47 767.142 1520.93 Q765.336 1517.37 761.702 1517.37 M761.702 1513.66 Q767.512 1513.66 770.568 1518.27 Q773.646 1522.85 773.646 1531.6 Q773.646 1540.33 770.568 1544.94 Q767.512 1549.52 761.702 1549.52 Q755.892 1549.52 752.813 1544.94 Q749.758 1540.33 749.758 1531.6 Q749.758 1522.85 752.813 1518.27 Q755.892 1513.66 761.702 1513.66 Z\" fill=\"#000000\" fill-rule=\"nonzero\" fill-opacity=\"1\" /><path clip-path=\"url(#clip990)\" d=\"M1215.61 1544.91 L1231.93 1544.91 L1231.93 1548.85 L1209.99 1548.85 L1209.99 1544.91 Q1212.65 1542.16 1217.23 1537.53 Q1221.84 1532.88 1223.02 1531.53 Q1225.26 1529.01 1226.14 1527.27 Q1227.05 1525.51 1227.05 1523.82 Q1227.05 1521.07 1225.1 1519.33 Q1223.18 1517.6 1220.08 1517.6 Q1217.88 1517.6 1215.43 1518.36 Q1212.99 1519.13 1210.22 1520.68 L1210.22 1515.95 Q1213.04 1514.82 1215.49 1514.24 Q1217.95 1513.66 1219.99 1513.66 Q1225.36 1513.66 1228.55 1516.35 Q1231.74 1519.03 1231.74 1523.52 Q1231.74 1525.65 1230.93 1527.57 Q1230.15 1529.47 1228.04 1532.07 Q1227.46 1532.74 1224.36 1535.95 Q1221.26 1539.15 1215.61 1544.91 Z\" fill=\"#000000\" fill-rule=\"nonzero\" fill-opacity=\"1\" /><path clip-path=\"url(#clip990)\" d=\"M1251.74 1517.37 Q1248.13 1517.37 1246.3 1520.93 Q1244.5 1524.47 1244.5 1531.6 Q1244.5 1538.71 1246.3 1542.27 Q1248.13 1545.82 1251.74 1545.82 Q1255.38 1545.82 1257.18 1542.27 Q1259.01 1538.71 1259.01 1531.6 Q1259.01 1524.47 1257.18 1520.93 Q1255.38 1517.37 1251.74 1517.37 M1251.74 1513.66 Q1257.55 1513.66 1260.61 1518.27 Q1263.69 1522.85 1263.69 1531.6 Q1263.69 1540.33 1260.61 1544.94 Q1257.55 1549.52 1251.74 1549.52 Q1245.93 1549.52 1242.86 1544.94 Q1239.8 1540.33 1239.8 1531.6 Q1239.8 1522.85 1242.86 1518.27 Q1245.93 1513.66 1251.74 1513.66 Z\" fill=\"#000000\" fill-rule=\"nonzero\" fill-opacity=\"1\" /><path clip-path=\"url(#clip990)\" d=\"M1281.91 1517.37 Q1278.3 1517.37 1276.47 1520.93 Q1274.66 1524.47 1274.66 1531.6 Q1274.66 1538.71 1276.47 1542.27 Q1278.3 1545.82 1281.91 1545.82 Q1285.54 1545.82 1287.35 1542.27 Q1289.18 1538.71 1289.18 1531.6 Q1289.18 1524.47 1287.35 1520.93 Q1285.54 1517.37 1281.91 1517.37 M1281.91 1513.66 Q1287.72 1513.66 1290.77 1518.27 Q1293.85 1522.85 1293.85 1531.6 Q1293.85 1540.33 1290.77 1544.94 Q1287.72 1549.52 1281.91 1549.52 Q1276.1 1549.52 1273.02 1544.94 Q1269.96 1540.33 1269.96 1531.6 Q1269.96 1522.85 1273.02 1518.27 Q1276.1 1513.66 1281.91 1513.66 Z\" fill=\"#000000\" fill-rule=\"nonzero\" fill-opacity=\"1\" /><path clip-path=\"url(#clip990)\" d=\"M1745.02 1530.21 Q1748.37 1530.93 1750.25 1533.2 Q1752.15 1535.47 1752.15 1538.8 Q1752.15 1543.92 1748.63 1546.72 Q1745.11 1549.52 1738.63 1549.52 Q1736.45 1549.52 1734.14 1549.08 Q1731.85 1548.66 1729.39 1547.81 L1729.39 1543.29 Q1731.34 1544.43 1733.65 1545.01 Q1735.97 1545.58 1738.49 1545.58 Q1742.89 1545.58 1745.18 1543.85 Q1747.49 1542.11 1747.49 1538.8 Q1747.49 1535.75 1745.34 1534.03 Q1743.21 1532.3 1739.39 1532.3 L1735.36 1532.3 L1735.36 1528.45 L1739.58 1528.45 Q1743.03 1528.45 1744.85 1527.09 Q1746.68 1525.7 1746.68 1523.11 Q1746.68 1520.45 1744.79 1519.03 Q1742.91 1517.6 1739.39 1517.6 Q1737.47 1517.6 1735.27 1518.01 Q1733.07 1518.43 1730.43 1519.31 L1730.43 1515.14 Q1733.1 1514.4 1735.41 1514.03 Q1737.75 1513.66 1739.81 1513.66 Q1745.13 1513.66 1748.23 1516.09 Q1751.34 1518.5 1751.34 1522.62 Q1751.34 1525.49 1749.69 1527.48 Q1748.05 1529.45 1745.02 1530.21 Z\" fill=\"#000000\" fill-rule=\"nonzero\" fill-opacity=\"1\" /><path clip-path=\"url(#clip990)\" d=\"M1771.01 1517.37 Q1767.4 1517.37 1765.57 1520.93 Q1763.77 1524.47 1763.77 1531.6 Q1763.77 1538.71 1765.57 1542.27 Q1767.4 1545.82 1771.01 1545.82 Q1774.65 1545.82 1776.45 1542.27 Q1778.28 1538.71 1778.28 1531.6 Q1778.28 1524.47 1776.45 1520.93 Q1774.65 1517.37 1771.01 1517.37 M1771.01 1513.66 Q1776.82 1513.66 1779.88 1518.27 Q1782.96 1522.85 1782.96 1531.6 Q1782.96 1540.33 1779.88 1544.94 Q1776.82 1549.52 1771.01 1549.52 Q1765.2 1549.52 1762.12 1544.94 Q1759.07 1540.33 1759.07 1531.6 Q1759.07 1522.85 1762.12 1518.27 Q1765.2 1513.66 1771.01 1513.66 Z\" fill=\"#000000\" fill-rule=\"nonzero\" fill-opacity=\"1\" /><path clip-path=\"url(#clip990)\" d=\"M1801.17 1517.37 Q1797.56 1517.37 1795.73 1520.93 Q1793.93 1524.47 1793.93 1531.6 Q1793.93 1538.71 1795.73 1542.27 Q1797.56 1545.82 1801.17 1545.82 Q1804.81 1545.82 1806.61 1542.27 Q1808.44 1538.71 1808.44 1531.6 Q1808.44 1524.47 1806.61 1520.93 Q1804.81 1517.37 1801.17 1517.37 M1801.17 1513.66 Q1806.98 1513.66 1810.04 1518.27 Q1813.12 1522.85 1813.12 1531.6 Q1813.12 1540.33 1810.04 1544.94 Q1806.98 1549.52 1801.17 1549.52 Q1795.36 1549.52 1792.28 1544.94 Q1789.23 1540.33 1789.23 1531.6 Q1789.23 1522.85 1792.28 1518.27 Q1795.36 1513.66 1801.17 1513.66 Z\" fill=\"#000000\" fill-rule=\"nonzero\" fill-opacity=\"1\" /><path clip-path=\"url(#clip990)\" d=\"M2263.68 1518.36 L2251.88 1536.81 L2263.68 1536.81 L2263.68 1518.36 M2262.45 1514.29 L2268.33 1514.29 L2268.33 1536.81 L2273.27 1536.81 L2273.27 1540.7 L2268.33 1540.7 L2268.33 1548.85 L2263.68 1548.85 L2263.68 1540.7 L2248.08 1540.7 L2248.08 1536.19 L2262.45 1514.29 Z\" fill=\"#000000\" fill-rule=\"nonzero\" fill-opacity=\"1\" /><path clip-path=\"url(#clip990)\" d=\"M2291 1517.37 Q2287.39 1517.37 2285.56 1520.93 Q2283.75 1524.47 2283.75 1531.6 Q2283.75 1538.71 2285.56 1542.27 Q2287.39 1545.82 2291 1545.82 Q2294.63 1545.82 2296.44 1542.27 Q2298.26 1538.71 2298.26 1531.6 Q2298.26 1524.47 2296.44 1520.93 Q2294.63 1517.37 2291 1517.37 M2291 1513.66 Q2296.81 1513.66 2299.86 1518.27 Q2302.94 1522.85 2302.94 1531.6 Q2302.94 1540.33 2299.86 1544.94 Q2296.81 1549.52 2291 1549.52 Q2285.19 1549.52 2282.11 1544.94 Q2279.05 1540.33 2279.05 1531.6 Q2279.05 1522.85 2282.11 1518.27 Q2285.19 1513.66 2291 1513.66 Z\" fill=\"#000000\" fill-rule=\"nonzero\" fill-opacity=\"1\" /><path clip-path=\"url(#clip990)\" d=\"M2321.16 1517.37 Q2317.55 1517.37 2315.72 1520.93 Q2313.91 1524.47 2313.91 1531.6 Q2313.91 1538.71 2315.72 1542.27 Q2317.55 1545.82 2321.16 1545.82 Q2324.79 1545.82 2326.6 1542.27 Q2328.43 1538.71 2328.43 1531.6 Q2328.43 1524.47 2326.6 1520.93 Q2324.79 1517.37 2321.16 1517.37 M2321.16 1513.66 Q2326.97 1513.66 2330.02 1518.27 Q2333.1 1522.85 2333.1 1531.6 Q2333.1 1540.33 2330.02 1544.94 Q2326.97 1549.52 2321.16 1549.52 Q2315.35 1549.52 2312.27 1544.94 Q2309.21 1540.33 2309.21 1531.6 Q2309.21 1522.85 2312.27 1518.27 Q2315.35 1513.66 2321.16 1513.66 Z\" fill=\"#000000\" fill-rule=\"nonzero\" fill-opacity=\"1\" /><polyline clip-path=\"url(#clip992)\" style=\"stroke:#000000; stroke-linecap:round; stroke-linejoin:round; stroke-width:2; stroke-opacity:0.1; fill:none\" points=\"156.274,1309.94 2352.76,1309.94 \"/>\n",
       "<polyline clip-path=\"url(#clip992)\" style=\"stroke:#000000; stroke-linecap:round; stroke-linejoin:round; stroke-width:2; stroke-opacity:0.1; fill:none\" points=\"156.274,1038.39 2352.76,1038.39 \"/>\n",
       "<polyline clip-path=\"url(#clip992)\" style=\"stroke:#000000; stroke-linecap:round; stroke-linejoin:round; stroke-width:2; stroke-opacity:0.1; fill:none\" points=\"156.274,766.846 2352.76,766.846 \"/>\n",
       "<polyline clip-path=\"url(#clip992)\" style=\"stroke:#000000; stroke-linecap:round; stroke-linejoin:round; stroke-width:2; stroke-opacity:0.1; fill:none\" points=\"156.274,495.298 2352.76,495.298 \"/>\n",
       "<polyline clip-path=\"url(#clip992)\" style=\"stroke:#000000; stroke-linecap:round; stroke-linejoin:round; stroke-width:2; stroke-opacity:0.1; fill:none\" points=\"156.274,223.75 2352.76,223.75 \"/>\n",
       "<polyline clip-path=\"url(#clip990)\" style=\"stroke:#000000; stroke-linecap:round; stroke-linejoin:round; stroke-width:4; stroke-opacity:1; fill:none\" points=\"156.274,1486.45 156.274,47.2441 \"/>\n",
       "<polyline clip-path=\"url(#clip990)\" style=\"stroke:#000000; stroke-linecap:round; stroke-linejoin:round; stroke-width:4; stroke-opacity:1; fill:none\" points=\"156.274,1309.94 175.172,1309.94 \"/>\n",
       "<polyline clip-path=\"url(#clip990)\" style=\"stroke:#000000; stroke-linecap:round; stroke-linejoin:round; stroke-width:4; stroke-opacity:1; fill:none\" points=\"156.274,1038.39 175.172,1038.39 \"/>\n",
       "<polyline clip-path=\"url(#clip990)\" style=\"stroke:#000000; stroke-linecap:round; stroke-linejoin:round; stroke-width:4; stroke-opacity:1; fill:none\" points=\"156.274,766.846 175.172,766.846 \"/>\n",
       "<polyline clip-path=\"url(#clip990)\" style=\"stroke:#000000; stroke-linecap:round; stroke-linejoin:round; stroke-width:4; stroke-opacity:1; fill:none\" points=\"156.274,495.298 175.172,495.298 \"/>\n",
       "<polyline clip-path=\"url(#clip990)\" style=\"stroke:#000000; stroke-linecap:round; stroke-linejoin:round; stroke-width:4; stroke-opacity:1; fill:none\" points=\"156.274,223.75 175.172,223.75 \"/>\n",
       "<path clip-path=\"url(#clip990)\" d=\"M62.9365 1295.74 Q59.3254 1295.74 57.4967 1299.31 Q55.6912 1302.85 55.6912 1309.98 Q55.6912 1317.08 57.4967 1320.65 Q59.3254 1324.19 62.9365 1324.19 Q66.5707 1324.19 68.3763 1320.65 Q70.205 1317.08 70.205 1309.98 Q70.205 1302.85 68.3763 1299.31 Q66.5707 1295.74 62.9365 1295.74 M62.9365 1292.04 Q68.7467 1292.04 71.8022 1296.64 Q74.8809 1301.23 74.8809 1309.98 Q74.8809 1318.7 71.8022 1323.31 Q68.7467 1327.89 62.9365 1327.89 Q57.1264 1327.89 54.0477 1323.31 Q50.9921 1318.7 50.9921 1309.98 Q50.9921 1301.23 54.0477 1296.64 Q57.1264 1292.04 62.9365 1292.04 Z\" fill=\"#000000\" fill-rule=\"nonzero\" fill-opacity=\"1\" /><path clip-path=\"url(#clip990)\" d=\"M83.0984 1321.34 L87.9827 1321.34 L87.9827 1327.22 L83.0984 1327.22 L83.0984 1321.34 Z\" fill=\"#000000\" fill-rule=\"nonzero\" fill-opacity=\"1\" /><path clip-path=\"url(#clip990)\" d=\"M108.746 1308.08 Q105.598 1308.08 103.746 1310.23 Q101.918 1312.38 101.918 1316.13 Q101.918 1319.86 103.746 1322.04 Q105.598 1324.19 108.746 1324.19 Q111.895 1324.19 113.723 1322.04 Q115.575 1319.86 115.575 1316.13 Q115.575 1312.38 113.723 1310.23 Q111.895 1308.08 108.746 1308.08 M118.029 1293.43 L118.029 1297.68 Q116.27 1296.85 114.464 1296.41 Q112.682 1295.97 110.922 1295.97 Q106.293 1295.97 103.839 1299.1 Q101.409 1302.22 101.061 1308.54 Q102.427 1306.53 104.487 1305.46 Q106.547 1304.37 109.024 1304.37 Q114.233 1304.37 117.242 1307.55 Q120.274 1310.69 120.274 1316.13 Q120.274 1321.46 117.126 1324.68 Q113.978 1327.89 108.746 1327.89 Q102.751 1327.89 99.5798 1323.31 Q96.4085 1318.7 96.4085 1309.98 Q96.4085 1301.78 100.297 1296.92 Q104.186 1292.04 110.737 1292.04 Q112.496 1292.04 114.279 1292.38 Q116.084 1292.73 118.029 1293.43 Z\" fill=\"#000000\" fill-rule=\"nonzero\" fill-opacity=\"1\" /><path clip-path=\"url(#clip990)\" d=\"M63.1911 1024.19 Q59.58 1024.19 57.7513 1027.76 Q55.9458 1031.3 55.9458 1038.43 Q55.9458 1045.54 57.7513 1049.1 Q59.58 1052.64 63.1911 1052.64 Q66.8254 1052.64 68.6309 1049.1 Q70.4596 1045.54 70.4596 1038.43 Q70.4596 1031.3 68.6309 1027.76 Q66.8254 1024.19 63.1911 1024.19 M63.1911 1020.49 Q69.0013 1020.49 72.0568 1025.1 Q75.1355 1029.68 75.1355 1038.43 Q75.1355 1047.16 72.0568 1051.76 Q69.0013 1056.35 63.1911 1056.35 Q57.381 1056.35 54.3023 1051.76 Q51.2468 1047.16 51.2468 1038.43 Q51.2468 1029.68 54.3023 1025.1 Q57.381 1020.49 63.1911 1020.49 Z\" fill=\"#000000\" fill-rule=\"nonzero\" fill-opacity=\"1\" /><path clip-path=\"url(#clip990)\" d=\"M83.3531 1049.79 L88.2373 1049.79 L88.2373 1055.67 L83.3531 1055.67 L83.3531 1049.79 Z\" fill=\"#000000\" fill-rule=\"nonzero\" fill-opacity=\"1\" /><path clip-path=\"url(#clip990)\" d=\"M108.422 1039.26 Q105.089 1039.26 103.168 1041.04 Q101.27 1042.83 101.27 1045.95 Q101.27 1049.08 103.168 1050.86 Q105.089 1052.64 108.422 1052.64 Q111.756 1052.64 113.677 1050.86 Q115.598 1049.05 115.598 1045.95 Q115.598 1042.83 113.677 1041.04 Q111.779 1039.26 108.422 1039.26 M103.746 1037.27 Q100.737 1036.53 99.0474 1034.47 Q97.3808 1032.41 97.3808 1029.45 Q97.3808 1025.3 100.321 1022.9 Q103.284 1020.49 108.422 1020.49 Q113.584 1020.49 116.524 1022.9 Q119.464 1025.3 119.464 1029.45 Q119.464 1032.41 117.774 1034.47 Q116.108 1036.53 113.121 1037.27 Q116.501 1038.06 118.376 1040.35 Q120.274 1042.64 120.274 1045.95 Q120.274 1050.97 117.195 1053.66 Q114.14 1056.35 108.422 1056.35 Q102.705 1056.35 99.6261 1053.66 Q96.5706 1050.97 96.5706 1045.95 Q96.5706 1042.64 98.4687 1040.35 Q100.367 1038.06 103.746 1037.27 M102.034 1029.89 Q102.034 1032.57 103.7 1034.08 Q105.39 1035.58 108.422 1035.58 Q111.432 1035.58 113.121 1034.08 Q114.834 1032.57 114.834 1029.89 Q114.834 1027.2 113.121 1025.7 Q111.432 1024.19 108.422 1024.19 Q105.39 1024.19 103.7 1025.7 Q102.034 1027.2 102.034 1029.89 Z\" fill=\"#000000\" fill-rule=\"nonzero\" fill-opacity=\"1\" /><path clip-path=\"url(#clip990)\" d=\"M53.9088 780.191 L61.5476 780.191 L61.5476 753.825 L53.2375 755.492 L53.2375 751.233 L61.5013 749.566 L66.1772 749.566 L66.1772 780.191 L73.8161 780.191 L73.8161 784.126 L53.9088 784.126 L53.9088 780.191 Z\" fill=\"#000000\" fill-rule=\"nonzero\" fill-opacity=\"1\" /><path clip-path=\"url(#clip990)\" d=\"M83.2605 778.246 L88.1447 778.246 L88.1447 784.126 L83.2605 784.126 L83.2605 778.246 Z\" fill=\"#000000\" fill-rule=\"nonzero\" fill-opacity=\"1\" /><path clip-path=\"url(#clip990)\" d=\"M108.33 752.645 Q104.719 752.645 102.89 756.209 Q101.084 759.751 101.084 766.881 Q101.084 773.987 102.89 777.552 Q104.719 781.094 108.33 781.094 Q111.964 781.094 113.77 777.552 Q115.598 773.987 115.598 766.881 Q115.598 759.751 113.77 756.209 Q111.964 752.645 108.33 752.645 M108.33 748.941 Q114.14 748.941 117.195 753.547 Q120.274 758.131 120.274 766.881 Q120.274 775.608 117.195 780.214 Q114.14 784.797 108.33 784.797 Q102.52 784.797 99.4409 780.214 Q96.3854 775.608 96.3854 766.881 Q96.3854 758.131 99.4409 753.547 Q102.52 748.941 108.33 748.941 Z\" fill=\"#000000\" fill-rule=\"nonzero\" fill-opacity=\"1\" /><path clip-path=\"url(#clip990)\" d=\"M55.506 508.643 L63.1448 508.643 L63.1448 482.277 L54.8347 483.944 L54.8347 479.685 L63.0985 478.018 L67.7744 478.018 L67.7744 508.643 L75.4133 508.643 L75.4133 512.578 L55.506 512.578 L55.506 508.643 Z\" fill=\"#000000\" fill-rule=\"nonzero\" fill-opacity=\"1\" /><path clip-path=\"url(#clip990)\" d=\"M84.8577 506.699 L89.7419 506.699 L89.7419 512.578 L84.8577 512.578 L84.8577 506.699 Z\" fill=\"#000000\" fill-rule=\"nonzero\" fill-opacity=\"1\" /><path clip-path=\"url(#clip990)\" d=\"M103.955 508.643 L120.274 508.643 L120.274 512.578 L98.3298 512.578 L98.3298 508.643 Q100.992 505.888 105.575 501.259 Q110.182 496.606 111.362 495.263 Q113.608 492.74 114.487 491.004 Q115.39 489.245 115.39 487.555 Q115.39 484.8 113.445 483.064 Q111.524 481.328 108.422 481.328 Q106.223 481.328 103.77 482.092 Q101.339 482.856 98.5613 484.407 L98.5613 479.685 Q101.385 478.551 103.839 477.972 Q106.293 477.393 108.33 477.393 Q113.7 477.393 116.895 480.078 Q120.089 482.763 120.089 487.254 Q120.089 489.384 119.279 491.305 Q118.492 493.203 116.385 495.796 Q115.807 496.467 112.705 499.685 Q109.603 502.879 103.955 508.643 Z\" fill=\"#000000\" fill-rule=\"nonzero\" fill-opacity=\"1\" /><path clip-path=\"url(#clip990)\" d=\"M53.4227 237.095 L61.0615 237.095 L61.0615 210.729 L52.7514 212.396 L52.7514 208.137 L61.0152 206.47 L65.6911 206.47 L65.6911 237.095 L73.33 237.095 L73.33 241.03 L53.4227 241.03 L53.4227 237.095 Z\" fill=\"#000000\" fill-rule=\"nonzero\" fill-opacity=\"1\" /><path clip-path=\"url(#clip990)\" d=\"M82.7744 235.151 L87.6586 235.151 L87.6586 241.03 L82.7744 241.03 L82.7744 235.151 Z\" fill=\"#000000\" fill-rule=\"nonzero\" fill-opacity=\"1\" /><path clip-path=\"url(#clip990)\" d=\"M110.691 210.544 L98.8854 228.993 L110.691 228.993 L110.691 210.544 M109.464 206.47 L115.344 206.47 L115.344 228.993 L120.274 228.993 L120.274 232.882 L115.344 232.882 L115.344 241.03 L110.691 241.03 L110.691 232.882 L95.0891 232.882 L95.0891 228.368 L109.464 206.47 Z\" fill=\"#000000\" fill-rule=\"nonzero\" fill-opacity=\"1\" /><polyline clip-path=\"url(#clip992)\" style=\"stroke:#009af9; stroke-linecap:round; stroke-linejoin:round; stroke-width:4; stroke-opacity:1; fill:none\" points=\"218.439,1445.72 223.632,1445.72 228.825,1445.72 234.019,1445.72 239.212,1445.72 244.406,1445.72 249.599,1445.72 254.792,1445.72 259.986,1445.72 265.179,1445.72 270.372,1445.72 275.566,1445.72 280.759,1445.72 285.952,1445.72 291.146,1445.72 296.339,1445.72 301.533,1445.72 306.726,1445.72 311.919,1445.72 317.113,1445.72 322.306,1445.72 327.499,1445.72 332.693,1445.72 337.886,1445.72 343.079,1445.72 348.273,1445.72 353.466,1445.72 358.66,1445.72 363.853,1445.72 369.046,1445.72 374.24,1445.72 379.433,1445.72 384.626,1445.72 389.82,1445.72 395.013,1445.72 400.207,1445.72 405.4,1445.72 410.593,1445.72 415.787,1445.72 420.98,1445.72 426.173,1445.72 431.367,1445.72 436.56,1445.72 441.753,1445.72 446.947,1445.72 452.14,1445.72 457.334,1445.72 462.527,1445.72 467.72,1445.72 472.914,1445.72 478.107,1445.72 483.3,1445.72 488.494,1445.72 493.687,1445.72 498.88,1445.72 504.074,1445.72 509.267,1445.72 514.461,1445.72 519.654,1445.72 524.847,1445.72 530.041,1445.72 535.234,1445.72 540.427,1445.72 545.621,1445.72 550.814,1445.72 556.007,1445.72 561.201,1445.72 566.394,1445.72 571.588,1445.72 576.781,1445.72 581.974,1445.72 587.168,1445.72 592.361,1445.72 597.554,1445.72 602.748,1445.72 607.941,1445.72 613.134,1445.72 618.328,1445.72 623.521,1445.72 628.715,1445.72 633.908,1445.72 639.101,1445.72 644.295,1445.72 649.488,1445.72 654.681,1445.72 659.875,1445.72 665.068,1445.72 670.261,1445.72 675.455,1445.72 680.648,1445.72 685.842,1445.72 691.035,1445.72 696.228,1445.72 701.422,1445.72 706.615,1445.72 711.808,1445.72 717.002,1445.72 722.195,1445.72 727.388,1445.72 732.582,1445.72 737.775,1445.72 742.969,1445.72 748.162,1445.72 753.355,1445.72 758.549,1445.72 763.742,1445.72 768.935,1445.72 774.129,1445.72 779.322,1445.72 784.516,1445.72 789.709,1445.72 794.902,1445.72 800.096,1445.72 805.289,1445.72 810.482,1445.72 815.676,1445.72 820.869,1445.72 826.062,1445.72 831.256,1445.72 836.449,1445.72 841.643,1445.72 846.836,1445.72 852.029,1445.72 857.223,1445.72 862.416,1445.72 867.609,1445.72 872.803,1445.72 877.996,1445.72 883.189,1445.72 888.383,1445.72 893.576,1445.72 898.77,1445.72 903.963,1445.72 909.156,1445.72 914.35,1445.72 919.543,1445.72 924.736,1445.72 929.93,1445.72 935.123,1445.72 940.316,1445.72 945.51,1445.72 950.703,1445.72 955.897,1445.72 961.09,1445.72 966.283,1445.72 971.477,1445.72 976.67,1445.72 981.863,1445.72 987.057,1445.72 992.25,1445.72 997.443,1445.72 1002.64,1445.72 1007.83,1445.72 1013.02,1445.72 1018.22,1445.72 1023.41,1445.72 1028.6,1445.72 1033.8,1445.72 1038.99,1445.72 1044.18,1445.72 1049.38,1445.72 1054.57,1445.72 1059.76,1445.72 1064.96,1445.72 1070.15,1445.72 1075.34,1445.72 1080.54,1445.72 1085.73,1445.72 1090.92,1445.72 1096.12,1445.72 1101.31,1445.72 1106.5,1445.72 1111.7,1445.72 1116.89,1445.72 1122.08,1445.72 1127.28,1445.72 1132.47,1445.72 1137.66,1445.72 1142.86,1445.72 1148.05,1445.72 1153.24,1445.72 1158.44,1445.72 1163.63,1445.72 1168.82,1445.72 1174.02,1445.72 1179.21,1445.72 1184.4,1445.72 1189.6,1445.72 1194.79,1445.72 1199.98,1445.72 1205.18,1445.72 1210.37,1445.72 1215.56,1445.72 1220.76,1445.72 1225.95,1445.72 1231.14,1445.72 1236.34,1445.72 1241.53,1445.72 1246.72,1445.72 1251.92,1445.72 1257.11,1445.72 1262.31,1445.72 1267.5,1445.72 1272.69,1445.72 1277.89,1445.72 1283.08,1445.72 1288.27,1445.72 1293.47,1445.72 1298.66,1445.72 1303.85,1445.72 1309.05,1445.72 1314.24,1445.72 1319.43,1445.72 1324.63,1445.72 1329.82,1445.72 1335.01,1445.72 1340.21,1445.72 1345.4,1445.72 1350.59,1445.72 1355.79,1445.72 1360.98,1445.72 1366.17,1445.72 1371.37,1445.72 1376.56,1445.72 1381.75,1445.72 1386.95,1445.72 1392.14,1445.72 1397.33,1445.72 1402.53,1445.72 1407.72,1445.72 1412.91,1445.72 1418.11,1445.72 1423.3,1445.72 1428.49,1445.72 1433.69,1445.72 1438.88,1445.72 1444.07,1445.72 1449.27,1445.72 1454.46,1445.72 1459.65,1445.72 1464.85,1445.72 1470.04,1445.72 1475.23,1445.72 1480.43,1445.72 1485.62,1445.72 1490.81,1445.72 1496.01,1445.72 1501.2,1445.72 1506.39,1445.72 1511.59,1445.72 1516.78,1445.72 1521.97,1445.72 1527.17,1445.72 1532.36,1445.72 1537.55,1445.72 1542.75,1445.72 1547.94,1445.72 1553.13,1445.72 1558.33,1445.72 1563.52,1445.72 1568.71,1445.72 1573.91,1445.72 1579.1,1445.72 1584.29,1445.72 1589.49,1445.72 1594.68,1445.72 1599.87,1445.72 1605.07,1445.72 1610.26,1445.72 1615.45,1445.72 1620.65,1445.72 1625.84,1445.72 1631.03,1445.72 1636.23,1445.72 1641.42,1445.72 1646.61,1445.72 1651.81,1445.72 1657,1445.72 1662.19,1445.72 1667.39,1445.72 1672.58,1445.72 1677.77,1445.72 1682.97,1445.72 1688.16,1445.72 1693.35,1445.72 1698.55,1445.72 1703.74,1445.72 1708.93,1445.72 1714.13,1445.72 1719.32,1445.72 1724.51,1445.72 1729.71,1445.72 1734.9,1445.72 1740.09,1445.72 1745.29,1445.72 1750.48,1445.72 1755.67,1445.72 1760.87,1445.72 1766.06,1445.72 1771.25,1445.72 1776.45,1445.72 1781.64,1445.72 1786.83,1445.72 1792.03,1445.72 1797.22,1445.72 1802.42,1445.72 1807.61,1445.72 1812.8,1445.72 1818,1445.72 1823.19,1445.72 1828.38,1445.72 1833.58,1445.72 1838.77,1445.72 1843.96,1445.72 1849.16,1445.72 1854.35,1445.72 1859.54,1445.72 1864.74,1445.72 1869.93,1445.72 1875.12,1445.72 1880.32,1445.72 1885.51,1445.72 1890.7,1445.72 1895.9,1445.72 1901.09,1445.72 1906.28,1445.72 1911.48,1445.72 1916.67,1445.72 1921.86,1445.72 1927.06,1445.72 1932.25,1445.72 1937.44,1445.72 1942.64,1445.72 1947.83,1445.72 1953.02,1445.72 1958.22,1445.72 1963.41,1445.72 1968.6,1445.72 1973.8,1445.72 1978.99,1445.72 1984.18,1445.72 1989.38,1445.72 1994.57,1445.72 1999.76,1445.72 2004.96,1445.72 2010.15,1445.72 2015.34,1445.72 2020.54,1445.72 2025.73,1445.72 2030.92,1445.72 2036.12,1445.72 2041.31,1445.72 2046.5,1445.72 2051.7,1445.72 2056.89,1445.72 2062.08,1445.72 2067.28,1445.72 2072.47,1445.72 2077.66,1445.72 2082.86,1445.72 2088.05,1445.72 2093.24,1445.72 2098.44,1445.72 2103.63,1445.72 2108.82,1445.72 2114.02,1445.72 2119.21,1445.72 2124.4,1445.72 2129.6,1445.72 2134.79,1445.72 2139.98,1445.72 2145.18,1445.72 2150.37,1445.72 2155.56,1445.72 2160.76,1445.72 2165.95,1445.72 2171.14,1445.72 2176.34,1445.72 2181.53,1445.72 2186.72,1445.72 2191.92,1445.72 2197.11,1445.72 2202.3,1445.72 2207.5,1445.72 2212.69,1445.72 2217.88,1445.72 2223.08,1445.72 2228.27,1445.72 2233.46,1445.72 2238.66,1445.72 2243.85,1445.72 2249.04,1445.72 2254.24,1445.72 2259.43,1445.72 2264.62,1445.72 2269.82,1445.72 2275.01,1445.72 2280.2,1445.72 2285.4,1445.72 2290.59,1445.72 \"/>\n",
       "<path clip-path=\"url(#clip990)\" d=\"M1982.37 198.898 L2279.54 198.898 L2279.54 95.2176 L1982.37 95.2176  Z\" fill=\"#ffffff\" fill-rule=\"evenodd\" fill-opacity=\"1\"/>\n",
       "<polyline clip-path=\"url(#clip990)\" style=\"stroke:#000000; stroke-linecap:round; stroke-linejoin:round; stroke-width:4; stroke-opacity:1; fill:none\" points=\"1982.37,198.898 2279.54,198.898 2279.54,95.2176 1982.37,95.2176 1982.37,198.898 \"/>\n",
       "<polyline clip-path=\"url(#clip990)\" style=\"stroke:#009af9; stroke-linecap:round; stroke-linejoin:round; stroke-width:4; stroke-opacity:1; fill:none\" points=\"2006.77,147.058 2153.21,147.058 \"/>\n",
       "<path clip-path=\"url(#clip990)\" d=\"M2177.61 154.106 L2177.61 138.412 L2181.87 138.412 L2181.87 153.944 Q2181.87 157.625 2183.31 159.476 Q2184.74 161.305 2187.61 161.305 Q2191.06 161.305 2193.05 159.106 Q2195.07 156.907 2195.07 153.111 L2195.07 138.412 L2199.32 138.412 L2199.32 164.338 L2195.07 164.338 L2195.07 160.356 Q2193.51 162.717 2191.45 163.875 Q2189.42 165.009 2186.71 165.009 Q2182.24 165.009 2179.93 162.231 Q2177.61 159.453 2177.61 154.106 M2188.33 137.787 L2188.33 137.787 Z\" fill=\"#000000\" fill-rule=\"nonzero\" fill-opacity=\"1\" /><path clip-path=\"url(#clip990)\" d=\"M2218.33 128.366 Q2215.23 133.69 2213.72 138.898 Q2212.22 144.106 2212.22 149.453 Q2212.22 154.801 2213.72 160.055 Q2215.25 165.287 2218.33 170.588 L2214.63 170.588 Q2211.15 165.148 2209.42 159.893 Q2207.7 154.639 2207.7 149.453 Q2207.7 144.291 2209.42 139.06 Q2211.13 133.828 2214.63 128.366 L2218.33 128.366 Z\" fill=\"#000000\" fill-rule=\"nonzero\" fill-opacity=\"1\" /><path clip-path=\"url(#clip990)\" d=\"M2230.81 131.051 L2230.81 138.412 L2239.58 138.412 L2239.58 141.722 L2230.81 141.722 L2230.81 155.796 Q2230.81 158.967 2231.66 159.87 Q2232.54 160.773 2235.2 160.773 L2239.58 160.773 L2239.58 164.338 L2235.2 164.338 Q2230.27 164.338 2228.4 162.509 Q2226.52 160.657 2226.52 155.796 L2226.52 141.722 L2223.4 141.722 L2223.4 138.412 L2226.52 138.412 L2226.52 131.051 L2230.81 131.051 Z\" fill=\"#000000\" fill-rule=\"nonzero\" fill-opacity=\"1\" /><path clip-path=\"url(#clip990)\" d=\"M2244.51 128.366 L2248.21 128.366 Q2251.69 133.828 2253.4 139.06 Q2255.13 144.291 2255.13 149.453 Q2255.13 154.639 2253.4 159.893 Q2251.69 165.148 2248.21 170.588 L2244.51 170.588 Q2247.59 165.287 2249.09 160.055 Q2250.62 154.801 2250.62 149.453 Q2250.62 144.106 2249.09 138.898 Q2247.59 133.69 2244.51 128.366 Z\" fill=\"#000000\" fill-rule=\"nonzero\" fill-opacity=\"1\" /></svg>\n"
      ],
      "text/html": [
       "<?xml version=\"1.0\" encoding=\"utf-8\"?>\n",
       "<svg xmlns=\"http://www.w3.org/2000/svg\" xmlns:xlink=\"http://www.w3.org/1999/xlink\" width=\"600\" height=\"400\" viewBox=\"0 0 2400 1600\">\n",
       "<defs>\n",
       "  <clipPath id=\"clip040\">\n",
       "    <rect x=\"0\" y=\"0\" width=\"2400\" height=\"1600\"/>\n",
       "  </clipPath>\n",
       "</defs>\n",
       "<path clip-path=\"url(#clip040)\" d=\"M0 1600 L2400 1600 L2400 8.88178e-14 L0 8.88178e-14  Z\" fill=\"#ffffff\" fill-rule=\"evenodd\" fill-opacity=\"1\"/>\n",
       "<defs>\n",
       "  <clipPath id=\"clip041\">\n",
       "    <rect x=\"480\" y=\"0\" width=\"1681\" height=\"1600\"/>\n",
       "  </clipPath>\n",
       "</defs>\n",
       "<path clip-path=\"url(#clip040)\" d=\"M156.274 1486.45 L2352.76 1486.45 L2352.76 47.2441 L156.274 47.2441  Z\" fill=\"#ffffff\" fill-rule=\"evenodd\" fill-opacity=\"1\"/>\n",
       "<defs>\n",
       "  <clipPath id=\"clip042\">\n",
       "    <rect x=\"156\" y=\"47\" width=\"2197\" height=\"1440\"/>\n",
       "  </clipPath>\n",
       "</defs>\n",
       "<polyline clip-path=\"url(#clip042)\" style=\"stroke:#000000; stroke-linecap:round; stroke-linejoin:round; stroke-width:2; stroke-opacity:0.1; fill:none\" points=\"213.245,1486.45 213.245,47.2441 \"/>\n",
       "<polyline clip-path=\"url(#clip042)\" style=\"stroke:#000000; stroke-linecap:round; stroke-linejoin:round; stroke-width:2; stroke-opacity:0.1; fill:none\" points=\"732.582,1486.45 732.582,47.2441 \"/>\n",
       "<polyline clip-path=\"url(#clip042)\" style=\"stroke:#000000; stroke-linecap:round; stroke-linejoin:round; stroke-width:2; stroke-opacity:0.1; fill:none\" points=\"1251.92,1486.45 1251.92,47.2441 \"/>\n",
       "<polyline clip-path=\"url(#clip042)\" style=\"stroke:#000000; stroke-linecap:round; stroke-linejoin:round; stroke-width:2; stroke-opacity:0.1; fill:none\" points=\"1771.25,1486.45 1771.25,47.2441 \"/>\n",
       "<polyline clip-path=\"url(#clip042)\" style=\"stroke:#000000; stroke-linecap:round; stroke-linejoin:round; stroke-width:2; stroke-opacity:0.1; fill:none\" points=\"2290.59,1486.45 2290.59,47.2441 \"/>\n",
       "<polyline clip-path=\"url(#clip040)\" style=\"stroke:#000000; stroke-linecap:round; stroke-linejoin:round; stroke-width:4; stroke-opacity:1; fill:none\" points=\"156.274,1486.45 2352.76,1486.45 \"/>\n",
       "<polyline clip-path=\"url(#clip040)\" style=\"stroke:#000000; stroke-linecap:round; stroke-linejoin:round; stroke-width:4; stroke-opacity:1; fill:none\" points=\"213.245,1486.45 213.245,1467.55 \"/>\n",
       "<polyline clip-path=\"url(#clip040)\" style=\"stroke:#000000; stroke-linecap:round; stroke-linejoin:round; stroke-width:4; stroke-opacity:1; fill:none\" points=\"732.582,1486.45 732.582,1467.55 \"/>\n",
       "<polyline clip-path=\"url(#clip040)\" style=\"stroke:#000000; stroke-linecap:round; stroke-linejoin:round; stroke-width:4; stroke-opacity:1; fill:none\" points=\"1251.92,1486.45 1251.92,1467.55 \"/>\n",
       "<polyline clip-path=\"url(#clip040)\" style=\"stroke:#000000; stroke-linecap:round; stroke-linejoin:round; stroke-width:4; stroke-opacity:1; fill:none\" points=\"1771.25,1486.45 1771.25,1467.55 \"/>\n",
       "<polyline clip-path=\"url(#clip040)\" style=\"stroke:#000000; stroke-linecap:round; stroke-linejoin:round; stroke-width:4; stroke-opacity:1; fill:none\" points=\"2290.59,1486.45 2290.59,1467.55 \"/>\n",
       "<path clip-path=\"url(#clip040)\" d=\"M213.245 1517.37 Q209.634 1517.37 207.806 1520.93 Q206 1524.47 206 1531.6 Q206 1538.71 207.806 1542.27 Q209.634 1545.82 213.245 1545.82 Q216.88 1545.82 218.685 1542.27 Q220.514 1538.71 220.514 1531.6 Q220.514 1524.47 218.685 1520.93 Q216.88 1517.37 213.245 1517.37 M213.245 1513.66 Q219.056 1513.66 222.111 1518.27 Q225.19 1522.85 225.19 1531.6 Q225.19 1540.33 222.111 1544.94 Q219.056 1549.52 213.245 1549.52 Q207.435 1549.52 204.357 1544.94 Q201.301 1540.33 201.301 1531.6 Q201.301 1522.85 204.357 1518.27 Q207.435 1513.66 213.245 1513.66 Z\" fill=\"#000000\" fill-rule=\"nonzero\" fill-opacity=\"1\" /><path clip-path=\"url(#clip040)\" d=\"M692.189 1544.91 L699.827 1544.91 L699.827 1518.55 L691.517 1520.21 L691.517 1515.95 L699.781 1514.29 L704.457 1514.29 L704.457 1544.91 L712.096 1544.91 L712.096 1548.85 L692.189 1548.85 L692.189 1544.91 Z\" fill=\"#000000\" fill-rule=\"nonzero\" fill-opacity=\"1\" /><path clip-path=\"url(#clip040)\" d=\"M731.54 1517.37 Q727.929 1517.37 726.1 1520.93 Q724.295 1524.47 724.295 1531.6 Q724.295 1538.71 726.1 1542.27 Q727.929 1545.82 731.54 1545.82 Q735.174 1545.82 736.98 1542.27 Q738.809 1538.71 738.809 1531.6 Q738.809 1524.47 736.98 1520.93 Q735.174 1517.37 731.54 1517.37 M731.54 1513.66 Q737.35 1513.66 740.406 1518.27 Q743.485 1522.85 743.485 1531.6 Q743.485 1540.33 740.406 1544.94 Q737.35 1549.52 731.54 1549.52 Q725.73 1549.52 722.651 1544.94 Q719.596 1540.33 719.596 1531.6 Q719.596 1522.85 722.651 1518.27 Q725.73 1513.66 731.54 1513.66 Z\" fill=\"#000000\" fill-rule=\"nonzero\" fill-opacity=\"1\" /><path clip-path=\"url(#clip040)\" d=\"M761.702 1517.37 Q758.091 1517.37 756.262 1520.93 Q754.457 1524.47 754.457 1531.6 Q754.457 1538.71 756.262 1542.27 Q758.091 1545.82 761.702 1545.82 Q765.336 1545.82 767.142 1542.27 Q768.971 1538.71 768.971 1531.6 Q768.971 1524.47 767.142 1520.93 Q765.336 1517.37 761.702 1517.37 M761.702 1513.66 Q767.512 1513.66 770.568 1518.27 Q773.646 1522.85 773.646 1531.6 Q773.646 1540.33 770.568 1544.94 Q767.512 1549.52 761.702 1549.52 Q755.892 1549.52 752.813 1544.94 Q749.758 1540.33 749.758 1531.6 Q749.758 1522.85 752.813 1518.27 Q755.892 1513.66 761.702 1513.66 Z\" fill=\"#000000\" fill-rule=\"nonzero\" fill-opacity=\"1\" /><path clip-path=\"url(#clip040)\" d=\"M1215.61 1544.91 L1231.93 1544.91 L1231.93 1548.85 L1209.99 1548.85 L1209.99 1544.91 Q1212.65 1542.16 1217.23 1537.53 Q1221.84 1532.88 1223.02 1531.53 Q1225.26 1529.01 1226.14 1527.27 Q1227.05 1525.51 1227.05 1523.82 Q1227.05 1521.07 1225.1 1519.33 Q1223.18 1517.6 1220.08 1517.6 Q1217.88 1517.6 1215.43 1518.36 Q1212.99 1519.13 1210.22 1520.68 L1210.22 1515.95 Q1213.04 1514.82 1215.49 1514.24 Q1217.95 1513.66 1219.99 1513.66 Q1225.36 1513.66 1228.55 1516.35 Q1231.74 1519.03 1231.74 1523.52 Q1231.74 1525.65 1230.93 1527.57 Q1230.15 1529.47 1228.04 1532.07 Q1227.46 1532.74 1224.36 1535.95 Q1221.26 1539.15 1215.61 1544.91 Z\" fill=\"#000000\" fill-rule=\"nonzero\" fill-opacity=\"1\" /><path clip-path=\"url(#clip040)\" d=\"M1251.74 1517.37 Q1248.13 1517.37 1246.3 1520.93 Q1244.5 1524.47 1244.5 1531.6 Q1244.5 1538.71 1246.3 1542.27 Q1248.13 1545.82 1251.74 1545.82 Q1255.38 1545.82 1257.18 1542.27 Q1259.01 1538.71 1259.01 1531.6 Q1259.01 1524.47 1257.18 1520.93 Q1255.38 1517.37 1251.74 1517.37 M1251.74 1513.66 Q1257.55 1513.66 1260.61 1518.27 Q1263.69 1522.85 1263.69 1531.6 Q1263.69 1540.33 1260.61 1544.94 Q1257.55 1549.52 1251.74 1549.52 Q1245.93 1549.52 1242.86 1544.94 Q1239.8 1540.33 1239.8 1531.6 Q1239.8 1522.85 1242.86 1518.27 Q1245.93 1513.66 1251.74 1513.66 Z\" fill=\"#000000\" fill-rule=\"nonzero\" fill-opacity=\"1\" /><path clip-path=\"url(#clip040)\" d=\"M1281.91 1517.37 Q1278.3 1517.37 1276.47 1520.93 Q1274.66 1524.47 1274.66 1531.6 Q1274.66 1538.71 1276.47 1542.27 Q1278.3 1545.82 1281.91 1545.82 Q1285.54 1545.82 1287.35 1542.27 Q1289.18 1538.71 1289.18 1531.6 Q1289.18 1524.47 1287.35 1520.93 Q1285.54 1517.37 1281.91 1517.37 M1281.91 1513.66 Q1287.72 1513.66 1290.77 1518.27 Q1293.85 1522.85 1293.85 1531.6 Q1293.85 1540.33 1290.77 1544.94 Q1287.72 1549.52 1281.91 1549.52 Q1276.1 1549.52 1273.02 1544.94 Q1269.96 1540.33 1269.96 1531.6 Q1269.96 1522.85 1273.02 1518.27 Q1276.1 1513.66 1281.91 1513.66 Z\" fill=\"#000000\" fill-rule=\"nonzero\" fill-opacity=\"1\" /><path clip-path=\"url(#clip040)\" d=\"M1745.02 1530.21 Q1748.37 1530.93 1750.25 1533.2 Q1752.15 1535.47 1752.15 1538.8 Q1752.15 1543.92 1748.63 1546.72 Q1745.11 1549.52 1738.63 1549.52 Q1736.45 1549.52 1734.14 1549.08 Q1731.85 1548.66 1729.39 1547.81 L1729.39 1543.29 Q1731.34 1544.43 1733.65 1545.01 Q1735.97 1545.58 1738.49 1545.58 Q1742.89 1545.58 1745.18 1543.85 Q1747.49 1542.11 1747.49 1538.8 Q1747.49 1535.75 1745.34 1534.03 Q1743.21 1532.3 1739.39 1532.3 L1735.36 1532.3 L1735.36 1528.45 L1739.58 1528.45 Q1743.03 1528.45 1744.85 1527.09 Q1746.68 1525.7 1746.68 1523.11 Q1746.68 1520.45 1744.79 1519.03 Q1742.91 1517.6 1739.39 1517.6 Q1737.47 1517.6 1735.27 1518.01 Q1733.07 1518.43 1730.43 1519.31 L1730.43 1515.14 Q1733.1 1514.4 1735.41 1514.03 Q1737.75 1513.66 1739.81 1513.66 Q1745.13 1513.66 1748.23 1516.09 Q1751.34 1518.5 1751.34 1522.62 Q1751.34 1525.49 1749.69 1527.48 Q1748.05 1529.45 1745.02 1530.21 Z\" fill=\"#000000\" fill-rule=\"nonzero\" fill-opacity=\"1\" /><path clip-path=\"url(#clip040)\" d=\"M1771.01 1517.37 Q1767.4 1517.37 1765.57 1520.93 Q1763.77 1524.47 1763.77 1531.6 Q1763.77 1538.71 1765.57 1542.27 Q1767.4 1545.82 1771.01 1545.82 Q1774.65 1545.82 1776.45 1542.27 Q1778.28 1538.71 1778.28 1531.6 Q1778.28 1524.47 1776.45 1520.93 Q1774.65 1517.37 1771.01 1517.37 M1771.01 1513.66 Q1776.82 1513.66 1779.88 1518.27 Q1782.96 1522.85 1782.96 1531.6 Q1782.96 1540.33 1779.88 1544.94 Q1776.82 1549.52 1771.01 1549.52 Q1765.2 1549.52 1762.12 1544.94 Q1759.07 1540.33 1759.07 1531.6 Q1759.07 1522.85 1762.12 1518.27 Q1765.2 1513.66 1771.01 1513.66 Z\" fill=\"#000000\" fill-rule=\"nonzero\" fill-opacity=\"1\" /><path clip-path=\"url(#clip040)\" d=\"M1801.17 1517.37 Q1797.56 1517.37 1795.73 1520.93 Q1793.93 1524.47 1793.93 1531.6 Q1793.93 1538.71 1795.73 1542.27 Q1797.56 1545.82 1801.17 1545.82 Q1804.81 1545.82 1806.61 1542.27 Q1808.44 1538.71 1808.44 1531.6 Q1808.44 1524.47 1806.61 1520.93 Q1804.81 1517.37 1801.17 1517.37 M1801.17 1513.66 Q1806.98 1513.66 1810.04 1518.27 Q1813.12 1522.85 1813.12 1531.6 Q1813.12 1540.33 1810.04 1544.94 Q1806.98 1549.52 1801.17 1549.52 Q1795.36 1549.52 1792.28 1544.94 Q1789.23 1540.33 1789.23 1531.6 Q1789.23 1522.85 1792.28 1518.27 Q1795.36 1513.66 1801.17 1513.66 Z\" fill=\"#000000\" fill-rule=\"nonzero\" fill-opacity=\"1\" /><path clip-path=\"url(#clip040)\" d=\"M2263.68 1518.36 L2251.88 1536.81 L2263.68 1536.81 L2263.68 1518.36 M2262.45 1514.29 L2268.33 1514.29 L2268.33 1536.81 L2273.27 1536.81 L2273.27 1540.7 L2268.33 1540.7 L2268.33 1548.85 L2263.68 1548.85 L2263.68 1540.7 L2248.08 1540.7 L2248.08 1536.19 L2262.45 1514.29 Z\" fill=\"#000000\" fill-rule=\"nonzero\" fill-opacity=\"1\" /><path clip-path=\"url(#clip040)\" d=\"M2291 1517.37 Q2287.39 1517.37 2285.56 1520.93 Q2283.75 1524.47 2283.75 1531.6 Q2283.75 1538.71 2285.56 1542.27 Q2287.39 1545.82 2291 1545.82 Q2294.63 1545.82 2296.44 1542.27 Q2298.26 1538.71 2298.26 1531.6 Q2298.26 1524.47 2296.44 1520.93 Q2294.63 1517.37 2291 1517.37 M2291 1513.66 Q2296.81 1513.66 2299.86 1518.27 Q2302.94 1522.85 2302.94 1531.6 Q2302.94 1540.33 2299.86 1544.94 Q2296.81 1549.52 2291 1549.52 Q2285.19 1549.52 2282.11 1544.94 Q2279.05 1540.33 2279.05 1531.6 Q2279.05 1522.85 2282.11 1518.27 Q2285.19 1513.66 2291 1513.66 Z\" fill=\"#000000\" fill-rule=\"nonzero\" fill-opacity=\"1\" /><path clip-path=\"url(#clip040)\" d=\"M2321.16 1517.37 Q2317.55 1517.37 2315.72 1520.93 Q2313.91 1524.47 2313.91 1531.6 Q2313.91 1538.71 2315.72 1542.27 Q2317.55 1545.82 2321.16 1545.82 Q2324.79 1545.82 2326.6 1542.27 Q2328.43 1538.71 2328.43 1531.6 Q2328.43 1524.47 2326.6 1520.93 Q2324.79 1517.37 2321.16 1517.37 M2321.16 1513.66 Q2326.97 1513.66 2330.02 1518.27 Q2333.1 1522.85 2333.1 1531.6 Q2333.1 1540.33 2330.02 1544.94 Q2326.97 1549.52 2321.16 1549.52 Q2315.35 1549.52 2312.27 1544.94 Q2309.21 1540.33 2309.21 1531.6 Q2309.21 1522.85 2312.27 1518.27 Q2315.35 1513.66 2321.16 1513.66 Z\" fill=\"#000000\" fill-rule=\"nonzero\" fill-opacity=\"1\" /><polyline clip-path=\"url(#clip042)\" style=\"stroke:#000000; stroke-linecap:round; stroke-linejoin:round; stroke-width:2; stroke-opacity:0.1; fill:none\" points=\"156.274,1309.94 2352.76,1309.94 \"/>\n",
       "<polyline clip-path=\"url(#clip042)\" style=\"stroke:#000000; stroke-linecap:round; stroke-linejoin:round; stroke-width:2; stroke-opacity:0.1; fill:none\" points=\"156.274,1038.39 2352.76,1038.39 \"/>\n",
       "<polyline clip-path=\"url(#clip042)\" style=\"stroke:#000000; stroke-linecap:round; stroke-linejoin:round; stroke-width:2; stroke-opacity:0.1; fill:none\" points=\"156.274,766.846 2352.76,766.846 \"/>\n",
       "<polyline clip-path=\"url(#clip042)\" style=\"stroke:#000000; stroke-linecap:round; stroke-linejoin:round; stroke-width:2; stroke-opacity:0.1; fill:none\" points=\"156.274,495.298 2352.76,495.298 \"/>\n",
       "<polyline clip-path=\"url(#clip042)\" style=\"stroke:#000000; stroke-linecap:round; stroke-linejoin:round; stroke-width:2; stroke-opacity:0.1; fill:none\" points=\"156.274,223.75 2352.76,223.75 \"/>\n",
       "<polyline clip-path=\"url(#clip040)\" style=\"stroke:#000000; stroke-linecap:round; stroke-linejoin:round; stroke-width:4; stroke-opacity:1; fill:none\" points=\"156.274,1486.45 156.274,47.2441 \"/>\n",
       "<polyline clip-path=\"url(#clip040)\" style=\"stroke:#000000; stroke-linecap:round; stroke-linejoin:round; stroke-width:4; stroke-opacity:1; fill:none\" points=\"156.274,1309.94 175.172,1309.94 \"/>\n",
       "<polyline clip-path=\"url(#clip040)\" style=\"stroke:#000000; stroke-linecap:round; stroke-linejoin:round; stroke-width:4; stroke-opacity:1; fill:none\" points=\"156.274,1038.39 175.172,1038.39 \"/>\n",
       "<polyline clip-path=\"url(#clip040)\" style=\"stroke:#000000; stroke-linecap:round; stroke-linejoin:round; stroke-width:4; stroke-opacity:1; fill:none\" points=\"156.274,766.846 175.172,766.846 \"/>\n",
       "<polyline clip-path=\"url(#clip040)\" style=\"stroke:#000000; stroke-linecap:round; stroke-linejoin:round; stroke-width:4; stroke-opacity:1; fill:none\" points=\"156.274,495.298 175.172,495.298 \"/>\n",
       "<polyline clip-path=\"url(#clip040)\" style=\"stroke:#000000; stroke-linecap:round; stroke-linejoin:round; stroke-width:4; stroke-opacity:1; fill:none\" points=\"156.274,223.75 175.172,223.75 \"/>\n",
       "<path clip-path=\"url(#clip040)\" d=\"M62.9365 1295.74 Q59.3254 1295.74 57.4967 1299.31 Q55.6912 1302.85 55.6912 1309.98 Q55.6912 1317.08 57.4967 1320.65 Q59.3254 1324.19 62.9365 1324.19 Q66.5707 1324.19 68.3763 1320.65 Q70.205 1317.08 70.205 1309.98 Q70.205 1302.85 68.3763 1299.31 Q66.5707 1295.74 62.9365 1295.74 M62.9365 1292.04 Q68.7467 1292.04 71.8022 1296.64 Q74.8809 1301.23 74.8809 1309.98 Q74.8809 1318.7 71.8022 1323.31 Q68.7467 1327.89 62.9365 1327.89 Q57.1264 1327.89 54.0477 1323.31 Q50.9921 1318.7 50.9921 1309.98 Q50.9921 1301.23 54.0477 1296.64 Q57.1264 1292.04 62.9365 1292.04 Z\" fill=\"#000000\" fill-rule=\"nonzero\" fill-opacity=\"1\" /><path clip-path=\"url(#clip040)\" d=\"M83.0984 1321.34 L87.9827 1321.34 L87.9827 1327.22 L83.0984 1327.22 L83.0984 1321.34 Z\" fill=\"#000000\" fill-rule=\"nonzero\" fill-opacity=\"1\" /><path clip-path=\"url(#clip040)\" d=\"M108.746 1308.08 Q105.598 1308.08 103.746 1310.23 Q101.918 1312.38 101.918 1316.13 Q101.918 1319.86 103.746 1322.04 Q105.598 1324.19 108.746 1324.19 Q111.895 1324.19 113.723 1322.04 Q115.575 1319.86 115.575 1316.13 Q115.575 1312.38 113.723 1310.23 Q111.895 1308.08 108.746 1308.08 M118.029 1293.43 L118.029 1297.68 Q116.27 1296.85 114.464 1296.41 Q112.682 1295.97 110.922 1295.97 Q106.293 1295.97 103.839 1299.1 Q101.409 1302.22 101.061 1308.54 Q102.427 1306.53 104.487 1305.46 Q106.547 1304.37 109.024 1304.37 Q114.233 1304.37 117.242 1307.55 Q120.274 1310.69 120.274 1316.13 Q120.274 1321.46 117.126 1324.68 Q113.978 1327.89 108.746 1327.89 Q102.751 1327.89 99.5798 1323.31 Q96.4085 1318.7 96.4085 1309.98 Q96.4085 1301.78 100.297 1296.92 Q104.186 1292.04 110.737 1292.04 Q112.496 1292.04 114.279 1292.38 Q116.084 1292.73 118.029 1293.43 Z\" fill=\"#000000\" fill-rule=\"nonzero\" fill-opacity=\"1\" /><path clip-path=\"url(#clip040)\" d=\"M63.1911 1024.19 Q59.58 1024.19 57.7513 1027.76 Q55.9458 1031.3 55.9458 1038.43 Q55.9458 1045.54 57.7513 1049.1 Q59.58 1052.64 63.1911 1052.64 Q66.8254 1052.64 68.6309 1049.1 Q70.4596 1045.54 70.4596 1038.43 Q70.4596 1031.3 68.6309 1027.76 Q66.8254 1024.19 63.1911 1024.19 M63.1911 1020.49 Q69.0013 1020.49 72.0568 1025.1 Q75.1355 1029.68 75.1355 1038.43 Q75.1355 1047.16 72.0568 1051.76 Q69.0013 1056.35 63.1911 1056.35 Q57.381 1056.35 54.3023 1051.76 Q51.2468 1047.16 51.2468 1038.43 Q51.2468 1029.68 54.3023 1025.1 Q57.381 1020.49 63.1911 1020.49 Z\" fill=\"#000000\" fill-rule=\"nonzero\" fill-opacity=\"1\" /><path clip-path=\"url(#clip040)\" d=\"M83.3531 1049.79 L88.2373 1049.79 L88.2373 1055.67 L83.3531 1055.67 L83.3531 1049.79 Z\" fill=\"#000000\" fill-rule=\"nonzero\" fill-opacity=\"1\" /><path clip-path=\"url(#clip040)\" d=\"M108.422 1039.26 Q105.089 1039.26 103.168 1041.04 Q101.27 1042.83 101.27 1045.95 Q101.27 1049.08 103.168 1050.86 Q105.089 1052.64 108.422 1052.64 Q111.756 1052.64 113.677 1050.86 Q115.598 1049.05 115.598 1045.95 Q115.598 1042.83 113.677 1041.04 Q111.779 1039.26 108.422 1039.26 M103.746 1037.27 Q100.737 1036.53 99.0474 1034.47 Q97.3808 1032.41 97.3808 1029.45 Q97.3808 1025.3 100.321 1022.9 Q103.284 1020.49 108.422 1020.49 Q113.584 1020.49 116.524 1022.9 Q119.464 1025.3 119.464 1029.45 Q119.464 1032.41 117.774 1034.47 Q116.108 1036.53 113.121 1037.27 Q116.501 1038.06 118.376 1040.35 Q120.274 1042.64 120.274 1045.95 Q120.274 1050.97 117.195 1053.66 Q114.14 1056.35 108.422 1056.35 Q102.705 1056.35 99.6261 1053.66 Q96.5706 1050.97 96.5706 1045.95 Q96.5706 1042.64 98.4687 1040.35 Q100.367 1038.06 103.746 1037.27 M102.034 1029.89 Q102.034 1032.57 103.7 1034.08 Q105.39 1035.58 108.422 1035.58 Q111.432 1035.58 113.121 1034.08 Q114.834 1032.57 114.834 1029.89 Q114.834 1027.2 113.121 1025.7 Q111.432 1024.19 108.422 1024.19 Q105.39 1024.19 103.7 1025.7 Q102.034 1027.2 102.034 1029.89 Z\" fill=\"#000000\" fill-rule=\"nonzero\" fill-opacity=\"1\" /><path clip-path=\"url(#clip040)\" d=\"M53.9088 780.191 L61.5476 780.191 L61.5476 753.825 L53.2375 755.492 L53.2375 751.233 L61.5013 749.566 L66.1772 749.566 L66.1772 780.191 L73.8161 780.191 L73.8161 784.126 L53.9088 784.126 L53.9088 780.191 Z\" fill=\"#000000\" fill-rule=\"nonzero\" fill-opacity=\"1\" /><path clip-path=\"url(#clip040)\" d=\"M83.2605 778.246 L88.1447 778.246 L88.1447 784.126 L83.2605 784.126 L83.2605 778.246 Z\" fill=\"#000000\" fill-rule=\"nonzero\" fill-opacity=\"1\" /><path clip-path=\"url(#clip040)\" d=\"M108.33 752.645 Q104.719 752.645 102.89 756.209 Q101.084 759.751 101.084 766.881 Q101.084 773.987 102.89 777.552 Q104.719 781.094 108.33 781.094 Q111.964 781.094 113.77 777.552 Q115.598 773.987 115.598 766.881 Q115.598 759.751 113.77 756.209 Q111.964 752.645 108.33 752.645 M108.33 748.941 Q114.14 748.941 117.195 753.547 Q120.274 758.131 120.274 766.881 Q120.274 775.608 117.195 780.214 Q114.14 784.797 108.33 784.797 Q102.52 784.797 99.4409 780.214 Q96.3854 775.608 96.3854 766.881 Q96.3854 758.131 99.4409 753.547 Q102.52 748.941 108.33 748.941 Z\" fill=\"#000000\" fill-rule=\"nonzero\" fill-opacity=\"1\" /><path clip-path=\"url(#clip040)\" d=\"M55.506 508.643 L63.1448 508.643 L63.1448 482.277 L54.8347 483.944 L54.8347 479.685 L63.0985 478.018 L67.7744 478.018 L67.7744 508.643 L75.4133 508.643 L75.4133 512.578 L55.506 512.578 L55.506 508.643 Z\" fill=\"#000000\" fill-rule=\"nonzero\" fill-opacity=\"1\" /><path clip-path=\"url(#clip040)\" d=\"M84.8577 506.699 L89.7419 506.699 L89.7419 512.578 L84.8577 512.578 L84.8577 506.699 Z\" fill=\"#000000\" fill-rule=\"nonzero\" fill-opacity=\"1\" /><path clip-path=\"url(#clip040)\" d=\"M103.955 508.643 L120.274 508.643 L120.274 512.578 L98.3298 512.578 L98.3298 508.643 Q100.992 505.888 105.575 501.259 Q110.182 496.606 111.362 495.263 Q113.608 492.74 114.487 491.004 Q115.39 489.245 115.39 487.555 Q115.39 484.8 113.445 483.064 Q111.524 481.328 108.422 481.328 Q106.223 481.328 103.77 482.092 Q101.339 482.856 98.5613 484.407 L98.5613 479.685 Q101.385 478.551 103.839 477.972 Q106.293 477.393 108.33 477.393 Q113.7 477.393 116.895 480.078 Q120.089 482.763 120.089 487.254 Q120.089 489.384 119.279 491.305 Q118.492 493.203 116.385 495.796 Q115.807 496.467 112.705 499.685 Q109.603 502.879 103.955 508.643 Z\" fill=\"#000000\" fill-rule=\"nonzero\" fill-opacity=\"1\" /><path clip-path=\"url(#clip040)\" d=\"M53.4227 237.095 L61.0615 237.095 L61.0615 210.729 L52.7514 212.396 L52.7514 208.137 L61.0152 206.47 L65.6911 206.47 L65.6911 237.095 L73.33 237.095 L73.33 241.03 L53.4227 241.03 L53.4227 237.095 Z\" fill=\"#000000\" fill-rule=\"nonzero\" fill-opacity=\"1\" /><path clip-path=\"url(#clip040)\" d=\"M82.7744 235.151 L87.6586 235.151 L87.6586 241.03 L82.7744 241.03 L82.7744 235.151 Z\" fill=\"#000000\" fill-rule=\"nonzero\" fill-opacity=\"1\" /><path clip-path=\"url(#clip040)\" d=\"M110.691 210.544 L98.8854 228.993 L110.691 228.993 L110.691 210.544 M109.464 206.47 L115.344 206.47 L115.344 228.993 L120.274 228.993 L120.274 232.882 L115.344 232.882 L115.344 241.03 L110.691 241.03 L110.691 232.882 L95.0891 232.882 L95.0891 228.368 L109.464 206.47 Z\" fill=\"#000000\" fill-rule=\"nonzero\" fill-opacity=\"1\" /><polyline clip-path=\"url(#clip042)\" style=\"stroke:#009af9; stroke-linecap:round; stroke-linejoin:round; stroke-width:4; stroke-opacity:1; fill:none\" points=\"218.439,1445.72 223.632,1445.72 228.825,1445.72 234.019,1445.72 239.212,1445.72 244.406,1445.72 249.599,1445.72 254.792,1445.72 259.986,1445.72 265.179,1445.72 270.372,1445.72 275.566,1445.72 280.759,1445.72 285.952,1445.72 291.146,1445.72 296.339,1445.72 301.533,1445.72 306.726,1445.72 311.919,1445.72 317.113,1445.72 322.306,1445.72 327.499,1445.72 332.693,1445.72 337.886,1445.72 343.079,1445.72 348.273,1445.72 353.466,1445.72 358.66,1445.72 363.853,1445.72 369.046,1445.72 374.24,1445.72 379.433,1445.72 384.626,1445.72 389.82,1445.72 395.013,1445.72 400.207,1445.72 405.4,1445.72 410.593,1445.72 415.787,1445.72 420.98,1445.72 426.173,1445.72 431.367,1445.72 436.56,1445.72 441.753,1445.72 446.947,1445.72 452.14,1445.72 457.334,1445.72 462.527,1445.72 467.72,1445.72 472.914,1445.72 478.107,1445.72 483.3,1445.72 488.494,1445.72 493.687,1445.72 498.88,1445.72 504.074,1445.72 509.267,1445.72 514.461,1445.72 519.654,1445.72 524.847,1445.72 530.041,1445.72 535.234,1445.72 540.427,1445.72 545.621,1445.72 550.814,1445.72 556.007,1445.72 561.201,1445.72 566.394,1445.72 571.588,1445.72 576.781,1445.72 581.974,1445.72 587.168,1445.72 592.361,1445.72 597.554,1445.72 602.748,1445.72 607.941,1445.72 613.134,1445.72 618.328,1445.72 623.521,1445.72 628.715,1445.72 633.908,1445.72 639.101,1445.72 644.295,1445.72 649.488,1445.72 654.681,1445.72 659.875,1445.72 665.068,1445.72 670.261,1445.72 675.455,1445.72 680.648,1445.72 685.842,1445.72 691.035,1445.72 696.228,1445.72 701.422,1445.72 706.615,1445.72 711.808,1445.72 717.002,1445.72 722.195,1445.72 727.388,1445.72 732.582,1445.72 737.775,1445.72 742.969,1445.72 748.162,1445.72 753.355,1445.72 758.549,1445.72 763.742,1445.72 768.935,1445.72 774.129,1445.72 779.322,1445.72 784.516,1445.72 789.709,1445.72 794.902,1445.72 800.096,1445.72 805.289,1445.72 810.482,1445.72 815.676,1445.72 820.869,1445.72 826.062,1445.72 831.256,1445.72 836.449,1445.72 841.643,1445.72 846.836,1445.72 852.029,1445.72 857.223,1445.72 862.416,1445.72 867.609,1445.72 872.803,1445.72 877.996,1445.72 883.189,1445.72 888.383,1445.72 893.576,1445.72 898.77,1445.72 903.963,1445.72 909.156,1445.72 914.35,1445.72 919.543,1445.72 924.736,1445.72 929.93,1445.72 935.123,1445.72 940.316,1445.72 945.51,1445.72 950.703,1445.72 955.897,1445.72 961.09,1445.72 966.283,1445.72 971.477,1445.72 976.67,1445.72 981.863,1445.72 987.057,1445.72 992.25,1445.72 997.443,1445.72 1002.64,1445.72 1007.83,1445.72 1013.02,1445.72 1018.22,1445.72 1023.41,1445.72 1028.6,1445.72 1033.8,1445.72 1038.99,1445.72 1044.18,1445.72 1049.38,1445.72 1054.57,1445.72 1059.76,1445.72 1064.96,1445.72 1070.15,1445.72 1075.34,1445.72 1080.54,1445.72 1085.73,1445.72 1090.92,1445.72 1096.12,1445.72 1101.31,1445.72 1106.5,1445.72 1111.7,1445.72 1116.89,1445.72 1122.08,1445.72 1127.28,1445.72 1132.47,1445.72 1137.66,1445.72 1142.86,1445.72 1148.05,1445.72 1153.24,1445.72 1158.44,1445.72 1163.63,1445.72 1168.82,1445.72 1174.02,1445.72 1179.21,1445.72 1184.4,1445.72 1189.6,1445.72 1194.79,1445.72 1199.98,1445.72 1205.18,1445.72 1210.37,1445.72 1215.56,1445.72 1220.76,1445.72 1225.95,1445.72 1231.14,1445.72 1236.34,1445.72 1241.53,1445.72 1246.72,1445.72 1251.92,1445.72 1257.11,1445.72 1262.31,1445.72 1267.5,1445.72 1272.69,1445.72 1277.89,1445.72 1283.08,1445.72 1288.27,1445.72 1293.47,1445.72 1298.66,1445.72 1303.85,1445.72 1309.05,1445.72 1314.24,1445.72 1319.43,1445.72 1324.63,1445.72 1329.82,1445.72 1335.01,1445.72 1340.21,1445.72 1345.4,1445.72 1350.59,1445.72 1355.79,1445.72 1360.98,1445.72 1366.17,1445.72 1371.37,1445.72 1376.56,1445.72 1381.75,1445.72 1386.95,1445.72 1392.14,1445.72 1397.33,1445.72 1402.53,1445.72 1407.72,1445.72 1412.91,1445.72 1418.11,1445.72 1423.3,1445.72 1428.49,1445.72 1433.69,1445.72 1438.88,1445.72 1444.07,1445.72 1449.27,1445.72 1454.46,1445.72 1459.65,1445.72 1464.85,1445.72 1470.04,1445.72 1475.23,1445.72 1480.43,1445.72 1485.62,1445.72 1490.81,1445.72 1496.01,1445.72 1501.2,1445.72 1506.39,1445.72 1511.59,1445.72 1516.78,1445.72 1521.97,1445.72 1527.17,1445.72 1532.36,1445.72 1537.55,1445.72 1542.75,1445.72 1547.94,1445.72 1553.13,1445.72 1558.33,1445.72 1563.52,1445.72 1568.71,1445.72 1573.91,1445.72 1579.1,1445.72 1584.29,1445.72 1589.49,1445.72 1594.68,1445.72 1599.87,1445.72 1605.07,1445.72 1610.26,1445.72 1615.45,1445.72 1620.65,1445.72 1625.84,1445.72 1631.03,1445.72 1636.23,1445.72 1641.42,1445.72 1646.61,1445.72 1651.81,1445.72 1657,1445.72 1662.19,1445.72 1667.39,1445.72 1672.58,1445.72 1677.77,1445.72 1682.97,1445.72 1688.16,1445.72 1693.35,1445.72 1698.55,1445.72 1703.74,1445.72 1708.93,1445.72 1714.13,1445.72 1719.32,1445.72 1724.51,1445.72 1729.71,1445.72 1734.9,1445.72 1740.09,1445.72 1745.29,1445.72 1750.48,1445.72 1755.67,1445.72 1760.87,1445.72 1766.06,1445.72 1771.25,1445.72 1776.45,1445.72 1781.64,1445.72 1786.83,1445.72 1792.03,1445.72 1797.22,1445.72 1802.42,1445.72 1807.61,1445.72 1812.8,1445.72 1818,1445.72 1823.19,1445.72 1828.38,1445.72 1833.58,1445.72 1838.77,1445.72 1843.96,1445.72 1849.16,1445.72 1854.35,1445.72 1859.54,1445.72 1864.74,1445.72 1869.93,1445.72 1875.12,1445.72 1880.32,1445.72 1885.51,1445.72 1890.7,1445.72 1895.9,1445.72 1901.09,1445.72 1906.28,1445.72 1911.48,1445.72 1916.67,1445.72 1921.86,1445.72 1927.06,1445.72 1932.25,1445.72 1937.44,1445.72 1942.64,1445.72 1947.83,1445.72 1953.02,1445.72 1958.22,1445.72 1963.41,1445.72 1968.6,1445.72 1973.8,1445.72 1978.99,1445.72 1984.18,1445.72 1989.38,1445.72 1994.57,1445.72 1999.76,1445.72 2004.96,1445.72 2010.15,1445.72 2015.34,1445.72 2020.54,1445.72 2025.73,1445.72 2030.92,1445.72 2036.12,1445.72 2041.31,1445.72 2046.5,1445.72 2051.7,1445.72 2056.89,1445.72 2062.08,1445.72 2067.28,1445.72 2072.47,1445.72 2077.66,1445.72 2082.86,1445.72 2088.05,1445.72 2093.24,1445.72 2098.44,1445.72 2103.63,1445.72 2108.82,1445.72 2114.02,1445.72 2119.21,1445.72 2124.4,1445.72 2129.6,1445.72 2134.79,1445.72 2139.98,1445.72 2145.18,1445.72 2150.37,1445.72 2155.56,1445.72 2160.76,1445.72 2165.95,1445.72 2171.14,1445.72 2176.34,1445.72 2181.53,1445.72 2186.72,1445.72 2191.92,1445.72 2197.11,1445.72 2202.3,1445.72 2207.5,1445.72 2212.69,1445.72 2217.88,1445.72 2223.08,1445.72 2228.27,1445.72 2233.46,1445.72 2238.66,1445.72 2243.85,1445.72 2249.04,1445.72 2254.24,1445.72 2259.43,1445.72 2264.62,1445.72 2269.82,1445.72 2275.01,1445.72 2280.2,1445.72 2285.4,1445.72 2290.59,1445.72 \"/>\n",
       "<path clip-path=\"url(#clip040)\" d=\"M1982.37 198.898 L2279.54 198.898 L2279.54 95.2176 L1982.37 95.2176  Z\" fill=\"#ffffff\" fill-rule=\"evenodd\" fill-opacity=\"1\"/>\n",
       "<polyline clip-path=\"url(#clip040)\" style=\"stroke:#000000; stroke-linecap:round; stroke-linejoin:round; stroke-width:4; stroke-opacity:1; fill:none\" points=\"1982.37,198.898 2279.54,198.898 2279.54,95.2176 1982.37,95.2176 1982.37,198.898 \"/>\n",
       "<polyline clip-path=\"url(#clip040)\" style=\"stroke:#009af9; stroke-linecap:round; stroke-linejoin:round; stroke-width:4; stroke-opacity:1; fill:none\" points=\"2006.77,147.058 2153.21,147.058 \"/>\n",
       "<path clip-path=\"url(#clip040)\" d=\"M2177.61 154.106 L2177.61 138.412 L2181.87 138.412 L2181.87 153.944 Q2181.87 157.625 2183.31 159.476 Q2184.74 161.305 2187.61 161.305 Q2191.06 161.305 2193.05 159.106 Q2195.07 156.907 2195.07 153.111 L2195.07 138.412 L2199.32 138.412 L2199.32 164.338 L2195.07 164.338 L2195.07 160.356 Q2193.51 162.717 2191.45 163.875 Q2189.42 165.009 2186.71 165.009 Q2182.24 165.009 2179.93 162.231 Q2177.61 159.453 2177.61 154.106 M2188.33 137.787 L2188.33 137.787 Z\" fill=\"#000000\" fill-rule=\"nonzero\" fill-opacity=\"1\" /><path clip-path=\"url(#clip040)\" d=\"M2218.33 128.366 Q2215.23 133.69 2213.72 138.898 Q2212.22 144.106 2212.22 149.453 Q2212.22 154.801 2213.72 160.055 Q2215.25 165.287 2218.33 170.588 L2214.63 170.588 Q2211.15 165.148 2209.42 159.893 Q2207.7 154.639 2207.7 149.453 Q2207.7 144.291 2209.42 139.06 Q2211.13 133.828 2214.63 128.366 L2218.33 128.366 Z\" fill=\"#000000\" fill-rule=\"nonzero\" fill-opacity=\"1\" /><path clip-path=\"url(#clip040)\" d=\"M2230.81 131.051 L2230.81 138.412 L2239.58 138.412 L2239.58 141.722 L2230.81 141.722 L2230.81 155.796 Q2230.81 158.967 2231.66 159.87 Q2232.54 160.773 2235.2 160.773 L2239.58 160.773 L2239.58 164.338 L2235.2 164.338 Q2230.27 164.338 2228.4 162.509 Q2226.52 160.657 2226.52 155.796 L2226.52 141.722 L2223.4 141.722 L2223.4 138.412 L2226.52 138.412 L2226.52 131.051 L2230.81 131.051 Z\" fill=\"#000000\" fill-rule=\"nonzero\" fill-opacity=\"1\" /><path clip-path=\"url(#clip040)\" d=\"M2244.51 128.366 L2248.21 128.366 Q2251.69 133.828 2253.4 139.06 Q2255.13 144.291 2255.13 149.453 Q2255.13 154.639 2253.4 159.893 Q2251.69 165.148 2248.21 170.588 L2244.51 170.588 Q2247.59 165.287 2249.09 160.055 Q2250.62 154.801 2250.62 149.453 Q2250.62 144.106 2249.09 138.898 Q2247.59 133.69 2244.51 128.366 Z\" fill=\"#000000\" fill-rule=\"nonzero\" fill-opacity=\"1\" /></svg>\n"
      ]
     },
     "execution_count": 93,
     "metadata": {},
     "output_type": "execute_result"
    }
   ],
   "source": [
    "plot(u,label=\"u(t)\")\n"
   ]
  }
 ],
 "metadata": {
  "kernelspec": {
   "display_name": "Julia 1.10.2",
   "language": "julia",
   "name": "julia-1.10"
  },
  "language_info": {
   "file_extension": ".jl",
   "mimetype": "application/julia",
   "name": "julia",
   "version": "1.10.2"
  }
 },
 "nbformat": 4,
 "nbformat_minor": 5
}

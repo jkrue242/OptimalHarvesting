{
 "cells": [
  {
   "cell_type": "code",
   "execution_count": 1,
   "id": "673c8607-2d9f-4fb7-89b9-afe3124ddfa7",
   "metadata": {},
   "outputs": [],
   "source": [
    "using LinearAlgebra, Plots"
   ]
  },
  {
   "cell_type": "markdown",
   "id": "495c9590-f30d-4468-b152-22c8d198fac2",
   "metadata": {},
   "source": [
    "## Optimal Fishing Effort\n",
    "\n",
    "#### Minimization problem: \n",
    "$\\quad$ $\\min_u{g(\\textbf{x}(T))}$ subject to $\\frac{d\\textbf{x}}{dt} = \\textbf{F}(\\textbf{x}(t), \\textbf{u}(t))$, $x(0) = x_0$\n",
    "#### where\n",
    "$\\quad$ $\\textbf{F}(\\textbf{x}(t), \\textbf{u}(t)) = \\begin{bmatrix} \\alpha f(f_{max}-f)-\\beta f u \\\\ \\delta m + \\beta f u \\end{bmatrix} \\;$ , $\\beta = 1, f_{max}=f_{0}=1$\n",
    "\n",
    "\n",
    "#### Where our objective function is \n",
    "$\\quad$ $g(\\begin{bmatrix} f \\\\ m\\end{bmatrix}) = -m(T)$\n",
    "\n",
    "#### And the gradient is \n",
    "$\\quad$ $\\nabla g(\\begin{bmatrix} f \\\\ m\\end{bmatrix}) = \\begin{bmatrix} 0 \\\\ 1 \\end{bmatrix}$"
   ]
  },
  {
   "cell_type": "code",
   "execution_count": 2,
   "id": "82bcf7f7-a2e0-45a6-93b2-9dfb3c321b08",
   "metadata": {},
   "outputs": [
    {
     "data": {
      "text/plain": [
       "dg (generic function with 1 method)"
      ]
     },
     "execution_count": 2,
     "metadata": {},
     "output_type": "execute_result"
    }
   ],
   "source": [
    "function F(t::Any,xv::Vector{Float64}, u::Float64,alpha::Float64,beta::Float64,delta::Float64)\n",
    "    f = xv[1]\n",
    "    m = xv[2]\n",
    "    return [\n",
    "        alpha * f * (1 - f) - beta * f * u, \n",
    "        delta * m + beta * f * u\n",
    "    ]\n",
    "end\n",
    "\n",
    "function dg(x::Any)\n",
    "    return [\n",
    "        0,\n",
    "        1\n",
    "    ]\n",
    "end"
   ]
  },
  {
   "cell_type": "markdown",
   "id": "af88f4a2-15f2-4bfb-98f8-a3137349dcd9",
   "metadata": {},
   "source": [
    "#### Derivative of $\\textbf{F}$ with respect to $\\textbf{x}$\n",
    "$\\quad$ $\\nabla_{x} \\textbf{F}(t, \\textbf{x}, \\textbf{u}) = \\begin{bmatrix} \\alpha -2 \\alpha f - u  && 0  \\\\ u  && \\delta \\end{bmatrix}$"
   ]
  },
  {
   "cell_type": "code",
   "execution_count": 3,
   "id": "1f931b72-7bc8-4f43-8c64-36e9dfb5ee3a",
   "metadata": {},
   "outputs": [
    {
     "data": {
      "text/plain": [
       "jacF (generic function with 1 method)"
      ]
     },
     "execution_count": 3,
     "metadata": {},
     "output_type": "execute_result"
    }
   ],
   "source": [
    "function jacF(xv::Vector{Float64}, u::Float64, alpha::Float64,beta::Float64,delta::Float64)\n",
    "    f = xv[1]\n",
    "    return [-alpha * (1 - 2*f) + beta * u  beta * f;  \n",
    "            beta * u                       delta]\n",
    "end"
   ]
  },
  {
   "cell_type": "markdown",
   "id": "d7347321-59d7-4791-a27e-941604b3f796",
   "metadata": {},
   "source": [
    "#### Derivative of $\\textbf{F}$ with respect to $\\textbf{u}$\n",
    "$\\quad$ $\\nabla_{u} \\textbf{F}(t, \\textbf{x}, \\textbf{u}) = \\begin{bmatrix} -\\beta f \\\\ \\beta f \\end{bmatrix}$"
   ]
  },
  {
   "cell_type": "code",
   "execution_count": 4,
   "id": "7ab452b5-ce96-467b-9307-9714bac84870",
   "metadata": {},
   "outputs": [
    {
     "data": {
      "text/plain": [
       "dFdu (generic function with 1 method)"
      ]
     },
     "execution_count": 4,
     "metadata": {},
     "output_type": "execute_result"
    }
   ],
   "source": [
    "function dFdu(x::Vector{Float64}, u::Float64,alpha::Float64,beta::Float64,delta::Float64)\n",
    "    f = x[1]\n",
    "    return [\n",
    "        -beta * f,\n",
    "        beta * f\n",
    "    ]\n",
    "end"
   ]
  },
  {
   "cell_type": "markdown",
   "id": "f29f696b-b590-436e-84a2-b98d0f0bcae0",
   "metadata": {},
   "source": [
    "#### Discretization via Euler's Method\n",
    "$\\quad$ $\\textbf{x}_{k+1} = \\textbf{x} + h\\textbf{F}(\\textbf{x}_{k},\\textbf{u}_{k})$\n",
    "\n",
    "This allows us to find $\\textbf{x}(T)$ via a forward pass"
   ]
  },
  {
   "cell_type": "code",
   "execution_count": 5,
   "id": "85f47153-8a3c-4612-86d1-4d7e48379e49",
   "metadata": {},
   "outputs": [
    {
     "data": {
      "text/plain": [
       "forward (generic function with 1 method)"
      ]
     },
     "execution_count": 5,
     "metadata": {},
     "output_type": "execute_result"
    }
   ],
   "source": [
    "function forward(x0::Vector{Float64}, t0::Float64, F::Function, u::Vector{Float64},alpha::Float64,beta::Float64,delta::Float64,h::Float64)\n",
    "    N = length(u)\n",
    "    xs = zeros(eltype(x0), N+1, length(x0))\n",
    "    xs[1, :] = x0\n",
    "    for i in 1:N\n",
    "        t = t0 + h*i\n",
    "        xs[i+1, :] = xs[i, :] + h*F(t, xs[i, :], u[i],alpha,beta,delta)\n",
    "    end\n",
    "    return xs\n",
    "end"
   ]
  },
  {
   "cell_type": "markdown",
   "id": "e21f9b1f-c596-4c07-97f2-1b5f72c590c2",
   "metadata": {},
   "source": [
    "#### Lagrange Multiplier Equations\n",
    "$\\quad$ $\\lambda_{k-1} = \\lambda_{k} + h\\nabla_{x} \\textbf{F}(\\textbf{x}_k, \\textbf{u}_k)^T \\lambda$\n",
    "\n",
    "Moving backwards from the last $\\lambda$ fills in the rest of the $\\lambda$'s via a backward pass"
   ]
  },
  {
   "cell_type": "code",
   "execution_count": 14,
   "id": "53884045-a1e6-4380-a206-fb703cbdf310",
   "metadata": {},
   "outputs": [
    {
     "data": {
      "text/plain": [
       "backward (generic function with 1 method)"
      ]
     },
     "execution_count": 14,
     "metadata": {},
     "output_type": "execute_result"
    }
   ],
   "source": [
    "function backward(xv::Vector{Float, u::Vector{Float64},grad_g::Function, jacF::Function,alpha::Float64,beta::Float64,delta::Float64,h::Float64)\n",
    "    N = size(xv, 1) - 1\n",
    "    lambdas = zeros(Float64, N, size(xv, 2))\n",
    "    lambdas[end, :] = dg(xv[end, :])\n",
    "    for k in N-1:-1:1\n",
    "        lambdas[k, :] = lambdas[k+1,:] + h * jacF(xv[k+1, :], u[k+1],alpha,beta,delta)'*lambdas[k+1,:]\n",
    "\n",
    "    end\n",
    "    return lambdas\n",
    "end"
   ]
  },
  {
   "cell_type": "code",
   "execution_count": 33,
   "id": "e30c8e92-b4b6-4104-ad1d-12a69678870c",
   "metadata": {},
   "outputs": [
    {
     "data": {
      "text/plain": [
       "du (generic function with 1 method)"
      ]
     },
     "execution_count": 33,
     "metadata": {},
     "output_type": "execute_result"
    }
   ],
   "source": [
    "function du(lambdas, xv, u, dFdu::Function,alpha::Float64,beta::Float64,delta::Float64,h::Float64)\n",
    "    grad_u = zeros(length(u))\n",
    "    for k in 1:length(u)\n",
    "        grad_u[k] = dot(lambdas[k, :], dFdu(xv[k, :], u[k],alpha,beta,delta)) * h\n",
    "    end\n",
    "    return grad_u\n",
    "end"
   ]
  },
  {
   "cell_type": "code",
   "execution_count": 34,
   "id": "25e4492c-02e7-46b5-8999-c1bdc3291d26",
   "metadata": {},
   "outputs": [
    {
     "data": {
      "text/plain": [
       "gradient_descent (generic function with 1 method)"
      ]
     },
     "execution_count": 34,
     "metadata": {},
     "output_type": "execute_result"
    }
   ],
   "source": [
    "function gradient_descent(u, grad_u, h, umin, umax)\n",
    "    u_new = u - h * grad_u\n",
    "    return clamp.(u_new, umin, umax)\n",
    "end"
   ]
  },
  {
   "cell_type": "code",
   "execution_count": 35,
   "id": "5e9d3dbb-30c6-4f62-b3ab-84874e9c2825",
   "metadata": {},
   "outputs": [
    {
     "data": {
      "text/plain": [
       "line_search (generic function with 1 method)"
      ]
     },
     "execution_count": 35,
     "metadata": {},
     "output_type": "execute_result"
    }
   ],
   "source": [
    "function line_search(u, d, grad_u, objective_func, c1, alpha, beta, umax, F, x0, t0, h)\n",
    "    u_new = clamp.(u + alpha * d, -umax, umax)\n",
    "    G_current = calculate_objective(u, x0, t0, F, h)\n",
    "\n",
    "    while true\n",
    "        G_new = calculate_objective(u_new, x0, t0, F, h)\n",
    "        if G_new < G_current + c1 * alpha * dot(grad_u, d)\n",
    "            break \n",
    "        end\n",
    "        alpha *= beta  \n",
    "        if alpha < 1e-8 \n",
    "            break\n",
    "        end\n",
    "        u_new = clamp.(u + alpha * d, -umax, umax)  # Update u_new within the loop\n",
    "    end\n",
    "    return u_new, alpha\n",
    "end"
   ]
  },
  {
   "cell_type": "code",
   "execution_count": 36,
   "id": "193afacc-97b6-4905-b60c-79637279ad10",
   "metadata": {},
   "outputs": [
    {
     "data": {
      "text/plain": [
       "g (generic function with 1 method)"
      ]
     },
     "execution_count": 36,
     "metadata": {},
     "output_type": "execute_result"
    }
   ],
   "source": [
    "function g(u, x0, t0, F::Function, h)\n",
    "    xv = forward(x0, t0, F, u, h)\n",
    "    return states[end, 2]  # Assuming we're minimizing the second state variable at the final time\n",
    "end"
   ]
  },
  {
   "cell_type": "code",
   "execution_count": 40,
   "id": "72a4c883-954c-4c45-b3ec-334bac27f5e5",
   "metadata": {},
   "outputs": [
    {
     "data": {
      "text/plain": [
       "optimize (generic function with 2 methods)"
      ]
     },
     "execution_count": 40,
     "metadata": {},
     "output_type": "execute_result"
    }
   ],
   "source": [
    "function optimize(N,h,x0,umin,umax,uinit,alpha,beta,delta,states)\n",
    "    u = fill(0.5,N)\n",
    "    for iteration in 1:1000\n",
    "        xv = forward(x0, 0.0, F, u,alpha,beta,delta,h)\n",
    "        lambdas = backward(xv, u, dg, jacF,alpha,beta,delta,h)\n",
    "        grad_u = du(lambdas, xv, u, dFdu,alpha,beta,delta,h)\n",
    "        u = gradient_descent(u, grad_u, h, umin, umax)\n",
    "    end\n",
    "\n",
    "    return u, states\n",
    "end"
   ]
  },
  {
   "cell_type": "code",
   "execution_count": 41,
   "id": "2dd22e22-dc32-426f-9e18-a94fdfef611f",
   "metadata": {},
   "outputs": [
    {
     "data": {
      "text/plain": [
       "([1.0, 1.0, 1.0, 1.0, 1.0, 1.0, 1.0, 1.0, 1.0, 1.0  …  0.4998835661195653, 0.4998818776957084, 0.49988034122471753, 0.49987895018402806, 0.4998776982844512, 0.4998765794624551, 0.4998755878726874, 0.4998747178807368, 0.49987396405612305, 0.499873321165519], nothing)"
      ]
     },
     "execution_count": 41,
     "metadata": {},
     "output_type": "execute_result"
    }
   ],
   "source": [
    "N = 400 \n",
    "T = 40.0 \n",
    "h = T / N\n",
    "x0 = [1.0, 0.0] \n",
    "uinit = 0.5\n",
    "umin, umax = 0.0, 1.0\n",
    "alpha = 0.1\n",
    "beta = 0.5\n",
    "delta = 0.05\n",
    "umin = 0.0\n",
    "states = nothing\n",
    "u,x = optimize(N,h,x0,umin,umax,uinit,alpha,beta,delta,states)"
   ]
  },
  {
   "cell_type": "code",
   "execution_count": 42,
   "id": "22e54f4f-26c9-451d-b7ce-34a0a1c34baf",
   "metadata": {},
   "outputs": [
    {
     "data": {
      "image/png": "[encoded data removed]",
      "image/svg+xml": [
       "<?xml version=\"1.0\" encoding=\"utf-8\"?>\n",
       "<svg xmlns=\"http://www.w3.org/2000/svg\" xmlns:xlink=\"http://www.w3.org/1999/xlink\" width=\"600\" height=\"400\" viewBox=\"0 0 2400 1600\">\n",
       "<defs>\n",
       "  <clipPath id=\"clip530\">\n",
       "    <rect x=\"0\" y=\"0\" width=\"2400\" height=\"1600\"/>\n",
       "  </clipPath>\n",
       "</defs>\n",
       "<path clip-path=\"url(#clip530)\" d=\"M0 1600 L2400 1600 L2400 8.88178e-14 L0 8.88178e-14  Z\" fill=\"#ffffff\" fill-rule=\"evenodd\" fill-opacity=\"1\"/>\n",
       "<defs>\n",
       "  <clipPath id=\"clip531\">\n",
       "    <rect x=\"480\" y=\"0\" width=\"1681\" height=\"1600\"/>\n",
       "  </clipPath>\n",
       "</defs>\n",
       "<path clip-path=\"url(#clip530)\" d=\"M156.274 1486.45 L2352.76 1486.45 L2352.76 47.2441 L156.274 47.2441  Z\" fill=\"#ffffff\" fill-rule=\"evenodd\" fill-opacity=\"1\"/>\n",
       "<defs>\n",
       "  <clipPath id=\"clip532\">\n",
       "    <rect x=\"156\" y=\"47\" width=\"2197\" height=\"1440\"/>\n",
       "  </clipPath>\n",
       "</defs>\n",
       "<polyline clip-path=\"url(#clip532)\" style=\"stroke:#000000; stroke-linecap:round; stroke-linejoin:round; stroke-width:2; stroke-opacity:0.1; fill:none\" points=\"213.245,1486.45 213.245,47.2441 \"/>\n",
       "<polyline clip-path=\"url(#clip532)\" style=\"stroke:#000000; stroke-linecap:round; stroke-linejoin:round; stroke-width:2; stroke-opacity:0.1; fill:none\" points=\"732.582,1486.45 732.582,47.2441 \"/>\n",
       "<polyline clip-path=\"url(#clip532)\" style=\"stroke:#000000; stroke-linecap:round; stroke-linejoin:round; stroke-width:2; stroke-opacity:0.1; fill:none\" points=\"1251.92,1486.45 1251.92,47.2441 \"/>\n",
       "<polyline clip-path=\"url(#clip532)\" style=\"stroke:#000000; stroke-linecap:round; stroke-linejoin:round; stroke-width:2; stroke-opacity:0.1; fill:none\" points=\"1771.25,1486.45 1771.25,47.2441 \"/>\n",
       "<polyline clip-path=\"url(#clip532)\" style=\"stroke:#000000; stroke-linecap:round; stroke-linejoin:round; stroke-width:2; stroke-opacity:0.1; fill:none\" points=\"2290.59,1486.45 2290.59,47.2441 \"/>\n",
       "<polyline clip-path=\"url(#clip530)\" style=\"stroke:#000000; stroke-linecap:round; stroke-linejoin:round; stroke-width:4; stroke-opacity:1; fill:none\" points=\"156.274,1486.45 2352.76,1486.45 \"/>\n",
       "<polyline clip-path=\"url(#clip530)\" style=\"stroke:#000000; stroke-linecap:round; stroke-linejoin:round; stroke-width:4; stroke-opacity:1; fill:none\" points=\"213.245,1486.45 213.245,1467.55 \"/>\n",
       "<polyline clip-path=\"url(#clip530)\" style=\"stroke:#000000; stroke-linecap:round; stroke-linejoin:round; stroke-width:4; stroke-opacity:1; fill:none\" points=\"732.582,1486.45 732.582,1467.55 \"/>\n",
       "<polyline clip-path=\"url(#clip530)\" style=\"stroke:#000000; stroke-linecap:round; stroke-linejoin:round; stroke-width:4; stroke-opacity:1; fill:none\" points=\"1251.92,1486.45 1251.92,1467.55 \"/>\n",
       "<polyline clip-path=\"url(#clip530)\" style=\"stroke:#000000; stroke-linecap:round; stroke-linejoin:round; stroke-width:4; stroke-opacity:1; fill:none\" points=\"1771.25,1486.45 1771.25,1467.55 \"/>\n",
       "<polyline clip-path=\"url(#clip530)\" style=\"stroke:#000000; stroke-linecap:round; stroke-linejoin:round; stroke-width:4; stroke-opacity:1; fill:none\" points=\"2290.59,1486.45 2290.59,1467.55 \"/>\n",
       "<path clip-path=\"url(#clip530)\" d=\"M213.245 1517.37 Q209.634 1517.37 207.806 1520.93 Q206 1524.47 206 1531.6 Q206 1538.71 207.806 1542.27 Q209.634 1545.82 213.245 1545.82 Q216.88 1545.82 218.685 1542.27 Q220.514 1538.71 220.514 1531.6 Q220.514 1524.47 218.685 1520.93 Q216.88 1517.37 213.245 1517.37 M213.245 1513.66 Q219.056 1513.66 222.111 1518.27 Q225.19 1522.85 225.19 1531.6 Q225.19 1540.33 222.111 1544.94 Q219.056 1549.52 213.245 1549.52 Q207.435 1549.52 204.357 1544.94 Q201.301 1540.33 201.301 1531.6 Q201.301 1522.85 204.357 1518.27 Q207.435 1513.66 213.245 1513.66 Z\" fill=\"#000000\" fill-rule=\"nonzero\" fill-opacity=\"1\" /><path clip-path=\"url(#clip530)\" d=\"M692.189 1544.91 L699.827 1544.91 L699.827 1518.55 L691.517 1520.21 L691.517 1515.95 L699.781 1514.29 L704.457 1514.29 L704.457 1544.91 L712.096 1544.91 L712.096 1548.85 L692.189 1548.85 L692.189 1544.91 Z\" fill=\"#000000\" fill-rule=\"nonzero\" fill-opacity=\"1\" /><path clip-path=\"url(#clip530)\" d=\"M731.54 1517.37 Q727.929 1517.37 726.1 1520.93 Q724.295 1524.47 724.295 1531.6 Q724.295 1538.71 726.1 1542.27 Q727.929 1545.82 731.54 1545.82 Q735.174 1545.82 736.98 1542.27 Q738.809 1538.71 738.809 1531.6 Q738.809 1524.47 736.98 1520.93 Q735.174 1517.37 731.54 1517.37 M731.54 1513.66 Q737.35 1513.66 740.406 1518.27 Q743.485 1522.85 743.485 1531.6 Q743.485 1540.33 740.406 1544.94 Q737.35 1549.52 731.54 1549.52 Q725.73 1549.52 722.651 1544.94 Q719.596 1540.33 719.596 1531.6 Q719.596 1522.85 722.651 1518.27 Q725.73 1513.66 731.54 1513.66 Z\" fill=\"#000000\" fill-rule=\"nonzero\" fill-opacity=\"1\" /><path clip-path=\"url(#clip530)\" d=\"M761.702 1517.37 Q758.091 1517.37 756.262 1520.93 Q754.457 1524.47 754.457 1531.6 Q754.457 1538.71 756.262 1542.27 Q758.091 1545.82 761.702 1545.82 Q765.336 1545.82 767.142 1542.27 Q768.971 1538.71 768.971 1531.6 Q768.971 1524.47 767.142 1520.93 Q765.336 1517.37 761.702 1517.37 M761.702 1513.66 Q767.512 1513.66 770.568 1518.27 Q773.646 1522.85 773.646 1531.6 Q773.646 1540.33 770.568 1544.94 Q767.512 1549.52 761.702 1549.52 Q755.892 1549.52 752.813 1544.94 Q749.758 1540.33 749.758 1531.6 Q749.758 1522.85 752.813 1518.27 Q755.892 1513.66 761.702 1513.66 Z\" fill=\"#000000\" fill-rule=\"nonzero\" fill-opacity=\"1\" /><path clip-path=\"url(#clip530)\" d=\"M1215.61 1544.91 L1231.93 1544.91 L1231.93 1548.85 L1209.99 1548.85 L1209.99 1544.91 Q1212.65 1542.16 1217.23 1537.53 Q1221.84 1532.88 1223.02 1531.53 Q1225.26 1529.01 1226.14 1527.27 Q1227.05 1525.51 1227.05 1523.82 Q1227.05 1521.07 1225.1 1519.33 Q1223.18 1517.6 1220.08 1517.6 Q1217.88 1517.6 1215.43 1518.36 Q1212.99 1519.13 1210.22 1520.68 L1210.22 1515.95 Q1213.04 1514.82 1215.49 1514.24 Q1217.95 1513.66 1219.99 1513.66 Q1225.36 1513.66 1228.55 1516.35 Q1231.74 1519.03 1231.74 1523.52 Q1231.74 1525.65 1230.93 1527.57 Q1230.15 1529.47 1228.04 1532.07 Q1227.46 1532.74 1224.36 1535.95 Q1221.26 1539.15 1215.61 1544.91 Z\" fill=\"#000000\" fill-rule=\"nonzero\" fill-opacity=\"1\" /><path clip-path=\"url(#clip530)\" d=\"M1251.74 1517.37 Q1248.13 1517.37 1246.3 1520.93 Q1244.5 1524.47 1244.5 1531.6 Q1244.5 1538.71 1246.3 1542.27 Q1248.13 1545.82 1251.74 1545.82 Q1255.38 1545.82 1257.18 1542.27 Q1259.01 1538.71 1259.01 1531.6 Q1259.01 1524.47 1257.18 1520.93 Q1255.38 1517.37 1251.74 1517.37 M1251.74 1513.66 Q1257.55 1513.66 1260.61 1518.27 Q1263.69 1522.85 1263.69 1531.6 Q1263.69 1540.33 1260.61 1544.94 Q1257.55 1549.52 1251.74 1549.52 Q1245.93 1549.52 1242.86 1544.94 Q1239.8 1540.33 1239.8 1531.6 Q1239.8 1522.85 1242.86 1518.27 Q1245.93 1513.66 1251.74 1513.66 Z\" fill=\"#000000\" fill-rule=\"nonzero\" fill-opacity=\"1\" /><path clip-path=\"url(#clip530)\" d=\"M1281.91 1517.37 Q1278.3 1517.37 1276.47 1520.93 Q1274.66 1524.47 1274.66 1531.6 Q1274.66 1538.71 1276.47 1542.27 Q1278.3 1545.82 1281.91 1545.82 Q1285.54 1545.82 1287.35 1542.27 Q1289.18 1538.71 1289.18 1531.6 Q1289.18 1524.47 1287.35 1520.93 Q1285.54 1517.37 1281.91 1517.37 M1281.91 1513.66 Q1287.72 1513.66 1290.77 1518.27 Q1293.85 1522.85 1293.85 1531.6 Q1293.85 1540.33 1290.77 1544.94 Q1287.72 1549.52 1281.91 1549.52 Q1276.1 1549.52 1273.02 1544.94 Q1269.96 1540.33 1269.96 1531.6 Q1269.96 1522.85 1273.02 1518.27 Q1276.1 1513.66 1281.91 1513.66 Z\" fill=\"#000000\" fill-rule=\"nonzero\" fill-opacity=\"1\" /><path clip-path=\"url(#clip530)\" d=\"M1745.02 1530.21 Q1748.37 1530.93 1750.25 1533.2 Q1752.15 1535.47 1752.15 1538.8 Q1752.15 1543.92 1748.63 1546.72 Q1745.11 1549.52 1738.63 1549.52 Q1736.45 1549.52 1734.14 1549.08 Q1731.85 1548.66 1729.39 1547.81 L1729.39 1543.29 Q1731.34 1544.43 1733.65 1545.01 Q1735.97 1545.58 1738.49 1545.58 Q1742.89 1545.58 1745.18 1543.85 Q1747.49 1542.11 1747.49 1538.8 Q1747.49 1535.75 1745.34 1534.03 Q1743.21 1532.3 1739.39 1532.3 L1735.36 1532.3 L1735.36 1528.45 L1739.58 1528.45 Q1743.03 1528.45 1744.85 1527.09 Q1746.68 1525.7 1746.68 1523.11 Q1746.68 1520.45 1744.79 1519.03 Q1742.91 1517.6 1739.39 1517.6 Q1737.47 1517.6 1735.27 1518.01 Q1733.07 1518.43 1730.43 1519.31 L1730.43 1515.14 Q1733.1 1514.4 1735.41 1514.03 Q1737.75 1513.66 1739.81 1513.66 Q1745.13 1513.66 1748.23 1516.09 Q1751.34 1518.5 1751.34 1522.62 Q1751.34 1525.49 1749.69 1527.48 Q1748.05 1529.45 1745.02 1530.21 Z\" fill=\"#000000\" fill-rule=\"nonzero\" fill-opacity=\"1\" /><path clip-path=\"url(#clip530)\" d=\"M1771.01 1517.37 Q1767.4 1517.37 1765.57 1520.93 Q1763.77 1524.47 1763.77 1531.6 Q1763.77 1538.71 1765.57 1542.27 Q1767.4 1545.82 1771.01 1545.82 Q1774.65 1545.82 1776.45 1542.27 Q1778.28 1538.71 1778.28 1531.6 Q1778.28 1524.47 1776.45 1520.93 Q1774.65 1517.37 1771.01 1517.37 M1771.01 1513.66 Q1776.82 1513.66 1779.88 1518.27 Q1782.96 1522.85 1782.96 1531.6 Q1782.96 1540.33 1779.88 1544.94 Q1776.82 1549.52 1771.01 1549.52 Q1765.2 1549.52 1762.12 1544.94 Q1759.07 1540.33 1759.07 1531.6 Q1759.07 1522.85 1762.12 1518.27 Q1765.2 1513.66 1771.01 1513.66 Z\" fill=\"#000000\" fill-rule=\"nonzero\" fill-opacity=\"1\" /><path clip-path=\"url(#clip530)\" d=\"M1801.17 1517.37 Q1797.56 1517.37 1795.73 1520.93 Q1793.93 1524.47 1793.93 1531.6 Q1793.93 1538.71 1795.73 1542.27 Q1797.56 1545.82 1801.17 1545.82 Q1804.81 1545.82 1806.61 1542.27 Q1808.44 1538.71 1808.44 1531.6 Q1808.44 1524.47 1806.61 1520.93 Q1804.81 1517.37 1801.17 1517.37 M1801.17 1513.66 Q1806.98 1513.66 1810.04 1518.27 Q1813.12 1522.85 1813.12 1531.6 Q1813.12 1540.33 1810.04 1544.94 Q1806.98 1549.52 1801.17 1549.52 Q1795.36 1549.52 1792.28 1544.94 Q1789.23 1540.33 1789.23 1531.6 Q1789.23 1522.85 1792.28 1518.27 Q1795.36 1513.66 1801.17 1513.66 Z\" fill=\"#000000\" fill-rule=\"nonzero\" fill-opacity=\"1\" /><path clip-path=\"url(#clip530)\" d=\"M2263.68 1518.36 L2251.88 1536.81 L2263.68 1536.81 L2263.68 1518.36 M2262.45 1514.29 L2268.33 1514.29 L2268.33 1536.81 L2273.27 1536.81 L2273.27 1540.7 L2268.33 1540.7 L2268.33 1548.85 L2263.68 1548.85 L2263.68 1540.7 L2248.08 1540.7 L2248.08 1536.19 L2262.45 1514.29 Z\" fill=\"#000000\" fill-rule=\"nonzero\" fill-opacity=\"1\" /><path clip-path=\"url(#clip530)\" d=\"M2291 1517.37 Q2287.39 1517.37 2285.56 1520.93 Q2283.75 1524.47 2283.75 1531.6 Q2283.75 1538.71 2285.56 1542.27 Q2287.39 1545.82 2291 1545.82 Q2294.63 1545.82 2296.44 1542.27 Q2298.26 1538.71 2298.26 1531.6 Q2298.26 1524.47 2296.44 1520.93 Q2294.63 1517.37 2291 1517.37 M2291 1513.66 Q2296.81 1513.66 2299.86 1518.27 Q2302.94 1522.85 2302.94 1531.6 Q2302.94 1540.33 2299.86 1544.94 Q2296.81 1549.52 2291 1549.52 Q2285.19 1549.52 2282.11 1544.94 Q2279.05 1540.33 2279.05 1531.6 Q2279.05 1522.85 2282.11 1518.27 Q2285.19 1513.66 2291 1513.66 Z\" fill=\"#000000\" fill-rule=\"nonzero\" fill-opacity=\"1\" /><path clip-path=\"url(#clip530)\" d=\"M2321.16 1517.37 Q2317.55 1517.37 2315.72 1520.93 Q2313.91 1524.47 2313.91 1531.6 Q2313.91 1538.71 2315.72 1542.27 Q2317.55 1545.82 2321.16 1545.82 Q2324.79 1545.82 2326.6 1542.27 Q2328.43 1538.71 2328.43 1531.6 Q2328.43 1524.47 2326.6 1520.93 Q2324.79 1517.37 2321.16 1517.37 M2321.16 1513.66 Q2326.97 1513.66 2330.02 1518.27 Q2333.1 1522.85 2333.1 1531.6 Q2333.1 1540.33 2330.02 1544.94 Q2326.97 1549.52 2321.16 1549.52 Q2315.35 1549.52 2312.27 1544.94 Q2309.21 1540.33 2309.21 1531.6 Q2309.21 1522.85 2312.27 1518.27 Q2315.35 1513.66 2321.16 1513.66 Z\" fill=\"#000000\" fill-rule=\"nonzero\" fill-opacity=\"1\" /><polyline clip-path=\"url(#clip532)\" style=\"stroke:#000000; stroke-linecap:round; stroke-linejoin:round; stroke-width:2; stroke-opacity:0.1; fill:none\" points=\"156.274,1445.37 2352.76,1445.37 \"/>\n",
       "<polyline clip-path=\"url(#clip532)\" style=\"stroke:#000000; stroke-linecap:round; stroke-linejoin:round; stroke-width:2; stroke-opacity:0.1; fill:none\" points=\"156.274,1173.89 2352.76,1173.89 \"/>\n",
       "<polyline clip-path=\"url(#clip532)\" style=\"stroke:#000000; stroke-linecap:round; stroke-linejoin:round; stroke-width:2; stroke-opacity:0.1; fill:none\" points=\"156.274,902.414 2352.76,902.414 \"/>\n",
       "<polyline clip-path=\"url(#clip532)\" style=\"stroke:#000000; stroke-linecap:round; stroke-linejoin:round; stroke-width:2; stroke-opacity:0.1; fill:none\" points=\"156.274,630.934 2352.76,630.934 \"/>\n",
       "<polyline clip-path=\"url(#clip532)\" style=\"stroke:#000000; stroke-linecap:round; stroke-linejoin:round; stroke-width:2; stroke-opacity:0.1; fill:none\" points=\"156.274,359.455 2352.76,359.455 \"/>\n",
       "<polyline clip-path=\"url(#clip532)\" style=\"stroke:#000000; stroke-linecap:round; stroke-linejoin:round; stroke-width:2; stroke-opacity:0.1; fill:none\" points=\"156.274,87.9763 2352.76,87.9763 \"/>\n",
       "<polyline clip-path=\"url(#clip530)\" style=\"stroke:#000000; stroke-linecap:round; stroke-linejoin:round; stroke-width:4; stroke-opacity:1; fill:none\" points=\"156.274,1486.45 156.274,47.2441 \"/>\n",
       "<polyline clip-path=\"url(#clip530)\" style=\"stroke:#000000; stroke-linecap:round; stroke-linejoin:round; stroke-width:4; stroke-opacity:1; fill:none\" points=\"156.274,1445.37 175.172,1445.37 \"/>\n",
       "<polyline clip-path=\"url(#clip530)\" style=\"stroke:#000000; stroke-linecap:round; stroke-linejoin:round; stroke-width:4; stroke-opacity:1; fill:none\" points=\"156.274,1173.89 175.172,1173.89 \"/>\n",
       "<polyline clip-path=\"url(#clip530)\" style=\"stroke:#000000; stroke-linecap:round; stroke-linejoin:round; stroke-width:4; stroke-opacity:1; fill:none\" points=\"156.274,902.414 175.172,902.414 \"/>\n",
       "<polyline clip-path=\"url(#clip530)\" style=\"stroke:#000000; stroke-linecap:round; stroke-linejoin:round; stroke-width:4; stroke-opacity:1; fill:none\" points=\"156.274,630.934 175.172,630.934 \"/>\n",
       "<polyline clip-path=\"url(#clip530)\" style=\"stroke:#000000; stroke-linecap:round; stroke-linejoin:round; stroke-width:4; stroke-opacity:1; fill:none\" points=\"156.274,359.455 175.172,359.455 \"/>\n",
       "<polyline clip-path=\"url(#clip530)\" style=\"stroke:#000000; stroke-linecap:round; stroke-linejoin:round; stroke-width:4; stroke-opacity:1; fill:none\" points=\"156.274,87.9763 175.172,87.9763 \"/>\n",
       "<path clip-path=\"url(#clip530)\" d=\"M64.0939 1431.17 Q60.4828 1431.17 58.6541 1434.74 Q56.8486 1438.28 56.8486 1445.41 Q56.8486 1452.51 58.6541 1456.08 Q60.4828 1459.62 64.0939 1459.62 Q67.7281 1459.62 69.5337 1456.08 Q71.3624 1452.51 71.3624 1445.41 Q71.3624 1438.28 69.5337 1434.74 Q67.7281 1431.17 64.0939 1431.17 M64.0939 1427.47 Q69.9041 1427.47 72.9596 1432.07 Q76.0383 1436.66 76.0383 1445.41 Q76.0383 1454.13 72.9596 1458.74 Q69.9041 1463.32 64.0939 1463.32 Q58.2838 1463.32 55.2051 1458.74 Q52.1495 1454.13 52.1495 1445.41 Q52.1495 1436.66 55.2051 1432.07 Q58.2838 1427.47 64.0939 1427.47 Z\" fill=\"#000000\" fill-rule=\"nonzero\" fill-opacity=\"1\" /><path clip-path=\"url(#clip530)\" d=\"M84.2558 1456.77 L89.1401 1456.77 L89.1401 1462.65 L84.2558 1462.65 L84.2558 1456.77 Z\" fill=\"#000000\" fill-rule=\"nonzero\" fill-opacity=\"1\" /><path clip-path=\"url(#clip530)\" d=\"M99.3715 1428.09 L117.728 1428.09 L117.728 1432.03 L103.654 1432.03 L103.654 1440.5 Q104.672 1440.15 105.691 1439.99 Q106.709 1439.8 107.728 1439.8 Q113.515 1439.8 116.895 1442.98 Q120.274 1446.15 120.274 1451.56 Q120.274 1457.14 116.802 1460.24 Q113.33 1463.32 107.01 1463.32 Q104.834 1463.32 102.566 1462.95 Q100.321 1462.58 97.9132 1461.84 L97.9132 1457.14 Q99.9965 1458.28 102.219 1458.83 Q104.441 1459.39 106.918 1459.39 Q110.922 1459.39 113.26 1457.28 Q115.598 1455.17 115.598 1451.56 Q115.598 1447.95 113.26 1445.85 Q110.922 1443.74 106.918 1443.74 Q105.043 1443.74 103.168 1444.16 Q101.316 1444.57 99.3715 1445.45 L99.3715 1428.09 Z\" fill=\"#000000\" fill-rule=\"nonzero\" fill-opacity=\"1\" /><path clip-path=\"url(#clip530)\" d=\"M62.9365 1159.69 Q59.3254 1159.69 57.4967 1163.26 Q55.6912 1166.8 55.6912 1173.93 Q55.6912 1181.03 57.4967 1184.6 Q59.3254 1188.14 62.9365 1188.14 Q66.5707 1188.14 68.3763 1184.6 Q70.205 1181.03 70.205 1173.93 Q70.205 1166.8 68.3763 1163.26 Q66.5707 1159.69 62.9365 1159.69 M62.9365 1155.99 Q68.7467 1155.99 71.8022 1160.59 Q74.8809 1165.18 74.8809 1173.93 Q74.8809 1182.65 71.8022 1187.26 Q68.7467 1191.84 62.9365 1191.84 Q57.1264 1191.84 54.0477 1187.26 Q50.9921 1182.65 50.9921 1173.93 Q50.9921 1165.18 54.0477 1160.59 Q57.1264 1155.99 62.9365 1155.99 Z\" fill=\"#000000\" fill-rule=\"nonzero\" fill-opacity=\"1\" /><path clip-path=\"url(#clip530)\" d=\"M83.0984 1185.29 L87.9827 1185.29 L87.9827 1191.17 L83.0984 1191.17 L83.0984 1185.29 Z\" fill=\"#000000\" fill-rule=\"nonzero\" fill-opacity=\"1\" /><path clip-path=\"url(#clip530)\" d=\"M108.746 1172.03 Q105.598 1172.03 103.746 1174.18 Q101.918 1176.33 101.918 1180.08 Q101.918 1183.81 103.746 1185.99 Q105.598 1188.14 108.746 1188.14 Q111.895 1188.14 113.723 1185.99 Q115.575 1183.81 115.575 1180.08 Q115.575 1176.33 113.723 1174.18 Q111.895 1172.03 108.746 1172.03 M118.029 1157.38 L118.029 1161.64 Q116.27 1160.8 114.464 1160.36 Q112.682 1159.92 110.922 1159.92 Q106.293 1159.92 103.839 1163.05 Q101.409 1166.17 101.061 1172.49 Q102.427 1170.48 104.487 1169.41 Q106.547 1168.33 109.024 1168.33 Q114.233 1168.33 117.242 1171.5 Q120.274 1174.64 120.274 1180.08 Q120.274 1185.41 117.126 1188.63 Q113.978 1191.84 108.746 1191.84 Q102.751 1191.84 99.5798 1187.26 Q96.4085 1182.65 96.4085 1173.93 Q96.4085 1165.73 100.297 1160.87 Q104.186 1155.99 110.737 1155.99 Q112.496 1155.99 114.279 1156.33 Q116.084 1156.68 118.029 1157.38 Z\" fill=\"#000000\" fill-rule=\"nonzero\" fill-opacity=\"1\" /><path clip-path=\"url(#clip530)\" d=\"M64.0013 888.212 Q60.3902 888.212 58.5615 891.777 Q56.756 895.319 56.756 902.448 Q56.756 909.555 58.5615 913.12 Q60.3902 916.661 64.0013 916.661 Q67.6356 916.661 69.4411 913.12 Q71.2698 909.555 71.2698 902.448 Q71.2698 895.319 69.4411 891.777 Q67.6356 888.212 64.0013 888.212 M64.0013 884.509 Q69.8115 884.509 72.867 889.115 Q75.9457 893.698 75.9457 902.448 Q75.9457 911.175 72.867 915.782 Q69.8115 920.365 64.0013 920.365 Q58.1912 920.365 55.1125 915.782 Q52.0569 911.175 52.0569 902.448 Q52.0569 893.698 55.1125 889.115 Q58.1912 884.509 64.0013 884.509 Z\" fill=\"#000000\" fill-rule=\"nonzero\" fill-opacity=\"1\" /><path clip-path=\"url(#clip530)\" d=\"M84.1632 913.814 L89.0475 913.814 L89.0475 919.694 L84.1632 919.694 L84.1632 913.814 Z\" fill=\"#000000\" fill-rule=\"nonzero\" fill-opacity=\"1\" /><path clip-path=\"url(#clip530)\" d=\"M98.0521 885.134 L120.274 885.134 L120.274 887.124 L107.728 919.694 L102.844 919.694 L114.649 889.069 L98.0521 889.069 L98.0521 885.134 Z\" fill=\"#000000\" fill-rule=\"nonzero\" fill-opacity=\"1\" /><path clip-path=\"url(#clip530)\" d=\"M63.1911 616.733 Q59.58 616.733 57.7513 620.298 Q55.9458 623.84 55.9458 630.969 Q55.9458 638.076 57.7513 641.64 Q59.58 645.182 63.1911 645.182 Q66.8254 645.182 68.6309 641.64 Q70.4596 638.076 70.4596 630.969 Q70.4596 623.84 68.6309 620.298 Q66.8254 616.733 63.1911 616.733 M63.1911 613.029 Q69.0013 613.029 72.0568 617.636 Q75.1355 622.219 75.1355 630.969 Q75.1355 639.696 72.0568 644.302 Q69.0013 648.886 63.1911 648.886 Q57.381 648.886 54.3023 644.302 Q51.2468 639.696 51.2468 630.969 Q51.2468 622.219 54.3023 617.636 Q57.381 613.029 63.1911 613.029 Z\" fill=\"#000000\" fill-rule=\"nonzero\" fill-opacity=\"1\" /><path clip-path=\"url(#clip530)\" d=\"M83.3531 642.335 L88.2373 642.335 L88.2373 648.214 L83.3531 648.214 L83.3531 642.335 Z\" fill=\"#000000\" fill-rule=\"nonzero\" fill-opacity=\"1\" /><path clip-path=\"url(#clip530)\" d=\"M108.422 631.803 Q105.089 631.803 103.168 633.585 Q101.27 635.367 101.27 638.492 Q101.27 641.617 103.168 643.4 Q105.089 645.182 108.422 645.182 Q111.756 645.182 113.677 643.4 Q115.598 641.594 115.598 638.492 Q115.598 635.367 113.677 633.585 Q111.779 631.803 108.422 631.803 M103.746 629.812 Q100.737 629.071 99.0474 627.011 Q97.3808 624.951 97.3808 621.988 Q97.3808 617.844 100.321 615.437 Q103.284 613.029 108.422 613.029 Q113.584 613.029 116.524 615.437 Q119.464 617.844 119.464 621.988 Q119.464 624.951 117.774 627.011 Q116.108 629.071 113.121 629.812 Q116.501 630.599 118.376 632.89 Q120.274 635.182 120.274 638.492 Q120.274 643.515 117.195 646.201 Q114.14 648.886 108.422 648.886 Q102.705 648.886 99.6261 646.201 Q96.5706 643.515 96.5706 638.492 Q96.5706 635.182 98.4687 632.89 Q100.367 630.599 103.746 629.812 M102.034 622.428 Q102.034 625.113 103.7 626.617 Q105.39 628.122 108.422 628.122 Q111.432 628.122 113.121 626.617 Q114.834 625.113 114.834 622.428 Q114.834 619.742 113.121 618.238 Q111.432 616.733 108.422 616.733 Q105.39 616.733 103.7 618.238 Q102.034 619.742 102.034 622.428 Z\" fill=\"#000000\" fill-rule=\"nonzero\" fill-opacity=\"1\" /><path clip-path=\"url(#clip530)\" d=\"M63.2837 345.254 Q59.6726 345.254 57.8439 348.819 Q56.0384 352.361 56.0384 359.49 Q56.0384 366.597 57.8439 370.161 Q59.6726 373.703 63.2837 373.703 Q66.918 373.703 68.7235 370.161 Q70.5522 366.597 70.5522 359.49 Q70.5522 352.361 68.7235 348.819 Q66.918 345.254 63.2837 345.254 M63.2837 341.55 Q69.0939 341.55 72.1494 346.157 Q75.2281 350.74 75.2281 359.49 Q75.2281 368.217 72.1494 372.823 Q69.0939 377.407 63.2837 377.407 Q57.4736 377.407 54.3949 372.823 Q51.3393 368.217 51.3393 359.49 Q51.3393 350.74 54.3949 346.157 Q57.4736 341.55 63.2837 341.55 Z\" fill=\"#000000\" fill-rule=\"nonzero\" fill-opacity=\"1\" /><path clip-path=\"url(#clip530)\" d=\"M83.4457 370.856 L88.3299 370.856 L88.3299 376.735 L83.4457 376.735 L83.4457 370.856 Z\" fill=\"#000000\" fill-rule=\"nonzero\" fill-opacity=\"1\" /><path clip-path=\"url(#clip530)\" d=\"M98.6539 376.018 L98.6539 371.759 Q100.413 372.592 102.219 373.032 Q104.024 373.472 105.76 373.472 Q110.39 373.472 112.82 370.37 Q115.274 367.245 115.621 360.902 Q114.279 362.893 112.219 363.958 Q110.158 365.022 107.658 365.022 Q102.473 365.022 99.4409 361.897 Q96.4317 358.749 96.4317 353.31 Q96.4317 347.986 99.5798 344.768 Q102.728 341.55 107.959 341.55 Q113.955 341.55 117.103 346.157 Q120.274 350.74 120.274 359.49 Q120.274 367.661 116.385 372.546 Q112.52 377.407 105.969 377.407 Q104.209 377.407 102.404 377.059 Q100.598 376.712 98.6539 376.018 M107.959 361.365 Q111.108 361.365 112.936 359.212 Q114.788 357.06 114.788 353.31 Q114.788 349.583 112.936 347.43 Q111.108 345.254 107.959 345.254 Q104.811 345.254 102.959 347.43 Q101.131 349.583 101.131 353.31 Q101.131 357.06 102.959 359.212 Q104.811 361.365 107.959 361.365 Z\" fill=\"#000000\" fill-rule=\"nonzero\" fill-opacity=\"1\" /><path clip-path=\"url(#clip530)\" d=\"M53.9088 101.321 L61.5476 101.321 L61.5476 74.9555 L53.2375 76.6222 L53.2375 72.3629 L61.5013 70.6963 L66.1772 70.6963 L66.1772 101.321 L73.8161 101.321 L73.8161 105.256 L53.9088 105.256 L53.9088 101.321 Z\" fill=\"#000000\" fill-rule=\"nonzero\" fill-opacity=\"1\" /><path clip-path=\"url(#clip530)\" d=\"M83.2605 99.3767 L88.1447 99.3767 L88.1447 105.256 L83.2605 105.256 L83.2605 99.3767 Z\" fill=\"#000000\" fill-rule=\"nonzero\" fill-opacity=\"1\" /><path clip-path=\"url(#clip530)\" d=\"M108.33 73.775 Q104.719 73.775 102.89 77.3398 Q101.084 80.8814 101.084 88.011 Q101.084 95.1174 102.89 98.6822 Q104.719 102.224 108.33 102.224 Q111.964 102.224 113.77 98.6822 Q115.598 95.1174 115.598 88.011 Q115.598 80.8814 113.77 77.3398 Q111.964 73.775 108.33 73.775 M108.33 70.0713 Q114.14 70.0713 117.195 74.6777 Q120.274 79.261 120.274 88.011 Q120.274 96.7378 117.195 101.344 Q114.14 105.928 108.33 105.928 Q102.52 105.928 99.4409 101.344 Q96.3854 96.7378 96.3854 88.011 Q96.3854 79.261 99.4409 74.6777 Q102.52 70.0713 108.33 70.0713 Z\" fill=\"#000000\" fill-rule=\"nonzero\" fill-opacity=\"1\" /><polyline clip-path=\"url(#clip532)\" style=\"stroke:#009af9; stroke-linecap:round; stroke-linejoin:round; stroke-width:4; stroke-opacity:1; fill:none\" points=\"218.439,87.9763 223.632,87.9763 228.825,87.9763 234.019,87.9763 239.212,87.9763 244.406,87.9763 249.599,87.9763 254.792,87.9763 259.986,87.9763 265.179,87.9763 270.372,87.9763 275.566,87.9763 280.759,87.9763 285.952,87.9763 291.146,87.9763 296.339,87.9763 301.533,87.9763 306.726,87.9763 311.919,87.9763 317.113,87.9763 322.306,87.9763 327.499,87.9763 332.693,87.9763 337.886,87.9763 343.079,87.9763 348.273,87.9763 353.466,87.9763 358.66,87.9763 363.853,87.9763 369.046,87.9763 374.24,87.9763 379.433,87.9763 384.626,87.9763 389.82,87.9763 395.013,87.9763 400.207,87.9763 405.4,87.9763 410.593,87.9763 415.787,87.9763 420.98,87.9763 426.173,87.9763 431.367,87.9763 436.56,87.9763 441.753,87.9763 446.947,87.9763 452.14,87.9763 457.334,87.9763 462.527,87.9763 467.72,87.9763 472.914,87.9763 478.107,87.9763 483.3,87.9763 488.494,87.9763 493.687,87.9763 498.88,87.9763 504.074,87.9763 509.267,87.9763 514.461,87.9763 519.654,87.9763 524.847,87.9763 530.041,87.9763 535.234,87.9763 540.427,87.9763 545.621,87.9763 550.814,87.9763 556.007,87.9763 561.201,87.9763 566.394,87.9763 571.588,87.9763 576.781,87.9763 581.974,87.9763 587.168,87.9763 592.361,87.9763 597.554,87.9763 602.748,87.9763 607.941,87.9763 613.134,87.9763 618.328,87.9763 623.521,87.9763 628.715,87.9763 633.908,87.9763 639.101,87.9763 644.295,87.9763 649.488,87.9763 654.681,87.9763 659.875,87.9763 665.068,87.9763 670.261,87.9763 675.455,87.9763 680.648,87.9763 685.842,87.9763 691.035,87.9763 696.228,87.9763 701.422,87.9763 706.615,87.9763 711.808,87.9763 717.002,87.9763 722.195,87.9763 727.388,87.9763 732.582,87.9763 737.775,87.9763 742.969,87.9763 748.162,87.9763 753.355,87.9763 758.549,87.9763 763.742,87.9763 768.935,87.9763 774.129,87.9763 779.322,87.9763 784.516,87.9763 789.709,87.9763 794.902,87.9763 800.096,87.9763 805.289,87.9763 810.482,87.9763 815.676,87.9763 820.869,87.9763 826.062,87.9763 831.256,87.9763 836.449,87.9763 841.643,87.9763 846.836,87.9763 852.029,87.9763 857.223,87.9763 862.416,87.9763 867.609,87.9763 872.803,87.9763 877.996,87.9763 883.189,87.9763 888.383,87.9763 893.576,87.9763 898.77,87.9763 903.963,87.9763 909.156,87.9763 914.35,87.9763 919.543,87.9763 924.736,87.9763 929.93,87.9763 935.123,87.9763 940.316,87.9763 945.51,87.9763 950.703,87.9763 955.897,87.9763 961.09,87.9763 966.283,87.9763 971.477,87.9763 976.67,87.9763 981.863,87.9763 987.057,87.9763 992.25,87.9763 997.443,87.9763 1002.64,87.9763 1007.83,87.9763 1013.02,87.9763 1018.22,87.9763 1023.41,87.9763 1028.6,87.9763 1033.8,87.9763 1038.99,87.9763 1044.18,87.9763 1049.38,87.9763 1054.57,87.9763 1059.76,87.9763 1064.96,87.9763 1070.15,87.9763 1075.34,87.9763 1080.54,87.9763 1085.73,87.9763 1090.92,89.2409 1096.12,163.568 1101.31,232.235 1106.5,295.835 1111.7,354.881 1116.89,409.818 1122.08,461.038 1127.28,508.881 1132.47,553.65 1137.66,595.612 1142.86,635.003 1148.05,672.036 1153.24,706.898 1158.44,739.76 1163.63,770.774 1168.82,800.077 1174.02,827.793 1179.21,854.036 1184.4,878.907 1189.6,902.5 1194.79,924.9 1199.98,946.184 1205.18,966.425 1210.37,985.687 1215.56,1004.03 1220.76,1021.51 1225.95,1038.18 1231.14,1054.09 1236.34,1069.27 1241.53,1083.78 1246.72,1097.64 1251.92,1110.9 1257.11,1123.58 1262.31,1135.72 1267.5,1147.34 1272.69,1158.48 1277.89,1169.15 1283.08,1179.38 1288.27,1189.19 1293.47,1198.6 1298.66,1207.63 1303.85,1216.3 1309.05,1224.63 1314.24,1232.63 1319.43,1240.32 1324.63,1247.71 1329.82,1254.81 1335.01,1261.64 1340.21,1268.21 1345.4,1274.53 1350.59,1280.61 1355.79,1286.46 1360.98,1292.1 1366.17,1297.52 1371.37,1302.75 1376.56,1307.78 1381.75,1312.63 1386.95,1317.3 1392.14,1321.8 1397.33,1326.14 1402.53,1330.32 1407.72,1334.35 1412.91,1338.24 1418.11,1341.99 1423.3,1345.6 1428.49,1349.09 1433.69,1352.46 1438.88,1355.7 1444.07,1358.83 1449.27,1361.85 1454.46,1364.77 1459.65,1367.58 1464.85,1370.3 1470.04,1372.92 1475.23,1375.45 1480.43,1377.89 1485.62,1380.25 1490.81,1382.53 1496.01,1384.73 1501.2,1386.85 1506.39,1388.9 1511.59,1390.88 1516.78,1392.79 1521.97,1394.63 1527.17,1396.42 1532.36,1398.14 1537.55,1399.8 1542.75,1401.41 1547.94,1402.96 1553.13,1404.46 1558.33,1405.91 1563.52,1407.31 1568.71,1408.66 1573.91,1409.96 1579.1,1411.22 1584.29,1412.44 1589.49,1413.62 1594.68,1414.75 1599.87,1415.85 1605.07,1416.91 1610.26,1417.94 1615.45,1418.93 1620.65,1419.88 1625.84,1420.81 1631.03,1421.7 1636.23,1422.56 1641.42,1423.39 1646.61,1424.2 1651.81,1424.98 1657,1425.73 1662.19,1426.45 1667.39,1427.15 1672.58,1427.83 1677.77,1428.48 1682.97,1429.11 1688.16,1429.72 1693.35,1430.31 1698.55,1430.88 1703.74,1431.43 1708.93,1431.95 1714.13,1432.47 1719.32,1432.96 1724.51,1433.44 1729.71,1433.9 1734.9,1434.34 1740.09,1434.77 1745.29,1435.18 1750.48,1435.58 1755.67,1435.97 1760.87,1436.34 1766.06,1436.7 1771.25,1437.05 1776.45,1437.38 1781.64,1437.71 1786.83,1438.02 1792.03,1438.32 1797.22,1438.61 1802.42,1438.89 1807.61,1439.16 1812.8,1439.42 1818,1439.67 1823.19,1439.91 1828.38,1440.14 1833.58,1440.37 1838.77,1440.59 1843.96,1440.79 1849.16,1441 1854.35,1441.19 1859.54,1441.38 1864.74,1441.56 1869.93,1441.73 1875.12,1441.9 1880.32,1442.06 1885.51,1442.21 1890.7,1442.36 1895.9,1442.51 1901.09,1442.65 1906.28,1442.78 1911.48,1442.91 1916.67,1443.03 1921.86,1443.15 1927.06,1443.26 1932.25,1443.37 1937.44,1443.48 1942.64,1443.58 1947.83,1443.68 1953.02,1443.77 1958.22,1443.86 1963.41,1443.95 1968.6,1444.03 1973.8,1444.11 1978.99,1444.19 1984.18,1444.26 1989.38,1444.33 1994.57,1444.4 1999.76,1444.47 2004.96,1444.53 2010.15,1444.59 2015.34,1444.65 2020.54,1444.7 2025.73,1444.76 2030.92,1444.81 2036.12,1444.86 2041.31,1444.9 2046.5,1444.95 2051.7,1444.99 2056.89,1445.03 2062.08,1445.07 2067.28,1445.11 2072.47,1445.14 2077.66,1445.17 2082.86,1445.21 2088.05,1445.24 2093.24,1445.27 2098.44,1445.3 2103.63,1445.32 2108.82,1445.35 2114.02,1445.37 2119.21,1445.39 2124.4,1445.42 2129.6,1445.44 2134.79,1445.46 2139.98,1445.48 2145.18,1445.49 2150.37,1445.51 2155.56,1445.53 2160.76,1445.54 2165.95,1445.56 2171.14,1445.57 2176.34,1445.58 2181.53,1445.59 2186.72,1445.6 2191.92,1445.61 2197.11,1445.62 2202.3,1445.63 2207.5,1445.64 2212.69,1445.65 2217.88,1445.66 2223.08,1445.67 2228.27,1445.67 2233.46,1445.68 2238.66,1445.68 2243.85,1445.69 2249.04,1445.69 2254.24,1445.7 2259.43,1445.7 2264.62,1445.7 2269.82,1445.71 2275.01,1445.71 2280.2,1445.71 2285.4,1445.71 2290.59,1445.72 \"/>\n",
       "<path clip-path=\"url(#clip530)\" d=\"M1982.37 198.898 L2279.54 198.898 L2279.54 95.2176 L1982.37 95.2176  Z\" fill=\"#ffffff\" fill-rule=\"evenodd\" fill-opacity=\"1\"/>\n",
       "<polyline clip-path=\"url(#clip530)\" style=\"stroke:#000000; stroke-linecap:round; stroke-linejoin:round; stroke-width:4; stroke-opacity:1; fill:none\" points=\"1982.37,198.898 2279.54,198.898 2279.54,95.2176 1982.37,95.2176 1982.37,198.898 \"/>\n",
       "<polyline clip-path=\"url(#clip530)\" style=\"stroke:#009af9; stroke-linecap:round; stroke-linejoin:round; stroke-width:4; stroke-opacity:1; fill:none\" points=\"2006.77,147.058 2153.21,147.058 \"/>\n",
       "<path clip-path=\"url(#clip530)\" d=\"M2177.61 154.106 L2177.61 138.412 L2181.87 138.412 L2181.87 153.944 Q2181.87 157.625 2183.31 159.476 Q2184.74 161.305 2187.61 161.305 Q2191.06 161.305 2193.05 159.106 Q2195.07 156.907 2195.07 153.111 L2195.07 138.412 L2199.32 138.412 L2199.32 164.338 L2195.07 164.338 L2195.07 160.356 Q2193.51 162.717 2191.45 163.875 Q2189.42 165.009 2186.71 165.009 Q2182.24 165.009 2179.93 162.231 Q2177.61 159.453 2177.61 154.106 M2188.33 137.787 L2188.33 137.787 Z\" fill=\"#000000\" fill-rule=\"nonzero\" fill-opacity=\"1\" /><path clip-path=\"url(#clip530)\" d=\"M2218.33 128.366 Q2215.23 133.69 2213.72 138.898 Q2212.22 144.106 2212.22 149.453 Q2212.22 154.801 2213.72 160.055 Q2215.25 165.287 2218.33 170.588 L2214.63 170.588 Q2211.15 165.148 2209.42 159.893 Q2207.7 154.639 2207.7 149.453 Q2207.7 144.291 2209.42 139.06 Q2211.13 133.828 2214.63 128.366 L2218.33 128.366 Z\" fill=\"#000000\" fill-rule=\"nonzero\" fill-opacity=\"1\" /><path clip-path=\"url(#clip530)\" d=\"M2230.81 131.051 L2230.81 138.412 L2239.58 138.412 L2239.58 141.722 L2230.81 141.722 L2230.81 155.796 Q2230.81 158.967 2231.66 159.87 Q2232.54 160.773 2235.2 160.773 L2239.58 160.773 L2239.58 164.338 L2235.2 164.338 Q2230.27 164.338 2228.4 162.509 Q2226.52 160.657 2226.52 155.796 L2226.52 141.722 L2223.4 141.722 L2223.4 138.412 L2226.52 138.412 L2226.52 131.051 L2230.81 131.051 Z\" fill=\"#000000\" fill-rule=\"nonzero\" fill-opacity=\"1\" /><path clip-path=\"url(#clip530)\" d=\"M2244.51 128.366 L2248.21 128.366 Q2251.69 133.828 2253.4 139.06 Q2255.13 144.291 2255.13 149.453 Q2255.13 154.639 2253.4 159.893 Q2251.69 165.148 2248.21 170.588 L2244.51 170.588 Q2247.59 165.287 2249.09 160.055 Q2250.62 154.801 2250.62 149.453 Q2250.62 144.106 2249.09 138.898 Q2247.59 133.69 2244.51 128.366 Z\" fill=\"#000000\" fill-rule=\"nonzero\" fill-opacity=\"1\" /></svg>\n"
      ],
      "text/html": [
       "<?xml version=\"1.0\" encoding=\"utf-8\"?>\n",
       "<svg xmlns=\"http://www.w3.org/2000/svg\" xmlns:xlink=\"http://www.w3.org/1999/xlink\" width=\"600\" height=\"400\" viewBox=\"0 0 2400 1600\">\n",
       "<defs>\n",
       "  <clipPath id=\"clip580\">\n",
       "    <rect x=\"0\" y=\"0\" width=\"2400\" height=\"1600\"/>\n",
       "  </clipPath>\n",
       "</defs>\n",
       "<path clip-path=\"url(#clip580)\" d=\"M0 1600 L2400 1600 L2400 8.88178e-14 L0 8.88178e-14  Z\" fill=\"#ffffff\" fill-rule=\"evenodd\" fill-opacity=\"1\"/>\n",
       "<defs>\n",
       "  <clipPath id=\"clip581\">\n",
       "    <rect x=\"480\" y=\"0\" width=\"1681\" height=\"1600\"/>\n",
       "  </clipPath>\n",
       "</defs>\n",
       "<path clip-path=\"url(#clip580)\" d=\"M156.274 1486.45 L2352.76 1486.45 L2352.76 47.2441 L156.274 47.2441  Z\" fill=\"#ffffff\" fill-rule=\"evenodd\" fill-opacity=\"1\"/>\n",
       "<defs>\n",
       "  <clipPath id=\"clip582\">\n",
       "    <rect x=\"156\" y=\"47\" width=\"2197\" height=\"1440\"/>\n",
       "  </clipPath>\n",
       "</defs>\n",
       "<polyline clip-path=\"url(#clip582)\" style=\"stroke:#000000; stroke-linecap:round; stroke-linejoin:round; stroke-width:2; stroke-opacity:0.1; fill:none\" points=\"213.245,1486.45 213.245,47.2441 \"/>\n",
       "<polyline clip-path=\"url(#clip582)\" style=\"stroke:#000000; stroke-linecap:round; stroke-linejoin:round; stroke-width:2; stroke-opacity:0.1; fill:none\" points=\"732.582,1486.45 732.582,47.2441 \"/>\n",
       "<polyline clip-path=\"url(#clip582)\" style=\"stroke:#000000; stroke-linecap:round; stroke-linejoin:round; stroke-width:2; stroke-opacity:0.1; fill:none\" points=\"1251.92,1486.45 1251.92,47.2441 \"/>\n",
       "<polyline clip-path=\"url(#clip582)\" style=\"stroke:#000000; stroke-linecap:round; stroke-linejoin:round; stroke-width:2; stroke-opacity:0.1; fill:none\" points=\"1771.25,1486.45 1771.25,47.2441 \"/>\n",
       "<polyline clip-path=\"url(#clip582)\" style=\"stroke:#000000; stroke-linecap:round; stroke-linejoin:round; stroke-width:2; stroke-opacity:0.1; fill:none\" points=\"2290.59,1486.45 2290.59,47.2441 \"/>\n",
       "<polyline clip-path=\"url(#clip580)\" style=\"stroke:#000000; stroke-linecap:round; stroke-linejoin:round; stroke-width:4; stroke-opacity:1; fill:none\" points=\"156.274,1486.45 2352.76,1486.45 \"/>\n",
       "<polyline clip-path=\"url(#clip580)\" style=\"stroke:#000000; stroke-linecap:round; stroke-linejoin:round; stroke-width:4; stroke-opacity:1; fill:none\" points=\"213.245,1486.45 213.245,1467.55 \"/>\n",
       "<polyline clip-path=\"url(#clip580)\" style=\"stroke:#000000; stroke-linecap:round; stroke-linejoin:round; stroke-width:4; stroke-opacity:1; fill:none\" points=\"732.582,1486.45 732.582,1467.55 \"/>\n",
       "<polyline clip-path=\"url(#clip580)\" style=\"stroke:#000000; stroke-linecap:round; stroke-linejoin:round; stroke-width:4; stroke-opacity:1; fill:none\" points=\"1251.92,1486.45 1251.92,1467.55 \"/>\n",
       "<polyline clip-path=\"url(#clip580)\" style=\"stroke:#000000; stroke-linecap:round; stroke-linejoin:round; stroke-width:4; stroke-opacity:1; fill:none\" points=\"1771.25,1486.45 1771.25,1467.55 \"/>\n",
       "<polyline clip-path=\"url(#clip580)\" style=\"stroke:#000000; stroke-linecap:round; stroke-linejoin:round; stroke-width:4; stroke-opacity:1; fill:none\" points=\"2290.59,1486.45 2290.59,1467.55 \"/>\n",
       "<path clip-path=\"url(#clip580)\" d=\"M213.245 1517.37 Q209.634 1517.37 207.806 1520.93 Q206 1524.47 206 1531.6 Q206 1538.71 207.806 1542.27 Q209.634 1545.82 213.245 1545.82 Q216.88 1545.82 218.685 1542.27 Q220.514 1538.71 220.514 1531.6 Q220.514 1524.47 218.685 1520.93 Q216.88 1517.37 213.245 1517.37 M213.245 1513.66 Q219.056 1513.66 222.111 1518.27 Q225.19 1522.85 225.19 1531.6 Q225.19 1540.33 222.111 1544.94 Q219.056 1549.52 213.245 1549.52 Q207.435 1549.52 204.357 1544.94 Q201.301 1540.33 201.301 1531.6 Q201.301 1522.85 204.357 1518.27 Q207.435 1513.66 213.245 1513.66 Z\" fill=\"#000000\" fill-rule=\"nonzero\" fill-opacity=\"1\" /><path clip-path=\"url(#clip580)\" d=\"M692.189 1544.91 L699.827 1544.91 L699.827 1518.55 L691.517 1520.21 L691.517 1515.95 L699.781 1514.29 L704.457 1514.29 L704.457 1544.91 L712.096 1544.91 L712.096 1548.85 L692.189 1548.85 L692.189 1544.91 Z\" fill=\"#000000\" fill-rule=\"nonzero\" fill-opacity=\"1\" /><path clip-path=\"url(#clip580)\" d=\"M731.54 1517.37 Q727.929 1517.37 726.1 1520.93 Q724.295 1524.47 724.295 1531.6 Q724.295 1538.71 726.1 1542.27 Q727.929 1545.82 731.54 1545.82 Q735.174 1545.82 736.98 1542.27 Q738.809 1538.71 738.809 1531.6 Q738.809 1524.47 736.98 1520.93 Q735.174 1517.37 731.54 1517.37 M731.54 1513.66 Q737.35 1513.66 740.406 1518.27 Q743.485 1522.85 743.485 1531.6 Q743.485 1540.33 740.406 1544.94 Q737.35 1549.52 731.54 1549.52 Q725.73 1549.52 722.651 1544.94 Q719.596 1540.33 719.596 1531.6 Q719.596 1522.85 722.651 1518.27 Q725.73 1513.66 731.54 1513.66 Z\" fill=\"#000000\" fill-rule=\"nonzero\" fill-opacity=\"1\" /><path clip-path=\"url(#clip580)\" d=\"M761.702 1517.37 Q758.091 1517.37 756.262 1520.93 Q754.457 1524.47 754.457 1531.6 Q754.457 1538.71 756.262 1542.27 Q758.091 1545.82 761.702 1545.82 Q765.336 1545.82 767.142 1542.27 Q768.971 1538.71 768.971 1531.6 Q768.971 1524.47 767.142 1520.93 Q765.336 1517.37 761.702 1517.37 M761.702 1513.66 Q767.512 1513.66 770.568 1518.27 Q773.646 1522.85 773.646 1531.6 Q773.646 1540.33 770.568 1544.94 Q767.512 1549.52 761.702 1549.52 Q755.892 1549.52 752.813 1544.94 Q749.758 1540.33 749.758 1531.6 Q749.758 1522.85 752.813 1518.27 Q755.892 1513.66 761.702 1513.66 Z\" fill=\"#000000\" fill-rule=\"nonzero\" fill-opacity=\"1\" /><path clip-path=\"url(#clip580)\" d=\"M1215.61 1544.91 L1231.93 1544.91 L1231.93 1548.85 L1209.99 1548.85 L1209.99 1544.91 Q1212.65 1542.16 1217.23 1537.53 Q1221.84 1532.88 1223.02 1531.53 Q1225.26 1529.01 1226.14 1527.27 Q1227.05 1525.51 1227.05 1523.82 Q1227.05 1521.07 1225.1 1519.33 Q1223.18 1517.6 1220.08 1517.6 Q1217.88 1517.6 1215.43 1518.36 Q1212.99 1519.13 1210.22 1520.68 L1210.22 1515.95 Q1213.04 1514.82 1215.49 1514.24 Q1217.95 1513.66 1219.99 1513.66 Q1225.36 1513.66 1228.55 1516.35 Q1231.74 1519.03 1231.74 1523.52 Q1231.74 1525.65 1230.93 1527.57 Q1230.15 1529.47 1228.04 1532.07 Q1227.46 1532.74 1224.36 1535.95 Q1221.26 1539.15 1215.61 1544.91 Z\" fill=\"#000000\" fill-rule=\"nonzero\" fill-opacity=\"1\" /><path clip-path=\"url(#clip580)\" d=\"M1251.74 1517.37 Q1248.13 1517.37 1246.3 1520.93 Q1244.5 1524.47 1244.5 1531.6 Q1244.5 1538.71 1246.3 1542.27 Q1248.13 1545.82 1251.74 1545.82 Q1255.38 1545.82 1257.18 1542.27 Q1259.01 1538.71 1259.01 1531.6 Q1259.01 1524.47 1257.18 1520.93 Q1255.38 1517.37 1251.74 1517.37 M1251.74 1513.66 Q1257.55 1513.66 1260.61 1518.27 Q1263.69 1522.85 1263.69 1531.6 Q1263.69 1540.33 1260.61 1544.94 Q1257.55 1549.52 1251.74 1549.52 Q1245.93 1549.52 1242.86 1544.94 Q1239.8 1540.33 1239.8 1531.6 Q1239.8 1522.85 1242.86 1518.27 Q1245.93 1513.66 1251.74 1513.66 Z\" fill=\"#000000\" fill-rule=\"nonzero\" fill-opacity=\"1\" /><path clip-path=\"url(#clip580)\" d=\"M1281.91 1517.37 Q1278.3 1517.37 1276.47 1520.93 Q1274.66 1524.47 1274.66 1531.6 Q1274.66 1538.71 1276.47 1542.27 Q1278.3 1545.82 1281.91 1545.82 Q1285.54 1545.82 1287.35 1542.27 Q1289.18 1538.71 1289.18 1531.6 Q1289.18 1524.47 1287.35 1520.93 Q1285.54 1517.37 1281.91 1517.37 M1281.91 1513.66 Q1287.72 1513.66 1290.77 1518.27 Q1293.85 1522.85 1293.85 1531.6 Q1293.85 1540.33 1290.77 1544.94 Q1287.72 1549.52 1281.91 1549.52 Q1276.1 1549.52 1273.02 1544.94 Q1269.96 1540.33 1269.96 1531.6 Q1269.96 1522.85 1273.02 1518.27 Q1276.1 1513.66 1281.91 1513.66 Z\" fill=\"#000000\" fill-rule=\"nonzero\" fill-opacity=\"1\" /><path clip-path=\"url(#clip580)\" d=\"M1745.02 1530.21 Q1748.37 1530.93 1750.25 1533.2 Q1752.15 1535.47 1752.15 1538.8 Q1752.15 1543.92 1748.63 1546.72 Q1745.11 1549.52 1738.63 1549.52 Q1736.45 1549.52 1734.14 1549.08 Q1731.85 1548.66 1729.39 1547.81 L1729.39 1543.29 Q1731.34 1544.43 1733.65 1545.01 Q1735.97 1545.58 1738.49 1545.58 Q1742.89 1545.58 1745.18 1543.85 Q1747.49 1542.11 1747.49 1538.8 Q1747.49 1535.75 1745.34 1534.03 Q1743.21 1532.3 1739.39 1532.3 L1735.36 1532.3 L1735.36 1528.45 L1739.58 1528.45 Q1743.03 1528.45 1744.85 1527.09 Q1746.68 1525.7 1746.68 1523.11 Q1746.68 1520.45 1744.79 1519.03 Q1742.91 1517.6 1739.39 1517.6 Q1737.47 1517.6 1735.27 1518.01 Q1733.07 1518.43 1730.43 1519.31 L1730.43 1515.14 Q1733.1 1514.4 1735.41 1514.03 Q1737.75 1513.66 1739.81 1513.66 Q1745.13 1513.66 1748.23 1516.09 Q1751.34 1518.5 1751.34 1522.62 Q1751.34 1525.49 1749.69 1527.48 Q1748.05 1529.45 1745.02 1530.21 Z\" fill=\"#000000\" fill-rule=\"nonzero\" fill-opacity=\"1\" /><path clip-path=\"url(#clip580)\" d=\"M1771.01 1517.37 Q1767.4 1517.37 1765.57 1520.93 Q1763.77 1524.47 1763.77 1531.6 Q1763.77 1538.71 1765.57 1542.27 Q1767.4 1545.82 1771.01 1545.82 Q1774.65 1545.82 1776.45 1542.27 Q1778.28 1538.71 1778.28 1531.6 Q1778.28 1524.47 1776.45 1520.93 Q1774.65 1517.37 1771.01 1517.37 M1771.01 1513.66 Q1776.82 1513.66 1779.88 1518.27 Q1782.96 1522.85 1782.96 1531.6 Q1782.96 1540.33 1779.88 1544.94 Q1776.82 1549.52 1771.01 1549.52 Q1765.2 1549.52 1762.12 1544.94 Q1759.07 1540.33 1759.07 1531.6 Q1759.07 1522.85 1762.12 1518.27 Q1765.2 1513.66 1771.01 1513.66 Z\" fill=\"#000000\" fill-rule=\"nonzero\" fill-opacity=\"1\" /><path clip-path=\"url(#clip580)\" d=\"M1801.17 1517.37 Q1797.56 1517.37 1795.73 1520.93 Q1793.93 1524.47 1793.93 1531.6 Q1793.93 1538.71 1795.73 1542.27 Q1797.56 1545.82 1801.17 1545.82 Q1804.81 1545.82 1806.61 1542.27 Q1808.44 1538.71 1808.44 1531.6 Q1808.44 1524.47 1806.61 1520.93 Q1804.81 1517.37 1801.17 1517.37 M1801.17 1513.66 Q1806.98 1513.66 1810.04 1518.27 Q1813.12 1522.85 1813.12 1531.6 Q1813.12 1540.33 1810.04 1544.94 Q1806.98 1549.52 1801.17 1549.52 Q1795.36 1549.52 1792.28 1544.94 Q1789.23 1540.33 1789.23 1531.6 Q1789.23 1522.85 1792.28 1518.27 Q1795.36 1513.66 1801.17 1513.66 Z\" fill=\"#000000\" fill-rule=\"nonzero\" fill-opacity=\"1\" /><path clip-path=\"url(#clip580)\" d=\"M2263.68 1518.36 L2251.88 1536.81 L2263.68 1536.81 L2263.68 1518.36 M2262.45 1514.29 L2268.33 1514.29 L2268.33 1536.81 L2273.27 1536.81 L2273.27 1540.7 L2268.33 1540.7 L2268.33 1548.85 L2263.68 1548.85 L2263.68 1540.7 L2248.08 1540.7 L2248.08 1536.19 L2262.45 1514.29 Z\" fill=\"#000000\" fill-rule=\"nonzero\" fill-opacity=\"1\" /><path clip-path=\"url(#clip580)\" d=\"M2291 1517.37 Q2287.39 1517.37 2285.56 1520.93 Q2283.75 1524.47 2283.75 1531.6 Q2283.75 1538.71 2285.56 1542.27 Q2287.39 1545.82 2291 1545.82 Q2294.63 1545.82 2296.44 1542.27 Q2298.26 1538.71 2298.26 1531.6 Q2298.26 1524.47 2296.44 1520.93 Q2294.63 1517.37 2291 1517.37 M2291 1513.66 Q2296.81 1513.66 2299.86 1518.27 Q2302.94 1522.85 2302.94 1531.6 Q2302.94 1540.33 2299.86 1544.94 Q2296.81 1549.52 2291 1549.52 Q2285.19 1549.52 2282.11 1544.94 Q2279.05 1540.33 2279.05 1531.6 Q2279.05 1522.85 2282.11 1518.27 Q2285.19 1513.66 2291 1513.66 Z\" fill=\"#000000\" fill-rule=\"nonzero\" fill-opacity=\"1\" /><path clip-path=\"url(#clip580)\" d=\"M2321.16 1517.37 Q2317.55 1517.37 2315.72 1520.93 Q2313.91 1524.47 2313.91 1531.6 Q2313.91 1538.71 2315.72 1542.27 Q2317.55 1545.82 2321.16 1545.82 Q2324.79 1545.82 2326.6 1542.27 Q2328.43 1538.71 2328.43 1531.6 Q2328.43 1524.47 2326.6 1520.93 Q2324.79 1517.37 2321.16 1517.37 M2321.16 1513.66 Q2326.97 1513.66 2330.02 1518.27 Q2333.1 1522.85 2333.1 1531.6 Q2333.1 1540.33 2330.02 1544.94 Q2326.97 1549.52 2321.16 1549.52 Q2315.35 1549.52 2312.27 1544.94 Q2309.21 1540.33 2309.21 1531.6 Q2309.21 1522.85 2312.27 1518.27 Q2315.35 1513.66 2321.16 1513.66 Z\" fill=\"#000000\" fill-rule=\"nonzero\" fill-opacity=\"1\" /><polyline clip-path=\"url(#clip582)\" style=\"stroke:#000000; stroke-linecap:round; stroke-linejoin:round; stroke-width:2; stroke-opacity:0.1; fill:none\" points=\"156.274,1445.37 2352.76,1445.37 \"/>\n",
       "<polyline clip-path=\"url(#clip582)\" style=\"stroke:#000000; stroke-linecap:round; stroke-linejoin:round; stroke-width:2; stroke-opacity:0.1; fill:none\" points=\"156.274,1173.89 2352.76,1173.89 \"/>\n",
       "<polyline clip-path=\"url(#clip582)\" style=\"stroke:#000000; stroke-linecap:round; stroke-linejoin:round; stroke-width:2; stroke-opacity:0.1; fill:none\" points=\"156.274,902.414 2352.76,902.414 \"/>\n",
       "<polyline clip-path=\"url(#clip582)\" style=\"stroke:#000000; stroke-linecap:round; stroke-linejoin:round; stroke-width:2; stroke-opacity:0.1; fill:none\" points=\"156.274,630.934 2352.76,630.934 \"/>\n",
       "<polyline clip-path=\"url(#clip582)\" style=\"stroke:#000000; stroke-linecap:round; stroke-linejoin:round; stroke-width:2; stroke-opacity:0.1; fill:none\" points=\"156.274,359.455 2352.76,359.455 \"/>\n",
       "<polyline clip-path=\"url(#clip582)\" style=\"stroke:#000000; stroke-linecap:round; stroke-linejoin:round; stroke-width:2; stroke-opacity:0.1; fill:none\" points=\"156.274,87.9763 2352.76,87.9763 \"/>\n",
       "<polyline clip-path=\"url(#clip580)\" style=\"stroke:#000000; stroke-linecap:round; stroke-linejoin:round; stroke-width:4; stroke-opacity:1; fill:none\" points=\"156.274,1486.45 156.274,47.2441 \"/>\n",
       "<polyline clip-path=\"url(#clip580)\" style=\"stroke:#000000; stroke-linecap:round; stroke-linejoin:round; stroke-width:4; stroke-opacity:1; fill:none\" points=\"156.274,1445.37 175.172,1445.37 \"/>\n",
       "<polyline clip-path=\"url(#clip580)\" style=\"stroke:#000000; stroke-linecap:round; stroke-linejoin:round; stroke-width:4; stroke-opacity:1; fill:none\" points=\"156.274,1173.89 175.172,1173.89 \"/>\n",
       "<polyline clip-path=\"url(#clip580)\" style=\"stroke:#000000; stroke-linecap:round; stroke-linejoin:round; stroke-width:4; stroke-opacity:1; fill:none\" points=\"156.274,902.414 175.172,902.414 \"/>\n",
       "<polyline clip-path=\"url(#clip580)\" style=\"stroke:#000000; stroke-linecap:round; stroke-linejoin:round; stroke-width:4; stroke-opacity:1; fill:none\" points=\"156.274,630.934 175.172,630.934 \"/>\n",
       "<polyline clip-path=\"url(#clip580)\" style=\"stroke:#000000; stroke-linecap:round; stroke-linejoin:round; stroke-width:4; stroke-opacity:1; fill:none\" points=\"156.274,359.455 175.172,359.455 \"/>\n",
       "<polyline clip-path=\"url(#clip580)\" style=\"stroke:#000000; stroke-linecap:round; stroke-linejoin:round; stroke-width:4; stroke-opacity:1; fill:none\" points=\"156.274,87.9763 175.172,87.9763 \"/>\n",
       "<path clip-path=\"url(#clip580)\" d=\"M64.0939 1431.17 Q60.4828 1431.17 58.6541 1434.74 Q56.8486 1438.28 56.8486 1445.41 Q56.8486 1452.51 58.6541 1456.08 Q60.4828 1459.62 64.0939 1459.62 Q67.7281 1459.62 69.5337 1456.08 Q71.3624 1452.51 71.3624 1445.41 Q71.3624 1438.28 69.5337 1434.74 Q67.7281 1431.17 64.0939 1431.17 M64.0939 1427.47 Q69.9041 1427.47 72.9596 1432.07 Q76.0383 1436.66 76.0383 1445.41 Q76.0383 1454.13 72.9596 1458.74 Q69.9041 1463.32 64.0939 1463.32 Q58.2838 1463.32 55.2051 1458.74 Q52.1495 1454.13 52.1495 1445.41 Q52.1495 1436.66 55.2051 1432.07 Q58.2838 1427.47 64.0939 1427.47 Z\" fill=\"#000000\" fill-rule=\"nonzero\" fill-opacity=\"1\" /><path clip-path=\"url(#clip580)\" d=\"M84.2558 1456.77 L89.1401 1456.77 L89.1401 1462.65 L84.2558 1462.65 L84.2558 1456.77 Z\" fill=\"#000000\" fill-rule=\"nonzero\" fill-opacity=\"1\" /><path clip-path=\"url(#clip580)\" d=\"M99.3715 1428.09 L117.728 1428.09 L117.728 1432.03 L103.654 1432.03 L103.654 1440.5 Q104.672 1440.15 105.691 1439.99 Q106.709 1439.8 107.728 1439.8 Q113.515 1439.8 116.895 1442.98 Q120.274 1446.15 120.274 1451.56 Q120.274 1457.14 116.802 1460.24 Q113.33 1463.32 107.01 1463.32 Q104.834 1463.32 102.566 1462.95 Q100.321 1462.58 97.9132 1461.84 L97.9132 1457.14 Q99.9965 1458.28 102.219 1458.83 Q104.441 1459.39 106.918 1459.39 Q110.922 1459.39 113.26 1457.28 Q115.598 1455.17 115.598 1451.56 Q115.598 1447.95 113.26 1445.85 Q110.922 1443.74 106.918 1443.74 Q105.043 1443.74 103.168 1444.16 Q101.316 1444.57 99.3715 1445.45 L99.3715 1428.09 Z\" fill=\"#000000\" fill-rule=\"nonzero\" fill-opacity=\"1\" /><path clip-path=\"url(#clip580)\" d=\"M62.9365 1159.69 Q59.3254 1159.69 57.4967 1163.26 Q55.6912 1166.8 55.6912 1173.93 Q55.6912 1181.03 57.4967 1184.6 Q59.3254 1188.14 62.9365 1188.14 Q66.5707 1188.14 68.3763 1184.6 Q70.205 1181.03 70.205 1173.93 Q70.205 1166.8 68.3763 1163.26 Q66.5707 1159.69 62.9365 1159.69 M62.9365 1155.99 Q68.7467 1155.99 71.8022 1160.59 Q74.8809 1165.18 74.8809 1173.93 Q74.8809 1182.65 71.8022 1187.26 Q68.7467 1191.84 62.9365 1191.84 Q57.1264 1191.84 54.0477 1187.26 Q50.9921 1182.65 50.9921 1173.93 Q50.9921 1165.18 54.0477 1160.59 Q57.1264 1155.99 62.9365 1155.99 Z\" fill=\"#000000\" fill-rule=\"nonzero\" fill-opacity=\"1\" /><path clip-path=\"url(#clip580)\" d=\"M83.0984 1185.29 L87.9827 1185.29 L87.9827 1191.17 L83.0984 1191.17 L83.0984 1185.29 Z\" fill=\"#000000\" fill-rule=\"nonzero\" fill-opacity=\"1\" /><path clip-path=\"url(#clip580)\" d=\"M108.746 1172.03 Q105.598 1172.03 103.746 1174.18 Q101.918 1176.33 101.918 1180.08 Q101.918 1183.81 103.746 1185.99 Q105.598 1188.14 108.746 1188.14 Q111.895 1188.14 113.723 1185.99 Q115.575 1183.81 115.575 1180.08 Q115.575 1176.33 113.723 1174.18 Q111.895 1172.03 108.746 1172.03 M118.029 1157.38 L118.029 1161.64 Q116.27 1160.8 114.464 1160.36 Q112.682 1159.92 110.922 1159.92 Q106.293 1159.92 103.839 1163.05 Q101.409 1166.17 101.061 1172.49 Q102.427 1170.48 104.487 1169.41 Q106.547 1168.33 109.024 1168.33 Q114.233 1168.33 117.242 1171.5 Q120.274 1174.64 120.274 1180.08 Q120.274 1185.41 117.126 1188.63 Q113.978 1191.84 108.746 1191.84 Q102.751 1191.84 99.5798 1187.26 Q96.4085 1182.65 96.4085 1173.93 Q96.4085 1165.73 100.297 1160.87 Q104.186 1155.99 110.737 1155.99 Q112.496 1155.99 114.279 1156.33 Q116.084 1156.68 118.029 1157.38 Z\" fill=\"#000000\" fill-rule=\"nonzero\" fill-opacity=\"1\" /><path clip-path=\"url(#clip580)\" d=\"M64.0013 888.212 Q60.3902 888.212 58.5615 891.777 Q56.756 895.319 56.756 902.448 Q56.756 909.555 58.5615 913.12 Q60.3902 916.661 64.0013 916.661 Q67.6356 916.661 69.4411 913.12 Q71.2698 909.555 71.2698 902.448 Q71.2698 895.319 69.4411 891.777 Q67.6356 888.212 64.0013 888.212 M64.0013 884.509 Q69.8115 884.509 72.867 889.115 Q75.9457 893.698 75.9457 902.448 Q75.9457 911.175 72.867 915.782 Q69.8115 920.365 64.0013 920.365 Q58.1912 920.365 55.1125 915.782 Q52.0569 911.175 52.0569 902.448 Q52.0569 893.698 55.1125 889.115 Q58.1912 884.509 64.0013 884.509 Z\" fill=\"#000000\" fill-rule=\"nonzero\" fill-opacity=\"1\" /><path clip-path=\"url(#clip580)\" d=\"M84.1632 913.814 L89.0475 913.814 L89.0475 919.694 L84.1632 919.694 L84.1632 913.814 Z\" fill=\"#000000\" fill-rule=\"nonzero\" fill-opacity=\"1\" /><path clip-path=\"url(#clip580)\" d=\"M98.0521 885.134 L120.274 885.134 L120.274 887.124 L107.728 919.694 L102.844 919.694 L114.649 889.069 L98.0521 889.069 L98.0521 885.134 Z\" fill=\"#000000\" fill-rule=\"nonzero\" fill-opacity=\"1\" /><path clip-path=\"url(#clip580)\" d=\"M63.1911 616.733 Q59.58 616.733 57.7513 620.298 Q55.9458 623.84 55.9458 630.969 Q55.9458 638.076 57.7513 641.64 Q59.58 645.182 63.1911 645.182 Q66.8254 645.182 68.6309 641.64 Q70.4596 638.076 70.4596 630.969 Q70.4596 623.84 68.6309 620.298 Q66.8254 616.733 63.1911 616.733 M63.1911 613.029 Q69.0013 613.029 72.0568 617.636 Q75.1355 622.219 75.1355 630.969 Q75.1355 639.696 72.0568 644.302 Q69.0013 648.886 63.1911 648.886 Q57.381 648.886 54.3023 644.302 Q51.2468 639.696 51.2468 630.969 Q51.2468 622.219 54.3023 617.636 Q57.381 613.029 63.1911 613.029 Z\" fill=\"#000000\" fill-rule=\"nonzero\" fill-opacity=\"1\" /><path clip-path=\"url(#clip580)\" d=\"M83.3531 642.335 L88.2373 642.335 L88.2373 648.214 L83.3531 648.214 L83.3531 642.335 Z\" fill=\"#000000\" fill-rule=\"nonzero\" fill-opacity=\"1\" /><path clip-path=\"url(#clip580)\" d=\"M108.422 631.803 Q105.089 631.803 103.168 633.585 Q101.27 635.367 101.27 638.492 Q101.27 641.617 103.168 643.4 Q105.089 645.182 108.422 645.182 Q111.756 645.182 113.677 643.4 Q115.598 641.594 115.598 638.492 Q115.598 635.367 113.677 633.585 Q111.779 631.803 108.422 631.803 M103.746 629.812 Q100.737 629.071 99.0474 627.011 Q97.3808 624.951 97.3808 621.988 Q97.3808 617.844 100.321 615.437 Q103.284 613.029 108.422 613.029 Q113.584 613.029 116.524 615.437 Q119.464 617.844 119.464 621.988 Q119.464 624.951 117.774 627.011 Q116.108 629.071 113.121 629.812 Q116.501 630.599 118.376 632.89 Q120.274 635.182 120.274 638.492 Q120.274 643.515 117.195 646.201 Q114.14 648.886 108.422 648.886 Q102.705 648.886 99.6261 646.201 Q96.5706 643.515 96.5706 638.492 Q96.5706 635.182 98.4687 632.89 Q100.367 630.599 103.746 629.812 M102.034 622.428 Q102.034 625.113 103.7 626.617 Q105.39 628.122 108.422 628.122 Q111.432 628.122 113.121 626.617 Q114.834 625.113 114.834 622.428 Q114.834 619.742 113.121 618.238 Q111.432 616.733 108.422 616.733 Q105.39 616.733 103.7 618.238 Q102.034 619.742 102.034 622.428 Z\" fill=\"#000000\" fill-rule=\"nonzero\" fill-opacity=\"1\" /><path clip-path=\"url(#clip580)\" d=\"M63.2837 345.254 Q59.6726 345.254 57.8439 348.819 Q56.0384 352.361 56.0384 359.49 Q56.0384 366.597 57.8439 370.161 Q59.6726 373.703 63.2837 373.703 Q66.918 373.703 68.7235 370.161 Q70.5522 366.597 70.5522 359.49 Q70.5522 352.361 68.7235 348.819 Q66.918 345.254 63.2837 345.254 M63.2837 341.55 Q69.0939 341.55 72.1494 346.157 Q75.2281 350.74 75.2281 359.49 Q75.2281 368.217 72.1494 372.823 Q69.0939 377.407 63.2837 377.407 Q57.4736 377.407 54.3949 372.823 Q51.3393 368.217 51.3393 359.49 Q51.3393 350.74 54.3949 346.157 Q57.4736 341.55 63.2837 341.55 Z\" fill=\"#000000\" fill-rule=\"nonzero\" fill-opacity=\"1\" /><path clip-path=\"url(#clip580)\" d=\"M83.4457 370.856 L88.3299 370.856 L88.3299 376.735 L83.4457 376.735 L83.4457 370.856 Z\" fill=\"#000000\" fill-rule=\"nonzero\" fill-opacity=\"1\" /><path clip-path=\"url(#clip580)\" d=\"M98.6539 376.018 L98.6539 371.759 Q100.413 372.592 102.219 373.032 Q104.024 373.472 105.76 373.472 Q110.39 373.472 112.82 370.37 Q115.274 367.245 115.621 360.902 Q114.279 362.893 112.219 363.958 Q110.158 365.022 107.658 365.022 Q102.473 365.022 99.4409 361.897 Q96.4317 358.749 96.4317 353.31 Q96.4317 347.986 99.5798 344.768 Q102.728 341.55 107.959 341.55 Q113.955 341.55 117.103 346.157 Q120.274 350.74 120.274 359.49 Q120.274 367.661 116.385 372.546 Q112.52 377.407 105.969 377.407 Q104.209 377.407 102.404 377.059 Q100.598 376.712 98.6539 376.018 M107.959 361.365 Q111.108 361.365 112.936 359.212 Q114.788 357.06 114.788 353.31 Q114.788 349.583 112.936 347.43 Q111.108 345.254 107.959 345.254 Q104.811 345.254 102.959 347.43 Q101.131 349.583 101.131 353.31 Q101.131 357.06 102.959 359.212 Q104.811 361.365 107.959 361.365 Z\" fill=\"#000000\" fill-rule=\"nonzero\" fill-opacity=\"1\" /><path clip-path=\"url(#clip580)\" d=\"M53.9088 101.321 L61.5476 101.321 L61.5476 74.9555 L53.2375 76.6222 L53.2375 72.3629 L61.5013 70.6963 L66.1772 70.6963 L66.1772 101.321 L73.8161 101.321 L73.8161 105.256 L53.9088 105.256 L53.9088 101.321 Z\" fill=\"#000000\" fill-rule=\"nonzero\" fill-opacity=\"1\" /><path clip-path=\"url(#clip580)\" d=\"M83.2605 99.3767 L88.1447 99.3767 L88.1447 105.256 L83.2605 105.256 L83.2605 99.3767 Z\" fill=\"#000000\" fill-rule=\"nonzero\" fill-opacity=\"1\" /><path clip-path=\"url(#clip580)\" d=\"M108.33 73.775 Q104.719 73.775 102.89 77.3398 Q101.084 80.8814 101.084 88.011 Q101.084 95.1174 102.89 98.6822 Q104.719 102.224 108.33 102.224 Q111.964 102.224 113.77 98.6822 Q115.598 95.1174 115.598 88.011 Q115.598 80.8814 113.77 77.3398 Q111.964 73.775 108.33 73.775 M108.33 70.0713 Q114.14 70.0713 117.195 74.6777 Q120.274 79.261 120.274 88.011 Q120.274 96.7378 117.195 101.344 Q114.14 105.928 108.33 105.928 Q102.52 105.928 99.4409 101.344 Q96.3854 96.7378 96.3854 88.011 Q96.3854 79.261 99.4409 74.6777 Q102.52 70.0713 108.33 70.0713 Z\" fill=\"#000000\" fill-rule=\"nonzero\" fill-opacity=\"1\" /><polyline clip-path=\"url(#clip582)\" style=\"stroke:#009af9; stroke-linecap:round; stroke-linejoin:round; stroke-width:4; stroke-opacity:1; fill:none\" points=\"218.439,87.9763 223.632,87.9763 228.825,87.9763 234.019,87.9763 239.212,87.9763 244.406,87.9763 249.599,87.9763 254.792,87.9763 259.986,87.9763 265.179,87.9763 270.372,87.9763 275.566,87.9763 280.759,87.9763 285.952,87.9763 291.146,87.9763 296.339,87.9763 301.533,87.9763 306.726,87.9763 311.919,87.9763 317.113,87.9763 322.306,87.9763 327.499,87.9763 332.693,87.9763 337.886,87.9763 343.079,87.9763 348.273,87.9763 353.466,87.9763 358.66,87.9763 363.853,87.9763 369.046,87.9763 374.24,87.9763 379.433,87.9763 384.626,87.9763 389.82,87.9763 395.013,87.9763 400.207,87.9763 405.4,87.9763 410.593,87.9763 415.787,87.9763 420.98,87.9763 426.173,87.9763 431.367,87.9763 436.56,87.9763 441.753,87.9763 446.947,87.9763 452.14,87.9763 457.334,87.9763 462.527,87.9763 467.72,87.9763 472.914,87.9763 478.107,87.9763 483.3,87.9763 488.494,87.9763 493.687,87.9763 498.88,87.9763 504.074,87.9763 509.267,87.9763 514.461,87.9763 519.654,87.9763 524.847,87.9763 530.041,87.9763 535.234,87.9763 540.427,87.9763 545.621,87.9763 550.814,87.9763 556.007,87.9763 561.201,87.9763 566.394,87.9763 571.588,87.9763 576.781,87.9763 581.974,87.9763 587.168,87.9763 592.361,87.9763 597.554,87.9763 602.748,87.9763 607.941,87.9763 613.134,87.9763 618.328,87.9763 623.521,87.9763 628.715,87.9763 633.908,87.9763 639.101,87.9763 644.295,87.9763 649.488,87.9763 654.681,87.9763 659.875,87.9763 665.068,87.9763 670.261,87.9763 675.455,87.9763 680.648,87.9763 685.842,87.9763 691.035,87.9763 696.228,87.9763 701.422,87.9763 706.615,87.9763 711.808,87.9763 717.002,87.9763 722.195,87.9763 727.388,87.9763 732.582,87.9763 737.775,87.9763 742.969,87.9763 748.162,87.9763 753.355,87.9763 758.549,87.9763 763.742,87.9763 768.935,87.9763 774.129,87.9763 779.322,87.9763 784.516,87.9763 789.709,87.9763 794.902,87.9763 800.096,87.9763 805.289,87.9763 810.482,87.9763 815.676,87.9763 820.869,87.9763 826.062,87.9763 831.256,87.9763 836.449,87.9763 841.643,87.9763 846.836,87.9763 852.029,87.9763 857.223,87.9763 862.416,87.9763 867.609,87.9763 872.803,87.9763 877.996,87.9763 883.189,87.9763 888.383,87.9763 893.576,87.9763 898.77,87.9763 903.963,87.9763 909.156,87.9763 914.35,87.9763 919.543,87.9763 924.736,87.9763 929.93,87.9763 935.123,87.9763 940.316,87.9763 945.51,87.9763 950.703,87.9763 955.897,87.9763 961.09,87.9763 966.283,87.9763 971.477,87.9763 976.67,87.9763 981.863,87.9763 987.057,87.9763 992.25,87.9763 997.443,87.9763 1002.64,87.9763 1007.83,87.9763 1013.02,87.9763 1018.22,87.9763 1023.41,87.9763 1028.6,87.9763 1033.8,87.9763 1038.99,87.9763 1044.18,87.9763 1049.38,87.9763 1054.57,87.9763 1059.76,87.9763 1064.96,87.9763 1070.15,87.9763 1075.34,87.9763 1080.54,87.9763 1085.73,87.9763 1090.92,89.2409 1096.12,163.568 1101.31,232.235 1106.5,295.835 1111.7,354.881 1116.89,409.818 1122.08,461.038 1127.28,508.881 1132.47,553.65 1137.66,595.612 1142.86,635.003 1148.05,672.036 1153.24,706.898 1158.44,739.76 1163.63,770.774 1168.82,800.077 1174.02,827.793 1179.21,854.036 1184.4,878.907 1189.6,902.5 1194.79,924.9 1199.98,946.184 1205.18,966.425 1210.37,985.687 1215.56,1004.03 1220.76,1021.51 1225.95,1038.18 1231.14,1054.09 1236.34,1069.27 1241.53,1083.78 1246.72,1097.64 1251.92,1110.9 1257.11,1123.58 1262.31,1135.72 1267.5,1147.34 1272.69,1158.48 1277.89,1169.15 1283.08,1179.38 1288.27,1189.19 1293.47,1198.6 1298.66,1207.63 1303.85,1216.3 1309.05,1224.63 1314.24,1232.63 1319.43,1240.32 1324.63,1247.71 1329.82,1254.81 1335.01,1261.64 1340.21,1268.21 1345.4,1274.53 1350.59,1280.61 1355.79,1286.46 1360.98,1292.1 1366.17,1297.52 1371.37,1302.75 1376.56,1307.78 1381.75,1312.63 1386.95,1317.3 1392.14,1321.8 1397.33,1326.14 1402.53,1330.32 1407.72,1334.35 1412.91,1338.24 1418.11,1341.99 1423.3,1345.6 1428.49,1349.09 1433.69,1352.46 1438.88,1355.7 1444.07,1358.83 1449.27,1361.85 1454.46,1364.77 1459.65,1367.58 1464.85,1370.3 1470.04,1372.92 1475.23,1375.45 1480.43,1377.89 1485.62,1380.25 1490.81,1382.53 1496.01,1384.73 1501.2,1386.85 1506.39,1388.9 1511.59,1390.88 1516.78,1392.79 1521.97,1394.63 1527.17,1396.42 1532.36,1398.14 1537.55,1399.8 1542.75,1401.41 1547.94,1402.96 1553.13,1404.46 1558.33,1405.91 1563.52,1407.31 1568.71,1408.66 1573.91,1409.96 1579.1,1411.22 1584.29,1412.44 1589.49,1413.62 1594.68,1414.75 1599.87,1415.85 1605.07,1416.91 1610.26,1417.94 1615.45,1418.93 1620.65,1419.88 1625.84,1420.81 1631.03,1421.7 1636.23,1422.56 1641.42,1423.39 1646.61,1424.2 1651.81,1424.98 1657,1425.73 1662.19,1426.45 1667.39,1427.15 1672.58,1427.83 1677.77,1428.48 1682.97,1429.11 1688.16,1429.72 1693.35,1430.31 1698.55,1430.88 1703.74,1431.43 1708.93,1431.95 1714.13,1432.47 1719.32,1432.96 1724.51,1433.44 1729.71,1433.9 1734.9,1434.34 1740.09,1434.77 1745.29,1435.18 1750.48,1435.58 1755.67,1435.97 1760.87,1436.34 1766.06,1436.7 1771.25,1437.05 1776.45,1437.38 1781.64,1437.71 1786.83,1438.02 1792.03,1438.32 1797.22,1438.61 1802.42,1438.89 1807.61,1439.16 1812.8,1439.42 1818,1439.67 1823.19,1439.91 1828.38,1440.14 1833.58,1440.37 1838.77,1440.59 1843.96,1440.79 1849.16,1441 1854.35,1441.19 1859.54,1441.38 1864.74,1441.56 1869.93,1441.73 1875.12,1441.9 1880.32,1442.06 1885.51,1442.21 1890.7,1442.36 1895.9,1442.51 1901.09,1442.65 1906.28,1442.78 1911.48,1442.91 1916.67,1443.03 1921.86,1443.15 1927.06,1443.26 1932.25,1443.37 1937.44,1443.48 1942.64,1443.58 1947.83,1443.68 1953.02,1443.77 1958.22,1443.86 1963.41,1443.95 1968.6,1444.03 1973.8,1444.11 1978.99,1444.19 1984.18,1444.26 1989.38,1444.33 1994.57,1444.4 1999.76,1444.47 2004.96,1444.53 2010.15,1444.59 2015.34,1444.65 2020.54,1444.7 2025.73,1444.76 2030.92,1444.81 2036.12,1444.86 2041.31,1444.9 2046.5,1444.95 2051.7,1444.99 2056.89,1445.03 2062.08,1445.07 2067.28,1445.11 2072.47,1445.14 2077.66,1445.17 2082.86,1445.21 2088.05,1445.24 2093.24,1445.27 2098.44,1445.3 2103.63,1445.32 2108.82,1445.35 2114.02,1445.37 2119.21,1445.39 2124.4,1445.42 2129.6,1445.44 2134.79,1445.46 2139.98,1445.48 2145.18,1445.49 2150.37,1445.51 2155.56,1445.53 2160.76,1445.54 2165.95,1445.56 2171.14,1445.57 2176.34,1445.58 2181.53,1445.59 2186.72,1445.6 2191.92,1445.61 2197.11,1445.62 2202.3,1445.63 2207.5,1445.64 2212.69,1445.65 2217.88,1445.66 2223.08,1445.67 2228.27,1445.67 2233.46,1445.68 2238.66,1445.68 2243.85,1445.69 2249.04,1445.69 2254.24,1445.7 2259.43,1445.7 2264.62,1445.7 2269.82,1445.71 2275.01,1445.71 2280.2,1445.71 2285.4,1445.71 2290.59,1445.72 \"/>\n",
       "<path clip-path=\"url(#clip580)\" d=\"M1982.37 198.898 L2279.54 198.898 L2279.54 95.2176 L1982.37 95.2176  Z\" fill=\"#ffffff\" fill-rule=\"evenodd\" fill-opacity=\"1\"/>\n",
       "<polyline clip-path=\"url(#clip580)\" style=\"stroke:#000000; stroke-linecap:round; stroke-linejoin:round; stroke-width:4; stroke-opacity:1; fill:none\" points=\"1982.37,198.898 2279.54,198.898 2279.54,95.2176 1982.37,95.2176 1982.37,198.898 \"/>\n",
       "<polyline clip-path=\"url(#clip580)\" style=\"stroke:#009af9; stroke-linecap:round; stroke-linejoin:round; stroke-width:4; stroke-opacity:1; fill:none\" points=\"2006.77,147.058 2153.21,147.058 \"/>\n",
       "<path clip-path=\"url(#clip580)\" d=\"M2177.61 154.106 L2177.61 138.412 L2181.87 138.412 L2181.87 153.944 Q2181.87 157.625 2183.31 159.476 Q2184.74 161.305 2187.61 161.305 Q2191.06 161.305 2193.05 159.106 Q2195.07 156.907 2195.07 153.111 L2195.07 138.412 L2199.32 138.412 L2199.32 164.338 L2195.07 164.338 L2195.07 160.356 Q2193.51 162.717 2191.45 163.875 Q2189.42 165.009 2186.71 165.009 Q2182.24 165.009 2179.93 162.231 Q2177.61 159.453 2177.61 154.106 M2188.33 137.787 L2188.33 137.787 Z\" fill=\"#000000\" fill-rule=\"nonzero\" fill-opacity=\"1\" /><path clip-path=\"url(#clip580)\" d=\"M2218.33 128.366 Q2215.23 133.69 2213.72 138.898 Q2212.22 144.106 2212.22 149.453 Q2212.22 154.801 2213.72 160.055 Q2215.25 165.287 2218.33 170.588 L2214.63 170.588 Q2211.15 165.148 2209.42 159.893 Q2207.7 154.639 2207.7 149.453 Q2207.7 144.291 2209.42 139.06 Q2211.13 133.828 2214.63 128.366 L2218.33 128.366 Z\" fill=\"#000000\" fill-rule=\"nonzero\" fill-opacity=\"1\" /><path clip-path=\"url(#clip580)\" d=\"M2230.81 131.051 L2230.81 138.412 L2239.58 138.412 L2239.58 141.722 L2230.81 141.722 L2230.81 155.796 Q2230.81 158.967 2231.66 159.87 Q2232.54 160.773 2235.2 160.773 L2239.58 160.773 L2239.58 164.338 L2235.2 164.338 Q2230.27 164.338 2228.4 162.509 Q2226.52 160.657 2226.52 155.796 L2226.52 141.722 L2223.4 141.722 L2223.4 138.412 L2226.52 138.412 L2226.52 131.051 L2230.81 131.051 Z\" fill=\"#000000\" fill-rule=\"nonzero\" fill-opacity=\"1\" /><path clip-path=\"url(#clip580)\" d=\"M2244.51 128.366 L2248.21 128.366 Q2251.69 133.828 2253.4 139.06 Q2255.13 144.291 2255.13 149.453 Q2255.13 154.639 2253.4 159.893 Q2251.69 165.148 2248.21 170.588 L2244.51 170.588 Q2247.59 165.287 2249.09 160.055 Q2250.62 154.801 2250.62 149.453 Q2250.62 144.106 2249.09 138.898 Q2247.59 133.69 2244.51 128.366 Z\" fill=\"#000000\" fill-rule=\"nonzero\" fill-opacity=\"1\" /></svg>\n"
      ]
     },
     "execution_count": 42,
     "metadata": {},
     "output_type": "execute_result"
    }
   ],
   "source": [
    "plot(u,label=\"u(t)\")\n"
   ]
  }
 ],
 "metadata": {
  "kernelspec": {
   "display_name": "Julia 1.10.2",
   "language": "julia",
   "name": "julia-1.10"
  },
  "language_info": {
   "file_extension": ".jl",
   "mimetype": "application/julia",
   "name": "julia",
   "version": "1.10.2"
  }
 },
 "nbformat": 4,
 "nbformat_minor": 5
}

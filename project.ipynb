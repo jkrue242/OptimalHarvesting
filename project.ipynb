{
 "cells": [
  {
   "cell_type": "markdown",
   "id": "2b39d239-7546-4aae-ac1c-8dd1fc683f20",
   "metadata": {},
   "source": [
    "#### Much of this code is adapted from Professor David Stewart's (University of Iowa Dept. of Mathematics) base code"
   ]
  },
  {
   "cell_type": "code",
   "execution_count": 1,
   "id": "09225397-9e2e-4704-817b-e378dfca7450",
   "metadata": {},
   "outputs": [],
   "source": [
    "using LinearAlgebra\n",
    "using Plots"
   ]
  },
  {
   "cell_type": "markdown",
   "id": "3ba8869d-66ac-4a2e-8bd1-faebaefd32aa",
   "metadata": {},
   "source": [
    "## Optimal Fishing Effort\n",
    "\n",
    "#### Minimization problem: \n",
    "$\\quad$ $\\min_u{g(\\textbf{x}(T))}$ subject to $\\frac{d\\textbf{x}}{dt} = \\textbf{F}(\\textbf{x}(t), \\textbf{u}(t))$, $x(0) = x_0$\n",
    "#### where\n",
    "$\\quad$ $\\textbf{F}(\\textbf{x}(t), \\textbf{u}(t)) = \\begin{bmatrix} \\alpha f(f_{max}-f)-\\beta f u \\\\ \\delta m + \\beta f u \\end{bmatrix} \\;$ , $\\beta = 1, f_{max}=f_{0}=1$\n",
    "\n",
    "\n",
    "#### Where our objective function is \n",
    "$\\quad$ $g(\\begin{bmatrix} f \\\\ m\\end{bmatrix}) = -m(T)$\n",
    "\n",
    "#### And the gradient is \n",
    "$\\quad$ $\\nabla g(\\begin{bmatrix} f \\\\ m\\end{bmatrix}) = \\begin{bmatrix} 0 \\\\ 1 \\end{bmatrix}$"
   ]
  },
  {
   "cell_type": "code",
   "execution_count": 276,
   "id": "9649bf70-927f-4759-bdf4-a93136269ee6",
   "metadata": {
    "scrolled": true
   },
   "outputs": [
    {
     "data": {
      "text/plain": [
       "dg (generic function with 4 methods)"
      ]
     },
     "execution_count": 276,
     "metadata": {},
     "output_type": "execute_result"
    }
   ],
   "source": [
    "function F(t::Float64, xv::Vector{Float64}, u::Float64, params::Dict{String,Real}, verbose=0)\n",
    "    alpha = get(params, \"alpha\", 0.1)\n",
    "    delta = get(params, \"delta\", 0.05)\n",
    "    beta = get(params, \"beta\", 1.0)\n",
    "    f_max = get(params, \"f_max\", 1.0)\n",
    "    f, m = xv \n",
    "    dfdt = alpha * f * (f_max - f) - beta * f * u\n",
    "    dmdt = delta * m + beta * f * u\n",
    "    func = [dfdt, dmdt]\n",
    "    return func\n",
    "end\n",
    "\n",
    "function g(xv,verbose=0)\n",
    "    return xv[2]\n",
    "end\n",
    "\n",
    "function dg(xv::Vector{Float64}, verbose=0) \n",
    "    return [0.0, -1.0]\n",
    "end"
   ]
  },
  {
   "cell_type": "markdown",
   "id": "ba9e5d5e-59da-4bab-8808-d25037db04f7",
   "metadata": {},
   "source": [
    "#### Derivative of $\\textbf{F}$ with respect to $\\textbf{u}$\n",
    "$\\quad$ $\\nabla_{u} \\textbf{F}(t, \\textbf{x}, \\textbf{u}) = \\begin{bmatrix} -f \\\\ f \\end{bmatrix}$"
   ]
  },
  {
   "cell_type": "code",
   "execution_count": 277,
   "id": "328b68a5-8abc-4b61-96e3-a4d72377fe14",
   "metadata": {},
   "outputs": [
    {
     "data": {
      "text/plain": [
       "dFdu (generic function with 2 methods)"
      ]
     },
     "execution_count": 277,
     "metadata": {},
     "output_type": "execute_result"
    }
   ],
   "source": [
    "function dFdu(xvect::Vector{Float64},u::Float64,params::Dict{String,Real},verbose=0)\n",
    "    f = xv[1]\n",
    "    beta = get(params, \"beta\", 1.0)\n",
    "    grad = [-beta * f, beta * f]\n",
    "    return reshape(grad,2,1)\n",
    "end"
   ]
  },
  {
   "cell_type": "markdown",
   "id": "0c1c4aa9-fb99-4b21-a9b3-4d05af6adfe3",
   "metadata": {},
   "source": [
    "#### Derivative of $\\textbf{F}$ with respect to $\\textbf{x}$\n",
    "$\\quad$ $\\nabla_{x} \\textbf{F}(t, \\textbf{x}, \\textbf{u}) = \\begin{bmatrix} \\alpha -2 \\alpha f - u  && 0  \\\\ u  && \\delta \\end{bmatrix}$"
   ]
  },
  {
   "cell_type": "code",
   "execution_count": 278,
   "id": "d8ea9c7a-c765-4e5a-9240-ce823d9e0882",
   "metadata": {},
   "outputs": [
    {
     "data": {
      "text/plain": [
       "dFdx (generic function with 2 methods)"
      ]
     },
     "execution_count": 278,
     "metadata": {},
     "output_type": "execute_result"
    }
   ],
   "source": [
    "function dFdx(t::Float64, xv::Vector{Float64}, u::Float64, params::Dict{String,Real}, verbose=0)\n",
    "    f = xv[1]\n",
    "    alpha = get(params, \"alpha\", 1.0)\n",
    "    beta = get(params, \"beta\", 1.0)\n",
    "    delta = get(params, \"delta\", 1.0)\n",
    "    jacobian = [    -alpha * (1 - 2*f) + beta * u     beta * f     ;  \n",
    "                              beta * u                 delta      ]\n",
    "    return jacobian\n",
    "end"
   ]
  },
  {
   "cell_type": "markdown",
   "id": "839625ab-1ebb-458b-b1ca-9762e8cb5595",
   "metadata": {},
   "source": [
    "#### Discretization via Euler's Method\n",
    "$\\quad$ $\\textbf{x}_{k+1} = \\textbf{x} + h\\textbf{F}(\\textbf{x}_{k},\\textbf{u}_{k})$\n",
    "\n",
    "This allows us to find $\\textbf{x}(T)$ via a forward pass"
   ]
  },
  {
   "cell_type": "code",
   "execution_count": 280,
   "id": "53ec7f53-d653-48d5-956a-9753fbe36ca6",
   "metadata": {},
   "outputs": [
    {
     "data": {
      "text/plain": [
       "forwardstep (generic function with 2 methods)"
      ]
     },
     "execution_count": 280,
     "metadata": {},
     "output_type": "execute_result"
    }
   ],
   "source": [
    "function forwardstep(t0::Float64,xv::Vector{Float64},u::Matrix{Float64},F::Function,params::Dict{String,Real},verbose=0)\n",
    "    N = size(u,2) # number of cols of u\n",
    "    n = length(xv)\n",
    "    xs = zeros(eltype(xv),n,N+1)\n",
    "    xs[:,1] = xv\n",
    "    h = get(params, \"h\", 0.1)\n",
    "    for i = 0:N-1\n",
    "        xs[:,i+2] = xs[:,i+1] + h*F(t0+i*h,xs[:,i+1],u[:,i+1][1],params)\n",
    "    end\n",
    "    return xs\n",
    "end"
   ]
  },
  {
   "attachments": {},
   "cell_type": "markdown",
   "id": "630a285b-f9e0-4f7a-b1ec-069da3257b85",
   "metadata": {},
   "source": [
    "#### Lagrange Multiplier Equations\n",
    "$\\quad$ $\\lambda_{k-1} = \\lambda_{k} + h\\nabla_{x} \\textbf{F}(\\textbf{x}_k, \\textbf{u}_k)^T \\lambda$\n",
    "\n",
    "Moving backwards from the last $\\lambda$ fills in the rest of the $\\lambda$'s via a backward pass"
   ]
  },
  {
   "cell_type": "code",
   "execution_count": 281,
   "id": "088bba38-a609-4d71-ae18-d2bf4fcb9574",
   "metadata": {},
   "outputs": [
    {
     "data": {
      "text/plain": [
       "adjointstep (generic function with 2 methods)"
      ]
     },
     "execution_count": 281,
     "metadata": {},
     "output_type": "execute_result"
    }
   ],
   "source": [
    "# filling in the lagrange multipliers \n",
    "function adjointstep(λend::Vector{Float64},t0::Float64,xv::Matrix{Float64},u::Matrix{Float64},dFdx::Function,params::Dict{String,Real},verbose=0)\n",
    "    N = size(u,2)\n",
    "    n = length(λend)\n",
    "    λs = zeros(eltype(λend),n,N)\n",
    "    λs[:,N] = λend\n",
    "    h = get(params, \"h\", 0.1)\n",
    "    for i = N-2:-1:0\n",
    "        λs[:,i+1] = λs[:,i+2] + h*dFdx(t0+i*h,xv[:,i+1],u[:,i+1][1],params)'*λs[:,i+2]\n",
    "    end\n",
    "    λs\n",
    "end\n"
   ]
  },
  {
   "cell_type": "markdown",
   "id": "d0fe8b88-0829-489d-8c2a-a946b3b6158f",
   "metadata": {},
   "source": [
    "#### Objective function\n",
    "$\\quad$ $g(\\textbf{x}_N)=G(\\textbf{u}_{0}, \\textbf{u}_{1}, ... , \\textbf{u}_{N-1})$\n",
    "\n",
    "where $g(\\textbf{x}_k)$ is the output at each step $k$"
   ]
  },
  {
   "cell_type": "code",
   "execution_count": 282,
   "id": "30e46a25-e41b-4699-a974-8e66ba049b78",
   "metadata": {},
   "outputs": [
    {
     "data": {
      "text/plain": [
       "dG_init (generic function with 1 method)"
      ]
     },
     "execution_count": 282,
     "metadata": {},
     "output_type": "execute_result"
    }
   ],
   "source": [
    "function G_init(x0,t0,u,h,F::Function,g::Function)\n",
    "    xs = forwardstep(x0,t0,F,u,h)\n",
    "    g(xs[:,end])\n",
    "end\n",
    "\n",
    "function dG_init(x0,t0,u,h,F::Function,dFdx::Function,dFdu::Function,dg::Function)\n",
    "    xs = forwardstep(x0,t0,F,u,h)\n",
    "    λend = dg(xs[:,end])\n",
    "    λs = adjointstep(λend,t0,dFdx,xs,u,h)\n",
    "    dGval = zeros(eltype(u),size(u,1),size(u,2))\n",
    "    for i = 0:size(u,2)-1\n",
    "        dGval[:,i+1] = h*dFdu(t0+i*h,xs[:,i+1],u[:,i+1])'*λs[:,i+1]\n",
    "    end\n",
    "    dGval\n",
    "end"
   ]
  },
  {
   "cell_type": "code",
   "execution_count": 264,
   "id": "29a9eb40-f301-4225-8b11-6b6f415aafab",
   "metadata": {},
   "outputs": [
    {
     "data": {
      "text/plain": [
       "G (generic function with 4 methods)"
      ]
     },
     "execution_count": 264,
     "metadata": {},
     "output_type": "execute_result"
    }
   ],
   "source": [
    "function G(t0::Float64,xv::Vector{Float64},u::Matrix{Float64},F::Function,g::Function,params::Dict{String,Real},verbose=0)\n",
    "    xs = forwardstep(t0,xv,u,F,params)\n",
    "    return g(xs[:,end])\n",
    "end"
   ]
  },
  {
   "cell_type": "markdown",
   "id": "e5ebc4e3-9c61-4651-9a4f-46f84e490fd7",
   "metadata": {},
   "source": [
    "#### Gradient of objective function with respect to $\\textbf{u}$\n",
    "$\\quad$ $\\nabla_{u_{k}} g(\\textbf{x}_{N}) = h\\nabla_{u}\\textbf{F}(\\textbf{x}_{k}, \\textbf{u}_{k})^T \\lambda_{k}$"
   ]
  },
  {
   "cell_type": "code",
   "execution_count": 283,
   "id": "6f077122-91de-491e-aa98-af241d75cce5",
   "metadata": {},
   "outputs": [
    {
     "data": {
      "text/plain": [
       "dG (generic function with 4 methods)"
      ]
     },
     "execution_count": 283,
     "metadata": {},
     "output_type": "execute_result"
    }
   ],
   "source": [
    "function dG(t0::Float64,xv::Vector{Float64},u::Matrix{Float64},F::Function,dFdx::Function,dFdu::Function,dg::Function,params,verbose=0)\n",
    "    h = get(params, \"h\", 0.1)\n",
    "    xs = forwardstep(t0,xv,u,F,params)\n",
    "    λend = dg(xv[:,end])\n",
    "    λs = adjointstep(λend,t0,xs,u,dFdx,params)\n",
    "    dGval = zeros(eltype(u),size(u,1),size(u,2))\n",
    "    for i = 0:size(u,2)-1\n",
    "        dGval[:, i+1] = h*dFdu(xs[:, i+1],u[i+1][1],params)'*λs[:, i+1]\n",
    "    end\n",
    "    dGval\n",
    "end"
   ]
  },
  {
   "cell_type": "markdown",
   "id": "31d9e801-b86d-4fd9-b5e0-3dd6328872bd",
   "metadata": {},
   "source": [
    "#### Projection of controls onto $\\space \\mathcal{U}$\n",
    "$\\quad$ Search direction: $\\textbf{d}=[(\\textbf{d}_{0})^T, (\\textbf{d}_{2})^T, ... , (\\textbf{d}_{N-1})^T]^T$\\\n",
    "$\\quad$ New control: $\\textbf{u}^{+}(\\alpha) = Proj_{\\mathcal{U}}(\\textbf{u}+\\alpha \\textbf{d})$, $\\space$ $\\mathcal{U}$ convex\n",
    "\n",
    "This is to incorporate the constraints $\\textbf{u}_{k} \\in U \\space \\forall k$"
   ]
  },
  {
   "cell_type": "code",
   "execution_count": 284,
   "id": "7dba9dfe-d5d9-4785-8c41-e58d78dd9d63",
   "metadata": {},
   "outputs": [
    {
     "data": {
      "text/plain": [
       "proj_u (generic function with 3 methods)"
      ]
     },
     "execution_count": 284,
     "metadata": {},
     "output_type": "execute_result"
    }
   ],
   "source": [
    "function proj_u(u,a,b)\n",
    "    clamp.(u, a, b)\n",
    "end"
   ]
  },
  {
   "cell_type": "markdown",
   "id": "55c694d9-bef1-4cab-aaa2-97efd9e18eda",
   "metadata": {},
   "source": [
    "#### Optimal Control Algorithm\n",
    "Performs gradient descent in conjunction with backtracking line search on the iterates of $\\textbf{u}$"
   ]
  },
  {
   "cell_type": "code",
   "execution_count": 285,
   "id": "6303c631-def4-4391-ab02-866fbe5ac1b6",
   "metadata": {},
   "outputs": [
    {
     "data": {
      "text/plain": [
       "optcontrol (generic function with 10 methods)"
      ]
     },
     "execution_count": 285,
     "metadata": {},
     "output_type": "execute_result"
    }
   ],
   "source": [
    "function optcontrol(t0::Float64,x0::Vector{Float64},u::Matrix{Float64},F::Function,dFdx::Function,dFdu::Function,g::Function,dg::Function,ulist=nothing,trace=0)\n",
    "    println(\"begin optimization\")\n",
    "    Gval = G(t0,x0,u,F,g,params,1)\n",
    "    Gvalold = Gval\n",
    "    dGval = dG(t0,x0,u,F,dFdx,dFdu,dg,params,1)\n",
    "    firsttime = true\n",
    "    iter = 0\n",
    "    c1 = get(params, \"c1\", 0.01)\n",
    "    s0 = get(params, \"s0\", 1.0)\n",
    "    h = get(params, \"h\", 0.1)\n",
    "    maxiter = get(params, \"maxiter\", 10000)\n",
    "    eps = get(params, \"eps\", 0.4)\n",
    "    if ulist != nothing\n",
    "        push!(ulist,u)\n",
    "    end\n",
    "    count = 0\n",
    "    println(\"==========================\")\n",
    "    println(\"Initial Values\")\n",
    "    println(\"--------------------------\")\n",
    "    println(\"Gval: \", Gval)\n",
    "    println(\"Gvalold: \", Gvalold)\n",
    "    # println(\"dGval: \", dGval)\n",
    "    # println(\"u: \", u)\n",
    "    while ( firsttime || (Gvalold - Gval > eps) ) && (iter < maxiter)\n",
    "        println(\"==========================\")\n",
    "        println(\"Iteration \", iter+1)\n",
    "        println(\"--------------------------\")\n",
    "        println(\"Gvalold: \", Gvalold)\n",
    "        Gvalold = Gval\n",
    "        s = s0\n",
    "        u_new_non_projected = u-s*dGval\n",
    "        # println(\"u_nonproj: \", u_new_non_projected)\n",
    "        # unew = proj_u(u-s*dGval,0.0,0.5) # projected gradient descent\n",
    "        unew = u_new_non_projected\n",
    "        Gval = G(t0,x0,unew,F,g,params)\n",
    "        count_linesearch=0\n",
    "        while Gval > Gvalold + c1*dot(dGval,unew-u) && s > 1e-6*s0\n",
    "            s = s / 2\n",
    "            unew = proj_u(u-s*dGval,0.0,0.5)\n",
    "            Gval = G(t0,x0,unew,F,g,params,1)\n",
    "            count_linesearch += 1\n",
    "        end\n",
    "        u = unew\n",
    "        firsttime = false\n",
    "        dGval = dG(t0,x0,u,F,dFdx,dFdu,dg,params,0)\n",
    "\n",
    "        if ulist != nothing\n",
    "            push!(ulist,u)\n",
    "        end\n",
    "        iter += 1\n",
    "        if iter < 5\n",
    "            println(\"Line search steps: \", count_linesearch)\n",
    "            println(\"Gval: \", Gval)\n",
    "            println(\"dGval: \", dGval)\n",
    "            # println(\"u: \", u)\n",
    "        end\n",
    "        count += 1\n",
    "    end\n",
    "    (u,iter)\n",
    "end"
   ]
  },
  {
   "cell_type": "markdown",
   "id": "dd7f1536-10c1-43bb-8744-3266b088cc50",
   "metadata": {},
   "source": [
    "#### Parameters"
   ]
  },
  {
   "cell_type": "code",
   "execution_count": 286,
   "id": "854fb296-dbc3-4668-a670-8b8f9e205927",
   "metadata": {},
   "outputs": [
    {
     "data": {
      "text/plain": [
       "Dict{String, Real} with 9 entries:\n",
       "  \"eps\"     => 0.01\n",
       "  \"c1\"      => 0.05\n",
       "  \"f_max\"   => 1.0\n",
       "  \"maxiter\" => 10000\n",
       "  \"alpha\"   => 0.5\n",
       "  \"s0\"      => 1.0\n",
       "  \"h\"       => 0.1\n",
       "  \"delta\"   => 0.5\n",
       "  \"beta\"    => 1.0"
      ]
     },
     "execution_count": 286,
     "metadata": {},
     "output_type": "execute_result"
    }
   ],
   "source": [
    "using LinearAlgebra\n",
    "xv  = [2.1; 1.1]\n",
    "t = 0.0; \n",
    "N = 200\n",
    "u = -ones(1,N)\n",
    "du = 1e-3*[0.7]\n",
    "T = 20 \n",
    "\n",
    "params = Dict(\n",
    "    \"alpha\"=>0.5,\n",
    "    \"delta\"=>0.5,\n",
    "    \"beta\"=>1.0,\n",
    "    \"f_max\"=>1.0,\n",
    "    \"h\"=>0.1,\n",
    "    \"eps\"=>1e-2,\n",
    "    \"s0\"=>1.0, \n",
    "    \"c1\"=>0.05,\n",
    "    \"maxiter\"=>10_000\n",
    ")"
   ]
  },
  {
   "cell_type": "code",
   "execution_count": 287,
   "id": "ce65239d-23c5-46d8-b315-c8e712676abf",
   "metadata": {},
   "outputs": [
    {
     "data": {
      "text/plain": [
       "2×201 Matrix{Float64}:\n",
       " 2.1  2.1945  2.28288  2.36474   2.43985   …       3.0       3.0       3.0\n",
       " 1.1  0.945   0.7728   0.583152  0.375835     -68606.2  -72036.8  -75638.9"
      ]
     },
     "execution_count": 287,
     "metadata": {},
     "output_type": "execute_result"
    }
   ],
   "source": [
    "xs = forwardstep(t,xv,u,F,params,0)"
   ]
  },
  {
   "cell_type": "code",
   "execution_count": 288,
   "id": "0c58089f-302d-4ec3-894a-8758cc965a9e",
   "metadata": {},
   "outputs": [
    {
     "data": {
      "text/plain": [
       "2-element Vector{Float64}:\n",
       "  0.0\n",
       " -1.0"
      ]
     },
     "execution_count": 288,
     "metadata": {},
     "output_type": "execute_result"
    }
   ],
   "source": [
    "λend = dg(xs[:,end])"
   ]
  },
  {
   "cell_type": "code",
   "execution_count": 289,
   "id": "cd2c6588-ecd8-43d3-b245-f0c112b3cf81",
   "metadata": {},
   "outputs": [
    {
     "data": {
      "text/plain": [
       "2×200 Matrix{Float64}:\n",
       " -6.92087e8  -6.40928e8  -5.76723e8  …   0.36025   0.22     0.1    0.0\n",
       " -1.21194e6   1.27031e8   2.41517e8     -1.06013  -1.0725  -1.05  -1.0"
      ]
     },
     "execution_count": 289,
     "metadata": {},
     "output_type": "execute_result"
    }
   ],
   "source": [
    "λs = adjointstep(λend,t,xs,u,dFdx,params)"
   ]
  },
  {
   "cell_type": "code",
   "execution_count": 290,
   "id": "ae25d639-e363-4b83-a6a9-b2fd674269b8",
   "metadata": {},
   "outputs": [
    {
     "name": "stdout",
     "output_type": "stream",
     "text": [
      "begin optimization\n",
      "==========================\n",
      "Initial Values\n",
      "--------------------------\n",
      "Gval: 35297.653935037786\n",
      "Gvalold: 35297.653935037786\n",
      "==========================\n",
      "Iteration 1\n",
      "--------------------------\n",
      "Gvalold: 35297.653935037786\n",
      "Line search steps: 1\n",
      "Gval: 35297.653935037786\n",
      "dGval: [-0.21000000003867456 -0.20999999995714919 -0.210000000045092 -0.20999999999458893 -0.20999999998455385 -0.21000000000310398 -0.21000000001980662 -0.20999999999380076 -0.2099999999983449 -0.20999999999496088 -0.20999999999408053 -0.20999999999566918 -0.2100000000049388 -0.21000000000266011 -0.21000000000220448 -0.21000000000006647 -0.2099999999968176 -0.2099999999941957 -0.21000000000121594 -0.2100000000009925 -0.21000000000050553 -0.2100000000000422 -0.20999999999727087 -0.21000000000266625 -0.21000000000080085 -0.21000000000069496 -0.20999999999987315 -0.2099999999987704 -0.20999999999971375 -0.2099999999997919 -0.20999999999958596 -0.21000000000033198 -0.2099999999994827 -0.20999999999929309 -0.20999999999961708 -0.20999999999972663 -0.20999999999940303 -0.2099999999994463 -0.21000000000058364 -0.20999999999979538 -0.21000000000024618 -0.21000000000029884 -0.20999999999988034 -0.20999999999993635 -0.2099999999997392 -0.2100000000000527 -0.20999999999982166 -0.2100000000001556 -0.20999999999998123 -0.21000000000000785 -0.20999999999990787 -0.2099999999998633 -0.21000000000009217 -0.21000000000004887 -0.20999999999984237 -0.20999999999987287 -0.20999999999998573 -0.2099999999999989 -0.20999999999991248 -0.21000000000005375 -0.2099999999999862 -0.21000000000002808 -0.2099999999999156 -0.21000000000007624 -0.21000000000000063 -0.21000000000001165 -0.209999999999991 -0.2100000000000297 -0.2100000000000367 -0.21000000000003027 -0.21000000000003755 -0.21000000000003133 -0.21000000000002983 -0.21000000000000107 -0.2099999999999816 -0.20999999999998945 -0.20999999999998603 -0.21000000000000543 -0.2099999999999863 -0.20999999999999674 -0.2100000000000118 -0.21000000000001104 -0.20999999999999439 -0.21000000000002098 -0.21000000000000216 -0.21000000000001062 -0.2100000000000101 -0.20999999999999594 -0.21000000000000682 -0.209999999999995 -0.2099999999999946 -0.21000000000000557 -0.21000000000000069 -0.2099999999999935 -0.20999999999999885 -0.20999999999999802 -0.20999999999999885 -0.2099999999999992 -0.21000000000000238 -0.210000000000005 -0.20999999999999908 -0.21000000000000343 -0.20999999999999588 -0.20999999999999913 -0.2100000000000052 -0.20999999999999966 -0.2100000000000012 -0.20999999999999996 -0.2100000000000021 -0.21000000000000085 -0.21000000000000218 -0.21000000000000096 -0.21000000000000085 -0.21000000000000135 -0.2099999999999987 -0.21000000000000144 -0.21000000000000069 -0.21000000000000119 -0.20999999999999927 -0.21000000000000052 -0.21000000000000016 -0.21000000000000135 -0.2100000000000002 -0.20999999999999944 -0.20999999999999883 -0.21000000000000063 -0.21000000000000119 -0.21000000000000008 -0.21000000000000024 -0.21000000000000063 -0.2099999999999995 -0.20999999999999958 -0.2100000000000004 -0.20999999999999952 -0.2100000000000006 -0.2099999999999995 -0.21000000000000046 -0.20999999999999988 -0.20999999999999988 -0.20999999999999971 -0.20999999999999971 -0.21000000000000008 -0.2100000000000003 -0.2100000000000002 -0.20999999999999988 -0.20999999999999974 -0.21000000000000002 -0.2099999999999998 -0.20999999999999996 -0.20999999999999958 -0.2099999999999994 -0.20999999999999935 -0.20999999999999922 -0.20999999999999935 -0.2099999999999994 -0.20999999999999922 -0.2099999999999993 -0.20999999999999952 -0.20999999999999958 -0.20999999999999963 -0.2099999999999998 -0.2099999999999998 -0.2099999999999998 -0.20999999999999974 -0.2099999999999998 -0.20999999999999988 -0.20999999999999988 -0.20999999999999988 -0.20999999999999988 -0.20999999999999988 -0.20999999999999994 -0.21000000000000008 -0.21000000000000016 -0.21000000000000016 -0.2100000000000001 -0.2100000000000001 -0.21000000000000016 -0.21000000000000016 -0.21000000000000008 -0.21000000000000016 -0.2100000000000001 -0.21000000000000008 -0.21000000000000002 -0.21000000000000002 -0.21000000000000002 -0.21000000000000002 -0.21000000000000008 -0.21000000000000008 -0.21000000000000002 -0.21000000000000002 -0.21000000000000002 -0.21000000000000002 -0.21000000000000002 -0.21000000000000002 -0.21000000000000002 -0.21000000000000002 -0.21000000000000002 -0.21000000000000002 -0.21000000000000002 -0.21000000000000002]\n"
     ]
    },
    {
     "data": {
      "text/plain": [
       "([0.5 0.5 … 0.5 0.5], 1)"
      ]
     },
     "execution_count": 290,
     "metadata": {},
     "output_type": "execute_result"
    }
   ],
   "source": [
    "ulist = []\n",
    "u = fill(0.5, 1,N)\n",
    "opt_u,iters = optcontrol(0.0,xv,u,F,dFdx,dFdu,g,dg,ulist,0)"
   ]
  },
  {
   "cell_type": "code",
   "execution_count": 291,
   "id": "b88ec86f-2c82-4bb6-85e7-67aa94e375bb",
   "metadata": {},
   "outputs": [
    {
     "data": {
      "text/plain": [
       "1×200 Matrix{Float64}:\n",
       " 0.5  0.5  0.5  0.5  0.5  0.5  0.5  0.5  …  0.5  0.5  0.5  0.5  0.5  0.5  0.5"
      ]
     },
     "execution_count": 291,
     "metadata": {},
     "output_type": "execute_result"
    }
   ],
   "source": [
    "opt_u"
   ]
  },
  {
   "cell_type": "code",
   "execution_count": 292,
   "id": "577faaef-b95f-4651-ba11-e896bc5fd9dc",
   "metadata": {},
   "outputs": [
    {
     "data": {
      "text/plain": [
       "2×201 Matrix{Float64}:\n",
       " 2.1  1.8795  1.70287  1.55788  1.43653  …      0.0944825      0.0940362\n",
       " 1.1  1.26    1.41698  1.57297  1.72951     33616.8        35297.7"
      ]
     },
     "execution_count": 292,
     "metadata": {},
     "output_type": "execute_result"
    }
   ],
   "source": [
    "xsopt = forwardstep(t,xv,opt_u,F,params)"
   ]
  },
  {
   "cell_type": "code",
   "execution_count": 293,
   "id": "7d25e8aa-7a21-4ae7-82b1-cfd9e76cdf4f",
   "metadata": {},
   "outputs": [
    {
     "data": {
      "image/png": "[encoded data removed]",
      "image/svg+xml": [
       "<?xml version=\"1.0\" encoding=\"utf-8\"?>\n",
       "<svg xmlns=\"http://www.w3.org/2000/svg\" xmlns:xlink=\"http://www.w3.org/1999/xlink\" width=\"600\" height=\"400\" viewBox=\"0 0 2400 1600\">\n",
       "<defs>\n",
       "  <clipPath id=\"clip540\">\n",
       "    <rect x=\"0\" y=\"0\" width=\"2400\" height=\"1600\"/>\n",
       "  </clipPath>\n",
       "</defs>\n",
       "<path clip-path=\"url(#clip540)\" d=\"M0 1600 L2400 1600 L2400 8.88178e-14 L0 8.88178e-14  Z\" fill=\"#ffffff\" fill-rule=\"evenodd\" fill-opacity=\"1\"/>\n",
       "<defs>\n",
       "  <clipPath id=\"clip541\">\n",
       "    <rect x=\"480\" y=\"0\" width=\"1681\" height=\"1600\"/>\n",
       "  </clipPath>\n",
       "</defs>\n",
       "<path clip-path=\"url(#clip540)\" d=\"M155.765 1486.45 L2352.76 1486.45 L2352.76 47.2441 L155.765 47.2441  Z\" fill=\"#ffffff\" fill-rule=\"evenodd\" fill-opacity=\"1\"/>\n",
       "<defs>\n",
       "  <clipPath id=\"clip542\">\n",
       "    <rect x=\"155\" y=\"47\" width=\"2198\" height=\"1440\"/>\n",
       "  </clipPath>\n",
       "</defs>\n",
       "<polyline clip-path=\"url(#clip542)\" style=\"stroke:#000000; stroke-linecap:round; stroke-linejoin:round; stroke-width:2; stroke-opacity:0.1; fill:none\" points=\"217.944,1486.45 217.944,47.2441 \"/>\n",
       "<polyline clip-path=\"url(#clip542)\" style=\"stroke:#000000; stroke-linecap:round; stroke-linejoin:round; stroke-width:2; stroke-opacity:0.1; fill:none\" points=\"736.102,1486.45 736.102,47.2441 \"/>\n",
       "<polyline clip-path=\"url(#clip542)\" style=\"stroke:#000000; stroke-linecap:round; stroke-linejoin:round; stroke-width:2; stroke-opacity:0.1; fill:none\" points=\"1254.26,1486.45 1254.26,47.2441 \"/>\n",
       "<polyline clip-path=\"url(#clip542)\" style=\"stroke:#000000; stroke-linecap:round; stroke-linejoin:round; stroke-width:2; stroke-opacity:0.1; fill:none\" points=\"1772.42,1486.45 1772.42,47.2441 \"/>\n",
       "<polyline clip-path=\"url(#clip542)\" style=\"stroke:#000000; stroke-linecap:round; stroke-linejoin:round; stroke-width:2; stroke-opacity:0.1; fill:none\" points=\"2290.58,1486.45 2290.58,47.2441 \"/>\n",
       "<polyline clip-path=\"url(#clip540)\" style=\"stroke:#000000; stroke-linecap:round; stroke-linejoin:round; stroke-width:4; stroke-opacity:1; fill:none\" points=\"155.765,1486.45 2352.76,1486.45 \"/>\n",
       "<polyline clip-path=\"url(#clip540)\" style=\"stroke:#000000; stroke-linecap:round; stroke-linejoin:round; stroke-width:4; stroke-opacity:1; fill:none\" points=\"217.944,1486.45 217.944,1467.55 \"/>\n",
       "<polyline clip-path=\"url(#clip540)\" style=\"stroke:#000000; stroke-linecap:round; stroke-linejoin:round; stroke-width:4; stroke-opacity:1; fill:none\" points=\"736.102,1486.45 736.102,1467.55 \"/>\n",
       "<polyline clip-path=\"url(#clip540)\" style=\"stroke:#000000; stroke-linecap:round; stroke-linejoin:round; stroke-width:4; stroke-opacity:1; fill:none\" points=\"1254.26,1486.45 1254.26,1467.55 \"/>\n",
       "<polyline clip-path=\"url(#clip540)\" style=\"stroke:#000000; stroke-linecap:round; stroke-linejoin:round; stroke-width:4; stroke-opacity:1; fill:none\" points=\"1772.42,1486.45 1772.42,1467.55 \"/>\n",
       "<polyline clip-path=\"url(#clip540)\" style=\"stroke:#000000; stroke-linecap:round; stroke-linejoin:round; stroke-width:4; stroke-opacity:1; fill:none\" points=\"2290.58,1486.45 2290.58,1467.55 \"/>\n",
       "<path clip-path=\"url(#clip540)\" d=\"M217.944 1517.37 Q214.333 1517.37 212.504 1520.93 Q210.699 1524.47 210.699 1531.6 Q210.699 1538.71 212.504 1542.27 Q214.333 1545.82 217.944 1545.82 Q221.578 1545.82 223.384 1542.27 Q225.212 1538.71 225.212 1531.6 Q225.212 1524.47 223.384 1520.93 Q221.578 1517.37 217.944 1517.37 M217.944 1513.66 Q223.754 1513.66 226.81 1518.27 Q229.888 1522.85 229.888 1531.6 Q229.888 1540.33 226.81 1544.94 Q223.754 1549.52 217.944 1549.52 Q212.134 1549.52 209.055 1544.94 Q206 1540.33 206 1531.6 Q206 1522.85 209.055 1518.27 Q212.134 1513.66 217.944 1513.66 Z\" fill=\"#000000\" fill-rule=\"nonzero\" fill-opacity=\"1\" /><path clip-path=\"url(#clip540)\" d=\"M726.38 1514.29 L744.736 1514.29 L744.736 1518.22 L730.662 1518.22 L730.662 1526.7 Q731.681 1526.35 732.699 1526.19 Q733.718 1526 734.736 1526 Q740.523 1526 743.903 1529.17 Q747.283 1532.34 747.283 1537.76 Q747.283 1543.34 743.81 1546.44 Q740.338 1549.52 734.019 1549.52 Q731.843 1549.52 729.574 1549.15 Q727.329 1548.78 724.922 1548.04 L724.922 1543.34 Q727.005 1544.47 729.227 1545.03 Q731.449 1545.58 733.926 1545.58 Q737.931 1545.58 740.269 1543.48 Q742.607 1541.37 742.607 1537.76 Q742.607 1534.15 740.269 1532.04 Q737.931 1529.94 733.926 1529.94 Q732.051 1529.94 730.176 1530.35 Q728.324 1530.77 726.38 1531.65 L726.38 1514.29 Z\" fill=\"#000000\" fill-rule=\"nonzero\" fill-opacity=\"1\" /><path clip-path=\"url(#clip540)\" d=\"M1228.95 1544.91 L1236.59 1544.91 L1236.59 1518.55 L1228.28 1520.21 L1228.28 1515.95 L1236.54 1514.29 L1241.22 1514.29 L1241.22 1544.91 L1248.86 1544.91 L1248.86 1548.85 L1228.95 1548.85 L1228.95 1544.91 Z\" fill=\"#000000\" fill-rule=\"nonzero\" fill-opacity=\"1\" /><path clip-path=\"url(#clip540)\" d=\"M1268.3 1517.37 Q1264.69 1517.37 1262.86 1520.93 Q1261.05 1524.47 1261.05 1531.6 Q1261.05 1538.71 1262.86 1542.27 Q1264.69 1545.82 1268.3 1545.82 Q1271.93 1545.82 1273.74 1542.27 Q1275.57 1538.71 1275.57 1531.6 Q1275.57 1524.47 1273.74 1520.93 Q1271.93 1517.37 1268.3 1517.37 M1268.3 1513.66 Q1274.11 1513.66 1277.17 1518.27 Q1280.24 1522.85 1280.24 1531.6 Q1280.24 1540.33 1277.17 1544.94 Q1274.11 1549.52 1268.3 1549.52 Q1262.49 1549.52 1259.41 1544.94 Q1256.36 1540.33 1256.36 1531.6 Q1256.36 1522.85 1259.41 1518.27 Q1262.49 1513.66 1268.3 1513.66 Z\" fill=\"#000000\" fill-rule=\"nonzero\" fill-opacity=\"1\" /><path clip-path=\"url(#clip540)\" d=\"M1747.6 1544.91 L1755.24 1544.91 L1755.24 1518.55 L1746.93 1520.21 L1746.93 1515.95 L1755.2 1514.29 L1759.87 1514.29 L1759.87 1544.91 L1767.51 1544.91 L1767.51 1548.85 L1747.6 1548.85 L1747.6 1544.91 Z\" fill=\"#000000\" fill-rule=\"nonzero\" fill-opacity=\"1\" /><path clip-path=\"url(#clip540)\" d=\"M1777 1514.29 L1795.36 1514.29 L1795.36 1518.22 L1781.28 1518.22 L1781.28 1526.7 Q1782.3 1526.35 1783.32 1526.19 Q1784.34 1526 1785.36 1526 Q1791.15 1526 1794.53 1529.17 Q1797.9 1532.34 1797.9 1537.76 Q1797.9 1543.34 1794.43 1546.44 Q1790.96 1549.52 1784.64 1549.52 Q1782.46 1549.52 1780.2 1549.15 Q1777.95 1548.78 1775.54 1548.04 L1775.54 1543.34 Q1777.63 1544.47 1779.85 1545.03 Q1782.07 1545.58 1784.55 1545.58 Q1788.55 1545.58 1790.89 1543.48 Q1793.23 1541.37 1793.23 1537.76 Q1793.23 1534.15 1790.89 1532.04 Q1788.55 1529.94 1784.55 1529.94 Q1782.67 1529.94 1780.8 1530.35 Q1778.95 1530.77 1777 1531.65 L1777 1514.29 Z\" fill=\"#000000\" fill-rule=\"nonzero\" fill-opacity=\"1\" /><path clip-path=\"url(#clip540)\" d=\"M2269.35 1544.91 L2285.67 1544.91 L2285.67 1548.85 L2263.73 1548.85 L2263.73 1544.91 Q2266.39 1542.16 2270.97 1537.53 Q2275.58 1532.88 2276.76 1531.53 Q2279 1529.01 2279.88 1527.27 Q2280.79 1525.51 2280.79 1523.82 Q2280.79 1521.07 2278.84 1519.33 Q2276.92 1517.6 2273.82 1517.6 Q2271.62 1517.6 2269.16 1518.36 Q2266.73 1519.13 2263.96 1520.68 L2263.96 1515.95 Q2266.78 1514.82 2269.23 1514.24 Q2271.69 1513.66 2273.73 1513.66 Q2279.1 1513.66 2282.29 1516.35 Q2285.48 1519.03 2285.48 1523.52 Q2285.48 1525.65 2284.67 1527.57 Q2283.89 1529.47 2281.78 1532.07 Q2281.2 1532.74 2278.1 1535.95 Q2275 1539.15 2269.35 1544.91 Z\" fill=\"#000000\" fill-rule=\"nonzero\" fill-opacity=\"1\" /><path clip-path=\"url(#clip540)\" d=\"M2305.48 1517.37 Q2301.87 1517.37 2300.04 1520.93 Q2298.24 1524.47 2298.24 1531.6 Q2298.24 1538.71 2300.04 1542.27 Q2301.87 1545.82 2305.48 1545.82 Q2309.12 1545.82 2310.92 1542.27 Q2312.75 1538.71 2312.75 1531.6 Q2312.75 1524.47 2310.92 1520.93 Q2309.12 1517.37 2305.48 1517.37 M2305.48 1513.66 Q2311.29 1513.66 2314.35 1518.27 Q2317.43 1522.85 2317.43 1531.6 Q2317.43 1540.33 2314.35 1544.94 Q2311.29 1549.52 2305.48 1549.52 Q2299.67 1549.52 2296.6 1544.94 Q2293.54 1540.33 2293.54 1531.6 Q2293.54 1522.85 2296.6 1518.27 Q2299.67 1513.66 2305.48 1513.66 Z\" fill=\"#000000\" fill-rule=\"nonzero\" fill-opacity=\"1\" /><polyline clip-path=\"url(#clip542)\" style=\"stroke:#000000; stroke-linecap:round; stroke-linejoin:round; stroke-width:2; stroke-opacity:0.1; fill:none\" points=\"155.765,1170.94 2352.76,1170.94 \"/>\n",
       "<polyline clip-path=\"url(#clip542)\" style=\"stroke:#000000; stroke-linecap:round; stroke-linejoin:round; stroke-width:2; stroke-opacity:0.1; fill:none\" points=\"155.765,832.513 2352.76,832.513 \"/>\n",
       "<polyline clip-path=\"url(#clip542)\" style=\"stroke:#000000; stroke-linecap:round; stroke-linejoin:round; stroke-width:2; stroke-opacity:0.1; fill:none\" points=\"155.765,494.087 2352.76,494.087 \"/>\n",
       "<polyline clip-path=\"url(#clip542)\" style=\"stroke:#000000; stroke-linecap:round; stroke-linejoin:round; stroke-width:2; stroke-opacity:0.1; fill:none\" points=\"155.765,155.661 2352.76,155.661 \"/>\n",
       "<polyline clip-path=\"url(#clip540)\" style=\"stroke:#000000; stroke-linecap:round; stroke-linejoin:round; stroke-width:4; stroke-opacity:1; fill:none\" points=\"155.765,1486.45 155.765,47.2441 \"/>\n",
       "<polyline clip-path=\"url(#clip540)\" style=\"stroke:#000000; stroke-linecap:round; stroke-linejoin:round; stroke-width:4; stroke-opacity:1; fill:none\" points=\"155.765,1170.94 174.663,1170.94 \"/>\n",
       "<polyline clip-path=\"url(#clip540)\" style=\"stroke:#000000; stroke-linecap:round; stroke-linejoin:round; stroke-width:4; stroke-opacity:1; fill:none\" points=\"155.765,832.513 174.663,832.513 \"/>\n",
       "<polyline clip-path=\"url(#clip540)\" style=\"stroke:#000000; stroke-linecap:round; stroke-linejoin:round; stroke-width:4; stroke-opacity:1; fill:none\" points=\"155.765,494.087 174.663,494.087 \"/>\n",
       "<polyline clip-path=\"url(#clip540)\" style=\"stroke:#000000; stroke-linecap:round; stroke-linejoin:round; stroke-width:4; stroke-opacity:1; fill:none\" points=\"155.765,155.661 174.663,155.661 \"/>\n",
       "<path clip-path=\"url(#clip540)\" d=\"M63.5847 1156.74 Q59.9736 1156.74 58.1449 1160.3 Q56.3393 1163.84 56.3393 1170.97 Q56.3393 1178.08 58.1449 1181.64 Q59.9736 1185.19 63.5847 1185.19 Q67.2189 1185.19 69.0244 1181.64 Q70.8531 1178.08 70.8531 1170.97 Q70.8531 1163.84 69.0244 1160.3 Q67.2189 1156.74 63.5847 1156.74 M63.5847 1153.03 Q69.3948 1153.03 72.4503 1157.64 Q75.529 1162.22 75.529 1170.97 Q75.529 1179.7 72.4503 1184.31 Q69.3948 1188.89 63.5847 1188.89 Q57.7745 1188.89 54.6958 1184.31 Q51.6403 1179.7 51.6403 1170.97 Q51.6403 1162.22 54.6958 1157.64 Q57.7745 1153.03 63.5847 1153.03 Z\" fill=\"#000000\" fill-rule=\"nonzero\" fill-opacity=\"1\" /><path clip-path=\"url(#clip540)\" d=\"M83.7466 1182.34 L88.6308 1182.34 L88.6308 1188.22 L83.7466 1188.22 L83.7466 1182.34 Z\" fill=\"#000000\" fill-rule=\"nonzero\" fill-opacity=\"1\" /><path clip-path=\"url(#clip540)\" d=\"M98.8622 1153.66 L117.219 1153.66 L117.219 1157.59 L103.145 1157.59 L103.145 1166.07 Q104.163 1165.72 105.182 1165.56 Q106.2 1165.37 107.219 1165.37 Q113.006 1165.37 116.385 1168.54 Q119.765 1171.71 119.765 1177.13 Q119.765 1182.71 116.293 1185.81 Q112.82 1188.89 106.501 1188.89 Q104.325 1188.89 102.057 1188.52 Q99.8113 1188.15 97.4039 1187.41 L97.4039 1182.71 Q99.4872 1183.84 101.709 1184.4 Q103.932 1184.95 106.408 1184.95 Q110.413 1184.95 112.751 1182.85 Q115.089 1180.74 115.089 1177.13 Q115.089 1173.52 112.751 1171.41 Q110.413 1169.31 106.408 1169.31 Q104.534 1169.31 102.659 1169.72 Q100.807 1170.14 98.8622 1171.02 L98.8622 1153.66 Z\" fill=\"#000000\" fill-rule=\"nonzero\" fill-opacity=\"1\" /><path clip-path=\"url(#clip540)\" d=\"M53.3995 845.858 L61.0384 845.858 L61.0384 819.492 L52.7282 821.159 L52.7282 816.899 L60.9921 815.233 L65.668 815.233 L65.668 845.858 L73.3068 845.858 L73.3068 849.793 L53.3995 849.793 L53.3995 845.858 Z\" fill=\"#000000\" fill-rule=\"nonzero\" fill-opacity=\"1\" /><path clip-path=\"url(#clip540)\" d=\"M82.7512 843.913 L87.6354 843.913 L87.6354 849.793 L82.7512 849.793 L82.7512 843.913 Z\" fill=\"#000000\" fill-rule=\"nonzero\" fill-opacity=\"1\" /><path clip-path=\"url(#clip540)\" d=\"M107.821 818.311 Q104.209 818.311 102.381 821.876 Q100.575 825.418 100.575 832.548 Q100.575 839.654 102.381 843.219 Q104.209 846.76 107.821 846.76 Q111.455 846.76 113.26 843.219 Q115.089 839.654 115.089 832.548 Q115.089 825.418 113.26 821.876 Q111.455 818.311 107.821 818.311 M107.821 814.608 Q113.631 814.608 116.686 819.214 Q119.765 823.798 119.765 832.548 Q119.765 841.274 116.686 845.881 Q113.631 850.464 107.821 850.464 Q102.01 850.464 98.9317 845.881 Q95.8761 841.274 95.8761 832.548 Q95.8761 823.798 98.9317 819.214 Q102.01 814.608 107.821 814.608 Z\" fill=\"#000000\" fill-rule=\"nonzero\" fill-opacity=\"1\" /><path clip-path=\"url(#clip540)\" d=\"M54.3949 507.432 L62.0337 507.432 L62.0337 481.066 L53.7236 482.733 L53.7236 478.474 L61.9874 476.807 L66.6633 476.807 L66.6633 507.432 L74.3022 507.432 L74.3022 511.367 L54.3949 511.367 L54.3949 507.432 Z\" fill=\"#000000\" fill-rule=\"nonzero\" fill-opacity=\"1\" /><path clip-path=\"url(#clip540)\" d=\"M83.7466 505.488 L88.6308 505.488 L88.6308 511.367 L83.7466 511.367 L83.7466 505.488 Z\" fill=\"#000000\" fill-rule=\"nonzero\" fill-opacity=\"1\" /><path clip-path=\"url(#clip540)\" d=\"M98.8622 476.807 L117.219 476.807 L117.219 480.742 L103.145 480.742 L103.145 489.214 Q104.163 488.867 105.182 488.705 Q106.2 488.52 107.219 488.52 Q113.006 488.52 116.385 491.691 Q119.765 494.863 119.765 500.279 Q119.765 505.858 116.293 508.96 Q112.82 512.038 106.501 512.038 Q104.325 512.038 102.057 511.668 Q99.8113 511.298 97.4039 510.557 L97.4039 505.858 Q99.4872 506.992 101.709 507.548 Q103.932 508.103 106.408 508.103 Q110.413 508.103 112.751 505.997 Q115.089 503.89 115.089 500.279 Q115.089 496.668 112.751 494.562 Q110.413 492.455 106.408 492.455 Q104.534 492.455 102.659 492.872 Q100.807 493.289 98.8622 494.168 L98.8622 476.807 Z\" fill=\"#000000\" fill-rule=\"nonzero\" fill-opacity=\"1\" /><path clip-path=\"url(#clip540)\" d=\"M56.6171 169.006 L72.9365 169.006 L72.9365 172.941 L50.9921 172.941 L50.9921 169.006 Q53.6541 166.252 58.2375 161.622 Q62.8439 156.969 64.0245 155.627 Q66.2698 153.104 67.1494 151.367 Q68.0522 149.608 68.0522 147.918 Q68.0522 145.164 66.1078 143.428 Q64.1865 141.692 61.0847 141.692 Q58.8856 141.692 56.4319 142.455 Q54.0014 143.219 51.2236 144.77 L51.2236 140.048 Q54.0477 138.914 56.5014 138.335 Q58.955 137.756 60.9921 137.756 Q66.3624 137.756 69.5568 140.442 Q72.7513 143.127 72.7513 147.617 Q72.7513 149.747 71.9411 151.668 Q71.1541 153.567 69.0476 156.159 Q68.4689 156.83 65.367 160.048 Q62.2652 163.242 56.6171 169.006 Z\" fill=\"#000000\" fill-rule=\"nonzero\" fill-opacity=\"1\" /><path clip-path=\"url(#clip540)\" d=\"M82.7512 167.062 L87.6354 167.062 L87.6354 172.941 L82.7512 172.941 L82.7512 167.062 Z\" fill=\"#000000\" fill-rule=\"nonzero\" fill-opacity=\"1\" /><path clip-path=\"url(#clip540)\" d=\"M107.821 141.46 Q104.209 141.46 102.381 145.025 Q100.575 148.567 100.575 155.696 Q100.575 162.803 102.381 166.367 Q104.209 169.909 107.821 169.909 Q111.455 169.909 113.26 166.367 Q115.089 162.803 115.089 155.696 Q115.089 148.567 113.26 145.025 Q111.455 141.46 107.821 141.46 M107.821 137.756 Q113.631 137.756 116.686 142.363 Q119.765 146.946 119.765 155.696 Q119.765 164.423 116.686 169.029 Q113.631 173.613 107.821 173.613 Q102.01 173.613 98.9317 169.029 Q95.8761 164.423 95.8761 155.696 Q95.8761 146.946 98.9317 142.363 Q102.01 137.756 107.821 137.756 Z\" fill=\"#000000\" fill-rule=\"nonzero\" fill-opacity=\"1\" /><polyline clip-path=\"url(#clip542)\" style=\"stroke:#009af9; stroke-linecap:round; stroke-linejoin:round; stroke-width:4; stroke-opacity:1; fill:none\" points=\"217.944,87.9763 228.307,237.222 238.67,356.772 249.033,454.908 259.397,537.044 269.76,606.882 280.123,667.049 290.486,719.46 300.849,765.552 311.212,806.422 321.576,842.924 331.939,875.733 342.302,905.392 352.665,932.339 363.028,956.935 373.391,979.479 383.755,1000.22 394.118,1019.37 404.481,1037.11 414.844,1053.58 425.207,1068.93 435.57,1083.26 445.934,1096.67 456.297,1109.25 466.66,1121.08 477.023,1132.21 487.386,1142.72 497.749,1152.65 508.113,1162.05 518.476,1170.96 528.839,1179.42 539.202,1187.46 549.565,1195.12 559.928,1202.41 570.292,1209.37 580.655,1216.02 591.018,1222.38 601.381,1228.46 611.744,1234.29 622.107,1239.88 632.47,1245.25 642.834,1250.4 653.197,1255.35 663.56,1260.12 673.923,1264.71 684.286,1269.13 694.649,1273.39 705.013,1277.51 715.376,1281.48 725.739,1285.31 736.102,1289.02 746.465,1292.61 756.828,1296.08 767.192,1299.44 777.555,1302.7 787.918,1305.85 798.281,1308.91 808.644,1311.88 819.007,1314.76 829.371,1317.56 839.734,1320.27 850.097,1322.92 860.46,1325.48 870.823,1327.98 881.186,1330.41 891.55,1332.78 901.913,1335.08 912.276,1337.33 922.639,1339.51 933.002,1341.64 943.365,1343.72 953.729,1345.75 964.092,1347.73 974.455,1349.66 984.818,1351.54 995.181,1353.38 1005.54,1355.18 1015.91,1356.93 1026.27,1358.65 1036.63,1360.33 1047,1361.97 1057.36,1363.57 1067.72,1365.14 1078.09,1366.68 1088.45,1368.18 1098.81,1369.66 1109.18,1371.1 1119.54,1372.51 1129.9,1373.89 1140.27,1375.25 1150.63,1376.58 1160.99,1377.88 1171.36,1379.16 1181.72,1380.41 1192.08,1381.64 1202.44,1382.84 1212.81,1384.03 1223.17,1385.19 1233.53,1386.33 1243.9,1387.44 1254.26,1388.54 1264.62,1389.62 1274.99,1390.68 1285.35,1391.72 1295.71,1392.74 1306.08,1393.75 1316.44,1394.73 1326.8,1395.71 1337.17,1396.66 1347.53,1397.6 1357.89,1398.52 1368.26,1399.43 1378.62,1400.32 1388.98,1401.2 1399.34,1402.06 1409.71,1402.91 1420.07,1403.75 1430.43,1404.58 1440.8,1405.39 1451.16,1406.19 1461.52,1406.97 1471.89,1407.75 1482.25,1408.51 1492.61,1409.26 1502.98,1410 1513.34,1410.73 1523.7,1411.45 1534.07,1412.16 1544.43,1412.85 1554.79,1413.54 1565.16,1414.22 1575.52,1414.89 1585.88,1415.55 1596.24,1416.2 1606.61,1416.84 1616.97,1417.47 1627.33,1418.1 1637.7,1418.71 1648.06,1419.32 1658.42,1419.92 1668.79,1420.51 1679.15,1421.09 1689.51,1421.67 1699.88,1422.24 1710.24,1422.8 1720.6,1423.35 1730.97,1423.9 1741.33,1424.44 1751.69,1424.97 1762.06,1425.5 1772.42,1426.02 1782.78,1426.53 1793.14,1427.04 1803.51,1427.54 1813.87,1428.03 1824.23,1428.52 1834.6,1429 1844.96,1429.48 1855.32,1429.95 1865.69,1430.42 1876.05,1430.88 1886.41,1431.33 1896.78,1431.78 1907.14,1432.23 1917.5,1432.67 1927.87,1433.1 1938.23,1433.53 1948.59,1433.95 1958.96,1434.38 1969.32,1434.79 1979.68,1435.2 1990.05,1435.61 2000.41,1436.01 2010.77,1436.41 2021.13,1436.8 2031.5,1437.19 2041.86,1437.57 2052.22,1437.95 2062.59,1438.33 2072.95,1438.7 2083.31,1439.07 2093.68,1439.44 2104.04,1439.8 2114.4,1440.16 2124.77,1440.51 2135.13,1440.86 2145.49,1441.21 2155.86,1441.55 2166.22,1441.89 2176.58,1442.23 2186.95,1442.56 2197.31,1442.89 2207.67,1443.22 2218.03,1443.54 2228.4,1443.86 2238.76,1444.18 2249.12,1444.49 2259.49,1444.8 2269.85,1445.11 2280.21,1445.41 2290.58,1445.72 \"/>\n",
       "<polyline clip-path=\"url(#clip542)\" style=\"stroke:#e26f46; stroke-linecap:round; stroke-linejoin:round; stroke-width:4; stroke-opacity:1; fill:none\" points=\"217.944,1170.94 228.307,1170.94 238.67,1170.94 249.033,1170.94 259.397,1170.94 269.76,1170.94 280.123,1170.94 290.486,1170.94 300.849,1170.94 311.212,1170.94 321.576,1170.94 331.939,1170.94 342.302,1170.94 352.665,1170.94 363.028,1170.94 373.391,1170.94 383.755,1170.94 394.118,1170.94 404.481,1170.94 414.844,1170.94 425.207,1170.94 435.57,1170.94 445.934,1170.94 456.297,1170.94 466.66,1170.94 477.023,1170.94 487.386,1170.94 497.749,1170.94 508.113,1170.94 518.476,1170.94 528.839,1170.94 539.202,1170.94 549.565,1170.94 559.928,1170.94 570.292,1170.94 580.655,1170.94 591.018,1170.94 601.381,1170.94 611.744,1170.94 622.107,1170.94 632.47,1170.94 642.834,1170.94 653.197,1170.94 663.56,1170.94 673.923,1170.94 684.286,1170.94 694.649,1170.94 705.013,1170.94 715.376,1170.94 725.739,1170.94 736.102,1170.94 746.465,1170.94 756.828,1170.94 767.192,1170.94 777.555,1170.94 787.918,1170.94 798.281,1170.94 808.644,1170.94 819.007,1170.94 829.371,1170.94 839.734,1170.94 850.097,1170.94 860.46,1170.94 870.823,1170.94 881.186,1170.94 891.55,1170.94 901.913,1170.94 912.276,1170.94 922.639,1170.94 933.002,1170.94 943.365,1170.94 953.729,1170.94 964.092,1170.94 974.455,1170.94 984.818,1170.94 995.181,1170.94 1005.54,1170.94 1015.91,1170.94 1026.27,1170.94 1036.63,1170.94 1047,1170.94 1057.36,1170.94 1067.72,1170.94 1078.09,1170.94 1088.45,1170.94 1098.81,1170.94 1109.18,1170.94 1119.54,1170.94 1129.9,1170.94 1140.27,1170.94 1150.63,1170.94 1160.99,1170.94 1171.36,1170.94 1181.72,1170.94 1192.08,1170.94 1202.44,1170.94 1212.81,1170.94 1223.17,1170.94 1233.53,1170.94 1243.9,1170.94 1254.26,1170.94 1264.62,1170.94 1274.99,1170.94 1285.35,1170.94 1295.71,1170.94 1306.08,1170.94 1316.44,1170.94 1326.8,1170.94 1337.17,1170.94 1347.53,1170.94 1357.89,1170.94 1368.26,1170.94 1378.62,1170.94 1388.98,1170.94 1399.34,1170.94 1409.71,1170.94 1420.07,1170.94 1430.43,1170.94 1440.8,1170.94 1451.16,1170.94 1461.52,1170.94 1471.89,1170.94 1482.25,1170.94 1492.61,1170.94 1502.98,1170.94 1513.34,1170.94 1523.7,1170.94 1534.07,1170.94 1544.43,1170.94 1554.79,1170.94 1565.16,1170.94 1575.52,1170.94 1585.88,1170.94 1596.24,1170.94 1606.61,1170.94 1616.97,1170.94 1627.33,1170.94 1637.7,1170.94 1648.06,1170.94 1658.42,1170.94 1668.79,1170.94 1679.15,1170.94 1689.51,1170.94 1699.88,1170.94 1710.24,1170.94 1720.6,1170.94 1730.97,1170.94 1741.33,1170.94 1751.69,1170.94 1762.06,1170.94 1772.42,1170.94 1782.78,1170.94 1793.14,1170.94 1803.51,1170.94 1813.87,1170.94 1824.23,1170.94 1834.6,1170.94 1844.96,1170.94 1855.32,1170.94 1865.69,1170.94 1876.05,1170.94 1886.41,1170.94 1896.78,1170.94 1907.14,1170.94 1917.5,1170.94 1927.87,1170.94 1938.23,1170.94 1948.59,1170.94 1958.96,1170.94 1969.32,1170.94 1979.68,1170.94 1990.05,1170.94 2000.41,1170.94 2010.77,1170.94 2021.13,1170.94 2031.5,1170.94 2041.86,1170.94 2052.22,1170.94 2062.59,1170.94 2072.95,1170.94 2083.31,1170.94 2093.68,1170.94 2104.04,1170.94 2114.4,1170.94 2124.77,1170.94 2135.13,1170.94 2145.49,1170.94 2155.86,1170.94 2166.22,1170.94 2176.58,1170.94 2186.95,1170.94 2197.31,1170.94 2207.67,1170.94 2218.03,1170.94 2228.4,1170.94 2238.76,1170.94 2249.12,1170.94 2259.49,1170.94 2269.85,1170.94 2280.21,1170.94 \"/>\n",
       "<path clip-path=\"url(#clip540)\" d=\"M1981.63 250.738 L2279.52 250.738 L2279.52 95.2176 L1981.63 95.2176  Z\" fill=\"#ffffff\" fill-rule=\"evenodd\" fill-opacity=\"1\"/>\n",
       "<polyline clip-path=\"url(#clip540)\" style=\"stroke:#000000; stroke-linecap:round; stroke-linejoin:round; stroke-width:4; stroke-opacity:1; fill:none\" points=\"1981.63,250.738 2279.52,250.738 2279.52,95.2176 1981.63,95.2176 1981.63,250.738 \"/>\n",
       "<polyline clip-path=\"url(#clip540)\" style=\"stroke:#009af9; stroke-linecap:round; stroke-linejoin:round; stroke-width:4; stroke-opacity:1; fill:none\" points=\"2006.04,147.058 2152.51,147.058 \"/>\n",
       "<path clip-path=\"url(#clip540)\" d=\"M2201.57 138.412 L2192.2 151.027 L2202.06 164.338 L2197.03 164.338 L2189.49 154.152 L2181.94 164.338 L2176.92 164.338 L2186.99 150.773 L2177.77 138.412 L2182.8 138.412 L2189.67 147.648 L2196.55 138.412 L2201.57 138.412 Z\" fill=\"#000000\" fill-rule=\"nonzero\" fill-opacity=\"1\" /><path clip-path=\"url(#clip540)\" d=\"M2218.31 128.366 Q2215.2 133.69 2213.7 138.898 Q2212.2 144.106 2212.2 149.453 Q2212.2 154.801 2213.7 160.055 Q2215.23 165.287 2218.31 170.588 L2214.6 170.588 Q2211.13 165.148 2209.39 159.893 Q2207.68 154.639 2207.68 149.453 Q2207.68 144.291 2209.39 139.06 Q2211.11 133.828 2214.6 128.366 L2218.31 128.366 Z\" fill=\"#000000\" fill-rule=\"nonzero\" fill-opacity=\"1\" /><path clip-path=\"url(#clip540)\" d=\"M2230.78 131.051 L2230.78 138.412 L2239.56 138.412 L2239.56 141.722 L2230.78 141.722 L2230.78 155.796 Q2230.78 158.967 2231.64 159.87 Q2232.52 160.773 2235.18 160.773 L2239.56 160.773 L2239.56 164.338 L2235.18 164.338 Q2230.25 164.338 2228.38 162.509 Q2226.5 160.657 2226.5 155.796 L2226.5 141.722 L2223.38 141.722 L2223.38 138.412 L2226.5 138.412 L2226.5 131.051 L2230.78 131.051 Z\" fill=\"#000000\" fill-rule=\"nonzero\" fill-opacity=\"1\" /><path clip-path=\"url(#clip540)\" d=\"M2244.49 128.366 L2248.19 128.366 Q2251.66 133.828 2253.38 139.06 Q2255.11 144.291 2255.11 149.453 Q2255.11 154.639 2253.38 159.893 Q2251.66 165.148 2248.19 170.588 L2244.49 170.588 Q2247.57 165.287 2249.07 160.055 Q2250.6 154.801 2250.6 149.453 Q2250.6 144.106 2249.07 138.898 Q2247.57 133.69 2244.49 128.366 Z\" fill=\"#000000\" fill-rule=\"nonzero\" fill-opacity=\"1\" /><polyline clip-path=\"url(#clip540)\" style=\"stroke:#e26f46; stroke-linecap:round; stroke-linejoin:round; stroke-width:4; stroke-opacity:1; fill:none\" points=\"2006.04,198.898 2152.51,198.898 \"/>\n",
       "<path clip-path=\"url(#clip540)\" d=\"M2176.92 205.946 L2176.92 190.252 L2181.18 190.252 L2181.18 205.784 Q2181.18 209.465 2182.61 211.316 Q2184.05 213.145 2186.92 213.145 Q2190.37 213.145 2192.36 210.946 Q2194.37 208.747 2194.37 204.951 L2194.37 190.252 L2198.63 190.252 L2198.63 216.178 L2194.37 216.178 L2194.37 212.196 Q2192.82 214.557 2190.76 215.715 Q2188.72 216.849 2186.02 216.849 Q2181.55 216.849 2179.23 214.071 Q2176.92 211.293 2176.92 205.946 M2187.64 189.627 L2187.64 189.627 Z\" fill=\"#000000\" fill-rule=\"nonzero\" fill-opacity=\"1\" /><path clip-path=\"url(#clip540)\" d=\"M2217.64 180.206 Q2214.53 185.53 2213.03 190.738 Q2211.52 195.946 2211.52 201.293 Q2211.52 206.641 2213.03 211.895 Q2214.56 217.127 2217.64 222.428 L2213.93 222.428 Q2210.46 216.988 2208.72 211.733 Q2207.01 206.479 2207.01 201.293 Q2207.01 196.131 2208.72 190.9 Q2210.44 185.668 2213.93 180.206 L2217.64 180.206 Z\" fill=\"#000000\" fill-rule=\"nonzero\" fill-opacity=\"1\" /><path clip-path=\"url(#clip540)\" d=\"M2230.11 182.891 L2230.11 190.252 L2238.89 190.252 L2238.89 193.562 L2230.11 193.562 L2230.11 207.636 Q2230.11 210.807 2230.97 211.71 Q2231.85 212.613 2234.51 212.613 L2238.89 212.613 L2238.89 216.178 L2234.51 216.178 Q2229.58 216.178 2227.7 214.349 Q2225.83 212.497 2225.83 207.636 L2225.83 193.562 L2222.7 193.562 L2222.7 190.252 L2225.83 190.252 L2225.83 182.891 L2230.11 182.891 Z\" fill=\"#000000\" fill-rule=\"nonzero\" fill-opacity=\"1\" /><path clip-path=\"url(#clip540)\" d=\"M2243.82 180.206 L2247.52 180.206 Q2250.99 185.668 2252.7 190.9 Q2254.44 196.131 2254.44 201.293 Q2254.44 206.479 2252.7 211.733 Q2250.99 216.988 2247.52 222.428 L2243.82 222.428 Q2246.89 217.127 2248.4 211.895 Q2249.93 206.641 2249.93 201.293 Q2249.93 195.946 2248.4 190.738 Q2246.89 185.53 2243.82 180.206 Z\" fill=\"#000000\" fill-rule=\"nonzero\" fill-opacity=\"1\" /></svg>\n"
      ],
      "text/html": [
       "<?xml version=\"1.0\" encoding=\"utf-8\"?>\n",
       "<svg xmlns=\"http://www.w3.org/2000/svg\" xmlns:xlink=\"http://www.w3.org/1999/xlink\" width=\"600\" height=\"400\" viewBox=\"0 0 2400 1600\">\n",
       "<defs>\n",
       "  <clipPath id=\"clip590\">\n",
       "    <rect x=\"0\" y=\"0\" width=\"2400\" height=\"1600\"/>\n",
       "  </clipPath>\n",
       "</defs>\n",
       "<path clip-path=\"url(#clip590)\" d=\"M0 1600 L2400 1600 L2400 8.88178e-14 L0 8.88178e-14  Z\" fill=\"#ffffff\" fill-rule=\"evenodd\" fill-opacity=\"1\"/>\n",
       "<defs>\n",
       "  <clipPath id=\"clip591\">\n",
       "    <rect x=\"480\" y=\"0\" width=\"1681\" height=\"1600\"/>\n",
       "  </clipPath>\n",
       "</defs>\n",
       "<path clip-path=\"url(#clip590)\" d=\"M155.765 1486.45 L2352.76 1486.45 L2352.76 47.2441 L155.765 47.2441  Z\" fill=\"#ffffff\" fill-rule=\"evenodd\" fill-opacity=\"1\"/>\n",
       "<defs>\n",
       "  <clipPath id=\"clip592\">\n",
       "    <rect x=\"155\" y=\"47\" width=\"2198\" height=\"1440\"/>\n",
       "  </clipPath>\n",
       "</defs>\n",
       "<polyline clip-path=\"url(#clip592)\" style=\"stroke:#000000; stroke-linecap:round; stroke-linejoin:round; stroke-width:2; stroke-opacity:0.1; fill:none\" points=\"217.944,1486.45 217.944,47.2441 \"/>\n",
       "<polyline clip-path=\"url(#clip592)\" style=\"stroke:#000000; stroke-linecap:round; stroke-linejoin:round; stroke-width:2; stroke-opacity:0.1; fill:none\" points=\"736.102,1486.45 736.102,47.2441 \"/>\n",
       "<polyline clip-path=\"url(#clip592)\" style=\"stroke:#000000; stroke-linecap:round; stroke-linejoin:round; stroke-width:2; stroke-opacity:0.1; fill:none\" points=\"1254.26,1486.45 1254.26,47.2441 \"/>\n",
       "<polyline clip-path=\"url(#clip592)\" style=\"stroke:#000000; stroke-linecap:round; stroke-linejoin:round; stroke-width:2; stroke-opacity:0.1; fill:none\" points=\"1772.42,1486.45 1772.42,47.2441 \"/>\n",
       "<polyline clip-path=\"url(#clip592)\" style=\"stroke:#000000; stroke-linecap:round; stroke-linejoin:round; stroke-width:2; stroke-opacity:0.1; fill:none\" points=\"2290.58,1486.45 2290.58,47.2441 \"/>\n",
       "<polyline clip-path=\"url(#clip590)\" style=\"stroke:#000000; stroke-linecap:round; stroke-linejoin:round; stroke-width:4; stroke-opacity:1; fill:none\" points=\"155.765,1486.45 2352.76,1486.45 \"/>\n",
       "<polyline clip-path=\"url(#clip590)\" style=\"stroke:#000000; stroke-linecap:round; stroke-linejoin:round; stroke-width:4; stroke-opacity:1; fill:none\" points=\"217.944,1486.45 217.944,1467.55 \"/>\n",
       "<polyline clip-path=\"url(#clip590)\" style=\"stroke:#000000; stroke-linecap:round; stroke-linejoin:round; stroke-width:4; stroke-opacity:1; fill:none\" points=\"736.102,1486.45 736.102,1467.55 \"/>\n",
       "<polyline clip-path=\"url(#clip590)\" style=\"stroke:#000000; stroke-linecap:round; stroke-linejoin:round; stroke-width:4; stroke-opacity:1; fill:none\" points=\"1254.26,1486.45 1254.26,1467.55 \"/>\n",
       "<polyline clip-path=\"url(#clip590)\" style=\"stroke:#000000; stroke-linecap:round; stroke-linejoin:round; stroke-width:4; stroke-opacity:1; fill:none\" points=\"1772.42,1486.45 1772.42,1467.55 \"/>\n",
       "<polyline clip-path=\"url(#clip590)\" style=\"stroke:#000000; stroke-linecap:round; stroke-linejoin:round; stroke-width:4; stroke-opacity:1; fill:none\" points=\"2290.58,1486.45 2290.58,1467.55 \"/>\n",
       "<path clip-path=\"url(#clip590)\" d=\"M217.944 1517.37 Q214.333 1517.37 212.504 1520.93 Q210.699 1524.47 210.699 1531.6 Q210.699 1538.71 212.504 1542.27 Q214.333 1545.82 217.944 1545.82 Q221.578 1545.82 223.384 1542.27 Q225.212 1538.71 225.212 1531.6 Q225.212 1524.47 223.384 1520.93 Q221.578 1517.37 217.944 1517.37 M217.944 1513.66 Q223.754 1513.66 226.81 1518.27 Q229.888 1522.85 229.888 1531.6 Q229.888 1540.33 226.81 1544.94 Q223.754 1549.52 217.944 1549.52 Q212.134 1549.52 209.055 1544.94 Q206 1540.33 206 1531.6 Q206 1522.85 209.055 1518.27 Q212.134 1513.66 217.944 1513.66 Z\" fill=\"#000000\" fill-rule=\"nonzero\" fill-opacity=\"1\" /><path clip-path=\"url(#clip590)\" d=\"M726.38 1514.29 L744.736 1514.29 L744.736 1518.22 L730.662 1518.22 L730.662 1526.7 Q731.681 1526.35 732.699 1526.19 Q733.718 1526 734.736 1526 Q740.523 1526 743.903 1529.17 Q747.283 1532.34 747.283 1537.76 Q747.283 1543.34 743.81 1546.44 Q740.338 1549.52 734.019 1549.52 Q731.843 1549.52 729.574 1549.15 Q727.329 1548.78 724.922 1548.04 L724.922 1543.34 Q727.005 1544.47 729.227 1545.03 Q731.449 1545.58 733.926 1545.58 Q737.931 1545.58 740.269 1543.48 Q742.607 1541.37 742.607 1537.76 Q742.607 1534.15 740.269 1532.04 Q737.931 1529.94 733.926 1529.94 Q732.051 1529.94 730.176 1530.35 Q728.324 1530.77 726.38 1531.65 L726.38 1514.29 Z\" fill=\"#000000\" fill-rule=\"nonzero\" fill-opacity=\"1\" /><path clip-path=\"url(#clip590)\" d=\"M1228.95 1544.91 L1236.59 1544.91 L1236.59 1518.55 L1228.28 1520.21 L1228.28 1515.95 L1236.54 1514.29 L1241.22 1514.29 L1241.22 1544.91 L1248.86 1544.91 L1248.86 1548.85 L1228.95 1548.85 L1228.95 1544.91 Z\" fill=\"#000000\" fill-rule=\"nonzero\" fill-opacity=\"1\" /><path clip-path=\"url(#clip590)\" d=\"M1268.3 1517.37 Q1264.69 1517.37 1262.86 1520.93 Q1261.05 1524.47 1261.05 1531.6 Q1261.05 1538.71 1262.86 1542.27 Q1264.69 1545.82 1268.3 1545.82 Q1271.93 1545.82 1273.74 1542.27 Q1275.57 1538.71 1275.57 1531.6 Q1275.57 1524.47 1273.74 1520.93 Q1271.93 1517.37 1268.3 1517.37 M1268.3 1513.66 Q1274.11 1513.66 1277.17 1518.27 Q1280.24 1522.85 1280.24 1531.6 Q1280.24 1540.33 1277.17 1544.94 Q1274.11 1549.52 1268.3 1549.52 Q1262.49 1549.52 1259.41 1544.94 Q1256.36 1540.33 1256.36 1531.6 Q1256.36 1522.85 1259.41 1518.27 Q1262.49 1513.66 1268.3 1513.66 Z\" fill=\"#000000\" fill-rule=\"nonzero\" fill-opacity=\"1\" /><path clip-path=\"url(#clip590)\" d=\"M1747.6 1544.91 L1755.24 1544.91 L1755.24 1518.55 L1746.93 1520.21 L1746.93 1515.95 L1755.2 1514.29 L1759.87 1514.29 L1759.87 1544.91 L1767.51 1544.91 L1767.51 1548.85 L1747.6 1548.85 L1747.6 1544.91 Z\" fill=\"#000000\" fill-rule=\"nonzero\" fill-opacity=\"1\" /><path clip-path=\"url(#clip590)\" d=\"M1777 1514.29 L1795.36 1514.29 L1795.36 1518.22 L1781.28 1518.22 L1781.28 1526.7 Q1782.3 1526.35 1783.32 1526.19 Q1784.34 1526 1785.36 1526 Q1791.15 1526 1794.53 1529.17 Q1797.9 1532.34 1797.9 1537.76 Q1797.9 1543.34 1794.43 1546.44 Q1790.96 1549.52 1784.64 1549.52 Q1782.46 1549.52 1780.2 1549.15 Q1777.95 1548.78 1775.54 1548.04 L1775.54 1543.34 Q1777.63 1544.47 1779.85 1545.03 Q1782.07 1545.58 1784.55 1545.58 Q1788.55 1545.58 1790.89 1543.48 Q1793.23 1541.37 1793.23 1537.76 Q1793.23 1534.15 1790.89 1532.04 Q1788.55 1529.94 1784.55 1529.94 Q1782.67 1529.94 1780.8 1530.35 Q1778.95 1530.77 1777 1531.65 L1777 1514.29 Z\" fill=\"#000000\" fill-rule=\"nonzero\" fill-opacity=\"1\" /><path clip-path=\"url(#clip590)\" d=\"M2269.35 1544.91 L2285.67 1544.91 L2285.67 1548.85 L2263.73 1548.85 L2263.73 1544.91 Q2266.39 1542.16 2270.97 1537.53 Q2275.58 1532.88 2276.76 1531.53 Q2279 1529.01 2279.88 1527.27 Q2280.79 1525.51 2280.79 1523.82 Q2280.79 1521.07 2278.84 1519.33 Q2276.92 1517.6 2273.82 1517.6 Q2271.62 1517.6 2269.16 1518.36 Q2266.73 1519.13 2263.96 1520.68 L2263.96 1515.95 Q2266.78 1514.82 2269.23 1514.24 Q2271.69 1513.66 2273.73 1513.66 Q2279.1 1513.66 2282.29 1516.35 Q2285.48 1519.03 2285.48 1523.52 Q2285.48 1525.65 2284.67 1527.57 Q2283.89 1529.47 2281.78 1532.07 Q2281.2 1532.74 2278.1 1535.95 Q2275 1539.15 2269.35 1544.91 Z\" fill=\"#000000\" fill-rule=\"nonzero\" fill-opacity=\"1\" /><path clip-path=\"url(#clip590)\" d=\"M2305.48 1517.37 Q2301.87 1517.37 2300.04 1520.93 Q2298.24 1524.47 2298.24 1531.6 Q2298.24 1538.71 2300.04 1542.27 Q2301.87 1545.82 2305.48 1545.82 Q2309.12 1545.82 2310.92 1542.27 Q2312.75 1538.71 2312.75 1531.6 Q2312.75 1524.47 2310.92 1520.93 Q2309.12 1517.37 2305.48 1517.37 M2305.48 1513.66 Q2311.29 1513.66 2314.35 1518.27 Q2317.43 1522.85 2317.43 1531.6 Q2317.43 1540.33 2314.35 1544.94 Q2311.29 1549.52 2305.48 1549.52 Q2299.67 1549.52 2296.6 1544.94 Q2293.54 1540.33 2293.54 1531.6 Q2293.54 1522.85 2296.6 1518.27 Q2299.67 1513.66 2305.48 1513.66 Z\" fill=\"#000000\" fill-rule=\"nonzero\" fill-opacity=\"1\" /><polyline clip-path=\"url(#clip592)\" style=\"stroke:#000000; stroke-linecap:round; stroke-linejoin:round; stroke-width:2; stroke-opacity:0.1; fill:none\" points=\"155.765,1170.94 2352.76,1170.94 \"/>\n",
       "<polyline clip-path=\"url(#clip592)\" style=\"stroke:#000000; stroke-linecap:round; stroke-linejoin:round; stroke-width:2; stroke-opacity:0.1; fill:none\" points=\"155.765,832.513 2352.76,832.513 \"/>\n",
       "<polyline clip-path=\"url(#clip592)\" style=\"stroke:#000000; stroke-linecap:round; stroke-linejoin:round; stroke-width:2; stroke-opacity:0.1; fill:none\" points=\"155.765,494.087 2352.76,494.087 \"/>\n",
       "<polyline clip-path=\"url(#clip592)\" style=\"stroke:#000000; stroke-linecap:round; stroke-linejoin:round; stroke-width:2; stroke-opacity:0.1; fill:none\" points=\"155.765,155.661 2352.76,155.661 \"/>\n",
       "<polyline clip-path=\"url(#clip590)\" style=\"stroke:#000000; stroke-linecap:round; stroke-linejoin:round; stroke-width:4; stroke-opacity:1; fill:none\" points=\"155.765,1486.45 155.765,47.2441 \"/>\n",
       "<polyline clip-path=\"url(#clip590)\" style=\"stroke:#000000; stroke-linecap:round; stroke-linejoin:round; stroke-width:4; stroke-opacity:1; fill:none\" points=\"155.765,1170.94 174.663,1170.94 \"/>\n",
       "<polyline clip-path=\"url(#clip590)\" style=\"stroke:#000000; stroke-linecap:round; stroke-linejoin:round; stroke-width:4; stroke-opacity:1; fill:none\" points=\"155.765,832.513 174.663,832.513 \"/>\n",
       "<polyline clip-path=\"url(#clip590)\" style=\"stroke:#000000; stroke-linecap:round; stroke-linejoin:round; stroke-width:4; stroke-opacity:1; fill:none\" points=\"155.765,494.087 174.663,494.087 \"/>\n",
       "<polyline clip-path=\"url(#clip590)\" style=\"stroke:#000000; stroke-linecap:round; stroke-linejoin:round; stroke-width:4; stroke-opacity:1; fill:none\" points=\"155.765,155.661 174.663,155.661 \"/>\n",
       "<path clip-path=\"url(#clip590)\" d=\"M63.5847 1156.74 Q59.9736 1156.74 58.1449 1160.3 Q56.3393 1163.84 56.3393 1170.97 Q56.3393 1178.08 58.1449 1181.64 Q59.9736 1185.19 63.5847 1185.19 Q67.2189 1185.19 69.0244 1181.64 Q70.8531 1178.08 70.8531 1170.97 Q70.8531 1163.84 69.0244 1160.3 Q67.2189 1156.74 63.5847 1156.74 M63.5847 1153.03 Q69.3948 1153.03 72.4503 1157.64 Q75.529 1162.22 75.529 1170.97 Q75.529 1179.7 72.4503 1184.31 Q69.3948 1188.89 63.5847 1188.89 Q57.7745 1188.89 54.6958 1184.31 Q51.6403 1179.7 51.6403 1170.97 Q51.6403 1162.22 54.6958 1157.64 Q57.7745 1153.03 63.5847 1153.03 Z\" fill=\"#000000\" fill-rule=\"nonzero\" fill-opacity=\"1\" /><path clip-path=\"url(#clip590)\" d=\"M83.7466 1182.34 L88.6308 1182.34 L88.6308 1188.22 L83.7466 1188.22 L83.7466 1182.34 Z\" fill=\"#000000\" fill-rule=\"nonzero\" fill-opacity=\"1\" /><path clip-path=\"url(#clip590)\" d=\"M98.8622 1153.66 L117.219 1153.66 L117.219 1157.59 L103.145 1157.59 L103.145 1166.07 Q104.163 1165.72 105.182 1165.56 Q106.2 1165.37 107.219 1165.37 Q113.006 1165.37 116.385 1168.54 Q119.765 1171.71 119.765 1177.13 Q119.765 1182.71 116.293 1185.81 Q112.82 1188.89 106.501 1188.89 Q104.325 1188.89 102.057 1188.52 Q99.8113 1188.15 97.4039 1187.41 L97.4039 1182.71 Q99.4872 1183.84 101.709 1184.4 Q103.932 1184.95 106.408 1184.95 Q110.413 1184.95 112.751 1182.85 Q115.089 1180.74 115.089 1177.13 Q115.089 1173.52 112.751 1171.41 Q110.413 1169.31 106.408 1169.31 Q104.534 1169.31 102.659 1169.72 Q100.807 1170.14 98.8622 1171.02 L98.8622 1153.66 Z\" fill=\"#000000\" fill-rule=\"nonzero\" fill-opacity=\"1\" /><path clip-path=\"url(#clip590)\" d=\"M53.3995 845.858 L61.0384 845.858 L61.0384 819.492 L52.7282 821.159 L52.7282 816.899 L60.9921 815.233 L65.668 815.233 L65.668 845.858 L73.3068 845.858 L73.3068 849.793 L53.3995 849.793 L53.3995 845.858 Z\" fill=\"#000000\" fill-rule=\"nonzero\" fill-opacity=\"1\" /><path clip-path=\"url(#clip590)\" d=\"M82.7512 843.913 L87.6354 843.913 L87.6354 849.793 L82.7512 849.793 L82.7512 843.913 Z\" fill=\"#000000\" fill-rule=\"nonzero\" fill-opacity=\"1\" /><path clip-path=\"url(#clip590)\" d=\"M107.821 818.311 Q104.209 818.311 102.381 821.876 Q100.575 825.418 100.575 832.548 Q100.575 839.654 102.381 843.219 Q104.209 846.76 107.821 846.76 Q111.455 846.76 113.26 843.219 Q115.089 839.654 115.089 832.548 Q115.089 825.418 113.26 821.876 Q111.455 818.311 107.821 818.311 M107.821 814.608 Q113.631 814.608 116.686 819.214 Q119.765 823.798 119.765 832.548 Q119.765 841.274 116.686 845.881 Q113.631 850.464 107.821 850.464 Q102.01 850.464 98.9317 845.881 Q95.8761 841.274 95.8761 832.548 Q95.8761 823.798 98.9317 819.214 Q102.01 814.608 107.821 814.608 Z\" fill=\"#000000\" fill-rule=\"nonzero\" fill-opacity=\"1\" /><path clip-path=\"url(#clip590)\" d=\"M54.3949 507.432 L62.0337 507.432 L62.0337 481.066 L53.7236 482.733 L53.7236 478.474 L61.9874 476.807 L66.6633 476.807 L66.6633 507.432 L74.3022 507.432 L74.3022 511.367 L54.3949 511.367 L54.3949 507.432 Z\" fill=\"#000000\" fill-rule=\"nonzero\" fill-opacity=\"1\" /><path clip-path=\"url(#clip590)\" d=\"M83.7466 505.488 L88.6308 505.488 L88.6308 511.367 L83.7466 511.367 L83.7466 505.488 Z\" fill=\"#000000\" fill-rule=\"nonzero\" fill-opacity=\"1\" /><path clip-path=\"url(#clip590)\" d=\"M98.8622 476.807 L117.219 476.807 L117.219 480.742 L103.145 480.742 L103.145 489.214 Q104.163 488.867 105.182 488.705 Q106.2 488.52 107.219 488.52 Q113.006 488.52 116.385 491.691 Q119.765 494.863 119.765 500.279 Q119.765 505.858 116.293 508.96 Q112.82 512.038 106.501 512.038 Q104.325 512.038 102.057 511.668 Q99.8113 511.298 97.4039 510.557 L97.4039 505.858 Q99.4872 506.992 101.709 507.548 Q103.932 508.103 106.408 508.103 Q110.413 508.103 112.751 505.997 Q115.089 503.89 115.089 500.279 Q115.089 496.668 112.751 494.562 Q110.413 492.455 106.408 492.455 Q104.534 492.455 102.659 492.872 Q100.807 493.289 98.8622 494.168 L98.8622 476.807 Z\" fill=\"#000000\" fill-rule=\"nonzero\" fill-opacity=\"1\" /><path clip-path=\"url(#clip590)\" d=\"M56.6171 169.006 L72.9365 169.006 L72.9365 172.941 L50.9921 172.941 L50.9921 169.006 Q53.6541 166.252 58.2375 161.622 Q62.8439 156.969 64.0245 155.627 Q66.2698 153.104 67.1494 151.367 Q68.0522 149.608 68.0522 147.918 Q68.0522 145.164 66.1078 143.428 Q64.1865 141.692 61.0847 141.692 Q58.8856 141.692 56.4319 142.455 Q54.0014 143.219 51.2236 144.77 L51.2236 140.048 Q54.0477 138.914 56.5014 138.335 Q58.955 137.756 60.9921 137.756 Q66.3624 137.756 69.5568 140.442 Q72.7513 143.127 72.7513 147.617 Q72.7513 149.747 71.9411 151.668 Q71.1541 153.567 69.0476 156.159 Q68.4689 156.83 65.367 160.048 Q62.2652 163.242 56.6171 169.006 Z\" fill=\"#000000\" fill-rule=\"nonzero\" fill-opacity=\"1\" /><path clip-path=\"url(#clip590)\" d=\"M82.7512 167.062 L87.6354 167.062 L87.6354 172.941 L82.7512 172.941 L82.7512 167.062 Z\" fill=\"#000000\" fill-rule=\"nonzero\" fill-opacity=\"1\" /><path clip-path=\"url(#clip590)\" d=\"M107.821 141.46 Q104.209 141.46 102.381 145.025 Q100.575 148.567 100.575 155.696 Q100.575 162.803 102.381 166.367 Q104.209 169.909 107.821 169.909 Q111.455 169.909 113.26 166.367 Q115.089 162.803 115.089 155.696 Q115.089 148.567 113.26 145.025 Q111.455 141.46 107.821 141.46 M107.821 137.756 Q113.631 137.756 116.686 142.363 Q119.765 146.946 119.765 155.696 Q119.765 164.423 116.686 169.029 Q113.631 173.613 107.821 173.613 Q102.01 173.613 98.9317 169.029 Q95.8761 164.423 95.8761 155.696 Q95.8761 146.946 98.9317 142.363 Q102.01 137.756 107.821 137.756 Z\" fill=\"#000000\" fill-rule=\"nonzero\" fill-opacity=\"1\" /><polyline clip-path=\"url(#clip592)\" style=\"stroke:#009af9; stroke-linecap:round; stroke-linejoin:round; stroke-width:4; stroke-opacity:1; fill:none\" points=\"217.944,87.9763 228.307,237.222 238.67,356.772 249.033,454.908 259.397,537.044 269.76,606.882 280.123,667.049 290.486,719.46 300.849,765.552 311.212,806.422 321.576,842.924 331.939,875.733 342.302,905.392 352.665,932.339 363.028,956.935 373.391,979.479 383.755,1000.22 394.118,1019.37 404.481,1037.11 414.844,1053.58 425.207,1068.93 435.57,1083.26 445.934,1096.67 456.297,1109.25 466.66,1121.08 477.023,1132.21 487.386,1142.72 497.749,1152.65 508.113,1162.05 518.476,1170.96 528.839,1179.42 539.202,1187.46 549.565,1195.12 559.928,1202.41 570.292,1209.37 580.655,1216.02 591.018,1222.38 601.381,1228.46 611.744,1234.29 622.107,1239.88 632.47,1245.25 642.834,1250.4 653.197,1255.35 663.56,1260.12 673.923,1264.71 684.286,1269.13 694.649,1273.39 705.013,1277.51 715.376,1281.48 725.739,1285.31 736.102,1289.02 746.465,1292.61 756.828,1296.08 767.192,1299.44 777.555,1302.7 787.918,1305.85 798.281,1308.91 808.644,1311.88 819.007,1314.76 829.371,1317.56 839.734,1320.27 850.097,1322.92 860.46,1325.48 870.823,1327.98 881.186,1330.41 891.55,1332.78 901.913,1335.08 912.276,1337.33 922.639,1339.51 933.002,1341.64 943.365,1343.72 953.729,1345.75 964.092,1347.73 974.455,1349.66 984.818,1351.54 995.181,1353.38 1005.54,1355.18 1015.91,1356.93 1026.27,1358.65 1036.63,1360.33 1047,1361.97 1057.36,1363.57 1067.72,1365.14 1078.09,1366.68 1088.45,1368.18 1098.81,1369.66 1109.18,1371.1 1119.54,1372.51 1129.9,1373.89 1140.27,1375.25 1150.63,1376.58 1160.99,1377.88 1171.36,1379.16 1181.72,1380.41 1192.08,1381.64 1202.44,1382.84 1212.81,1384.03 1223.17,1385.19 1233.53,1386.33 1243.9,1387.44 1254.26,1388.54 1264.62,1389.62 1274.99,1390.68 1285.35,1391.72 1295.71,1392.74 1306.08,1393.75 1316.44,1394.73 1326.8,1395.71 1337.17,1396.66 1347.53,1397.6 1357.89,1398.52 1368.26,1399.43 1378.62,1400.32 1388.98,1401.2 1399.34,1402.06 1409.71,1402.91 1420.07,1403.75 1430.43,1404.58 1440.8,1405.39 1451.16,1406.19 1461.52,1406.97 1471.89,1407.75 1482.25,1408.51 1492.61,1409.26 1502.98,1410 1513.34,1410.73 1523.7,1411.45 1534.07,1412.16 1544.43,1412.85 1554.79,1413.54 1565.16,1414.22 1575.52,1414.89 1585.88,1415.55 1596.24,1416.2 1606.61,1416.84 1616.97,1417.47 1627.33,1418.1 1637.7,1418.71 1648.06,1419.32 1658.42,1419.92 1668.79,1420.51 1679.15,1421.09 1689.51,1421.67 1699.88,1422.24 1710.24,1422.8 1720.6,1423.35 1730.97,1423.9 1741.33,1424.44 1751.69,1424.97 1762.06,1425.5 1772.42,1426.02 1782.78,1426.53 1793.14,1427.04 1803.51,1427.54 1813.87,1428.03 1824.23,1428.52 1834.6,1429 1844.96,1429.48 1855.32,1429.95 1865.69,1430.42 1876.05,1430.88 1886.41,1431.33 1896.78,1431.78 1907.14,1432.23 1917.5,1432.67 1927.87,1433.1 1938.23,1433.53 1948.59,1433.95 1958.96,1434.38 1969.32,1434.79 1979.68,1435.2 1990.05,1435.61 2000.41,1436.01 2010.77,1436.41 2021.13,1436.8 2031.5,1437.19 2041.86,1437.57 2052.22,1437.95 2062.59,1438.33 2072.95,1438.7 2083.31,1439.07 2093.68,1439.44 2104.04,1439.8 2114.4,1440.16 2124.77,1440.51 2135.13,1440.86 2145.49,1441.21 2155.86,1441.55 2166.22,1441.89 2176.58,1442.23 2186.95,1442.56 2197.31,1442.89 2207.67,1443.22 2218.03,1443.54 2228.4,1443.86 2238.76,1444.18 2249.12,1444.49 2259.49,1444.8 2269.85,1445.11 2280.21,1445.41 2290.58,1445.72 \"/>\n",
       "<polyline clip-path=\"url(#clip592)\" style=\"stroke:#e26f46; stroke-linecap:round; stroke-linejoin:round; stroke-width:4; stroke-opacity:1; fill:none\" points=\"217.944,1170.94 228.307,1170.94 238.67,1170.94 249.033,1170.94 259.397,1170.94 269.76,1170.94 280.123,1170.94 290.486,1170.94 300.849,1170.94 311.212,1170.94 321.576,1170.94 331.939,1170.94 342.302,1170.94 352.665,1170.94 363.028,1170.94 373.391,1170.94 383.755,1170.94 394.118,1170.94 404.481,1170.94 414.844,1170.94 425.207,1170.94 435.57,1170.94 445.934,1170.94 456.297,1170.94 466.66,1170.94 477.023,1170.94 487.386,1170.94 497.749,1170.94 508.113,1170.94 518.476,1170.94 528.839,1170.94 539.202,1170.94 549.565,1170.94 559.928,1170.94 570.292,1170.94 580.655,1170.94 591.018,1170.94 601.381,1170.94 611.744,1170.94 622.107,1170.94 632.47,1170.94 642.834,1170.94 653.197,1170.94 663.56,1170.94 673.923,1170.94 684.286,1170.94 694.649,1170.94 705.013,1170.94 715.376,1170.94 725.739,1170.94 736.102,1170.94 746.465,1170.94 756.828,1170.94 767.192,1170.94 777.555,1170.94 787.918,1170.94 798.281,1170.94 808.644,1170.94 819.007,1170.94 829.371,1170.94 839.734,1170.94 850.097,1170.94 860.46,1170.94 870.823,1170.94 881.186,1170.94 891.55,1170.94 901.913,1170.94 912.276,1170.94 922.639,1170.94 933.002,1170.94 943.365,1170.94 953.729,1170.94 964.092,1170.94 974.455,1170.94 984.818,1170.94 995.181,1170.94 1005.54,1170.94 1015.91,1170.94 1026.27,1170.94 1036.63,1170.94 1047,1170.94 1057.36,1170.94 1067.72,1170.94 1078.09,1170.94 1088.45,1170.94 1098.81,1170.94 1109.18,1170.94 1119.54,1170.94 1129.9,1170.94 1140.27,1170.94 1150.63,1170.94 1160.99,1170.94 1171.36,1170.94 1181.72,1170.94 1192.08,1170.94 1202.44,1170.94 1212.81,1170.94 1223.17,1170.94 1233.53,1170.94 1243.9,1170.94 1254.26,1170.94 1264.62,1170.94 1274.99,1170.94 1285.35,1170.94 1295.71,1170.94 1306.08,1170.94 1316.44,1170.94 1326.8,1170.94 1337.17,1170.94 1347.53,1170.94 1357.89,1170.94 1368.26,1170.94 1378.62,1170.94 1388.98,1170.94 1399.34,1170.94 1409.71,1170.94 1420.07,1170.94 1430.43,1170.94 1440.8,1170.94 1451.16,1170.94 1461.52,1170.94 1471.89,1170.94 1482.25,1170.94 1492.61,1170.94 1502.98,1170.94 1513.34,1170.94 1523.7,1170.94 1534.07,1170.94 1544.43,1170.94 1554.79,1170.94 1565.16,1170.94 1575.52,1170.94 1585.88,1170.94 1596.24,1170.94 1606.61,1170.94 1616.97,1170.94 1627.33,1170.94 1637.7,1170.94 1648.06,1170.94 1658.42,1170.94 1668.79,1170.94 1679.15,1170.94 1689.51,1170.94 1699.88,1170.94 1710.24,1170.94 1720.6,1170.94 1730.97,1170.94 1741.33,1170.94 1751.69,1170.94 1762.06,1170.94 1772.42,1170.94 1782.78,1170.94 1793.14,1170.94 1803.51,1170.94 1813.87,1170.94 1824.23,1170.94 1834.6,1170.94 1844.96,1170.94 1855.32,1170.94 1865.69,1170.94 1876.05,1170.94 1886.41,1170.94 1896.78,1170.94 1907.14,1170.94 1917.5,1170.94 1927.87,1170.94 1938.23,1170.94 1948.59,1170.94 1958.96,1170.94 1969.32,1170.94 1979.68,1170.94 1990.05,1170.94 2000.41,1170.94 2010.77,1170.94 2021.13,1170.94 2031.5,1170.94 2041.86,1170.94 2052.22,1170.94 2062.59,1170.94 2072.95,1170.94 2083.31,1170.94 2093.68,1170.94 2104.04,1170.94 2114.4,1170.94 2124.77,1170.94 2135.13,1170.94 2145.49,1170.94 2155.86,1170.94 2166.22,1170.94 2176.58,1170.94 2186.95,1170.94 2197.31,1170.94 2207.67,1170.94 2218.03,1170.94 2228.4,1170.94 2238.76,1170.94 2249.12,1170.94 2259.49,1170.94 2269.85,1170.94 2280.21,1170.94 \"/>\n",
       "<path clip-path=\"url(#clip590)\" d=\"M1981.63 250.738 L2279.52 250.738 L2279.52 95.2176 L1981.63 95.2176  Z\" fill=\"#ffffff\" fill-rule=\"evenodd\" fill-opacity=\"1\"/>\n",
       "<polyline clip-path=\"url(#clip590)\" style=\"stroke:#000000; stroke-linecap:round; stroke-linejoin:round; stroke-width:4; stroke-opacity:1; fill:none\" points=\"1981.63,250.738 2279.52,250.738 2279.52,95.2176 1981.63,95.2176 1981.63,250.738 \"/>\n",
       "<polyline clip-path=\"url(#clip590)\" style=\"stroke:#009af9; stroke-linecap:round; stroke-linejoin:round; stroke-width:4; stroke-opacity:1; fill:none\" points=\"2006.04,147.058 2152.51,147.058 \"/>\n",
       "<path clip-path=\"url(#clip590)\" d=\"M2201.57 138.412 L2192.2 151.027 L2202.06 164.338 L2197.03 164.338 L2189.49 154.152 L2181.94 164.338 L2176.92 164.338 L2186.99 150.773 L2177.77 138.412 L2182.8 138.412 L2189.67 147.648 L2196.55 138.412 L2201.57 138.412 Z\" fill=\"#000000\" fill-rule=\"nonzero\" fill-opacity=\"1\" /><path clip-path=\"url(#clip590)\" d=\"M2218.31 128.366 Q2215.2 133.69 2213.7 138.898 Q2212.2 144.106 2212.2 149.453 Q2212.2 154.801 2213.7 160.055 Q2215.23 165.287 2218.31 170.588 L2214.6 170.588 Q2211.13 165.148 2209.39 159.893 Q2207.68 154.639 2207.68 149.453 Q2207.68 144.291 2209.39 139.06 Q2211.11 133.828 2214.6 128.366 L2218.31 128.366 Z\" fill=\"#000000\" fill-rule=\"nonzero\" fill-opacity=\"1\" /><path clip-path=\"url(#clip590)\" d=\"M2230.78 131.051 L2230.78 138.412 L2239.56 138.412 L2239.56 141.722 L2230.78 141.722 L2230.78 155.796 Q2230.78 158.967 2231.64 159.87 Q2232.52 160.773 2235.18 160.773 L2239.56 160.773 L2239.56 164.338 L2235.18 164.338 Q2230.25 164.338 2228.38 162.509 Q2226.5 160.657 2226.5 155.796 L2226.5 141.722 L2223.38 141.722 L2223.38 138.412 L2226.5 138.412 L2226.5 131.051 L2230.78 131.051 Z\" fill=\"#000000\" fill-rule=\"nonzero\" fill-opacity=\"1\" /><path clip-path=\"url(#clip590)\" d=\"M2244.49 128.366 L2248.19 128.366 Q2251.66 133.828 2253.38 139.06 Q2255.11 144.291 2255.11 149.453 Q2255.11 154.639 2253.38 159.893 Q2251.66 165.148 2248.19 170.588 L2244.49 170.588 Q2247.57 165.287 2249.07 160.055 Q2250.6 154.801 2250.6 149.453 Q2250.6 144.106 2249.07 138.898 Q2247.57 133.69 2244.49 128.366 Z\" fill=\"#000000\" fill-rule=\"nonzero\" fill-opacity=\"1\" /><polyline clip-path=\"url(#clip590)\" style=\"stroke:#e26f46; stroke-linecap:round; stroke-linejoin:round; stroke-width:4; stroke-opacity:1; fill:none\" points=\"2006.04,198.898 2152.51,198.898 \"/>\n",
       "<path clip-path=\"url(#clip590)\" d=\"M2176.92 205.946 L2176.92 190.252 L2181.18 190.252 L2181.18 205.784 Q2181.18 209.465 2182.61 211.316 Q2184.05 213.145 2186.92 213.145 Q2190.37 213.145 2192.36 210.946 Q2194.37 208.747 2194.37 204.951 L2194.37 190.252 L2198.63 190.252 L2198.63 216.178 L2194.37 216.178 L2194.37 212.196 Q2192.82 214.557 2190.76 215.715 Q2188.72 216.849 2186.02 216.849 Q2181.55 216.849 2179.23 214.071 Q2176.92 211.293 2176.92 205.946 M2187.64 189.627 L2187.64 189.627 Z\" fill=\"#000000\" fill-rule=\"nonzero\" fill-opacity=\"1\" /><path clip-path=\"url(#clip590)\" d=\"M2217.64 180.206 Q2214.53 185.53 2213.03 190.738 Q2211.52 195.946 2211.52 201.293 Q2211.52 206.641 2213.03 211.895 Q2214.56 217.127 2217.64 222.428 L2213.93 222.428 Q2210.46 216.988 2208.72 211.733 Q2207.01 206.479 2207.01 201.293 Q2207.01 196.131 2208.72 190.9 Q2210.44 185.668 2213.93 180.206 L2217.64 180.206 Z\" fill=\"#000000\" fill-rule=\"nonzero\" fill-opacity=\"1\" /><path clip-path=\"url(#clip590)\" d=\"M2230.11 182.891 L2230.11 190.252 L2238.89 190.252 L2238.89 193.562 L2230.11 193.562 L2230.11 207.636 Q2230.11 210.807 2230.97 211.71 Q2231.85 212.613 2234.51 212.613 L2238.89 212.613 L2238.89 216.178 L2234.51 216.178 Q2229.58 216.178 2227.7 214.349 Q2225.83 212.497 2225.83 207.636 L2225.83 193.562 L2222.7 193.562 L2222.7 190.252 L2225.83 190.252 L2225.83 182.891 L2230.11 182.891 Z\" fill=\"#000000\" fill-rule=\"nonzero\" fill-opacity=\"1\" /><path clip-path=\"url(#clip590)\" d=\"M2243.82 180.206 L2247.52 180.206 Q2250.99 185.668 2252.7 190.9 Q2254.44 196.131 2254.44 201.293 Q2254.44 206.479 2252.7 211.733 Q2250.99 216.988 2247.52 222.428 L2243.82 222.428 Q2246.89 217.127 2248.4 211.895 Q2249.93 206.641 2249.93 201.293 Q2249.93 195.946 2248.4 190.738 Q2246.89 185.53 2243.82 180.206 Z\" fill=\"#000000\" fill-rule=\"nonzero\" fill-opacity=\"1\" /></svg>\n"
      ]
     },
     "execution_count": 293,
     "metadata": {},
     "output_type": "execute_result"
    }
   ],
   "source": [
    "using Plots\n",
    "plot(0.1*(0:N),xsopt[1,:],label=\"x(t)\")\n",
    "plot!(0.1*(0:N-1),opt_u[1,:],label=\"u(t)\")"
   ]
  },
  {
   "cell_type": "markdown",
   "id": "355a635d-be29-4a07-b8d9-4d7717d81d4e",
   "metadata": {},
   "source": [
    "#### Initial Parameters #1:\n",
    "$\\quad$ $T = 20\\space years, \\alpha = 0.1/year, \\delta = 0.05/year, u_{max}=0.5, N=200, h=0.1$"
   ]
  },
  {
   "cell_type": "markdown",
   "id": "2b66a510-66f1-47c1-96b1-ecddae41b5ed",
   "metadata": {},
   "source": [
    "## Optimal Fishing Effort - Addition of Predator\n",
    "\n",
    "#### Minimization problem: \n",
    "$\\quad$ $\\min_u{g(\\textbf{x}(T))}$ subject to $\\frac{d\\textbf{x}}{dt} = \\textbf{F}(\\textbf{x}(t), \\textbf{u}(t))$, $x(0) = x_0$\n",
    "#### where\n",
    "$\\quad$ $\\textbf{F}(\\textbf{x}(t), \\textbf{u}(t)) = \\begin{bmatrix} \\alpha f(f_{max}-f)-\\beta f u - \\gamma f s\\\\ \\gamma f s - \\rho s \\\\ \\delta m + \\beta f u\\end{bmatrix} \\;$ , $\\beta = 1, f_{max}=f_{0}=1, \\rho = 1, \\alpha = 0.1, \\gamma = 5$\n",
    "#### So,\n",
    "$\\quad$ $\\textbf{F}(\\textbf{x}(t), \\textbf{u}(t)) = \\begin{bmatrix} \\alpha f(1-f)-f u \\\\ \\delta m + f u \\end{bmatrix}, x(0)=x_{0}, \\textbf{u}(t)\\in U  \\space \\forall t$\n",
    "\n",
    "#### Where our objective function is \n",
    "$\\quad$ $g(\\begin{bmatrix} f \\\\ m\\end{bmatrix}) = -m(T)$\n",
    "\n",
    "#### And the gradient is \n",
    "$\\quad$ $\\nabla g(\\begin{bmatrix} f \\\\ m\\end{bmatrix}) = \\begin{bmatrix} 0 \\\\ -1 \\end{bmatrix}$"
   ]
  },
  {
   "cell_type": "code",
   "execution_count": 231,
   "id": "ced6e4c9-bb91-4840-a40e-f9462575888c",
   "metadata": {},
   "outputs": [
    {
     "data": {
      "text/plain": [
       "dFdx_pred (generic function with 2 methods)"
      ]
     },
     "execution_count": 231,
     "metadata": {},
     "output_type": "execute_result"
    }
   ],
   "source": [
    "function F_pred(t, x, u, alpha, delta, verbose=0)\n",
    "    f, s, m = x\n",
    "    dfdt = alpha * f * (1 - f) - f* u[1] - 5 * f * s\n",
    "    dsdt = 5 * f * s - s\n",
    "    dmdt = delta * m + u[1] * f\n",
    "\n",
    "    if verbose == 1\n",
    "        println(\"================================\")\n",
    "        println(\"[F] f: \", dfdt)\n",
    "        println(\"[F] m: \", dfdt)\n",
    "        println(\"[F] dfdf: \", dfdt)\n",
    "        println(\"[F] dmdt: \", dfdt)\n",
    "    end\n",
    "\n",
    "    return [dfdt, dmdt]\n",
    "end\n",
    "\n",
    "function g(xv,verbose=0)\n",
    "    if verbose == 1\n",
    "        println(\"[g] g: \", -xv[2])\n",
    "    end\n",
    "    return -xv[2]\n",
    "end\n",
    "\n",
    "function dg(xv, verbose=0) \n",
    "    if verbose == 1\n",
    "        println(\"[dg] dg: \", [0.0, 0.0, -1.0])\n",
    "    end\n",
    "    return [0.0, -1.0]\n",
    "end\n",
    "\n",
    "function dFdu_pred(t, xvect,u,alpha,delta,verbose=0)\n",
    "    if verbose==1\n",
    "        println(\"================================\")\n",
    "        println(\"[dFdu]: \",reshape([-xvect[1] ; xvect[1]],2,1))\n",
    "    end\n",
    "    return reshape([-xvect[1] ; xvect[1]],2,1)\n",
    "end\n",
    "\n",
    "function dFdx_pred(t, xv, u, alpha, delta,verbose=0)\n",
    "    if verbose == 1\n",
    "        println(\"================================\")\n",
    "        println(\"dFdx: \", [alpha - 2*alpha*xv[1] - u[1]  u[1];\n",
    "                   0                    delta])\n",
    "    end\n",
    "    return [alpha - 2*alpha*xv[1] - u[1]  u[1];\n",
    "                   0                    delta]\n",
    "end"
   ]
  },
  {
   "cell_type": "code",
   "execution_count": 232,
   "id": "311a7a7e-359d-48d0-8abb-62bfd9958512",
   "metadata": {},
   "outputs": [
    {
     "ename": "LoadError",
     "evalue": "cannot assign a value to imported variable Plots.alpha from module Main",
     "output_type": "error",
     "traceback": [
      "cannot assign a value to imported variable Plots.alpha from module Main",
      "",
      "Stacktrace:",
      " [1] top-level scope",
      "   @ In[232]:6"
     ]
    }
   ],
   "source": [
    "using LinearAlgebra\n",
    "xv  = [2.1; 1.1; 1.2]\n",
    "dxv = 1e-3*[1.2; -0.7; 0.5]\n",
    "t = 0; u = [0.5]; du = 1e-3*[0.7]\n",
    "T = 20\n",
    "alpha = 1\n",
    "delta = 1\n",
    "@show (F_pred(t,xv+dxv,u,alpha,delta)-F_pred(t,xv-dxv,u,alpha,delta)-2dFdx_pred(t,xv,u,alpha,delta)*dxv)/norm(dxv)\n",
    "@show (F_pred(t,xv,u+du,alpha,delta,1)-F_pred(t,xv,u-du,alpha,delta,1)-2*dFdu_pred(t,xv,u,alpha,delta,1)*du)/norm(du)\n",
    "@show (g_pred(xv+dxv,1)-g_pred|(xv-dxv,1)-2*dot(dg_pred(xv),dxv))/norm(dxv)"
   ]
  },
  {
   "cell_type": "code",
   "execution_count": null,
   "id": "1ddfa60b-d3bd-4306-8656-75e288f04523",
   "metadata": {},
   "outputs": [],
   "source": []
  }
 ],
 "metadata": {
  "kernelspec": {
   "display_name": "Julia 1.10.2",
   "language": "julia",
   "name": "julia-1.10"
  },
  "language_info": {
   "file_extension": ".jl",
   "mimetype": "application/julia",
   "name": "julia",
   "version": "1.10.2"
  }
 },
 "nbformat": 4,
 "nbformat_minor": 5
}

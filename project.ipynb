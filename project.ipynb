{
 "cells": [
  {
   "cell_type": "markdown",
   "id": "2b39d239-7546-4aae-ac1c-8dd1fc683f20",
   "metadata": {},
   "source": [
    "#### Much of this code is adapted from Professor David Stewart's (University of Iowa Dept. of Mathematics) base code: (see stewart_code.ipynb)"
   ]
  },
  {
   "cell_type": "code",
   "execution_count": 95,
   "id": "09225397-9e2e-4704-817b-e378dfca7450",
   "metadata": {},
   "outputs": [],
   "source": [
    "using LinearAlgebra\n",
    "using Plots"
   ]
  },
  {
   "cell_type": "markdown",
   "id": "3ba8869d-66ac-4a2e-8bd1-faebaefd32aa",
   "metadata": {},
   "source": [
    "## Optimal Fishing Effort\n",
    "\n",
    "#### Minimization problem: \n",
    "$\\quad$ $\\min_u{g(\\textbf{x}(T))}$ subject to $\\frac{d\\textbf{x}}{dt} = \\textbf{F}(\\textbf{x}(t), \\textbf{u}(t))$, $x(0) = x_0$\n",
    "#### where\n",
    "$\\quad$ $\\textbf{F}(\\textbf{x}(t), \\textbf{u}(t)) = \\begin{bmatrix} \\alpha f(f_{max}-f)-\\beta f u \\\\ \\delta m + \\beta f u \\end{bmatrix} \\;$ , $\\beta = 1, f_{max}=f_{0}=1$\n",
    "\n",
    "\n",
    "#### Where our objective function is \n",
    "$\\quad$ $g(\\begin{bmatrix} f \\\\ m\\end{bmatrix}) = -m(T)$\n",
    "\n",
    "#### And the gradient is \n",
    "$\\quad$ $\\nabla g(\\begin{bmatrix} f \\\\ m\\end{bmatrix}) = \\begin{bmatrix} 0 \\\\ 1 \\end{bmatrix}$"
   ]
  },
  {
   "cell_type": "code",
   "execution_count": 302,
   "id": "9649bf70-927f-4759-bdf4-a93136269ee6",
   "metadata": {
    "scrolled": true
   },
   "outputs": [
    {
     "data": {
      "text/plain": [
       "dg (generic function with 4 methods)"
      ]
     },
     "execution_count": 302,
     "metadata": {},
     "output_type": "execute_result"
    }
   ],
   "source": [
    "function F(t::Float64, xv::Vector{Float64}, u::Vector{Float64}, params::Dict{String,Real}, verbose=0)\n",
    "    alpha = get(params, \"alpha\", 0.1)\n",
    "    delta = get(params, \"delta\", 0.05)\n",
    "    beta = get(params, \"beta\", 1.0)\n",
    "    f_max = get(params, \"f_max\", 1.0)\n",
    "    f, m = xv \n",
    "    dfdt = alpha * f * (f_max - f) - beta * f * u[1]\n",
    "    dmdt = delta * m + beta * f * u[1]\n",
    "    func = [dfdt, dmdt]\n",
    "    return func\n",
    "end\n",
    "\n",
    "function g(xv,verbose=0)\n",
    "    return xv[2]\n",
    "end\n",
    "\n",
    "function dg(xv::Vector{Float64}, verbose=0) \n",
    "    return [0.0, -1.0]\n",
    "end"
   ]
  },
  {
   "cell_type": "markdown",
   "id": "ba9e5d5e-59da-4bab-8808-d25037db04f7",
   "metadata": {},
   "source": [
    "#### Derivative of $\\textbf{F}$ with respect to $\\textbf{u}$\n",
    "$\\quad$ $\\nabla_{u} \\textbf{F}(t, \\textbf{x}, \\textbf{u}) = \\begin{bmatrix} -f \\\\ f \\end{bmatrix}$"
   ]
  },
  {
   "cell_type": "code",
   "execution_count": 97,
   "id": "328b68a5-8abc-4b61-96e3-a4d72377fe14",
   "metadata": {},
   "outputs": [
    {
     "data": {
      "text/plain": [
       "dFdu (generic function with 2 methods)"
      ]
     },
     "execution_count": 97,
     "metadata": {},
     "output_type": "execute_result"
    }
   ],
   "source": [
    "function dFdu(xvect::Vector{Float64},u::Vector{Float64},params::Dict{String,Real},verbose=0)\n",
    "    f = xv[1]\n",
    "    beta = get(params, \"beta\", 1.0)\n",
    "    grad = [-beta * f, beta * f]\n",
    "    return reshape(grad,2,1)\n",
    "end"
   ]
  },
  {
   "cell_type": "markdown",
   "id": "0c1c4aa9-fb99-4b21-a9b3-4d05af6adfe3",
   "metadata": {},
   "source": [
    "#### Derivative of $\\textbf{F}$ with respect to $\\textbf{x}$\n",
    "$\\quad$ $\\nabla_{x} \\textbf{F}(t, \\textbf{x}, \\textbf{u}) = \\begin{bmatrix} \\alpha -2 \\alpha f - u  && 0  \\\\ u  && \\delta \\end{bmatrix}$"
   ]
  },
  {
   "cell_type": "code",
   "execution_count": 98,
   "id": "d8ea9c7a-c765-4e5a-9240-ce823d9e0882",
   "metadata": {},
   "outputs": [
    {
     "data": {
      "text/plain": [
       "dFdx (generic function with 2 methods)"
      ]
     },
     "execution_count": 98,
     "metadata": {},
     "output_type": "execute_result"
    }
   ],
   "source": [
    "function dFdx(t::Float64, xv::Vector{Float64}, u::Vector{Float64}, params::Dict{String,Real}, verbose=0)\n",
    "    f = xv[1]\n",
    "    alpha = get(params, \"alpha\", 1.0)\n",
    "    beta = get(params, \"beta\", 1.0)\n",
    "    delta = get(params, \"delta\", 1.0)\n",
    "    jacobian = [    -alpha * (1 - 2*f) + beta * u[1]    beta * f     ;  \n",
    "                              beta * u[1]                 delta      ]\n",
    "    return jacobian\n",
    "end"
   ]
  },
  {
   "cell_type": "markdown",
   "id": "839625ab-1ebb-458b-b1ca-9762e8cb5595",
   "metadata": {},
   "source": [
    "#### Discretization via Euler's Method\n",
    "$\\quad$ $\\textbf{x}_{k+1} = \\textbf{x} + h\\textbf{F}(\\textbf{x}_{k},\\textbf{u}_{k})$\n",
    "\n",
    "This allows us to find $\\textbf{x}(T)$ via a forward pass"
   ]
  },
  {
   "cell_type": "code",
   "execution_count": 299,
   "id": "53ec7f53-d653-48d5-956a-9753fbe36ca6",
   "metadata": {},
   "outputs": [
    {
     "data": {
      "text/plain": [
       "forwardstep (generic function with 3 methods)"
      ]
     },
     "execution_count": 299,
     "metadata": {},
     "output_type": "execute_result"
    }
   ],
   "source": [
    "function forwardstep(t0::Float64,xv::Vector{Float64},u::Matrix{Float64},F::Function,params::Dict{String,Real},verbose=0,n_eqs=2)\n",
    "    N = size(u,n_eqs) # number of cols of u\n",
    "    n = length(xv)\n",
    "    xs = zeros(eltype(xv),n,N+1)\n",
    "    xs[:,1] = xv\n",
    "    h = get(params,\"h\",0.1)\n",
    "    count = 0\n",
    "    for i = 0:N-1\n",
    "        if count == 0\n",
    "            println(\"xs[:,i+1] shape: \", size(xs[:,i+1]))\n",
    "        end\n",
    "        count += 1\n",
    "        xs[:,i+2] = xs[:,i+1] + h*F(t0+i*h,xs[:,i+1],u[:,i+1],params)\n",
    "    end\n",
    "    xs\n",
    "end"
   ]
  },
  {
   "attachments": {},
   "cell_type": "markdown",
   "id": "630a285b-f9e0-4f7a-b1ec-069da3257b85",
   "metadata": {},
   "source": [
    "#### Lagrange Multiplier Equations\n",
    "$\\quad$ $\\lambda_{k-1} = \\lambda_{k} + h\\nabla_{x} \\textbf{F}(\\textbf{x}_k, \\textbf{u}_k)^T \\lambda$\n",
    "\n",
    "Moving backwards from the last $\\lambda$ fills in the rest of the $\\lambda$'s via a backward pass"
   ]
  },
  {
   "cell_type": "code",
   "execution_count": 244,
   "id": "088bba38-a609-4d71-ae18-d2bf4fcb9574",
   "metadata": {},
   "outputs": [
    {
     "data": {
      "text/plain": [
       "adjointstep (generic function with 3 methods)"
      ]
     },
     "execution_count": 244,
     "metadata": {},
     "output_type": "execute_result"
    }
   ],
   "source": [
    "# filling in the lagrange multipliers \n",
    "function adjointstep(λend::Vector{Float64},t0::Float64,xv::Matrix{Float64},u::Matrix{Float64},dFdx::Function,params::Dict{String,Real},verbose=0,n_eqs=2)\n",
    "    N = size(u,n_eqs)\n",
    "    n = length(λend)\n",
    "    λs = zeros(eltype(λend),n,N)\n",
    "    λs[:,N] = λend\n",
    "    count = 0\n",
    "    h = get(params,\"h\",0.1)\n",
    "    for i = N-2:-1:0\n",
    "        λs[:,i+1] = λs[:,i+2] + h*dFdx(t0+i*h,xv[:,i+1],u[:,i+1],params)'*λs[:,i+2]\n",
    "    end\n",
    "    λs\n",
    "end"
   ]
  },
  {
   "cell_type": "markdown",
   "id": "d0fe8b88-0829-489d-8c2a-a946b3b6158f",
   "metadata": {},
   "source": [
    "#### Objective function\n",
    "$\\quad$ $g(\\textbf{x}_N)=G(\\textbf{u}_{0}, \\textbf{u}_{1}, ... , \\textbf{u}_{N-1})$\n",
    "\n",
    "where $g(\\textbf{x}_k)$ is the output at each step $k$"
   ]
  },
  {
   "cell_type": "code",
   "execution_count": 224,
   "id": "29a9eb40-f301-4225-8b11-6b6f415aafab",
   "metadata": {},
   "outputs": [
    {
     "data": {
      "text/plain": [
       "G (generic function with 2 methods)"
      ]
     },
     "execution_count": 224,
     "metadata": {},
     "output_type": "execute_result"
    }
   ],
   "source": [
    "function G(t0::Float64,xv::Vector{Float64},u::Matrix{Float64},F::Function,g::Function,params::Dict{String,Real},verbose=0)\n",
    "    xs = forwardstep(t0,xv,u,F,params)\n",
    "    return g(xs[:,end])\n",
    "end"
   ]
  },
  {
   "cell_type": "markdown",
   "id": "e5ebc4e3-9c61-4651-9a4f-46f84e490fd7",
   "metadata": {},
   "source": [
    "#### Gradient of objective function with respect to $\\textbf{u}$\n",
    "$\\quad$ $\\nabla_{u_{k}} g(\\textbf{x}_{N}) = h\\nabla_{u}\\textbf{F}(\\textbf{x}_{k}, \\textbf{u}_{k})^T \\lambda_{k}$"
   ]
  },
  {
   "cell_type": "code",
   "execution_count": 225,
   "id": "6f077122-91de-491e-aa98-af241d75cce5",
   "metadata": {},
   "outputs": [
    {
     "data": {
      "text/plain": [
       "dG (generic function with 2 methods)"
      ]
     },
     "execution_count": 225,
     "metadata": {},
     "output_type": "execute_result"
    }
   ],
   "source": [
    "function dG(t0::Float64,xv::Vector{Float64},u::Matrix{Float64},F::Function,dFdx::Function,dFdu::Function,dg::Function,params,verbose=0)\n",
    "    h = get(params, \"h\", 0.1)\n",
    "    xs = forwardstep(t0,xv,u,F,params)\n",
    "    λend = dg(xv[:,end])\n",
    "    λs = adjointstep(λend,t0,xs,u,dFdx,params)\n",
    "    dGval = zeros(eltype(u),size(u,1),size(u,2))\n",
    "    for i = 0:size(u,2)-1\n",
    "        dGval[:, i+1] = h*dFdu(xs[:, i+1],u[:,i+1],params)'*λs[:, i+1]\n",
    "    end\n",
    "    dGval\n",
    "end"
   ]
  },
  {
   "cell_type": "markdown",
   "id": "31d9e801-b86d-4fd9-b5e0-3dd6328872bd",
   "metadata": {},
   "source": [
    "#### Projection of controls onto $\\space \\mathcal{U}$\n",
    "$\\quad$ Search direction: $\\textbf{d}=[(\\textbf{d}_{0})^T, (\\textbf{d}_{2})^T, ... , (\\textbf{d}_{N-1})^T]^T$\\\n",
    "$\\quad$ New control: $\\textbf{u}^{+}(\\alpha) = Proj_{\\mathcal{U}}(\\textbf{u}+\\alpha \\textbf{d})$, $\\space$ $\\mathcal{U}$ convex\n",
    "\n",
    "This is to incorporate the constraints $\\textbf{u}_{k} \\in U \\space \\forall k$"
   ]
  },
  {
   "cell_type": "code",
   "execution_count": 226,
   "id": "7dba9dfe-d5d9-4785-8c41-e58d78dd9d63",
   "metadata": {},
   "outputs": [
    {
     "data": {
      "text/plain": [
       "proj_u (generic function with 1 method)"
      ]
     },
     "execution_count": 226,
     "metadata": {},
     "output_type": "execute_result"
    }
   ],
   "source": [
    "function proj_u(u,a,b)\n",
    "    clamp.(u, a, b)\n",
    "end"
   ]
  },
  {
   "cell_type": "markdown",
   "id": "55c694d9-bef1-4cab-aaa2-97efd9e18eda",
   "metadata": {},
   "source": [
    "#### Optimal Control Algorithm\n",
    "Performs gradient descent in conjunction with backtracking line search on the iterates of $\\textbf{u}$"
   ]
  },
  {
   "cell_type": "code",
   "execution_count": 227,
   "id": "b3e2d633-2203-41d5-8281-fa0e3ac8205b",
   "metadata": {},
   "outputs": [
    {
     "data": {
      "text/plain": [
       "gradient_descent (generic function with 1 method)"
      ]
     },
     "execution_count": 227,
     "metadata": {},
     "output_type": "execute_result"
    }
   ],
   "source": [
    "function gradient_descent(u,s,dGval,proj)\n",
    "    return proj(u-s*dGval)\n",
    "end"
   ]
  },
  {
   "cell_type": "code",
   "execution_count": 228,
   "id": "6303c631-def4-4391-ab02-866fbe5ac1b6",
   "metadata": {},
   "outputs": [
    {
     "data": {
      "text/plain": [
       "optcontrol (generic function with 3 methods)"
      ]
     },
     "execution_count": 228,
     "metadata": {},
     "output_type": "execute_result"
    }
   ],
   "source": [
    "function optcontrol(t0::Float64,x0::Vector{Float64},u::Matrix{Float64},F::Function,dFdx::Function,dFdu::Function,g::Function,dg::Function,proj::Function,params::Dict{String,Real},ulist=nothing,trace=0)\n",
    "    Gval = G(t0,x0,u,F,g,params,1)\n",
    "    Gvalold = Gval\n",
    "    dGval = dG(t0,x0,u,F,dFdx,dFdu,dg,params,1)\n",
    "    firsttime = true\n",
    "    iter = 0\n",
    "    c1 = get(params, \"c1\", 0.01)\n",
    "    s0 = get(params, \"s0\", 1.0)\n",
    "    h = get(params, \"h\", 0.1)\n",
    "    maxiter = get(params, \"maxiter\", 10000)\n",
    "    eps = get(params, \"eps\", 0.4)\n",
    "    if ulist != nothing\n",
    "        push!(ulist,u)\n",
    "    end\n",
    "    while ( firsttime || (Gvalold - Gval > eps) ) && (iter < maxiter)\n",
    "        Gvalold = Gval\n",
    "        s = s0\n",
    "        unew = gradient_descent(u,s,dGval,proj) # projected gradient descent\n",
    "        Gval = G(t0,x0,unew,F,g,params,1)      \n",
    "        count_linesearch=0\n",
    "        while Gval > Gvalold + c1*dot(dGval,unew-u) && s > 1e-12*s0\n",
    "            s = s / 2\n",
    "            unew = gradient_descent(u,s,dGval,proj)\n",
    "            Gval = G(t0,x0,unew,F,g,params,1)\n",
    "            count_linesearch += 1\n",
    "            if count_linesearch == 1\n",
    "                break\n",
    "            end\n",
    "        end\n",
    "        u = unew\n",
    "        firsttime = false\n",
    "        dGval = dG(t0,x0,u,F,dFdx,dFdu,dg,params,0)\n",
    "\n",
    "        if ulist != nothing\n",
    "            push!(ulist,u)\n",
    "        end\n",
    "        iter += 1\n",
    "    end\n",
    "    (u,iter)\n",
    "end"
   ]
  },
  {
   "cell_type": "code",
   "execution_count": 278,
   "id": "955a3136-6a86-4611-bd9d-99eca903807e",
   "metadata": {},
   "outputs": [
    {
     "data": {
      "text/plain": [
       "optimize (generic function with 4 methods)"
      ]
     },
     "execution_count": 278,
     "metadata": {},
     "output_type": "execute_result"
    }
   ],
   "source": [
    "function optimize(xv,t,N,u,T,params,F,dFdx,dFdu,g,dg,n_eqs=2)\n",
    "    println(typeof(u))\n",
    "    println(typeof(xv))\n",
    "    xs = forwardstep(t,xv,u,F,params,0,n_eqs)\n",
    "    println(\"finished forward step\")\n",
    "    λend = dg(xs[:,end])\n",
    "    println(\"computed λend\")\n",
    "    λs = adjointstep(λend,t,xs,u,dFdx,params,0,n_eqs)\n",
    "    print(\"finished adjoint step\")\n",
    "    ulist = []\n",
    "    u = fill(0.0, 1,N)\n",
    "    opt_u,iters = optcontrol(t,xv,u,F,dFdx,dFdu,g,dg,u->proj_u(u,0.0,0.5),params,ulist,0)\n",
    "    return opt_u, iters\n",
    "end"
   ]
  },
  {
   "cell_type": "markdown",
   "id": "4230f43b-3b2c-4aa7-8eb8-2c648ffeaeb6",
   "metadata": {},
   "source": [
    "#### Initial Parameters #1:\n",
    "$\\quad$ $T = 20\\space years, \\alpha = 0.1/year, \\delta = 0.05/year, u_{max}=0.5, N=200, h=0.1$"
   ]
  },
  {
   "cell_type": "code",
   "execution_count": 279,
   "id": "854fb296-dbc3-4668-a670-8b8f9e205927",
   "metadata": {},
   "outputs": [
    {
     "data": {
      "text/plain": [
       "Dict{String, Real} with 10 entries:\n",
       "  \"eps\"     => 0.01\n",
       "  \"c1\"      => 0.05\n",
       "  \"s\"       => 0.1\n",
       "  \"f_max\"   => 1.0\n",
       "  \"maxiter\" => 10000\n",
       "  \"alpha\"   => 0.1\n",
       "  \"s0\"      => 1.0\n",
       "  \"h\"       => 0.1\n",
       "  \"delta\"   => 0.05\n",
       "  \"beta\"    => 1.0"
      ]
     },
     "execution_count": 279,
     "metadata": {},
     "output_type": "execute_result"
    }
   ],
   "source": [
    "using LinearAlgebra\n",
    "xv  = [0.9; 15.1]\n",
    "t = 0.0; \n",
    "N = 200\n",
    "u = zeros(1,N)\n",
    "T = 20 \n",
    "\n",
    "params = Dict(\n",
    "    \"alpha\"=>0.1,\n",
    "    \"delta\"=>0.05,\n",
    "    \"beta\"=>1.0,\n",
    "    \"f_max\"=>1.0,\n",
    "    \"h\"=>0.1,\n",
    "    \"eps\"=>1e-2,\n",
    "    \"s0\"=>1.0, \n",
    "    \"c1\"=>0.05,\n",
    "    \"maxiter\"=>10_000,\n",
    "    \"s\"=>0.1\n",
    ")"
   ]
  },
  {
   "cell_type": "code",
   "execution_count": 280,
   "id": "428cfaa2-aee2-4696-9f3e-a419c79ccf2c",
   "metadata": {},
   "outputs": [
    {
     "name": "stdout",
     "output_type": "stream",
     "text": [
      "Matrix{Float64}\n",
      "Vector{Float64}\n",
      "finished forward step\n",
      "computed λend\n",
      "finished adjoint step"
     ]
    },
    {
     "data": {
      "text/plain": [
       "([0.12141121445952424 0.12080717856669079 … 0.045225 0.045000000000000005], 1)"
      ]
     },
     "execution_count": 280,
     "metadata": {},
     "output_type": "execute_result"
    }
   ],
   "source": [
    "opt_u, iters = optimize(xv,t,N,u,T,params,F,dFdx,dFdu,g,dg)"
   ]
  },
  {
   "cell_type": "code",
   "execution_count": 281,
   "id": "b88ec86f-2c82-4bb6-85e7-67aa94e375bb",
   "metadata": {},
   "outputs": [
    {
     "data": {
      "text/plain": [
       "1×200 Matrix{Float64}:\n",
       " 0.121411  0.120807  0.120206  0.119608  …  0.0454511  0.045225  0.045"
      ]
     },
     "execution_count": 281,
     "metadata": {},
     "output_type": "execute_result"
    }
   ],
   "source": [
    "opt_u"
   ]
  },
  {
   "cell_type": "code",
   "execution_count": 303,
   "id": "577faaef-b95f-4651-ba11-e896bc5fd9dc",
   "metadata": {},
   "outputs": [
    {
     "name": "stdout",
     "output_type": "stream",
     "text": [
      "xs[:,i+1] shape: (2,)\n"
     ]
    },
    {
     "data": {
      "text/plain": [
       "2×201 Matrix{Float64}:\n",
       " 0.9  0.889973  0.880201   0.870675   …  0.470181  0.470546  0.47092\n",
       " 0.0  0.010927  0.0217332  0.0324224     1.72895   1.73972   1.75054"
      ]
     },
     "execution_count": 303,
     "metadata": {},
     "output_type": "execute_result"
    }
   ],
   "source": [
    "xsopt = forwardstep(t,xv,opt_u,F,params)"
   ]
  },
  {
   "cell_type": "code",
   "execution_count": 283,
   "id": "7d25e8aa-7a21-4ae7-82b1-cfd9e76cdf4f",
   "metadata": {},
   "outputs": [
    {
     "data": {
      "image/png": "[encoded data removed]",
      "image/svg+xml": [
       "<?xml version=\"1.0\" encoding=\"utf-8\"?>\n",
       "<svg xmlns=\"http://www.w3.org/2000/svg\" xmlns:xlink=\"http://www.w3.org/1999/xlink\" width=\"600\" height=\"400\" viewBox=\"0 0 2400 1600\">\n",
       "<defs>\n",
       "  <clipPath id=\"clip650\">\n",
       "    <rect x=\"0\" y=\"0\" width=\"2400\" height=\"1600\"/>\n",
       "  </clipPath>\n",
       "</defs>\n",
       "<path clip-path=\"url(#clip650)\" d=\"M0 1600 L2400 1600 L2400 8.88178e-14 L0 8.88178e-14  Z\" fill=\"#ffffff\" fill-rule=\"evenodd\" fill-opacity=\"1\"/>\n",
       "<defs>\n",
       "  <clipPath id=\"clip651\">\n",
       "    <rect x=\"480\" y=\"0\" width=\"1681\" height=\"1600\"/>\n",
       "  </clipPath>\n",
       "</defs>\n",
       "<path clip-path=\"url(#clip650)\" d=\"M156.598 1486.45 L2352.76 1486.45 L2352.76 47.2441 L156.598 47.2441  Z\" fill=\"#ffffff\" fill-rule=\"evenodd\" fill-opacity=\"1\"/>\n",
       "<defs>\n",
       "  <clipPath id=\"clip652\">\n",
       "    <rect x=\"156\" y=\"47\" width=\"2197\" height=\"1440\"/>\n",
       "  </clipPath>\n",
       "</defs>\n",
       "<polyline clip-path=\"url(#clip652)\" style=\"stroke:#000000; stroke-linecap:round; stroke-linejoin:round; stroke-width:2; stroke-opacity:0.1; fill:none\" points=\"218.754,1486.45 218.754,47.2441 \"/>\n",
       "<polyline clip-path=\"url(#clip652)\" style=\"stroke:#000000; stroke-linecap:round; stroke-linejoin:round; stroke-width:2; stroke-opacity:0.1; fill:none\" points=\"736.715,1486.45 736.715,47.2441 \"/>\n",
       "<polyline clip-path=\"url(#clip652)\" style=\"stroke:#000000; stroke-linecap:round; stroke-linejoin:round; stroke-width:2; stroke-opacity:0.1; fill:none\" points=\"1254.68,1486.45 1254.68,47.2441 \"/>\n",
       "<polyline clip-path=\"url(#clip652)\" style=\"stroke:#000000; stroke-linecap:round; stroke-linejoin:round; stroke-width:2; stroke-opacity:0.1; fill:none\" points=\"1772.64,1486.45 1772.64,47.2441 \"/>\n",
       "<polyline clip-path=\"url(#clip652)\" style=\"stroke:#000000; stroke-linecap:round; stroke-linejoin:round; stroke-width:2; stroke-opacity:0.1; fill:none\" points=\"2290.6,1486.45 2290.6,47.2441 \"/>\n",
       "<polyline clip-path=\"url(#clip650)\" style=\"stroke:#000000; stroke-linecap:round; stroke-linejoin:round; stroke-width:4; stroke-opacity:1; fill:none\" points=\"156.598,1486.45 2352.76,1486.45 \"/>\n",
       "<polyline clip-path=\"url(#clip650)\" style=\"stroke:#000000; stroke-linecap:round; stroke-linejoin:round; stroke-width:4; stroke-opacity:1; fill:none\" points=\"218.754,1486.45 218.754,1467.55 \"/>\n",
       "<polyline clip-path=\"url(#clip650)\" style=\"stroke:#000000; stroke-linecap:round; stroke-linejoin:round; stroke-width:4; stroke-opacity:1; fill:none\" points=\"736.715,1486.45 736.715,1467.55 \"/>\n",
       "<polyline clip-path=\"url(#clip650)\" style=\"stroke:#000000; stroke-linecap:round; stroke-linejoin:round; stroke-width:4; stroke-opacity:1; fill:none\" points=\"1254.68,1486.45 1254.68,1467.55 \"/>\n",
       "<polyline clip-path=\"url(#clip650)\" style=\"stroke:#000000; stroke-linecap:round; stroke-linejoin:round; stroke-width:4; stroke-opacity:1; fill:none\" points=\"1772.64,1486.45 1772.64,1467.55 \"/>\n",
       "<polyline clip-path=\"url(#clip650)\" style=\"stroke:#000000; stroke-linecap:round; stroke-linejoin:round; stroke-width:4; stroke-opacity:1; fill:none\" points=\"2290.6,1486.45 2290.6,1467.55 \"/>\n",
       "<path clip-path=\"url(#clip650)\" d=\"M218.754 1517.37 Q215.143 1517.37 213.314 1520.93 Q211.508 1524.47 211.508 1531.6 Q211.508 1538.71 213.314 1542.27 Q215.143 1545.82 218.754 1545.82 Q222.388 1545.82 224.193 1542.27 Q226.022 1538.71 226.022 1531.6 Q226.022 1524.47 224.193 1520.93 Q222.388 1517.37 218.754 1517.37 M218.754 1513.66 Q224.564 1513.66 227.619 1518.27 Q230.698 1522.85 230.698 1531.6 Q230.698 1540.33 227.619 1544.94 Q224.564 1549.52 218.754 1549.52 Q212.943 1549.52 209.865 1544.94 Q206.809 1540.33 206.809 1531.6 Q206.809 1522.85 209.865 1518.27 Q212.943 1513.66 218.754 1513.66 Z\" fill=\"#000000\" fill-rule=\"nonzero\" fill-opacity=\"1\" /><path clip-path=\"url(#clip650)\" d=\"M726.993 1514.29 L745.35 1514.29 L745.35 1518.22 L731.276 1518.22 L731.276 1526.7 Q732.294 1526.35 733.313 1526.19 Q734.331 1526 735.35 1526 Q741.137 1526 744.516 1529.17 Q747.896 1532.34 747.896 1537.76 Q747.896 1543.34 744.424 1546.44 Q740.951 1549.52 734.632 1549.52 Q732.456 1549.52 730.188 1549.15 Q727.942 1548.78 725.535 1548.04 L725.535 1543.34 Q727.618 1544.47 729.84 1545.03 Q732.063 1545.58 734.539 1545.58 Q738.544 1545.58 740.882 1543.48 Q743.22 1541.37 743.22 1537.76 Q743.22 1534.15 740.882 1532.04 Q738.544 1529.94 734.539 1529.94 Q732.664 1529.94 730.789 1530.35 Q728.938 1530.77 726.993 1531.65 L726.993 1514.29 Z\" fill=\"#000000\" fill-rule=\"nonzero\" fill-opacity=\"1\" /><path clip-path=\"url(#clip650)\" d=\"M1229.36 1544.91 L1237 1544.91 L1237 1518.55 L1228.69 1520.21 L1228.69 1515.95 L1236.96 1514.29 L1241.63 1514.29 L1241.63 1544.91 L1249.27 1544.91 L1249.27 1548.85 L1229.36 1548.85 L1229.36 1544.91 Z\" fill=\"#000000\" fill-rule=\"nonzero\" fill-opacity=\"1\" /><path clip-path=\"url(#clip650)\" d=\"M1268.72 1517.37 Q1265.11 1517.37 1263.28 1520.93 Q1261.47 1524.47 1261.47 1531.6 Q1261.47 1538.71 1263.28 1542.27 Q1265.11 1545.82 1268.72 1545.82 Q1272.35 1545.82 1274.16 1542.27 Q1275.98 1538.71 1275.98 1531.6 Q1275.98 1524.47 1274.16 1520.93 Q1272.35 1517.37 1268.72 1517.37 M1268.72 1513.66 Q1274.53 1513.66 1277.58 1518.27 Q1280.66 1522.85 1280.66 1531.6 Q1280.66 1540.33 1277.58 1544.94 Q1274.53 1549.52 1268.72 1549.52 Q1262.91 1549.52 1259.83 1544.94 Q1256.77 1540.33 1256.77 1531.6 Q1256.77 1522.85 1259.83 1518.27 Q1262.91 1513.66 1268.72 1513.66 Z\" fill=\"#000000\" fill-rule=\"nonzero\" fill-opacity=\"1\" /><path clip-path=\"url(#clip650)\" d=\"M1747.82 1544.91 L1755.46 1544.91 L1755.46 1518.55 L1747.15 1520.21 L1747.15 1515.95 L1755.42 1514.29 L1760.09 1514.29 L1760.09 1544.91 L1767.73 1544.91 L1767.73 1548.85 L1747.82 1548.85 L1747.82 1544.91 Z\" fill=\"#000000\" fill-rule=\"nonzero\" fill-opacity=\"1\" /><path clip-path=\"url(#clip650)\" d=\"M1777.22 1514.29 L1795.58 1514.29 L1795.58 1518.22 L1781.5 1518.22 L1781.5 1526.7 Q1782.52 1526.35 1783.54 1526.19 Q1784.56 1526 1785.58 1526 Q1791.37 1526 1794.75 1529.17 Q1798.12 1532.34 1798.12 1537.76 Q1798.12 1543.34 1794.65 1546.44 Q1791.18 1549.52 1784.86 1549.52 Q1782.69 1549.52 1780.42 1549.15 Q1778.17 1548.78 1775.76 1548.04 L1775.76 1543.34 Q1777.85 1544.47 1780.07 1545.03 Q1782.29 1545.58 1784.77 1545.58 Q1788.77 1545.58 1791.11 1543.48 Q1793.45 1541.37 1793.45 1537.76 Q1793.45 1534.15 1791.11 1532.04 Q1788.77 1529.94 1784.77 1529.94 Q1782.89 1529.94 1781.02 1530.35 Q1779.17 1530.77 1777.22 1531.65 L1777.22 1514.29 Z\" fill=\"#000000\" fill-rule=\"nonzero\" fill-opacity=\"1\" /><path clip-path=\"url(#clip650)\" d=\"M2269.37 1544.91 L2285.69 1544.91 L2285.69 1548.85 L2263.75 1548.85 L2263.75 1544.91 Q2266.41 1542.16 2270.99 1537.53 Q2275.6 1532.88 2276.78 1531.53 Q2279.03 1529.01 2279.91 1527.27 Q2280.81 1525.51 2280.81 1523.82 Q2280.81 1521.07 2278.86 1519.33 Q2276.94 1517.6 2273.84 1517.6 Q2271.64 1517.6 2269.19 1518.36 Q2266.76 1519.13 2263.98 1520.68 L2263.98 1515.95 Q2266.8 1514.82 2269.26 1514.24 Q2271.71 1513.66 2273.75 1513.66 Q2279.12 1513.66 2282.31 1516.35 Q2285.51 1519.03 2285.51 1523.52 Q2285.51 1525.65 2284.7 1527.57 Q2283.91 1529.47 2281.8 1532.07 Q2281.23 1532.74 2278.12 1535.95 Q2275.02 1539.15 2269.37 1544.91 Z\" fill=\"#000000\" fill-rule=\"nonzero\" fill-opacity=\"1\" /><path clip-path=\"url(#clip650)\" d=\"M2305.51 1517.37 Q2301.9 1517.37 2300.07 1520.93 Q2298.26 1524.47 2298.26 1531.6 Q2298.26 1538.71 2300.07 1542.27 Q2301.9 1545.82 2305.51 1545.82 Q2309.14 1545.82 2310.95 1542.27 Q2312.78 1538.71 2312.78 1531.6 Q2312.78 1524.47 2310.95 1520.93 Q2309.14 1517.37 2305.51 1517.37 M2305.51 1513.66 Q2311.32 1513.66 2314.37 1518.27 Q2317.45 1522.85 2317.45 1531.6 Q2317.45 1540.33 2314.37 1544.94 Q2311.32 1549.52 2305.51 1549.52 Q2299.7 1549.52 2296.62 1544.94 Q2293.56 1540.33 2293.56 1531.6 Q2293.56 1522.85 2296.62 1518.27 Q2299.7 1513.66 2305.51 1513.66 Z\" fill=\"#000000\" fill-rule=\"nonzero\" fill-opacity=\"1\" /><polyline clip-path=\"url(#clip652)\" style=\"stroke:#000000; stroke-linecap:round; stroke-linejoin:round; stroke-width:2; stroke-opacity:0.1; fill:none\" points=\"156.598,1199.58 2352.76,1199.58 \"/>\n",
       "<polyline clip-path=\"url(#clip652)\" style=\"stroke:#000000; stroke-linecap:round; stroke-linejoin:round; stroke-width:2; stroke-opacity:0.1; fill:none\" points=\"156.598,881.976 2352.76,881.976 \"/>\n",
       "<polyline clip-path=\"url(#clip652)\" style=\"stroke:#000000; stroke-linecap:round; stroke-linejoin:round; stroke-width:2; stroke-opacity:0.1; fill:none\" points=\"156.598,564.376 2352.76,564.376 \"/>\n",
       "<polyline clip-path=\"url(#clip652)\" style=\"stroke:#000000; stroke-linecap:round; stroke-linejoin:round; stroke-width:2; stroke-opacity:0.1; fill:none\" points=\"156.598,246.776 2352.76,246.776 \"/>\n",
       "<polyline clip-path=\"url(#clip650)\" style=\"stroke:#000000; stroke-linecap:round; stroke-linejoin:round; stroke-width:4; stroke-opacity:1; fill:none\" points=\"156.598,1486.45 156.598,47.2441 \"/>\n",
       "<polyline clip-path=\"url(#clip650)\" style=\"stroke:#000000; stroke-linecap:round; stroke-linejoin:round; stroke-width:4; stroke-opacity:1; fill:none\" points=\"156.598,1199.58 175.496,1199.58 \"/>\n",
       "<polyline clip-path=\"url(#clip650)\" style=\"stroke:#000000; stroke-linecap:round; stroke-linejoin:round; stroke-width:4; stroke-opacity:1; fill:none\" points=\"156.598,881.976 175.496,881.976 \"/>\n",
       "<polyline clip-path=\"url(#clip650)\" style=\"stroke:#000000; stroke-linecap:round; stroke-linejoin:round; stroke-width:4; stroke-opacity:1; fill:none\" points=\"156.598,564.376 175.496,564.376 \"/>\n",
       "<polyline clip-path=\"url(#clip650)\" style=\"stroke:#000000; stroke-linecap:round; stroke-linejoin:round; stroke-width:4; stroke-opacity:1; fill:none\" points=\"156.598,246.776 175.496,246.776 \"/>\n",
       "<path clip-path=\"url(#clip650)\" d=\"M65.0198 1185.37 Q61.4087 1185.37 59.58 1188.94 Q57.7745 1192.48 57.7745 1199.61 Q57.7745 1206.72 59.58 1210.28 Q61.4087 1213.82 65.0198 1213.82 Q68.6541 1213.82 70.4596 1210.28 Q72.2883 1206.72 72.2883 1199.61 Q72.2883 1192.48 70.4596 1188.94 Q68.6541 1185.37 65.0198 1185.37 M65.0198 1181.67 Q70.83 1181.67 73.8855 1186.28 Q76.9642 1190.86 76.9642 1199.61 Q76.9642 1208.34 73.8855 1212.94 Q70.83 1217.53 65.0198 1217.53 Q59.2097 1217.53 56.131 1212.94 Q53.0754 1208.34 53.0754 1199.61 Q53.0754 1190.86 56.131 1186.28 Q59.2097 1181.67 65.0198 1181.67 Z\" fill=\"#000000\" fill-rule=\"nonzero\" fill-opacity=\"1\" /><path clip-path=\"url(#clip650)\" d=\"M85.1818 1210.98 L90.066 1210.98 L90.066 1216.86 L85.1818 1216.86 L85.1818 1210.98 Z\" fill=\"#000000\" fill-rule=\"nonzero\" fill-opacity=\"1\" /><path clip-path=\"url(#clip650)\" d=\"M104.279 1212.92 L120.598 1212.92 L120.598 1216.86 L98.6539 1216.86 L98.6539 1212.92 Q101.316 1210.17 105.899 1205.54 Q110.506 1200.88 111.686 1199.54 Q113.932 1197.02 114.811 1195.28 Q115.714 1193.52 115.714 1191.83 Q115.714 1189.08 113.77 1187.34 Q111.848 1185.61 108.746 1185.61 Q106.547 1185.61 104.094 1186.37 Q101.663 1187.13 98.8854 1188.68 L98.8854 1183.96 Q101.709 1182.83 104.163 1182.25 Q106.617 1181.67 108.654 1181.67 Q114.024 1181.67 117.219 1184.36 Q120.413 1187.04 120.413 1191.53 Q120.413 1193.66 119.603 1195.58 Q118.816 1197.48 116.709 1200.07 Q116.131 1200.74 113.029 1203.96 Q109.927 1207.16 104.279 1212.92 Z\" fill=\"#000000\" fill-rule=\"nonzero\" fill-opacity=\"1\" /><path clip-path=\"url(#clip650)\" d=\"M62.9365 867.775 Q59.3254 867.775 57.4967 871.339 Q55.6912 874.881 55.6912 882.011 Q55.6912 889.117 57.4967 892.682 Q59.3254 896.224 62.9365 896.224 Q66.5707 896.224 68.3763 892.682 Q70.205 889.117 70.205 882.011 Q70.205 874.881 68.3763 871.339 Q66.5707 867.775 62.9365 867.775 M62.9365 864.071 Q68.7467 864.071 71.8022 868.677 Q74.8809 873.261 74.8809 882.011 Q74.8809 890.737 71.8022 895.344 Q68.7467 899.927 62.9365 899.927 Q57.1264 899.927 54.0477 895.344 Q50.9921 890.737 50.9921 882.011 Q50.9921 873.261 54.0477 868.677 Q57.1264 864.071 62.9365 864.071 Z\" fill=\"#000000\" fill-rule=\"nonzero\" fill-opacity=\"1\" /><path clip-path=\"url(#clip650)\" d=\"M83.0984 893.376 L87.9827 893.376 L87.9827 899.256 L83.0984 899.256 L83.0984 893.376 Z\" fill=\"#000000\" fill-rule=\"nonzero\" fill-opacity=\"1\" /><path clip-path=\"url(#clip650)\" d=\"M111.015 868.77 L99.2095 887.219 L111.015 887.219 L111.015 868.77 M109.788 864.696 L115.668 864.696 L115.668 887.219 L120.598 887.219 L120.598 891.108 L115.668 891.108 L115.668 899.256 L111.015 899.256 L111.015 891.108 L95.4132 891.108 L95.4132 886.594 L109.788 864.696 Z\" fill=\"#000000\" fill-rule=\"nonzero\" fill-opacity=\"1\" /><path clip-path=\"url(#clip650)\" d=\"M63.2606 550.175 Q59.6495 550.175 57.8208 553.74 Q56.0152 557.281 56.0152 564.411 Q56.0152 571.517 57.8208 575.082 Q59.6495 578.624 63.2606 578.624 Q66.8948 578.624 68.7004 575.082 Q70.5291 571.517 70.5291 564.411 Q70.5291 557.281 68.7004 553.74 Q66.8948 550.175 63.2606 550.175 M63.2606 546.471 Q69.0707 546.471 72.1263 551.078 Q75.205 555.661 75.205 564.411 Q75.205 573.138 72.1263 577.744 Q69.0707 582.327 63.2606 582.327 Q57.4504 582.327 54.3717 577.744 Q51.3162 573.138 51.3162 564.411 Q51.3162 555.661 54.3717 551.078 Q57.4504 546.471 63.2606 546.471 Z\" fill=\"#000000\" fill-rule=\"nonzero\" fill-opacity=\"1\" /><path clip-path=\"url(#clip650)\" d=\"M83.4225 575.776 L88.3067 575.776 L88.3067 581.656 L83.4225 581.656 L83.4225 575.776 Z\" fill=\"#000000\" fill-rule=\"nonzero\" fill-opacity=\"1\" /><path clip-path=\"url(#clip650)\" d=\"M109.071 562.513 Q105.922 562.513 104.071 564.665 Q102.242 566.818 102.242 570.568 Q102.242 574.295 104.071 576.471 Q105.922 578.624 109.071 578.624 Q112.219 578.624 114.047 576.471 Q115.899 574.295 115.899 570.568 Q115.899 566.818 114.047 564.665 Q112.219 562.513 109.071 562.513 M118.353 547.86 L118.353 552.119 Q116.594 551.286 114.788 550.846 Q113.006 550.406 111.246 550.406 Q106.617 550.406 104.163 553.531 Q101.733 556.656 101.385 562.976 Q102.751 560.962 104.811 559.897 Q106.871 558.809 109.348 558.809 Q114.557 558.809 117.566 561.98 Q120.598 565.128 120.598 570.568 Q120.598 575.892 117.45 579.11 Q114.302 582.327 109.071 582.327 Q103.075 582.327 99.9039 577.744 Q96.7326 573.138 96.7326 564.411 Q96.7326 556.216 100.621 551.355 Q104.51 546.471 111.061 546.471 Q112.82 546.471 114.603 546.818 Q116.408 547.166 118.353 547.86 Z\" fill=\"#000000\" fill-rule=\"nonzero\" fill-opacity=\"1\" /><path clip-path=\"url(#clip650)\" d=\"M63.5152 232.575 Q59.9041 232.575 58.0754 236.14 Q56.2699 239.681 56.2699 246.811 Q56.2699 253.917 58.0754 257.482 Q59.9041 261.024 63.5152 261.024 Q67.1494 261.024 68.955 257.482 Q70.7837 253.917 70.7837 246.811 Q70.7837 239.681 68.955 236.14 Q67.1494 232.575 63.5152 232.575 M63.5152 228.871 Q69.3254 228.871 72.3809 233.478 Q75.4596 238.061 75.4596 246.811 Q75.4596 255.538 72.3809 260.144 Q69.3254 264.728 63.5152 264.728 Q57.7051 264.728 54.6264 260.144 Q51.5708 255.538 51.5708 246.811 Q51.5708 238.061 54.6264 233.478 Q57.7051 228.871 63.5152 228.871 Z\" fill=\"#000000\" fill-rule=\"nonzero\" fill-opacity=\"1\" /><path clip-path=\"url(#clip650)\" d=\"M83.6771 258.177 L88.5614 258.177 L88.5614 264.056 L83.6771 264.056 L83.6771 258.177 Z\" fill=\"#000000\" fill-rule=\"nonzero\" fill-opacity=\"1\" /><path clip-path=\"url(#clip650)\" d=\"M108.746 247.644 Q105.413 247.644 103.492 249.427 Q101.594 251.209 101.594 254.334 Q101.594 257.459 103.492 259.241 Q105.413 261.024 108.746 261.024 Q112.08 261.024 114.001 259.241 Q115.922 257.436 115.922 254.334 Q115.922 251.209 114.001 249.427 Q112.103 247.644 108.746 247.644 M104.071 245.654 Q101.061 244.913 99.3715 242.853 Q97.7048 240.792 97.7048 237.829 Q97.7048 233.686 100.645 231.279 Q103.608 228.871 108.746 228.871 Q113.908 228.871 116.848 231.279 Q119.788 233.686 119.788 237.829 Q119.788 240.792 118.098 242.853 Q116.432 244.913 113.445 245.654 Q116.825 246.441 118.7 248.732 Q120.598 251.024 120.598 254.334 Q120.598 259.357 117.52 262.042 Q114.464 264.728 108.746 264.728 Q103.029 264.728 99.9502 262.042 Q96.8947 259.357 96.8947 254.334 Q96.8947 251.024 98.7928 248.732 Q100.691 246.441 104.071 245.654 M102.358 238.269 Q102.358 240.954 104.024 242.459 Q105.714 243.964 108.746 243.964 Q111.756 243.964 113.445 242.459 Q115.158 240.954 115.158 238.269 Q115.158 235.584 113.445 234.08 Q111.756 232.575 108.746 232.575 Q105.714 232.575 104.024 234.08 Q102.358 235.584 102.358 238.269 Z\" fill=\"#000000\" fill-rule=\"nonzero\" fill-opacity=\"1\" /><polyline clip-path=\"url(#clip652)\" style=\"stroke:#009af9; stroke-linecap:round; stroke-linejoin:round; stroke-width:4; stroke-opacity:1; fill:none\" points=\"218.754,87.9763 229.113,103.899 239.472,119.418 249.831,134.545 260.191,149.294 270.55,163.678 280.909,177.707 291.268,191.394 301.628,204.749 311.987,217.783 322.346,230.505 332.705,242.925 343.064,255.052 353.424,266.896 363.783,278.463 374.142,289.764 384.501,300.805 394.861,311.594 405.22,322.137 415.579,332.444 425.938,342.518 436.298,352.369 446.657,362 457.016,371.419 467.375,380.632 477.734,389.643 488.094,398.458 498.453,407.083 508.812,415.522 519.171,423.78 529.531,431.861 539.89,439.772 550.249,447.514 560.608,455.094 570.968,462.514 581.327,469.78 591.686,476.894 602.045,483.86 612.405,490.682 622.764,497.364 633.123,503.908 643.482,510.318 653.841,516.597 664.201,522.748 674.56,528.774 684.919,534.678 695.278,540.462 705.638,546.129 715.997,551.683 726.356,557.124 736.715,562.457 747.075,567.683 757.434,572.804 767.793,577.822 778.152,582.741 788.512,587.562 798.871,592.286 809.23,596.917 819.589,601.456 829.948,605.904 840.308,610.264 850.667,614.538 861.026,618.726 871.385,622.832 881.745,626.856 892.104,630.8 902.463,634.665 912.822,638.454 923.182,642.167 933.541,645.806 943.9,649.373 954.259,652.869 964.619,656.294 974.978,659.651 985.337,662.94 995.696,666.164 1006.06,669.322 1016.41,672.417 1026.77,675.449 1037.13,678.419 1047.49,681.329 1057.85,684.179 1068.21,686.971 1078.57,689.705 1088.93,692.383 1099.29,695.006 1109.65,697.573 1120.01,700.088 1130.37,702.549 1140.73,704.959 1151.08,707.317 1161.44,709.625 1171.8,711.884 1182.16,714.094 1192.52,716.256 1202.88,718.371 1213.24,720.44 1223.6,722.462 1233.96,724.44 1244.32,726.374 1254.68,728.264 1265.04,730.111 1275.4,731.915 1285.75,733.678 1296.11,735.4 1306.47,737.081 1316.83,738.722 1327.19,740.324 1337.55,741.888 1347.91,743.412 1358.27,744.9 1368.63,746.35 1378.99,747.763 1389.35,749.14 1399.71,750.482 1410.07,751.788 1420.42,753.06 1430.78,754.297 1441.14,755.501 1451.5,756.671 1461.86,757.809 1472.22,758.914 1482.58,759.987 1492.94,761.028 1503.3,762.038 1513.66,763.017 1524.02,763.966 1534.38,764.884 1544.74,765.773 1555.09,766.633 1565.45,767.463 1575.81,768.265 1586.17,769.039 1596.53,769.784 1606.89,770.502 1617.25,771.193 1627.61,771.857 1637.97,772.494 1648.33,773.105 1658.69,773.689 1669.05,774.248 1679.41,774.782 1689.76,775.29 1700.12,775.773 1710.48,776.232 1720.84,776.666 1731.2,777.077 1741.56,777.463 1751.92,777.826 1762.28,778.165 1772.64,778.482 1783,778.775 1793.36,779.047 1803.72,779.295 1814.08,779.522 1824.43,779.726 1834.79,779.909 1845.15,780.071 1855.51,780.211 1865.87,780.331 1876.23,780.429 1886.59,780.507 1896.95,780.564 1907.31,780.602 1917.67,780.619 1928.03,780.616 1938.39,780.594 1948.75,780.553 1959.11,780.492 1969.46,780.412 1979.82,780.313 1990.18,780.196 2000.54,780.059 2010.9,779.905 2021.26,779.732 2031.62,779.542 2041.98,779.333 2052.34,779.107 2062.7,778.863 2073.06,778.602 2083.42,778.323 2093.78,778.028 2104.13,777.715 2114.49,777.386 2124.85,777.04 2135.21,776.678 2145.57,776.299 2155.93,775.904 2166.29,775.493 2176.65,775.066 2187.01,774.623 2197.37,774.165 2207.73,773.691 2218.09,773.202 2228.45,772.697 2238.8,772.177 2249.16,771.642 2259.52,771.093 2269.88,770.528 2280.24,769.949 2290.6,769.355 \"/>\n",
       "<polyline clip-path=\"url(#clip652)\" style=\"stroke:#e26f46; stroke-linecap:round; stroke-linejoin:round; stroke-width:4; stroke-opacity:1; fill:none\" points=\"218.754,1324.37 229.113,1325.33 239.472,1326.29 249.831,1327.24 260.191,1328.18 270.55,1329.12 280.909,1330.06 291.268,1330.99 301.628,1331.92 311.987,1332.84 322.346,1333.75 332.705,1334.67 343.064,1335.58 353.424,1336.48 363.783,1337.38 374.142,1338.27 384.501,1339.16 394.861,1340.05 405.22,1340.93 415.579,1341.81 425.938,1342.68 436.298,1343.55 446.657,1344.41 457.016,1345.27 467.375,1346.13 477.734,1346.98 488.094,1347.82 498.453,1348.67 508.812,1349.5 519.171,1350.34 529.531,1351.17 539.89,1351.99 550.249,1352.82 560.608,1353.63 570.968,1354.45 581.327,1355.26 591.686,1356.06 602.045,1356.86 612.405,1357.66 622.764,1358.46 633.123,1359.24 643.482,1360.03 653.841,1360.81 664.201,1361.59 674.56,1362.36 684.919,1363.13 695.278,1363.9 705.638,1364.66 715.997,1365.42 726.356,1366.18 736.715,1366.93 747.075,1367.68 757.434,1368.42 767.793,1369.16 778.152,1369.9 788.512,1370.63 798.871,1371.36 809.23,1372.08 819.589,1372.81 829.948,1373.52 840.308,1374.24 850.667,1374.95 861.026,1375.66 871.385,1376.36 881.745,1377.06 892.104,1377.76 902.463,1378.45 912.822,1379.14 923.182,1379.83 933.541,1380.51 943.9,1381.19 954.259,1381.87 964.619,1382.54 974.978,1383.21 985.337,1383.88 995.696,1384.54 1006.06,1385.2 1016.41,1385.86 1026.77,1386.51 1037.13,1387.16 1047.49,1387.81 1057.85,1388.45 1068.21,1389.09 1078.57,1389.73 1088.93,1390.36 1099.29,1390.99 1109.65,1391.62 1120.01,1392.25 1130.37,1392.87 1140.73,1393.49 1151.08,1394.1 1161.44,1394.71 1171.8,1395.32 1182.16,1395.93 1192.52,1396.53 1202.88,1397.13 1213.24,1397.73 1223.6,1398.33 1233.96,1398.92 1244.32,1399.5 1254.68,1400.09 1265.04,1400.67 1275.4,1401.25 1285.75,1401.83 1296.11,1402.4 1306.47,1402.97 1316.83,1403.54 1327.19,1404.11 1337.55,1404.67 1347.91,1405.23 1358.27,1405.79 1368.63,1406.34 1378.99,1406.89 1389.35,1407.44 1399.71,1407.99 1410.07,1408.53 1420.42,1409.07 1430.78,1409.61 1441.14,1410.14 1451.5,1410.68 1461.86,1411.21 1472.22,1411.73 1482.58,1412.26 1492.94,1412.78 1503.3,1413.3 1513.66,1413.82 1524.02,1414.33 1534.38,1414.84 1544.74,1415.35 1555.09,1415.86 1565.45,1416.36 1575.81,1416.86 1586.17,1417.36 1596.53,1417.86 1606.89,1418.35 1617.25,1418.84 1627.61,1419.33 1637.97,1419.82 1648.33,1420.3 1658.69,1420.79 1669.05,1421.27 1679.41,1421.74 1689.76,1422.22 1700.12,1422.69 1710.48,1423.16 1720.84,1423.63 1731.2,1424.09 1741.56,1424.56 1751.92,1425.02 1762.28,1425.48 1772.64,1425.93 1783,1426.39 1793.36,1426.84 1803.72,1427.29 1814.08,1427.73 1824.43,1428.18 1834.79,1428.62 1845.15,1429.06 1855.51,1429.5 1865.87,1429.94 1876.23,1430.37 1886.59,1430.8 1896.95,1431.23 1907.31,1431.66 1917.67,1432.09 1928.03,1432.51 1938.39,1432.93 1948.75,1433.35 1959.11,1433.77 1969.46,1434.18 1979.82,1434.59 1990.18,1435.01 2000.54,1435.41 2010.9,1435.82 2021.26,1436.23 2031.62,1436.63 2041.98,1437.03 2052.34,1437.43 2062.7,1437.83 2073.06,1438.22 2083.42,1438.61 2093.78,1439 2104.13,1439.39 2114.49,1439.78 2124.85,1440.16 2135.21,1440.55 2145.57,1440.93 2155.93,1441.31 2166.29,1441.69 2176.65,1442.06 2187.01,1442.43 2197.37,1442.81 2207.73,1443.18 2218.09,1443.54 2228.45,1443.91 2238.8,1444.28 2249.16,1444.64 2259.52,1445 2269.88,1445.36 2280.24,1445.72 \"/>\n",
       "<path clip-path=\"url(#clip650)\" d=\"M1981.74 250.738 L2279.55 250.738 L2279.55 95.2176 L1981.74 95.2176  Z\" fill=\"#ffffff\" fill-rule=\"evenodd\" fill-opacity=\"1\"/>\n",
       "<polyline clip-path=\"url(#clip650)\" style=\"stroke:#000000; stroke-linecap:round; stroke-linejoin:round; stroke-width:4; stroke-opacity:1; fill:none\" points=\"1981.74,250.738 2279.55,250.738 2279.55,95.2176 1981.74,95.2176 1981.74,250.738 \"/>\n",
       "<polyline clip-path=\"url(#clip650)\" style=\"stroke:#009af9; stroke-linecap:round; stroke-linejoin:round; stroke-width:4; stroke-opacity:1; fill:none\" points=\"2006.14,147.058 2152.55,147.058 \"/>\n",
       "<path clip-path=\"url(#clip650)\" d=\"M2201.61 138.412 L2192.23 151.027 L2202.09 164.338 L2197.07 164.338 L2189.52 154.152 L2181.98 164.338 L2176.95 164.338 L2187.02 150.773 L2177.81 138.412 L2182.83 138.412 L2189.71 147.648 L2196.58 138.412 L2201.61 138.412 Z\" fill=\"#000000\" fill-rule=\"nonzero\" fill-opacity=\"1\" /><path clip-path=\"url(#clip650)\" d=\"M2218.34 128.366 Q2215.24 133.69 2213.74 138.898 Q2212.23 144.106 2212.23 149.453 Q2212.23 154.801 2213.74 160.055 Q2215.26 165.287 2218.34 170.588 L2214.64 170.588 Q2211.17 165.148 2209.43 159.893 Q2207.72 154.639 2207.72 149.453 Q2207.72 144.291 2209.43 139.06 Q2211.14 133.828 2214.64 128.366 L2218.34 128.366 Z\" fill=\"#000000\" fill-rule=\"nonzero\" fill-opacity=\"1\" /><path clip-path=\"url(#clip650)\" d=\"M2230.82 131.051 L2230.82 138.412 L2239.59 138.412 L2239.59 141.722 L2230.82 141.722 L2230.82 155.796 Q2230.82 158.967 2231.68 159.87 Q2232.56 160.773 2235.22 160.773 L2239.59 160.773 L2239.59 164.338 L2235.22 164.338 Q2230.29 164.338 2228.41 162.509 Q2226.54 160.657 2226.54 155.796 L2226.54 141.722 L2223.41 141.722 L2223.41 138.412 L2226.54 138.412 L2226.54 131.051 L2230.82 131.051 Z\" fill=\"#000000\" fill-rule=\"nonzero\" fill-opacity=\"1\" /><path clip-path=\"url(#clip650)\" d=\"M2244.52 128.366 L2248.23 128.366 Q2251.7 133.828 2253.41 139.06 Q2255.15 144.291 2255.15 149.453 Q2255.15 154.639 2253.41 159.893 Q2251.7 165.148 2248.23 170.588 L2244.52 170.588 Q2247.6 165.287 2249.11 160.055 Q2250.64 154.801 2250.64 149.453 Q2250.64 144.106 2249.11 138.898 Q2247.6 133.69 2244.52 128.366 Z\" fill=\"#000000\" fill-rule=\"nonzero\" fill-opacity=\"1\" /><polyline clip-path=\"url(#clip650)\" style=\"stroke:#e26f46; stroke-linecap:round; stroke-linejoin:round; stroke-width:4; stroke-opacity:1; fill:none\" points=\"2006.14,198.898 2152.55,198.898 \"/>\n",
       "<path clip-path=\"url(#clip650)\" d=\"M2176.95 205.946 L2176.95 190.252 L2181.21 190.252 L2181.21 205.784 Q2181.21 209.465 2182.65 211.316 Q2184.08 213.145 2186.95 213.145 Q2190.4 213.145 2192.39 210.946 Q2194.41 208.747 2194.41 204.951 L2194.41 190.252 L2198.67 190.252 L2198.67 216.178 L2194.41 216.178 L2194.41 212.196 Q2192.86 214.557 2190.8 215.715 Q2188.76 216.849 2186.05 216.849 Q2181.58 216.849 2179.27 214.071 Q2176.95 211.293 2176.95 205.946 M2187.67 189.627 L2187.67 189.627 Z\" fill=\"#000000\" fill-rule=\"nonzero\" fill-opacity=\"1\" /><path clip-path=\"url(#clip650)\" d=\"M2217.67 180.206 Q2214.57 185.53 2213.07 190.738 Q2211.56 195.946 2211.56 201.293 Q2211.56 206.641 2213.07 211.895 Q2214.59 217.127 2217.67 222.428 L2213.97 222.428 Q2210.5 216.988 2208.76 211.733 Q2207.05 206.479 2207.05 201.293 Q2207.05 196.131 2208.76 190.9 Q2210.47 185.668 2213.97 180.206 L2217.67 180.206 Z\" fill=\"#000000\" fill-rule=\"nonzero\" fill-opacity=\"1\" /><path clip-path=\"url(#clip650)\" d=\"M2230.15 182.891 L2230.15 190.252 L2238.92 190.252 L2238.92 193.562 L2230.15 193.562 L2230.15 207.636 Q2230.15 210.807 2231.01 211.71 Q2231.89 212.613 2234.55 212.613 L2238.92 212.613 L2238.92 216.178 L2234.55 216.178 Q2229.62 216.178 2227.74 214.349 Q2225.87 212.497 2225.87 207.636 L2225.87 193.562 L2222.74 193.562 L2222.74 190.252 L2225.87 190.252 L2225.87 182.891 L2230.15 182.891 Z\" fill=\"#000000\" fill-rule=\"nonzero\" fill-opacity=\"1\" /><path clip-path=\"url(#clip650)\" d=\"M2243.85 180.206 L2247.56 180.206 Q2251.03 185.668 2252.74 190.9 Q2254.48 196.131 2254.48 201.293 Q2254.48 206.479 2252.74 211.733 Q2251.03 216.988 2247.56 222.428 L2243.85 222.428 Q2246.93 217.127 2248.44 211.895 Q2249.96 206.641 2249.96 201.293 Q2249.96 195.946 2248.44 190.738 Q2246.93 185.53 2243.85 180.206 Z\" fill=\"#000000\" fill-rule=\"nonzero\" fill-opacity=\"1\" /></svg>\n"
      ],
      "text/html": [
       "<?xml version=\"1.0\" encoding=\"utf-8\"?>\n",
       "<svg xmlns=\"http://www.w3.org/2000/svg\" xmlns:xlink=\"http://www.w3.org/1999/xlink\" width=\"600\" height=\"400\" viewBox=\"0 0 2400 1600\">\n",
       "<defs>\n",
       "  <clipPath id=\"clip700\">\n",
       "    <rect x=\"0\" y=\"0\" width=\"2400\" height=\"1600\"/>\n",
       "  </clipPath>\n",
       "</defs>\n",
       "<path clip-path=\"url(#clip700)\" d=\"M0 1600 L2400 1600 L2400 8.88178e-14 L0 8.88178e-14  Z\" fill=\"#ffffff\" fill-rule=\"evenodd\" fill-opacity=\"1\"/>\n",
       "<defs>\n",
       "  <clipPath id=\"clip701\">\n",
       "    <rect x=\"480\" y=\"0\" width=\"1681\" height=\"1600\"/>\n",
       "  </clipPath>\n",
       "</defs>\n",
       "<path clip-path=\"url(#clip700)\" d=\"M156.598 1486.45 L2352.76 1486.45 L2352.76 47.2441 L156.598 47.2441  Z\" fill=\"#ffffff\" fill-rule=\"evenodd\" fill-opacity=\"1\"/>\n",
       "<defs>\n",
       "  <clipPath id=\"clip702\">\n",
       "    <rect x=\"156\" y=\"47\" width=\"2197\" height=\"1440\"/>\n",
       "  </clipPath>\n",
       "</defs>\n",
       "<polyline clip-path=\"url(#clip702)\" style=\"stroke:#000000; stroke-linecap:round; stroke-linejoin:round; stroke-width:2; stroke-opacity:0.1; fill:none\" points=\"218.754,1486.45 218.754,47.2441 \"/>\n",
       "<polyline clip-path=\"url(#clip702)\" style=\"stroke:#000000; stroke-linecap:round; stroke-linejoin:round; stroke-width:2; stroke-opacity:0.1; fill:none\" points=\"736.715,1486.45 736.715,47.2441 \"/>\n",
       "<polyline clip-path=\"url(#clip702)\" style=\"stroke:#000000; stroke-linecap:round; stroke-linejoin:round; stroke-width:2; stroke-opacity:0.1; fill:none\" points=\"1254.68,1486.45 1254.68,47.2441 \"/>\n",
       "<polyline clip-path=\"url(#clip702)\" style=\"stroke:#000000; stroke-linecap:round; stroke-linejoin:round; stroke-width:2; stroke-opacity:0.1; fill:none\" points=\"1772.64,1486.45 1772.64,47.2441 \"/>\n",
       "<polyline clip-path=\"url(#clip702)\" style=\"stroke:#000000; stroke-linecap:round; stroke-linejoin:round; stroke-width:2; stroke-opacity:0.1; fill:none\" points=\"2290.6,1486.45 2290.6,47.2441 \"/>\n",
       "<polyline clip-path=\"url(#clip700)\" style=\"stroke:#000000; stroke-linecap:round; stroke-linejoin:round; stroke-width:4; stroke-opacity:1; fill:none\" points=\"156.598,1486.45 2352.76,1486.45 \"/>\n",
       "<polyline clip-path=\"url(#clip700)\" style=\"stroke:#000000; stroke-linecap:round; stroke-linejoin:round; stroke-width:4; stroke-opacity:1; fill:none\" points=\"218.754,1486.45 218.754,1467.55 \"/>\n",
       "<polyline clip-path=\"url(#clip700)\" style=\"stroke:#000000; stroke-linecap:round; stroke-linejoin:round; stroke-width:4; stroke-opacity:1; fill:none\" points=\"736.715,1486.45 736.715,1467.55 \"/>\n",
       "<polyline clip-path=\"url(#clip700)\" style=\"stroke:#000000; stroke-linecap:round; stroke-linejoin:round; stroke-width:4; stroke-opacity:1; fill:none\" points=\"1254.68,1486.45 1254.68,1467.55 \"/>\n",
       "<polyline clip-path=\"url(#clip700)\" style=\"stroke:#000000; stroke-linecap:round; stroke-linejoin:round; stroke-width:4; stroke-opacity:1; fill:none\" points=\"1772.64,1486.45 1772.64,1467.55 \"/>\n",
       "<polyline clip-path=\"url(#clip700)\" style=\"stroke:#000000; stroke-linecap:round; stroke-linejoin:round; stroke-width:4; stroke-opacity:1; fill:none\" points=\"2290.6,1486.45 2290.6,1467.55 \"/>\n",
       "<path clip-path=\"url(#clip700)\" d=\"M218.754 1517.37 Q215.143 1517.37 213.314 1520.93 Q211.508 1524.47 211.508 1531.6 Q211.508 1538.71 213.314 1542.27 Q215.143 1545.82 218.754 1545.82 Q222.388 1545.82 224.193 1542.27 Q226.022 1538.71 226.022 1531.6 Q226.022 1524.47 224.193 1520.93 Q222.388 1517.37 218.754 1517.37 M218.754 1513.66 Q224.564 1513.66 227.619 1518.27 Q230.698 1522.85 230.698 1531.6 Q230.698 1540.33 227.619 1544.94 Q224.564 1549.52 218.754 1549.52 Q212.943 1549.52 209.865 1544.94 Q206.809 1540.33 206.809 1531.6 Q206.809 1522.85 209.865 1518.27 Q212.943 1513.66 218.754 1513.66 Z\" fill=\"#000000\" fill-rule=\"nonzero\" fill-opacity=\"1\" /><path clip-path=\"url(#clip700)\" d=\"M726.993 1514.29 L745.35 1514.29 L745.35 1518.22 L731.276 1518.22 L731.276 1526.7 Q732.294 1526.35 733.313 1526.19 Q734.331 1526 735.35 1526 Q741.137 1526 744.516 1529.17 Q747.896 1532.34 747.896 1537.76 Q747.896 1543.34 744.424 1546.44 Q740.951 1549.52 734.632 1549.52 Q732.456 1549.52 730.188 1549.15 Q727.942 1548.78 725.535 1548.04 L725.535 1543.34 Q727.618 1544.47 729.84 1545.03 Q732.063 1545.58 734.539 1545.58 Q738.544 1545.58 740.882 1543.48 Q743.22 1541.37 743.22 1537.76 Q743.22 1534.15 740.882 1532.04 Q738.544 1529.94 734.539 1529.94 Q732.664 1529.94 730.789 1530.35 Q728.938 1530.77 726.993 1531.65 L726.993 1514.29 Z\" fill=\"#000000\" fill-rule=\"nonzero\" fill-opacity=\"1\" /><path clip-path=\"url(#clip700)\" d=\"M1229.36 1544.91 L1237 1544.91 L1237 1518.55 L1228.69 1520.21 L1228.69 1515.95 L1236.96 1514.29 L1241.63 1514.29 L1241.63 1544.91 L1249.27 1544.91 L1249.27 1548.85 L1229.36 1548.85 L1229.36 1544.91 Z\" fill=\"#000000\" fill-rule=\"nonzero\" fill-opacity=\"1\" /><path clip-path=\"url(#clip700)\" d=\"M1268.72 1517.37 Q1265.11 1517.37 1263.28 1520.93 Q1261.47 1524.47 1261.47 1531.6 Q1261.47 1538.71 1263.28 1542.27 Q1265.11 1545.82 1268.72 1545.82 Q1272.35 1545.82 1274.16 1542.27 Q1275.98 1538.71 1275.98 1531.6 Q1275.98 1524.47 1274.16 1520.93 Q1272.35 1517.37 1268.72 1517.37 M1268.72 1513.66 Q1274.53 1513.66 1277.58 1518.27 Q1280.66 1522.85 1280.66 1531.6 Q1280.66 1540.33 1277.58 1544.94 Q1274.53 1549.52 1268.72 1549.52 Q1262.91 1549.52 1259.83 1544.94 Q1256.77 1540.33 1256.77 1531.6 Q1256.77 1522.85 1259.83 1518.27 Q1262.91 1513.66 1268.72 1513.66 Z\" fill=\"#000000\" fill-rule=\"nonzero\" fill-opacity=\"1\" /><path clip-path=\"url(#clip700)\" d=\"M1747.82 1544.91 L1755.46 1544.91 L1755.46 1518.55 L1747.15 1520.21 L1747.15 1515.95 L1755.42 1514.29 L1760.09 1514.29 L1760.09 1544.91 L1767.73 1544.91 L1767.73 1548.85 L1747.82 1548.85 L1747.82 1544.91 Z\" fill=\"#000000\" fill-rule=\"nonzero\" fill-opacity=\"1\" /><path clip-path=\"url(#clip700)\" d=\"M1777.22 1514.29 L1795.58 1514.29 L1795.58 1518.22 L1781.5 1518.22 L1781.5 1526.7 Q1782.52 1526.35 1783.54 1526.19 Q1784.56 1526 1785.58 1526 Q1791.37 1526 1794.75 1529.17 Q1798.12 1532.34 1798.12 1537.76 Q1798.12 1543.34 1794.65 1546.44 Q1791.18 1549.52 1784.86 1549.52 Q1782.69 1549.52 1780.42 1549.15 Q1778.17 1548.78 1775.76 1548.04 L1775.76 1543.34 Q1777.85 1544.47 1780.07 1545.03 Q1782.29 1545.58 1784.77 1545.58 Q1788.77 1545.58 1791.11 1543.48 Q1793.45 1541.37 1793.45 1537.76 Q1793.45 1534.15 1791.11 1532.04 Q1788.77 1529.94 1784.77 1529.94 Q1782.89 1529.94 1781.02 1530.35 Q1779.17 1530.77 1777.22 1531.65 L1777.22 1514.29 Z\" fill=\"#000000\" fill-rule=\"nonzero\" fill-opacity=\"1\" /><path clip-path=\"url(#clip700)\" d=\"M2269.37 1544.91 L2285.69 1544.91 L2285.69 1548.85 L2263.75 1548.85 L2263.75 1544.91 Q2266.41 1542.16 2270.99 1537.53 Q2275.6 1532.88 2276.78 1531.53 Q2279.03 1529.01 2279.91 1527.27 Q2280.81 1525.51 2280.81 1523.82 Q2280.81 1521.07 2278.86 1519.33 Q2276.94 1517.6 2273.84 1517.6 Q2271.64 1517.6 2269.19 1518.36 Q2266.76 1519.13 2263.98 1520.68 L2263.98 1515.95 Q2266.8 1514.82 2269.26 1514.24 Q2271.71 1513.66 2273.75 1513.66 Q2279.12 1513.66 2282.31 1516.35 Q2285.51 1519.03 2285.51 1523.52 Q2285.51 1525.65 2284.7 1527.57 Q2283.91 1529.47 2281.8 1532.07 Q2281.23 1532.74 2278.12 1535.95 Q2275.02 1539.15 2269.37 1544.91 Z\" fill=\"#000000\" fill-rule=\"nonzero\" fill-opacity=\"1\" /><path clip-path=\"url(#clip700)\" d=\"M2305.51 1517.37 Q2301.9 1517.37 2300.07 1520.93 Q2298.26 1524.47 2298.26 1531.6 Q2298.26 1538.71 2300.07 1542.27 Q2301.9 1545.82 2305.51 1545.82 Q2309.14 1545.82 2310.95 1542.27 Q2312.78 1538.71 2312.78 1531.6 Q2312.78 1524.47 2310.95 1520.93 Q2309.14 1517.37 2305.51 1517.37 M2305.51 1513.66 Q2311.32 1513.66 2314.37 1518.27 Q2317.45 1522.85 2317.45 1531.6 Q2317.45 1540.33 2314.37 1544.94 Q2311.32 1549.52 2305.51 1549.52 Q2299.7 1549.52 2296.62 1544.94 Q2293.56 1540.33 2293.56 1531.6 Q2293.56 1522.85 2296.62 1518.27 Q2299.7 1513.66 2305.51 1513.66 Z\" fill=\"#000000\" fill-rule=\"nonzero\" fill-opacity=\"1\" /><polyline clip-path=\"url(#clip702)\" style=\"stroke:#000000; stroke-linecap:round; stroke-linejoin:round; stroke-width:2; stroke-opacity:0.1; fill:none\" points=\"156.598,1199.58 2352.76,1199.58 \"/>\n",
       "<polyline clip-path=\"url(#clip702)\" style=\"stroke:#000000; stroke-linecap:round; stroke-linejoin:round; stroke-width:2; stroke-opacity:0.1; fill:none\" points=\"156.598,881.976 2352.76,881.976 \"/>\n",
       "<polyline clip-path=\"url(#clip702)\" style=\"stroke:#000000; stroke-linecap:round; stroke-linejoin:round; stroke-width:2; stroke-opacity:0.1; fill:none\" points=\"156.598,564.376 2352.76,564.376 \"/>\n",
       "<polyline clip-path=\"url(#clip702)\" style=\"stroke:#000000; stroke-linecap:round; stroke-linejoin:round; stroke-width:2; stroke-opacity:0.1; fill:none\" points=\"156.598,246.776 2352.76,246.776 \"/>\n",
       "<polyline clip-path=\"url(#clip700)\" style=\"stroke:#000000; stroke-linecap:round; stroke-linejoin:round; stroke-width:4; stroke-opacity:1; fill:none\" points=\"156.598,1486.45 156.598,47.2441 \"/>\n",
       "<polyline clip-path=\"url(#clip700)\" style=\"stroke:#000000; stroke-linecap:round; stroke-linejoin:round; stroke-width:4; stroke-opacity:1; fill:none\" points=\"156.598,1199.58 175.496,1199.58 \"/>\n",
       "<polyline clip-path=\"url(#clip700)\" style=\"stroke:#000000; stroke-linecap:round; stroke-linejoin:round; stroke-width:4; stroke-opacity:1; fill:none\" points=\"156.598,881.976 175.496,881.976 \"/>\n",
       "<polyline clip-path=\"url(#clip700)\" style=\"stroke:#000000; stroke-linecap:round; stroke-linejoin:round; stroke-width:4; stroke-opacity:1; fill:none\" points=\"156.598,564.376 175.496,564.376 \"/>\n",
       "<polyline clip-path=\"url(#clip700)\" style=\"stroke:#000000; stroke-linecap:round; stroke-linejoin:round; stroke-width:4; stroke-opacity:1; fill:none\" points=\"156.598,246.776 175.496,246.776 \"/>\n",
       "<path clip-path=\"url(#clip700)\" d=\"M65.0198 1185.37 Q61.4087 1185.37 59.58 1188.94 Q57.7745 1192.48 57.7745 1199.61 Q57.7745 1206.72 59.58 1210.28 Q61.4087 1213.82 65.0198 1213.82 Q68.6541 1213.82 70.4596 1210.28 Q72.2883 1206.72 72.2883 1199.61 Q72.2883 1192.48 70.4596 1188.94 Q68.6541 1185.37 65.0198 1185.37 M65.0198 1181.67 Q70.83 1181.67 73.8855 1186.28 Q76.9642 1190.86 76.9642 1199.61 Q76.9642 1208.34 73.8855 1212.94 Q70.83 1217.53 65.0198 1217.53 Q59.2097 1217.53 56.131 1212.94 Q53.0754 1208.34 53.0754 1199.61 Q53.0754 1190.86 56.131 1186.28 Q59.2097 1181.67 65.0198 1181.67 Z\" fill=\"#000000\" fill-rule=\"nonzero\" fill-opacity=\"1\" /><path clip-path=\"url(#clip700)\" d=\"M85.1818 1210.98 L90.066 1210.98 L90.066 1216.86 L85.1818 1216.86 L85.1818 1210.98 Z\" fill=\"#000000\" fill-rule=\"nonzero\" fill-opacity=\"1\" /><path clip-path=\"url(#clip700)\" d=\"M104.279 1212.92 L120.598 1212.92 L120.598 1216.86 L98.6539 1216.86 L98.6539 1212.92 Q101.316 1210.17 105.899 1205.54 Q110.506 1200.88 111.686 1199.54 Q113.932 1197.02 114.811 1195.28 Q115.714 1193.52 115.714 1191.83 Q115.714 1189.08 113.77 1187.34 Q111.848 1185.61 108.746 1185.61 Q106.547 1185.61 104.094 1186.37 Q101.663 1187.13 98.8854 1188.68 L98.8854 1183.96 Q101.709 1182.83 104.163 1182.25 Q106.617 1181.67 108.654 1181.67 Q114.024 1181.67 117.219 1184.36 Q120.413 1187.04 120.413 1191.53 Q120.413 1193.66 119.603 1195.58 Q118.816 1197.48 116.709 1200.07 Q116.131 1200.74 113.029 1203.96 Q109.927 1207.16 104.279 1212.92 Z\" fill=\"#000000\" fill-rule=\"nonzero\" fill-opacity=\"1\" /><path clip-path=\"url(#clip700)\" d=\"M62.9365 867.775 Q59.3254 867.775 57.4967 871.339 Q55.6912 874.881 55.6912 882.011 Q55.6912 889.117 57.4967 892.682 Q59.3254 896.224 62.9365 896.224 Q66.5707 896.224 68.3763 892.682 Q70.205 889.117 70.205 882.011 Q70.205 874.881 68.3763 871.339 Q66.5707 867.775 62.9365 867.775 M62.9365 864.071 Q68.7467 864.071 71.8022 868.677 Q74.8809 873.261 74.8809 882.011 Q74.8809 890.737 71.8022 895.344 Q68.7467 899.927 62.9365 899.927 Q57.1264 899.927 54.0477 895.344 Q50.9921 890.737 50.9921 882.011 Q50.9921 873.261 54.0477 868.677 Q57.1264 864.071 62.9365 864.071 Z\" fill=\"#000000\" fill-rule=\"nonzero\" fill-opacity=\"1\" /><path clip-path=\"url(#clip700)\" d=\"M83.0984 893.376 L87.9827 893.376 L87.9827 899.256 L83.0984 899.256 L83.0984 893.376 Z\" fill=\"#000000\" fill-rule=\"nonzero\" fill-opacity=\"1\" /><path clip-path=\"url(#clip700)\" d=\"M111.015 868.77 L99.2095 887.219 L111.015 887.219 L111.015 868.77 M109.788 864.696 L115.668 864.696 L115.668 887.219 L120.598 887.219 L120.598 891.108 L115.668 891.108 L115.668 899.256 L111.015 899.256 L111.015 891.108 L95.4132 891.108 L95.4132 886.594 L109.788 864.696 Z\" fill=\"#000000\" fill-rule=\"nonzero\" fill-opacity=\"1\" /><path clip-path=\"url(#clip700)\" d=\"M63.2606 550.175 Q59.6495 550.175 57.8208 553.74 Q56.0152 557.281 56.0152 564.411 Q56.0152 571.517 57.8208 575.082 Q59.6495 578.624 63.2606 578.624 Q66.8948 578.624 68.7004 575.082 Q70.5291 571.517 70.5291 564.411 Q70.5291 557.281 68.7004 553.74 Q66.8948 550.175 63.2606 550.175 M63.2606 546.471 Q69.0707 546.471 72.1263 551.078 Q75.205 555.661 75.205 564.411 Q75.205 573.138 72.1263 577.744 Q69.0707 582.327 63.2606 582.327 Q57.4504 582.327 54.3717 577.744 Q51.3162 573.138 51.3162 564.411 Q51.3162 555.661 54.3717 551.078 Q57.4504 546.471 63.2606 546.471 Z\" fill=\"#000000\" fill-rule=\"nonzero\" fill-opacity=\"1\" /><path clip-path=\"url(#clip700)\" d=\"M83.4225 575.776 L88.3067 575.776 L88.3067 581.656 L83.4225 581.656 L83.4225 575.776 Z\" fill=\"#000000\" fill-rule=\"nonzero\" fill-opacity=\"1\" /><path clip-path=\"url(#clip700)\" d=\"M109.071 562.513 Q105.922 562.513 104.071 564.665 Q102.242 566.818 102.242 570.568 Q102.242 574.295 104.071 576.471 Q105.922 578.624 109.071 578.624 Q112.219 578.624 114.047 576.471 Q115.899 574.295 115.899 570.568 Q115.899 566.818 114.047 564.665 Q112.219 562.513 109.071 562.513 M118.353 547.86 L118.353 552.119 Q116.594 551.286 114.788 550.846 Q113.006 550.406 111.246 550.406 Q106.617 550.406 104.163 553.531 Q101.733 556.656 101.385 562.976 Q102.751 560.962 104.811 559.897 Q106.871 558.809 109.348 558.809 Q114.557 558.809 117.566 561.98 Q120.598 565.128 120.598 570.568 Q120.598 575.892 117.45 579.11 Q114.302 582.327 109.071 582.327 Q103.075 582.327 99.9039 577.744 Q96.7326 573.138 96.7326 564.411 Q96.7326 556.216 100.621 551.355 Q104.51 546.471 111.061 546.471 Q112.82 546.471 114.603 546.818 Q116.408 547.166 118.353 547.86 Z\" fill=\"#000000\" fill-rule=\"nonzero\" fill-opacity=\"1\" /><path clip-path=\"url(#clip700)\" d=\"M63.5152 232.575 Q59.9041 232.575 58.0754 236.14 Q56.2699 239.681 56.2699 246.811 Q56.2699 253.917 58.0754 257.482 Q59.9041 261.024 63.5152 261.024 Q67.1494 261.024 68.955 257.482 Q70.7837 253.917 70.7837 246.811 Q70.7837 239.681 68.955 236.14 Q67.1494 232.575 63.5152 232.575 M63.5152 228.871 Q69.3254 228.871 72.3809 233.478 Q75.4596 238.061 75.4596 246.811 Q75.4596 255.538 72.3809 260.144 Q69.3254 264.728 63.5152 264.728 Q57.7051 264.728 54.6264 260.144 Q51.5708 255.538 51.5708 246.811 Q51.5708 238.061 54.6264 233.478 Q57.7051 228.871 63.5152 228.871 Z\" fill=\"#000000\" fill-rule=\"nonzero\" fill-opacity=\"1\" /><path clip-path=\"url(#clip700)\" d=\"M83.6771 258.177 L88.5614 258.177 L88.5614 264.056 L83.6771 264.056 L83.6771 258.177 Z\" fill=\"#000000\" fill-rule=\"nonzero\" fill-opacity=\"1\" /><path clip-path=\"url(#clip700)\" d=\"M108.746 247.644 Q105.413 247.644 103.492 249.427 Q101.594 251.209 101.594 254.334 Q101.594 257.459 103.492 259.241 Q105.413 261.024 108.746 261.024 Q112.08 261.024 114.001 259.241 Q115.922 257.436 115.922 254.334 Q115.922 251.209 114.001 249.427 Q112.103 247.644 108.746 247.644 M104.071 245.654 Q101.061 244.913 99.3715 242.853 Q97.7048 240.792 97.7048 237.829 Q97.7048 233.686 100.645 231.279 Q103.608 228.871 108.746 228.871 Q113.908 228.871 116.848 231.279 Q119.788 233.686 119.788 237.829 Q119.788 240.792 118.098 242.853 Q116.432 244.913 113.445 245.654 Q116.825 246.441 118.7 248.732 Q120.598 251.024 120.598 254.334 Q120.598 259.357 117.52 262.042 Q114.464 264.728 108.746 264.728 Q103.029 264.728 99.9502 262.042 Q96.8947 259.357 96.8947 254.334 Q96.8947 251.024 98.7928 248.732 Q100.691 246.441 104.071 245.654 M102.358 238.269 Q102.358 240.954 104.024 242.459 Q105.714 243.964 108.746 243.964 Q111.756 243.964 113.445 242.459 Q115.158 240.954 115.158 238.269 Q115.158 235.584 113.445 234.08 Q111.756 232.575 108.746 232.575 Q105.714 232.575 104.024 234.08 Q102.358 235.584 102.358 238.269 Z\" fill=\"#000000\" fill-rule=\"nonzero\" fill-opacity=\"1\" /><polyline clip-path=\"url(#clip702)\" style=\"stroke:#009af9; stroke-linecap:round; stroke-linejoin:round; stroke-width:4; stroke-opacity:1; fill:none\" points=\"218.754,87.9763 229.113,103.899 239.472,119.418 249.831,134.545 260.191,149.294 270.55,163.678 280.909,177.707 291.268,191.394 301.628,204.749 311.987,217.783 322.346,230.505 332.705,242.925 343.064,255.052 353.424,266.896 363.783,278.463 374.142,289.764 384.501,300.805 394.861,311.594 405.22,322.137 415.579,332.444 425.938,342.518 436.298,352.369 446.657,362 457.016,371.419 467.375,380.632 477.734,389.643 488.094,398.458 498.453,407.083 508.812,415.522 519.171,423.78 529.531,431.861 539.89,439.772 550.249,447.514 560.608,455.094 570.968,462.514 581.327,469.78 591.686,476.894 602.045,483.86 612.405,490.682 622.764,497.364 633.123,503.908 643.482,510.318 653.841,516.597 664.201,522.748 674.56,528.774 684.919,534.678 695.278,540.462 705.638,546.129 715.997,551.683 726.356,557.124 736.715,562.457 747.075,567.683 757.434,572.804 767.793,577.822 778.152,582.741 788.512,587.562 798.871,592.286 809.23,596.917 819.589,601.456 829.948,605.904 840.308,610.264 850.667,614.538 861.026,618.726 871.385,622.832 881.745,626.856 892.104,630.8 902.463,634.665 912.822,638.454 923.182,642.167 933.541,645.806 943.9,649.373 954.259,652.869 964.619,656.294 974.978,659.651 985.337,662.94 995.696,666.164 1006.06,669.322 1016.41,672.417 1026.77,675.449 1037.13,678.419 1047.49,681.329 1057.85,684.179 1068.21,686.971 1078.57,689.705 1088.93,692.383 1099.29,695.006 1109.65,697.573 1120.01,700.088 1130.37,702.549 1140.73,704.959 1151.08,707.317 1161.44,709.625 1171.8,711.884 1182.16,714.094 1192.52,716.256 1202.88,718.371 1213.24,720.44 1223.6,722.462 1233.96,724.44 1244.32,726.374 1254.68,728.264 1265.04,730.111 1275.4,731.915 1285.75,733.678 1296.11,735.4 1306.47,737.081 1316.83,738.722 1327.19,740.324 1337.55,741.888 1347.91,743.412 1358.27,744.9 1368.63,746.35 1378.99,747.763 1389.35,749.14 1399.71,750.482 1410.07,751.788 1420.42,753.06 1430.78,754.297 1441.14,755.501 1451.5,756.671 1461.86,757.809 1472.22,758.914 1482.58,759.987 1492.94,761.028 1503.3,762.038 1513.66,763.017 1524.02,763.966 1534.38,764.884 1544.74,765.773 1555.09,766.633 1565.45,767.463 1575.81,768.265 1586.17,769.039 1596.53,769.784 1606.89,770.502 1617.25,771.193 1627.61,771.857 1637.97,772.494 1648.33,773.105 1658.69,773.689 1669.05,774.248 1679.41,774.782 1689.76,775.29 1700.12,775.773 1710.48,776.232 1720.84,776.666 1731.2,777.077 1741.56,777.463 1751.92,777.826 1762.28,778.165 1772.64,778.482 1783,778.775 1793.36,779.047 1803.72,779.295 1814.08,779.522 1824.43,779.726 1834.79,779.909 1845.15,780.071 1855.51,780.211 1865.87,780.331 1876.23,780.429 1886.59,780.507 1896.95,780.564 1907.31,780.602 1917.67,780.619 1928.03,780.616 1938.39,780.594 1948.75,780.553 1959.11,780.492 1969.46,780.412 1979.82,780.313 1990.18,780.196 2000.54,780.059 2010.9,779.905 2021.26,779.732 2031.62,779.542 2041.98,779.333 2052.34,779.107 2062.7,778.863 2073.06,778.602 2083.42,778.323 2093.78,778.028 2104.13,777.715 2114.49,777.386 2124.85,777.04 2135.21,776.678 2145.57,776.299 2155.93,775.904 2166.29,775.493 2176.65,775.066 2187.01,774.623 2197.37,774.165 2207.73,773.691 2218.09,773.202 2228.45,772.697 2238.8,772.177 2249.16,771.642 2259.52,771.093 2269.88,770.528 2280.24,769.949 2290.6,769.355 \"/>\n",
       "<polyline clip-path=\"url(#clip702)\" style=\"stroke:#e26f46; stroke-linecap:round; stroke-linejoin:round; stroke-width:4; stroke-opacity:1; fill:none\" points=\"218.754,1324.37 229.113,1325.33 239.472,1326.29 249.831,1327.24 260.191,1328.18 270.55,1329.12 280.909,1330.06 291.268,1330.99 301.628,1331.92 311.987,1332.84 322.346,1333.75 332.705,1334.67 343.064,1335.58 353.424,1336.48 363.783,1337.38 374.142,1338.27 384.501,1339.16 394.861,1340.05 405.22,1340.93 415.579,1341.81 425.938,1342.68 436.298,1343.55 446.657,1344.41 457.016,1345.27 467.375,1346.13 477.734,1346.98 488.094,1347.82 498.453,1348.67 508.812,1349.5 519.171,1350.34 529.531,1351.17 539.89,1351.99 550.249,1352.82 560.608,1353.63 570.968,1354.45 581.327,1355.26 591.686,1356.06 602.045,1356.86 612.405,1357.66 622.764,1358.46 633.123,1359.24 643.482,1360.03 653.841,1360.81 664.201,1361.59 674.56,1362.36 684.919,1363.13 695.278,1363.9 705.638,1364.66 715.997,1365.42 726.356,1366.18 736.715,1366.93 747.075,1367.68 757.434,1368.42 767.793,1369.16 778.152,1369.9 788.512,1370.63 798.871,1371.36 809.23,1372.08 819.589,1372.81 829.948,1373.52 840.308,1374.24 850.667,1374.95 861.026,1375.66 871.385,1376.36 881.745,1377.06 892.104,1377.76 902.463,1378.45 912.822,1379.14 923.182,1379.83 933.541,1380.51 943.9,1381.19 954.259,1381.87 964.619,1382.54 974.978,1383.21 985.337,1383.88 995.696,1384.54 1006.06,1385.2 1016.41,1385.86 1026.77,1386.51 1037.13,1387.16 1047.49,1387.81 1057.85,1388.45 1068.21,1389.09 1078.57,1389.73 1088.93,1390.36 1099.29,1390.99 1109.65,1391.62 1120.01,1392.25 1130.37,1392.87 1140.73,1393.49 1151.08,1394.1 1161.44,1394.71 1171.8,1395.32 1182.16,1395.93 1192.52,1396.53 1202.88,1397.13 1213.24,1397.73 1223.6,1398.33 1233.96,1398.92 1244.32,1399.5 1254.68,1400.09 1265.04,1400.67 1275.4,1401.25 1285.75,1401.83 1296.11,1402.4 1306.47,1402.97 1316.83,1403.54 1327.19,1404.11 1337.55,1404.67 1347.91,1405.23 1358.27,1405.79 1368.63,1406.34 1378.99,1406.89 1389.35,1407.44 1399.71,1407.99 1410.07,1408.53 1420.42,1409.07 1430.78,1409.61 1441.14,1410.14 1451.5,1410.68 1461.86,1411.21 1472.22,1411.73 1482.58,1412.26 1492.94,1412.78 1503.3,1413.3 1513.66,1413.82 1524.02,1414.33 1534.38,1414.84 1544.74,1415.35 1555.09,1415.86 1565.45,1416.36 1575.81,1416.86 1586.17,1417.36 1596.53,1417.86 1606.89,1418.35 1617.25,1418.84 1627.61,1419.33 1637.97,1419.82 1648.33,1420.3 1658.69,1420.79 1669.05,1421.27 1679.41,1421.74 1689.76,1422.22 1700.12,1422.69 1710.48,1423.16 1720.84,1423.63 1731.2,1424.09 1741.56,1424.56 1751.92,1425.02 1762.28,1425.48 1772.64,1425.93 1783,1426.39 1793.36,1426.84 1803.72,1427.29 1814.08,1427.73 1824.43,1428.18 1834.79,1428.62 1845.15,1429.06 1855.51,1429.5 1865.87,1429.94 1876.23,1430.37 1886.59,1430.8 1896.95,1431.23 1907.31,1431.66 1917.67,1432.09 1928.03,1432.51 1938.39,1432.93 1948.75,1433.35 1959.11,1433.77 1969.46,1434.18 1979.82,1434.59 1990.18,1435.01 2000.54,1435.41 2010.9,1435.82 2021.26,1436.23 2031.62,1436.63 2041.98,1437.03 2052.34,1437.43 2062.7,1437.83 2073.06,1438.22 2083.42,1438.61 2093.78,1439 2104.13,1439.39 2114.49,1439.78 2124.85,1440.16 2135.21,1440.55 2145.57,1440.93 2155.93,1441.31 2166.29,1441.69 2176.65,1442.06 2187.01,1442.43 2197.37,1442.81 2207.73,1443.18 2218.09,1443.54 2228.45,1443.91 2238.8,1444.28 2249.16,1444.64 2259.52,1445 2269.88,1445.36 2280.24,1445.72 \"/>\n",
       "<path clip-path=\"url(#clip700)\" d=\"M1981.74 250.738 L2279.55 250.738 L2279.55 95.2176 L1981.74 95.2176  Z\" fill=\"#ffffff\" fill-rule=\"evenodd\" fill-opacity=\"1\"/>\n",
       "<polyline clip-path=\"url(#clip700)\" style=\"stroke:#000000; stroke-linecap:round; stroke-linejoin:round; stroke-width:4; stroke-opacity:1; fill:none\" points=\"1981.74,250.738 2279.55,250.738 2279.55,95.2176 1981.74,95.2176 1981.74,250.738 \"/>\n",
       "<polyline clip-path=\"url(#clip700)\" style=\"stroke:#009af9; stroke-linecap:round; stroke-linejoin:round; stroke-width:4; stroke-opacity:1; fill:none\" points=\"2006.14,147.058 2152.55,147.058 \"/>\n",
       "<path clip-path=\"url(#clip700)\" d=\"M2201.61 138.412 L2192.23 151.027 L2202.09 164.338 L2197.07 164.338 L2189.52 154.152 L2181.98 164.338 L2176.95 164.338 L2187.02 150.773 L2177.81 138.412 L2182.83 138.412 L2189.71 147.648 L2196.58 138.412 L2201.61 138.412 Z\" fill=\"#000000\" fill-rule=\"nonzero\" fill-opacity=\"1\" /><path clip-path=\"url(#clip700)\" d=\"M2218.34 128.366 Q2215.24 133.69 2213.74 138.898 Q2212.23 144.106 2212.23 149.453 Q2212.23 154.801 2213.74 160.055 Q2215.26 165.287 2218.34 170.588 L2214.64 170.588 Q2211.17 165.148 2209.43 159.893 Q2207.72 154.639 2207.72 149.453 Q2207.72 144.291 2209.43 139.06 Q2211.14 133.828 2214.64 128.366 L2218.34 128.366 Z\" fill=\"#000000\" fill-rule=\"nonzero\" fill-opacity=\"1\" /><path clip-path=\"url(#clip700)\" d=\"M2230.82 131.051 L2230.82 138.412 L2239.59 138.412 L2239.59 141.722 L2230.82 141.722 L2230.82 155.796 Q2230.82 158.967 2231.68 159.87 Q2232.56 160.773 2235.22 160.773 L2239.59 160.773 L2239.59 164.338 L2235.22 164.338 Q2230.29 164.338 2228.41 162.509 Q2226.54 160.657 2226.54 155.796 L2226.54 141.722 L2223.41 141.722 L2223.41 138.412 L2226.54 138.412 L2226.54 131.051 L2230.82 131.051 Z\" fill=\"#000000\" fill-rule=\"nonzero\" fill-opacity=\"1\" /><path clip-path=\"url(#clip700)\" d=\"M2244.52 128.366 L2248.23 128.366 Q2251.7 133.828 2253.41 139.06 Q2255.15 144.291 2255.15 149.453 Q2255.15 154.639 2253.41 159.893 Q2251.7 165.148 2248.23 170.588 L2244.52 170.588 Q2247.6 165.287 2249.11 160.055 Q2250.64 154.801 2250.64 149.453 Q2250.64 144.106 2249.11 138.898 Q2247.6 133.69 2244.52 128.366 Z\" fill=\"#000000\" fill-rule=\"nonzero\" fill-opacity=\"1\" /><polyline clip-path=\"url(#clip700)\" style=\"stroke:#e26f46; stroke-linecap:round; stroke-linejoin:round; stroke-width:4; stroke-opacity:1; fill:none\" points=\"2006.14,198.898 2152.55,198.898 \"/>\n",
       "<path clip-path=\"url(#clip700)\" d=\"M2176.95 205.946 L2176.95 190.252 L2181.21 190.252 L2181.21 205.784 Q2181.21 209.465 2182.65 211.316 Q2184.08 213.145 2186.95 213.145 Q2190.4 213.145 2192.39 210.946 Q2194.41 208.747 2194.41 204.951 L2194.41 190.252 L2198.67 190.252 L2198.67 216.178 L2194.41 216.178 L2194.41 212.196 Q2192.86 214.557 2190.8 215.715 Q2188.76 216.849 2186.05 216.849 Q2181.58 216.849 2179.27 214.071 Q2176.95 211.293 2176.95 205.946 M2187.67 189.627 L2187.67 189.627 Z\" fill=\"#000000\" fill-rule=\"nonzero\" fill-opacity=\"1\" /><path clip-path=\"url(#clip700)\" d=\"M2217.67 180.206 Q2214.57 185.53 2213.07 190.738 Q2211.56 195.946 2211.56 201.293 Q2211.56 206.641 2213.07 211.895 Q2214.59 217.127 2217.67 222.428 L2213.97 222.428 Q2210.5 216.988 2208.76 211.733 Q2207.05 206.479 2207.05 201.293 Q2207.05 196.131 2208.76 190.9 Q2210.47 185.668 2213.97 180.206 L2217.67 180.206 Z\" fill=\"#000000\" fill-rule=\"nonzero\" fill-opacity=\"1\" /><path clip-path=\"url(#clip700)\" d=\"M2230.15 182.891 L2230.15 190.252 L2238.92 190.252 L2238.92 193.562 L2230.15 193.562 L2230.15 207.636 Q2230.15 210.807 2231.01 211.71 Q2231.89 212.613 2234.55 212.613 L2238.92 212.613 L2238.92 216.178 L2234.55 216.178 Q2229.62 216.178 2227.74 214.349 Q2225.87 212.497 2225.87 207.636 L2225.87 193.562 L2222.74 193.562 L2222.74 190.252 L2225.87 190.252 L2225.87 182.891 L2230.15 182.891 Z\" fill=\"#000000\" fill-rule=\"nonzero\" fill-opacity=\"1\" /><path clip-path=\"url(#clip700)\" d=\"M2243.85 180.206 L2247.56 180.206 Q2251.03 185.668 2252.74 190.9 Q2254.48 196.131 2254.48 201.293 Q2254.48 206.479 2252.74 211.733 Q2251.03 216.988 2247.56 222.428 L2243.85 222.428 Q2246.93 217.127 2248.44 211.895 Q2249.96 206.641 2249.96 201.293 Q2249.96 195.946 2248.44 190.738 Q2246.93 185.53 2243.85 180.206 Z\" fill=\"#000000\" fill-rule=\"nonzero\" fill-opacity=\"1\" /></svg>\n"
      ]
     },
     "execution_count": 283,
     "metadata": {},
     "output_type": "execute_result"
    }
   ],
   "source": [
    "using Plots\n",
    "plot(0.1*(0:N),xsopt[1,:],label=\"x(t)\")\n",
    "plot!(0.1*(0:N-1),opt_u[1,:],label=\"u(t)\")"
   ]
  },
  {
   "cell_type": "markdown",
   "id": "0c9ce994-58a2-4672-b5d2-fb3ede0a8ce3",
   "metadata": {},
   "source": [
    "#### Initial Parameters #2:\n",
    "$\\quad$ $T = 20\\space years, \\alpha = 0.05/year, \\delta = 0.1/year, u_{max}=0.5, N=200, h=0.1$"
   ]
  },
  {
   "cell_type": "code",
   "execution_count": 284,
   "id": "53a4e54d-774a-4403-98ca-3862b6c83bd7",
   "metadata": {},
   "outputs": [
    {
     "data": {
      "text/plain": [
       "Dict{String, Real} with 10 entries:\n",
       "  \"eps\"     => 0.01\n",
       "  \"c1\"      => 0.05\n",
       "  \"s\"       => 0.1\n",
       "  \"f_max\"   => 1.0\n",
       "  \"maxiter\" => 10000\n",
       "  \"alpha\"   => 0.1\n",
       "  \"s0\"      => 1.0\n",
       "  \"h\"       => 0.1\n",
       "  \"delta\"   => 0.05\n",
       "  \"beta\"    => 1.0"
      ]
     },
     "execution_count": 284,
     "metadata": {},
     "output_type": "execute_result"
    }
   ],
   "source": [
    "using LinearAlgebra\n",
    "xv  = [0.9; 0.0]\n",
    "t = 0.0; \n",
    "N = 200\n",
    "u = zeros(1,N)\n",
    "T = 20 \n",
    "\n",
    "params = Dict(\n",
    "    \"alpha\"=>0.1,\n",
    "    \"delta\"=>0.05,\n",
    "    \"beta\"=>1.0,\n",
    "    \"f_max\"=>1.0,\n",
    "    \"h\"=>0.1,\n",
    "    \"eps\"=>1e-2,\n",
    "    \"s0\"=>1.0, \n",
    "    \"c1\"=>0.05,\n",
    "    \"maxiter\"=>10_000,\n",
    "    \"s\"=>0.1\n",
    ")"
   ]
  },
  {
   "cell_type": "code",
   "execution_count": 285,
   "id": "e9291001-a8e3-4342-8ad4-bfd4ef79e998",
   "metadata": {},
   "outputs": [
    {
     "name": "stdout",
     "output_type": "stream",
     "text": [
      "Matrix{Float64}\n",
      "Vector{Float64}\n",
      "finished forward step\n",
      "computed λend\n",
      "finished adjoint step"
     ]
    },
    {
     "data": {
      "text/plain": [
       "([0.12141121445952424 0.12080717856669079 … 0.045225 0.045000000000000005], 1)"
      ]
     },
     "execution_count": 285,
     "metadata": {},
     "output_type": "execute_result"
    }
   ],
   "source": [
    "opt_u, iters = optimize(xv,t,N,u,T,params,F,dFdx,dFdu,g,dg)"
   ]
  },
  {
   "cell_type": "code",
   "execution_count": 286,
   "id": "0a557ec1-428c-4c85-bfc3-80780b3e6235",
   "metadata": {},
   "outputs": [
    {
     "data": {
      "text/plain": [
       "2×201 Matrix{Float64}:\n",
       " 0.9  0.889973  0.880201   0.870675   …  0.470181  0.470546  0.47092\n",
       " 0.0  0.010927  0.0217332  0.0324224     1.72895   1.73972   1.75054"
      ]
     },
     "execution_count": 286,
     "metadata": {},
     "output_type": "execute_result"
    }
   ],
   "source": [
    "xsopt = forwardstep(t,xv,opt_u,F,params)"
   ]
  },
  {
   "cell_type": "code",
   "execution_count": 287,
   "id": "631f5f3e-bd8a-4737-8b5a-75aa7373db0f",
   "metadata": {},
   "outputs": [
    {
     "data": {
      "image/png": "[encoded data removed]",
      "image/svg+xml": [
       "<?xml version=\"1.0\" encoding=\"utf-8\"?>\n",
       "<svg xmlns=\"http://www.w3.org/2000/svg\" xmlns:xlink=\"http://www.w3.org/1999/xlink\" width=\"600\" height=\"400\" viewBox=\"0 0 2400 1600\">\n",
       "<defs>\n",
       "  <clipPath id=\"clip740\">\n",
       "    <rect x=\"0\" y=\"0\" width=\"2400\" height=\"1600\"/>\n",
       "  </clipPath>\n",
       "</defs>\n",
       "<path clip-path=\"url(#clip740)\" d=\"M0 1600 L2400 1600 L2400 8.88178e-14 L0 8.88178e-14  Z\" fill=\"#ffffff\" fill-rule=\"evenodd\" fill-opacity=\"1\"/>\n",
       "<defs>\n",
       "  <clipPath id=\"clip741\">\n",
       "    <rect x=\"480\" y=\"0\" width=\"1681\" height=\"1600\"/>\n",
       "  </clipPath>\n",
       "</defs>\n",
       "<path clip-path=\"url(#clip740)\" d=\"M156.598 1486.45 L2352.76 1486.45 L2352.76 47.2441 L156.598 47.2441  Z\" fill=\"#ffffff\" fill-rule=\"evenodd\" fill-opacity=\"1\"/>\n",
       "<defs>\n",
       "  <clipPath id=\"clip742\">\n",
       "    <rect x=\"156\" y=\"47\" width=\"2197\" height=\"1440\"/>\n",
       "  </clipPath>\n",
       "</defs>\n",
       "<polyline clip-path=\"url(#clip742)\" style=\"stroke:#000000; stroke-linecap:round; stroke-linejoin:round; stroke-width:2; stroke-opacity:0.1; fill:none\" points=\"218.754,1486.45 218.754,47.2441 \"/>\n",
       "<polyline clip-path=\"url(#clip742)\" style=\"stroke:#000000; stroke-linecap:round; stroke-linejoin:round; stroke-width:2; stroke-opacity:0.1; fill:none\" points=\"736.715,1486.45 736.715,47.2441 \"/>\n",
       "<polyline clip-path=\"url(#clip742)\" style=\"stroke:#000000; stroke-linecap:round; stroke-linejoin:round; stroke-width:2; stroke-opacity:0.1; fill:none\" points=\"1254.68,1486.45 1254.68,47.2441 \"/>\n",
       "<polyline clip-path=\"url(#clip742)\" style=\"stroke:#000000; stroke-linecap:round; stroke-linejoin:round; stroke-width:2; stroke-opacity:0.1; fill:none\" points=\"1772.64,1486.45 1772.64,47.2441 \"/>\n",
       "<polyline clip-path=\"url(#clip742)\" style=\"stroke:#000000; stroke-linecap:round; stroke-linejoin:round; stroke-width:2; stroke-opacity:0.1; fill:none\" points=\"2290.6,1486.45 2290.6,47.2441 \"/>\n",
       "<polyline clip-path=\"url(#clip740)\" style=\"stroke:#000000; stroke-linecap:round; stroke-linejoin:round; stroke-width:4; stroke-opacity:1; fill:none\" points=\"156.598,1486.45 2352.76,1486.45 \"/>\n",
       "<polyline clip-path=\"url(#clip740)\" style=\"stroke:#000000; stroke-linecap:round; stroke-linejoin:round; stroke-width:4; stroke-opacity:1; fill:none\" points=\"218.754,1486.45 218.754,1467.55 \"/>\n",
       "<polyline clip-path=\"url(#clip740)\" style=\"stroke:#000000; stroke-linecap:round; stroke-linejoin:round; stroke-width:4; stroke-opacity:1; fill:none\" points=\"736.715,1486.45 736.715,1467.55 \"/>\n",
       "<polyline clip-path=\"url(#clip740)\" style=\"stroke:#000000; stroke-linecap:round; stroke-linejoin:round; stroke-width:4; stroke-opacity:1; fill:none\" points=\"1254.68,1486.45 1254.68,1467.55 \"/>\n",
       "<polyline clip-path=\"url(#clip740)\" style=\"stroke:#000000; stroke-linecap:round; stroke-linejoin:round; stroke-width:4; stroke-opacity:1; fill:none\" points=\"1772.64,1486.45 1772.64,1467.55 \"/>\n",
       "<polyline clip-path=\"url(#clip740)\" style=\"stroke:#000000; stroke-linecap:round; stroke-linejoin:round; stroke-width:4; stroke-opacity:1; fill:none\" points=\"2290.6,1486.45 2290.6,1467.55 \"/>\n",
       "<path clip-path=\"url(#clip740)\" d=\"M218.754 1517.37 Q215.143 1517.37 213.314 1520.93 Q211.508 1524.47 211.508 1531.6 Q211.508 1538.71 213.314 1542.27 Q215.143 1545.82 218.754 1545.82 Q222.388 1545.82 224.193 1542.27 Q226.022 1538.71 226.022 1531.6 Q226.022 1524.47 224.193 1520.93 Q222.388 1517.37 218.754 1517.37 M218.754 1513.66 Q224.564 1513.66 227.619 1518.27 Q230.698 1522.85 230.698 1531.6 Q230.698 1540.33 227.619 1544.94 Q224.564 1549.52 218.754 1549.52 Q212.943 1549.52 209.865 1544.94 Q206.809 1540.33 206.809 1531.6 Q206.809 1522.85 209.865 1518.27 Q212.943 1513.66 218.754 1513.66 Z\" fill=\"#000000\" fill-rule=\"nonzero\" fill-opacity=\"1\" /><path clip-path=\"url(#clip740)\" d=\"M726.993 1514.29 L745.35 1514.29 L745.35 1518.22 L731.276 1518.22 L731.276 1526.7 Q732.294 1526.35 733.313 1526.19 Q734.331 1526 735.35 1526 Q741.137 1526 744.516 1529.17 Q747.896 1532.34 747.896 1537.76 Q747.896 1543.34 744.424 1546.44 Q740.951 1549.52 734.632 1549.52 Q732.456 1549.52 730.188 1549.15 Q727.942 1548.78 725.535 1548.04 L725.535 1543.34 Q727.618 1544.47 729.84 1545.03 Q732.063 1545.58 734.539 1545.58 Q738.544 1545.58 740.882 1543.48 Q743.22 1541.37 743.22 1537.76 Q743.22 1534.15 740.882 1532.04 Q738.544 1529.94 734.539 1529.94 Q732.664 1529.94 730.789 1530.35 Q728.938 1530.77 726.993 1531.65 L726.993 1514.29 Z\" fill=\"#000000\" fill-rule=\"nonzero\" fill-opacity=\"1\" /><path clip-path=\"url(#clip740)\" d=\"M1229.36 1544.91 L1237 1544.91 L1237 1518.55 L1228.69 1520.21 L1228.69 1515.95 L1236.96 1514.29 L1241.63 1514.29 L1241.63 1544.91 L1249.27 1544.91 L1249.27 1548.85 L1229.36 1548.85 L1229.36 1544.91 Z\" fill=\"#000000\" fill-rule=\"nonzero\" fill-opacity=\"1\" /><path clip-path=\"url(#clip740)\" d=\"M1268.72 1517.37 Q1265.11 1517.37 1263.28 1520.93 Q1261.47 1524.47 1261.47 1531.6 Q1261.47 1538.71 1263.28 1542.27 Q1265.11 1545.82 1268.72 1545.82 Q1272.35 1545.82 1274.16 1542.27 Q1275.98 1538.71 1275.98 1531.6 Q1275.98 1524.47 1274.16 1520.93 Q1272.35 1517.37 1268.72 1517.37 M1268.72 1513.66 Q1274.53 1513.66 1277.58 1518.27 Q1280.66 1522.85 1280.66 1531.6 Q1280.66 1540.33 1277.58 1544.94 Q1274.53 1549.52 1268.72 1549.52 Q1262.91 1549.52 1259.83 1544.94 Q1256.77 1540.33 1256.77 1531.6 Q1256.77 1522.85 1259.83 1518.27 Q1262.91 1513.66 1268.72 1513.66 Z\" fill=\"#000000\" fill-rule=\"nonzero\" fill-opacity=\"1\" /><path clip-path=\"url(#clip740)\" d=\"M1747.82 1544.91 L1755.46 1544.91 L1755.46 1518.55 L1747.15 1520.21 L1747.15 1515.95 L1755.42 1514.29 L1760.09 1514.29 L1760.09 1544.91 L1767.73 1544.91 L1767.73 1548.85 L1747.82 1548.85 L1747.82 1544.91 Z\" fill=\"#000000\" fill-rule=\"nonzero\" fill-opacity=\"1\" /><path clip-path=\"url(#clip740)\" d=\"M1777.22 1514.29 L1795.58 1514.29 L1795.58 1518.22 L1781.5 1518.22 L1781.5 1526.7 Q1782.52 1526.35 1783.54 1526.19 Q1784.56 1526 1785.58 1526 Q1791.37 1526 1794.75 1529.17 Q1798.12 1532.34 1798.12 1537.76 Q1798.12 1543.34 1794.65 1546.44 Q1791.18 1549.52 1784.86 1549.52 Q1782.69 1549.52 1780.42 1549.15 Q1778.17 1548.78 1775.76 1548.04 L1775.76 1543.34 Q1777.85 1544.47 1780.07 1545.03 Q1782.29 1545.58 1784.77 1545.58 Q1788.77 1545.58 1791.11 1543.48 Q1793.45 1541.37 1793.45 1537.76 Q1793.45 1534.15 1791.11 1532.04 Q1788.77 1529.94 1784.77 1529.94 Q1782.89 1529.94 1781.02 1530.35 Q1779.17 1530.77 1777.22 1531.65 L1777.22 1514.29 Z\" fill=\"#000000\" fill-rule=\"nonzero\" fill-opacity=\"1\" /><path clip-path=\"url(#clip740)\" d=\"M2269.37 1544.91 L2285.69 1544.91 L2285.69 1548.85 L2263.75 1548.85 L2263.75 1544.91 Q2266.41 1542.16 2270.99 1537.53 Q2275.6 1532.88 2276.78 1531.53 Q2279.03 1529.01 2279.91 1527.27 Q2280.81 1525.51 2280.81 1523.82 Q2280.81 1521.07 2278.86 1519.33 Q2276.94 1517.6 2273.84 1517.6 Q2271.64 1517.6 2269.19 1518.36 Q2266.76 1519.13 2263.98 1520.68 L2263.98 1515.95 Q2266.8 1514.82 2269.26 1514.24 Q2271.71 1513.66 2273.75 1513.66 Q2279.12 1513.66 2282.31 1516.35 Q2285.51 1519.03 2285.51 1523.52 Q2285.51 1525.65 2284.7 1527.57 Q2283.91 1529.47 2281.8 1532.07 Q2281.23 1532.74 2278.12 1535.95 Q2275.02 1539.15 2269.37 1544.91 Z\" fill=\"#000000\" fill-rule=\"nonzero\" fill-opacity=\"1\" /><path clip-path=\"url(#clip740)\" d=\"M2305.51 1517.37 Q2301.9 1517.37 2300.07 1520.93 Q2298.26 1524.47 2298.26 1531.6 Q2298.26 1538.71 2300.07 1542.27 Q2301.9 1545.82 2305.51 1545.82 Q2309.14 1545.82 2310.95 1542.27 Q2312.78 1538.71 2312.78 1531.6 Q2312.78 1524.47 2310.95 1520.93 Q2309.14 1517.37 2305.51 1517.37 M2305.51 1513.66 Q2311.32 1513.66 2314.37 1518.27 Q2317.45 1522.85 2317.45 1531.6 Q2317.45 1540.33 2314.37 1544.94 Q2311.32 1549.52 2305.51 1549.52 Q2299.7 1549.52 2296.62 1544.94 Q2293.56 1540.33 2293.56 1531.6 Q2293.56 1522.85 2296.62 1518.27 Q2299.7 1513.66 2305.51 1513.66 Z\" fill=\"#000000\" fill-rule=\"nonzero\" fill-opacity=\"1\" /><polyline clip-path=\"url(#clip742)\" style=\"stroke:#000000; stroke-linecap:round; stroke-linejoin:round; stroke-width:2; stroke-opacity:0.1; fill:none\" points=\"156.598,1199.58 2352.76,1199.58 \"/>\n",
       "<polyline clip-path=\"url(#clip742)\" style=\"stroke:#000000; stroke-linecap:round; stroke-linejoin:round; stroke-width:2; stroke-opacity:0.1; fill:none\" points=\"156.598,881.976 2352.76,881.976 \"/>\n",
       "<polyline clip-path=\"url(#clip742)\" style=\"stroke:#000000; stroke-linecap:round; stroke-linejoin:round; stroke-width:2; stroke-opacity:0.1; fill:none\" points=\"156.598,564.376 2352.76,564.376 \"/>\n",
       "<polyline clip-path=\"url(#clip742)\" style=\"stroke:#000000; stroke-linecap:round; stroke-linejoin:round; stroke-width:2; stroke-opacity:0.1; fill:none\" points=\"156.598,246.776 2352.76,246.776 \"/>\n",
       "<polyline clip-path=\"url(#clip740)\" style=\"stroke:#000000; stroke-linecap:round; stroke-linejoin:round; stroke-width:4; stroke-opacity:1; fill:none\" points=\"156.598,1486.45 156.598,47.2441 \"/>\n",
       "<polyline clip-path=\"url(#clip740)\" style=\"stroke:#000000; stroke-linecap:round; stroke-linejoin:round; stroke-width:4; stroke-opacity:1; fill:none\" points=\"156.598,1199.58 175.496,1199.58 \"/>\n",
       "<polyline clip-path=\"url(#clip740)\" style=\"stroke:#000000; stroke-linecap:round; stroke-linejoin:round; stroke-width:4; stroke-opacity:1; fill:none\" points=\"156.598,881.976 175.496,881.976 \"/>\n",
       "<polyline clip-path=\"url(#clip740)\" style=\"stroke:#000000; stroke-linecap:round; stroke-linejoin:round; stroke-width:4; stroke-opacity:1; fill:none\" points=\"156.598,564.376 175.496,564.376 \"/>\n",
       "<polyline clip-path=\"url(#clip740)\" style=\"stroke:#000000; stroke-linecap:round; stroke-linejoin:round; stroke-width:4; stroke-opacity:1; fill:none\" points=\"156.598,246.776 175.496,246.776 \"/>\n",
       "<path clip-path=\"url(#clip740)\" d=\"M65.0198 1185.37 Q61.4087 1185.37 59.58 1188.94 Q57.7745 1192.48 57.7745 1199.61 Q57.7745 1206.72 59.58 1210.28 Q61.4087 1213.82 65.0198 1213.82 Q68.6541 1213.82 70.4596 1210.28 Q72.2883 1206.72 72.2883 1199.61 Q72.2883 1192.48 70.4596 1188.94 Q68.6541 1185.37 65.0198 1185.37 M65.0198 1181.67 Q70.83 1181.67 73.8855 1186.28 Q76.9642 1190.86 76.9642 1199.61 Q76.9642 1208.34 73.8855 1212.94 Q70.83 1217.53 65.0198 1217.53 Q59.2097 1217.53 56.131 1212.94 Q53.0754 1208.34 53.0754 1199.61 Q53.0754 1190.86 56.131 1186.28 Q59.2097 1181.67 65.0198 1181.67 Z\" fill=\"#000000\" fill-rule=\"nonzero\" fill-opacity=\"1\" /><path clip-path=\"url(#clip740)\" d=\"M85.1818 1210.98 L90.066 1210.98 L90.066 1216.86 L85.1818 1216.86 L85.1818 1210.98 Z\" fill=\"#000000\" fill-rule=\"nonzero\" fill-opacity=\"1\" /><path clip-path=\"url(#clip740)\" d=\"M104.279 1212.92 L120.598 1212.92 L120.598 1216.86 L98.6539 1216.86 L98.6539 1212.92 Q101.316 1210.17 105.899 1205.54 Q110.506 1200.88 111.686 1199.54 Q113.932 1197.02 114.811 1195.28 Q115.714 1193.52 115.714 1191.83 Q115.714 1189.08 113.77 1187.34 Q111.848 1185.61 108.746 1185.61 Q106.547 1185.61 104.094 1186.37 Q101.663 1187.13 98.8854 1188.68 L98.8854 1183.96 Q101.709 1182.83 104.163 1182.25 Q106.617 1181.67 108.654 1181.67 Q114.024 1181.67 117.219 1184.36 Q120.413 1187.04 120.413 1191.53 Q120.413 1193.66 119.603 1195.58 Q118.816 1197.48 116.709 1200.07 Q116.131 1200.74 113.029 1203.96 Q109.927 1207.16 104.279 1212.92 Z\" fill=\"#000000\" fill-rule=\"nonzero\" fill-opacity=\"1\" /><path clip-path=\"url(#clip740)\" d=\"M62.9365 867.775 Q59.3254 867.775 57.4967 871.339 Q55.6912 874.881 55.6912 882.011 Q55.6912 889.117 57.4967 892.682 Q59.3254 896.224 62.9365 896.224 Q66.5707 896.224 68.3763 892.682 Q70.205 889.117 70.205 882.011 Q70.205 874.881 68.3763 871.339 Q66.5707 867.775 62.9365 867.775 M62.9365 864.071 Q68.7467 864.071 71.8022 868.677 Q74.8809 873.261 74.8809 882.011 Q74.8809 890.737 71.8022 895.344 Q68.7467 899.927 62.9365 899.927 Q57.1264 899.927 54.0477 895.344 Q50.9921 890.737 50.9921 882.011 Q50.9921 873.261 54.0477 868.677 Q57.1264 864.071 62.9365 864.071 Z\" fill=\"#000000\" fill-rule=\"nonzero\" fill-opacity=\"1\" /><path clip-path=\"url(#clip740)\" d=\"M83.0984 893.376 L87.9827 893.376 L87.9827 899.256 L83.0984 899.256 L83.0984 893.376 Z\" fill=\"#000000\" fill-rule=\"nonzero\" fill-opacity=\"1\" /><path clip-path=\"url(#clip740)\" d=\"M111.015 868.77 L99.2095 887.219 L111.015 887.219 L111.015 868.77 M109.788 864.696 L115.668 864.696 L115.668 887.219 L120.598 887.219 L120.598 891.108 L115.668 891.108 L115.668 899.256 L111.015 899.256 L111.015 891.108 L95.4132 891.108 L95.4132 886.594 L109.788 864.696 Z\" fill=\"#000000\" fill-rule=\"nonzero\" fill-opacity=\"1\" /><path clip-path=\"url(#clip740)\" d=\"M63.2606 550.175 Q59.6495 550.175 57.8208 553.74 Q56.0152 557.281 56.0152 564.411 Q56.0152 571.517 57.8208 575.082 Q59.6495 578.624 63.2606 578.624 Q66.8948 578.624 68.7004 575.082 Q70.5291 571.517 70.5291 564.411 Q70.5291 557.281 68.7004 553.74 Q66.8948 550.175 63.2606 550.175 M63.2606 546.471 Q69.0707 546.471 72.1263 551.078 Q75.205 555.661 75.205 564.411 Q75.205 573.138 72.1263 577.744 Q69.0707 582.327 63.2606 582.327 Q57.4504 582.327 54.3717 577.744 Q51.3162 573.138 51.3162 564.411 Q51.3162 555.661 54.3717 551.078 Q57.4504 546.471 63.2606 546.471 Z\" fill=\"#000000\" fill-rule=\"nonzero\" fill-opacity=\"1\" /><path clip-path=\"url(#clip740)\" d=\"M83.4225 575.776 L88.3067 575.776 L88.3067 581.656 L83.4225 581.656 L83.4225 575.776 Z\" fill=\"#000000\" fill-rule=\"nonzero\" fill-opacity=\"1\" /><path clip-path=\"url(#clip740)\" d=\"M109.071 562.513 Q105.922 562.513 104.071 564.665 Q102.242 566.818 102.242 570.568 Q102.242 574.295 104.071 576.471 Q105.922 578.624 109.071 578.624 Q112.219 578.624 114.047 576.471 Q115.899 574.295 115.899 570.568 Q115.899 566.818 114.047 564.665 Q112.219 562.513 109.071 562.513 M118.353 547.86 L118.353 552.119 Q116.594 551.286 114.788 550.846 Q113.006 550.406 111.246 550.406 Q106.617 550.406 104.163 553.531 Q101.733 556.656 101.385 562.976 Q102.751 560.962 104.811 559.897 Q106.871 558.809 109.348 558.809 Q114.557 558.809 117.566 561.98 Q120.598 565.128 120.598 570.568 Q120.598 575.892 117.45 579.11 Q114.302 582.327 109.071 582.327 Q103.075 582.327 99.9039 577.744 Q96.7326 573.138 96.7326 564.411 Q96.7326 556.216 100.621 551.355 Q104.51 546.471 111.061 546.471 Q112.82 546.471 114.603 546.818 Q116.408 547.166 118.353 547.86 Z\" fill=\"#000000\" fill-rule=\"nonzero\" fill-opacity=\"1\" /><path clip-path=\"url(#clip740)\" d=\"M63.5152 232.575 Q59.9041 232.575 58.0754 236.14 Q56.2699 239.681 56.2699 246.811 Q56.2699 253.917 58.0754 257.482 Q59.9041 261.024 63.5152 261.024 Q67.1494 261.024 68.955 257.482 Q70.7837 253.917 70.7837 246.811 Q70.7837 239.681 68.955 236.14 Q67.1494 232.575 63.5152 232.575 M63.5152 228.871 Q69.3254 228.871 72.3809 233.478 Q75.4596 238.061 75.4596 246.811 Q75.4596 255.538 72.3809 260.144 Q69.3254 264.728 63.5152 264.728 Q57.7051 264.728 54.6264 260.144 Q51.5708 255.538 51.5708 246.811 Q51.5708 238.061 54.6264 233.478 Q57.7051 228.871 63.5152 228.871 Z\" fill=\"#000000\" fill-rule=\"nonzero\" fill-opacity=\"1\" /><path clip-path=\"url(#clip740)\" d=\"M83.6771 258.177 L88.5614 258.177 L88.5614 264.056 L83.6771 264.056 L83.6771 258.177 Z\" fill=\"#000000\" fill-rule=\"nonzero\" fill-opacity=\"1\" /><path clip-path=\"url(#clip740)\" d=\"M108.746 247.644 Q105.413 247.644 103.492 249.427 Q101.594 251.209 101.594 254.334 Q101.594 257.459 103.492 259.241 Q105.413 261.024 108.746 261.024 Q112.08 261.024 114.001 259.241 Q115.922 257.436 115.922 254.334 Q115.922 251.209 114.001 249.427 Q112.103 247.644 108.746 247.644 M104.071 245.654 Q101.061 244.913 99.3715 242.853 Q97.7048 240.792 97.7048 237.829 Q97.7048 233.686 100.645 231.279 Q103.608 228.871 108.746 228.871 Q113.908 228.871 116.848 231.279 Q119.788 233.686 119.788 237.829 Q119.788 240.792 118.098 242.853 Q116.432 244.913 113.445 245.654 Q116.825 246.441 118.7 248.732 Q120.598 251.024 120.598 254.334 Q120.598 259.357 117.52 262.042 Q114.464 264.728 108.746 264.728 Q103.029 264.728 99.9502 262.042 Q96.8947 259.357 96.8947 254.334 Q96.8947 251.024 98.7928 248.732 Q100.691 246.441 104.071 245.654 M102.358 238.269 Q102.358 240.954 104.024 242.459 Q105.714 243.964 108.746 243.964 Q111.756 243.964 113.445 242.459 Q115.158 240.954 115.158 238.269 Q115.158 235.584 113.445 234.08 Q111.756 232.575 108.746 232.575 Q105.714 232.575 104.024 234.08 Q102.358 235.584 102.358 238.269 Z\" fill=\"#000000\" fill-rule=\"nonzero\" fill-opacity=\"1\" /><polyline clip-path=\"url(#clip742)\" style=\"stroke:#009af9; stroke-linecap:round; stroke-linejoin:round; stroke-width:4; stroke-opacity:1; fill:none\" points=\"218.754,87.9763 229.113,103.899 239.472,119.418 249.831,134.545 260.191,149.294 270.55,163.678 280.909,177.707 291.268,191.394 301.628,204.749 311.987,217.783 322.346,230.505 332.705,242.925 343.064,255.052 353.424,266.896 363.783,278.463 374.142,289.764 384.501,300.805 394.861,311.594 405.22,322.137 415.579,332.444 425.938,342.518 436.298,352.369 446.657,362 457.016,371.419 467.375,380.632 477.734,389.643 488.094,398.458 498.453,407.083 508.812,415.522 519.171,423.78 529.531,431.861 539.89,439.772 550.249,447.514 560.608,455.094 570.968,462.514 581.327,469.78 591.686,476.894 602.045,483.86 612.405,490.682 622.764,497.364 633.123,503.908 643.482,510.318 653.841,516.597 664.201,522.748 674.56,528.774 684.919,534.678 695.278,540.462 705.638,546.129 715.997,551.683 726.356,557.124 736.715,562.457 747.075,567.683 757.434,572.804 767.793,577.822 778.152,582.741 788.512,587.562 798.871,592.286 809.23,596.917 819.589,601.456 829.948,605.904 840.308,610.264 850.667,614.538 861.026,618.726 871.385,622.832 881.745,626.856 892.104,630.8 902.463,634.665 912.822,638.454 923.182,642.167 933.541,645.806 943.9,649.373 954.259,652.869 964.619,656.294 974.978,659.651 985.337,662.94 995.696,666.164 1006.06,669.322 1016.41,672.417 1026.77,675.449 1037.13,678.419 1047.49,681.329 1057.85,684.179 1068.21,686.971 1078.57,689.705 1088.93,692.383 1099.29,695.006 1109.65,697.573 1120.01,700.088 1130.37,702.549 1140.73,704.959 1151.08,707.317 1161.44,709.625 1171.8,711.884 1182.16,714.094 1192.52,716.256 1202.88,718.371 1213.24,720.44 1223.6,722.462 1233.96,724.44 1244.32,726.374 1254.68,728.264 1265.04,730.111 1275.4,731.915 1285.75,733.678 1296.11,735.4 1306.47,737.081 1316.83,738.722 1327.19,740.324 1337.55,741.888 1347.91,743.412 1358.27,744.9 1368.63,746.35 1378.99,747.763 1389.35,749.14 1399.71,750.482 1410.07,751.788 1420.42,753.06 1430.78,754.297 1441.14,755.501 1451.5,756.671 1461.86,757.809 1472.22,758.914 1482.58,759.987 1492.94,761.028 1503.3,762.038 1513.66,763.017 1524.02,763.966 1534.38,764.884 1544.74,765.773 1555.09,766.633 1565.45,767.463 1575.81,768.265 1586.17,769.039 1596.53,769.784 1606.89,770.502 1617.25,771.193 1627.61,771.857 1637.97,772.494 1648.33,773.105 1658.69,773.689 1669.05,774.248 1679.41,774.782 1689.76,775.29 1700.12,775.773 1710.48,776.232 1720.84,776.666 1731.2,777.077 1741.56,777.463 1751.92,777.826 1762.28,778.165 1772.64,778.482 1783,778.775 1793.36,779.047 1803.72,779.295 1814.08,779.522 1824.43,779.726 1834.79,779.909 1845.15,780.071 1855.51,780.211 1865.87,780.331 1876.23,780.429 1886.59,780.507 1896.95,780.564 1907.31,780.602 1917.67,780.619 1928.03,780.616 1938.39,780.594 1948.75,780.553 1959.11,780.492 1969.46,780.412 1979.82,780.313 1990.18,780.196 2000.54,780.059 2010.9,779.905 2021.26,779.732 2031.62,779.542 2041.98,779.333 2052.34,779.107 2062.7,778.863 2073.06,778.602 2083.42,778.323 2093.78,778.028 2104.13,777.715 2114.49,777.386 2124.85,777.04 2135.21,776.678 2145.57,776.299 2155.93,775.904 2166.29,775.493 2176.65,775.066 2187.01,774.623 2197.37,774.165 2207.73,773.691 2218.09,773.202 2228.45,772.697 2238.8,772.177 2249.16,771.642 2259.52,771.093 2269.88,770.528 2280.24,769.949 2290.6,769.355 \"/>\n",
       "<polyline clip-path=\"url(#clip742)\" style=\"stroke:#e26f46; stroke-linecap:round; stroke-linejoin:round; stroke-width:4; stroke-opacity:1; fill:none\" points=\"218.754,1324.37 229.113,1325.33 239.472,1326.29 249.831,1327.24 260.191,1328.18 270.55,1329.12 280.909,1330.06 291.268,1330.99 301.628,1331.92 311.987,1332.84 322.346,1333.75 332.705,1334.67 343.064,1335.58 353.424,1336.48 363.783,1337.38 374.142,1338.27 384.501,1339.16 394.861,1340.05 405.22,1340.93 415.579,1341.81 425.938,1342.68 436.298,1343.55 446.657,1344.41 457.016,1345.27 467.375,1346.13 477.734,1346.98 488.094,1347.82 498.453,1348.67 508.812,1349.5 519.171,1350.34 529.531,1351.17 539.89,1351.99 550.249,1352.82 560.608,1353.63 570.968,1354.45 581.327,1355.26 591.686,1356.06 602.045,1356.86 612.405,1357.66 622.764,1358.46 633.123,1359.24 643.482,1360.03 653.841,1360.81 664.201,1361.59 674.56,1362.36 684.919,1363.13 695.278,1363.9 705.638,1364.66 715.997,1365.42 726.356,1366.18 736.715,1366.93 747.075,1367.68 757.434,1368.42 767.793,1369.16 778.152,1369.9 788.512,1370.63 798.871,1371.36 809.23,1372.08 819.589,1372.81 829.948,1373.52 840.308,1374.24 850.667,1374.95 861.026,1375.66 871.385,1376.36 881.745,1377.06 892.104,1377.76 902.463,1378.45 912.822,1379.14 923.182,1379.83 933.541,1380.51 943.9,1381.19 954.259,1381.87 964.619,1382.54 974.978,1383.21 985.337,1383.88 995.696,1384.54 1006.06,1385.2 1016.41,1385.86 1026.77,1386.51 1037.13,1387.16 1047.49,1387.81 1057.85,1388.45 1068.21,1389.09 1078.57,1389.73 1088.93,1390.36 1099.29,1390.99 1109.65,1391.62 1120.01,1392.25 1130.37,1392.87 1140.73,1393.49 1151.08,1394.1 1161.44,1394.71 1171.8,1395.32 1182.16,1395.93 1192.52,1396.53 1202.88,1397.13 1213.24,1397.73 1223.6,1398.33 1233.96,1398.92 1244.32,1399.5 1254.68,1400.09 1265.04,1400.67 1275.4,1401.25 1285.75,1401.83 1296.11,1402.4 1306.47,1402.97 1316.83,1403.54 1327.19,1404.11 1337.55,1404.67 1347.91,1405.23 1358.27,1405.79 1368.63,1406.34 1378.99,1406.89 1389.35,1407.44 1399.71,1407.99 1410.07,1408.53 1420.42,1409.07 1430.78,1409.61 1441.14,1410.14 1451.5,1410.68 1461.86,1411.21 1472.22,1411.73 1482.58,1412.26 1492.94,1412.78 1503.3,1413.3 1513.66,1413.82 1524.02,1414.33 1534.38,1414.84 1544.74,1415.35 1555.09,1415.86 1565.45,1416.36 1575.81,1416.86 1586.17,1417.36 1596.53,1417.86 1606.89,1418.35 1617.25,1418.84 1627.61,1419.33 1637.97,1419.82 1648.33,1420.3 1658.69,1420.79 1669.05,1421.27 1679.41,1421.74 1689.76,1422.22 1700.12,1422.69 1710.48,1423.16 1720.84,1423.63 1731.2,1424.09 1741.56,1424.56 1751.92,1425.02 1762.28,1425.48 1772.64,1425.93 1783,1426.39 1793.36,1426.84 1803.72,1427.29 1814.08,1427.73 1824.43,1428.18 1834.79,1428.62 1845.15,1429.06 1855.51,1429.5 1865.87,1429.94 1876.23,1430.37 1886.59,1430.8 1896.95,1431.23 1907.31,1431.66 1917.67,1432.09 1928.03,1432.51 1938.39,1432.93 1948.75,1433.35 1959.11,1433.77 1969.46,1434.18 1979.82,1434.59 1990.18,1435.01 2000.54,1435.41 2010.9,1435.82 2021.26,1436.23 2031.62,1436.63 2041.98,1437.03 2052.34,1437.43 2062.7,1437.83 2073.06,1438.22 2083.42,1438.61 2093.78,1439 2104.13,1439.39 2114.49,1439.78 2124.85,1440.16 2135.21,1440.55 2145.57,1440.93 2155.93,1441.31 2166.29,1441.69 2176.65,1442.06 2187.01,1442.43 2197.37,1442.81 2207.73,1443.18 2218.09,1443.54 2228.45,1443.91 2238.8,1444.28 2249.16,1444.64 2259.52,1445 2269.88,1445.36 2280.24,1445.72 \"/>\n",
       "<path clip-path=\"url(#clip740)\" d=\"M1981.74 250.738 L2279.55 250.738 L2279.55 95.2176 L1981.74 95.2176  Z\" fill=\"#ffffff\" fill-rule=\"evenodd\" fill-opacity=\"1\"/>\n",
       "<polyline clip-path=\"url(#clip740)\" style=\"stroke:#000000; stroke-linecap:round; stroke-linejoin:round; stroke-width:4; stroke-opacity:1; fill:none\" points=\"1981.74,250.738 2279.55,250.738 2279.55,95.2176 1981.74,95.2176 1981.74,250.738 \"/>\n",
       "<polyline clip-path=\"url(#clip740)\" style=\"stroke:#009af9; stroke-linecap:round; stroke-linejoin:round; stroke-width:4; stroke-opacity:1; fill:none\" points=\"2006.14,147.058 2152.55,147.058 \"/>\n",
       "<path clip-path=\"url(#clip740)\" d=\"M2201.61 138.412 L2192.23 151.027 L2202.09 164.338 L2197.07 164.338 L2189.52 154.152 L2181.98 164.338 L2176.95 164.338 L2187.02 150.773 L2177.81 138.412 L2182.83 138.412 L2189.71 147.648 L2196.58 138.412 L2201.61 138.412 Z\" fill=\"#000000\" fill-rule=\"nonzero\" fill-opacity=\"1\" /><path clip-path=\"url(#clip740)\" d=\"M2218.34 128.366 Q2215.24 133.69 2213.74 138.898 Q2212.23 144.106 2212.23 149.453 Q2212.23 154.801 2213.74 160.055 Q2215.26 165.287 2218.34 170.588 L2214.64 170.588 Q2211.17 165.148 2209.43 159.893 Q2207.72 154.639 2207.72 149.453 Q2207.72 144.291 2209.43 139.06 Q2211.14 133.828 2214.64 128.366 L2218.34 128.366 Z\" fill=\"#000000\" fill-rule=\"nonzero\" fill-opacity=\"1\" /><path clip-path=\"url(#clip740)\" d=\"M2230.82 131.051 L2230.82 138.412 L2239.59 138.412 L2239.59 141.722 L2230.82 141.722 L2230.82 155.796 Q2230.82 158.967 2231.68 159.87 Q2232.56 160.773 2235.22 160.773 L2239.59 160.773 L2239.59 164.338 L2235.22 164.338 Q2230.29 164.338 2228.41 162.509 Q2226.54 160.657 2226.54 155.796 L2226.54 141.722 L2223.41 141.722 L2223.41 138.412 L2226.54 138.412 L2226.54 131.051 L2230.82 131.051 Z\" fill=\"#000000\" fill-rule=\"nonzero\" fill-opacity=\"1\" /><path clip-path=\"url(#clip740)\" d=\"M2244.52 128.366 L2248.23 128.366 Q2251.7 133.828 2253.41 139.06 Q2255.15 144.291 2255.15 149.453 Q2255.15 154.639 2253.41 159.893 Q2251.7 165.148 2248.23 170.588 L2244.52 170.588 Q2247.6 165.287 2249.11 160.055 Q2250.64 154.801 2250.64 149.453 Q2250.64 144.106 2249.11 138.898 Q2247.6 133.69 2244.52 128.366 Z\" fill=\"#000000\" fill-rule=\"nonzero\" fill-opacity=\"1\" /><polyline clip-path=\"url(#clip740)\" style=\"stroke:#e26f46; stroke-linecap:round; stroke-linejoin:round; stroke-width:4; stroke-opacity:1; fill:none\" points=\"2006.14,198.898 2152.55,198.898 \"/>\n",
       "<path clip-path=\"url(#clip740)\" d=\"M2176.95 205.946 L2176.95 190.252 L2181.21 190.252 L2181.21 205.784 Q2181.21 209.465 2182.65 211.316 Q2184.08 213.145 2186.95 213.145 Q2190.4 213.145 2192.39 210.946 Q2194.41 208.747 2194.41 204.951 L2194.41 190.252 L2198.67 190.252 L2198.67 216.178 L2194.41 216.178 L2194.41 212.196 Q2192.86 214.557 2190.8 215.715 Q2188.76 216.849 2186.05 216.849 Q2181.58 216.849 2179.27 214.071 Q2176.95 211.293 2176.95 205.946 M2187.67 189.627 L2187.67 189.627 Z\" fill=\"#000000\" fill-rule=\"nonzero\" fill-opacity=\"1\" /><path clip-path=\"url(#clip740)\" d=\"M2217.67 180.206 Q2214.57 185.53 2213.07 190.738 Q2211.56 195.946 2211.56 201.293 Q2211.56 206.641 2213.07 211.895 Q2214.59 217.127 2217.67 222.428 L2213.97 222.428 Q2210.5 216.988 2208.76 211.733 Q2207.05 206.479 2207.05 201.293 Q2207.05 196.131 2208.76 190.9 Q2210.47 185.668 2213.97 180.206 L2217.67 180.206 Z\" fill=\"#000000\" fill-rule=\"nonzero\" fill-opacity=\"1\" /><path clip-path=\"url(#clip740)\" d=\"M2230.15 182.891 L2230.15 190.252 L2238.92 190.252 L2238.92 193.562 L2230.15 193.562 L2230.15 207.636 Q2230.15 210.807 2231.01 211.71 Q2231.89 212.613 2234.55 212.613 L2238.92 212.613 L2238.92 216.178 L2234.55 216.178 Q2229.62 216.178 2227.74 214.349 Q2225.87 212.497 2225.87 207.636 L2225.87 193.562 L2222.74 193.562 L2222.74 190.252 L2225.87 190.252 L2225.87 182.891 L2230.15 182.891 Z\" fill=\"#000000\" fill-rule=\"nonzero\" fill-opacity=\"1\" /><path clip-path=\"url(#clip740)\" d=\"M2243.85 180.206 L2247.56 180.206 Q2251.03 185.668 2252.74 190.9 Q2254.48 196.131 2254.48 201.293 Q2254.48 206.479 2252.74 211.733 Q2251.03 216.988 2247.56 222.428 L2243.85 222.428 Q2246.93 217.127 2248.44 211.895 Q2249.96 206.641 2249.96 201.293 Q2249.96 195.946 2248.44 190.738 Q2246.93 185.53 2243.85 180.206 Z\" fill=\"#000000\" fill-rule=\"nonzero\" fill-opacity=\"1\" /></svg>\n"
      ],
      "text/html": [
       "<?xml version=\"1.0\" encoding=\"utf-8\"?>\n",
       "<svg xmlns=\"http://www.w3.org/2000/svg\" xmlns:xlink=\"http://www.w3.org/1999/xlink\" width=\"600\" height=\"400\" viewBox=\"0 0 2400 1600\">\n",
       "<defs>\n",
       "  <clipPath id=\"clip790\">\n",
       "    <rect x=\"0\" y=\"0\" width=\"2400\" height=\"1600\"/>\n",
       "  </clipPath>\n",
       "</defs>\n",
       "<path clip-path=\"url(#clip790)\" d=\"M0 1600 L2400 1600 L2400 8.88178e-14 L0 8.88178e-14  Z\" fill=\"#ffffff\" fill-rule=\"evenodd\" fill-opacity=\"1\"/>\n",
       "<defs>\n",
       "  <clipPath id=\"clip791\">\n",
       "    <rect x=\"480\" y=\"0\" width=\"1681\" height=\"1600\"/>\n",
       "  </clipPath>\n",
       "</defs>\n",
       "<path clip-path=\"url(#clip790)\" d=\"M156.598 1486.45 L2352.76 1486.45 L2352.76 47.2441 L156.598 47.2441  Z\" fill=\"#ffffff\" fill-rule=\"evenodd\" fill-opacity=\"1\"/>\n",
       "<defs>\n",
       "  <clipPath id=\"clip792\">\n",
       "    <rect x=\"156\" y=\"47\" width=\"2197\" height=\"1440\"/>\n",
       "  </clipPath>\n",
       "</defs>\n",
       "<polyline clip-path=\"url(#clip792)\" style=\"stroke:#000000; stroke-linecap:round; stroke-linejoin:round; stroke-width:2; stroke-opacity:0.1; fill:none\" points=\"218.754,1486.45 218.754,47.2441 \"/>\n",
       "<polyline clip-path=\"url(#clip792)\" style=\"stroke:#000000; stroke-linecap:round; stroke-linejoin:round; stroke-width:2; stroke-opacity:0.1; fill:none\" points=\"736.715,1486.45 736.715,47.2441 \"/>\n",
       "<polyline clip-path=\"url(#clip792)\" style=\"stroke:#000000; stroke-linecap:round; stroke-linejoin:round; stroke-width:2; stroke-opacity:0.1; fill:none\" points=\"1254.68,1486.45 1254.68,47.2441 \"/>\n",
       "<polyline clip-path=\"url(#clip792)\" style=\"stroke:#000000; stroke-linecap:round; stroke-linejoin:round; stroke-width:2; stroke-opacity:0.1; fill:none\" points=\"1772.64,1486.45 1772.64,47.2441 \"/>\n",
       "<polyline clip-path=\"url(#clip792)\" style=\"stroke:#000000; stroke-linecap:round; stroke-linejoin:round; stroke-width:2; stroke-opacity:0.1; fill:none\" points=\"2290.6,1486.45 2290.6,47.2441 \"/>\n",
       "<polyline clip-path=\"url(#clip790)\" style=\"stroke:#000000; stroke-linecap:round; stroke-linejoin:round; stroke-width:4; stroke-opacity:1; fill:none\" points=\"156.598,1486.45 2352.76,1486.45 \"/>\n",
       "<polyline clip-path=\"url(#clip790)\" style=\"stroke:#000000; stroke-linecap:round; stroke-linejoin:round; stroke-width:4; stroke-opacity:1; fill:none\" points=\"218.754,1486.45 218.754,1467.55 \"/>\n",
       "<polyline clip-path=\"url(#clip790)\" style=\"stroke:#000000; stroke-linecap:round; stroke-linejoin:round; stroke-width:4; stroke-opacity:1; fill:none\" points=\"736.715,1486.45 736.715,1467.55 \"/>\n",
       "<polyline clip-path=\"url(#clip790)\" style=\"stroke:#000000; stroke-linecap:round; stroke-linejoin:round; stroke-width:4; stroke-opacity:1; fill:none\" points=\"1254.68,1486.45 1254.68,1467.55 \"/>\n",
       "<polyline clip-path=\"url(#clip790)\" style=\"stroke:#000000; stroke-linecap:round; stroke-linejoin:round; stroke-width:4; stroke-opacity:1; fill:none\" points=\"1772.64,1486.45 1772.64,1467.55 \"/>\n",
       "<polyline clip-path=\"url(#clip790)\" style=\"stroke:#000000; stroke-linecap:round; stroke-linejoin:round; stroke-width:4; stroke-opacity:1; fill:none\" points=\"2290.6,1486.45 2290.6,1467.55 \"/>\n",
       "<path clip-path=\"url(#clip790)\" d=\"M218.754 1517.37 Q215.143 1517.37 213.314 1520.93 Q211.508 1524.47 211.508 1531.6 Q211.508 1538.71 213.314 1542.27 Q215.143 1545.82 218.754 1545.82 Q222.388 1545.82 224.193 1542.27 Q226.022 1538.71 226.022 1531.6 Q226.022 1524.47 224.193 1520.93 Q222.388 1517.37 218.754 1517.37 M218.754 1513.66 Q224.564 1513.66 227.619 1518.27 Q230.698 1522.85 230.698 1531.6 Q230.698 1540.33 227.619 1544.94 Q224.564 1549.52 218.754 1549.52 Q212.943 1549.52 209.865 1544.94 Q206.809 1540.33 206.809 1531.6 Q206.809 1522.85 209.865 1518.27 Q212.943 1513.66 218.754 1513.66 Z\" fill=\"#000000\" fill-rule=\"nonzero\" fill-opacity=\"1\" /><path clip-path=\"url(#clip790)\" d=\"M726.993 1514.29 L745.35 1514.29 L745.35 1518.22 L731.276 1518.22 L731.276 1526.7 Q732.294 1526.35 733.313 1526.19 Q734.331 1526 735.35 1526 Q741.137 1526 744.516 1529.17 Q747.896 1532.34 747.896 1537.76 Q747.896 1543.34 744.424 1546.44 Q740.951 1549.52 734.632 1549.52 Q732.456 1549.52 730.188 1549.15 Q727.942 1548.78 725.535 1548.04 L725.535 1543.34 Q727.618 1544.47 729.84 1545.03 Q732.063 1545.58 734.539 1545.58 Q738.544 1545.58 740.882 1543.48 Q743.22 1541.37 743.22 1537.76 Q743.22 1534.15 740.882 1532.04 Q738.544 1529.94 734.539 1529.94 Q732.664 1529.94 730.789 1530.35 Q728.938 1530.77 726.993 1531.65 L726.993 1514.29 Z\" fill=\"#000000\" fill-rule=\"nonzero\" fill-opacity=\"1\" /><path clip-path=\"url(#clip790)\" d=\"M1229.36 1544.91 L1237 1544.91 L1237 1518.55 L1228.69 1520.21 L1228.69 1515.95 L1236.96 1514.29 L1241.63 1514.29 L1241.63 1544.91 L1249.27 1544.91 L1249.27 1548.85 L1229.36 1548.85 L1229.36 1544.91 Z\" fill=\"#000000\" fill-rule=\"nonzero\" fill-opacity=\"1\" /><path clip-path=\"url(#clip790)\" d=\"M1268.72 1517.37 Q1265.11 1517.37 1263.28 1520.93 Q1261.47 1524.47 1261.47 1531.6 Q1261.47 1538.71 1263.28 1542.27 Q1265.11 1545.82 1268.72 1545.82 Q1272.35 1545.82 1274.16 1542.27 Q1275.98 1538.71 1275.98 1531.6 Q1275.98 1524.47 1274.16 1520.93 Q1272.35 1517.37 1268.72 1517.37 M1268.72 1513.66 Q1274.53 1513.66 1277.58 1518.27 Q1280.66 1522.85 1280.66 1531.6 Q1280.66 1540.33 1277.58 1544.94 Q1274.53 1549.52 1268.72 1549.52 Q1262.91 1549.52 1259.83 1544.94 Q1256.77 1540.33 1256.77 1531.6 Q1256.77 1522.85 1259.83 1518.27 Q1262.91 1513.66 1268.72 1513.66 Z\" fill=\"#000000\" fill-rule=\"nonzero\" fill-opacity=\"1\" /><path clip-path=\"url(#clip790)\" d=\"M1747.82 1544.91 L1755.46 1544.91 L1755.46 1518.55 L1747.15 1520.21 L1747.15 1515.95 L1755.42 1514.29 L1760.09 1514.29 L1760.09 1544.91 L1767.73 1544.91 L1767.73 1548.85 L1747.82 1548.85 L1747.82 1544.91 Z\" fill=\"#000000\" fill-rule=\"nonzero\" fill-opacity=\"1\" /><path clip-path=\"url(#clip790)\" d=\"M1777.22 1514.29 L1795.58 1514.29 L1795.58 1518.22 L1781.5 1518.22 L1781.5 1526.7 Q1782.52 1526.35 1783.54 1526.19 Q1784.56 1526 1785.58 1526 Q1791.37 1526 1794.75 1529.17 Q1798.12 1532.34 1798.12 1537.76 Q1798.12 1543.34 1794.65 1546.44 Q1791.18 1549.52 1784.86 1549.52 Q1782.69 1549.52 1780.42 1549.15 Q1778.17 1548.78 1775.76 1548.04 L1775.76 1543.34 Q1777.85 1544.47 1780.07 1545.03 Q1782.29 1545.58 1784.77 1545.58 Q1788.77 1545.58 1791.11 1543.48 Q1793.45 1541.37 1793.45 1537.76 Q1793.45 1534.15 1791.11 1532.04 Q1788.77 1529.94 1784.77 1529.94 Q1782.89 1529.94 1781.02 1530.35 Q1779.17 1530.77 1777.22 1531.65 L1777.22 1514.29 Z\" fill=\"#000000\" fill-rule=\"nonzero\" fill-opacity=\"1\" /><path clip-path=\"url(#clip790)\" d=\"M2269.37 1544.91 L2285.69 1544.91 L2285.69 1548.85 L2263.75 1548.85 L2263.75 1544.91 Q2266.41 1542.16 2270.99 1537.53 Q2275.6 1532.88 2276.78 1531.53 Q2279.03 1529.01 2279.91 1527.27 Q2280.81 1525.51 2280.81 1523.82 Q2280.81 1521.07 2278.86 1519.33 Q2276.94 1517.6 2273.84 1517.6 Q2271.64 1517.6 2269.19 1518.36 Q2266.76 1519.13 2263.98 1520.68 L2263.98 1515.95 Q2266.8 1514.82 2269.26 1514.24 Q2271.71 1513.66 2273.75 1513.66 Q2279.12 1513.66 2282.31 1516.35 Q2285.51 1519.03 2285.51 1523.52 Q2285.51 1525.65 2284.7 1527.57 Q2283.91 1529.47 2281.8 1532.07 Q2281.23 1532.74 2278.12 1535.95 Q2275.02 1539.15 2269.37 1544.91 Z\" fill=\"#000000\" fill-rule=\"nonzero\" fill-opacity=\"1\" /><path clip-path=\"url(#clip790)\" d=\"M2305.51 1517.37 Q2301.9 1517.37 2300.07 1520.93 Q2298.26 1524.47 2298.26 1531.6 Q2298.26 1538.71 2300.07 1542.27 Q2301.9 1545.82 2305.51 1545.82 Q2309.14 1545.82 2310.95 1542.27 Q2312.78 1538.71 2312.78 1531.6 Q2312.78 1524.47 2310.95 1520.93 Q2309.14 1517.37 2305.51 1517.37 M2305.51 1513.66 Q2311.32 1513.66 2314.37 1518.27 Q2317.45 1522.85 2317.45 1531.6 Q2317.45 1540.33 2314.37 1544.94 Q2311.32 1549.52 2305.51 1549.52 Q2299.7 1549.52 2296.62 1544.94 Q2293.56 1540.33 2293.56 1531.6 Q2293.56 1522.85 2296.62 1518.27 Q2299.7 1513.66 2305.51 1513.66 Z\" fill=\"#000000\" fill-rule=\"nonzero\" fill-opacity=\"1\" /><polyline clip-path=\"url(#clip792)\" style=\"stroke:#000000; stroke-linecap:round; stroke-linejoin:round; stroke-width:2; stroke-opacity:0.1; fill:none\" points=\"156.598,1199.58 2352.76,1199.58 \"/>\n",
       "<polyline clip-path=\"url(#clip792)\" style=\"stroke:#000000; stroke-linecap:round; stroke-linejoin:round; stroke-width:2; stroke-opacity:0.1; fill:none\" points=\"156.598,881.976 2352.76,881.976 \"/>\n",
       "<polyline clip-path=\"url(#clip792)\" style=\"stroke:#000000; stroke-linecap:round; stroke-linejoin:round; stroke-width:2; stroke-opacity:0.1; fill:none\" points=\"156.598,564.376 2352.76,564.376 \"/>\n",
       "<polyline clip-path=\"url(#clip792)\" style=\"stroke:#000000; stroke-linecap:round; stroke-linejoin:round; stroke-width:2; stroke-opacity:0.1; fill:none\" points=\"156.598,246.776 2352.76,246.776 \"/>\n",
       "<polyline clip-path=\"url(#clip790)\" style=\"stroke:#000000; stroke-linecap:round; stroke-linejoin:round; stroke-width:4; stroke-opacity:1; fill:none\" points=\"156.598,1486.45 156.598,47.2441 \"/>\n",
       "<polyline clip-path=\"url(#clip790)\" style=\"stroke:#000000; stroke-linecap:round; stroke-linejoin:round; stroke-width:4; stroke-opacity:1; fill:none\" points=\"156.598,1199.58 175.496,1199.58 \"/>\n",
       "<polyline clip-path=\"url(#clip790)\" style=\"stroke:#000000; stroke-linecap:round; stroke-linejoin:round; stroke-width:4; stroke-opacity:1; fill:none\" points=\"156.598,881.976 175.496,881.976 \"/>\n",
       "<polyline clip-path=\"url(#clip790)\" style=\"stroke:#000000; stroke-linecap:round; stroke-linejoin:round; stroke-width:4; stroke-opacity:1; fill:none\" points=\"156.598,564.376 175.496,564.376 \"/>\n",
       "<polyline clip-path=\"url(#clip790)\" style=\"stroke:#000000; stroke-linecap:round; stroke-linejoin:round; stroke-width:4; stroke-opacity:1; fill:none\" points=\"156.598,246.776 175.496,246.776 \"/>\n",
       "<path clip-path=\"url(#clip790)\" d=\"M65.0198 1185.37 Q61.4087 1185.37 59.58 1188.94 Q57.7745 1192.48 57.7745 1199.61 Q57.7745 1206.72 59.58 1210.28 Q61.4087 1213.82 65.0198 1213.82 Q68.6541 1213.82 70.4596 1210.28 Q72.2883 1206.72 72.2883 1199.61 Q72.2883 1192.48 70.4596 1188.94 Q68.6541 1185.37 65.0198 1185.37 M65.0198 1181.67 Q70.83 1181.67 73.8855 1186.28 Q76.9642 1190.86 76.9642 1199.61 Q76.9642 1208.34 73.8855 1212.94 Q70.83 1217.53 65.0198 1217.53 Q59.2097 1217.53 56.131 1212.94 Q53.0754 1208.34 53.0754 1199.61 Q53.0754 1190.86 56.131 1186.28 Q59.2097 1181.67 65.0198 1181.67 Z\" fill=\"#000000\" fill-rule=\"nonzero\" fill-opacity=\"1\" /><path clip-path=\"url(#clip790)\" d=\"M85.1818 1210.98 L90.066 1210.98 L90.066 1216.86 L85.1818 1216.86 L85.1818 1210.98 Z\" fill=\"#000000\" fill-rule=\"nonzero\" fill-opacity=\"1\" /><path clip-path=\"url(#clip790)\" d=\"M104.279 1212.92 L120.598 1212.92 L120.598 1216.86 L98.6539 1216.86 L98.6539 1212.92 Q101.316 1210.17 105.899 1205.54 Q110.506 1200.88 111.686 1199.54 Q113.932 1197.02 114.811 1195.28 Q115.714 1193.52 115.714 1191.83 Q115.714 1189.08 113.77 1187.34 Q111.848 1185.61 108.746 1185.61 Q106.547 1185.61 104.094 1186.37 Q101.663 1187.13 98.8854 1188.68 L98.8854 1183.96 Q101.709 1182.83 104.163 1182.25 Q106.617 1181.67 108.654 1181.67 Q114.024 1181.67 117.219 1184.36 Q120.413 1187.04 120.413 1191.53 Q120.413 1193.66 119.603 1195.58 Q118.816 1197.48 116.709 1200.07 Q116.131 1200.74 113.029 1203.96 Q109.927 1207.16 104.279 1212.92 Z\" fill=\"#000000\" fill-rule=\"nonzero\" fill-opacity=\"1\" /><path clip-path=\"url(#clip790)\" d=\"M62.9365 867.775 Q59.3254 867.775 57.4967 871.339 Q55.6912 874.881 55.6912 882.011 Q55.6912 889.117 57.4967 892.682 Q59.3254 896.224 62.9365 896.224 Q66.5707 896.224 68.3763 892.682 Q70.205 889.117 70.205 882.011 Q70.205 874.881 68.3763 871.339 Q66.5707 867.775 62.9365 867.775 M62.9365 864.071 Q68.7467 864.071 71.8022 868.677 Q74.8809 873.261 74.8809 882.011 Q74.8809 890.737 71.8022 895.344 Q68.7467 899.927 62.9365 899.927 Q57.1264 899.927 54.0477 895.344 Q50.9921 890.737 50.9921 882.011 Q50.9921 873.261 54.0477 868.677 Q57.1264 864.071 62.9365 864.071 Z\" fill=\"#000000\" fill-rule=\"nonzero\" fill-opacity=\"1\" /><path clip-path=\"url(#clip790)\" d=\"M83.0984 893.376 L87.9827 893.376 L87.9827 899.256 L83.0984 899.256 L83.0984 893.376 Z\" fill=\"#000000\" fill-rule=\"nonzero\" fill-opacity=\"1\" /><path clip-path=\"url(#clip790)\" d=\"M111.015 868.77 L99.2095 887.219 L111.015 887.219 L111.015 868.77 M109.788 864.696 L115.668 864.696 L115.668 887.219 L120.598 887.219 L120.598 891.108 L115.668 891.108 L115.668 899.256 L111.015 899.256 L111.015 891.108 L95.4132 891.108 L95.4132 886.594 L109.788 864.696 Z\" fill=\"#000000\" fill-rule=\"nonzero\" fill-opacity=\"1\" /><path clip-path=\"url(#clip790)\" d=\"M63.2606 550.175 Q59.6495 550.175 57.8208 553.74 Q56.0152 557.281 56.0152 564.411 Q56.0152 571.517 57.8208 575.082 Q59.6495 578.624 63.2606 578.624 Q66.8948 578.624 68.7004 575.082 Q70.5291 571.517 70.5291 564.411 Q70.5291 557.281 68.7004 553.74 Q66.8948 550.175 63.2606 550.175 M63.2606 546.471 Q69.0707 546.471 72.1263 551.078 Q75.205 555.661 75.205 564.411 Q75.205 573.138 72.1263 577.744 Q69.0707 582.327 63.2606 582.327 Q57.4504 582.327 54.3717 577.744 Q51.3162 573.138 51.3162 564.411 Q51.3162 555.661 54.3717 551.078 Q57.4504 546.471 63.2606 546.471 Z\" fill=\"#000000\" fill-rule=\"nonzero\" fill-opacity=\"1\" /><path clip-path=\"url(#clip790)\" d=\"M83.4225 575.776 L88.3067 575.776 L88.3067 581.656 L83.4225 581.656 L83.4225 575.776 Z\" fill=\"#000000\" fill-rule=\"nonzero\" fill-opacity=\"1\" /><path clip-path=\"url(#clip790)\" d=\"M109.071 562.513 Q105.922 562.513 104.071 564.665 Q102.242 566.818 102.242 570.568 Q102.242 574.295 104.071 576.471 Q105.922 578.624 109.071 578.624 Q112.219 578.624 114.047 576.471 Q115.899 574.295 115.899 570.568 Q115.899 566.818 114.047 564.665 Q112.219 562.513 109.071 562.513 M118.353 547.86 L118.353 552.119 Q116.594 551.286 114.788 550.846 Q113.006 550.406 111.246 550.406 Q106.617 550.406 104.163 553.531 Q101.733 556.656 101.385 562.976 Q102.751 560.962 104.811 559.897 Q106.871 558.809 109.348 558.809 Q114.557 558.809 117.566 561.98 Q120.598 565.128 120.598 570.568 Q120.598 575.892 117.45 579.11 Q114.302 582.327 109.071 582.327 Q103.075 582.327 99.9039 577.744 Q96.7326 573.138 96.7326 564.411 Q96.7326 556.216 100.621 551.355 Q104.51 546.471 111.061 546.471 Q112.82 546.471 114.603 546.818 Q116.408 547.166 118.353 547.86 Z\" fill=\"#000000\" fill-rule=\"nonzero\" fill-opacity=\"1\" /><path clip-path=\"url(#clip790)\" d=\"M63.5152 232.575 Q59.9041 232.575 58.0754 236.14 Q56.2699 239.681 56.2699 246.811 Q56.2699 253.917 58.0754 257.482 Q59.9041 261.024 63.5152 261.024 Q67.1494 261.024 68.955 257.482 Q70.7837 253.917 70.7837 246.811 Q70.7837 239.681 68.955 236.14 Q67.1494 232.575 63.5152 232.575 M63.5152 228.871 Q69.3254 228.871 72.3809 233.478 Q75.4596 238.061 75.4596 246.811 Q75.4596 255.538 72.3809 260.144 Q69.3254 264.728 63.5152 264.728 Q57.7051 264.728 54.6264 260.144 Q51.5708 255.538 51.5708 246.811 Q51.5708 238.061 54.6264 233.478 Q57.7051 228.871 63.5152 228.871 Z\" fill=\"#000000\" fill-rule=\"nonzero\" fill-opacity=\"1\" /><path clip-path=\"url(#clip790)\" d=\"M83.6771 258.177 L88.5614 258.177 L88.5614 264.056 L83.6771 264.056 L83.6771 258.177 Z\" fill=\"#000000\" fill-rule=\"nonzero\" fill-opacity=\"1\" /><path clip-path=\"url(#clip790)\" d=\"M108.746 247.644 Q105.413 247.644 103.492 249.427 Q101.594 251.209 101.594 254.334 Q101.594 257.459 103.492 259.241 Q105.413 261.024 108.746 261.024 Q112.08 261.024 114.001 259.241 Q115.922 257.436 115.922 254.334 Q115.922 251.209 114.001 249.427 Q112.103 247.644 108.746 247.644 M104.071 245.654 Q101.061 244.913 99.3715 242.853 Q97.7048 240.792 97.7048 237.829 Q97.7048 233.686 100.645 231.279 Q103.608 228.871 108.746 228.871 Q113.908 228.871 116.848 231.279 Q119.788 233.686 119.788 237.829 Q119.788 240.792 118.098 242.853 Q116.432 244.913 113.445 245.654 Q116.825 246.441 118.7 248.732 Q120.598 251.024 120.598 254.334 Q120.598 259.357 117.52 262.042 Q114.464 264.728 108.746 264.728 Q103.029 264.728 99.9502 262.042 Q96.8947 259.357 96.8947 254.334 Q96.8947 251.024 98.7928 248.732 Q100.691 246.441 104.071 245.654 M102.358 238.269 Q102.358 240.954 104.024 242.459 Q105.714 243.964 108.746 243.964 Q111.756 243.964 113.445 242.459 Q115.158 240.954 115.158 238.269 Q115.158 235.584 113.445 234.08 Q111.756 232.575 108.746 232.575 Q105.714 232.575 104.024 234.08 Q102.358 235.584 102.358 238.269 Z\" fill=\"#000000\" fill-rule=\"nonzero\" fill-opacity=\"1\" /><polyline clip-path=\"url(#clip792)\" style=\"stroke:#009af9; stroke-linecap:round; stroke-linejoin:round; stroke-width:4; stroke-opacity:1; fill:none\" points=\"218.754,87.9763 229.113,103.899 239.472,119.418 249.831,134.545 260.191,149.294 270.55,163.678 280.909,177.707 291.268,191.394 301.628,204.749 311.987,217.783 322.346,230.505 332.705,242.925 343.064,255.052 353.424,266.896 363.783,278.463 374.142,289.764 384.501,300.805 394.861,311.594 405.22,322.137 415.579,332.444 425.938,342.518 436.298,352.369 446.657,362 457.016,371.419 467.375,380.632 477.734,389.643 488.094,398.458 498.453,407.083 508.812,415.522 519.171,423.78 529.531,431.861 539.89,439.772 550.249,447.514 560.608,455.094 570.968,462.514 581.327,469.78 591.686,476.894 602.045,483.86 612.405,490.682 622.764,497.364 633.123,503.908 643.482,510.318 653.841,516.597 664.201,522.748 674.56,528.774 684.919,534.678 695.278,540.462 705.638,546.129 715.997,551.683 726.356,557.124 736.715,562.457 747.075,567.683 757.434,572.804 767.793,577.822 778.152,582.741 788.512,587.562 798.871,592.286 809.23,596.917 819.589,601.456 829.948,605.904 840.308,610.264 850.667,614.538 861.026,618.726 871.385,622.832 881.745,626.856 892.104,630.8 902.463,634.665 912.822,638.454 923.182,642.167 933.541,645.806 943.9,649.373 954.259,652.869 964.619,656.294 974.978,659.651 985.337,662.94 995.696,666.164 1006.06,669.322 1016.41,672.417 1026.77,675.449 1037.13,678.419 1047.49,681.329 1057.85,684.179 1068.21,686.971 1078.57,689.705 1088.93,692.383 1099.29,695.006 1109.65,697.573 1120.01,700.088 1130.37,702.549 1140.73,704.959 1151.08,707.317 1161.44,709.625 1171.8,711.884 1182.16,714.094 1192.52,716.256 1202.88,718.371 1213.24,720.44 1223.6,722.462 1233.96,724.44 1244.32,726.374 1254.68,728.264 1265.04,730.111 1275.4,731.915 1285.75,733.678 1296.11,735.4 1306.47,737.081 1316.83,738.722 1327.19,740.324 1337.55,741.888 1347.91,743.412 1358.27,744.9 1368.63,746.35 1378.99,747.763 1389.35,749.14 1399.71,750.482 1410.07,751.788 1420.42,753.06 1430.78,754.297 1441.14,755.501 1451.5,756.671 1461.86,757.809 1472.22,758.914 1482.58,759.987 1492.94,761.028 1503.3,762.038 1513.66,763.017 1524.02,763.966 1534.38,764.884 1544.74,765.773 1555.09,766.633 1565.45,767.463 1575.81,768.265 1586.17,769.039 1596.53,769.784 1606.89,770.502 1617.25,771.193 1627.61,771.857 1637.97,772.494 1648.33,773.105 1658.69,773.689 1669.05,774.248 1679.41,774.782 1689.76,775.29 1700.12,775.773 1710.48,776.232 1720.84,776.666 1731.2,777.077 1741.56,777.463 1751.92,777.826 1762.28,778.165 1772.64,778.482 1783,778.775 1793.36,779.047 1803.72,779.295 1814.08,779.522 1824.43,779.726 1834.79,779.909 1845.15,780.071 1855.51,780.211 1865.87,780.331 1876.23,780.429 1886.59,780.507 1896.95,780.564 1907.31,780.602 1917.67,780.619 1928.03,780.616 1938.39,780.594 1948.75,780.553 1959.11,780.492 1969.46,780.412 1979.82,780.313 1990.18,780.196 2000.54,780.059 2010.9,779.905 2021.26,779.732 2031.62,779.542 2041.98,779.333 2052.34,779.107 2062.7,778.863 2073.06,778.602 2083.42,778.323 2093.78,778.028 2104.13,777.715 2114.49,777.386 2124.85,777.04 2135.21,776.678 2145.57,776.299 2155.93,775.904 2166.29,775.493 2176.65,775.066 2187.01,774.623 2197.37,774.165 2207.73,773.691 2218.09,773.202 2228.45,772.697 2238.8,772.177 2249.16,771.642 2259.52,771.093 2269.88,770.528 2280.24,769.949 2290.6,769.355 \"/>\n",
       "<polyline clip-path=\"url(#clip792)\" style=\"stroke:#e26f46; stroke-linecap:round; stroke-linejoin:round; stroke-width:4; stroke-opacity:1; fill:none\" points=\"218.754,1324.37 229.113,1325.33 239.472,1326.29 249.831,1327.24 260.191,1328.18 270.55,1329.12 280.909,1330.06 291.268,1330.99 301.628,1331.92 311.987,1332.84 322.346,1333.75 332.705,1334.67 343.064,1335.58 353.424,1336.48 363.783,1337.38 374.142,1338.27 384.501,1339.16 394.861,1340.05 405.22,1340.93 415.579,1341.81 425.938,1342.68 436.298,1343.55 446.657,1344.41 457.016,1345.27 467.375,1346.13 477.734,1346.98 488.094,1347.82 498.453,1348.67 508.812,1349.5 519.171,1350.34 529.531,1351.17 539.89,1351.99 550.249,1352.82 560.608,1353.63 570.968,1354.45 581.327,1355.26 591.686,1356.06 602.045,1356.86 612.405,1357.66 622.764,1358.46 633.123,1359.24 643.482,1360.03 653.841,1360.81 664.201,1361.59 674.56,1362.36 684.919,1363.13 695.278,1363.9 705.638,1364.66 715.997,1365.42 726.356,1366.18 736.715,1366.93 747.075,1367.68 757.434,1368.42 767.793,1369.16 778.152,1369.9 788.512,1370.63 798.871,1371.36 809.23,1372.08 819.589,1372.81 829.948,1373.52 840.308,1374.24 850.667,1374.95 861.026,1375.66 871.385,1376.36 881.745,1377.06 892.104,1377.76 902.463,1378.45 912.822,1379.14 923.182,1379.83 933.541,1380.51 943.9,1381.19 954.259,1381.87 964.619,1382.54 974.978,1383.21 985.337,1383.88 995.696,1384.54 1006.06,1385.2 1016.41,1385.86 1026.77,1386.51 1037.13,1387.16 1047.49,1387.81 1057.85,1388.45 1068.21,1389.09 1078.57,1389.73 1088.93,1390.36 1099.29,1390.99 1109.65,1391.62 1120.01,1392.25 1130.37,1392.87 1140.73,1393.49 1151.08,1394.1 1161.44,1394.71 1171.8,1395.32 1182.16,1395.93 1192.52,1396.53 1202.88,1397.13 1213.24,1397.73 1223.6,1398.33 1233.96,1398.92 1244.32,1399.5 1254.68,1400.09 1265.04,1400.67 1275.4,1401.25 1285.75,1401.83 1296.11,1402.4 1306.47,1402.97 1316.83,1403.54 1327.19,1404.11 1337.55,1404.67 1347.91,1405.23 1358.27,1405.79 1368.63,1406.34 1378.99,1406.89 1389.35,1407.44 1399.71,1407.99 1410.07,1408.53 1420.42,1409.07 1430.78,1409.61 1441.14,1410.14 1451.5,1410.68 1461.86,1411.21 1472.22,1411.73 1482.58,1412.26 1492.94,1412.78 1503.3,1413.3 1513.66,1413.82 1524.02,1414.33 1534.38,1414.84 1544.74,1415.35 1555.09,1415.86 1565.45,1416.36 1575.81,1416.86 1586.17,1417.36 1596.53,1417.86 1606.89,1418.35 1617.25,1418.84 1627.61,1419.33 1637.97,1419.82 1648.33,1420.3 1658.69,1420.79 1669.05,1421.27 1679.41,1421.74 1689.76,1422.22 1700.12,1422.69 1710.48,1423.16 1720.84,1423.63 1731.2,1424.09 1741.56,1424.56 1751.92,1425.02 1762.28,1425.48 1772.64,1425.93 1783,1426.39 1793.36,1426.84 1803.72,1427.29 1814.08,1427.73 1824.43,1428.18 1834.79,1428.62 1845.15,1429.06 1855.51,1429.5 1865.87,1429.94 1876.23,1430.37 1886.59,1430.8 1896.95,1431.23 1907.31,1431.66 1917.67,1432.09 1928.03,1432.51 1938.39,1432.93 1948.75,1433.35 1959.11,1433.77 1969.46,1434.18 1979.82,1434.59 1990.18,1435.01 2000.54,1435.41 2010.9,1435.82 2021.26,1436.23 2031.62,1436.63 2041.98,1437.03 2052.34,1437.43 2062.7,1437.83 2073.06,1438.22 2083.42,1438.61 2093.78,1439 2104.13,1439.39 2114.49,1439.78 2124.85,1440.16 2135.21,1440.55 2145.57,1440.93 2155.93,1441.31 2166.29,1441.69 2176.65,1442.06 2187.01,1442.43 2197.37,1442.81 2207.73,1443.18 2218.09,1443.54 2228.45,1443.91 2238.8,1444.28 2249.16,1444.64 2259.52,1445 2269.88,1445.36 2280.24,1445.72 \"/>\n",
       "<path clip-path=\"url(#clip790)\" d=\"M1981.74 250.738 L2279.55 250.738 L2279.55 95.2176 L1981.74 95.2176  Z\" fill=\"#ffffff\" fill-rule=\"evenodd\" fill-opacity=\"1\"/>\n",
       "<polyline clip-path=\"url(#clip790)\" style=\"stroke:#000000; stroke-linecap:round; stroke-linejoin:round; stroke-width:4; stroke-opacity:1; fill:none\" points=\"1981.74,250.738 2279.55,250.738 2279.55,95.2176 1981.74,95.2176 1981.74,250.738 \"/>\n",
       "<polyline clip-path=\"url(#clip790)\" style=\"stroke:#009af9; stroke-linecap:round; stroke-linejoin:round; stroke-width:4; stroke-opacity:1; fill:none\" points=\"2006.14,147.058 2152.55,147.058 \"/>\n",
       "<path clip-path=\"url(#clip790)\" d=\"M2201.61 138.412 L2192.23 151.027 L2202.09 164.338 L2197.07 164.338 L2189.52 154.152 L2181.98 164.338 L2176.95 164.338 L2187.02 150.773 L2177.81 138.412 L2182.83 138.412 L2189.71 147.648 L2196.58 138.412 L2201.61 138.412 Z\" fill=\"#000000\" fill-rule=\"nonzero\" fill-opacity=\"1\" /><path clip-path=\"url(#clip790)\" d=\"M2218.34 128.366 Q2215.24 133.69 2213.74 138.898 Q2212.23 144.106 2212.23 149.453 Q2212.23 154.801 2213.74 160.055 Q2215.26 165.287 2218.34 170.588 L2214.64 170.588 Q2211.17 165.148 2209.43 159.893 Q2207.72 154.639 2207.72 149.453 Q2207.72 144.291 2209.43 139.06 Q2211.14 133.828 2214.64 128.366 L2218.34 128.366 Z\" fill=\"#000000\" fill-rule=\"nonzero\" fill-opacity=\"1\" /><path clip-path=\"url(#clip790)\" d=\"M2230.82 131.051 L2230.82 138.412 L2239.59 138.412 L2239.59 141.722 L2230.82 141.722 L2230.82 155.796 Q2230.82 158.967 2231.68 159.87 Q2232.56 160.773 2235.22 160.773 L2239.59 160.773 L2239.59 164.338 L2235.22 164.338 Q2230.29 164.338 2228.41 162.509 Q2226.54 160.657 2226.54 155.796 L2226.54 141.722 L2223.41 141.722 L2223.41 138.412 L2226.54 138.412 L2226.54 131.051 L2230.82 131.051 Z\" fill=\"#000000\" fill-rule=\"nonzero\" fill-opacity=\"1\" /><path clip-path=\"url(#clip790)\" d=\"M2244.52 128.366 L2248.23 128.366 Q2251.7 133.828 2253.41 139.06 Q2255.15 144.291 2255.15 149.453 Q2255.15 154.639 2253.41 159.893 Q2251.7 165.148 2248.23 170.588 L2244.52 170.588 Q2247.6 165.287 2249.11 160.055 Q2250.64 154.801 2250.64 149.453 Q2250.64 144.106 2249.11 138.898 Q2247.6 133.69 2244.52 128.366 Z\" fill=\"#000000\" fill-rule=\"nonzero\" fill-opacity=\"1\" /><polyline clip-path=\"url(#clip790)\" style=\"stroke:#e26f46; stroke-linecap:round; stroke-linejoin:round; stroke-width:4; stroke-opacity:1; fill:none\" points=\"2006.14,198.898 2152.55,198.898 \"/>\n",
       "<path clip-path=\"url(#clip790)\" d=\"M2176.95 205.946 L2176.95 190.252 L2181.21 190.252 L2181.21 205.784 Q2181.21 209.465 2182.65 211.316 Q2184.08 213.145 2186.95 213.145 Q2190.4 213.145 2192.39 210.946 Q2194.41 208.747 2194.41 204.951 L2194.41 190.252 L2198.67 190.252 L2198.67 216.178 L2194.41 216.178 L2194.41 212.196 Q2192.86 214.557 2190.8 215.715 Q2188.76 216.849 2186.05 216.849 Q2181.58 216.849 2179.27 214.071 Q2176.95 211.293 2176.95 205.946 M2187.67 189.627 L2187.67 189.627 Z\" fill=\"#000000\" fill-rule=\"nonzero\" fill-opacity=\"1\" /><path clip-path=\"url(#clip790)\" d=\"M2217.67 180.206 Q2214.57 185.53 2213.07 190.738 Q2211.56 195.946 2211.56 201.293 Q2211.56 206.641 2213.07 211.895 Q2214.59 217.127 2217.67 222.428 L2213.97 222.428 Q2210.5 216.988 2208.76 211.733 Q2207.05 206.479 2207.05 201.293 Q2207.05 196.131 2208.76 190.9 Q2210.47 185.668 2213.97 180.206 L2217.67 180.206 Z\" fill=\"#000000\" fill-rule=\"nonzero\" fill-opacity=\"1\" /><path clip-path=\"url(#clip790)\" d=\"M2230.15 182.891 L2230.15 190.252 L2238.92 190.252 L2238.92 193.562 L2230.15 193.562 L2230.15 207.636 Q2230.15 210.807 2231.01 211.71 Q2231.89 212.613 2234.55 212.613 L2238.92 212.613 L2238.92 216.178 L2234.55 216.178 Q2229.62 216.178 2227.74 214.349 Q2225.87 212.497 2225.87 207.636 L2225.87 193.562 L2222.74 193.562 L2222.74 190.252 L2225.87 190.252 L2225.87 182.891 L2230.15 182.891 Z\" fill=\"#000000\" fill-rule=\"nonzero\" fill-opacity=\"1\" /><path clip-path=\"url(#clip790)\" d=\"M2243.85 180.206 L2247.56 180.206 Q2251.03 185.668 2252.74 190.9 Q2254.48 196.131 2254.48 201.293 Q2254.48 206.479 2252.74 211.733 Q2251.03 216.988 2247.56 222.428 L2243.85 222.428 Q2246.93 217.127 2248.44 211.895 Q2249.96 206.641 2249.96 201.293 Q2249.96 195.946 2248.44 190.738 Q2246.93 185.53 2243.85 180.206 Z\" fill=\"#000000\" fill-rule=\"nonzero\" fill-opacity=\"1\" /></svg>\n"
      ]
     },
     "execution_count": 287,
     "metadata": {},
     "output_type": "execute_result"
    }
   ],
   "source": [
    "using Plots\n",
    "plot(0.1*(0:N),xsopt[1,:],label=\"x(t)\")\n",
    "plot!(0.1*(0:N-1),opt_u[1,:],label=\"u(t)\")"
   ]
  },
  {
   "cell_type": "markdown",
   "id": "2b66a510-66f1-47c1-96b1-ecddae41b5ed",
   "metadata": {},
   "source": [
    "## Optimal Fishing Effort - Addition of Predator\n",
    "\n",
    "#### Minimization problem: \n",
    "$\\quad$ $\\min_u{g(\\textbf{x}(T))}$ subject to $\\frac{d\\textbf{x}}{dt} = \\textbf{F}(\\textbf{x}(t), \\textbf{u}(t))$, $x(0) = x_0$\n",
    "#### where\n",
    "$\\quad$ $\\textbf{F}(\\textbf{x}(t), \\textbf{u}(t)) = \\begin{bmatrix} \\alpha f(f_{max}-f)-\\beta f u - \\gamma f s\\\\ \\gamma f s - \\rho s \\\\ \\delta m + \\beta f u\\end{bmatrix} \\;$ , $\\beta = 1, f_{max}=f_{0}=1, \\rho = 1, \\alpha = 0.1, \\gamma = 5$\n",
    "#### So,\n",
    "$\\quad$ $\\textbf{F}(\\textbf{x}(t), \\textbf{u}(t)) = \\begin{bmatrix} \\alpha f(1-f)-f u \\\\ \\delta m + f u \\end{bmatrix}, x(0)=x_{0}, \\textbf{u}(t)\\in U  \\space \\forall t$\n",
    "\n",
    "#### Where our objective function is \n",
    "$\\quad$ $g(\\begin{bmatrix} f \\\\ m\\end{bmatrix}) = -m(T)$\n",
    "\n",
    "#### And the gradient is \n",
    "$\\quad$ $\\nabla g(\\begin{bmatrix} f \\\\ m\\end{bmatrix}) = \\begin{bmatrix} 0 \\\\ -1 \\end{bmatrix}$"
   ]
  },
  {
   "cell_type": "code",
   "execution_count": 288,
   "id": "ced6e4c9-bb91-4840-a40e-f9462575888c",
   "metadata": {},
   "outputs": [
    {
     "data": {
      "text/plain": [
       "dFdx_pred (generic function with 2 methods)"
      ]
     },
     "execution_count": 288,
     "metadata": {},
     "output_type": "execute_result"
    }
   ],
   "source": [
    "function F_pred(t, x, u, params, verbose=0)\n",
    "    f, s, m = x\n",
    "    alpha = get(params,\"alpha\",0.1)\n",
    "    delta = get(params,\"delta\",0.05)\n",
    "    dfdt = alpha * f * (1 - f) - f* u[1] - 5 * f * s\n",
    "    dsdt = 5 * f * s - s\n",
    "    dmdt = delta * m + u[1] * f\n",
    "    return [dfdt, dmdt]\n",
    "end\n",
    "\n",
    "function g_pred(xv,verbose=0)\n",
    "    return -xv[2]\n",
    "end\n",
    "\n",
    "function dg_pred(xv, verbose=0) \n",
    "    return [0.0, -1.0]\n",
    "end\n",
    "\n",
    "function dFdu_pred(t, xvect,u,alpha,delta,verbose=0)\n",
    "    return reshape([-xvect[1] ; xvect[1]],2,1)\n",
    "end\n",
    "\n",
    "function dFdx_pred(t, xv, u, alpha, delta,verbose=0)\n",
    "    return [alpha - 2*alpha*xv[1] - u[1]  u[1];\n",
    "                   0                    delta]\n",
    "end"
   ]
  },
  {
   "cell_type": "code",
   "execution_count": 304,
   "id": "1ddfa60b-d3bd-4306-8656-75e288f04523",
   "metadata": {},
   "outputs": [
    {
     "name": "stdout",
     "output_type": "stream",
     "text": [
      "Matrix{Float64}\n",
      "Vector{Float64}\n",
      "xs[:,i+1] shape: (3,)\n"
     ]
    },
    {
     "ename": "LoadError",
     "evalue": "DimensionMismatch: dimensions must match: a has dims (Base.OneTo(3),), b has dims (Base.OneTo(2),), mismatch at 1",
     "output_type": "error",
     "traceback": [
      "DimensionMismatch: dimensions must match: a has dims (Base.OneTo(3),), b has dims (Base.OneTo(2),), mismatch at 1",
      "",
      "Stacktrace:",
      " [1] promote_shape",
      "   @ ./indices.jl:178 [inlined]",
      " [2] promote_shape",
      "   @ ./indices.jl:169 [inlined]",
      " [3] +(A::Vector{Float64}, Bs::Vector{Float64})",
      "   @ Base ./arraymath.jl:14",
      " [4] forwardstep(t0::Float64, xv::Vector{Float64}, u::Matrix{Float64}, F::typeof(F_pred), params::Dict{String, Real}, verbose::Int64, n_eqs::Int64)",
      "   @ Main ./In[299]:13",
      " [5] optimize(xv::Vector{Float64}, t::Float64, N::Int64, u::Matrix{Float64}, T::Int64, params::Dict{String, Real}, F::Function, dFdx::Function, dFdu::typeof(dFdu), g::typeof(g_pred), dg::typeof(dg_pred), n_eqs::Int64)",
      "   @ Main ./In[278]:4",
      " [6] top-level scope",
      "   @ In[304]:3"
     ]
    }
   ],
   "source": [
    "xv2 = [1.0;1.0;1.0]\n",
    "u2 = zeros(1,N)\n",
    "optimize(xv2,t,N,u2,T,params,F_pred,dFdx,dFdu,g_pred,dg_pred,3)"
   ]
  },
  {
   "cell_type": "code",
   "execution_count": null,
   "id": "444183b7-48c9-4609-9577-c8891e8cd7f7",
   "metadata": {},
   "outputs": [],
   "source": []
  }
 ],
 "metadata": {
  "kernelspec": {
   "display_name": "Julia 1.10.2",
   "language": "julia",
   "name": "julia-1.10"
  },
  "language_info": {
   "file_extension": ".jl",
   "mimetype": "application/julia",
   "name": "julia",
   "version": "1.10.2"
  }
 },
 "nbformat": 4,
 "nbformat_minor": 5
}

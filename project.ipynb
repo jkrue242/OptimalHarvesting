{
 "cells": [
  {
   "cell_type": "markdown",
   "id": "2b39d239-7546-4aae-ac1c-8dd1fc683f20",
   "metadata": {},
   "source": [
    "#### Much of this code is adapted from Professor David Stewart's base code"
   ]
  },
  {
   "cell_type": "code",
   "execution_count": null,
   "id": "09225397-9e2e-4704-817b-e378dfca7450",
   "metadata": {},
   "outputs": [],
   "source": [
    "using LinearAlgebra\n",
    "using Plots"
   ]
  },
  {
   "cell_type": "markdown",
   "id": "3ba8869d-66ac-4a2e-8bd1-faebaefd32aa",
   "metadata": {},
   "source": [
    "## Optimal Fishing Effort\n",
    "\n",
    "#### Minimization problem: \n",
    "$\\quad$ $\\min_u{g(\\textbf{x}(T))}$ subject to $\\frac{d\\textbf{x}}{dt} = \\textbf{F}(\\textbf{x}(t), \\textbf{u}(t))$, $x(0) = x_0$\n",
    "#### where\n",
    "$\\quad$ $\\textbf{F}(\\textbf{x}(t), \\textbf{u}(t)) = \\begin{bmatrix} \\alpha f(f_{max}-f)-\\beta f u \\\\ \\delta m + \\beta f u \\end{bmatrix} \\;$ , $\\beta = 1, f_{max}=f_{0}=1$\n",
    "\n",
    "\n",
    "#### Where our objective function is \n",
    "$\\quad$ $g(\\begin{bmatrix} f \\\\ m\\end{bmatrix}) = -m(T)$\n",
    "\n",
    "#### And the gradient is \n",
    "$\\quad$ $\\nabla g(\\begin{bmatrix} f \\\\ m\\end{bmatrix}) = \\begin{bmatrix} 0 \\\\ 1 \\end{bmatrix}$"
   ]
  },
  {
   "cell_type": "code",
   "execution_count": 72,
   "id": "9649bf70-927f-4759-bdf4-a93136269ee6",
   "metadata": {
    "scrolled": true
   },
   "outputs": [
    {
     "data": {
      "text/plain": [
       "dg (generic function with 2 methods)"
      ]
     },
     "execution_count": 72,
     "metadata": {},
     "output_type": "execute_result"
    }
   ],
   "source": [
    "function F(t::Float64, x::Vector{Float64}, u::Float64, alpha::Float64, delta::Float64, beta::Float64, verbose=0)\n",
    "    f, m = x\n",
    "    dfdt = alpha * f * (1 - f) - beta * f * u\n",
    "    dmdt = delta * m + beta * f * u\n",
    "\n",
    "    func = [dfdt, dmdt]\n",
    "    if verbose == 1\n",
    "        println(\"================================\")\n",
    "        println(\"[F]: \",[dfdt, dmdt])\n",
    "    end\n",
    "    return func\n",
    "end\n",
    "\n",
    "function g(xv::Vector{Float64},verbose=0)\n",
    "    if verbose == 1\n",
    "        println(\"[g] g: \", -xv[2])\n",
    "    end\n",
    "    return -xv[2]\n",
    "end\n",
    "\n",
    "function dg(xv::Vector{Float64}, verbose=0) \n",
    "    if verbose == 1\n",
    "        println(\"[dg] dg: \", [0.0, 1.0])\n",
    "    end\n",
    "    return [0.0, 1.0]\n",
    "end"
   ]
  },
  {
   "cell_type": "markdown",
   "id": "ba9e5d5e-59da-4bab-8808-d25037db04f7",
   "metadata": {},
   "source": [
    "#### Derivative of $\\textbf{F}$ with respect to $\\textbf{u}$\n",
    "$\\quad$ $\\nabla_{u} \\textbf{F}(t, \\textbf{x}, \\textbf{u}) = \\begin{bmatrix} -f \\\\ f \\end{bmatrix}$"
   ]
  },
  {
   "cell_type": "code",
   "execution_count": 51,
   "id": "328b68a5-8abc-4b61-96e3-a4d72377fe14",
   "metadata": {},
   "outputs": [
    {
     "data": {
      "text/plain": [
       "dFdu (generic function with 4 methods)"
      ]
     },
     "execution_count": 51,
     "metadata": {},
     "output_type": "execute_result"
    }
   ],
   "source": [
    "function dFdu(xvect::Vector{Float64},u::Float64,alpha::Float64,delta::Float64,beta::Float64,verbose=0)\n",
    "\n",
    "    f, _ = xv\n",
    "    \n",
    "    grad = [-beta * f, beta * f]\n",
    "    \n",
    "    if verbose==1\n",
    "        println(\"================================\")\n",
    "        println(\"[dFdu]: \", grad)\n",
    "    end\n",
    "    return grad\n",
    "end"
   ]
  },
  {
   "cell_type": "markdown",
   "id": "0c1c4aa9-fb99-4b21-a9b3-4d05af6adfe3",
   "metadata": {},
   "source": [
    "#### Derivative of $\\textbf{F}$ with respect to $\\textbf{x}$\n",
    "$\\quad$ $\\nabla_{x} \\textbf{F}(t, \\textbf{x}, \\textbf{u}) = \\begin{bmatrix} \\alpha -2 \\alpha f - u  && 0  \\\\ u  && \\delta \\end{bmatrix}$"
   ]
  },
  {
   "cell_type": "code",
   "execution_count": 32,
   "id": "d8ea9c7a-c765-4e5a-9240-ce823d9e0882",
   "metadata": {},
   "outputs": [
    {
     "data": {
      "text/plain": [
       "dFdx (generic function with 4 methods)"
      ]
     },
     "execution_count": 32,
     "metadata": {},
     "output_type": "execute_result"
    }
   ],
   "source": [
    "function dFdx(t::Float64, xv::Vector{Float64}, u::Float64, alpha::Float64, delta::Float64,beta::Float64, verbose=0)\n",
    "\n",
    "    f, _ = xv\n",
    "    \n",
    "    jacobian = [    -alpha * (1 - 2*f) + beta * u     beta * f     ;  \n",
    "                              beta * u                 delta      ]\n",
    "    \n",
    "    if verbose == 1\n",
    "        println(\"================================\")\n",
    "        println(\"[dFdx]: \", jacobian)\n",
    "    end\n",
    "    return jacobian\n",
    "end"
   ]
  },
  {
   "cell_type": "markdown",
   "id": "839625ab-1ebb-458b-b1ca-9762e8cb5595",
   "metadata": {},
   "source": [
    "#### Discretization via Euler's Method\n",
    "$\\quad$ $\\textbf{x}_{k+1} = \\textbf{x} + h\\textbf{F}(\\textbf{x}_{k},\\textbf{u}_{k})$\n",
    "\n",
    "This allows us to find $\\textbf{x}(T)$ via a forward pass"
   ]
  },
  {
   "cell_type": "code",
   "execution_count": 84,
   "id": "53ec7f53-d653-48d5-956a-9753fbe36ca6",
   "metadata": {},
   "outputs": [
    {
     "data": {
      "text/plain": [
       "forwardstep (generic function with 9 methods)"
      ]
     },
     "execution_count": 84,
     "metadata": {},
     "output_type": "execute_result"
    }
   ],
   "source": [
    "function forwardstep(x0::Vector{Float64},t0::Float64,u::Vector{Float64},h::Float64,alpha::Float64,delta::Float64,beta::Float64,verbose=0)\n",
    "    N = size(u,2) # number of cols of u\n",
    "    n = length(x0)\n",
    "    xs = zeros(eltype(x0),n,N+1)\n",
    "    xs[:,1] = x0\n",
    "    \n",
    "    if verbose == 1\n",
    "        println(\"================================\")\n",
    "        println(\"[forwardstep] N: \", size(u,2)) \n",
    "        println(\"[forwardstep] n: \", length(x0))\n",
    "        println(\"[forwardstep] xs: \", zeros(eltype(x0),n,N+1))\n",
    "        println(\"[forwardstep] xs[:,1]: \", x0)\n",
    "    end\n",
    "    for i = 0:N-1\n",
    "        println(u[:,i+1])\n",
    "        xs[:,i+2] = xs[:,i+1] + h*F(t0+i*h,xs[:,i+1],u[:,i+1],alpha,delta,beta)\n",
    "    end\n",
    "    xs\n",
    "end"
   ]
  },
  {
   "attachments": {},
   "cell_type": "markdown",
   "id": "630a285b-f9e0-4f7a-b1ec-069da3257b85",
   "metadata": {},
   "source": [
    "#### Lagrange Multiplier Equations\n",
    "$\\quad$ $\\lambda_{k-1} = \\lambda_{k} + h\\nabla_{x} \\textbf{F}(\\textbf{x}_k, \\textbf{u}_k)^T \\lambda$\n",
    "\n",
    "Moving backwards from the last $\\lambda$ fills in the rest of the $\\lambda$'s via a backward pass"
   ]
  },
  {
   "cell_type": "code",
   "execution_count": 62,
   "id": "088bba38-a609-4d71-ae18-d2bf4fcb9574",
   "metadata": {},
   "outputs": [
    {
     "data": {
      "text/plain": [
       "adjointstep (generic function with 2 methods)"
      ]
     },
     "execution_count": 62,
     "metadata": {},
     "output_type": "execute_result"
    }
   ],
   "source": [
    "# filling in the lagrange multipliers \n",
    "function adjointstep(λend::Vector{Float64},t0::Float64,dFdx::Function,xs::Vector{Float64},u::Float64;\n",
    "        h::Float64,alpha::Float64,delta::Float64,beta::Float64,verbose=0)\n",
    "    N = size(u,1) - 1\n",
    "    n = length(λend)\n",
    "    λs = zeros(eltype(λend),n,size(xs, 2))\n",
    "    λs[:,N] = λend\n",
    "    if verbose == 1\n",
    "        println(\"================================\")\n",
    "        println(\"[adjointstep] N: \", size(u,2))\n",
    "        println(\"[adjointstep] m: \", length(λend))\n",
    "        println(\"[adjointstep] λs: \", zeros(eltype(λend),n,N))\n",
    "        println(\"[adjointstep] λs[:,N]: \",λend)\n",
    "    end\n",
    "    for i = N-2:-1:0\n",
    "        λs[:,i+1] = λs[:,i+2] + h*dFdx(t0+i*h,xs[:,i+1],u[:,i+1],alpha,delta,beta)*λs[:,i+2]\n",
    "    end\n",
    "    λs\n",
    "end\n"
   ]
  },
  {
   "cell_type": "markdown",
   "id": "d0fe8b88-0829-489d-8c2a-a946b3b6158f",
   "metadata": {},
   "source": [
    "#### Objective function\n",
    "$\\quad$ $g(\\textbf{x}_N)=G(\\textbf{u}_{0}, \\textbf{u}_{1}, ... , \\textbf{u}_{N-1})$\n",
    "\n",
    "where $g(\\textbf{x}_k)$ is the output at each step $k$"
   ]
  },
  {
   "cell_type": "code",
   "execution_count": 6,
   "id": "29a9eb40-f301-4225-8b11-6b6f415aafab",
   "metadata": {},
   "outputs": [
    {
     "data": {
      "text/plain": [
       "G (generic function with 1 method)"
      ]
     },
     "execution_count": 6,
     "metadata": {},
     "output_type": "execute_result"
    }
   ],
   "source": [
    "function G(x0::Vector{Float64},t0::Float64,u::Vector{Float64},h::Float64,F::Function,g::Function, alpha::Float64;\n",
    "        delta::Float64,beta::Float64,verbose=0)\n",
    "    xs = forwardstep(x0,t0,F,u,h,alpha,delta,beta)\n",
    "    if verbose == 1\n",
    "        println(\"================================\")\n",
    "        println(\"[G] g(xs[:,end]: \", g(xs[:, end]))\n",
    "    end\n",
    "    g(xs[end,2])\n",
    "end"
   ]
  },
  {
   "cell_type": "markdown",
   "id": "e5ebc4e3-9c61-4651-9a4f-46f84e490fd7",
   "metadata": {},
   "source": [
    "#### Gradient of objective function with respect to $\\textbf{u}$\n",
    "$\\quad$ $\\nabla_{u_{k}} g(\\textbf{x}_{N}) = \\nabla_{u}\\textbf{F}(\\textbf{x}_{k}, \\textbf{u}_{k})^T \\lambda_{k}$"
   ]
  },
  {
   "cell_type": "code",
   "execution_count": 7,
   "id": "6f077122-91de-491e-aa98-af241d75cce5",
   "metadata": {},
   "outputs": [
    {
     "data": {
      "text/plain": [
       "dG (generic function with 1 method)"
      ]
     },
     "execution_count": 7,
     "metadata": {},
     "output_type": "execute_result"
    }
   ],
   "source": [
    "function dG(x0::Vector{Float64},t0::Float64,u::Vector{Float64},h::Float64,F::Function,dFdx::Function,dFdu::Function;\n",
    "        dg::Function,alpha::Float64,delta::Float64,beta::Float64,verbose=0)\n",
    "    xs = forwardstep(x0,t0,F,u,h,alpha,delta)\n",
    "    λend = dg(xs[:,end])\n",
    "    λs = adjointstep(λend,t0,dFdx,xs,u,h,alpha,delta)\n",
    "    dGval = zeros(eltype(u),size(u,1),size(u,2))\n",
    "    if verbose == 1\n",
    "        println(\"================================\")\n",
    "        println(\"[dG] xs: \", forwardstep(x0,t0,F,u,h,alpha,delta,beta))\n",
    "        println(\"[dG] λend: \", dg(xs[:,end]))\n",
    "        println(\"[dG] λs: \", adjointstep(λend,t0,dFdx,xs,u,h,alpha,delta,beta))\n",
    "        println(\"[dG] dGval: \", zeros(eltype(u),size(u,1),size(u,2)))\n",
    "    end\n",
    "    for i = 0:size(u,2)-1\n",
    "        dGval[:,i+1] = h*dFdu(t0+i*h,xs[:,i+1],u[:,i+1],alpha,delta)'*λs[:,i+1]\n",
    "    end\n",
    "    dGval\n",
    "end"
   ]
  },
  {
   "cell_type": "markdown",
   "id": "31d9e801-b86d-4fd9-b5e0-3dd6328872bd",
   "metadata": {},
   "source": [
    "#### Projection of controls onto $\\space \\mathcal{U}$\n",
    "$\\quad$ Search direction: $\\textbf{d}=[(\\textbf{d}_{0})^T, (\\textbf{d}_{2})^T, ... , (\\textbf{d}_{N-1})^T]^T$\\\n",
    "$\\quad$ New control: $\\textbf{u}^{+}(\\alpha) = Proj_{\\mathcal{U}}(\\textbf{u}+\\alpha \\textbf{d})$, $\\space$ $\\mathcal{U}$ convex\n",
    "\n",
    "This is to incorporate the constraints $\\textbf{u}_{k} \\in U \\space \\forall k$"
   ]
  },
  {
   "cell_type": "code",
   "execution_count": 30,
   "id": "7dba9dfe-d5d9-4785-8c41-e58d78dd9d63",
   "metadata": {},
   "outputs": [
    {
     "data": {
      "text/plain": [
       "proj_u (generic function with 4 methods)"
      ]
     },
     "execution_count": 30,
     "metadata": {},
     "output_type": "execute_result"
    }
   ],
   "source": [
    "function proj_u(u::Vector{Float64},a::Float64,b::Float64,verbose=0)\n",
    "    proj = [max(a,min(b,uval)) for uval in u]\n",
    "    if verbose == 1\n",
    "        println(\"================================\")\n",
    "        println(\"[proj_u] u: \", u)\n",
    "        println(\"[proj_u] a: \", a)\n",
    "        println(\"[proj_u] b: \", b)\n",
    "        println(\"[proj_u]: \", proj)\n",
    "    end\n",
    "    return proj\n",
    "end"
   ]
  },
  {
   "cell_type": "markdown",
   "id": "2abdc3c1-18ff-4571-91c8-a9104773666c",
   "metadata": {},
   "source": [
    "#### Gradient Descent\n",
    "$\\quad$ $\\textbf{u}_{k+1} = \\textbf{u}_{k} - s\\nabla_{u}g(\\textbf{x}_{k})$\\\n",
    "$\\quad$ $\\space\\space\\space\\space\\space\\space\\space\\space = \\textbf{u}_{k} -s\\nabla_{u}\\textbf{F}(\\textbf{x}_{k}, \\textbf{u}_{k})^T \\lambda_{k}$"
   ]
  },
  {
   "cell_type": "code",
   "execution_count": 32,
   "id": "1c73eede-54dd-4733-8941-c1398925ec98",
   "metadata": {},
   "outputs": [
    {
     "data": {
      "text/plain": [
       "grad_descent (generic function with 1 method)"
      ]
     },
     "execution_count": 32,
     "metadata": {},
     "output_type": "execute_result"
    }
   ],
   "source": [
    "function grad_descent(u::Vector{Float64}, s::Float64, grad_val::Vector{Float64})\n",
    "    return u-(s*grad_val)\n",
    "end"
   ]
  },
  {
   "cell_type": "markdown",
   "id": "8c2eb798-7da7-4890-9c3f-f5d2e0806b04",
   "metadata": {},
   "source": [
    "#### Backtracking Line Search\n",
    "Sufficient Decrease Condition: \n",
    "\n",
    "$\\quad$ $G(\\textbf{u}^{+}(\\alpha))\\leq G(\\textbf{u}) + c_{1}\\nabla G(\\textbf{u})^T (\\textbf{u}^{+}(\\alpha)-\\textbf{u})$\n",
    "\n",
    "While this condition is satisfied, we will continue dividing our step length $s$ by $2$. We will break out of the loop if $s$ becomes too small."
   ]
  },
  {
   "cell_type": "code",
   "execution_count": 33,
   "id": "03519d10-7e96-405e-bd55-0739e638fd89",
   "metadata": {},
   "outputs": [
    {
     "data": {
      "text/plain": [
       "backtracking_line_search (generic function with 1 method)"
      ]
     },
     "execution_count": 33,
     "metadata": {},
     "output_type": "execute_result"
    }
   ],
   "source": [
    "function backtracking_line_search(x0::Vector{Float64},t0::Float64,h::Float64,F::Function,g::Function,Gval::Vector{Float64};\n",
    "        dGval::Vector{Float64},s0::Float64,c1::Float64, proj::Function,G::Function,alpha::Float64,delta::Float64)\n",
    "    Gvalold = Gval\n",
    "    s = s0\n",
    "    unew = proj(u-s*dGval) \n",
    "    Gval = G(x0,t0,unew,h,F,g,alpha,delta)\n",
    "    iterations = 0\n",
    "    while Gval > Gvalold + c1*dot(dGval,unew-u) && s > 1e-12*s0\n",
    "        s = s / 2\n",
    "        unew = proj(u-s*dGval)\n",
    "        Gval = G(x0,t0,unew,h,F,g,alpha,delta)\n",
    "        iterations += 1\n",
    "    end\n",
    "    println(\"Backtracking iterations: \", iterations)\n",
    "    return s, unew\n",
    "end"
   ]
  },
  {
   "cell_type": "markdown",
   "id": "55c694d9-bef1-4cab-aaa2-97efd9e18eda",
   "metadata": {},
   "source": [
    "#### Optimal Control Algorithm\n",
    "Performs gradient descent in conjunction with backtracking line search on the iterates of $\\textbf{u}$"
   ]
  },
  {
   "cell_type": "code",
   "execution_count": 13,
   "id": "6303c631-def4-4391-ab02-866fbe5ac1b6",
   "metadata": {},
   "outputs": [
    {
     "data": {
      "text/plain": [
       "optcontrol (generic function with 2 methods)"
      ]
     },
     "execution_count": 13,
     "metadata": {},
     "output_type": "execute_result"
    }
   ],
   "source": [
    "function optcontrol(x0::Vector{Float64},t0::Float64,u::Vector{Float64},h::Float64,alpha::Float64,delta::Float64;\n",
    "        F::Function,dFdx::Function,dFdu::Function,g::Function, dg::Function,proj::Function, eps=1e-2,s0=1.0, c1=0.05,maxiter::Int=10_000,ulist=nothing,trace=0)\n",
    "    Gval = G(x0,t0,u,h,F,g,alpha,delta,beta,1)\n",
    "    Gvalold = Gval\n",
    "    if trace > 0\n",
    "        println(\"optcontrol: Gval = $Gval\")\n",
    "    end\n",
    "    dGval = dG(x0,t0,u,h,F,dFdx,dFdu,dg,alpha,delta,beta,1)\n",
    "    if trace > 1\n",
    "        println(\"optcontrol: dGval = \",dGval)\n",
    "    end\n",
    "    firsttime = true\n",
    "    iter = 0\n",
    "    if ulist != nothing\n",
    "        push!(ulist,u)\n",
    "    end\n",
    "    if trace > 0\n",
    "        println(\"optcontrol: iteration $iter: Gval = $Gval\")\n",
    "        println(\"optcontrol: u = \",u)\n",
    "    end\n",
    "    while ( firsttime || (Gvalold - Gval > eps) ) && (iter < maxiter)\n",
    "        Gvalold = Gval\n",
    "        s = s0\n",
    "        unew = proj(u-s*dGval) # projected gradient descent\n",
    "        Gval = G(x0,t0,unew,h,F,g,alpha,delta,beta1)\n",
    "        while Gval > Gvalold + c1*dot(dGval,unew-u) && s > 1e-12*s0\n",
    "            s = s / 2\n",
    "            unew = proj(u-s*dGval)\n",
    "            Gval = G(x0,t0,unew,h,F,g,alpha,delta,beta,1)\n",
    "        end\n",
    "        if trace > 0\n",
    "            println()\n",
    "            println(\"optcontrol: s = $s\")\n",
    "            println(\"optcontrol: Gval = $Gval, Gval-Gvalold = $(Gval-Gvalold)\")\n",
    "            if trace > 1\n",
    "                println(\"optcontrol: unew = \",unew)\n",
    "                println(\"optcontrol: dGval = \",dGval)\n",
    "            end\n",
    "        end\n",
    "        u = unew\n",
    "        firsttime = false\n",
    "        dGval = dG(x0,t0,u,h,F,dFdx,dFdu,dg,alpha,delta,beta,1)\n",
    "        left = norm(proj(u + alpha * dGval) - u)/min(alpha * norm(dGval),1)\n",
    "        if norm(left < eps)\n",
    "            break\n",
    "        end\n",
    "        if trace > 1\n",
    "            println(\"optcontrol: dGval = \",dGval)\n",
    "        end\n",
    "        if ulist != nothing\n",
    "            push!(ulist,u)\n",
    "        end\n",
    "        iter += 1\n",
    "    end\n",
    "    (u,iter)\n",
    "end"
   ]
  },
  {
   "cell_type": "markdown",
   "id": "85b6dcbe-b707-46cf-937d-7c6d84388586",
   "metadata": {},
   "source": [
    "#### Verifying that our gradients are correct"
   ]
  },
  {
   "cell_type": "code",
   "execution_count": 52,
   "id": "854fb296-dbc3-4668-a670-8b8f9e205927",
   "metadata": {},
   "outputs": [
    {
     "name": "stdout",
     "output_type": "stream",
     "text": [
      "((F(t, xv + dxv, u[1], alpha, delta, beta) - F(t, xv - dxv, u[1], alpha, delta, beta)) - (2 * dFdx(t, xv, u[1], alpha, delta, beta)) * dxv) / norm(dxv) = [-5.333834713047667, 7.960343167660394e-15]\n",
      "((F(t, xv, u[1] + du[1], alpha, delta, beta) - F(t, xv, u[1] - du[1], alpha, delta, beta)) - 2 * dFdu(xv, u[1], alpha, delta, beta) * du[1]) / norm(du) = [1.9949319973733282e-13, 1.1771337872699762e-13]\n",
      "[g] g: -1.0993000000000002\n",
      "[g] g: -1.1007\n",
      "((g(xv + dxv, 1) - g(xv - dxv, 1)) - 2 * dot(dg(xv), dxv)) / norm(dxv) = 2.015484102096234\n"
     ]
    },
    {
     "data": {
      "text/plain": [
       "2.015484102096234"
      ]
     },
     "execution_count": 52,
     "metadata": {},
     "output_type": "execute_result"
    }
   ],
   "source": [
    "using LinearAlgebra\n",
    "xv  = [2.1; 1.1]\n",
    "dxv = 1e-3*[1.2; -0.7]\n",
    "t = 0.0; u = [0.5]; du = 1e-3*[0.7]\n",
    "T = 20 # Start with half the maximum effort\n",
    "alpha = 0.5\n",
    "delta = 0.5\n",
    "beta = 0.5\n",
    "@show (F(t,xv+dxv,u[1],alpha,delta,beta)-F(t,xv-dxv,u[1],alpha,delta,beta)-2dFdx(t,xv,u[1],alpha,delta,beta)*dxv)/norm(dxv)\n",
    "@show (F(t,xv,u[1]+du[1],alpha,delta,beta)-F(t,xv,u[1]-du[1],alpha,delta,beta)-2*dFdu(xv,u[1],alpha,delta,beta)*du[1])/norm(du)\n",
    "@show (g(xv+dxv,1)-g(xv-dxv,1)-2*dot(dg(xv),dxv))/norm(dxv)"
   ]
  },
  {
   "cell_type": "code",
   "execution_count": 85,
   "id": "ce65239d-23c5-46d8-b315-c8e712676abf",
   "metadata": {},
   "outputs": [
    {
     "name": "stdout",
     "output_type": "stream",
     "text": [
      "Vector{Float64}\n",
      "Float64\n",
      "typeof(F)\n",
      "Float64\n",
      "================================\n",
      "[forwardstep] N: 1\n",
      "[forwardstep] n: 2\n",
      "[forwardstep] xs: [0.0 0.0; 0.0 0.0]\n",
      "[forwardstep] xs[:,1]: [1.0, 0.0]\n",
      "[-1.0, -1.0, -1.0, -1.0, -1.0, -1.0, -1.0, -1.0, -1.0, -1.0, -1.0, -1.0, -1.0, -1.0, -1.0, -1.0, -1.0, -1.0, -1.0, -1.0]\n"
     ]
    },
    {
     "ename": "LoadError",
     "evalue": "MethodError: no method matching -(::Float64, ::Vector{Float64})\nFor element-wise subtraction, use broadcasting with dot syntax: scalar .- array\n\n\u001b[0mClosest candidates are:\n\u001b[0m  -(::Real, \u001b[91m::Complex{Bool}\u001b[39m)\n\u001b[0m\u001b[90m   @\u001b[39m \u001b[90mBase\u001b[39m \u001b[90m\u001b[4mcomplex.jl:321\u001b[24m\u001b[39m\n\u001b[0m  -(::Real, \u001b[91m::Complex\u001b[39m)\n\u001b[0m\u001b[90m   @\u001b[39m \u001b[90mBase\u001b[39m \u001b[90m\u001b[4mcomplex.jl:333\u001b[24m\u001b[39m\n\u001b[0m  -(::Number, \u001b[91m::UniformScaling\u001b[39m)\n\u001b[0m\u001b[90m   @\u001b[39m \u001b[36mLinearAlgebra\u001b[39m \u001b[90m~/.julia/juliaup/julia-1.10.2+0.aarch64.apple.darwin14/share/julia/stdlib/v1.10/LinearAlgebra/src/\u001b[39m\u001b[90m\u001b[4muniformscaling.jl:147\u001b[24m\u001b[39m\n\u001b[0m  ...\n",
     "output_type": "error",
     "traceback": [
      "MethodError: no method matching -(::Float64, ::Vector{Float64})\nFor element-wise subtraction, use broadcasting with dot syntax: scalar .- array\n\n\u001b[0mClosest candidates are:\n\u001b[0m  -(::Real, \u001b[91m::Complex{Bool}\u001b[39m)\n\u001b[0m\u001b[90m   @\u001b[39m \u001b[90mBase\u001b[39m \u001b[90m\u001b[4mcomplex.jl:321\u001b[24m\u001b[39m\n\u001b[0m  -(::Real, \u001b[91m::Complex\u001b[39m)\n\u001b[0m\u001b[90m   @\u001b[39m \u001b[90mBase\u001b[39m \u001b[90m\u001b[4mcomplex.jl:333\u001b[24m\u001b[39m\n\u001b[0m  -(::Number, \u001b[91m::UniformScaling\u001b[39m)\n\u001b[0m\u001b[90m   @\u001b[39m \u001b[36mLinearAlgebra\u001b[39m \u001b[90m~/.julia/juliaup/julia-1.10.2+0.aarch64.apple.darwin14/share/julia/stdlib/v1.10/LinearAlgebra/src/\u001b[39m\u001b[90m\u001b[4muniformscaling.jl:147\u001b[24m\u001b[39m\n\u001b[0m  ...\n",
      "",
      "Stacktrace:",
      " [1] F(t::Float64, x::Vector{Float64}, u::Vector{Float64}, alpha::Float64, delta::Float64, beta::Float64, verbose::Int64)",
      "   @ Main ./In[17]:3",
      " [2] F(t::Float64, x::Vector{Float64}, u::Vector{Float64}, alpha::Float64, delta::Float64, beta::Float64)",
      "   @ Main ./In[17]:2",
      " [3] forwardstep(x0::Vector{Float64}, t0::Float64, u::Vector{Float64}, h::Float64, alpha::Float64, delta::Float64, beta::Float64, verbose::Int64)",
      "   @ Main ./In[84]:16",
      " [4] top-level scope",
      "   @ In[85]:8"
     ]
    }
   ],
   "source": [
    "# function forwardstep(x0::Vector{Float64},t0::Float64,F::Function,u::Vector{Float64},h::Float64,alpha::Float64;\n",
    "#         delta::Float64,beta::Float64,verbose=0)\n",
    "println(typeof(xv0))\n",
    "println(typeof(t))\n",
    "println(typeof(F))\n",
    "println(typeof(u[1]))\n",
    "h = 0.1\n",
    "xs = forwardstep(xv0,t,vec(u),h,alpha,delta,beta,1)"
   ]
  },
  {
   "cell_type": "code",
   "execution_count": 78,
   "id": "b4bc7282-4556-4c1a-a064-a3677a32c284",
   "metadata": {},
   "outputs": [
    {
     "data": {
      "text/plain": [
       "2-element Vector{Float64}:\n",
       "  0.0\n",
       " -1.0"
      ]
     },
     "execution_count": 78,
     "metadata": {},
     "output_type": "execute_result"
    }
   ],
   "source": [
    "λend = dg(xs[:,end])"
   ]
  },
  {
   "cell_type": "code",
   "execution_count": 79,
   "id": "da967380-c879-43fb-8f6d-82da757bf005",
   "metadata": {},
   "outputs": [
    {
     "data": {
      "text/plain": [
       "2×20 Matrix{Float64}:\n",
       "  0.0       0.0       0.0      …   0.0      0.0     0.0    0.0   0.0\n",
       " -6.11591  -5.55992  -5.05447     -1.4641  -1.331  -1.21  -1.1  -1.0"
      ]
     },
     "execution_count": 79,
     "metadata": {},
     "output_type": "execute_result"
    }
   ],
   "source": [
    "λs = adjointstep(λend,0.0,dFdx,xs,u,h,alpha,delta)"
   ]
  },
  {
   "cell_type": "code",
   "execution_count": 80,
   "id": "55bf18be-7cec-4a8d-8d45-0a7107193f0d",
   "metadata": {},
   "outputs": [
    {
     "data": {
      "text/plain": [
       "2-element Vector{Float64}:\n",
       "  0.0\n",
       " -1.0"
      ]
     },
     "execution_count": 80,
     "metadata": {},
     "output_type": "execute_result"
    }
   ],
   "source": [
    "dFdx(0,xs[:,end-1],u[:,end],alpha,delta)'*λend"
   ]
  },
  {
   "cell_type": "code",
   "execution_count": 81,
   "id": "4f694457-9453-4a52-8d95-73bf3d1fedba",
   "metadata": {},
   "outputs": [
    {
     "data": {
      "text/plain": [
       "8.531471623413532"
      ]
     },
     "execution_count": 81,
     "metadata": {},
     "output_type": "execute_result"
    }
   ],
   "source": [
    "G(xv0,0.0,u,h,F,g,alpha,delta)"
   ]
  },
  {
   "cell_type": "code",
   "execution_count": 82,
   "id": "000d67a5-a102-4be7-aa22-6ec51c9538af",
   "metadata": {},
   "outputs": [
    {
     "data": {
      "text/plain": [
       "1×20 Matrix{Float64}:\n",
       " -0.611591  -0.611591  -0.606031  …  -0.235765  -0.215436  -0.196664"
      ]
     },
     "execution_count": 82,
     "metadata": {},
     "output_type": "execute_result"
    }
   ],
   "source": [
    "dG(xv0,0.0,u,h,F,dFdx,dFdu,dg,alpha,delta)"
   ]
  },
  {
   "cell_type": "code",
   "execution_count": 83,
   "id": "ffc6e951-704a-4bd5-ba39-1ba4fba34a49",
   "metadata": {},
   "outputs": [
    {
     "data": {
      "text/plain": [
       "-3.350423641866694"
      ]
     },
     "execution_count": 83,
     "metadata": {},
     "output_type": "execute_result"
    }
   ],
   "source": [
    "du = 1e-3*rand(1,20)\n",
    "(G(xv0,0.0,u+du,h,F,g,alpha,delta)-G(xv0,0.0,u-du,h,F,g,alpha,delta)-2*dot(dG(xv0,0.0,u,h,F,dFdx,dFdu,dg,alpha,delta),du))/norm(h*du,1)"
   ]
  },
  {
   "cell_type": "markdown",
   "id": "355a635d-be29-4a07-b8d9-4d7717d81d4e",
   "metadata": {},
   "source": [
    "#### Initial Parameters #1:\n",
    "$\\quad$ $T = 20\\space years, \\alpha = 0.1/year, \\delta = 0.05/year, u_{max}=0.5, N=200, h=0.1$"
   ]
  },
  {
   "cell_type": "code",
   "execution_count": 14,
   "id": "f6484821-5f6e-4b5d-838c-0af3b30dcbd6",
   "metadata": {},
   "outputs": [
    {
     "name": "stdout",
     "output_type": "stream",
     "text": [
      "((F(t, xv + dxv, u, alpha, delta) - F(t, xv - dxv, u, alpha, delta)) - (2 * dFdx(t, xv, u, alpha, delta)) * dxv) / norm(dxv) = [0.5038710255246133, 0.8637789008982342]\n",
      "================================\n",
      "[F] f: -2.2064700000000004\n",
      "[F] m: -2.2064700000000004\n",
      "[F] dfdf: -2.2064700000000004\n",
      "[F] dmdt: -2.2064700000000004\n",
      "================================\n",
      "[F] f: -2.2035300000000007\n",
      "[F] m: -2.2035300000000007\n",
      "[F] dfdf: -2.2035300000000007\n",
      "[F] dmdt: -2.2035300000000007\n",
      "================================\n",
      "[dFdu]: [-2.1; 2.1;;]\n",
      "((F(t, xv, u + du, alpha, delta, 1) - F(t, xv, u - du, alpha, delta, 1)) - 2 * dFdu(t, xv, u, alpha, delta, 1) * du) / norm(du) = [3.9898639947466563e-13, -8.17798210103352e-14]\n"
     ]
    },
    {
     "data": {
      "text/plain": [
       "2-element Vector{Float64}:\n",
       "  3.9898639947466563e-13\n",
       " -8.17798210103352e-14"
      ]
     },
     "execution_count": 14,
     "metadata": {},
     "output_type": "execute_result"
    }
   ],
   "source": [
    "using LinearAlgebra\n",
    "xv  = [2.1; 1.1]\n",
    "dxv = 1e-3*[1.2; -0.7]\n",
    "t = 0; u = [0.5]; du = 1e-3*[0.7]\n",
    "alpha = 0.5\n",
    "delta = 0.5\n",
    "\n",
    "@show (F(t,xv+dxv,u,alpha,delta)-F(t,xv-dxv,u,alpha,delta)-2dFdx(t,xv,u,alpha,delta)*dxv)/norm(dxv)\n",
    "@show (F(t,xv,u+du,alpha,delta,1)-F(t,xv,u-du,alpha,delta,1)-2*dFdu(t,xv,u,alpha,delta,1)*du)/norm(du)\n",
    "# @show (g(xv+dxv)-g(xv-dxv)-2*dot(dg(xv),dxv))/norm(dxv)"
   ]
  },
  {
   "cell_type": "code",
   "execution_count": 138,
   "id": "860ecc4d-e7d2-4b3c-ade3-4fbc60b0010b",
   "metadata": {},
   "outputs": [
    {
     "name": "stdout",
     "output_type": "stream",
     "text": [
      "================================\n",
      "[forwardstep] N: 20\n",
      "[forwardstep] n: 2\n",
      "[forwardstep] xs: [0.0 0.0 0.0 0.0 0.0 0.0 0.0 0.0 0.0 0.0 0.0 0.0 0.0 0.0 0.0 0.0 0.0 0.0 0.0 0.0 0.0; 0.0 0.0 0.0 0.0 0.0 0.0 0.0 0.0 0.0 0.0 0.0 0.0 0.0 0.0 0.0 0.0 0.0 0.0 0.0 0.0 0.0]\n",
      "[forwardstep] xs[:,1]: [1.0, 0.0]\n"
     ]
    },
    {
     "data": {
      "text/plain": [
       "2×21 Matrix{Float64}:\n",
       " 1.0   1.1   1.2045   1.31263   1.42338   …   2.6626    2.70752   2.74711\n",
       " 0.0  -0.1  -0.215   -0.3462   -0.494773     -4.91504  -5.42705  -5.96916"
      ]
     },
     "execution_count": 138,
     "metadata": {},
     "output_type": "execute_result"
    }
   ],
   "source": [
    "N = 20\n",
    "h = 0.1\n",
    "u = -ones(1,N)\n",
    "xv0 = [1.0; 0.0]\n",
    "#function forwardstep(x0,t0,F::Function,u,h,alpha,delta, verbose=0)\n",
    "\n",
    "xs = forwardstep(xv0,t,F,u,h,alpha,delta,1)"
   ]
  },
  {
   "cell_type": "code",
   "execution_count": 139,
   "id": "177bded1-b7cb-4df2-9229-4ae18892f4f8",
   "metadata": {},
   "outputs": [
    {
     "data": {
      "text/plain": [
       "2-element Vector{Float64}:\n",
       "  0.0\n",
       " -1.0"
      ]
     },
     "execution_count": 139,
     "metadata": {},
     "output_type": "execute_result"
    }
   ],
   "source": [
    "λend = dg(xs[:,end])"
   ]
  },
  {
   "cell_type": "code",
   "execution_count": 84,
   "id": "51d08fde-cbd8-4739-9f14-54eebcb5f7e3",
   "metadata": {},
   "outputs": [
    {
     "name": "stdout",
     "output_type": "stream",
     "text": [
      "================================\n",
      "[adjointstep] N: 20\n",
      "[adjointstep] m: 2\n",
      "[adjointstep] λs: [0.0 0.0 0.0 0.0 0.0 0.0 0.0 0.0 0.0 0.0 0.0 0.0 0.0 0.0 0.0 0.0 0.0 0.0 0.0 0.0; 0.0 0.0 0.0 0.0 0.0 0.0 0.0 0.0 0.0 0.0 0.0 0.0 0.0 0.0 0.0 0.0 0.0 0.0 0.0 0.0]\n",
      "[adjointstep] λs[:,N]: [0.0, 1.0]\n"
     ]
    },
    {
     "data": {
      "text/plain": [
       "2×20 Matrix{Float64}:\n",
       " 0.0      0.0      0.0      0.0      …  0.0      0.0      0.0     0.0   0.0\n",
       " 2.52695  2.40662  2.29202  2.18287     1.21551  1.15763  1.1025  1.05  1.0"
      ]
     },
     "execution_count": 84,
     "metadata": {},
     "output_type": "execute_result"
    }
   ],
   "source": [
    "λs = adjointstep(λend,0.0,dFdx,xs,u,h,alpha,delta,1)"
   ]
  },
  {
   "cell_type": "code",
   "execution_count": 85,
   "id": "f71db2cd-de61-4f96-afd6-b372ad824580",
   "metadata": {},
   "outputs": [
    {
     "name": "stdout",
     "output_type": "stream",
     "text": [
      "================================\n",
      "dFdx: [-1.2075172909916656 -1.0; 0.0 0.5]\n"
     ]
    },
    {
     "data": {
      "text/plain": [
       "2-element Vector{Float64}:\n",
       " 0.0\n",
       " 0.5"
      ]
     },
     "execution_count": 85,
     "metadata": {},
     "output_type": "execute_result"
    }
   ],
   "source": [
    "dFdx(0,xs[:,end-1],u[:,end],alpha,delta,1)'*λend"
   ]
  },
  {
   "cell_type": "code",
   "execution_count": 86,
   "id": "991574e4-a95f-4880-b7b9-6740e799bbbb",
   "metadata": {},
   "outputs": [
    {
     "name": "stdout",
     "output_type": "stream",
     "text": [
      "================================\n",
      "[G] g(xs[:,end]: 5.969155071721966\n"
     ]
    },
    {
     "data": {
      "text/plain": [
       "5.969155071721966"
      ]
     },
     "execution_count": 86,
     "metadata": {},
     "output_type": "execute_result"
    }
   ],
   "source": [
    "G(xv0,0.0,u,h,F,g,alpha,delta,1)"
   ]
  },
  {
   "cell_type": "code",
   "execution_count": 87,
   "id": "cfe2c44b-d9f9-4801-8d1e-40d392e64ef3",
   "metadata": {},
   "outputs": [
    {
     "name": "stdout",
     "output_type": "stream",
     "text": [
      "================================\n",
      "[dG] xs: [1.0 1.1 1.2045000000000001 1.3126339875000002 1.4233786863679927 1.535585145082858 1.6480218299553295 1.7594263068481633 1.8685612064139194 1.9742693382702552 2.07552276800909 2.1714614451842476 2.2614184215658018 2.3449305209308138 2.421735141670793 2.491755358101249 2.555076423585122 2.6119171106048635 2.66259912756207 2.7075172909916656 2.747112390589473; 0.0 -0.1 -0.21500000000000002 -0.34620000000000006 -0.4947733987500001 -0.6618499373242994 -0.8485009486988002 -1.0557281791292732 -1.2844572187705532 -1.535536200350473 -1.8097399441950222 -2.1077792182056823 -2.4303143236343914 -2.7779718819726913 -3.1513635281644072 -3.551105218739707 -3.977836015486817 -4.432235458619671 -4.91503894261114 -5.427050802497904 -5.969155071721966]\n",
      "[dG] λend: [0.0, 1.0]\n",
      "[dG] λs: [0.0 0.0 0.0 0.0 0.0 0.0 0.0 0.0 0.0 0.0 0.0 0.0 0.0 0.0 0.0 0.0 0.0 0.0 0.0 0.0; 2.5269501953756395 2.406619233691085 2.2920183178010336 2.182874588381937 2.0789281794113683 1.9799315994393982 1.8856491423232364 1.7958563260221299 1.7103393581163142 1.628894626777442 1.5513282159785162 1.477455443789063 1.4071004226562505 1.3400956406250004 1.2762815625000004 1.2155062500000002 1.1576250000000001 1.1025 1.05 1.0]\n",
      "[dG] dGval: [0.0 0.0 0.0 0.0 0.0 0.0 0.0 0.0 0.0 0.0 0.0 0.0 0.0 0.0 0.0 0.0 0.0 0.0 0.0 0.0]\n",
      "[0.25269501953756396]\n",
      "[0.2647281157060194]\n",
      "[0.27607360637913453]\n",
      "[0.28653153751602034]\n",
      "[0.2959102061063956]\n",
      "[0.30403535523792835]\n",
      "[0.3107590950185238]\n",
      "[0.3159676863323027]\n",
      "[0.3195873774379029]\n",
      "[0.3215876716919875]\n",
      "[0.32198170329183334]\n",
      "[0.3208237533165533]\n",
      "[0.31820428167878706]\n",
      "[0.3142431168667895]\n",
      "[0.30908159105727595]\n",
      "[0.30287442112430574]\n",
      "[0.2957820344852728]\n",
      "[0.28796386144418623]\n",
      "[0.2795729083940174]\n",
      "[0.27075172909916656]\n"
     ]
    },
    {
     "data": {
      "text/plain": [
       "1×20 Matrix{Float64}:\n",
       " 0.252695  0.264728  0.276074  0.286532  …  0.287964  0.279573  0.270752"
      ]
     },
     "execution_count": 87,
     "metadata": {},
     "output_type": "execute_result"
    }
   ],
   "source": [
    "dG(xv0,0.0,u,h,F,dFdx,dFdu,dg,alpha,delta,1)"
   ]
  },
  {
   "cell_type": "code",
   "execution_count": 88,
   "id": "0e4ddefa-529b-486c-932b-ec6c6a1baf00",
   "metadata": {},
   "outputs": [
    {
     "data": {
      "text/plain": [
       "2-element Vector{Float64}:\n",
       " 1.0\n",
       " 0.0"
      ]
     },
     "execution_count": 88,
     "metadata": {},
     "output_type": "execute_result"
    }
   ],
   "source": [
    "N = 80\n",
    "h = 0.025\n",
    "u = -ones(1,N)\n",
    "xv0 = [1.0; 0.0]"
   ]
  },
  {
   "cell_type": "code",
   "execution_count": 97,
   "id": "8d456b9e-57c3-4d5a-b140-cc2d9fe3d98f",
   "metadata": {},
   "outputs": [
    {
     "name": "stdout",
     "output_type": "stream",
     "text": [
      "optcontrol: Gval = -0.0\n",
      "[0.10993985842654036]\n",
      "[0.10939289395675658]\n",
      "[0.10884865070324037]\n",
      "[0.10830711512760237]\n",
      "[0.10776827375880832]\n",
      "[0.10723211319284409]\n",
      "[0.10669862009238218]\n",
      "[0.10616778118644994]\n",
      "[0.10563958327009944]\n",
      "[0.10511401320407905]\n",
      "[0.10459105791450651]\n",
      "[0.1040707043925438]\n",
      "[0.10355293969407345]\n",
      "[0.10303775093937656]\n",
      "[0.10252512531281249]\n",
      "[0.10201505006249999]\n",
      "[0.1015075125]\n",
      "[0.1010025]\n",
      "[0.10049999999999999]\n",
      "[0.1]\n",
      "optcontrol: dGval = [0.10993985842654036 0.10939289395675658 0.10884865070324037 0.10830711512760237 0.10776827375880832 0.10723211319284409 0.10669862009238218 0.10616778118644994 0.10563958327009944 0.10511401320407905 0.10459105791450651 0.1040707043925438 0.10355293969407345 0.10303775093937656 0.10252512531281249 0.10201505006249999 0.1015075125 0.1010025 0.10049999999999999 0.1]\n",
      "optcontrol: iteration 0: Gval = -0.0\n",
      "optcontrol: u = [0.0 0.0 0.0 0.0 0.0 0.0 0.0 0.0 0.0 0.0 0.0 0.0 0.0 0.0 0.0 0.0 0.0 0.0 0.0 0.0]\n",
      "\n",
      "optcontrol: s = 9.094947017729282e-13\n",
      "optcontrol: Gval = 2.0031041223616903e-13, Gval-Gvalold = 2.0031041223616903e-13\n",
      "optcontrol: unew = [-9.998971875260428e-14 -9.949225746527789e-14 -9.899727110972924e-14 -9.850474737286492e-14 -9.801467400285066e-14 -9.752703880880662e-14 -9.70418296605041e-14 -9.655903448806379e-14 -9.607864128165551e-14 -9.560063809119952e-14 -9.512501302606917e-14 -9.46517542547952e-14 -9.418085000477135e-14 -9.371228856196154e-14 -9.32460582706085e-14 -9.278214753294377e-14 -9.232054480889928e-14 -9.186123861582018e-14 -9.140421752817928e-14 -9.094947017729283e-14]\n",
      "optcontrol: dGval = [0.10993985842654036 0.10939289395675658 0.10884865070324037 0.10830711512760237 0.10776827375880832 0.10723211319284409 0.10669862009238218 0.10616778118644994 0.10563958327009944 0.10511401320407905 0.10459105791450651 0.1040707043925438 0.10355293969407345 0.10303775093937656 0.10252512531281249 0.10201505006249999 0.1015075125 0.1010025 0.10049999999999999 0.1]\n",
      "[0.10993985842654036]\n",
      "[0.10939289395675766]\n",
      "[0.10884865070324252]\n",
      "[0.10830711512760556]\n",
      "[0.10776827375881254]\n",
      "[0.1072321131928493]\n",
      "[0.10669862009238834]\n",
      "[0.10616778118645705]\n",
      "[0.10563958327010743]\n",
      "[0.10511401320408793]\n",
      "[0.10459105791451627]\n",
      "[0.10407070439255442]\n",
      "[0.10355293969408488]\n",
      "[0.10303775093938877]\n",
      "[0.10252512531282548]\n",
      "[0.10201505006251373]\n",
      "[0.1015075125000145]\n",
      "[0.1010025000000152]\n",
      "[0.10050000000001591]\n",
      "[0.10000000000001659]\n",
      "optcontrol: dGval = [0.10993985842654036 0.10939289395675766 0.10884865070324252 0.10830711512760556 0.10776827375881254 0.1072321131928493 0.10669862009238834 0.10616778118645705 0.10563958327010743 0.10511401320408793 0.10459105791451627 0.10407070439255442 0.10355293969408488 0.10303775093938877 0.10252512531282548 0.10201505006251373 0.1015075125000145 0.1010025000000152 0.10050000000001591 0.10000000000001659]\n"
     ]
    },
    {
     "data": {
      "text/plain": [
       "([-9.998971875260428e-14 -9.949225746527789e-14 … -9.140421752817928e-14 -9.094947017729283e-14], 1)"
      ]
     },
     "execution_count": 97,
     "metadata": {},
     "output_type": "execute_result"
    }
   ],
   "source": [
    "ulist = []\n",
    "u = zeros(1,20)\n",
    "h = 0.1\n",
    "uopt,iterns = optcontrol(xv0,0.0,u,h,F,dFdx,dFdu,g,dg,u->proj_u(u,-1.0,1.0),eps=1e-4,maxiter=40,ulist=ulist,trace=2, alpha=alpha, delta=delta)"
   ]
  },
  {
   "cell_type": "code",
   "execution_count": 96,
   "id": "1c92b8e4-4aaa-443c-8c40-4e9d6bbf8a97",
   "metadata": {
    "scrolled": true
   },
   "outputs": [
    {
     "name": "stdout",
     "output_type": "stream",
     "text": [
      "(G(xv0, 0.0, u + du, h, F, g, alpha, delta) - G(xv0, 0.0, u - du, h, F, g, alpha, delta)) - 2 * dot(dG(xv0, 0.0, u, h, F, dFdx, dFdu, dg, alpha, delta), du) = -118828.32538354245\n",
      "================================\n",
      "[G] g(xs[:,end]: -6.727499949325601\n",
      "================================\n",
      "[dG] xs: [1.0 1.0 1.0 1.0 1.0 1.0 1.0 1.0 1.0 1.0 1.0 1.0 1.0 1.0 1.0 1.0 1.0 1.0 1.0 1.0 1.0; 1.0 1.1 1.2100000000000002 1.3310000000000002 1.4641000000000002 1.61051 1.7715610000000002 1.9487171 2.1435888100000002 2.357947691 2.5937424601 2.8531167061100002 3.1384283767210004 3.4522712143931003 3.7974983358324104 4.177248169415652 4.594972986357217 5.054470284992938 5.559917313492232 6.115909044841455 6.727499949325601]\n",
      "[dG] λend: [0.0, -1.0]\n",
      "[dG] λs: [0.0 0.0 0.0 0.0 0.0 0.0 0.0 0.0 0.0 0.0 0.0 0.0 0.0 0.0 0.0 0.0 0.0 0.0 0.0 0.0; -6.115909044841455 -5.559917313492232 -5.054470284992938 -4.594972986357217 -4.177248169415652 -3.7974983358324104 -3.4522712143931003 -3.1384283767210004 -2.8531167061100002 -2.5937424601 -2.357947691 -2.1435888100000002 -1.9487171 -1.7715610000000002 -1.61051 -1.4641000000000002 -1.3310000000000002 -1.2100000000000002 -1.1 -1.0]\n",
      "[dG] dGval: [0.0 0.0 0.0 0.0 0.0 0.0 0.0 0.0 0.0 0.0 0.0 0.0 0.0 0.0 0.0 0.0 0.0 0.0 0.0 0.0]\n",
      "================================\n",
      "[G] g(xs[:,end]: -8.560461606714972\n",
      "================================\n",
      "[dG] xs: [1.0 0.9388409095515855 0.8923839968856727 0.8568821928338566 0.8297721975920453 0.8092355834273429 0.7939422110079609 0.7828929702571921 0.7753195918571928 0.7706187312901303 0.7683074162786663 0.7679922423337283 0.7693476623702884 0.7721004365927945 0.7760183416178879 0.7809018761333487 0.7865781053633568 0.7928960497336054 0.7997231979368737 0.8069428432214175 0.8144520238887186; 1.0 1.1611590904484146 1.3294737777695627 1.5075264394971375 1.6976525887324723 1.9020794915399533 2.1230181485075654 2.3627290017678657 2.623572437082558 2.908050453591835 3.2188433641899747 3.5588439875908966 3.93119098211832 4.339302489785212 4.7869109689792415 5.278099918870756 5.8173430951263 6.409546759221316 7.060095477345224 7.774901980257052 8.560461606714972]\n",
      "[dG] λend: [0.0, -1.0]\n",
      "[dG] λs: [0.0 0.0 0.0 0.0 0.0 0.0 0.0 0.0 0.0 0.0 0.0 0.0 0.0 0.0 0.0 0.0 0.0 0.0 0.0 0.0; -6.115909044841455 -5.559917313492232 -5.054470284992938 -4.594972986357217 -4.177248169415652 -3.7974983358324104 -3.4522712143931003 -3.1384283767210004 -2.8531167061100002 -2.5937424601 -2.357947691 -2.1435888100000002 -1.9487171 -1.7715610000000002 -1.61051 -1.4641000000000002 -1.3310000000000002 -1.2100000000000002 -1.1 -1.0]\n",
      "[dG] dGval: [0.0 0.0 0.0 0.0 0.0 0.0 0.0 0.0 0.0 0.0 0.0 0.0 0.0 0.0 0.0 0.0 0.0 0.0 0.0 0.0]\n",
      "================================\n",
      "[G] g(xs[:,end]: -9.64673635776887\n",
      "================================\n",
      "[dG] xs: [1.0 0.9 0.819 0.7554865608103511 0.7094986650548042 0.6758797858908556 0.6513496281435794 0.6337197344563726 0.62147196473996 0.6135176603341785 0.609053058040625 0.6074688685881073 0.6082917636998452 0.6111454082846837 0.6157238768102762 0.6217731541384407 0.6290780561751884 0.6374528715588038 0.6467346128715873 0.6567781320674989 0.6674525883448045; 1.0 1.2 1.41 1.6293373391896488 1.8567316305886905 2.0966347037455337 2.352734961958862 2.6283476808480346 2.9266421219109424 3.2507850946860395 3.6040395805274223 3.989838471085881 4.4118444673111705 4.874002558848927 5.38058901602995 5.9362594387383805 6.546097610468588 7.2156664416732355 7.9510620153378 8.758971593014211 9.64673635776887]\n",
      "[dG] λend: [0.0, -1.0]\n",
      "[dG] λs: [0.0 0.0 0.0 0.0 0.0 0.0 0.0 0.0 0.0 0.0 0.0 0.0 0.0 0.0 0.0 0.0 0.0 0.0 0.0 0.0; -6.115909044841455 -5.559917313492232 -5.054470284992938 -4.594972986357217 -4.177248169415652 -3.7974983358324104 -3.4522712143931003 -3.1384283767210004 -2.8531167061100002 -2.5937424601 -2.357947691 -2.1435888100000002 -1.9487171 -1.7715610000000002 -1.61051 -1.4641000000000002 -1.3310000000000002 -1.2100000000000002 -1.1 -1.0]\n",
      "[dG] dGval: [0.0 0.0 0.0 0.0 0.0 0.0 0.0 0.0 0.0 0.0 0.0 0.0 0.0 0.0 0.0 0.0 0.0 0.0 0.0 0.0]\n",
      "================================\n",
      "[G] g(xs[:,end]: -9.985902191971835\n",
      "================================\n",
      "[dG] xs: [1.0 0.9 0.819 0.7519239 0.695384944860879 0.6470289227069622 0.6088056198244984 0.5812275360212737 0.5614853217867026 0.547711080386126 0.5386138918543028 0.5332717546764315 0.531006792737885 0.5313072654028831 0.5337771107373791 0.5381023287236253 0.5440280202692735 0.5513423760644642 0.5598653244844038 0.5694403829198991 0.5799287640861298; 1.0 1.2 1.41 1.6329 1.87138239 2.128059123486088 2.4019265883059235 2.693513464649201 3.0069472340878836 3.346038154417727 3.714511523672162 4.116155709952836 4.554925541920741 5.035021481328228 5.560955769639855 6.137612039296617 6.770302372935214 7.464824407776662 8.227520296176394 9.065338881650975 9.985902191971835]\n",
      "[dG] λend: [0.0, -1.0]\n",
      "[dG] λs: [0.0 0.0 0.0 0.0 0.0 0.0 0.0 0.0 0.0 0.0 0.0 0.0 0.0 0.0 0.0 0.0 0.0 0.0 0.0 0.0; -6.115909044841455 -5.559917313492232 -5.054470284992938 -4.594972986357217 -4.177248169415652 -3.7974983358324104 -3.4522712143931003 -3.1384283767210004 -2.8531167061100002 -2.5937424601 -2.357947691 -2.1435888100000002 -1.9487171 -1.7715610000000002 -1.61051 -1.4641000000000002 -1.3310000000000002 -1.2100000000000002 -1.1 -1.0]\n",
      "[dG] dGval: [0.0 0.0 0.0 0.0 0.0 0.0 0.0 0.0 0.0 0.0 0.0 0.0 0.0 0.0 0.0 0.0 0.0 0.0 0.0 0.0]\n",
      "================================\n",
      "[G] g(xs[:,end]: -10.139674041671547\n",
      "================================\n",
      "[dG] xs: [1.0 0.9 0.819 0.7519239 0.695384944860879 0.6470289227069622 0.605164280025029 0.5685418994432078 0.5395807965182179 0.5188818450545987 0.5043880444340303 0.49470583439156496 0.4888574934237656 0.4861360063610056 0.48601608299503557 0.4880975005034799 0.4920678459792783 0.49767733033072536 0.5047213568579451 0.5130282173249041 0.5224502702356311; 1.0 1.2 1.41 1.6329 1.87138239 2.128059123486088 2.405567928105393 2.706641148918435 3.0307965675373403 3.379418511809392 3.756818511203633 4.167180646873066 4.614744249709223 5.103927746197625 5.639421223151396 6.2262623729646105 6.869904097835847 7.576278731361244 8.35186203849071 9.203739152751764 10.139674041671547]\n",
      "[dG] λend: [0.0, -1.0]\n",
      "[dG] λs: [0.0 0.0 0.0 0.0 0.0 0.0 0.0 0.0 0.0 0.0 0.0 0.0 0.0 0.0 0.0 0.0 0.0 0.0 0.0 0.0; -6.115909044841455 -5.559917313492232 -5.054470284992938 -4.594972986357217 -4.177248169415652 -3.7974983358324104 -3.4522712143931003 -3.1384283767210004 -2.8531167061100002 -2.5937424601 -2.357947691 -2.1435888100000002 -1.9487171 -1.7715610000000002 -1.61051 -1.4641000000000002 -1.3310000000000002 -1.2100000000000002 -1.1 -1.0]\n",
      "[dG] dGval: [0.0 0.0 0.0 0.0 0.0 0.0 0.0 0.0 0.0 0.0 0.0 0.0 0.0 0.0 0.0 0.0 0.0 0.0 0.0 0.0]\n",
      "================================\n",
      "[G] g(xs[:,end]: -10.229743918733272\n",
      "================================\n",
      "[dG] xs: [1.0 0.9 0.819 0.7519239 0.695384944860879 0.6470289227069622 0.605164280025029 0.5685418994432078 0.5362179103009587 0.5075732821347175 0.48713819922526175 0.4728337872084862 0.46326405224883593 0.4574574352799843 0.4547167960515936 0.4545281801741331 0.45650311655503834 0.46034087838765547 0.46580307691026884 0.4726961253516486 0.48085887447339537; 1.0 1.2 1.41 1.6329 1.87138239 2.128059123486088 2.405567928105393 2.706641148918435 3.0341594537545995 3.3910888535936436 3.7756270864022348 4.192477664467317 4.6462213655619555 5.141515166101285 5.683226334958508 6.276532527475837 6.927004075202688 7.640677523003397 8.424125792188418 9.284528380011 10.229743918733272]\n",
      "[dG] λend: [0.0, -1.0]\n",
      "[dG] λs: [0.0 0.0 0.0 0.0 0.0 0.0 0.0 0.0 0.0 0.0 0.0 0.0 0.0 0.0 0.0 0.0 0.0 0.0 0.0 0.0; -6.115909044841455 -5.559917313492232 -5.054470284992938 -4.594972986357217 -4.177248169415652 -3.7974983358324104 -3.4522712143931003 -3.1384283767210004 -2.8531167061100002 -2.5937424601 -2.357947691 -2.1435888100000002 -1.9487171 -1.7715610000000002 -1.61051 -1.4641000000000002 -1.3310000000000002 -1.2100000000000002 -1.1 -1.0]\n",
      "[dG] dGval: [0.0 0.0 0.0 0.0 0.0 0.0 0.0 0.0 0.0 0.0 0.0 0.0 0.0 0.0 0.0 0.0 0.0 0.0 0.0 0.0]\n",
      "================================\n",
      "[G] g(xs[:,end]: -10.286434508020672\n",
      "================================\n",
      "[dG] xs: [1.0 0.9 0.819 0.7519239 0.695384944860879 0.6470289227069622 0.605164280025029 0.5685418994432078 0.5362179103009587 0.507464945568206 0.48171287847015176 0.462295943618211 0.44874099308299475 0.43971701771740895 0.4342992109567625 0.431825312563706 0.4318082834633165 0.4338810909020822 0.4377605978422202 0.4432232446611693 0.45008824906380085; 1.0 1.2 1.41 1.6329 1.87138239 2.128059123486088 2.405567928105393 2.706641148918435 3.0341594537545995 3.391197190160155 3.7810634037329915 4.2035532370768465 4.662321351732984 5.162314713692856 5.7086005880275 6.306502885855216 6.9617054247404235 7.680338148755278 8.469055285676639 9.335110793107258 10.286434508020672]\n",
      "[dG] λend: [0.0, -1.0]\n",
      "[dG] λs: [0.0 0.0 0.0 0.0 0.0 0.0 0.0 0.0 0.0 0.0 0.0 0.0 0.0 0.0 0.0 0.0 0.0 0.0 0.0 0.0; -6.115909044841455 -5.559917313492232 -5.054470284992938 -4.594972986357217 -4.177248169415652 -3.7974983358324104 -3.4522712143931003 -3.1384283767210004 -2.8531167061100002 -2.5937424601 -2.357947691 -2.1435888100000002 -1.9487171 -1.7715610000000002 -1.61051 -1.4641000000000002 -1.3310000000000002 -1.2100000000000002 -1.1 -1.0]\n",
      "[dG] dGval: [0.0 0.0 0.0 0.0 0.0 0.0 0.0 0.0 0.0 0.0 0.0 0.0 0.0 0.0 0.0 0.0 0.0 0.0 0.0 0.0]\n",
      "================================\n",
      "[G] g(xs[:,end]: -10.326578799774941\n",
      "================================\n",
      "[dG] xs: [1.0 0.9 0.819 0.7519239 0.695384944860879 0.6470289227069622 0.605164280025029 0.5685418994432078 0.5362179103009587 0.507464945568206 0.48171287847015176 0.45850814874175183 0.44069424412638225 0.4283329651463456 0.4202063874045935 0.41546585030697836 0.4135024237870544 0.41386775871824655 0.416223815950566 0.4203098554204723 0.42592011984843103; 1.0 1.2 1.41 1.6329 1.87138239 2.128059123486088 2.405567928105393 2.706641148918435 3.0341594537545995 3.391197190160155 3.7810634037329915 4.207341031953306 4.670716882391923 5.174798132343177 5.724890906930776 6.326483832660366 6.985381040199894 7.707805626219621 8.500488255310442 9.370749196470191 10.326578799774941]\n",
      "[dG] λend: [0.0, -1.0]\n",
      "[dG] λs: [0.0 0.0 0.0 0.0 0.0 0.0 0.0 0.0 0.0 0.0 0.0 0.0 0.0 0.0 0.0 0.0 0.0 0.0 0.0 0.0; -6.115909044841455 -5.559917313492232 -5.054470284992938 -4.594972986357217 -4.177248169415652 -3.7974983358324104 -3.4522712143931003 -3.1384283767210004 -2.8531167061100002 -2.5937424601 -2.357947691 -2.1435888100000002 -1.9487171 -1.7715610000000002 -1.61051 -1.4641000000000002 -1.3310000000000002 -1.2100000000000002 -1.1 -1.0]\n",
      "[dG] dGval: [0.0 0.0 0.0 0.0 0.0 0.0 0.0 0.0 0.0 0.0 0.0 0.0 0.0 0.0 0.0 0.0 0.0 0.0 0.0 0.0]\n",
      "================================\n",
      "[G] g(xs[:,end]: -10.356221616182786\n",
      "================================\n",
      "[dG] xs: [1.0 0.9 0.819 0.7519239 0.695384944860879 0.6470289227069622 0.605164280025029 0.5685418994432078 0.5362179103009587 0.507464945568206 0.48171287847015176 0.45850814874175183 0.437485176495493 0.42159723040899 0.41068326801517785 0.40366197907855145 0.39977540378476484 0.39847713241612315 0.3993633617584937 0.4021287581544458 0.4065372700641789; 1.0 1.2 1.41 1.6329 1.87138239 2.128059123486088 2.405567928105393 2.706641148918435 3.0341594537545995 3.391197190160155 3.7810634037329915 4.207341031953306 4.673925950022812 5.1818156807958164 5.735296511841256 6.340049704100764 7.002013148377121 7.727508237614824 8.52334214276969 9.396898187355053 10.356221616182786]\n",
      "[dG] λend: [0.0, -1.0]\n",
      "[dG] λs: [0.0 0.0 0.0 0.0 0.0 0.0 0.0 0.0 0.0 0.0 0.0 0.0 0.0 0.0 0.0 0.0 0.0 0.0 0.0 0.0; -6.115909044841455 -5.559917313492232 -5.054470284992938 -4.594972986357217 -4.177248169415652 -3.7974983358324104 -3.4522712143931003 -3.1384283767210004 -2.8531167061100002 -2.5937424601 -2.357947691 -2.1435888100000002 -1.9487171 -1.7715610000000002 -1.61051 -1.4641000000000002 -1.3310000000000002 -1.2100000000000002 -1.1 -1.0]\n",
      "[dG] dGval: [0.0 0.0 0.0 0.0 0.0 0.0 0.0 0.0 0.0 0.0 0.0 0.0 0.0 0.0 0.0 0.0 0.0 0.0 0.0 0.0]\n",
      "================================\n",
      "[G] g(xs[:,end]: -10.378936862499149\n",
      "================================\n",
      "[dG] xs: [1.0 0.9 0.819 0.7519239 0.695384944860879 0.6470289227069622 0.605164280025029 0.5685418994432078 0.5362179103009587 0.507464945568206 0.48171287847015176 0.45850814874175183 0.437485176495493 0.41834584853016377 0.40452751217378063 0.39518489957674735 0.3893793967601862 0.38644779363104714 0.3859088540136674 0.38740500944564327 0.3906646442852757; 1.0 1.2 1.41 1.6329 1.87138239 2.128059123486088 2.405567928105393 2.706641148918435 3.0341594537545995 3.391197190160155 3.7810634037329915 4.207341031953306 4.673925950022812 5.1850670626746425 5.741725365253264 6.349329014782451 7.013968798549583 7.742073589747567 8.540530477982578 9.416785691389613 10.378936862499149]\n",
      "[dG] λend: [0.0, -1.0]\n",
      "[dG] λs: [0.0 0.0 0.0 0.0 0.0 0.0 0.0 0.0 0.0 0.0 0.0 0.0 0.0 0.0 0.0 0.0 0.0 0.0 0.0 0.0; -6.115909044841455 -5.559917313492232 -5.054470284992938 -4.594972986357217 -4.177248169415652 -3.7974983358324104 -3.4522712143931003 -3.1384283767210004 -2.8531167061100002 -2.5937424601 -2.357947691 -2.1435888100000002 -1.9487171 -1.7715610000000002 -1.61051 -1.4641000000000002 -1.3310000000000002 -1.2100000000000002 -1.1 -1.0]\n",
      "[dG] dGval: [0.0 0.0 0.0 0.0 0.0 0.0 0.0 0.0 0.0 0.0 0.0 0.0 0.0 0.0 0.0 0.0 0.0 0.0 0.0 0.0]\n",
      "================================\n",
      "[G] g(xs[:,end]: -10.396237292149317\n",
      "================================\n",
      "[dG] xs: [1.0 0.9 0.819 0.7519239 0.695384944860879 0.6470289227069622 0.605164280025029 0.5685418994432078 0.5362179103009587 0.507464945568206 0.48171287847015176 0.45850814874175183 0.437485176495493 0.41834584853016377 0.40142704570997517 0.3896652203215733 0.3819013227795476 0.3773323530602478 0.37538566789984595 0.37564253944180925 0.3777897949776607; 1.0 1.2 1.41 1.6329 1.87138239 2.128059123486088 2.405567928105393 2.706641148918435 3.0341594537545995 3.391197190160155 3.7810634037329915 4.207341031953306 4.673925950022812 5.1850670626746425 5.744825831717069 6.355098577545432 7.022154956481332 7.752544692092643 8.553241111301736 9.43175547771347 10.396237292149317]\n",
      "[dG] λend: [0.0, -1.0]\n",
      "[dG] λs: [0.0 0.0 0.0 0.0 0.0 0.0 0.0 0.0 0.0 0.0 0.0 0.0 0.0 0.0 0.0 0.0 0.0 0.0 0.0 0.0; -6.115909044841455 -5.559917313492232 -5.054470284992938 -4.594972986357217 -4.177248169415652 -3.7974983358324104 -3.4522712143931003 -3.1384283767210004 -2.8531167061100002 -2.5937424601 -2.357947691 -2.1435888100000002 -1.9487171 -1.7715610000000002 -1.61051 -1.4641000000000002 -1.3310000000000002 -1.2100000000000002 -1.1 -1.0]\n",
      "[dG] dGval: [0.0 0.0 0.0 0.0 0.0 0.0 0.0 0.0 0.0 0.0 0.0 0.0 0.0 0.0 0.0 0.0 0.0 0.0 0.0 0.0]\n",
      "================================\n",
      "[G] g(xs[:,end]: -10.409699644630004\n",
      "================================\n",
      "[dG] xs: [1.0 0.9 0.819 0.7519239 0.695384944860879 0.6470289227069622 0.605164280025029 0.5685418994432078 0.5362179103009587 0.507464945568206 0.48171287847015176 0.45850814874175183 0.437485176495493 0.41834584853016377 0.40084452363192147 0.3865316472876774 0.37674610998740543 0.37051799591105455 0.3671672687424663 0.3662041466232375 0.36726746952864325; 1.0 1.2 1.41 1.6329 1.87138239 2.128059123486088 2.405567928105393 2.706641148918435 3.0341594537545995 3.391197190160155 3.7810634037329915 4.207341031953306 4.673925950022812 5.1850670626746425 5.745408353795123 6.3582788846695015 7.027604803729999 7.760074246039027 8.56275583887323 9.443230091430447 10.409699644630004]\n",
      "[dG] λend: [0.0, -1.0]\n",
      "[dG] λs: [0.0 0.0 0.0 0.0 0.0 0.0 0.0 0.0 0.0 0.0 0.0 0.0 0.0 0.0 0.0 0.0 0.0 0.0 0.0 0.0; -6.115909044841455 -5.559917313492232 -5.054470284992938 -4.594972986357217 -4.177248169415652 -3.7974983358324104 -3.4522712143931003 -3.1384283767210004 -2.8531167061100002 -2.5937424601 -2.357947691 -2.1435888100000002 -1.9487171 -1.7715610000000002 -1.61051 -1.4641000000000002 -1.3310000000000002 -1.2100000000000002 -1.1 -1.0]\n",
      "[dG] dGval: [0.0 0.0 0.0 0.0 0.0 0.0 0.0 0.0 0.0 0.0 0.0 0.0 0.0 0.0 0.0 0.0 0.0 0.0 0.0 0.0]\n",
      "================================\n",
      "[G] g(xs[:,end]: -10.421008218357533\n",
      "================================\n",
      "[dG] xs: [1.0 0.9 0.819 0.7519239 0.695384944860879 0.6470289227069622 0.605164280025029 0.5685418994432078 0.5362179103009587 0.507464945568206 0.48171287847015176 0.45850814874175183 0.437485176495493 0.41834584853016377 0.40084452363192147 0.38477689041935126 0.372925762829149 0.3650332419798223 0.36029578539807217 0.3581430876074038 0.3581601705645675; 1.0 1.2 1.41 1.6329 1.87138239 2.128059123486088 2.405567928105393 2.706641148918435 3.0341594537545995 3.391197190160155 3.7810634037329915 4.207341031953306 4.673925950022812 5.1850670626746425 5.745408353795123 6.360033641537828 7.031560496783669 7.765994281136107 8.57050956325442 9.452761490612776 10.421008218357533]\n",
      "[dG] λend: [0.0, -1.0]\n",
      "[dG] λs: [0.0 0.0 0.0 0.0 0.0 0.0 0.0 0.0 0.0 0.0 0.0 0.0 0.0 0.0 0.0 0.0 0.0 0.0 0.0 0.0; -6.115909044841455 -5.559917313492232 -5.054470284992938 -4.594972986357217 -4.177248169415652 -3.7974983358324104 -3.4522712143931003 -3.1384283767210004 -2.8531167061100002 -2.5937424601 -2.357947691 -2.1435888100000002 -1.9487171 -1.7715610000000002 -1.61051 -1.4641000000000002 -1.3310000000000002 -1.2100000000000002 -1.1 -1.0]\n",
      "[dG] dGval: [0.0 0.0 0.0 0.0 0.0 0.0 0.0 0.0 0.0 0.0 0.0 0.0 0.0 0.0 0.0 0.0 0.0 0.0 0.0 0.0]\n",
      "================================\n",
      "[G] g(xs[:,end]: -10.42994551757576\n",
      "================================\n",
      "[dG] xs: [1.0 0.9 0.819 0.7519239 0.695384944860879 0.6470289227069622 0.605164280025029 0.5685418994432078 0.5362179103009587 0.507464945568206 0.48171287847015176 0.45850814874175183 0.437485176495493 0.41834584853016377 0.40084452363192147 0.38477689041935126 0.3707581151168261 0.36115152668054706 0.3550094653444154 0.3516690291060033 0.35065399752679555; 1.0 1.2 1.41 1.6329 1.87138239 2.128059123486088 2.405567928105393 2.706641148918435 3.0341594537545995 3.391197190160155 3.7810634037329915 4.207341031953306 4.673925950022812 5.1850670626746425 5.745408353795123 6.360033641537828 7.033728144495992 7.770037200901054 8.576255092472977 9.460118812444716 10.42994551757576]\n",
      "[dG] λend: [0.0, -1.0]\n",
      "[dG] λs: [0.0 0.0 0.0 0.0 0.0 0.0 0.0 0.0 0.0 0.0 0.0 0.0 0.0 0.0 0.0 0.0 0.0 0.0 0.0 0.0; -6.115909044841455 -5.559917313492232 -5.054470284992938 -4.594972986357217 -4.177248169415652 -3.7974983358324104 -3.4522712143931003 -3.1384283767210004 -2.8531167061100002 -2.5937424601 -2.357947691 -2.1435888100000002 -1.9487171 -1.7715610000000002 -1.61051 -1.4641000000000002 -1.3310000000000002 -1.2100000000000002 -1.1 -1.0]\n",
      "[dG] dGval: [0.0 0.0 0.0 0.0 0.0 0.0 0.0 0.0 0.0 0.0 0.0 0.0 0.0 0.0 0.0 0.0 0.0 0.0 0.0 0.0]\n",
      "================================\n",
      "[G] g(xs[:,end]: -10.437129669074928\n",
      "================================\n",
      "[dG] xs: [1.0 0.9 0.819 0.7519239 0.695384944860879 0.6470289227069622 0.605164280025029 0.5685418994432078 0.5362179103009587 0.507464945568206 0.48171287847015176 0.45850814874175183 0.437485176495493 0.41834584853016377 0.40084452363192147 0.38477689041935126 0.36997156487927274 0.3585887244349091 0.35101513870265166 0.3464817430439404 0.3444429446749433; 1.0 1.2 1.41 1.6329 1.87138239 2.128059123486088 2.405567928105393 2.706641148918435 3.0341594537545995 3.391197190160155 3.7810634037329915 4.207341031953306 4.673925950022812 5.1850670626746425 5.745408353795123 6.360033641537828 7.034514694733546 7.77265826525727 8.58049796262956 9.465861505661648 10.437129669074928]\n",
      "[dG] λend: [0.0, -1.0]\n",
      "[dG] λs: [0.0 0.0 0.0 0.0 0.0 0.0 0.0 0.0 0.0 0.0 0.0 0.0 0.0 0.0 0.0 0.0 0.0 0.0 0.0 0.0; -6.115909044841455 -5.559917313492232 -5.054470284992938 -4.594972986357217 -4.177248169415652 -3.7974983358324104 -3.4522712143931003 -3.1384283767210004 -2.8531167061100002 -2.5937424601 -2.357947691 -2.1435888100000002 -1.9487171 -1.7715610000000002 -1.61051 -1.4641000000000002 -1.3310000000000002 -1.2100000000000002 -1.1 -1.0]\n",
      "[dG] dGval: [0.0 0.0 0.0 0.0 0.0 0.0 0.0 0.0 0.0 0.0 0.0 0.0 0.0 0.0 0.0 0.0 0.0 0.0 0.0 0.0]\n",
      "================================\n",
      "[G] g(xs[:,end]: -10.443304901802136\n",
      "================================\n",
      "[dG] xs: [1.0 0.9 0.819 0.7519239 0.695384944860879 0.6470289227069622 0.605164280025029 0.5685418994432078 0.5362179103009587 0.507464945568206 0.48171287847015176 0.45850814874175183 0.437485176495493 0.41834584853016377 0.40084452363192147 0.38477689041935126 0.36997156487927274 0.3567668654930253 0.3477487721267247 0.3420284334976687 0.3389830894553851; 1.0 1.2 1.41 1.6329 1.87138239 2.128059123486088 2.405567928105393 2.706641148918435 3.0341594537545995 3.391197190160155 3.7810634037329915 4.207341031953306 4.673925950022812 5.1850670626746425 5.745408353795123 6.360033641537828 7.034514694733546 7.774480124199154 8.5838946569033 9.470686417583794 10.443304901802136]\n",
      "[dG] λend: [0.0, -1.0]\n",
      "[dG] λs: [0.0 0.0 0.0 0.0 0.0 0.0 0.0 0.0 0.0 0.0 0.0 0.0 0.0 0.0 0.0 0.0 0.0 0.0 0.0 0.0; -6.115909044841455 -5.559917313492232 -5.054470284992938 -4.594972986357217 -4.177248169415652 -3.7974983358324104 -3.4522712143931003 -3.1384283767210004 -2.8531167061100002 -2.5937424601 -2.357947691 -2.1435888100000002 -1.9487171 -1.7715610000000002 -1.61051 -1.4641000000000002 -1.3310000000000002 -1.2100000000000002 -1.1 -1.0]\n",
      "[dG] dGval: [0.0 0.0 0.0 0.0 0.0 0.0 0.0 0.0 0.0 0.0 0.0 0.0 0.0 0.0 0.0 0.0 0.0 0.0 0.0 0.0]\n",
      "================================\n",
      "[G] g(xs[:,end]: -10.447951433869555\n",
      "================================\n",
      "[dG] xs: [1.0 0.9 0.819 0.7519239 0.695384944860879 0.6470289227069622 0.605164280025029 0.5685418994432078 0.5362179103009587 0.507464945568206 0.48171287847015176 0.45850814874175183 0.437485176495493 0.41834584853016377 0.40084452363192147 0.38477689041935126 0.36997156487927274 0.356283668997351 0.3457569715081388 0.33881566297197613 0.33474893250700927; 1.0 1.2 1.41 1.6329 1.87138239 2.128059123486088 2.405567928105393 2.706641148918435 3.0341594537545995 3.391197190160155 3.7810634037329915 4.207341031953306 4.673925950022812 5.1850670626746425 5.745408353795123 6.360033641537828 7.034514694733546 7.774963320694828 8.585920911873837 9.47407522041355 10.447951433869555]\n",
      "[dG] λend: [0.0, -1.0]\n",
      "[dG] λs: [0.0 0.0 0.0 0.0 0.0 0.0 0.0 0.0 0.0 0.0 0.0 0.0 0.0 0.0 0.0 0.0 0.0 0.0 0.0 0.0; -6.115909044841455 -5.559917313492232 -5.054470284992938 -4.594972986357217 -4.177248169415652 -3.7974983358324104 -3.4522712143931003 -3.1384283767210004 -2.8531167061100002 -2.5937424601 -2.357947691 -2.1435888100000002 -1.9487171 -1.7715610000000002 -1.61051 -1.4641000000000002 -1.3310000000000002 -1.2100000000000002 -1.1 -1.0]\n",
      "[dG] dGval: [0.0 0.0 0.0 0.0 0.0 0.0 0.0 0.0 0.0 0.0 0.0 0.0 0.0 0.0 0.0 0.0 0.0 0.0 0.0 0.0]\n",
      "================================\n",
      "[G] g(xs[:,end]: -10.452028459422415\n",
      "================================\n",
      "[dG] xs: [1.0 0.9 0.819 0.7519239 0.695384944860879 0.6470289227069622 0.605164280025029 0.5685418994432078 0.5362179103009587 0.507464945568206 0.48171287847015176 0.45850814874175183 0.437485176495493 0.41834584853016377 0.40084452363192147 0.38477689041935126 0.36997156487927274 0.356283668997351 0.3442210210693288 0.33605423343984414 0.33097484244042874; 1.0 1.2 1.41 1.6329 1.87138239 2.128059123486088 2.405567928105393 2.706641148918435 3.0341594537545995 3.391197190160155 3.7810634037329915 4.207341031953306 4.673925950022812 5.1850670626746425 5.745408353795123 6.360033641537828 7.034514694733546 7.774963320694828 8.587456862312646 9.476942627145727 10.452028459422415]\n",
      "[dG] λend: [0.0, -1.0]\n",
      "[dG] λs: [0.0 0.0 0.0 0.0 0.0 0.0 0.0 0.0 0.0 0.0 0.0 0.0 0.0 0.0 0.0 0.0 0.0 0.0 0.0 0.0; -6.115909044841455 -5.559917313492232 -5.054470284992938 -4.594972986357217 -4.177248169415652 -3.7974983358324104 -3.4522712143931003 -3.1384283767210004 -2.8531167061100002 -2.5937424601 -2.357947691 -2.1435888100000002 -1.9487171 -1.7715610000000002 -1.61051 -1.4641000000000002 -1.3310000000000002 -1.2100000000000002 -1.1 -1.0]\n",
      "[dG] dGval: [0.0 0.0 0.0 0.0 0.0 0.0 0.0 0.0 0.0 0.0 0.0 0.0 0.0 0.0 0.0 0.0 0.0 0.0 0.0 0.0]\n",
      "================================\n",
      "[G] g(xs[:,end]: -10.455129691821826\n",
      "================================\n",
      "[dG] xs: [1.0 0.9 0.819 0.7519239 0.695384944860879 0.6470289227069622 0.605164280025029 0.5685418994432078 0.5362179103009587 0.507464945568206 0.48171287847015176 0.45850814874175183 0.437485176495493 0.41834584853016377 0.40084452363192147 0.38477689041935126 0.36997156487927274 0.356283668997351 0.3435898637179296 0.3341587570964043 0.3280484001864757; 1.0 1.2 1.41 1.6329 1.87138239 2.128059123486088 2.405567928105393 2.706641148918435 3.0341594537545995 3.391197190160155 3.7810634037329915 4.207341031953306 4.673925950022812 5.1850670626746425 5.745408353795123 6.360033641537828 7.034514694733546 7.774963320694828 8.588088019664045 9.478881515178799 10.455129691821826]\n",
      "[dG] λend: [0.0, -1.0]\n",
      "[dG] λs: [0.0 0.0 0.0 0.0 0.0 0.0 0.0 0.0 0.0 0.0 0.0 0.0 0.0 0.0 0.0 0.0 0.0 0.0 0.0 0.0; -6.115909044841455 -5.559917313492232 -5.054470284992938 -4.594972986357217 -4.177248169415652 -3.7974983358324104 -3.4522712143931003 -3.1384283767210004 -2.8531167061100002 -2.5937424601 -2.357947691 -2.1435888100000002 -1.9487171 -1.7715610000000002 -1.61051 -1.4641000000000002 -1.3310000000000002 -1.2100000000000002 -1.1 -1.0]\n",
      "[dG] dGval: [0.0 0.0 0.0 0.0 0.0 0.0 0.0 0.0 0.0 0.0 0.0 0.0 0.0 0.0 0.0 0.0 0.0 0.0 0.0 0.0]\n",
      "================================\n",
      "[G] g(xs[:,end]: -10.457560214982248\n",
      "================================\n",
      "[dG] xs: [1.0 0.9 0.819 0.7519239 0.695384944860879 0.6470289227069622 0.605164280025029 0.5685418994432078 0.5362179103009587 0.507464945568206 0.48171287847015176 0.45850814874175183 0.437485176495493 0.41834584853016377 0.40084452363192147 0.38477689041935126 0.36997156487927274 0.356283668997351 0.3435898637179296 0.33286016315745753 0.32570449569875326; 1.0 1.2 1.41 1.6329 1.87138239 2.128059123486088 2.405567928105393 2.706641148918435 3.0341594537545995 3.391197190160155 3.7810634037329915 4.207341031953306 4.673925950022812 5.1850670626746425 5.745408353795123 6.360033641537828 7.034514694733546 7.774963320694828 8.588088019664045 9.480180109117745 10.457560214982248]\n",
      "[dG] λend: [0.0, -1.0]\n",
      "[dG] λs: [0.0 0.0 0.0 0.0 0.0 0.0 0.0 0.0 0.0 0.0 0.0 0.0 0.0 0.0 0.0 0.0 0.0 0.0 0.0 0.0; -6.115909044841455 -5.559917313492232 -5.054470284992938 -4.594972986357217 -4.177248169415652 -3.7974983358324104 -3.4522712143931003 -3.1384283767210004 -2.8531167061100002 -2.5937424601 -2.357947691 -2.1435888100000002 -1.9487171 -1.7715610000000002 -1.61051 -1.4641000000000002 -1.3310000000000002 -1.2100000000000002 -1.1 -1.0]\n",
      "[dG] dGval: [0.0 0.0 0.0 0.0 0.0 0.0 0.0 0.0 0.0 0.0 0.0 0.0 0.0 0.0 0.0 0.0 0.0 0.0 0.0 0.0]\n",
      "================================\n",
      "[G] g(xs[:,end]: -10.459752973049989\n",
      "================================\n",
      "[dG] xs: [1.0 0.9 0.819 0.7519239 0.695384944860879 0.6470289227069622 0.605164280025029 0.5685418994432078 0.5362179103009587 0.507464945568206 0.48171287847015176 0.45850814874175183 0.437485176495493 0.41834584853016377 0.40084452363192147 0.38477689041935126 0.36997156487927274 0.356283668997351 0.3435898637179296 0.33178446427295905 0.3235832333794427; 1.0 1.2 1.41 1.6329 1.87138239 2.128059123486088 2.405567928105393 2.706641148918435 3.0341594537545995 3.391197190160155 3.7810634037329915 4.207341031953306 4.673925950022812 5.1850670626746425 5.745408353795123 6.360033641537828 7.034514694733546 7.774963320694828 8.588088019664045 9.481255808002242 10.459752973049989]\n",
      "[dG] λend: [0.0, -1.0]\n",
      "[dG] λs: [0.0 0.0 0.0 0.0 0.0 0.0 0.0 0.0 0.0 0.0 0.0 0.0 0.0 0.0 0.0 0.0 0.0 0.0 0.0 0.0; -6.115909044841455 -5.559917313492232 -5.054470284992938 -4.594972986357217 -4.177248169415652 -3.7974983358324104 -3.4522712143931003 -3.1384283767210004 -2.8531167061100002 -2.5937424601 -2.357947691 -2.1435888100000002 -1.9487171 -1.7715610000000002 -1.61051 -1.4641000000000002 -1.3310000000000002 -1.2100000000000002 -1.1 -1.0]\n",
      "[dG] dGval: [0.0 0.0 0.0 0.0 0.0 0.0 0.0 0.0 0.0 0.0 0.0 0.0 0.0 0.0 0.0 0.0 0.0 0.0 0.0 0.0]\n",
      "================================\n",
      "[G] g(xs[:,end]: -10.460853782357319\n",
      "================================\n",
      "[dG] xs: [1.0 0.9 0.819 0.7519239 0.695384944860879 0.6470289227069622 0.605164280025029 0.5685418994432078 0.5362179103009587 0.507464945568206 0.48171287847015176 0.45850814874175183 0.437485176495493 0.41834584853016377 0.40084452363192147 0.38477689041935126 0.36997156487927274 0.356283668997351 0.3435898637179296 0.33178446427295905 0.32248242407211375; 1.0 1.2 1.41 1.6329 1.87138239 2.128059123486088 2.405567928105393 2.706641148918435 3.0341594537545995 3.391197190160155 3.7810634037329915 4.207341031953306 4.673925950022812 5.1850670626746425 5.745408353795123 6.360033641537828 7.034514694733546 7.774963320694828 8.588088019664045 9.481255808002242 10.460853782357319]\n",
      "[dG] λend: [0.0, -1.0]\n",
      "[dG] λs: [0.0 0.0 0.0 0.0 0.0 0.0 0.0 0.0 0.0 0.0 0.0 0.0 0.0 0.0 0.0 0.0 0.0 0.0 0.0 0.0; -6.115909044841455 -5.559917313492232 -5.054470284992938 -4.594972986357217 -4.177248169415652 -3.7974983358324104 -3.4522712143931003 -3.1384283767210004 -2.8531167061100002 -2.5937424601 -2.357947691 -2.1435888100000002 -1.9487171 -1.7715610000000002 -1.61051 -1.4641000000000002 -1.3310000000000002 -1.2100000000000002 -1.1 -1.0]\n",
      "[dG] dGval: [0.0 0.0 0.0 0.0 0.0 0.0 0.0 0.0 0.0 0.0 0.0 0.0 0.0 0.0 0.0 0.0 0.0 0.0 0.0 0.0]\n",
      "================================\n",
      "[G] g(xs[:,end]: -10.461954591664647\n",
      "================================\n",
      "[dG] xs: [1.0 0.9 0.819 0.7519239 0.695384944860879 0.6470289227069622 0.605164280025029 0.5685418994432078 0.5362179103009587 0.507464945568206 0.48171287847015176 0.45850814874175183 0.437485176495493 0.41834584853016377 0.40084452363192147 0.38477689041935126 0.36997156487927274 0.356283668997351 0.3435898637179296 0.33178446427295905 0.32138161476478483; 1.0 1.2 1.41 1.6329 1.87138239 2.128059123486088 2.405567928105393 2.706641148918435 3.0341594537545995 3.391197190160155 3.7810634037329915 4.207341031953306 4.673925950022812 5.1850670626746425 5.745408353795123 6.360033641537828 7.034514694733546 7.774963320694828 8.588088019664045 9.481255808002242 10.461954591664647]\n",
      "[dG] λend: [0.0, -1.0]\n",
      "[dG] λs: [0.0 0.0 0.0 0.0 0.0 0.0 0.0 0.0 0.0 0.0 0.0 0.0 0.0 0.0 0.0 0.0 0.0 0.0 0.0 0.0; -6.115909044841455 -5.559917313492232 -5.054470284992938 -4.594972986357217 -4.177248169415652 -3.7974983358324104 -3.4522712143931003 -3.1384283767210004 -2.8531167061100002 -2.5937424601 -2.357947691 -2.1435888100000002 -1.9487171 -1.7715610000000002 -1.61051 -1.4641000000000002 -1.3310000000000002 -1.2100000000000002 -1.1 -1.0]\n",
      "[dG] dGval: [0.0 0.0 0.0 0.0 0.0 0.0 0.0 0.0 0.0 0.0 0.0 0.0 0.0 0.0 0.0 0.0 0.0 0.0 0.0 0.0]\n",
      "================================\n",
      "[G] g(xs[:,end]: -10.462559835229762\n",
      "================================\n",
      "[dG] xs: [1.0 0.9 0.819 0.7519239 0.695384944860879 0.6470289227069622 0.605164280025029 0.5685418994432078 0.5362179103009587 0.507464945568206 0.48171287847015176 0.45850814874175183 0.437485176495493 0.41834584853016377 0.40084452363192147 0.38477689041935126 0.36997156487927274 0.356283668997351 0.3435898637179296 0.33178446427295905 0.3207763711996696; 1.0 1.2 1.41 1.6329 1.87138239 2.128059123486088 2.405567928105393 2.706641148918435 3.0341594537545995 3.391197190160155 3.7810634037329915 4.207341031953306 4.673925950022812 5.1850670626746425 5.745408353795123 6.360033641537828 7.034514694733546 7.774963320694828 8.588088019664045 9.481255808002242 10.462559835229762]\n",
      "[dG] λend: [0.0, -1.0]\n",
      "[dG] λs: [0.0 0.0 0.0 0.0 0.0 0.0 0.0 0.0 0.0 0.0 0.0 0.0 0.0 0.0 0.0 0.0 0.0 0.0 0.0 0.0; -6.115909044841455 -5.559917313492232 -5.054470284992938 -4.594972986357217 -4.177248169415652 -3.7974983358324104 -3.4522712143931003 -3.1384283767210004 -2.8531167061100002 -2.5937424601 -2.357947691 -2.1435888100000002 -1.9487171 -1.7715610000000002 -1.61051 -1.4641000000000002 -1.3310000000000002 -1.2100000000000002 -1.1 -1.0]\n",
      "[dG] dGval: [0.0 0.0 0.0 0.0 0.0 0.0 0.0 0.0 0.0 0.0 0.0 0.0 0.0 0.0 0.0 0.0 0.0 0.0 0.0 0.0]\n",
      "================================\n",
      "[G] g(xs[:,end]: -10.462559835229762\n",
      "================================\n",
      "[dG] xs: [1.0 0.9 0.819 0.7519239 0.695384944860879 0.6470289227069622 0.605164280025029 0.5685418994432078 0.5362179103009587 0.507464945568206 0.48171287847015176 0.45850814874175183 0.437485176495493 0.41834584853016377 0.40084452363192147 0.38477689041935126 0.36997156487927274 0.356283668997351 0.3435898637179296 0.33178446427295905 0.3207763711996696; 1.0 1.2 1.41 1.6329 1.87138239 2.128059123486088 2.405567928105393 2.706641148918435 3.0341594537545995 3.391197190160155 3.7810634037329915 4.207341031953306 4.673925950022812 5.1850670626746425 5.745408353795123 6.360033641537828 7.034514694733546 7.774963320694828 8.588088019664045 9.481255808002242 10.462559835229762]\n",
      "[dG] λend: [0.0, -1.0]\n",
      "[dG] λs: [0.0 0.0 0.0 0.0 0.0 0.0 0.0 0.0 0.0 0.0 0.0 0.0 0.0 0.0 0.0 0.0 0.0 0.0 0.0 0.0; -6.115909044841455 -5.559917313492232 -5.054470284992938 -4.594972986357217 -4.177248169415652 -3.7974983358324104 -3.4522712143931003 -3.1384283767210004 -2.8531167061100002 -2.5937424601 -2.357947691 -2.1435888100000002 -1.9487171 -1.7715610000000002 -1.61051 -1.4641000000000002 -1.3310000000000002 -1.2100000000000002 -1.1 -1.0]\n",
      "[dG] dGval: [0.0 0.0 0.0 0.0 0.0 0.0 0.0 0.0 0.0 0.0 0.0 0.0 0.0 0.0 0.0 0.0 0.0 0.0 0.0 0.0]\n"
     ]
    },
    {
     "data": {
      "text/plain": [
       "([1.0 1.0 … 1.0 1.0], 24)"
      ]
     },
     "execution_count": 96,
     "metadata": {},
     "output_type": "execute_result"
    }
   ],
   "source": [
    "N = 200\n",
    "h = 0.1\n",
    "u = -ones(1,N)\n",
    "xv0 = [1.0; 1.0]\n",
    "\n",
    "du = 1e-3*rand(1,N)\n",
    "@show(G(xv0,0.0,u+du,h,F,g,alpha,delta)-G(xv0,0.0,u-du,h,F,g,alpha,delta)-2*dot(dG(xv0,0.0,u,h,F,dFdx,dFdu,dg,alpha,delta),du))/norm(h*du,1)\n",
    "\n",
    "ulist = []\n",
    "u = zeros(1,20)\n",
    "h = 0.1\n",
    "uopt,iterss = optcontrol(xv0,0.0,u,h,alpha,delta,F,dFdx,dFdu,g,dg,u->proj_u(u,-1.0,1.0),eps=1e-4,maxiter=40,ulist=ulist,trace=0)"
   ]
  },
  {
   "cell_type": "code",
   "execution_count": 97,
   "id": "235bc4b2-3151-413b-9e10-686fea2fbd0e",
   "metadata": {},
   "outputs": [
    {
     "data": {
      "text/plain": [
       "1×20 Matrix{Float64}:\n",
       " 1.0  1.0  1.0  1.0  1.0  1.0  1.0  1.0  …  1.0  1.0  1.0  1.0  1.0  1.0  1.0"
      ]
     },
     "execution_count": 97,
     "metadata": {},
     "output_type": "execute_result"
    }
   ],
   "source": [
    "uopt"
   ]
  },
  {
   "cell_type": "code",
   "execution_count": 98,
   "id": "3a96487e-43d6-493b-ae4c-2f908ecc3588",
   "metadata": {},
   "outputs": [
    {
     "data": {
      "text/plain": [
       "2×21 Matrix{Float64}:\n",
       " 1.0  0.9  0.819  0.751924  0.695385  …  0.34359  0.331784   0.320776\n",
       " 1.0  1.2  1.41   1.6329    1.87138      8.58809  9.48126   10.4626"
      ]
     },
     "execution_count": 98,
     "metadata": {},
     "output_type": "execute_result"
    }
   ],
   "source": [
    "xsopt = forwardstep(xv0,0.0,F,uopt,h,alpha,delta)"
   ]
  },
  {
   "cell_type": "code",
   "execution_count": 99,
   "id": "3dd36b8b-b3f8-40d3-ae2c-154dc200f888",
   "metadata": {},
   "outputs": [
    {
     "data": {
      "image/png": "[encoded data removed]",
      "image/svg+xml": [
       "<?xml version=\"1.0\" encoding=\"utf-8\"?>\n",
       "<svg xmlns=\"http://www.w3.org/2000/svg\" xmlns:xlink=\"http://www.w3.org/1999/xlink\" width=\"600\" height=\"400\" viewBox=\"0 0 2400 1600\">\n",
       "<defs>\n",
       "  <clipPath id=\"clip010\">\n",
       "    <rect x=\"0\" y=\"0\" width=\"2400\" height=\"1600\"/>\n",
       "  </clipPath>\n",
       "</defs>\n",
       "<path clip-path=\"url(#clip010)\" d=\"M0 1600 L2400 1600 L2400 8.88178e-14 L0 8.88178e-14  Z\" fill=\"#ffffff\" fill-rule=\"evenodd\" fill-opacity=\"1\"/>\n",
       "<defs>\n",
       "  <clipPath id=\"clip011\">\n",
       "    <rect x=\"480\" y=\"0\" width=\"1681\" height=\"1600\"/>\n",
       "  </clipPath>\n",
       "</defs>\n",
       "<path clip-path=\"url(#clip010)\" d=\"M156.598 1486.45 L2352.76 1486.45 L2352.76 47.2441 L156.598 47.2441  Z\" fill=\"#ffffff\" fill-rule=\"evenodd\" fill-opacity=\"1\"/>\n",
       "<defs>\n",
       "  <clipPath id=\"clip012\">\n",
       "    <rect x=\"156\" y=\"47\" width=\"2197\" height=\"1440\"/>\n",
       "  </clipPath>\n",
       "</defs>\n",
       "<polyline clip-path=\"url(#clip012)\" style=\"stroke:#000000; stroke-linecap:round; stroke-linejoin:round; stroke-width:2; stroke-opacity:0.1; fill:none\" points=\"218.754,1486.45 218.754,47.2441 \"/>\n",
       "<polyline clip-path=\"url(#clip012)\" style=\"stroke:#000000; stroke-linecap:round; stroke-linejoin:round; stroke-width:2; stroke-opacity:0.1; fill:none\" points=\"736.715,1486.45 736.715,47.2441 \"/>\n",
       "<polyline clip-path=\"url(#clip012)\" style=\"stroke:#000000; stroke-linecap:round; stroke-linejoin:round; stroke-width:2; stroke-opacity:0.1; fill:none\" points=\"1254.68,1486.45 1254.68,47.2441 \"/>\n",
       "<polyline clip-path=\"url(#clip012)\" style=\"stroke:#000000; stroke-linecap:round; stroke-linejoin:round; stroke-width:2; stroke-opacity:0.1; fill:none\" points=\"1772.64,1486.45 1772.64,47.2441 \"/>\n",
       "<polyline clip-path=\"url(#clip012)\" style=\"stroke:#000000; stroke-linecap:round; stroke-linejoin:round; stroke-width:2; stroke-opacity:0.1; fill:none\" points=\"2290.6,1486.45 2290.6,47.2441 \"/>\n",
       "<polyline clip-path=\"url(#clip010)\" style=\"stroke:#000000; stroke-linecap:round; stroke-linejoin:round; stroke-width:4; stroke-opacity:1; fill:none\" points=\"156.598,1486.45 2352.76,1486.45 \"/>\n",
       "<polyline clip-path=\"url(#clip010)\" style=\"stroke:#000000; stroke-linecap:round; stroke-linejoin:round; stroke-width:4; stroke-opacity:1; fill:none\" points=\"218.754,1486.45 218.754,1467.55 \"/>\n",
       "<polyline clip-path=\"url(#clip010)\" style=\"stroke:#000000; stroke-linecap:round; stroke-linejoin:round; stroke-width:4; stroke-opacity:1; fill:none\" points=\"736.715,1486.45 736.715,1467.55 \"/>\n",
       "<polyline clip-path=\"url(#clip010)\" style=\"stroke:#000000; stroke-linecap:round; stroke-linejoin:round; stroke-width:4; stroke-opacity:1; fill:none\" points=\"1254.68,1486.45 1254.68,1467.55 \"/>\n",
       "<polyline clip-path=\"url(#clip010)\" style=\"stroke:#000000; stroke-linecap:round; stroke-linejoin:round; stroke-width:4; stroke-opacity:1; fill:none\" points=\"1772.64,1486.45 1772.64,1467.55 \"/>\n",
       "<polyline clip-path=\"url(#clip010)\" style=\"stroke:#000000; stroke-linecap:round; stroke-linejoin:round; stroke-width:4; stroke-opacity:1; fill:none\" points=\"2290.6,1486.45 2290.6,1467.55 \"/>\n",
       "<path clip-path=\"url(#clip010)\" d=\"M196.138 1517.37 Q192.527 1517.37 190.698 1520.93 Q188.893 1524.47 188.893 1531.6 Q188.893 1538.71 190.698 1542.27 Q192.527 1545.82 196.138 1545.82 Q199.772 1545.82 201.578 1542.27 Q203.407 1538.71 203.407 1531.6 Q203.407 1524.47 201.578 1520.93 Q199.772 1517.37 196.138 1517.37 M196.138 1513.66 Q201.948 1513.66 205.004 1518.27 Q208.082 1522.85 208.082 1531.6 Q208.082 1540.33 205.004 1544.94 Q201.948 1549.52 196.138 1549.52 Q190.328 1549.52 187.249 1544.94 Q184.194 1540.33 184.194 1531.6 Q184.194 1522.85 187.249 1518.27 Q190.328 1513.66 196.138 1513.66 Z\" fill=\"#000000\" fill-rule=\"nonzero\" fill-opacity=\"1\" /><path clip-path=\"url(#clip010)\" d=\"M216.3 1542.97 L221.184 1542.97 L221.184 1548.85 L216.3 1548.85 L216.3 1542.97 Z\" fill=\"#000000\" fill-rule=\"nonzero\" fill-opacity=\"1\" /><path clip-path=\"url(#clip010)\" d=\"M241.369 1517.37 Q237.758 1517.37 235.929 1520.93 Q234.124 1524.47 234.124 1531.6 Q234.124 1538.71 235.929 1542.27 Q237.758 1545.82 241.369 1545.82 Q245.003 1545.82 246.809 1542.27 Q248.638 1538.71 248.638 1531.6 Q248.638 1524.47 246.809 1520.93 Q245.003 1517.37 241.369 1517.37 M241.369 1513.66 Q247.179 1513.66 250.235 1518.27 Q253.314 1522.85 253.314 1531.6 Q253.314 1540.33 250.235 1544.94 Q247.179 1549.52 241.369 1549.52 Q235.559 1549.52 232.48 1544.94 Q229.425 1540.33 229.425 1531.6 Q229.425 1522.85 232.48 1518.27 Q235.559 1513.66 241.369 1513.66 Z\" fill=\"#000000\" fill-rule=\"nonzero\" fill-opacity=\"1\" /><path clip-path=\"url(#clip010)\" d=\"M714.597 1517.37 Q710.986 1517.37 709.158 1520.93 Q707.352 1524.47 707.352 1531.6 Q707.352 1538.71 709.158 1542.27 Q710.986 1545.82 714.597 1545.82 Q718.232 1545.82 720.037 1542.27 Q721.866 1538.71 721.866 1531.6 Q721.866 1524.47 720.037 1520.93 Q718.232 1517.37 714.597 1517.37 M714.597 1513.66 Q720.408 1513.66 723.463 1518.27 Q726.542 1522.85 726.542 1531.6 Q726.542 1540.33 723.463 1544.94 Q720.408 1549.52 714.597 1549.52 Q708.787 1549.52 705.709 1544.94 Q702.653 1540.33 702.653 1531.6 Q702.653 1522.85 705.709 1518.27 Q708.787 1513.66 714.597 1513.66 Z\" fill=\"#000000\" fill-rule=\"nonzero\" fill-opacity=\"1\" /><path clip-path=\"url(#clip010)\" d=\"M734.759 1542.97 L739.644 1542.97 L739.644 1548.85 L734.759 1548.85 L734.759 1542.97 Z\" fill=\"#000000\" fill-rule=\"nonzero\" fill-opacity=\"1\" /><path clip-path=\"url(#clip010)\" d=\"M749.875 1514.29 L768.231 1514.29 L768.231 1518.22 L754.157 1518.22 L754.157 1526.7 Q755.176 1526.35 756.194 1526.19 Q757.213 1526 758.231 1526 Q764.018 1526 767.398 1529.17 Q770.778 1532.34 770.778 1537.76 Q770.778 1543.34 767.305 1546.44 Q763.833 1549.52 757.514 1549.52 Q755.338 1549.52 753.069 1549.15 Q750.824 1548.78 748.417 1548.04 L748.417 1543.34 Q750.5 1544.47 752.722 1545.03 Q754.944 1545.58 757.421 1545.58 Q761.426 1545.58 763.764 1543.48 Q766.102 1541.37 766.102 1537.76 Q766.102 1534.15 763.764 1532.04 Q761.426 1529.94 757.421 1529.94 Q755.546 1529.94 753.671 1530.35 Q751.819 1530.77 749.875 1531.65 L749.875 1514.29 Z\" fill=\"#000000\" fill-rule=\"nonzero\" fill-opacity=\"1\" /><path clip-path=\"url(#clip010)\" d=\"M1221.83 1544.91 L1229.47 1544.91 L1229.47 1518.55 L1221.16 1520.21 L1221.16 1515.95 L1229.42 1514.29 L1234.1 1514.29 L1234.1 1544.91 L1241.74 1544.91 L1241.74 1548.85 L1221.83 1548.85 L1221.83 1544.91 Z\" fill=\"#000000\" fill-rule=\"nonzero\" fill-opacity=\"1\" /><path clip-path=\"url(#clip010)\" d=\"M1251.18 1542.97 L1256.07 1542.97 L1256.07 1548.85 L1251.18 1548.85 L1251.18 1542.97 Z\" fill=\"#000000\" fill-rule=\"nonzero\" fill-opacity=\"1\" /><path clip-path=\"url(#clip010)\" d=\"M1276.25 1517.37 Q1272.64 1517.37 1270.81 1520.93 Q1269.01 1524.47 1269.01 1531.6 Q1269.01 1538.71 1270.81 1542.27 Q1272.64 1545.82 1276.25 1545.82 Q1279.89 1545.82 1281.69 1542.27 Q1283.52 1538.71 1283.52 1531.6 Q1283.52 1524.47 1281.69 1520.93 Q1279.89 1517.37 1276.25 1517.37 M1276.25 1513.66 Q1282.06 1513.66 1285.12 1518.27 Q1288.2 1522.85 1288.2 1531.6 Q1288.2 1540.33 1285.12 1544.94 Q1282.06 1549.52 1276.25 1549.52 Q1270.44 1549.52 1267.36 1544.94 Q1264.31 1540.33 1264.31 1531.6 Q1264.31 1522.85 1267.36 1518.27 Q1270.44 1513.66 1276.25 1513.66 Z\" fill=\"#000000\" fill-rule=\"nonzero\" fill-opacity=\"1\" /><path clip-path=\"url(#clip010)\" d=\"M1740.29 1544.91 L1747.93 1544.91 L1747.93 1518.55 L1739.62 1520.21 L1739.62 1515.95 L1747.88 1514.29 L1752.56 1514.29 L1752.56 1544.91 L1760.2 1544.91 L1760.2 1548.85 L1740.29 1548.85 L1740.29 1544.91 Z\" fill=\"#000000\" fill-rule=\"nonzero\" fill-opacity=\"1\" /><path clip-path=\"url(#clip010)\" d=\"M1769.64 1542.97 L1774.53 1542.97 L1774.53 1548.85 L1769.64 1548.85 L1769.64 1542.97 Z\" fill=\"#000000\" fill-rule=\"nonzero\" fill-opacity=\"1\" /><path clip-path=\"url(#clip010)\" d=\"M1784.76 1514.29 L1803.11 1514.29 L1803.11 1518.22 L1789.04 1518.22 L1789.04 1526.7 Q1790.06 1526.35 1791.08 1526.19 Q1792.09 1526 1793.11 1526 Q1798.9 1526 1802.28 1529.17 Q1805.66 1532.34 1805.66 1537.76 Q1805.66 1543.34 1802.19 1546.44 Q1798.72 1549.52 1792.4 1549.52 Q1790.22 1549.52 1787.95 1549.15 Q1785.71 1548.78 1783.3 1548.04 L1783.3 1543.34 Q1785.38 1544.47 1787.6 1545.03 Q1789.83 1545.58 1792.3 1545.58 Q1796.31 1545.58 1798.65 1543.48 Q1800.98 1541.37 1800.98 1537.76 Q1800.98 1534.15 1798.65 1532.04 Q1796.31 1529.94 1792.3 1529.94 Q1790.43 1529.94 1788.55 1530.35 Q1786.7 1530.77 1784.76 1531.65 L1784.76 1514.29 Z\" fill=\"#000000\" fill-rule=\"nonzero\" fill-opacity=\"1\" /><path clip-path=\"url(#clip010)\" d=\"M2261.84 1544.91 L2278.16 1544.91 L2278.16 1548.85 L2256.21 1548.85 L2256.21 1544.91 Q2258.88 1542.16 2263.46 1537.53 Q2268.07 1532.88 2269.25 1531.53 Q2271.49 1529.01 2272.37 1527.27 Q2273.27 1525.51 2273.27 1523.82 Q2273.27 1521.07 2271.33 1519.33 Q2269.41 1517.6 2266.31 1517.6 Q2264.11 1517.6 2261.65 1518.36 Q2259.22 1519.13 2256.45 1520.68 L2256.45 1515.95 Q2259.27 1514.82 2261.72 1514.24 Q2264.18 1513.66 2266.21 1513.66 Q2271.58 1513.66 2274.78 1516.35 Q2277.97 1519.03 2277.97 1523.52 Q2277.97 1525.65 2277.16 1527.57 Q2276.38 1529.47 2274.27 1532.07 Q2273.69 1532.74 2270.59 1535.95 Q2267.49 1539.15 2261.84 1544.91 Z\" fill=\"#000000\" fill-rule=\"nonzero\" fill-opacity=\"1\" /><path clip-path=\"url(#clip010)\" d=\"M2287.97 1542.97 L2292.86 1542.97 L2292.86 1548.85 L2287.97 1548.85 L2287.97 1542.97 Z\" fill=\"#000000\" fill-rule=\"nonzero\" fill-opacity=\"1\" /><path clip-path=\"url(#clip010)\" d=\"M2313.04 1517.37 Q2309.43 1517.37 2307.6 1520.93 Q2305.8 1524.47 2305.8 1531.6 Q2305.8 1538.71 2307.6 1542.27 Q2309.43 1545.82 2313.04 1545.82 Q2316.68 1545.82 2318.48 1542.27 Q2320.31 1538.71 2320.31 1531.6 Q2320.31 1524.47 2318.48 1520.93 Q2316.68 1517.37 2313.04 1517.37 M2313.04 1513.66 Q2318.85 1513.66 2321.91 1518.27 Q2324.99 1522.85 2324.99 1531.6 Q2324.99 1540.33 2321.91 1544.94 Q2318.85 1549.52 2313.04 1549.52 Q2307.23 1549.52 2304.15 1544.94 Q2301.1 1540.33 2301.1 1531.6 Q2301.1 1522.85 2304.15 1518.27 Q2307.23 1513.66 2313.04 1513.66 Z\" fill=\"#000000\" fill-rule=\"nonzero\" fill-opacity=\"1\" /><polyline clip-path=\"url(#clip012)\" style=\"stroke:#000000; stroke-linecap:round; stroke-linejoin:round; stroke-width:2; stroke-opacity:0.1; fill:none\" points=\"156.598,1287.35 2352.76,1287.35 \"/>\n",
       "<polyline clip-path=\"url(#clip012)\" style=\"stroke:#000000; stroke-linecap:round; stroke-linejoin:round; stroke-width:2; stroke-opacity:0.1; fill:none\" points=\"156.598,1087.46 2352.76,1087.46 \"/>\n",
       "<polyline clip-path=\"url(#clip012)\" style=\"stroke:#000000; stroke-linecap:round; stroke-linejoin:round; stroke-width:2; stroke-opacity:0.1; fill:none\" points=\"156.598,887.559 2352.76,887.559 \"/>\n",
       "<polyline clip-path=\"url(#clip012)\" style=\"stroke:#000000; stroke-linecap:round; stroke-linejoin:round; stroke-width:2; stroke-opacity:0.1; fill:none\" points=\"156.598,687.664 2352.76,687.664 \"/>\n",
       "<polyline clip-path=\"url(#clip012)\" style=\"stroke:#000000; stroke-linecap:round; stroke-linejoin:round; stroke-width:2; stroke-opacity:0.1; fill:none\" points=\"156.598,487.768 2352.76,487.768 \"/>\n",
       "<polyline clip-path=\"url(#clip012)\" style=\"stroke:#000000; stroke-linecap:round; stroke-linejoin:round; stroke-width:2; stroke-opacity:0.1; fill:none\" points=\"156.598,287.872 2352.76,287.872 \"/>\n",
       "<polyline clip-path=\"url(#clip012)\" style=\"stroke:#000000; stroke-linecap:round; stroke-linejoin:round; stroke-width:2; stroke-opacity:0.1; fill:none\" points=\"156.598,87.9763 2352.76,87.9763 \"/>\n",
       "<polyline clip-path=\"url(#clip010)\" style=\"stroke:#000000; stroke-linecap:round; stroke-linejoin:round; stroke-width:4; stroke-opacity:1; fill:none\" points=\"156.598,1486.45 156.598,47.2441 \"/>\n",
       "<polyline clip-path=\"url(#clip010)\" style=\"stroke:#000000; stroke-linecap:round; stroke-linejoin:round; stroke-width:4; stroke-opacity:1; fill:none\" points=\"156.598,1287.35 175.496,1287.35 \"/>\n",
       "<polyline clip-path=\"url(#clip010)\" style=\"stroke:#000000; stroke-linecap:round; stroke-linejoin:round; stroke-width:4; stroke-opacity:1; fill:none\" points=\"156.598,1087.46 175.496,1087.46 \"/>\n",
       "<polyline clip-path=\"url(#clip010)\" style=\"stroke:#000000; stroke-linecap:round; stroke-linejoin:round; stroke-width:4; stroke-opacity:1; fill:none\" points=\"156.598,887.559 175.496,887.559 \"/>\n",
       "<polyline clip-path=\"url(#clip010)\" style=\"stroke:#000000; stroke-linecap:round; stroke-linejoin:round; stroke-width:4; stroke-opacity:1; fill:none\" points=\"156.598,687.664 175.496,687.664 \"/>\n",
       "<polyline clip-path=\"url(#clip010)\" style=\"stroke:#000000; stroke-linecap:round; stroke-linejoin:round; stroke-width:4; stroke-opacity:1; fill:none\" points=\"156.598,487.768 175.496,487.768 \"/>\n",
       "<polyline clip-path=\"url(#clip010)\" style=\"stroke:#000000; stroke-linecap:round; stroke-linejoin:round; stroke-width:4; stroke-opacity:1; fill:none\" points=\"156.598,287.872 175.496,287.872 \"/>\n",
       "<polyline clip-path=\"url(#clip010)\" style=\"stroke:#000000; stroke-linecap:round; stroke-linejoin:round; stroke-width:4; stroke-opacity:1; fill:none\" points=\"156.598,87.9763 175.496,87.9763 \"/>\n",
       "<path clip-path=\"url(#clip010)\" d=\"M62.9365 1273.15 Q59.3254 1273.15 57.4967 1276.71 Q55.6912 1280.26 55.6912 1287.39 Q55.6912 1294.49 57.4967 1298.06 Q59.3254 1301.6 62.9365 1301.6 Q66.5707 1301.6 68.3763 1298.06 Q70.205 1294.49 70.205 1287.39 Q70.205 1280.26 68.3763 1276.71 Q66.5707 1273.15 62.9365 1273.15 M62.9365 1269.45 Q68.7467 1269.45 71.8022 1274.05 Q74.8809 1278.64 74.8809 1287.39 Q74.8809 1296.11 71.8022 1300.72 Q68.7467 1305.3 62.9365 1305.3 Q57.1264 1305.3 54.0477 1300.72 Q50.9921 1296.11 50.9921 1287.39 Q50.9921 1278.64 54.0477 1274.05 Q57.1264 1269.45 62.9365 1269.45 Z\" fill=\"#000000\" fill-rule=\"nonzero\" fill-opacity=\"1\" /><path clip-path=\"url(#clip010)\" d=\"M83.0984 1298.75 L87.9827 1298.75 L87.9827 1304.63 L83.0984 1304.63 L83.0984 1298.75 Z\" fill=\"#000000\" fill-rule=\"nonzero\" fill-opacity=\"1\" /><path clip-path=\"url(#clip010)\" d=\"M111.015 1274.15 L99.2095 1292.59 L111.015 1292.59 L111.015 1274.15 M109.788 1270.07 L115.668 1270.07 L115.668 1292.59 L120.598 1292.59 L120.598 1296.48 L115.668 1296.48 L115.668 1304.63 L111.015 1304.63 L111.015 1296.48 L95.4132 1296.48 L95.4132 1291.97 L109.788 1270.07 Z\" fill=\"#000000\" fill-rule=\"nonzero\" fill-opacity=\"1\" /><path clip-path=\"url(#clip010)\" d=\"M64.418 1073.25 Q60.8069 1073.25 58.9782 1076.82 Q57.1726 1080.36 57.1726 1087.49 Q57.1726 1094.6 58.9782 1098.16 Q60.8069 1101.7 64.418 1101.7 Q68.0522 1101.7 69.8578 1098.16 Q71.6865 1094.6 71.6865 1087.49 Q71.6865 1080.36 69.8578 1076.82 Q68.0522 1073.25 64.418 1073.25 M64.418 1069.55 Q70.2281 1069.55 73.2837 1074.16 Q76.3624 1078.74 76.3624 1087.49 Q76.3624 1096.22 73.2837 1100.82 Q70.2281 1105.41 64.418 1105.41 Q58.6078 1105.41 55.5291 1100.82 Q52.4736 1096.22 52.4736 1087.49 Q52.4736 1078.74 55.5291 1074.16 Q58.6078 1069.55 64.418 1069.55 Z\" fill=\"#000000\" fill-rule=\"nonzero\" fill-opacity=\"1\" /><path clip-path=\"url(#clip010)\" d=\"M84.5799 1098.86 L89.4641 1098.86 L89.4641 1104.74 L84.5799 1104.74 L84.5799 1098.86 Z\" fill=\"#000000\" fill-rule=\"nonzero\" fill-opacity=\"1\" /><path clip-path=\"url(#clip010)\" d=\"M99.6956 1070.18 L118.052 1070.18 L118.052 1074.11 L103.978 1074.11 L103.978 1082.58 Q104.996 1082.24 106.015 1082.07 Q107.033 1081.89 108.052 1081.89 Q113.839 1081.89 117.219 1085.06 Q120.598 1088.23 120.598 1093.65 Q120.598 1099.23 117.126 1102.33 Q113.654 1105.41 107.334 1105.41 Q105.159 1105.41 102.89 1105.04 Q100.645 1104.67 98.2372 1103.93 L98.2372 1099.23 Q100.321 1100.36 102.543 1100.92 Q104.765 1101.47 107.242 1101.47 Q111.246 1101.47 113.584 1099.36 Q115.922 1097.26 115.922 1093.65 Q115.922 1090.04 113.584 1087.93 Q111.246 1085.82 107.242 1085.82 Q105.367 1085.82 103.492 1086.24 Q101.64 1086.66 99.6956 1087.54 L99.6956 1070.18 Z\" fill=\"#000000\" fill-rule=\"nonzero\" fill-opacity=\"1\" /><path clip-path=\"url(#clip010)\" d=\"M63.2606 873.358 Q59.6495 873.358 57.8208 876.923 Q56.0152 880.465 56.0152 887.594 Q56.0152 894.701 57.8208 898.265 Q59.6495 901.807 63.2606 901.807 Q66.8948 901.807 68.7004 898.265 Q70.5291 894.701 70.5291 887.594 Q70.5291 880.465 68.7004 876.923 Q66.8948 873.358 63.2606 873.358 M63.2606 869.654 Q69.0707 869.654 72.1263 874.261 Q75.205 878.844 75.205 887.594 Q75.205 896.321 72.1263 900.927 Q69.0707 905.511 63.2606 905.511 Q57.4504 905.511 54.3717 900.927 Q51.3162 896.321 51.3162 887.594 Q51.3162 878.844 54.3717 874.261 Q57.4504 869.654 63.2606 869.654 Z\" fill=\"#000000\" fill-rule=\"nonzero\" fill-opacity=\"1\" /><path clip-path=\"url(#clip010)\" d=\"M83.4225 898.96 L88.3067 898.96 L88.3067 904.839 L83.4225 904.839 L83.4225 898.96 Z\" fill=\"#000000\" fill-rule=\"nonzero\" fill-opacity=\"1\" /><path clip-path=\"url(#clip010)\" d=\"M109.071 885.696 Q105.922 885.696 104.071 887.849 Q102.242 890.002 102.242 893.752 Q102.242 897.478 104.071 899.654 Q105.922 901.807 109.071 901.807 Q112.219 901.807 114.047 899.654 Q115.899 897.478 115.899 893.752 Q115.899 890.002 114.047 887.849 Q112.219 885.696 109.071 885.696 M118.353 871.043 L118.353 875.303 Q116.594 874.469 114.788 874.029 Q113.006 873.59 111.246 873.59 Q106.617 873.59 104.163 876.715 Q101.733 879.84 101.385 886.159 Q102.751 884.145 104.811 883.08 Q106.871 881.992 109.348 881.992 Q114.557 881.992 117.566 885.164 Q120.598 888.312 120.598 893.752 Q120.598 899.076 117.45 902.293 Q114.302 905.511 109.071 905.511 Q103.075 905.511 99.9039 900.927 Q96.7326 896.321 96.7326 887.594 Q96.7326 879.4 100.621 874.539 Q104.51 869.654 111.061 869.654 Q112.82 869.654 114.603 870.002 Q116.408 870.349 118.353 871.043 Z\" fill=\"#000000\" fill-rule=\"nonzero\" fill-opacity=\"1\" /><path clip-path=\"url(#clip010)\" d=\"M64.3254 673.462 Q60.7143 673.462 58.8856 677.027 Q57.0801 680.569 57.0801 687.698 Q57.0801 694.805 58.8856 698.37 Q60.7143 701.911 64.3254 701.911 Q67.9596 701.911 69.7652 698.37 Q71.5939 694.805 71.5939 687.698 Q71.5939 680.569 69.7652 677.027 Q67.9596 673.462 64.3254 673.462 M64.3254 669.759 Q70.1355 669.759 73.1911 674.365 Q76.2698 678.948 76.2698 687.698 Q76.2698 696.425 73.1911 701.032 Q70.1355 705.615 64.3254 705.615 Q58.5152 705.615 55.4365 701.032 Q52.381 696.425 52.381 687.698 Q52.381 678.948 55.4365 674.365 Q58.5152 669.759 64.3254 669.759 Z\" fill=\"#000000\" fill-rule=\"nonzero\" fill-opacity=\"1\" /><path clip-path=\"url(#clip010)\" d=\"M84.4873 699.064 L89.3715 699.064 L89.3715 704.944 L84.4873 704.944 L84.4873 699.064 Z\" fill=\"#000000\" fill-rule=\"nonzero\" fill-opacity=\"1\" /><path clip-path=\"url(#clip010)\" d=\"M98.3761 670.384 L120.598 670.384 L120.598 672.374 L108.052 704.944 L103.168 704.944 L114.973 674.319 L98.3761 674.319 L98.3761 670.384 Z\" fill=\"#000000\" fill-rule=\"nonzero\" fill-opacity=\"1\" /><path clip-path=\"url(#clip010)\" d=\"M63.5152 473.567 Q59.9041 473.567 58.0754 477.131 Q56.2699 480.673 56.2699 487.803 Q56.2699 494.909 58.0754 498.474 Q59.9041 502.015 63.5152 502.015 Q67.1494 502.015 68.955 498.474 Q70.7837 494.909 70.7837 487.803 Q70.7837 480.673 68.955 477.131 Q67.1494 473.567 63.5152 473.567 M63.5152 469.863 Q69.3254 469.863 72.3809 474.469 Q75.4596 479.053 75.4596 487.803 Q75.4596 496.529 72.3809 501.136 Q69.3254 505.719 63.5152 505.719 Q57.7051 505.719 54.6264 501.136 Q51.5708 496.529 51.5708 487.803 Q51.5708 479.053 54.6264 474.469 Q57.7051 469.863 63.5152 469.863 Z\" fill=\"#000000\" fill-rule=\"nonzero\" fill-opacity=\"1\" /><path clip-path=\"url(#clip010)\" d=\"M83.6771 499.168 L88.5614 499.168 L88.5614 505.048 L83.6771 505.048 L83.6771 499.168 Z\" fill=\"#000000\" fill-rule=\"nonzero\" fill-opacity=\"1\" /><path clip-path=\"url(#clip010)\" d=\"M108.746 488.636 Q105.413 488.636 103.492 490.418 Q101.594 492.201 101.594 495.326 Q101.594 498.451 103.492 500.233 Q105.413 502.015 108.746 502.015 Q112.08 502.015 114.001 500.233 Q115.922 498.428 115.922 495.326 Q115.922 492.201 114.001 490.418 Q112.103 488.636 108.746 488.636 M104.071 486.645 Q101.061 485.904 99.3715 483.844 Q97.7048 481.784 97.7048 478.821 Q97.7048 474.678 100.645 472.27 Q103.608 469.863 108.746 469.863 Q113.908 469.863 116.848 472.27 Q119.788 474.678 119.788 478.821 Q119.788 481.784 118.098 483.844 Q116.432 485.904 113.445 486.645 Q116.825 487.432 118.7 489.724 Q120.598 492.016 120.598 495.326 Q120.598 500.349 117.52 503.034 Q114.464 505.719 108.746 505.719 Q103.029 505.719 99.9502 503.034 Q96.8947 500.349 96.8947 495.326 Q96.8947 492.016 98.7928 489.724 Q100.691 487.432 104.071 486.645 M102.358 479.261 Q102.358 481.946 104.024 483.451 Q105.714 484.955 108.746 484.955 Q111.756 484.955 113.445 483.451 Q115.158 481.946 115.158 479.261 Q115.158 476.576 113.445 475.071 Q111.756 473.567 108.746 473.567 Q105.714 473.567 104.024 475.071 Q102.358 476.576 102.358 479.261 Z\" fill=\"#000000\" fill-rule=\"nonzero\" fill-opacity=\"1\" /><path clip-path=\"url(#clip010)\" d=\"M63.6078 273.671 Q59.9967 273.671 58.168 277.236 Q56.3625 280.777 56.3625 287.907 Q56.3625 295.013 58.168 298.578 Q59.9967 302.12 63.6078 302.12 Q67.242 302.12 69.0476 298.578 Q70.8763 295.013 70.8763 287.907 Q70.8763 280.777 69.0476 277.236 Q67.242 273.671 63.6078 273.671 M63.6078 269.967 Q69.418 269.967 72.4735 274.574 Q75.5522 279.157 75.5522 287.907 Q75.5522 296.634 72.4735 301.24 Q69.418 305.823 63.6078 305.823 Q57.7976 305.823 54.719 301.24 Q51.6634 296.634 51.6634 287.907 Q51.6634 279.157 54.719 274.574 Q57.7976 269.967 63.6078 269.967 Z\" fill=\"#000000\" fill-rule=\"nonzero\" fill-opacity=\"1\" /><path clip-path=\"url(#clip010)\" d=\"M83.7697 299.272 L88.654 299.272 L88.654 305.152 L83.7697 305.152 L83.7697 299.272 Z\" fill=\"#000000\" fill-rule=\"nonzero\" fill-opacity=\"1\" /><path clip-path=\"url(#clip010)\" d=\"M98.978 304.434 L98.978 300.175 Q100.737 301.009 102.543 301.448 Q104.348 301.888 106.084 301.888 Q110.714 301.888 113.145 298.786 Q115.598 295.661 115.945 289.319 Q114.603 291.31 112.543 292.374 Q110.483 293.439 107.983 293.439 Q102.797 293.439 99.765 290.314 Q96.7558 287.166 96.7558 281.726 Q96.7558 276.402 99.9039 273.185 Q103.052 269.967 108.283 269.967 Q114.279 269.967 117.427 274.574 Q120.598 279.157 120.598 287.907 Q120.598 296.078 116.709 300.962 Q112.844 305.823 106.293 305.823 Q104.534 305.823 102.728 305.476 Q100.922 305.129 98.978 304.434 M108.283 289.782 Q111.432 289.782 113.26 287.629 Q115.112 285.476 115.112 281.726 Q115.112 277.999 113.26 275.847 Q111.432 273.671 108.283 273.671 Q105.135 273.671 103.284 275.847 Q101.455 277.999 101.455 281.726 Q101.455 285.476 103.284 287.629 Q105.135 289.782 108.283 289.782 Z\" fill=\"#000000\" fill-rule=\"nonzero\" fill-opacity=\"1\" /><path clip-path=\"url(#clip010)\" d=\"M54.2328 101.321 L61.8717 101.321 L61.8717 74.9555 L53.5616 76.6222 L53.5616 72.3629 L61.8254 70.6963 L66.5013 70.6963 L66.5013 101.321 L74.1402 101.321 L74.1402 105.256 L54.2328 105.256 L54.2328 101.321 Z\" fill=\"#000000\" fill-rule=\"nonzero\" fill-opacity=\"1\" /><path clip-path=\"url(#clip010)\" d=\"M83.5845 99.3767 L88.4688 99.3767 L88.4688 105.256 L83.5845 105.256 L83.5845 99.3767 Z\" fill=\"#000000\" fill-rule=\"nonzero\" fill-opacity=\"1\" /><path clip-path=\"url(#clip010)\" d=\"M108.654 73.775 Q105.043 73.775 103.214 77.3398 Q101.409 80.8814 101.409 88.011 Q101.409 95.1174 103.214 98.6822 Q105.043 102.224 108.654 102.224 Q112.288 102.224 114.094 98.6822 Q115.922 95.1174 115.922 88.011 Q115.922 80.8814 114.094 77.3398 Q112.288 73.775 108.654 73.775 M108.654 70.0713 Q114.464 70.0713 117.52 74.6777 Q120.598 79.261 120.598 88.011 Q120.598 96.7378 117.52 101.344 Q114.464 105.928 108.654 105.928 Q102.844 105.928 99.765 101.344 Q96.7095 96.7378 96.7095 88.011 Q96.7095 79.261 99.765 74.6777 Q102.844 70.0713 108.654 70.0713 Z\" fill=\"#000000\" fill-rule=\"nonzero\" fill-opacity=\"1\" /><polyline clip-path=\"url(#clip012)\" style=\"stroke:#009af9; stroke-linecap:round; stroke-linejoin:round; stroke-width:4; stroke-opacity:1; fill:none\" points=\"218.754,87.9763 322.346,287.872 425.938,449.788 529.531,583.87 633.123,696.889 736.715,793.551 840.308,877.236 943.9,950.443 1047.49,1015.06 1151.08,1072.53 1254.68,1124.01 1358.27,1170.4 1461.86,1212.42 1565.45,1250.68 1669.05,1285.66 1772.64,1317.78 1876.23,1347.38 1979.82,1374.74 2083.42,1400.11 2187.01,1423.71 2290.6,1445.72 \"/>\n",
       "<polyline clip-path=\"url(#clip012)\" style=\"stroke:#e26f46; stroke-linecap:round; stroke-linejoin:round; stroke-width:4; stroke-opacity:1; fill:none\" points=\"218.754,87.9763 322.346,87.9763 425.938,87.9763 529.531,87.9763 633.123,87.9763 736.715,87.9763 840.308,87.9763 943.9,87.9763 1047.49,87.9763 1151.08,87.9763 1254.68,87.9763 1358.27,87.9763 1461.86,87.9763 1565.45,87.9763 1669.05,87.9763 1772.64,87.9763 1876.23,87.9763 1979.82,87.9763 2083.42,87.9763 2187.01,87.9763 \"/>\n",
       "<path clip-path=\"url(#clip010)\" d=\"M229.803 1438.47 L527.613 1438.47 L527.613 1282.95 L229.803 1282.95  Z\" fill=\"#ffffff\" fill-rule=\"evenodd\" fill-opacity=\"1\"/>\n",
       "<polyline clip-path=\"url(#clip010)\" style=\"stroke:#000000; stroke-linecap:round; stroke-linejoin:round; stroke-width:4; stroke-opacity:1; fill:none\" points=\"229.803,1438.47 527.613,1438.47 527.613,1282.95 229.803,1282.95 229.803,1438.47 \"/>\n",
       "<polyline clip-path=\"url(#clip010)\" style=\"stroke:#009af9; stroke-linecap:round; stroke-linejoin:round; stroke-width:4; stroke-opacity:1; fill:none\" points=\"254.205,1334.79 400.616,1334.79 \"/>\n",
       "<path clip-path=\"url(#clip010)\" d=\"M449.67 1326.15 L440.295 1338.76 L450.156 1352.07 L445.133 1352.07 L437.587 1341.89 L430.041 1352.07 L425.018 1352.07 L435.087 1338.51 L425.874 1326.15 L430.897 1326.15 L437.772 1335.38 L444.647 1326.15 L449.67 1326.15 Z\" fill=\"#000000\" fill-rule=\"nonzero\" fill-opacity=\"1\" /><path clip-path=\"url(#clip010)\" d=\"M466.406 1316.1 Q463.304 1321.43 461.8 1326.63 Q460.295 1331.84 460.295 1337.19 Q460.295 1342.54 461.8 1347.79 Q463.327 1353.02 466.406 1358.32 L462.702 1358.32 Q459.23 1352.88 457.494 1347.63 Q455.781 1342.38 455.781 1337.19 Q455.781 1332.03 457.494 1326.8 Q459.207 1321.57 462.702 1316.1 L466.406 1316.1 Z\" fill=\"#000000\" fill-rule=\"nonzero\" fill-opacity=\"1\" /><path clip-path=\"url(#clip010)\" d=\"M478.883 1318.79 L478.883 1326.15 L487.656 1326.15 L487.656 1329.46 L478.883 1329.46 L478.883 1343.53 Q478.883 1346.7 479.739 1347.61 Q480.619 1348.51 483.281 1348.51 L487.656 1348.51 L487.656 1352.07 L483.281 1352.07 Q478.351 1352.07 476.476 1350.25 Q474.601 1348.39 474.601 1343.53 L474.601 1329.46 L471.476 1329.46 L471.476 1326.15 L474.601 1326.15 L474.601 1318.79 L478.883 1318.79 Z\" fill=\"#000000\" fill-rule=\"nonzero\" fill-opacity=\"1\" /><path clip-path=\"url(#clip010)\" d=\"M492.587 1316.1 L496.29 1316.1 Q499.762 1321.57 501.475 1326.8 Q503.212 1332.03 503.212 1337.19 Q503.212 1342.38 501.475 1347.63 Q499.762 1352.88 496.29 1358.32 L492.587 1358.32 Q495.665 1353.02 497.17 1347.79 Q498.698 1342.54 498.698 1337.19 Q498.698 1331.84 497.17 1326.63 Q495.665 1321.43 492.587 1316.1 Z\" fill=\"#000000\" fill-rule=\"nonzero\" fill-opacity=\"1\" /><polyline clip-path=\"url(#clip010)\" style=\"stroke:#e26f46; stroke-linecap:round; stroke-linejoin:round; stroke-width:4; stroke-opacity:1; fill:none\" points=\"254.205,1386.63 400.616,1386.63 \"/>\n",
       "<path clip-path=\"url(#clip010)\" d=\"M425.018 1393.68 L425.018 1377.99 L429.277 1377.99 L429.277 1393.52 Q429.277 1397.2 430.712 1399.05 Q432.147 1400.88 435.017 1400.88 Q438.467 1400.88 440.457 1398.68 Q442.471 1396.48 442.471 1392.69 L442.471 1377.99 L446.73 1377.99 L446.73 1403.91 L442.471 1403.91 L442.471 1399.93 Q440.92 1402.29 438.86 1403.45 Q436.823 1404.59 434.115 1404.59 Q429.647 1404.59 427.332 1401.81 Q425.018 1399.03 425.018 1393.68 M435.735 1377.36 L435.735 1377.36 Z\" fill=\"#000000\" fill-rule=\"nonzero\" fill-opacity=\"1\" /><path clip-path=\"url(#clip010)\" d=\"M465.735 1367.94 Q462.633 1373.27 461.128 1378.47 Q459.624 1383.68 459.624 1389.03 Q459.624 1394.38 461.128 1399.63 Q462.656 1404.86 465.735 1410.16 L462.031 1410.16 Q458.559 1404.72 456.823 1399.47 Q455.11 1394.22 455.11 1389.03 Q455.11 1383.87 456.823 1378.64 Q458.536 1373.41 462.031 1367.94 L465.735 1367.94 Z\" fill=\"#000000\" fill-rule=\"nonzero\" fill-opacity=\"1\" /><path clip-path=\"url(#clip010)\" d=\"M478.212 1370.63 L478.212 1377.99 L486.985 1377.99 L486.985 1381.3 L478.212 1381.3 L478.212 1395.37 Q478.212 1398.54 479.068 1399.45 Q479.948 1400.35 482.61 1400.35 L486.985 1400.35 L486.985 1403.91 L482.61 1403.91 Q477.679 1403.91 475.804 1402.09 Q473.929 1400.23 473.929 1395.37 L473.929 1381.3 L470.804 1381.3 L470.804 1377.99 L473.929 1377.99 L473.929 1370.63 L478.212 1370.63 Z\" fill=\"#000000\" fill-rule=\"nonzero\" fill-opacity=\"1\" /><path clip-path=\"url(#clip010)\" d=\"M491.915 1367.94 L495.619 1367.94 Q499.091 1373.41 500.804 1378.64 Q502.54 1383.87 502.54 1389.03 Q502.54 1394.22 500.804 1399.47 Q499.091 1404.72 495.619 1410.16 L491.915 1410.16 Q494.994 1404.86 496.499 1399.63 Q498.026 1394.38 498.026 1389.03 Q498.026 1383.68 496.499 1378.47 Q494.994 1373.27 491.915 1367.94 Z\" fill=\"#000000\" fill-rule=\"nonzero\" fill-opacity=\"1\" /></svg>\n"
      ],
      "text/html": [
       "<?xml version=\"1.0\" encoding=\"utf-8\"?>\n",
       "<svg xmlns=\"http://www.w3.org/2000/svg\" xmlns:xlink=\"http://www.w3.org/1999/xlink\" width=\"600\" height=\"400\" viewBox=\"0 0 2400 1600\">\n",
       "<defs>\n",
       "  <clipPath id=\"clip060\">\n",
       "    <rect x=\"0\" y=\"0\" width=\"2400\" height=\"1600\"/>\n",
       "  </clipPath>\n",
       "</defs>\n",
       "<path clip-path=\"url(#clip060)\" d=\"M0 1600 L2400 1600 L2400 8.88178e-14 L0 8.88178e-14  Z\" fill=\"#ffffff\" fill-rule=\"evenodd\" fill-opacity=\"1\"/>\n",
       "<defs>\n",
       "  <clipPath id=\"clip061\">\n",
       "    <rect x=\"480\" y=\"0\" width=\"1681\" height=\"1600\"/>\n",
       "  </clipPath>\n",
       "</defs>\n",
       "<path clip-path=\"url(#clip060)\" d=\"M156.598 1486.45 L2352.76 1486.45 L2352.76 47.2441 L156.598 47.2441  Z\" fill=\"#ffffff\" fill-rule=\"evenodd\" fill-opacity=\"1\"/>\n",
       "<defs>\n",
       "  <clipPath id=\"clip062\">\n",
       "    <rect x=\"156\" y=\"47\" width=\"2197\" height=\"1440\"/>\n",
       "  </clipPath>\n",
       "</defs>\n",
       "<polyline clip-path=\"url(#clip062)\" style=\"stroke:#000000; stroke-linecap:round; stroke-linejoin:round; stroke-width:2; stroke-opacity:0.1; fill:none\" points=\"218.754,1486.45 218.754,47.2441 \"/>\n",
       "<polyline clip-path=\"url(#clip062)\" style=\"stroke:#000000; stroke-linecap:round; stroke-linejoin:round; stroke-width:2; stroke-opacity:0.1; fill:none\" points=\"736.715,1486.45 736.715,47.2441 \"/>\n",
       "<polyline clip-path=\"url(#clip062)\" style=\"stroke:#000000; stroke-linecap:round; stroke-linejoin:round; stroke-width:2; stroke-opacity:0.1; fill:none\" points=\"1254.68,1486.45 1254.68,47.2441 \"/>\n",
       "<polyline clip-path=\"url(#clip062)\" style=\"stroke:#000000; stroke-linecap:round; stroke-linejoin:round; stroke-width:2; stroke-opacity:0.1; fill:none\" points=\"1772.64,1486.45 1772.64,47.2441 \"/>\n",
       "<polyline clip-path=\"url(#clip062)\" style=\"stroke:#000000; stroke-linecap:round; stroke-linejoin:round; stroke-width:2; stroke-opacity:0.1; fill:none\" points=\"2290.6,1486.45 2290.6,47.2441 \"/>\n",
       "<polyline clip-path=\"url(#clip060)\" style=\"stroke:#000000; stroke-linecap:round; stroke-linejoin:round; stroke-width:4; stroke-opacity:1; fill:none\" points=\"156.598,1486.45 2352.76,1486.45 \"/>\n",
       "<polyline clip-path=\"url(#clip060)\" style=\"stroke:#000000; stroke-linecap:round; stroke-linejoin:round; stroke-width:4; stroke-opacity:1; fill:none\" points=\"218.754,1486.45 218.754,1467.55 \"/>\n",
       "<polyline clip-path=\"url(#clip060)\" style=\"stroke:#000000; stroke-linecap:round; stroke-linejoin:round; stroke-width:4; stroke-opacity:1; fill:none\" points=\"736.715,1486.45 736.715,1467.55 \"/>\n",
       "<polyline clip-path=\"url(#clip060)\" style=\"stroke:#000000; stroke-linecap:round; stroke-linejoin:round; stroke-width:4; stroke-opacity:1; fill:none\" points=\"1254.68,1486.45 1254.68,1467.55 \"/>\n",
       "<polyline clip-path=\"url(#clip060)\" style=\"stroke:#000000; stroke-linecap:round; stroke-linejoin:round; stroke-width:4; stroke-opacity:1; fill:none\" points=\"1772.64,1486.45 1772.64,1467.55 \"/>\n",
       "<polyline clip-path=\"url(#clip060)\" style=\"stroke:#000000; stroke-linecap:round; stroke-linejoin:round; stroke-width:4; stroke-opacity:1; fill:none\" points=\"2290.6,1486.45 2290.6,1467.55 \"/>\n",
       "<path clip-path=\"url(#clip060)\" d=\"M196.138 1517.37 Q192.527 1517.37 190.698 1520.93 Q188.893 1524.47 188.893 1531.6 Q188.893 1538.71 190.698 1542.27 Q192.527 1545.82 196.138 1545.82 Q199.772 1545.82 201.578 1542.27 Q203.407 1538.71 203.407 1531.6 Q203.407 1524.47 201.578 1520.93 Q199.772 1517.37 196.138 1517.37 M196.138 1513.66 Q201.948 1513.66 205.004 1518.27 Q208.082 1522.85 208.082 1531.6 Q208.082 1540.33 205.004 1544.94 Q201.948 1549.52 196.138 1549.52 Q190.328 1549.52 187.249 1544.94 Q184.194 1540.33 184.194 1531.6 Q184.194 1522.85 187.249 1518.27 Q190.328 1513.66 196.138 1513.66 Z\" fill=\"#000000\" fill-rule=\"nonzero\" fill-opacity=\"1\" /><path clip-path=\"url(#clip060)\" d=\"M216.3 1542.97 L221.184 1542.97 L221.184 1548.85 L216.3 1548.85 L216.3 1542.97 Z\" fill=\"#000000\" fill-rule=\"nonzero\" fill-opacity=\"1\" /><path clip-path=\"url(#clip060)\" d=\"M241.369 1517.37 Q237.758 1517.37 235.929 1520.93 Q234.124 1524.47 234.124 1531.6 Q234.124 1538.71 235.929 1542.27 Q237.758 1545.82 241.369 1545.82 Q245.003 1545.82 246.809 1542.27 Q248.638 1538.71 248.638 1531.6 Q248.638 1524.47 246.809 1520.93 Q245.003 1517.37 241.369 1517.37 M241.369 1513.66 Q247.179 1513.66 250.235 1518.27 Q253.314 1522.85 253.314 1531.6 Q253.314 1540.33 250.235 1544.94 Q247.179 1549.52 241.369 1549.52 Q235.559 1549.52 232.48 1544.94 Q229.425 1540.33 229.425 1531.6 Q229.425 1522.85 232.48 1518.27 Q235.559 1513.66 241.369 1513.66 Z\" fill=\"#000000\" fill-rule=\"nonzero\" fill-opacity=\"1\" /><path clip-path=\"url(#clip060)\" d=\"M714.597 1517.37 Q710.986 1517.37 709.158 1520.93 Q707.352 1524.47 707.352 1531.6 Q707.352 1538.71 709.158 1542.27 Q710.986 1545.82 714.597 1545.82 Q718.232 1545.82 720.037 1542.27 Q721.866 1538.71 721.866 1531.6 Q721.866 1524.47 720.037 1520.93 Q718.232 1517.37 714.597 1517.37 M714.597 1513.66 Q720.408 1513.66 723.463 1518.27 Q726.542 1522.85 726.542 1531.6 Q726.542 1540.33 723.463 1544.94 Q720.408 1549.52 714.597 1549.52 Q708.787 1549.52 705.709 1544.94 Q702.653 1540.33 702.653 1531.6 Q702.653 1522.85 705.709 1518.27 Q708.787 1513.66 714.597 1513.66 Z\" fill=\"#000000\" fill-rule=\"nonzero\" fill-opacity=\"1\" /><path clip-path=\"url(#clip060)\" d=\"M734.759 1542.97 L739.644 1542.97 L739.644 1548.85 L734.759 1548.85 L734.759 1542.97 Z\" fill=\"#000000\" fill-rule=\"nonzero\" fill-opacity=\"1\" /><path clip-path=\"url(#clip060)\" d=\"M749.875 1514.29 L768.231 1514.29 L768.231 1518.22 L754.157 1518.22 L754.157 1526.7 Q755.176 1526.35 756.194 1526.19 Q757.213 1526 758.231 1526 Q764.018 1526 767.398 1529.17 Q770.778 1532.34 770.778 1537.76 Q770.778 1543.34 767.305 1546.44 Q763.833 1549.52 757.514 1549.52 Q755.338 1549.52 753.069 1549.15 Q750.824 1548.78 748.417 1548.04 L748.417 1543.34 Q750.5 1544.47 752.722 1545.03 Q754.944 1545.58 757.421 1545.58 Q761.426 1545.58 763.764 1543.48 Q766.102 1541.37 766.102 1537.76 Q766.102 1534.15 763.764 1532.04 Q761.426 1529.94 757.421 1529.94 Q755.546 1529.94 753.671 1530.35 Q751.819 1530.77 749.875 1531.65 L749.875 1514.29 Z\" fill=\"#000000\" fill-rule=\"nonzero\" fill-opacity=\"1\" /><path clip-path=\"url(#clip060)\" d=\"M1221.83 1544.91 L1229.47 1544.91 L1229.47 1518.55 L1221.16 1520.21 L1221.16 1515.95 L1229.42 1514.29 L1234.1 1514.29 L1234.1 1544.91 L1241.74 1544.91 L1241.74 1548.85 L1221.83 1548.85 L1221.83 1544.91 Z\" fill=\"#000000\" fill-rule=\"nonzero\" fill-opacity=\"1\" /><path clip-path=\"url(#clip060)\" d=\"M1251.18 1542.97 L1256.07 1542.97 L1256.07 1548.85 L1251.18 1548.85 L1251.18 1542.97 Z\" fill=\"#000000\" fill-rule=\"nonzero\" fill-opacity=\"1\" /><path clip-path=\"url(#clip060)\" d=\"M1276.25 1517.37 Q1272.64 1517.37 1270.81 1520.93 Q1269.01 1524.47 1269.01 1531.6 Q1269.01 1538.71 1270.81 1542.27 Q1272.64 1545.82 1276.25 1545.82 Q1279.89 1545.82 1281.69 1542.27 Q1283.52 1538.71 1283.52 1531.6 Q1283.52 1524.47 1281.69 1520.93 Q1279.89 1517.37 1276.25 1517.37 M1276.25 1513.66 Q1282.06 1513.66 1285.12 1518.27 Q1288.2 1522.85 1288.2 1531.6 Q1288.2 1540.33 1285.12 1544.94 Q1282.06 1549.52 1276.25 1549.52 Q1270.44 1549.52 1267.36 1544.94 Q1264.31 1540.33 1264.31 1531.6 Q1264.31 1522.85 1267.36 1518.27 Q1270.44 1513.66 1276.25 1513.66 Z\" fill=\"#000000\" fill-rule=\"nonzero\" fill-opacity=\"1\" /><path clip-path=\"url(#clip060)\" d=\"M1740.29 1544.91 L1747.93 1544.91 L1747.93 1518.55 L1739.62 1520.21 L1739.62 1515.95 L1747.88 1514.29 L1752.56 1514.29 L1752.56 1544.91 L1760.2 1544.91 L1760.2 1548.85 L1740.29 1548.85 L1740.29 1544.91 Z\" fill=\"#000000\" fill-rule=\"nonzero\" fill-opacity=\"1\" /><path clip-path=\"url(#clip060)\" d=\"M1769.64 1542.97 L1774.53 1542.97 L1774.53 1548.85 L1769.64 1548.85 L1769.64 1542.97 Z\" fill=\"#000000\" fill-rule=\"nonzero\" fill-opacity=\"1\" /><path clip-path=\"url(#clip060)\" d=\"M1784.76 1514.29 L1803.11 1514.29 L1803.11 1518.22 L1789.04 1518.22 L1789.04 1526.7 Q1790.06 1526.35 1791.08 1526.19 Q1792.09 1526 1793.11 1526 Q1798.9 1526 1802.28 1529.17 Q1805.66 1532.34 1805.66 1537.76 Q1805.66 1543.34 1802.19 1546.44 Q1798.72 1549.52 1792.4 1549.52 Q1790.22 1549.52 1787.95 1549.15 Q1785.71 1548.78 1783.3 1548.04 L1783.3 1543.34 Q1785.38 1544.47 1787.6 1545.03 Q1789.83 1545.58 1792.3 1545.58 Q1796.31 1545.58 1798.65 1543.48 Q1800.98 1541.37 1800.98 1537.76 Q1800.98 1534.15 1798.65 1532.04 Q1796.31 1529.94 1792.3 1529.94 Q1790.43 1529.94 1788.55 1530.35 Q1786.7 1530.77 1784.76 1531.65 L1784.76 1514.29 Z\" fill=\"#000000\" fill-rule=\"nonzero\" fill-opacity=\"1\" /><path clip-path=\"url(#clip060)\" d=\"M2261.84 1544.91 L2278.16 1544.91 L2278.16 1548.85 L2256.21 1548.85 L2256.21 1544.91 Q2258.88 1542.16 2263.46 1537.53 Q2268.07 1532.88 2269.25 1531.53 Q2271.49 1529.01 2272.37 1527.27 Q2273.27 1525.51 2273.27 1523.82 Q2273.27 1521.07 2271.33 1519.33 Q2269.41 1517.6 2266.31 1517.6 Q2264.11 1517.6 2261.65 1518.36 Q2259.22 1519.13 2256.45 1520.68 L2256.45 1515.95 Q2259.27 1514.82 2261.72 1514.24 Q2264.18 1513.66 2266.21 1513.66 Q2271.58 1513.66 2274.78 1516.35 Q2277.97 1519.03 2277.97 1523.52 Q2277.97 1525.65 2277.16 1527.57 Q2276.38 1529.47 2274.27 1532.07 Q2273.69 1532.74 2270.59 1535.95 Q2267.49 1539.15 2261.84 1544.91 Z\" fill=\"#000000\" fill-rule=\"nonzero\" fill-opacity=\"1\" /><path clip-path=\"url(#clip060)\" d=\"M2287.97 1542.97 L2292.86 1542.97 L2292.86 1548.85 L2287.97 1548.85 L2287.97 1542.97 Z\" fill=\"#000000\" fill-rule=\"nonzero\" fill-opacity=\"1\" /><path clip-path=\"url(#clip060)\" d=\"M2313.04 1517.37 Q2309.43 1517.37 2307.6 1520.93 Q2305.8 1524.47 2305.8 1531.6 Q2305.8 1538.71 2307.6 1542.27 Q2309.43 1545.82 2313.04 1545.82 Q2316.68 1545.82 2318.48 1542.27 Q2320.31 1538.71 2320.31 1531.6 Q2320.31 1524.47 2318.48 1520.93 Q2316.68 1517.37 2313.04 1517.37 M2313.04 1513.66 Q2318.85 1513.66 2321.91 1518.27 Q2324.99 1522.85 2324.99 1531.6 Q2324.99 1540.33 2321.91 1544.94 Q2318.85 1549.52 2313.04 1549.52 Q2307.23 1549.52 2304.15 1544.94 Q2301.1 1540.33 2301.1 1531.6 Q2301.1 1522.85 2304.15 1518.27 Q2307.23 1513.66 2313.04 1513.66 Z\" fill=\"#000000\" fill-rule=\"nonzero\" fill-opacity=\"1\" /><polyline clip-path=\"url(#clip062)\" style=\"stroke:#000000; stroke-linecap:round; stroke-linejoin:round; stroke-width:2; stroke-opacity:0.1; fill:none\" points=\"156.598,1287.35 2352.76,1287.35 \"/>\n",
       "<polyline clip-path=\"url(#clip062)\" style=\"stroke:#000000; stroke-linecap:round; stroke-linejoin:round; stroke-width:2; stroke-opacity:0.1; fill:none\" points=\"156.598,1087.46 2352.76,1087.46 \"/>\n",
       "<polyline clip-path=\"url(#clip062)\" style=\"stroke:#000000; stroke-linecap:round; stroke-linejoin:round; stroke-width:2; stroke-opacity:0.1; fill:none\" points=\"156.598,887.559 2352.76,887.559 \"/>\n",
       "<polyline clip-path=\"url(#clip062)\" style=\"stroke:#000000; stroke-linecap:round; stroke-linejoin:round; stroke-width:2; stroke-opacity:0.1; fill:none\" points=\"156.598,687.664 2352.76,687.664 \"/>\n",
       "<polyline clip-path=\"url(#clip062)\" style=\"stroke:#000000; stroke-linecap:round; stroke-linejoin:round; stroke-width:2; stroke-opacity:0.1; fill:none\" points=\"156.598,487.768 2352.76,487.768 \"/>\n",
       "<polyline clip-path=\"url(#clip062)\" style=\"stroke:#000000; stroke-linecap:round; stroke-linejoin:round; stroke-width:2; stroke-opacity:0.1; fill:none\" points=\"156.598,287.872 2352.76,287.872 \"/>\n",
       "<polyline clip-path=\"url(#clip062)\" style=\"stroke:#000000; stroke-linecap:round; stroke-linejoin:round; stroke-width:2; stroke-opacity:0.1; fill:none\" points=\"156.598,87.9763 2352.76,87.9763 \"/>\n",
       "<polyline clip-path=\"url(#clip060)\" style=\"stroke:#000000; stroke-linecap:round; stroke-linejoin:round; stroke-width:4; stroke-opacity:1; fill:none\" points=\"156.598,1486.45 156.598,47.2441 \"/>\n",
       "<polyline clip-path=\"url(#clip060)\" style=\"stroke:#000000; stroke-linecap:round; stroke-linejoin:round; stroke-width:4; stroke-opacity:1; fill:none\" points=\"156.598,1287.35 175.496,1287.35 \"/>\n",
       "<polyline clip-path=\"url(#clip060)\" style=\"stroke:#000000; stroke-linecap:round; stroke-linejoin:round; stroke-width:4; stroke-opacity:1; fill:none\" points=\"156.598,1087.46 175.496,1087.46 \"/>\n",
       "<polyline clip-path=\"url(#clip060)\" style=\"stroke:#000000; stroke-linecap:round; stroke-linejoin:round; stroke-width:4; stroke-opacity:1; fill:none\" points=\"156.598,887.559 175.496,887.559 \"/>\n",
       "<polyline clip-path=\"url(#clip060)\" style=\"stroke:#000000; stroke-linecap:round; stroke-linejoin:round; stroke-width:4; stroke-opacity:1; fill:none\" points=\"156.598,687.664 175.496,687.664 \"/>\n",
       "<polyline clip-path=\"url(#clip060)\" style=\"stroke:#000000; stroke-linecap:round; stroke-linejoin:round; stroke-width:4; stroke-opacity:1; fill:none\" points=\"156.598,487.768 175.496,487.768 \"/>\n",
       "<polyline clip-path=\"url(#clip060)\" style=\"stroke:#000000; stroke-linecap:round; stroke-linejoin:round; stroke-width:4; stroke-opacity:1; fill:none\" points=\"156.598,287.872 175.496,287.872 \"/>\n",
       "<polyline clip-path=\"url(#clip060)\" style=\"stroke:#000000; stroke-linecap:round; stroke-linejoin:round; stroke-width:4; stroke-opacity:1; fill:none\" points=\"156.598,87.9763 175.496,87.9763 \"/>\n",
       "<path clip-path=\"url(#clip060)\" d=\"M62.9365 1273.15 Q59.3254 1273.15 57.4967 1276.71 Q55.6912 1280.26 55.6912 1287.39 Q55.6912 1294.49 57.4967 1298.06 Q59.3254 1301.6 62.9365 1301.6 Q66.5707 1301.6 68.3763 1298.06 Q70.205 1294.49 70.205 1287.39 Q70.205 1280.26 68.3763 1276.71 Q66.5707 1273.15 62.9365 1273.15 M62.9365 1269.45 Q68.7467 1269.45 71.8022 1274.05 Q74.8809 1278.64 74.8809 1287.39 Q74.8809 1296.11 71.8022 1300.72 Q68.7467 1305.3 62.9365 1305.3 Q57.1264 1305.3 54.0477 1300.72 Q50.9921 1296.11 50.9921 1287.39 Q50.9921 1278.64 54.0477 1274.05 Q57.1264 1269.45 62.9365 1269.45 Z\" fill=\"#000000\" fill-rule=\"nonzero\" fill-opacity=\"1\" /><path clip-path=\"url(#clip060)\" d=\"M83.0984 1298.75 L87.9827 1298.75 L87.9827 1304.63 L83.0984 1304.63 L83.0984 1298.75 Z\" fill=\"#000000\" fill-rule=\"nonzero\" fill-opacity=\"1\" /><path clip-path=\"url(#clip060)\" d=\"M111.015 1274.15 L99.2095 1292.59 L111.015 1292.59 L111.015 1274.15 M109.788 1270.07 L115.668 1270.07 L115.668 1292.59 L120.598 1292.59 L120.598 1296.48 L115.668 1296.48 L115.668 1304.63 L111.015 1304.63 L111.015 1296.48 L95.4132 1296.48 L95.4132 1291.97 L109.788 1270.07 Z\" fill=\"#000000\" fill-rule=\"nonzero\" fill-opacity=\"1\" /><path clip-path=\"url(#clip060)\" d=\"M64.418 1073.25 Q60.8069 1073.25 58.9782 1076.82 Q57.1726 1080.36 57.1726 1087.49 Q57.1726 1094.6 58.9782 1098.16 Q60.8069 1101.7 64.418 1101.7 Q68.0522 1101.7 69.8578 1098.16 Q71.6865 1094.6 71.6865 1087.49 Q71.6865 1080.36 69.8578 1076.82 Q68.0522 1073.25 64.418 1073.25 M64.418 1069.55 Q70.2281 1069.55 73.2837 1074.16 Q76.3624 1078.74 76.3624 1087.49 Q76.3624 1096.22 73.2837 1100.82 Q70.2281 1105.41 64.418 1105.41 Q58.6078 1105.41 55.5291 1100.82 Q52.4736 1096.22 52.4736 1087.49 Q52.4736 1078.74 55.5291 1074.16 Q58.6078 1069.55 64.418 1069.55 Z\" fill=\"#000000\" fill-rule=\"nonzero\" fill-opacity=\"1\" /><path clip-path=\"url(#clip060)\" d=\"M84.5799 1098.86 L89.4641 1098.86 L89.4641 1104.74 L84.5799 1104.74 L84.5799 1098.86 Z\" fill=\"#000000\" fill-rule=\"nonzero\" fill-opacity=\"1\" /><path clip-path=\"url(#clip060)\" d=\"M99.6956 1070.18 L118.052 1070.18 L118.052 1074.11 L103.978 1074.11 L103.978 1082.58 Q104.996 1082.24 106.015 1082.07 Q107.033 1081.89 108.052 1081.89 Q113.839 1081.89 117.219 1085.06 Q120.598 1088.23 120.598 1093.65 Q120.598 1099.23 117.126 1102.33 Q113.654 1105.41 107.334 1105.41 Q105.159 1105.41 102.89 1105.04 Q100.645 1104.67 98.2372 1103.93 L98.2372 1099.23 Q100.321 1100.36 102.543 1100.92 Q104.765 1101.47 107.242 1101.47 Q111.246 1101.47 113.584 1099.36 Q115.922 1097.26 115.922 1093.65 Q115.922 1090.04 113.584 1087.93 Q111.246 1085.82 107.242 1085.82 Q105.367 1085.82 103.492 1086.24 Q101.64 1086.66 99.6956 1087.54 L99.6956 1070.18 Z\" fill=\"#000000\" fill-rule=\"nonzero\" fill-opacity=\"1\" /><path clip-path=\"url(#clip060)\" d=\"M63.2606 873.358 Q59.6495 873.358 57.8208 876.923 Q56.0152 880.465 56.0152 887.594 Q56.0152 894.701 57.8208 898.265 Q59.6495 901.807 63.2606 901.807 Q66.8948 901.807 68.7004 898.265 Q70.5291 894.701 70.5291 887.594 Q70.5291 880.465 68.7004 876.923 Q66.8948 873.358 63.2606 873.358 M63.2606 869.654 Q69.0707 869.654 72.1263 874.261 Q75.205 878.844 75.205 887.594 Q75.205 896.321 72.1263 900.927 Q69.0707 905.511 63.2606 905.511 Q57.4504 905.511 54.3717 900.927 Q51.3162 896.321 51.3162 887.594 Q51.3162 878.844 54.3717 874.261 Q57.4504 869.654 63.2606 869.654 Z\" fill=\"#000000\" fill-rule=\"nonzero\" fill-opacity=\"1\" /><path clip-path=\"url(#clip060)\" d=\"M83.4225 898.96 L88.3067 898.96 L88.3067 904.839 L83.4225 904.839 L83.4225 898.96 Z\" fill=\"#000000\" fill-rule=\"nonzero\" fill-opacity=\"1\" /><path clip-path=\"url(#clip060)\" d=\"M109.071 885.696 Q105.922 885.696 104.071 887.849 Q102.242 890.002 102.242 893.752 Q102.242 897.478 104.071 899.654 Q105.922 901.807 109.071 901.807 Q112.219 901.807 114.047 899.654 Q115.899 897.478 115.899 893.752 Q115.899 890.002 114.047 887.849 Q112.219 885.696 109.071 885.696 M118.353 871.043 L118.353 875.303 Q116.594 874.469 114.788 874.029 Q113.006 873.59 111.246 873.59 Q106.617 873.59 104.163 876.715 Q101.733 879.84 101.385 886.159 Q102.751 884.145 104.811 883.08 Q106.871 881.992 109.348 881.992 Q114.557 881.992 117.566 885.164 Q120.598 888.312 120.598 893.752 Q120.598 899.076 117.45 902.293 Q114.302 905.511 109.071 905.511 Q103.075 905.511 99.9039 900.927 Q96.7326 896.321 96.7326 887.594 Q96.7326 879.4 100.621 874.539 Q104.51 869.654 111.061 869.654 Q112.82 869.654 114.603 870.002 Q116.408 870.349 118.353 871.043 Z\" fill=\"#000000\" fill-rule=\"nonzero\" fill-opacity=\"1\" /><path clip-path=\"url(#clip060)\" d=\"M64.3254 673.462 Q60.7143 673.462 58.8856 677.027 Q57.0801 680.569 57.0801 687.698 Q57.0801 694.805 58.8856 698.37 Q60.7143 701.911 64.3254 701.911 Q67.9596 701.911 69.7652 698.37 Q71.5939 694.805 71.5939 687.698 Q71.5939 680.569 69.7652 677.027 Q67.9596 673.462 64.3254 673.462 M64.3254 669.759 Q70.1355 669.759 73.1911 674.365 Q76.2698 678.948 76.2698 687.698 Q76.2698 696.425 73.1911 701.032 Q70.1355 705.615 64.3254 705.615 Q58.5152 705.615 55.4365 701.032 Q52.381 696.425 52.381 687.698 Q52.381 678.948 55.4365 674.365 Q58.5152 669.759 64.3254 669.759 Z\" fill=\"#000000\" fill-rule=\"nonzero\" fill-opacity=\"1\" /><path clip-path=\"url(#clip060)\" d=\"M84.4873 699.064 L89.3715 699.064 L89.3715 704.944 L84.4873 704.944 L84.4873 699.064 Z\" fill=\"#000000\" fill-rule=\"nonzero\" fill-opacity=\"1\" /><path clip-path=\"url(#clip060)\" d=\"M98.3761 670.384 L120.598 670.384 L120.598 672.374 L108.052 704.944 L103.168 704.944 L114.973 674.319 L98.3761 674.319 L98.3761 670.384 Z\" fill=\"#000000\" fill-rule=\"nonzero\" fill-opacity=\"1\" /><path clip-path=\"url(#clip060)\" d=\"M63.5152 473.567 Q59.9041 473.567 58.0754 477.131 Q56.2699 480.673 56.2699 487.803 Q56.2699 494.909 58.0754 498.474 Q59.9041 502.015 63.5152 502.015 Q67.1494 502.015 68.955 498.474 Q70.7837 494.909 70.7837 487.803 Q70.7837 480.673 68.955 477.131 Q67.1494 473.567 63.5152 473.567 M63.5152 469.863 Q69.3254 469.863 72.3809 474.469 Q75.4596 479.053 75.4596 487.803 Q75.4596 496.529 72.3809 501.136 Q69.3254 505.719 63.5152 505.719 Q57.7051 505.719 54.6264 501.136 Q51.5708 496.529 51.5708 487.803 Q51.5708 479.053 54.6264 474.469 Q57.7051 469.863 63.5152 469.863 Z\" fill=\"#000000\" fill-rule=\"nonzero\" fill-opacity=\"1\" /><path clip-path=\"url(#clip060)\" d=\"M83.6771 499.168 L88.5614 499.168 L88.5614 505.048 L83.6771 505.048 L83.6771 499.168 Z\" fill=\"#000000\" fill-rule=\"nonzero\" fill-opacity=\"1\" /><path clip-path=\"url(#clip060)\" d=\"M108.746 488.636 Q105.413 488.636 103.492 490.418 Q101.594 492.201 101.594 495.326 Q101.594 498.451 103.492 500.233 Q105.413 502.015 108.746 502.015 Q112.08 502.015 114.001 500.233 Q115.922 498.428 115.922 495.326 Q115.922 492.201 114.001 490.418 Q112.103 488.636 108.746 488.636 M104.071 486.645 Q101.061 485.904 99.3715 483.844 Q97.7048 481.784 97.7048 478.821 Q97.7048 474.678 100.645 472.27 Q103.608 469.863 108.746 469.863 Q113.908 469.863 116.848 472.27 Q119.788 474.678 119.788 478.821 Q119.788 481.784 118.098 483.844 Q116.432 485.904 113.445 486.645 Q116.825 487.432 118.7 489.724 Q120.598 492.016 120.598 495.326 Q120.598 500.349 117.52 503.034 Q114.464 505.719 108.746 505.719 Q103.029 505.719 99.9502 503.034 Q96.8947 500.349 96.8947 495.326 Q96.8947 492.016 98.7928 489.724 Q100.691 487.432 104.071 486.645 M102.358 479.261 Q102.358 481.946 104.024 483.451 Q105.714 484.955 108.746 484.955 Q111.756 484.955 113.445 483.451 Q115.158 481.946 115.158 479.261 Q115.158 476.576 113.445 475.071 Q111.756 473.567 108.746 473.567 Q105.714 473.567 104.024 475.071 Q102.358 476.576 102.358 479.261 Z\" fill=\"#000000\" fill-rule=\"nonzero\" fill-opacity=\"1\" /><path clip-path=\"url(#clip060)\" d=\"M63.6078 273.671 Q59.9967 273.671 58.168 277.236 Q56.3625 280.777 56.3625 287.907 Q56.3625 295.013 58.168 298.578 Q59.9967 302.12 63.6078 302.12 Q67.242 302.12 69.0476 298.578 Q70.8763 295.013 70.8763 287.907 Q70.8763 280.777 69.0476 277.236 Q67.242 273.671 63.6078 273.671 M63.6078 269.967 Q69.418 269.967 72.4735 274.574 Q75.5522 279.157 75.5522 287.907 Q75.5522 296.634 72.4735 301.24 Q69.418 305.823 63.6078 305.823 Q57.7976 305.823 54.719 301.24 Q51.6634 296.634 51.6634 287.907 Q51.6634 279.157 54.719 274.574 Q57.7976 269.967 63.6078 269.967 Z\" fill=\"#000000\" fill-rule=\"nonzero\" fill-opacity=\"1\" /><path clip-path=\"url(#clip060)\" d=\"M83.7697 299.272 L88.654 299.272 L88.654 305.152 L83.7697 305.152 L83.7697 299.272 Z\" fill=\"#000000\" fill-rule=\"nonzero\" fill-opacity=\"1\" /><path clip-path=\"url(#clip060)\" d=\"M98.978 304.434 L98.978 300.175 Q100.737 301.009 102.543 301.448 Q104.348 301.888 106.084 301.888 Q110.714 301.888 113.145 298.786 Q115.598 295.661 115.945 289.319 Q114.603 291.31 112.543 292.374 Q110.483 293.439 107.983 293.439 Q102.797 293.439 99.765 290.314 Q96.7558 287.166 96.7558 281.726 Q96.7558 276.402 99.9039 273.185 Q103.052 269.967 108.283 269.967 Q114.279 269.967 117.427 274.574 Q120.598 279.157 120.598 287.907 Q120.598 296.078 116.709 300.962 Q112.844 305.823 106.293 305.823 Q104.534 305.823 102.728 305.476 Q100.922 305.129 98.978 304.434 M108.283 289.782 Q111.432 289.782 113.26 287.629 Q115.112 285.476 115.112 281.726 Q115.112 277.999 113.26 275.847 Q111.432 273.671 108.283 273.671 Q105.135 273.671 103.284 275.847 Q101.455 277.999 101.455 281.726 Q101.455 285.476 103.284 287.629 Q105.135 289.782 108.283 289.782 Z\" fill=\"#000000\" fill-rule=\"nonzero\" fill-opacity=\"1\" /><path clip-path=\"url(#clip060)\" d=\"M54.2328 101.321 L61.8717 101.321 L61.8717 74.9555 L53.5616 76.6222 L53.5616 72.3629 L61.8254 70.6963 L66.5013 70.6963 L66.5013 101.321 L74.1402 101.321 L74.1402 105.256 L54.2328 105.256 L54.2328 101.321 Z\" fill=\"#000000\" fill-rule=\"nonzero\" fill-opacity=\"1\" /><path clip-path=\"url(#clip060)\" d=\"M83.5845 99.3767 L88.4688 99.3767 L88.4688 105.256 L83.5845 105.256 L83.5845 99.3767 Z\" fill=\"#000000\" fill-rule=\"nonzero\" fill-opacity=\"1\" /><path clip-path=\"url(#clip060)\" d=\"M108.654 73.775 Q105.043 73.775 103.214 77.3398 Q101.409 80.8814 101.409 88.011 Q101.409 95.1174 103.214 98.6822 Q105.043 102.224 108.654 102.224 Q112.288 102.224 114.094 98.6822 Q115.922 95.1174 115.922 88.011 Q115.922 80.8814 114.094 77.3398 Q112.288 73.775 108.654 73.775 M108.654 70.0713 Q114.464 70.0713 117.52 74.6777 Q120.598 79.261 120.598 88.011 Q120.598 96.7378 117.52 101.344 Q114.464 105.928 108.654 105.928 Q102.844 105.928 99.765 101.344 Q96.7095 96.7378 96.7095 88.011 Q96.7095 79.261 99.765 74.6777 Q102.844 70.0713 108.654 70.0713 Z\" fill=\"#000000\" fill-rule=\"nonzero\" fill-opacity=\"1\" /><polyline clip-path=\"url(#clip062)\" style=\"stroke:#009af9; stroke-linecap:round; stroke-linejoin:round; stroke-width:4; stroke-opacity:1; fill:none\" points=\"218.754,87.9763 322.346,287.872 425.938,449.788 529.531,583.87 633.123,696.889 736.715,793.551 840.308,877.236 943.9,950.443 1047.49,1015.06 1151.08,1072.53 1254.68,1124.01 1358.27,1170.4 1461.86,1212.42 1565.45,1250.68 1669.05,1285.66 1772.64,1317.78 1876.23,1347.38 1979.82,1374.74 2083.42,1400.11 2187.01,1423.71 2290.6,1445.72 \"/>\n",
       "<polyline clip-path=\"url(#clip062)\" style=\"stroke:#e26f46; stroke-linecap:round; stroke-linejoin:round; stroke-width:4; stroke-opacity:1; fill:none\" points=\"218.754,87.9763 322.346,87.9763 425.938,87.9763 529.531,87.9763 633.123,87.9763 736.715,87.9763 840.308,87.9763 943.9,87.9763 1047.49,87.9763 1151.08,87.9763 1254.68,87.9763 1358.27,87.9763 1461.86,87.9763 1565.45,87.9763 1669.05,87.9763 1772.64,87.9763 1876.23,87.9763 1979.82,87.9763 2083.42,87.9763 2187.01,87.9763 \"/>\n",
       "<path clip-path=\"url(#clip060)\" d=\"M229.803 1438.47 L527.613 1438.47 L527.613 1282.95 L229.803 1282.95  Z\" fill=\"#ffffff\" fill-rule=\"evenodd\" fill-opacity=\"1\"/>\n",
       "<polyline clip-path=\"url(#clip060)\" style=\"stroke:#000000; stroke-linecap:round; stroke-linejoin:round; stroke-width:4; stroke-opacity:1; fill:none\" points=\"229.803,1438.47 527.613,1438.47 527.613,1282.95 229.803,1282.95 229.803,1438.47 \"/>\n",
       "<polyline clip-path=\"url(#clip060)\" style=\"stroke:#009af9; stroke-linecap:round; stroke-linejoin:round; stroke-width:4; stroke-opacity:1; fill:none\" points=\"254.205,1334.79 400.616,1334.79 \"/>\n",
       "<path clip-path=\"url(#clip060)\" d=\"M449.67 1326.15 L440.295 1338.76 L450.156 1352.07 L445.133 1352.07 L437.587 1341.89 L430.041 1352.07 L425.018 1352.07 L435.087 1338.51 L425.874 1326.15 L430.897 1326.15 L437.772 1335.38 L444.647 1326.15 L449.67 1326.15 Z\" fill=\"#000000\" fill-rule=\"nonzero\" fill-opacity=\"1\" /><path clip-path=\"url(#clip060)\" d=\"M466.406 1316.1 Q463.304 1321.43 461.8 1326.63 Q460.295 1331.84 460.295 1337.19 Q460.295 1342.54 461.8 1347.79 Q463.327 1353.02 466.406 1358.32 L462.702 1358.32 Q459.23 1352.88 457.494 1347.63 Q455.781 1342.38 455.781 1337.19 Q455.781 1332.03 457.494 1326.8 Q459.207 1321.57 462.702 1316.1 L466.406 1316.1 Z\" fill=\"#000000\" fill-rule=\"nonzero\" fill-opacity=\"1\" /><path clip-path=\"url(#clip060)\" d=\"M478.883 1318.79 L478.883 1326.15 L487.656 1326.15 L487.656 1329.46 L478.883 1329.46 L478.883 1343.53 Q478.883 1346.7 479.739 1347.61 Q480.619 1348.51 483.281 1348.51 L487.656 1348.51 L487.656 1352.07 L483.281 1352.07 Q478.351 1352.07 476.476 1350.25 Q474.601 1348.39 474.601 1343.53 L474.601 1329.46 L471.476 1329.46 L471.476 1326.15 L474.601 1326.15 L474.601 1318.79 L478.883 1318.79 Z\" fill=\"#000000\" fill-rule=\"nonzero\" fill-opacity=\"1\" /><path clip-path=\"url(#clip060)\" d=\"M492.587 1316.1 L496.29 1316.1 Q499.762 1321.57 501.475 1326.8 Q503.212 1332.03 503.212 1337.19 Q503.212 1342.38 501.475 1347.63 Q499.762 1352.88 496.29 1358.32 L492.587 1358.32 Q495.665 1353.02 497.17 1347.79 Q498.698 1342.54 498.698 1337.19 Q498.698 1331.84 497.17 1326.63 Q495.665 1321.43 492.587 1316.1 Z\" fill=\"#000000\" fill-rule=\"nonzero\" fill-opacity=\"1\" /><polyline clip-path=\"url(#clip060)\" style=\"stroke:#e26f46; stroke-linecap:round; stroke-linejoin:round; stroke-width:4; stroke-opacity:1; fill:none\" points=\"254.205,1386.63 400.616,1386.63 \"/>\n",
       "<path clip-path=\"url(#clip060)\" d=\"M425.018 1393.68 L425.018 1377.99 L429.277 1377.99 L429.277 1393.52 Q429.277 1397.2 430.712 1399.05 Q432.147 1400.88 435.017 1400.88 Q438.467 1400.88 440.457 1398.68 Q442.471 1396.48 442.471 1392.69 L442.471 1377.99 L446.73 1377.99 L446.73 1403.91 L442.471 1403.91 L442.471 1399.93 Q440.92 1402.29 438.86 1403.45 Q436.823 1404.59 434.115 1404.59 Q429.647 1404.59 427.332 1401.81 Q425.018 1399.03 425.018 1393.68 M435.735 1377.36 L435.735 1377.36 Z\" fill=\"#000000\" fill-rule=\"nonzero\" fill-opacity=\"1\" /><path clip-path=\"url(#clip060)\" d=\"M465.735 1367.94 Q462.633 1373.27 461.128 1378.47 Q459.624 1383.68 459.624 1389.03 Q459.624 1394.38 461.128 1399.63 Q462.656 1404.86 465.735 1410.16 L462.031 1410.16 Q458.559 1404.72 456.823 1399.47 Q455.11 1394.22 455.11 1389.03 Q455.11 1383.87 456.823 1378.64 Q458.536 1373.41 462.031 1367.94 L465.735 1367.94 Z\" fill=\"#000000\" fill-rule=\"nonzero\" fill-opacity=\"1\" /><path clip-path=\"url(#clip060)\" d=\"M478.212 1370.63 L478.212 1377.99 L486.985 1377.99 L486.985 1381.3 L478.212 1381.3 L478.212 1395.37 Q478.212 1398.54 479.068 1399.45 Q479.948 1400.35 482.61 1400.35 L486.985 1400.35 L486.985 1403.91 L482.61 1403.91 Q477.679 1403.91 475.804 1402.09 Q473.929 1400.23 473.929 1395.37 L473.929 1381.3 L470.804 1381.3 L470.804 1377.99 L473.929 1377.99 L473.929 1370.63 L478.212 1370.63 Z\" fill=\"#000000\" fill-rule=\"nonzero\" fill-opacity=\"1\" /><path clip-path=\"url(#clip060)\" d=\"M491.915 1367.94 L495.619 1367.94 Q499.091 1373.41 500.804 1378.64 Q502.54 1383.87 502.54 1389.03 Q502.54 1394.22 500.804 1399.47 Q499.091 1404.72 495.619 1410.16 L491.915 1410.16 Q494.994 1404.86 496.499 1399.63 Q498.026 1394.38 498.026 1389.03 Q498.026 1383.68 496.499 1378.47 Q494.994 1373.27 491.915 1367.94 Z\" fill=\"#000000\" fill-rule=\"nonzero\" fill-opacity=\"1\" /></svg>\n"
      ]
     },
     "execution_count": 99,
     "metadata": {},
     "output_type": "execute_result"
    }
   ],
   "source": [
    "using Plots\n",
    "plot(h*(0:20),xsopt[1,:],label=\"x(t)\")\n",
    "plot!(h*(0:19),uopt[1,:],label=\"u(t)\")"
   ]
  },
  {
   "cell_type": "markdown",
   "id": "2b66a510-66f1-47c1-96b1-ecddae41b5ed",
   "metadata": {},
   "source": [
    "## Optimal Fishing Effort - Addition of Predator\n",
    "\n",
    "#### Minimization problem: \n",
    "$\\quad$ $\\min_u{g(\\textbf{x}(T))}$ subject to $\\frac{d\\textbf{x}}{dt} = \\textbf{F}(\\textbf{x}(t), \\textbf{u}(t))$, $x(0) = x_0$\n",
    "#### where\n",
    "$\\quad$ $\\textbf{F}(\\textbf{x}(t), \\textbf{u}(t)) = \\begin{bmatrix} \\alpha f(f_{max}-f)-\\beta f u - \\gamma f s\\\\ \\gamma f s - \\rho s \\\\ \\delta m + \\beta f u\\end{bmatrix} \\;$ , $\\beta = 1, f_{max}=f_{0}=1, \\rho = 1, \\alpha = 0.1, \\gamma = 5$\n",
    "#### So,\n",
    "$\\quad$ $\\textbf{F}(\\textbf{x}(t), \\textbf{u}(t)) = \\begin{bmatrix} \\alpha f(1-f)-f u \\\\ \\delta m + f u \\end{bmatrix}, x(0)=x_{0}, \\textbf{u}(t)\\in U  \\space \\forall t$\n",
    "\n",
    "#### Where our objective function is \n",
    "$\\quad$ $g(\\begin{bmatrix} f \\\\ m\\end{bmatrix}) = -m(T)$\n",
    "\n",
    "#### And the gradient is \n",
    "$\\quad$ $\\nabla g(\\begin{bmatrix} f \\\\ m\\end{bmatrix}) = \\begin{bmatrix} 0 \\\\ -1 \\end{bmatrix}$"
   ]
  },
  {
   "cell_type": "code",
   "execution_count": 104,
   "id": "ced6e4c9-bb91-4840-a40e-f9462575888c",
   "metadata": {},
   "outputs": [
    {
     "data": {
      "text/plain": [
       "dFdu_pred (generic function with 2 methods)"
      ]
     },
     "execution_count": 104,
     "metadata": {},
     "output_type": "execute_result"
    }
   ],
   "source": [
    "function F_pred(t, x, u, alpha, delta, verbose=0)\n",
    "    f, s, m = x\n",
    "    dfdt = alpha * f * (1 - f) - f* u[1] - 5 * f * s\n",
    "    dsdt = 5 * f * s - s\n",
    "    dmdt = delta * m + u[1] * f\n",
    "\n",
    "    if verbose == 1\n",
    "        println(\"================================\")\n",
    "        println(\"[F] f: \", dfdt)\n",
    "        println(\"[F] m: \", dfdt)\n",
    "        println(\"[F] dfdf: \", dfdt)\n",
    "        println(\"[F] dmdt: \", dfdt)\n",
    "    end\n",
    "\n",
    "    return [dfdt, dmdt]\n",
    "end\n",
    "\n",
    "function g(xv,verbose=0)\n",
    "    if verbose == 1\n",
    "        println(\"[g] g: \", -xv[2])\n",
    "    end\n",
    "    return -xv[2]\n",
    "end\n",
    "\n",
    "function dg(xv, verbose=0) \n",
    "    if verbose == 1\n",
    "        println(\"[dg] dg: \", [0.0, 0.0, -1.0])\n",
    "    end\n",
    "    return [0.0, -1.0]\n",
    "end\n",
    "\n",
    "function dFdu_pred(t, xvect,u,alpha,delta,verbose=0)\n",
    "    if verbose==1\n",
    "        println(\"================================\")\n",
    "        println(\"[dFdu]: \",reshape([-xvect[1] ; xvect[1]],2,1))\n",
    "    end\n",
    "    return reshape([-xvect[1] ; xvect[1]],2,1)\n",
    "end\n",
    "\n",
    "function dFdx_pred(t, xv, u, alpha, delta,verbose=0)\n",
    "    if verbose == 1\n",
    "        println(\"================================\")\n",
    "        println(\"dFdx: \", [alpha - 2*alpha*xv[1] - u[1]  u[1];\n",
    "                   0                    delta])\n",
    "    end\n",
    "    return [alpha - 2*alpha*xv[1] - u[1]  u[1];\n",
    "                   0                    delta]\n",
    "end"
   ]
  },
  {
   "cell_type": "code",
   "execution_count": 105,
   "id": "311a7a7e-359d-48d0-8abb-62bfd9958512",
   "metadata": {},
   "outputs": [
    {
     "ename": "LoadError",
     "evalue": "UndefVarError: `dFdx_pred` not defined",
     "output_type": "error",
     "traceback": [
      "UndefVarError: `dFdx_pred` not defined",
      "",
      "Stacktrace:",
      " [1] macro expansion",
      "   @ show.jl:1181 [inlined]",
      " [2] top-level scope",
      "   @ In[105]:8"
     ]
    }
   ],
   "source": [
    "using LinearAlgebra\n",
    "xv  = [2.1; 1.1; 1.2]\n",
    "dxv = 1e-3*[1.2; -0.7; 0.5]\n",
    "t = 0; u = [0.5]; du = 1e-3*[0.7]\n",
    "T = 20\n",
    "alpha = 1\n",
    "delta = 1\n",
    "@show (F_pred(t,xv+dxv,u,alpha,delta)-F_pred(t,xv-dxv,u,alpha,delta)-2dFdx_pred(t,xv,u,alpha,delta)*dxv)/norm(dxv)\n",
    "@show (F_pred(t,xv,u+du,alpha,delta,1)-F_pred(t,xv,u-du,alpha,delta,1)-2*dFdu_pred(t,xv,u,alpha,delta,1)*du)/norm(du)\n",
    "@show (g_pred(xv+dxv,1)-g_pred|(xv-dxv,1)-2*dot(dg_pred(xv),dxv))/norm(dxv)"
   ]
  },
  {
   "cell_type": "code",
   "execution_count": null,
   "id": "1ddfa60b-d3bd-4306-8656-75e288f04523",
   "metadata": {},
   "outputs": [],
   "source": []
  }
 ],
 "metadata": {
  "kernelspec": {
   "display_name": "Julia 1.10.2",
   "language": "julia",
   "name": "julia-1.10"
  },
  "language_info": {
   "file_extension": ".jl",
   "mimetype": "application/julia",
   "name": "julia",
   "version": "1.10.2"
  }
 },
 "nbformat": 4,
 "nbformat_minor": 5
}

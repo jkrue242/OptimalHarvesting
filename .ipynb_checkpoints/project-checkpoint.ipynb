{
 "cells": [
  {
   "cell_type": "markdown",
   "id": "2b39d239-7546-4aae-ac1c-8dd1fc683f20",
   "metadata": {},
   "source": [
    "#### Much of this code is adapted from Professor David Stewart's (University of Iowa Dept. of Mathematics) base code"
   ]
  },
  {
   "cell_type": "code",
   "execution_count": 1,
   "id": "09225397-9e2e-4704-817b-e378dfca7450",
   "metadata": {},
   "outputs": [],
   "source": [
    "using LinearAlgebra\n",
    "using Plots"
   ]
  },
  {
   "cell_type": "markdown",
   "id": "3ba8869d-66ac-4a2e-8bd1-faebaefd32aa",
   "metadata": {},
   "source": [
    "## Optimal Fishing Effort\n",
    "\n",
    "#### Minimization problem: \n",
    "$\\quad$ $\\min_u{g(\\textbf{x}(T))}$ subject to $\\frac{d\\textbf{x}}{dt} = \\textbf{F}(\\textbf{x}(t), \\textbf{u}(t))$, $x(0) = x_0$\n",
    "#### where\n",
    "$\\quad$ $\\textbf{F}(\\textbf{x}(t), \\textbf{u}(t)) = \\begin{bmatrix} \\alpha f(f_{max}-f)-\\beta f u \\\\ \\delta m + \\beta f u \\end{bmatrix} \\;$ , $\\beta = 1, f_{max}=f_{0}=1$\n",
    "\n",
    "\n",
    "#### Where our objective function is \n",
    "$\\quad$ $g(\\begin{bmatrix} f \\\\ m\\end{bmatrix}) = -m(T)$\n",
    "\n",
    "#### And the gradient is \n",
    "$\\quad$ $\\nabla g(\\begin{bmatrix} f \\\\ m\\end{bmatrix}) = \\begin{bmatrix} 0 \\\\ 1 \\end{bmatrix}$"
   ]
  },
  {
   "cell_type": "code",
   "execution_count": 60,
   "id": "9649bf70-927f-4759-bdf4-a93136269ee6",
   "metadata": {
    "scrolled": true
   },
   "outputs": [
    {
     "data": {
      "text/plain": [
       "dg (generic function with 2 methods)"
      ]
     },
     "execution_count": 60,
     "metadata": {},
     "output_type": "execute_result"
    }
   ],
   "source": [
    "function F(t::Float64, xv::Vector{Float64}, u::Vector{Float64}, params::Dict{String,Real}, verbose=0)\n",
    "    alpha = get(params, \"alpha\", 0.1)\n",
    "    delta = get(params, \"delta\", 0.05)\n",
    "    beta = get(params, \"beta\", 1.0)\n",
    "    f_max = get(params, \"f_max\", 1.0)\n",
    "    f, m = xv \n",
    "    dfdt = alpha * f * (f_max - f) - beta * f * u[1]\n",
    "    dmdt = delta * m + beta * f * u[1]\n",
    "    func = [dfdt, dmdt]\n",
    "    return func\n",
    "end\n",
    "\n",
    "function g(xv,verbose=0)\n",
    "    return xv[2]\n",
    "end\n",
    "\n",
    "function dg(xv::Vector{Float64}, verbose=0) \n",
    "    return [0.0, -1.0]\n",
    "end"
   ]
  },
  {
   "cell_type": "markdown",
   "id": "ba9e5d5e-59da-4bab-8808-d25037db04f7",
   "metadata": {},
   "source": [
    "#### Derivative of $\\textbf{F}$ with respect to $\\textbf{u}$\n",
    "$\\quad$ $\\nabla_{u} \\textbf{F}(t, \\textbf{x}, \\textbf{u}) = \\begin{bmatrix} -f \\\\ f \\end{bmatrix}$"
   ]
  },
  {
   "cell_type": "code",
   "execution_count": 61,
   "id": "328b68a5-8abc-4b61-96e3-a4d72377fe14",
   "metadata": {},
   "outputs": [
    {
     "data": {
      "text/plain": [
       "dFdu (generic function with 4 methods)"
      ]
     },
     "execution_count": 61,
     "metadata": {},
     "output_type": "execute_result"
    }
   ],
   "source": [
    "function dFdu(xvect::Vector{Float64},u::Vector{Float64},params::Dict{String,Real},verbose=0)\n",
    "    f = xv[1]\n",
    "    beta = get(params, \"beta\", 1.0)\n",
    "    grad = [-beta * f, beta * f]\n",
    "    return reshape(grad,2,1)\n",
    "end"
   ]
  },
  {
   "cell_type": "markdown",
   "id": "0c1c4aa9-fb99-4b21-a9b3-4d05af6adfe3",
   "metadata": {},
   "source": [
    "#### Derivative of $\\textbf{F}$ with respect to $\\textbf{x}$\n",
    "$\\quad$ $\\nabla_{x} \\textbf{F}(t, \\textbf{x}, \\textbf{u}) = \\begin{bmatrix} \\alpha -2 \\alpha f - u  && 0  \\\\ u  && \\delta \\end{bmatrix}$"
   ]
  },
  {
   "cell_type": "code",
   "execution_count": 4,
   "id": "d7acccb9-4380-4025-88ba-07bfdca00ef5",
   "metadata": {},
   "outputs": [
    {
     "data": {
      "text/plain": [
       "dFdx_sample (generic function with 1 method)"
      ]
     },
     "execution_count": 4,
     "metadata": {},
     "output_type": "execute_result"
    }
   ],
   "source": [
    "dFdx_sample(t,xv,u) = let x = xv[1], y = xv[2]; [0 0 ;2x 0] end"
   ]
  },
  {
   "cell_type": "code",
   "execution_count": 62,
   "id": "d8ea9c7a-c765-4e5a-9240-ce823d9e0882",
   "metadata": {},
   "outputs": [
    {
     "data": {
      "text/plain": [
       "dFdx (generic function with 6 methods)"
      ]
     },
     "execution_count": 62,
     "metadata": {},
     "output_type": "execute_result"
    }
   ],
   "source": [
    "function dFdx(t::Float64, xv::Vector{Float64}, u::Vector{Float64}, params::Dict{String,Real}, verbose=0)\n",
    "    f = xv[1]\n",
    "    alpha = get(params, \"alpha\", 1.0)\n",
    "    beta = get(params, \"beta\", 1.0)\n",
    "    delta = get(params, \"delta\", 1.0)\n",
    "    jacobian = [    -alpha * (1 - 2*f) + beta * u[1]    beta * f     ;  \n",
    "                              beta * u[1]                 delta      ]\n",
    "    return jacobian\n",
    "end"
   ]
  },
  {
   "cell_type": "markdown",
   "id": "839625ab-1ebb-458b-b1ca-9762e8cb5595",
   "metadata": {},
   "source": [
    "#### Discretization via Euler's Method\n",
    "$\\quad$ $\\textbf{x}_{k+1} = \\textbf{x} + h\\textbf{F}(\\textbf{x}_{k},\\textbf{u}_{k})$\n",
    "\n",
    "This allows us to find $\\textbf{x}(T)$ via a forward pass"
   ]
  },
  {
   "cell_type": "code",
   "execution_count": 6,
   "id": "79fe9d6c-148b-4344-96de-835b8f95c12e",
   "metadata": {},
   "outputs": [
    {
     "data": {
      "text/plain": [
       "forwardstep_sample (generic function with 1 method)"
      ]
     },
     "execution_count": 6,
     "metadata": {},
     "output_type": "execute_result"
    }
   ],
   "source": [
    "function forwardstep_sample(x0,t0,F::Function,u,h)\n",
    "    N = size(u,2) # number of cols of u\n",
    "    n = length(x0)\n",
    "    xs = zeros(eltype(x0),n,N+1)\n",
    "    xs[:,1] = x0\n",
    "    for i = 0:N-1\n",
    "        xs[:,i+2] = xs[:,i+1] + h*F(t0+i*h,xs[:,i+1],u[:,i+1])\n",
    "    end\n",
    "    xs\n",
    "end"
   ]
  },
  {
   "cell_type": "code",
   "execution_count": 40,
   "id": "53ec7f53-d653-48d5-956a-9753fbe36ca6",
   "metadata": {},
   "outputs": [
    {
     "data": {
      "text/plain": [
       "forwardstep (generic function with 2 methods)"
      ]
     },
     "execution_count": 40,
     "metadata": {},
     "output_type": "execute_result"
    }
   ],
   "source": [
    "function forwardstep(t0::Float64,xv::Vector{Float64},u::Matrix{Float64},F::Function,params::Dict{String,Real},verbose=0)\n",
    "    N = size(u,2) # number of cols of u\n",
    "    n = length(xv)\n",
    "    xs = zeros(eltype(xv),n,N+1)\n",
    "    xs[:,1] = xv\n",
    "    h = get(params,\"h\",0.1)\n",
    "    for i = 0:N-1\n",
    "        xs[:,i+2] = xs[:,i+1] + h*F(t0+i*h,xs[:,i+1],u[:,i+1],params)\n",
    "    end\n",
    "    xs\n",
    "end"
   ]
  },
  {
   "attachments": {},
   "cell_type": "markdown",
   "id": "630a285b-f9e0-4f7a-b1ec-069da3257b85",
   "metadata": {},
   "source": [
    "#### Lagrange Multiplier Equations\n",
    "$\\quad$ $\\lambda_{k-1} = \\lambda_{k} + h\\nabla_{x} \\textbf{F}(\\textbf{x}_k, \\textbf{u}_k)^T \\lambda$\n",
    "\n",
    "Moving backwards from the last $\\lambda$ fills in the rest of the $\\lambda$'s via a backward pass"
   ]
  },
  {
   "cell_type": "code",
   "execution_count": 8,
   "id": "c865870d-ac98-4909-813c-019bdd7587c6",
   "metadata": {},
   "outputs": [
    {
     "data": {
      "text/plain": [
       "adjointstep_sample (generic function with 1 method)"
      ]
     },
     "execution_count": 8,
     "metadata": {},
     "output_type": "execute_result"
    }
   ],
   "source": [
    "function adjointstep_sample(λend::Vector{Float64},t0::Float64,dFdx::Function,xs::Matrix{Float64},u::Matrix{Float64},h::Float64)\n",
    "    N = size(u,2)\n",
    "    n = length(λend)\n",
    "    λs = zeros(eltype(λend),n,N)\n",
    "    λs[:,N] = λend\n",
    "    for i = N-2:-1:0\n",
    "        λs[:,i+1] = λs[:,i+2] + h*dFdx(t0+i*h,xs[:,i+1],u[:,i+1])'*λs[:,i+2]\n",
    "    end\n",
    "    λs\n",
    "end"
   ]
  },
  {
   "cell_type": "code",
   "execution_count": 48,
   "id": "088bba38-a609-4d71-ae18-d2bf4fcb9574",
   "metadata": {},
   "outputs": [
    {
     "data": {
      "text/plain": [
       "adjointstep (generic function with 2 methods)"
      ]
     },
     "execution_count": 48,
     "metadata": {},
     "output_type": "execute_result"
    }
   ],
   "source": [
    "# filling in the lagrange multipliers \n",
    "function adjointstep(λend::Vector{Float64},t0::Float64,xv::Matrix{Float64},u::Matrix{Float64},dFdx::Function,params::Dict{String,Real},verbose=0)\n",
    "    N = size(u,2)\n",
    "    n = length(λend)\n",
    "    λs = zeros(eltype(λend),n,N)\n",
    "    λs[:,N] = λend\n",
    "    count = 0\n",
    "    h = get(params,\"h\",0.1)\n",
    "    for i = N-2:-1:0\n",
    "        λs[:,i+1] = λs[:,i+2] + h*dFdx(t0+i*h,xv[:,i+1],u[:,i+1],params)'*λs[:,i+2]\n",
    "    end\n",
    "    λs\n",
    "end"
   ]
  },
  {
   "cell_type": "markdown",
   "id": "d0fe8b88-0829-489d-8c2a-a946b3b6158f",
   "metadata": {},
   "source": [
    "#### Objective function\n",
    "$\\quad$ $g(\\textbf{x}_N)=G(\\textbf{u}_{0}, \\textbf{u}_{1}, ... , \\textbf{u}_{N-1})$\n",
    "\n",
    "where $g(\\textbf{x}_k)$ is the output at each step $k$"
   ]
  },
  {
   "cell_type": "code",
   "execution_count": 10,
   "id": "94758505-6131-42c8-8af2-a599400a3a1b",
   "metadata": {},
   "outputs": [
    {
     "data": {
      "text/plain": [
       "G_sample (generic function with 1 method)"
      ]
     },
     "execution_count": 10,
     "metadata": {},
     "output_type": "execute_result"
    }
   ],
   "source": [
    "function G_sample(x0,t0,u,h,F::Function,g::Function)\n",
    "    xs = forwardstep_sample(x0,t0,F,u,h)\n",
    "    g(xs[:,end])\n",
    "end"
   ]
  },
  {
   "cell_type": "code",
   "execution_count": 11,
   "id": "29a9eb40-f301-4225-8b11-6b6f415aafab",
   "metadata": {},
   "outputs": [
    {
     "data": {
      "text/plain": [
       "G (generic function with 2 methods)"
      ]
     },
     "execution_count": 11,
     "metadata": {},
     "output_type": "execute_result"
    }
   ],
   "source": [
    "function G(t0::Float64,xv::Vector{Float64},u::Matrix{Float64},F::Function,g::Function,params::Dict{String,Real},verbose=0)\n",
    "    xs = forwardstep(t0,xv,u,F,params)\n",
    "    return g(xs[:,end])\n",
    "end"
   ]
  },
  {
   "cell_type": "markdown",
   "id": "e5ebc4e3-9c61-4651-9a4f-46f84e490fd7",
   "metadata": {},
   "source": [
    "#### Gradient of objective function with respect to $\\textbf{u}$\n",
    "$\\quad$ $\\nabla_{u_{k}} g(\\textbf{x}_{N}) = h\\nabla_{u}\\textbf{F}(\\textbf{x}_{k}, \\textbf{u}_{k})^T \\lambda_{k}$"
   ]
  },
  {
   "cell_type": "code",
   "execution_count": 12,
   "id": "267d687a-58f9-4b98-89d3-adb629d6a0f5",
   "metadata": {},
   "outputs": [
    {
     "data": {
      "text/plain": [
       "dG_sample (generic function with 1 method)"
      ]
     },
     "execution_count": 12,
     "metadata": {},
     "output_type": "execute_result"
    }
   ],
   "source": [
    "function dG_sample(x0,t0,u,h,F::Function,dFdx::Function,dFdu::Function,dg::Function)\n",
    "    xs = forwardstep_sample(x0,t0,F,u,h)\n",
    "    λend = dg(xs[:,end])\n",
    "    λs = adjointstep_sample(λend,t0,dFdx,xs,u,h)\n",
    "    dGval = zeros(eltype(u),size(u,1),size(u,2))\n",
    "    for i = 0:size(u,2)-1\n",
    "        dGval[:,i+1] = h*dFdu(t0+i*h,xs[:,i+1],u[:,i+1])'*λs[:,i+1]\n",
    "    end\n",
    "    dGval\n",
    "end"
   ]
  },
  {
   "cell_type": "code",
   "execution_count": 13,
   "id": "6f077122-91de-491e-aa98-af241d75cce5",
   "metadata": {},
   "outputs": [
    {
     "data": {
      "text/plain": [
       "dG (generic function with 2 methods)"
      ]
     },
     "execution_count": 13,
     "metadata": {},
     "output_type": "execute_result"
    }
   ],
   "source": [
    "function dG(t0::Float64,xv::Vector{Float64},u::Matrix{Float64},F::Function,dFdx::Function,dFdu::Function,dg::Function,params,verbose=0)\n",
    "    h = get(params, \"h\", 0.1)\n",
    "    xs = forwardstep(t0,xv,u,F,params)\n",
    "    λend = dg(xv[:,end])\n",
    "    λs = adjointstep(λend,t0,xs,u,dFdx,params)\n",
    "    dGval = zeros(eltype(u),size(u,1),size(u,2))\n",
    "    for i = 0:size(u,2)-1\n",
    "        dGval[:, i+1] = h*dFdu(xs[:, i+1],u[i+1],params)'*λs[:, i+1]\n",
    "    end\n",
    "    dGval\n",
    "end"
   ]
  },
  {
   "cell_type": "markdown",
   "id": "31d9e801-b86d-4fd9-b5e0-3dd6328872bd",
   "metadata": {},
   "source": [
    "#### Projection of controls onto $\\space \\mathcal{U}$\n",
    "$\\quad$ Search direction: $\\textbf{d}=[(\\textbf{d}_{0})^T, (\\textbf{d}_{2})^T, ... , (\\textbf{d}_{N-1})^T]^T$\\\n",
    "$\\quad$ New control: $\\textbf{u}^{+}(\\alpha) = Proj_{\\mathcal{U}}(\\textbf{u}+\\alpha \\textbf{d})$, $\\space$ $\\mathcal{U}$ convex\n",
    "\n",
    "This is to incorporate the constraints $\\textbf{u}_{k} \\in U \\space \\forall k$"
   ]
  },
  {
   "cell_type": "code",
   "execution_count": 14,
   "id": "7dba9dfe-d5d9-4785-8c41-e58d78dd9d63",
   "metadata": {},
   "outputs": [
    {
     "data": {
      "text/plain": [
       "proj_u (generic function with 1 method)"
      ]
     },
     "execution_count": 14,
     "metadata": {},
     "output_type": "execute_result"
    }
   ],
   "source": [
    "function proj_u(u,a,b)\n",
    "    clamp.(u, a, b)\n",
    "end"
   ]
  },
  {
   "cell_type": "markdown",
   "id": "55c694d9-bef1-4cab-aaa2-97efd9e18eda",
   "metadata": {},
   "source": [
    "#### Optimal Control Algorithm\n",
    "Performs gradient descent in conjunction with backtracking line search on the iterates of $\\textbf{u}$"
   ]
  },
  {
   "cell_type": "code",
   "execution_count": 15,
   "id": "71abb654-67e6-4230-9713-b1dcdab94623",
   "metadata": {},
   "outputs": [
    {
     "data": {
      "text/plain": [
       "optcontrol_sample (generic function with 1 method)"
      ]
     },
     "execution_count": 15,
     "metadata": {},
     "output_type": "execute_result"
    }
   ],
   "source": [
    "function optcontrol_sample(x0,t0,u,h,\n",
    "        F::Function,dFdx::Function,dFdu::Function,g::Function,dg::Function,proj::Function;\n",
    "        eps=1e-2,s0=1.0,c1=0.05,maxiter::Int=10_000,ulist=nothing,trace=0)    \n",
    "    Gval = G_sample(x0,t0,u,h,F,g)\n",
    "    Gvalold = Gval\n",
    "\n",
    "    dGval = dG_sample(x0,t0,u,h,F,dFdx,dFdu,dg)\n",
    "\n",
    "    \n",
    "    firsttime = true\n",
    "    iter = 0\n",
    "    if ulist != nothing\n",
    "        push!(ulist,u)\n",
    "    end\n",
    "\n",
    "    while ( firsttime || (Gvalold - Gval > eps) ) && (iter < maxiter)\n",
    "        Gvalold = Gval\n",
    "        s = s0\n",
    "        unew = proj(u-s*dGval) # projected gradient descent\n",
    "        Gval = G_sample(x0,t0,unew,h,F,g)\n",
    "        steps = 0\n",
    "        while Gval > Gvalold + c1*dot(dGval,unew-u) && s > 1e-12*s0\n",
    "            s = s / 2\n",
    "            unew = proj(u-s*dGval)\n",
    "            Gval = G_sample(x0,t0,unew,h,F,g)\n",
    "            steps += 1\n",
    "        end\n",
    "        u = unew\n",
    "        firsttime = false\n",
    "        dGval = dG_sample(x0,t0,u,h,F,dFdx,dFdu,dg)\n",
    " \n",
    "        if ulist != nothing\n",
    "            push!(ulist,u)\n",
    "        end\n",
    "        iter += 1\n",
    "    end\n",
    "    (u,iter)\n",
    "end"
   ]
  },
  {
   "cell_type": "code",
   "execution_count": 29,
   "id": "6303c631-def4-4391-ab02-866fbe5ac1b6",
   "metadata": {},
   "outputs": [
    {
     "data": {
      "text/plain": [
       "optcontrol (generic function with 4 methods)"
      ]
     },
     "execution_count": 29,
     "metadata": {},
     "output_type": "execute_result"
    }
   ],
   "source": [
    "function optcontrol(t0::Float64,x0::Vector{Float64},u::Matrix{Float64},F::Function,dFdx::Function,dFdu::Function,g::Function,dg::Function,proj::Function,params::Dict{String,Real},ulist=nothing,trace=0)\n",
    "    Gval = G(t0,x0,u,F,g,params,1)\n",
    "    Gvalold = Gval\n",
    "    dGval = dG(t0,x0,u,F,dFdx,dFdu,dg,params,1)\n",
    "    firsttime = true\n",
    "    iter = 0\n",
    "    c1 = get(params, \"c1\", 0.01)\n",
    "    s0 = get(params, \"s0\", 1.0)\n",
    "    h = get(params, \"h\", 0.1)\n",
    "    maxiter = get(params, \"maxiter\", 10000)\n",
    "    eps = get(params, \"eps\", 0.4)\n",
    "    if ulist != nothing\n",
    "        push!(ulist,u)\n",
    "    end\n",
    "    while ( firsttime || (Gvalold - Gval > eps) ) && (iter < maxiter)\n",
    "        Gvalold = Gval\n",
    "        s = s0\n",
    "        unew = proj(u-s*dGval) # projected gradient descent\n",
    "        Gval = G(t0,x0,unew,F,g,params,1)        \n",
    "        count_linesearch=0\n",
    "        while Gval > Gvalold + c1*dot(dGval,unew-u) && s > 1e-12*s0\n",
    "            s = s / 2\n",
    "            unew = proj(u-s*dGval)\n",
    "            Gval = G(t0,x0,unew,F,g,params,1)\n",
    "            count_linesearch += 1\n",
    "            if count_linesearch == 1\n",
    "                break\n",
    "            end\n",
    "        end\n",
    "        u = unew\n",
    "        firsttime = false\n",
    "        dGval = dG(t0,x0,u,F,dFdx,dFdu,dg,params,0)\n",
    "\n",
    "        if ulist != nothing\n",
    "            push!(ulist,u)\n",
    "        end\n",
    "        iter += 1\n",
    "    end\n",
    "    (u,iter)\n",
    "end"
   ]
  },
  {
   "cell_type": "markdown",
   "id": "4230f43b-3b2c-4aa7-8eb8-2c648ffeaeb6",
   "metadata": {},
   "source": [
    "#### Trying on sample problem"
   ]
  },
  {
   "cell_type": "code",
   "execution_count": 17,
   "id": "91b1534a-5d2c-4192-874a-e55313d7d9c1",
   "metadata": {},
   "outputs": [
    {
     "data": {
      "text/plain": [
       "dg_sample (generic function with 1 method)"
      ]
     },
     "execution_count": 17,
     "metadata": {},
     "output_type": "execute_result"
    }
   ],
   "source": [
    "F_sample(t,xv,u) = let x = xv[1], y = xv[2]; [u[1]; x^2] end\n",
    "dFdx_sample(t,xv,u) = let x = xv[1], y = xv[2]; [0 0 ;2x 0] end\n",
    "dFdu_sample(t,xv,u) = reshape([1.0; 0.0],2,1)\n",
    "g_sample(xv) = xv[2]\n",
    "dg_sample(xv) = [0.0; 1.0]"
   ]
  },
  {
   "cell_type": "code",
   "execution_count": 18,
   "id": "916b604f-6290-4e82-841c-d814c1036360",
   "metadata": {},
   "outputs": [
    {
     "data": {
      "text/plain": [
       "2×1 Matrix{Float64}:\n",
       " 1.0\n",
       " 0.0"
      ]
     },
     "execution_count": 18,
     "metadata": {},
     "output_type": "execute_result"
    }
   ],
   "source": [
    "using LinearAlgebra\n",
    "xv  = [2.1; 1.1]\n",
    "dxv = 1e-3*[1.2; -0.7]\n",
    "t = 0; u = [0.5]; du = 1e-3*[0.7]\n",
    "dFdu_sample(t,xv,u)"
   ]
  },
  {
   "cell_type": "code",
   "execution_count": 19,
   "id": "1e08eccb-eead-465f-ba16-7b48aaedb156",
   "metadata": {},
   "outputs": [
    {
     "name": "stdout",
     "output_type": "stream",
     "text": [
      "((F_sample(t, xv + dxv, u) - F_sample(t, xv - dxv, u)) - (2 * dFdx_sample(t, xv, u)) * dxv) / norm(dxv) = [0.0, -1.053887001334176e-12]\n",
      "((F_sample(t, xv, u + du) - F_sample(t, xv, u - du)) - 2 * dFdu_sample(t, xv, u) * du) / norm(du) = [1.7657006809049645e-14, 0.0]\n",
      "((g_sample(xv + dxv) - g_sample(xv - dxv)) - 2 * dot(dg_sample(xv), dxv)) / norm(dxv) = 1.1097654886679491e-13\n"
     ]
    },
    {
     "data": {
      "text/plain": [
       "1.1097654886679491e-13"
      ]
     },
     "execution_count": 19,
     "metadata": {},
     "output_type": "execute_result"
    }
   ],
   "source": [
    "using LinearAlgebra\n",
    "xv  = [2.1; 1.1]\n",
    "dxv = 1e-3*[1.2; -0.7]\n",
    "t = 0; u = [0.5]; du = 1e-3*[0.7]\n",
    "@show (F_sample(t,xv+dxv,u)-F_sample(t,xv-dxv,u)-2dFdx_sample(t,xv,u)*dxv)/norm(dxv)\n",
    "@show (F_sample(t,xv,u+du)-F_sample(t,xv,u-du)-2*dFdu_sample(t,xv,u)*du)/norm(du)\n",
    "@show (g_sample(xv+dxv)-g_sample(xv-dxv)-2*dot(dg_sample(xv),dxv))/norm(dxv)"
   ]
  },
  {
   "cell_type": "code",
   "execution_count": 41,
   "id": "93736779-a5a4-45e3-9797-65bba4e97f1f",
   "metadata": {},
   "outputs": [
    {
     "name": "stdout",
     "output_type": "stream",
     "text": [
      "xs_test: [1.0 0.9 0.8 0.7000000000000001 0.6000000000000001 0.5000000000000001 0.40000000000000013 0.30000000000000016 0.20000000000000015 0.10000000000000014 1.3877787807814457e-16 -0.09999999999999987 -0.19999999999999987 -0.2999999999999999 -0.3999999999999999 -0.4999999999999999 -0.5999999999999999 -0.6999999999999998 -0.7999999999999998 -0.8999999999999998 -0.9999999999999998; 0.0 0.1 0.18100000000000002 0.24500000000000005 0.29400000000000004 0.33000000000000007 0.3550000000000001 0.3710000000000001 0.3800000000000001 0.3840000000000001 0.3850000000000001 0.3850000000000001 0.3860000000000001 0.3900000000000001 0.39900000000000013 0.41500000000000015 0.4400000000000001 0.4760000000000001 0.525 0.589 0.6699999999999999]\n"
     ]
    },
    {
     "ename": "LoadError",
     "evalue": "MethodError: no method matching F_sample(::Float64, ::Vector{Float64}, ::Vector{Float64}, ::Dict{String, Real})\n\n\u001b[0mClosest candidates are:\n\u001b[0m  F_sample(::Any, ::Any, ::Any)\n\u001b[0m\u001b[90m   @\u001b[39m \u001b[35mMain\u001b[39m \u001b[90m\u001b[4mIn[17]:1\u001b[24m\u001b[39m\n",
     "output_type": "error",
     "traceback": [
      "MethodError: no method matching F_sample(::Float64, ::Vector{Float64}, ::Vector{Float64}, ::Dict{String, Real})\n\n\u001b[0mClosest candidates are:\n\u001b[0m  F_sample(::Any, ::Any, ::Any)\n\u001b[0m\u001b[90m   @\u001b[39m \u001b[35mMain\u001b[39m \u001b[90m\u001b[4mIn[17]:1\u001b[24m\u001b[39m\n",
      "",
      "Stacktrace:",
      " [1] forwardstep(t0::Float64, xv::Vector{Float64}, u::Matrix{Float64}, F::typeof(F_sample), params::Dict{String, Real}, verbose::Int64)",
      "   @ Main ./In[40]:8",
      " [2] forwardstep(t0::Float64, xv::Vector{Float64}, u::Matrix{Float64}, F::Function, params::Dict{String, Real})",
      "   @ Main ./In[40]:2",
      " [3] top-level scope",
      "   @ In[41]:19"
     ]
    }
   ],
   "source": [
    "N = 20\n",
    "h = 0.1\n",
    "u = -ones(1,N)\n",
    "xv0 = [1.0; 0.0]\n",
    "\n",
    "params_sample = Dict(\n",
    "    \"alpha\"=>0.5,\n",
    "    \"delta\"=>0.5,\n",
    "    \"beta\"=>1.0,\n",
    "    \"f_max\"=>1.0,\n",
    "    \"h\"=>0.1,\n",
    "    \"eps\"=>1e-2,\n",
    "    \"s0\"=>1.0, \n",
    "    \"c1\"=>0.05,\n",
    "    \"maxiter\"=>40\n",
    ")\n",
    "xs_test = forwardstep_sample(xv0,0.0,F_sample,u,h)\n",
    "println(\"xs_test: \", xs_test)\n",
    "xs = forwardstep(0.0,xv0,u,F_sample,params_sample)\n",
    "println()\n",
    "println(\"xs: \",xs)"
   ]
  },
  {
   "cell_type": "code",
   "execution_count": 21,
   "id": "da3cc2eb-56eb-4e63-b82b-f7c14d32e89a",
   "metadata": {},
   "outputs": [
    {
     "data": {
      "text/plain": [
       "2-element Vector{Float64}:\n",
       " 0.0\n",
       " 1.0"
      ]
     },
     "execution_count": 21,
     "metadata": {},
     "output_type": "execute_result"
    }
   ],
   "source": [
    "λend = dg_sample(xs[:,end])"
   ]
  },
  {
   "cell_type": "code",
   "execution_count": 22,
   "id": "1ef0e298-8891-4447-885a-89ed9fd5623c",
   "metadata": {},
   "outputs": [
    {
     "data": {
      "text/plain": [
       "2×20 Matrix{Float64}:\n",
       " 0.38  0.18  5.55112e-16  -0.16  -0.3  …  -0.52  -0.42  -0.3  -0.16  0.0\n",
       " 1.0   1.0   1.0           1.0    1.0      1.0    1.0    1.0   1.0   1.0"
      ]
     },
     "execution_count": 22,
     "metadata": {},
     "output_type": "execute_result"
    }
   ],
   "source": [
    "λs_sample = adjointstep_sample(λend,0.0,dFdx_sample,xs,u,h)"
   ]
  },
  {
   "cell_type": "code",
   "execution_count": 23,
   "id": "b8793a02-3bf0-4849-be78-b186e89ad182",
   "metadata": {},
   "outputs": [
    {
     "data": {
      "text/plain": [
       "2×20 Matrix{Float64}:\n",
       " 0.38  0.18  5.55112e-16  -0.16  -0.3  …  -0.52  -0.42  -0.3  -0.16  0.0\n",
       " 1.0   1.0   1.0           1.0    1.0      1.0    1.0    1.0   1.0   1.0"
      ]
     },
     "execution_count": 23,
     "metadata": {},
     "output_type": "execute_result"
    }
   ],
   "source": [
    "λs = adjointstep(λend,0.0,xs,u,dFdx_sample,params_sample)"
   ]
  },
  {
   "cell_type": "code",
   "execution_count": 24,
   "id": "b3fc0840-b076-4a87-a321-b7c7fa5955cc",
   "metadata": {},
   "outputs": [
    {
     "data": {
      "text/plain": [
       "2-element Vector{Float64}:\n",
       " -1.7999999999999996\n",
       "  0.0"
      ]
     },
     "execution_count": 24,
     "metadata": {},
     "output_type": "execute_result"
    }
   ],
   "source": [
    "dFdx_sample(0,xs[:,end-1],u[:,end])'*λend"
   ]
  },
  {
   "cell_type": "code",
   "execution_count": 25,
   "id": "ee40413e-9b9d-4a83-99f5-12052813501f",
   "metadata": {},
   "outputs": [
    {
     "data": {
      "text/plain": [
       "2-element Vector{Float64}:\n",
       " -1.0\n",
       "  0.5"
      ]
     },
     "execution_count": 25,
     "metadata": {},
     "output_type": "execute_result"
    }
   ],
   "source": [
    "dFdx(0.0,xs[:,end-1],u[:,end][1],params_sample)'*λend"
   ]
  },
  {
   "cell_type": "code",
   "execution_count": 26,
   "id": "3d2330dc-a7e6-436c-ad37-8d618e9adc24",
   "metadata": {},
   "outputs": [
    {
     "name": "stdout",
     "output_type": "stream",
     "text": [
      "G sample: 0.6699999999999999\n",
      "\n",
      "G: 0.6699999999999999\n"
     ]
    }
   ],
   "source": [
    "g_val_sample =G_sample(xv0,0.0,u,h,F_sample,g_sample)\n",
    "println(\"G sample: \", g_val_sample)\n",
    "println()\n",
    "g_val = G(0.0,xv0,u,F_sample,g_sample,params_sample,0)\n",
    "println(\"G: \",g_val)"
   ]
  },
  {
   "cell_type": "code",
   "execution_count": 27,
   "id": "d069aaab-3ab2-4c09-ab36-d6afc23d108a",
   "metadata": {},
   "outputs": [
    {
     "name": "stdout",
     "output_type": "stream",
     "text": [
      "dG sample: [0.03800000000000006 0.018000000000000058 5.551115123125783e-17 -0.01599999999999995 -0.02999999999999995 -0.041999999999999954 -0.05199999999999996 -0.05999999999999997 -0.06599999999999998 -0.06999999999999998 -0.07199999999999998 -0.07199999999999998 -0.06999999999999998 -0.06599999999999999 -0.05999999999999999 -0.05199999999999999 -0.041999999999999996 -0.029999999999999995 -0.015999999999999997 0.0]\n",
      "\n",
      "dG val: [0.03800000000000006 0.018000000000000058 5.551115123125783e-17 -0.01599999999999995 -0.02999999999999995 -0.041999999999999954 -0.05199999999999996 -0.05999999999999997 -0.06599999999999998 -0.06999999999999998 -0.07199999999999998 -0.07199999999999998 -0.06999999999999998 -0.06599999999999999 -0.05999999999999999 -0.05199999999999999 -0.041999999999999996 -0.029999999999999995 -0.015999999999999997 0.0]\n"
     ]
    }
   ],
   "source": [
    "dg_sample_val = dG_sample(xv0,0.0,u,h,F_sample,dFdx_sample,dFdu_sample,dg_sample)\n",
    "println(\"dG sample: \", dg_sample_val)\n",
    "println()\n",
    "dg_val = dG(0.0,xv0,u,F_sample,dFdx_sample,dFdu_sample,dg_sample,params_sample,0)\n",
    "println(\"dG val: \", dg_val)"
   ]
  },
  {
   "cell_type": "code",
   "execution_count": 31,
   "id": "e7671063-313b-4e86-9d05-40b2afc57ede",
   "metadata": {},
   "outputs": [
    {
     "name": "stdout",
     "output_type": "stream",
     "text": [
      "sample uopt, iters: ([-1.0 -1.0 -1.0 -1.0 -1.0 -1.0 -1.0 -1.0 -0.763617762482379 -0.5539419998277445 -0.39285570751443244 -0.2709330105199739 -0.18035807266659903 -0.11466458860898471 -0.06851054958216427 -0.03748319155703648 -0.017929602807851396 -0.00680896047221426 -0.0015627896305092015 0.0], 38)\n",
      "\n",
      "uopt, iters: ([-1.0 -1.0 -1.0 -1.0 -1.0 -1.0 -1.0 -1.0 -0.763617762482379 -0.5539419998277445 -0.39285570751443244 -0.2709330105199739 -0.18035807266659903 -0.11466458860898471 -0.06851054958216427 -0.03748319155703648 -0.017929602807851396 -0.00680896047221426 -0.0015627896305092015 0.0], 38)\n"
     ]
    }
   ],
   "source": [
    "ulist = []\n",
    "u = zeros(1,20)\n",
    "h = 0.1\n",
    "\n",
    "\n",
    "uopt_sample,iters_sample = optcontrol_sample(xv0,0.0,u,h,F_sample,dFdx_sample,dFdu_sample,g_sample,dg_sample,u->proj_u(u,-1.0,1.0),eps=1e-4,maxiter=40,ulist=ulist,trace=0)\n",
    "print(\"sample uopt, iters: \", (uopt_sample, iters_sample))\n",
    "println()\n",
    "println()\n",
    "uopt,iters = optcontrol(0.0,xv0,u,F_sample,dFdx_sample,dFdu_sample,g_sample,dg_sample,u->proj_u(u,-1.0,1.0),params_sample,ulist,0)\n",
    "println(\"uopt, iters: \", (uopt,iters))"
   ]
  },
  {
   "cell_type": "code",
   "execution_count": 32,
   "id": "45f2633d-10d3-4906-b90a-7569d4b66e4d",
   "metadata": {},
   "outputs": [
    {
     "data": {
      "text/plain": [
       "1×20 Matrix{Float64}:\n",
       " -1.0  -1.0  -1.0  -1.0  -1.0  -1.0  -1.0  …  -0.00680896  -0.00156279  0.0"
      ]
     },
     "execution_count": 32,
     "metadata": {},
     "output_type": "execute_result"
    }
   ],
   "source": [
    "uopt"
   ]
  },
  {
   "cell_type": "code",
   "execution_count": 34,
   "id": "d2217263-9b6b-4d45-a301-ac39e767a2b3",
   "metadata": {},
   "outputs": [
    {
     "data": {
      "text/plain": [
       "2×21 Matrix{Float64}:\n",
       " 1.0  0.9  0.8    0.7    0.6    0.5   …  -0.0407103  -0.0408666  -0.0408666\n",
       " 0.0  0.1  0.181  0.245  0.294  0.33      0.386606    0.386772    0.386939"
      ]
     },
     "execution_count": 34,
     "metadata": {},
     "output_type": "execute_result"
    }
   ],
   "source": [
    "xsopt = forwardstep(0.0,xv0,uopt,F_sample,params_sample)"
   ]
  },
  {
   "cell_type": "code",
   "execution_count": 35,
   "id": "733202bf-2bb4-4f9d-8dc7-bc0e4975d63f",
   "metadata": {},
   "outputs": [
    {
     "data": {
      "image/png": "[encoded data removed]",
      "image/svg+xml": [
       "<?xml version=\"1.0\" encoding=\"utf-8\"?>\n",
       "<svg xmlns=\"http://www.w3.org/2000/svg\" xmlns:xlink=\"http://www.w3.org/1999/xlink\" width=\"600\" height=\"400\" viewBox=\"0 0 2400 1600\">\n",
       "<defs>\n",
       "  <clipPath id=\"clip070\">\n",
       "    <rect x=\"0\" y=\"0\" width=\"2400\" height=\"1600\"/>\n",
       "  </clipPath>\n",
       "</defs>\n",
       "<path clip-path=\"url(#clip070)\" d=\"M0 1600 L2400 1600 L2400 8.88178e-14 L0 8.88178e-14  Z\" fill=\"#ffffff\" fill-rule=\"evenodd\" fill-opacity=\"1\"/>\n",
       "<defs>\n",
       "  <clipPath id=\"clip071\">\n",
       "    <rect x=\"480\" y=\"0\" width=\"1681\" height=\"1600\"/>\n",
       "  </clipPath>\n",
       "</defs>\n",
       "<path clip-path=\"url(#clip070)\" d=\"M193.936 1486.45 L2352.76 1486.45 L2352.76 47.2441 L193.936 47.2441  Z\" fill=\"#ffffff\" fill-rule=\"evenodd\" fill-opacity=\"1\"/>\n",
       "<defs>\n",
       "  <clipPath id=\"clip072\">\n",
       "    <rect x=\"193\" y=\"47\" width=\"2160\" height=\"1440\"/>\n",
       "  </clipPath>\n",
       "</defs>\n",
       "<polyline clip-path=\"url(#clip072)\" style=\"stroke:#000000; stroke-linecap:round; stroke-linejoin:round; stroke-width:2; stroke-opacity:0.1; fill:none\" points=\"255.035,1486.45 255.035,47.2441 \"/>\n",
       "<polyline clip-path=\"url(#clip072)\" style=\"stroke:#000000; stroke-linecap:round; stroke-linejoin:round; stroke-width:2; stroke-opacity:0.1; fill:none\" points=\"764.19,1486.45 764.19,47.2441 \"/>\n",
       "<polyline clip-path=\"url(#clip072)\" style=\"stroke:#000000; stroke-linecap:round; stroke-linejoin:round; stroke-width:2; stroke-opacity:0.1; fill:none\" points=\"1273.35,1486.45 1273.35,47.2441 \"/>\n",
       "<polyline clip-path=\"url(#clip072)\" style=\"stroke:#000000; stroke-linecap:round; stroke-linejoin:round; stroke-width:2; stroke-opacity:0.1; fill:none\" points=\"1782.5,1486.45 1782.5,47.2441 \"/>\n",
       "<polyline clip-path=\"url(#clip072)\" style=\"stroke:#000000; stroke-linecap:round; stroke-linejoin:round; stroke-width:2; stroke-opacity:0.1; fill:none\" points=\"2291.66,1486.45 2291.66,47.2441 \"/>\n",
       "<polyline clip-path=\"url(#clip070)\" style=\"stroke:#000000; stroke-linecap:round; stroke-linejoin:round; stroke-width:4; stroke-opacity:1; fill:none\" points=\"193.936,1486.45 2352.76,1486.45 \"/>\n",
       "<polyline clip-path=\"url(#clip070)\" style=\"stroke:#000000; stroke-linecap:round; stroke-linejoin:round; stroke-width:4; stroke-opacity:1; fill:none\" points=\"255.035,1486.45 255.035,1467.55 \"/>\n",
       "<polyline clip-path=\"url(#clip070)\" style=\"stroke:#000000; stroke-linecap:round; stroke-linejoin:round; stroke-width:4; stroke-opacity:1; fill:none\" points=\"764.19,1486.45 764.19,1467.55 \"/>\n",
       "<polyline clip-path=\"url(#clip070)\" style=\"stroke:#000000; stroke-linecap:round; stroke-linejoin:round; stroke-width:4; stroke-opacity:1; fill:none\" points=\"1273.35,1486.45 1273.35,1467.55 \"/>\n",
       "<polyline clip-path=\"url(#clip070)\" style=\"stroke:#000000; stroke-linecap:round; stroke-linejoin:round; stroke-width:4; stroke-opacity:1; fill:none\" points=\"1782.5,1486.45 1782.5,1467.55 \"/>\n",
       "<polyline clip-path=\"url(#clip070)\" style=\"stroke:#000000; stroke-linecap:round; stroke-linejoin:round; stroke-width:4; stroke-opacity:1; fill:none\" points=\"2291.66,1486.45 2291.66,1467.55 \"/>\n",
       "<path clip-path=\"url(#clip070)\" d=\"M232.419 1517.37 Q228.808 1517.37 226.979 1520.93 Q225.174 1524.47 225.174 1531.6 Q225.174 1538.71 226.979 1542.27 Q228.808 1545.82 232.419 1545.82 Q236.053 1545.82 237.859 1542.27 Q239.688 1538.71 239.688 1531.6 Q239.688 1524.47 237.859 1520.93 Q236.053 1517.37 232.419 1517.37 M232.419 1513.66 Q238.229 1513.66 241.285 1518.27 Q244.363 1522.85 244.363 1531.6 Q244.363 1540.33 241.285 1544.94 Q238.229 1549.52 232.419 1549.52 Q226.609 1549.52 223.53 1544.94 Q220.475 1540.33 220.475 1531.6 Q220.475 1522.85 223.53 1518.27 Q226.609 1513.66 232.419 1513.66 Z\" fill=\"#000000\" fill-rule=\"nonzero\" fill-opacity=\"1\" /><path clip-path=\"url(#clip070)\" d=\"M252.581 1542.97 L257.465 1542.97 L257.465 1548.85 L252.581 1548.85 L252.581 1542.97 Z\" fill=\"#000000\" fill-rule=\"nonzero\" fill-opacity=\"1\" /><path clip-path=\"url(#clip070)\" d=\"M277.65 1517.37 Q274.039 1517.37 272.211 1520.93 Q270.405 1524.47 270.405 1531.6 Q270.405 1538.71 272.211 1542.27 Q274.039 1545.82 277.65 1545.82 Q281.285 1545.82 283.09 1542.27 Q284.919 1538.71 284.919 1531.6 Q284.919 1524.47 283.09 1520.93 Q281.285 1517.37 277.65 1517.37 M277.65 1513.66 Q283.46 1513.66 286.516 1518.27 Q289.595 1522.85 289.595 1531.6 Q289.595 1540.33 286.516 1544.94 Q283.46 1549.52 277.65 1549.52 Q271.84 1549.52 268.761 1544.94 Q265.706 1540.33 265.706 1531.6 Q265.706 1522.85 268.761 1518.27 Q271.84 1513.66 277.65 1513.66 Z\" fill=\"#000000\" fill-rule=\"nonzero\" fill-opacity=\"1\" /><path clip-path=\"url(#clip070)\" d=\"M742.072 1517.37 Q738.461 1517.37 736.633 1520.93 Q734.827 1524.47 734.827 1531.6 Q734.827 1538.71 736.633 1542.27 Q738.461 1545.82 742.072 1545.82 Q745.707 1545.82 747.512 1542.27 Q749.341 1538.71 749.341 1531.6 Q749.341 1524.47 747.512 1520.93 Q745.707 1517.37 742.072 1517.37 M742.072 1513.66 Q747.883 1513.66 750.938 1518.27 Q754.017 1522.85 754.017 1531.6 Q754.017 1540.33 750.938 1544.94 Q747.883 1549.52 742.072 1549.52 Q736.262 1549.52 733.184 1544.94 Q730.128 1540.33 730.128 1531.6 Q730.128 1522.85 733.184 1518.27 Q736.262 1513.66 742.072 1513.66 Z\" fill=\"#000000\" fill-rule=\"nonzero\" fill-opacity=\"1\" /><path clip-path=\"url(#clip070)\" d=\"M762.234 1542.97 L767.119 1542.97 L767.119 1548.85 L762.234 1548.85 L762.234 1542.97 Z\" fill=\"#000000\" fill-rule=\"nonzero\" fill-opacity=\"1\" /><path clip-path=\"url(#clip070)\" d=\"M777.35 1514.29 L795.706 1514.29 L795.706 1518.22 L781.632 1518.22 L781.632 1526.7 Q782.651 1526.35 783.669 1526.19 Q784.688 1526 785.706 1526 Q791.493 1526 794.873 1529.17 Q798.253 1532.34 798.253 1537.76 Q798.253 1543.34 794.78 1546.44 Q791.308 1549.52 784.989 1549.52 Q782.813 1549.52 780.544 1549.15 Q778.299 1548.78 775.892 1548.04 L775.892 1543.34 Q777.975 1544.47 780.197 1545.03 Q782.419 1545.58 784.896 1545.58 Q788.901 1545.58 791.239 1543.48 Q793.577 1541.37 793.577 1537.76 Q793.577 1534.15 791.239 1532.04 Q788.901 1529.94 784.896 1529.94 Q783.021 1529.94 781.146 1530.35 Q779.294 1530.77 777.35 1531.65 L777.35 1514.29 Z\" fill=\"#000000\" fill-rule=\"nonzero\" fill-opacity=\"1\" /><path clip-path=\"url(#clip070)\" d=\"M1240.5 1544.91 L1248.14 1544.91 L1248.14 1518.55 L1239.83 1520.21 L1239.83 1515.95 L1248.09 1514.29 L1252.77 1514.29 L1252.77 1544.91 L1260.41 1544.91 L1260.41 1548.85 L1240.5 1548.85 L1240.5 1544.91 Z\" fill=\"#000000\" fill-rule=\"nonzero\" fill-opacity=\"1\" /><path clip-path=\"url(#clip070)\" d=\"M1269.85 1542.97 L1274.73 1542.97 L1274.73 1548.85 L1269.85 1548.85 L1269.85 1542.97 Z\" fill=\"#000000\" fill-rule=\"nonzero\" fill-opacity=\"1\" /><path clip-path=\"url(#clip070)\" d=\"M1294.92 1517.37 Q1291.31 1517.37 1289.48 1520.93 Q1287.67 1524.47 1287.67 1531.6 Q1287.67 1538.71 1289.48 1542.27 Q1291.31 1545.82 1294.92 1545.82 Q1298.55 1545.82 1300.36 1542.27 Q1302.19 1538.71 1302.19 1531.6 Q1302.19 1524.47 1300.36 1520.93 Q1298.55 1517.37 1294.92 1517.37 M1294.92 1513.66 Q1300.73 1513.66 1303.79 1518.27 Q1306.86 1522.85 1306.86 1531.6 Q1306.86 1540.33 1303.79 1544.94 Q1300.73 1549.52 1294.92 1549.52 Q1289.11 1549.52 1286.03 1544.94 Q1282.98 1540.33 1282.98 1531.6 Q1282.98 1522.85 1286.03 1518.27 Q1289.11 1513.66 1294.92 1513.66 Z\" fill=\"#000000\" fill-rule=\"nonzero\" fill-opacity=\"1\" /><path clip-path=\"url(#clip070)\" d=\"M1750.15 1544.91 L1757.79 1544.91 L1757.79 1518.55 L1749.48 1520.21 L1749.48 1515.95 L1757.74 1514.29 L1762.42 1514.29 L1762.42 1544.91 L1770.06 1544.91 L1770.06 1548.85 L1750.15 1548.85 L1750.15 1544.91 Z\" fill=\"#000000\" fill-rule=\"nonzero\" fill-opacity=\"1\" /><path clip-path=\"url(#clip070)\" d=\"M1779.5 1542.97 L1784.39 1542.97 L1784.39 1548.85 L1779.5 1548.85 L1779.5 1542.97 Z\" fill=\"#000000\" fill-rule=\"nonzero\" fill-opacity=\"1\" /><path clip-path=\"url(#clip070)\" d=\"M1794.62 1514.29 L1812.98 1514.29 L1812.98 1518.22 L1798.9 1518.22 L1798.9 1526.7 Q1799.92 1526.35 1800.94 1526.19 Q1801.96 1526 1802.98 1526 Q1808.76 1526 1812.14 1529.17 Q1815.52 1532.34 1815.52 1537.76 Q1815.52 1543.34 1812.05 1546.44 Q1808.58 1549.52 1802.26 1549.52 Q1800.08 1549.52 1797.81 1549.15 Q1795.57 1548.78 1793.16 1548.04 L1793.16 1543.34 Q1795.24 1544.47 1797.47 1545.03 Q1799.69 1545.58 1802.17 1545.58 Q1806.17 1545.58 1808.51 1543.48 Q1810.85 1541.37 1810.85 1537.76 Q1810.85 1534.15 1808.51 1532.04 Q1806.17 1529.94 1802.17 1529.94 Q1800.29 1529.94 1798.42 1530.35 Q1796.56 1530.77 1794.62 1531.65 L1794.62 1514.29 Z\" fill=\"#000000\" fill-rule=\"nonzero\" fill-opacity=\"1\" /><path clip-path=\"url(#clip070)\" d=\"M2262.9 1544.91 L2279.22 1544.91 L2279.22 1548.85 L2257.27 1548.85 L2257.27 1544.91 Q2259.93 1542.16 2264.52 1537.53 Q2269.12 1532.88 2270.3 1531.53 Q2272.55 1529.01 2273.43 1527.27 Q2274.33 1525.51 2274.33 1523.82 Q2274.33 1521.07 2272.39 1519.33 Q2270.47 1517.6 2267.36 1517.6 Q2265.16 1517.6 2262.71 1518.36 Q2260.28 1519.13 2257.5 1520.68 L2257.5 1515.95 Q2260.33 1514.82 2262.78 1514.24 Q2265.23 1513.66 2267.27 1513.66 Q2272.64 1513.66 2275.84 1516.35 Q2279.03 1519.03 2279.03 1523.52 Q2279.03 1525.65 2278.22 1527.57 Q2277.43 1529.47 2275.33 1532.07 Q2274.75 1532.74 2271.65 1535.95 Q2268.54 1539.15 2262.9 1544.91 Z\" fill=\"#000000\" fill-rule=\"nonzero\" fill-opacity=\"1\" /><path clip-path=\"url(#clip070)\" d=\"M2289.03 1542.97 L2293.91 1542.97 L2293.91 1548.85 L2289.03 1548.85 L2289.03 1542.97 Z\" fill=\"#000000\" fill-rule=\"nonzero\" fill-opacity=\"1\" /><path clip-path=\"url(#clip070)\" d=\"M2314.1 1517.37 Q2310.49 1517.37 2308.66 1520.93 Q2306.85 1524.47 2306.85 1531.6 Q2306.85 1538.71 2308.66 1542.27 Q2310.49 1545.82 2314.1 1545.82 Q2317.73 1545.82 2319.54 1542.27 Q2321.37 1538.71 2321.37 1531.6 Q2321.37 1524.47 2319.54 1520.93 Q2317.73 1517.37 2314.1 1517.37 M2314.1 1513.66 Q2319.91 1513.66 2322.96 1518.27 Q2326.04 1522.85 2326.04 1531.6 Q2326.04 1540.33 2322.96 1544.94 Q2319.91 1549.52 2314.1 1549.52 Q2308.29 1549.52 2305.21 1544.94 Q2302.15 1540.33 2302.15 1531.6 Q2302.15 1522.85 2305.21 1518.27 Q2308.29 1513.66 2314.1 1513.66 Z\" fill=\"#000000\" fill-rule=\"nonzero\" fill-opacity=\"1\" /><polyline clip-path=\"url(#clip072)\" style=\"stroke:#000000; stroke-linecap:round; stroke-linejoin:round; stroke-width:2; stroke-opacity:0.1; fill:none\" points=\"193.936,1445.72 2352.76,1445.72 \"/>\n",
       "<polyline clip-path=\"url(#clip072)\" style=\"stroke:#000000; stroke-linecap:round; stroke-linejoin:round; stroke-width:2; stroke-opacity:0.1; fill:none\" points=\"193.936,1106.28 2352.76,1106.28 \"/>\n",
       "<polyline clip-path=\"url(#clip072)\" style=\"stroke:#000000; stroke-linecap:round; stroke-linejoin:round; stroke-width:2; stroke-opacity:0.1; fill:none\" points=\"193.936,766.846 2352.76,766.846 \"/>\n",
       "<polyline clip-path=\"url(#clip072)\" style=\"stroke:#000000; stroke-linecap:round; stroke-linejoin:round; stroke-width:2; stroke-opacity:0.1; fill:none\" points=\"193.936,427.411 2352.76,427.411 \"/>\n",
       "<polyline clip-path=\"url(#clip072)\" style=\"stroke:#000000; stroke-linecap:round; stroke-linejoin:round; stroke-width:2; stroke-opacity:0.1; fill:none\" points=\"193.936,87.9763 2352.76,87.9763 \"/>\n",
       "<polyline clip-path=\"url(#clip070)\" style=\"stroke:#000000; stroke-linecap:round; stroke-linejoin:round; stroke-width:4; stroke-opacity:1; fill:none\" points=\"193.936,1486.45 193.936,47.2441 \"/>\n",
       "<polyline clip-path=\"url(#clip070)\" style=\"stroke:#000000; stroke-linecap:round; stroke-linejoin:round; stroke-width:4; stroke-opacity:1; fill:none\" points=\"193.936,1445.72 212.834,1445.72 \"/>\n",
       "<polyline clip-path=\"url(#clip070)\" style=\"stroke:#000000; stroke-linecap:round; stroke-linejoin:round; stroke-width:4; stroke-opacity:1; fill:none\" points=\"193.936,1106.28 212.834,1106.28 \"/>\n",
       "<polyline clip-path=\"url(#clip070)\" style=\"stroke:#000000; stroke-linecap:round; stroke-linejoin:round; stroke-width:4; stroke-opacity:1; fill:none\" points=\"193.936,766.846 212.834,766.846 \"/>\n",
       "<polyline clip-path=\"url(#clip070)\" style=\"stroke:#000000; stroke-linecap:round; stroke-linejoin:round; stroke-width:4; stroke-opacity:1; fill:none\" points=\"193.936,427.411 212.834,427.411 \"/>\n",
       "<polyline clip-path=\"url(#clip070)\" style=\"stroke:#000000; stroke-linecap:round; stroke-linejoin:round; stroke-width:4; stroke-opacity:1; fill:none\" points=\"193.936,87.9763 212.834,87.9763 \"/>\n",
       "<path clip-path=\"url(#clip070)\" d=\"M50.9921 1446.17 L80.6679 1446.17 L80.6679 1450.1 L50.9921 1450.1 L50.9921 1446.17 Z\" fill=\"#000000\" fill-rule=\"nonzero\" fill-opacity=\"1\" /><path clip-path=\"url(#clip070)\" d=\"M91.5706 1459.06 L99.2095 1459.06 L99.2095 1432.69 L90.8993 1434.36 L90.8993 1430.1 L99.1632 1428.44 L103.839 1428.44 L103.839 1459.06 L111.478 1459.06 L111.478 1463 L91.5706 1463 L91.5706 1459.06 Z\" fill=\"#000000\" fill-rule=\"nonzero\" fill-opacity=\"1\" /><path clip-path=\"url(#clip070)\" d=\"M120.922 1457.12 L125.807 1457.12 L125.807 1463 L120.922 1463 L120.922 1457.12 Z\" fill=\"#000000\" fill-rule=\"nonzero\" fill-opacity=\"1\" /><path clip-path=\"url(#clip070)\" d=\"M145.992 1431.51 Q142.381 1431.51 140.552 1435.08 Q138.746 1438.62 138.746 1445.75 Q138.746 1452.86 140.552 1456.42 Q142.381 1459.96 145.992 1459.96 Q149.626 1459.96 151.431 1456.42 Q153.26 1452.86 153.26 1445.75 Q153.26 1438.62 151.431 1435.08 Q149.626 1431.51 145.992 1431.51 M145.992 1427.81 Q151.802 1427.81 154.857 1432.42 Q157.936 1437 157.936 1445.75 Q157.936 1454.48 154.857 1459.08 Q151.802 1463.67 145.992 1463.67 Q140.181 1463.67 137.103 1459.08 Q134.047 1454.48 134.047 1445.75 Q134.047 1437 137.103 1432.42 Q140.181 1427.81 145.992 1427.81 Z\" fill=\"#000000\" fill-rule=\"nonzero\" fill-opacity=\"1\" /><path clip-path=\"url(#clip070)\" d=\"M51.9875 1106.73 L81.6633 1106.73 L81.6633 1110.67 L51.9875 1110.67 L51.9875 1106.73 Z\" fill=\"#000000\" fill-rule=\"nonzero\" fill-opacity=\"1\" /><path clip-path=\"url(#clip070)\" d=\"M101.756 1092.08 Q98.1447 1092.08 96.316 1095.64 Q94.5104 1099.19 94.5104 1106.32 Q94.5104 1113.42 96.316 1116.99 Q98.1447 1120.53 101.756 1120.53 Q105.39 1120.53 107.196 1116.99 Q109.024 1113.42 109.024 1106.32 Q109.024 1099.19 107.196 1095.64 Q105.39 1092.08 101.756 1092.08 M101.756 1088.38 Q107.566 1088.38 110.621 1092.98 Q113.7 1097.57 113.7 1106.32 Q113.7 1115.04 110.621 1119.65 Q107.566 1124.23 101.756 1124.23 Q95.9456 1124.23 92.8669 1119.65 Q89.8114 1115.04 89.8114 1106.32 Q89.8114 1097.57 92.8669 1092.98 Q95.9456 1088.38 101.756 1088.38 Z\" fill=\"#000000\" fill-rule=\"nonzero\" fill-opacity=\"1\" /><path clip-path=\"url(#clip070)\" d=\"M121.918 1117.68 L126.802 1117.68 L126.802 1123.56 L121.918 1123.56 L121.918 1117.68 Z\" fill=\"#000000\" fill-rule=\"nonzero\" fill-opacity=\"1\" /><path clip-path=\"url(#clip070)\" d=\"M137.033 1089 L155.39 1089 L155.39 1092.94 L141.316 1092.94 L141.316 1101.41 Q142.334 1101.06 143.353 1100.9 Q144.371 1100.71 145.39 1100.71 Q151.177 1100.71 154.556 1103.89 Q157.936 1107.06 157.936 1112.47 Q157.936 1118.05 154.464 1121.15 Q150.992 1124.23 144.672 1124.23 Q142.496 1124.23 140.228 1123.86 Q137.982 1123.49 135.575 1122.75 L135.575 1118.05 Q137.658 1119.19 139.881 1119.74 Q142.103 1120.3 144.58 1120.3 Q148.584 1120.3 150.922 1118.19 Q153.26 1116.08 153.26 1112.47 Q153.26 1108.86 150.922 1106.76 Q148.584 1104.65 144.58 1104.65 Q142.705 1104.65 140.83 1105.07 Q138.978 1105.48 137.033 1106.36 L137.033 1089 Z\" fill=\"#000000\" fill-rule=\"nonzero\" fill-opacity=\"1\" /><path clip-path=\"url(#clip070)\" d=\"M100.76 752.645 Q97.1493 752.645 95.3206 756.209 Q93.515 759.751 93.515 766.881 Q93.515 773.987 95.3206 777.552 Q97.1493 781.094 100.76 781.094 Q104.395 781.094 106.2 777.552 Q108.029 773.987 108.029 766.881 Q108.029 759.751 106.2 756.209 Q104.395 752.645 100.76 752.645 M100.76 748.941 Q106.571 748.941 109.626 753.547 Q112.705 758.131 112.705 766.881 Q112.705 775.608 109.626 780.214 Q106.571 784.797 100.76 784.797 Q94.9502 784.797 91.8715 780.214 Q88.816 775.608 88.816 766.881 Q88.816 758.131 91.8715 753.547 Q94.9502 748.941 100.76 748.941 Z\" fill=\"#000000\" fill-rule=\"nonzero\" fill-opacity=\"1\" /><path clip-path=\"url(#clip070)\" d=\"M120.922 778.246 L125.807 778.246 L125.807 784.126 L120.922 784.126 L120.922 778.246 Z\" fill=\"#000000\" fill-rule=\"nonzero\" fill-opacity=\"1\" /><path clip-path=\"url(#clip070)\" d=\"M145.992 752.645 Q142.381 752.645 140.552 756.209 Q138.746 759.751 138.746 766.881 Q138.746 773.987 140.552 777.552 Q142.381 781.094 145.992 781.094 Q149.626 781.094 151.431 777.552 Q153.26 773.987 153.26 766.881 Q153.26 759.751 151.431 756.209 Q149.626 752.645 145.992 752.645 M145.992 748.941 Q151.802 748.941 154.857 753.547 Q157.936 758.131 157.936 766.881 Q157.936 775.608 154.857 780.214 Q151.802 784.797 145.992 784.797 Q140.181 784.797 137.103 780.214 Q134.047 775.608 134.047 766.881 Q134.047 758.131 137.103 753.547 Q140.181 748.941 145.992 748.941 Z\" fill=\"#000000\" fill-rule=\"nonzero\" fill-opacity=\"1\" /><path clip-path=\"url(#clip070)\" d=\"M101.756 413.21 Q98.1447 413.21 96.316 416.775 Q94.5104 420.316 94.5104 427.446 Q94.5104 434.552 96.316 438.117 Q98.1447 441.659 101.756 441.659 Q105.39 441.659 107.196 438.117 Q109.024 434.552 109.024 427.446 Q109.024 420.316 107.196 416.775 Q105.39 413.21 101.756 413.21 M101.756 409.506 Q107.566 409.506 110.621 414.113 Q113.7 418.696 113.7 427.446 Q113.7 436.173 110.621 440.779 Q107.566 445.362 101.756 445.362 Q95.9456 445.362 92.8669 440.779 Q89.8114 436.173 89.8114 427.446 Q89.8114 418.696 92.8669 414.113 Q95.9456 409.506 101.756 409.506 Z\" fill=\"#000000\" fill-rule=\"nonzero\" fill-opacity=\"1\" /><path clip-path=\"url(#clip070)\" d=\"M121.918 438.812 L126.802 438.812 L126.802 444.691 L121.918 444.691 L121.918 438.812 Z\" fill=\"#000000\" fill-rule=\"nonzero\" fill-opacity=\"1\" /><path clip-path=\"url(#clip070)\" d=\"M137.033 410.131 L155.39 410.131 L155.39 414.066 L141.316 414.066 L141.316 422.538 Q142.334 422.191 143.353 422.029 Q144.371 421.844 145.39 421.844 Q151.177 421.844 154.556 425.015 Q157.936 428.187 157.936 433.603 Q157.936 439.182 154.464 442.284 Q150.992 445.362 144.672 445.362 Q142.496 445.362 140.228 444.992 Q137.982 444.622 135.575 443.881 L135.575 439.182 Q137.658 440.316 139.881 440.872 Q142.103 441.427 144.58 441.427 Q148.584 441.427 150.922 439.321 Q153.26 437.214 153.26 433.603 Q153.26 429.992 150.922 427.886 Q148.584 425.779 144.58 425.779 Q142.705 425.779 140.83 426.196 Q138.978 426.613 137.033 427.492 L137.033 410.131 Z\" fill=\"#000000\" fill-rule=\"nonzero\" fill-opacity=\"1\" /><path clip-path=\"url(#clip070)\" d=\"M91.5706 101.321 L99.2095 101.321 L99.2095 74.9555 L90.8993 76.6222 L90.8993 72.3629 L99.1632 70.6963 L103.839 70.6963 L103.839 101.321 L111.478 101.321 L111.478 105.256 L91.5706 105.256 L91.5706 101.321 Z\" fill=\"#000000\" fill-rule=\"nonzero\" fill-opacity=\"1\" /><path clip-path=\"url(#clip070)\" d=\"M120.922 99.3767 L125.807 99.3767 L125.807 105.256 L120.922 105.256 L120.922 99.3767 Z\" fill=\"#000000\" fill-rule=\"nonzero\" fill-opacity=\"1\" /><path clip-path=\"url(#clip070)\" d=\"M145.992 73.775 Q142.381 73.775 140.552 77.3398 Q138.746 80.8814 138.746 88.011 Q138.746 95.1174 140.552 98.6822 Q142.381 102.224 145.992 102.224 Q149.626 102.224 151.431 98.6822 Q153.26 95.1174 153.26 88.011 Q153.26 80.8814 151.431 77.3398 Q149.626 73.775 145.992 73.775 M145.992 70.0713 Q151.802 70.0713 154.857 74.6777 Q157.936 79.261 157.936 88.011 Q157.936 96.7378 154.857 101.344 Q151.802 105.928 145.992 105.928 Q140.181 105.928 137.103 101.344 Q134.047 96.7378 134.047 88.011 Q134.047 79.261 137.103 74.6777 Q140.181 70.0713 145.992 70.0713 Z\" fill=\"#000000\" fill-rule=\"nonzero\" fill-opacity=\"1\" /><polyline clip-path=\"url(#clip072)\" style=\"stroke:#009af9; stroke-linecap:round; stroke-linejoin:round; stroke-width:4; stroke-opacity:1; fill:none\" points=\"255.035,87.9763 356.866,155.863 458.697,223.75 560.528,291.637 662.359,359.524 764.19,427.411 866.021,495.298 967.853,563.185 1069.68,631.072 1171.51,682.912 1273.35,720.517 1375.18,747.187 1477.01,765.58 1578.84,777.824 1680.67,785.608 1782.5,790.259 1884.33,792.804 1986.16,794.021 2087.99,794.483 2189.83,794.589 2291.66,794.589 \"/>\n",
       "<polyline clip-path=\"url(#clip072)\" style=\"stroke:#e26f46; stroke-linecap:round; stroke-linejoin:round; stroke-width:4; stroke-opacity:1; fill:none\" points=\"255.035,1445.72 356.866,1445.72 458.697,1445.72 560.528,1445.72 662.359,1445.72 764.19,1445.72 866.021,1445.72 967.853,1445.72 1069.68,1285.24 1171.51,1142.9 1273.35,1033.54 1375.18,950.774 1477.01,889.286 1578.84,844.688 1680.67,813.356 1782.5,792.292 1884.33,779.018 1986.16,771.468 2087.99,767.907 2189.83,766.846 \"/>\n",
       "<path clip-path=\"url(#clip070)\" d=\"M1986.72 250.738 L2280.8 250.738 L2280.8 95.2176 L1986.72 95.2176  Z\" fill=\"#ffffff\" fill-rule=\"evenodd\" fill-opacity=\"1\"/>\n",
       "<polyline clip-path=\"url(#clip070)\" style=\"stroke:#000000; stroke-linecap:round; stroke-linejoin:round; stroke-width:4; stroke-opacity:1; fill:none\" points=\"1986.72,250.738 2280.8,250.738 2280.8,95.2176 1986.72,95.2176 1986.72,250.738 \"/>\n",
       "<polyline clip-path=\"url(#clip070)\" style=\"stroke:#009af9; stroke-linecap:round; stroke-linejoin:round; stroke-width:4; stroke-opacity:1; fill:none\" points=\"2010.71,147.058 2154.63,147.058 \"/>\n",
       "<path clip-path=\"url(#clip070)\" d=\"M2203.27 138.412 L2193.89 151.027 L2203.75 164.338 L2198.73 164.338 L2191.18 154.152 L2183.64 164.338 L2178.61 164.338 L2188.68 150.773 L2179.47 138.412 L2184.49 138.412 L2191.37 147.648 L2198.24 138.412 L2203.27 138.412 Z\" fill=\"#000000\" fill-rule=\"nonzero\" fill-opacity=\"1\" /><path clip-path=\"url(#clip070)\" d=\"M2220 128.366 Q2216.9 133.69 2215.4 138.898 Q2213.89 144.106 2213.89 149.453 Q2213.89 154.801 2215.4 160.055 Q2216.92 165.287 2220 170.588 L2216.3 170.588 Q2212.83 165.148 2211.09 159.893 Q2209.38 154.639 2209.38 149.453 Q2209.38 144.291 2211.09 139.06 Q2212.8 133.828 2216.3 128.366 L2220 128.366 Z\" fill=\"#000000\" fill-rule=\"nonzero\" fill-opacity=\"1\" /><path clip-path=\"url(#clip070)\" d=\"M2232.48 131.051 L2232.48 138.412 L2241.25 138.412 L2241.25 141.722 L2232.48 141.722 L2232.48 155.796 Q2232.48 158.967 2233.34 159.87 Q2234.22 160.773 2236.88 160.773 L2241.25 160.773 L2241.25 164.338 L2236.88 164.338 Q2231.95 164.338 2230.07 162.509 Q2228.2 160.657 2228.2 155.796 L2228.2 141.722 L2225.07 141.722 L2225.07 138.412 L2228.2 138.412 L2228.2 131.051 L2232.48 131.051 Z\" fill=\"#000000\" fill-rule=\"nonzero\" fill-opacity=\"1\" /><path clip-path=\"url(#clip070)\" d=\"M2246.18 128.366 L2249.89 128.366 Q2253.36 133.828 2255.07 139.06 Q2256.81 144.291 2256.81 149.453 Q2256.81 154.639 2255.07 159.893 Q2253.36 165.148 2249.89 170.588 L2246.18 170.588 Q2249.26 165.287 2250.77 160.055 Q2252.29 154.801 2252.29 149.453 Q2252.29 144.106 2250.77 138.898 Q2249.26 133.69 2246.18 128.366 Z\" fill=\"#000000\" fill-rule=\"nonzero\" fill-opacity=\"1\" /><polyline clip-path=\"url(#clip070)\" style=\"stroke:#e26f46; stroke-linecap:round; stroke-linejoin:round; stroke-width:4; stroke-opacity:1; fill:none\" points=\"2010.71,198.898 2154.63,198.898 \"/>\n",
       "<path clip-path=\"url(#clip070)\" d=\"M2178.61 205.946 L2178.61 190.252 L2182.87 190.252 L2182.87 205.784 Q2182.87 209.465 2184.31 211.316 Q2185.74 213.145 2188.61 213.145 Q2192.06 213.145 2194.05 210.946 Q2196.07 208.747 2196.07 204.951 L2196.07 190.252 L2200.33 190.252 L2200.33 216.178 L2196.07 216.178 L2196.07 212.196 Q2194.52 214.557 2192.46 215.715 Q2190.42 216.849 2187.71 216.849 Q2183.24 216.849 2180.93 214.071 Q2178.61 211.293 2178.61 205.946 M2189.33 189.627 L2189.33 189.627 Z\" fill=\"#000000\" fill-rule=\"nonzero\" fill-opacity=\"1\" /><path clip-path=\"url(#clip070)\" d=\"M2219.33 180.206 Q2216.23 185.53 2214.73 190.738 Q2213.22 195.946 2213.22 201.293 Q2213.22 206.641 2214.73 211.895 Q2216.25 217.127 2219.33 222.428 L2215.63 222.428 Q2212.16 216.988 2210.42 211.733 Q2208.71 206.479 2208.71 201.293 Q2208.71 196.131 2210.42 190.9 Q2212.13 185.668 2215.63 180.206 L2219.33 180.206 Z\" fill=\"#000000\" fill-rule=\"nonzero\" fill-opacity=\"1\" /><path clip-path=\"url(#clip070)\" d=\"M2231.81 182.891 L2231.81 190.252 L2240.58 190.252 L2240.58 193.562 L2231.81 193.562 L2231.81 207.636 Q2231.81 210.807 2232.66 211.71 Q2233.54 212.613 2236.21 212.613 L2240.58 212.613 L2240.58 216.178 L2236.21 216.178 Q2231.28 216.178 2229.4 214.349 Q2227.53 212.497 2227.53 207.636 L2227.53 193.562 L2224.4 193.562 L2224.4 190.252 L2227.53 190.252 L2227.53 182.891 L2231.81 182.891 Z\" fill=\"#000000\" fill-rule=\"nonzero\" fill-opacity=\"1\" /><path clip-path=\"url(#clip070)\" d=\"M2245.51 180.206 L2249.22 180.206 Q2252.69 185.668 2254.4 190.9 Q2256.14 196.131 2256.14 201.293 Q2256.14 206.479 2254.4 211.733 Q2252.69 216.988 2249.22 222.428 L2245.51 222.428 Q2248.59 217.127 2250.1 211.895 Q2251.62 206.641 2251.62 201.293 Q2251.62 195.946 2250.1 190.738 Q2248.59 185.53 2245.51 180.206 Z\" fill=\"#000000\" fill-rule=\"nonzero\" fill-opacity=\"1\" /></svg>\n"
      ],
      "text/html": [
       "<?xml version=\"1.0\" encoding=\"utf-8\"?>\n",
       "<svg xmlns=\"http://www.w3.org/2000/svg\" xmlns:xlink=\"http://www.w3.org/1999/xlink\" width=\"600\" height=\"400\" viewBox=\"0 0 2400 1600\">\n",
       "<defs>\n",
       "  <clipPath id=\"clip120\">\n",
       "    <rect x=\"0\" y=\"0\" width=\"2400\" height=\"1600\"/>\n",
       "  </clipPath>\n",
       "</defs>\n",
       "<path clip-path=\"url(#clip120)\" d=\"M0 1600 L2400 1600 L2400 8.88178e-14 L0 8.88178e-14  Z\" fill=\"#ffffff\" fill-rule=\"evenodd\" fill-opacity=\"1\"/>\n",
       "<defs>\n",
       "  <clipPath id=\"clip121\">\n",
       "    <rect x=\"480\" y=\"0\" width=\"1681\" height=\"1600\"/>\n",
       "  </clipPath>\n",
       "</defs>\n",
       "<path clip-path=\"url(#clip120)\" d=\"M193.936 1486.45 L2352.76 1486.45 L2352.76 47.2441 L193.936 47.2441  Z\" fill=\"#ffffff\" fill-rule=\"evenodd\" fill-opacity=\"1\"/>\n",
       "<defs>\n",
       "  <clipPath id=\"clip122\">\n",
       "    <rect x=\"193\" y=\"47\" width=\"2160\" height=\"1440\"/>\n",
       "  </clipPath>\n",
       "</defs>\n",
       "<polyline clip-path=\"url(#clip122)\" style=\"stroke:#000000; stroke-linecap:round; stroke-linejoin:round; stroke-width:2; stroke-opacity:0.1; fill:none\" points=\"255.035,1486.45 255.035,47.2441 \"/>\n",
       "<polyline clip-path=\"url(#clip122)\" style=\"stroke:#000000; stroke-linecap:round; stroke-linejoin:round; stroke-width:2; stroke-opacity:0.1; fill:none\" points=\"764.19,1486.45 764.19,47.2441 \"/>\n",
       "<polyline clip-path=\"url(#clip122)\" style=\"stroke:#000000; stroke-linecap:round; stroke-linejoin:round; stroke-width:2; stroke-opacity:0.1; fill:none\" points=\"1273.35,1486.45 1273.35,47.2441 \"/>\n",
       "<polyline clip-path=\"url(#clip122)\" style=\"stroke:#000000; stroke-linecap:round; stroke-linejoin:round; stroke-width:2; stroke-opacity:0.1; fill:none\" points=\"1782.5,1486.45 1782.5,47.2441 \"/>\n",
       "<polyline clip-path=\"url(#clip122)\" style=\"stroke:#000000; stroke-linecap:round; stroke-linejoin:round; stroke-width:2; stroke-opacity:0.1; fill:none\" points=\"2291.66,1486.45 2291.66,47.2441 \"/>\n",
       "<polyline clip-path=\"url(#clip120)\" style=\"stroke:#000000; stroke-linecap:round; stroke-linejoin:round; stroke-width:4; stroke-opacity:1; fill:none\" points=\"193.936,1486.45 2352.76,1486.45 \"/>\n",
       "<polyline clip-path=\"url(#clip120)\" style=\"stroke:#000000; stroke-linecap:round; stroke-linejoin:round; stroke-width:4; stroke-opacity:1; fill:none\" points=\"255.035,1486.45 255.035,1467.55 \"/>\n",
       "<polyline clip-path=\"url(#clip120)\" style=\"stroke:#000000; stroke-linecap:round; stroke-linejoin:round; stroke-width:4; stroke-opacity:1; fill:none\" points=\"764.19,1486.45 764.19,1467.55 \"/>\n",
       "<polyline clip-path=\"url(#clip120)\" style=\"stroke:#000000; stroke-linecap:round; stroke-linejoin:round; stroke-width:4; stroke-opacity:1; fill:none\" points=\"1273.35,1486.45 1273.35,1467.55 \"/>\n",
       "<polyline clip-path=\"url(#clip120)\" style=\"stroke:#000000; stroke-linecap:round; stroke-linejoin:round; stroke-width:4; stroke-opacity:1; fill:none\" points=\"1782.5,1486.45 1782.5,1467.55 \"/>\n",
       "<polyline clip-path=\"url(#clip120)\" style=\"stroke:#000000; stroke-linecap:round; stroke-linejoin:round; stroke-width:4; stroke-opacity:1; fill:none\" points=\"2291.66,1486.45 2291.66,1467.55 \"/>\n",
       "<path clip-path=\"url(#clip120)\" d=\"M232.419 1517.37 Q228.808 1517.37 226.979 1520.93 Q225.174 1524.47 225.174 1531.6 Q225.174 1538.71 226.979 1542.27 Q228.808 1545.82 232.419 1545.82 Q236.053 1545.82 237.859 1542.27 Q239.688 1538.71 239.688 1531.6 Q239.688 1524.47 237.859 1520.93 Q236.053 1517.37 232.419 1517.37 M232.419 1513.66 Q238.229 1513.66 241.285 1518.27 Q244.363 1522.85 244.363 1531.6 Q244.363 1540.33 241.285 1544.94 Q238.229 1549.52 232.419 1549.52 Q226.609 1549.52 223.53 1544.94 Q220.475 1540.33 220.475 1531.6 Q220.475 1522.85 223.53 1518.27 Q226.609 1513.66 232.419 1513.66 Z\" fill=\"#000000\" fill-rule=\"nonzero\" fill-opacity=\"1\" /><path clip-path=\"url(#clip120)\" d=\"M252.581 1542.97 L257.465 1542.97 L257.465 1548.85 L252.581 1548.85 L252.581 1542.97 Z\" fill=\"#000000\" fill-rule=\"nonzero\" fill-opacity=\"1\" /><path clip-path=\"url(#clip120)\" d=\"M277.65 1517.37 Q274.039 1517.37 272.211 1520.93 Q270.405 1524.47 270.405 1531.6 Q270.405 1538.71 272.211 1542.27 Q274.039 1545.82 277.65 1545.82 Q281.285 1545.82 283.09 1542.27 Q284.919 1538.71 284.919 1531.6 Q284.919 1524.47 283.09 1520.93 Q281.285 1517.37 277.65 1517.37 M277.65 1513.66 Q283.46 1513.66 286.516 1518.27 Q289.595 1522.85 289.595 1531.6 Q289.595 1540.33 286.516 1544.94 Q283.46 1549.52 277.65 1549.52 Q271.84 1549.52 268.761 1544.94 Q265.706 1540.33 265.706 1531.6 Q265.706 1522.85 268.761 1518.27 Q271.84 1513.66 277.65 1513.66 Z\" fill=\"#000000\" fill-rule=\"nonzero\" fill-opacity=\"1\" /><path clip-path=\"url(#clip120)\" d=\"M742.072 1517.37 Q738.461 1517.37 736.633 1520.93 Q734.827 1524.47 734.827 1531.6 Q734.827 1538.71 736.633 1542.27 Q738.461 1545.82 742.072 1545.82 Q745.707 1545.82 747.512 1542.27 Q749.341 1538.71 749.341 1531.6 Q749.341 1524.47 747.512 1520.93 Q745.707 1517.37 742.072 1517.37 M742.072 1513.66 Q747.883 1513.66 750.938 1518.27 Q754.017 1522.85 754.017 1531.6 Q754.017 1540.33 750.938 1544.94 Q747.883 1549.52 742.072 1549.52 Q736.262 1549.52 733.184 1544.94 Q730.128 1540.33 730.128 1531.6 Q730.128 1522.85 733.184 1518.27 Q736.262 1513.66 742.072 1513.66 Z\" fill=\"#000000\" fill-rule=\"nonzero\" fill-opacity=\"1\" /><path clip-path=\"url(#clip120)\" d=\"M762.234 1542.97 L767.119 1542.97 L767.119 1548.85 L762.234 1548.85 L762.234 1542.97 Z\" fill=\"#000000\" fill-rule=\"nonzero\" fill-opacity=\"1\" /><path clip-path=\"url(#clip120)\" d=\"M777.35 1514.29 L795.706 1514.29 L795.706 1518.22 L781.632 1518.22 L781.632 1526.7 Q782.651 1526.35 783.669 1526.19 Q784.688 1526 785.706 1526 Q791.493 1526 794.873 1529.17 Q798.253 1532.34 798.253 1537.76 Q798.253 1543.34 794.78 1546.44 Q791.308 1549.52 784.989 1549.52 Q782.813 1549.52 780.544 1549.15 Q778.299 1548.78 775.892 1548.04 L775.892 1543.34 Q777.975 1544.47 780.197 1545.03 Q782.419 1545.58 784.896 1545.58 Q788.901 1545.58 791.239 1543.48 Q793.577 1541.37 793.577 1537.76 Q793.577 1534.15 791.239 1532.04 Q788.901 1529.94 784.896 1529.94 Q783.021 1529.94 781.146 1530.35 Q779.294 1530.77 777.35 1531.65 L777.35 1514.29 Z\" fill=\"#000000\" fill-rule=\"nonzero\" fill-opacity=\"1\" /><path clip-path=\"url(#clip120)\" d=\"M1240.5 1544.91 L1248.14 1544.91 L1248.14 1518.55 L1239.83 1520.21 L1239.83 1515.95 L1248.09 1514.29 L1252.77 1514.29 L1252.77 1544.91 L1260.41 1544.91 L1260.41 1548.85 L1240.5 1548.85 L1240.5 1544.91 Z\" fill=\"#000000\" fill-rule=\"nonzero\" fill-opacity=\"1\" /><path clip-path=\"url(#clip120)\" d=\"M1269.85 1542.97 L1274.73 1542.97 L1274.73 1548.85 L1269.85 1548.85 L1269.85 1542.97 Z\" fill=\"#000000\" fill-rule=\"nonzero\" fill-opacity=\"1\" /><path clip-path=\"url(#clip120)\" d=\"M1294.92 1517.37 Q1291.31 1517.37 1289.48 1520.93 Q1287.67 1524.47 1287.67 1531.6 Q1287.67 1538.71 1289.48 1542.27 Q1291.31 1545.82 1294.92 1545.82 Q1298.55 1545.82 1300.36 1542.27 Q1302.19 1538.71 1302.19 1531.6 Q1302.19 1524.47 1300.36 1520.93 Q1298.55 1517.37 1294.92 1517.37 M1294.92 1513.66 Q1300.73 1513.66 1303.79 1518.27 Q1306.86 1522.85 1306.86 1531.6 Q1306.86 1540.33 1303.79 1544.94 Q1300.73 1549.52 1294.92 1549.52 Q1289.11 1549.52 1286.03 1544.94 Q1282.98 1540.33 1282.98 1531.6 Q1282.98 1522.85 1286.03 1518.27 Q1289.11 1513.66 1294.92 1513.66 Z\" fill=\"#000000\" fill-rule=\"nonzero\" fill-opacity=\"1\" /><path clip-path=\"url(#clip120)\" d=\"M1750.15 1544.91 L1757.79 1544.91 L1757.79 1518.55 L1749.48 1520.21 L1749.48 1515.95 L1757.74 1514.29 L1762.42 1514.29 L1762.42 1544.91 L1770.06 1544.91 L1770.06 1548.85 L1750.15 1548.85 L1750.15 1544.91 Z\" fill=\"#000000\" fill-rule=\"nonzero\" fill-opacity=\"1\" /><path clip-path=\"url(#clip120)\" d=\"M1779.5 1542.97 L1784.39 1542.97 L1784.39 1548.85 L1779.5 1548.85 L1779.5 1542.97 Z\" fill=\"#000000\" fill-rule=\"nonzero\" fill-opacity=\"1\" /><path clip-path=\"url(#clip120)\" d=\"M1794.62 1514.29 L1812.98 1514.29 L1812.98 1518.22 L1798.9 1518.22 L1798.9 1526.7 Q1799.92 1526.35 1800.94 1526.19 Q1801.96 1526 1802.98 1526 Q1808.76 1526 1812.14 1529.17 Q1815.52 1532.34 1815.52 1537.76 Q1815.52 1543.34 1812.05 1546.44 Q1808.58 1549.52 1802.26 1549.52 Q1800.08 1549.52 1797.81 1549.15 Q1795.57 1548.78 1793.16 1548.04 L1793.16 1543.34 Q1795.24 1544.47 1797.47 1545.03 Q1799.69 1545.58 1802.17 1545.58 Q1806.17 1545.58 1808.51 1543.48 Q1810.85 1541.37 1810.85 1537.76 Q1810.85 1534.15 1808.51 1532.04 Q1806.17 1529.94 1802.17 1529.94 Q1800.29 1529.94 1798.42 1530.35 Q1796.56 1530.77 1794.62 1531.65 L1794.62 1514.29 Z\" fill=\"#000000\" fill-rule=\"nonzero\" fill-opacity=\"1\" /><path clip-path=\"url(#clip120)\" d=\"M2262.9 1544.91 L2279.22 1544.91 L2279.22 1548.85 L2257.27 1548.85 L2257.27 1544.91 Q2259.93 1542.16 2264.52 1537.53 Q2269.12 1532.88 2270.3 1531.53 Q2272.55 1529.01 2273.43 1527.27 Q2274.33 1525.51 2274.33 1523.82 Q2274.33 1521.07 2272.39 1519.33 Q2270.47 1517.6 2267.36 1517.6 Q2265.16 1517.6 2262.71 1518.36 Q2260.28 1519.13 2257.5 1520.68 L2257.5 1515.95 Q2260.33 1514.82 2262.78 1514.24 Q2265.23 1513.66 2267.27 1513.66 Q2272.64 1513.66 2275.84 1516.35 Q2279.03 1519.03 2279.03 1523.52 Q2279.03 1525.65 2278.22 1527.57 Q2277.43 1529.47 2275.33 1532.07 Q2274.75 1532.74 2271.65 1535.95 Q2268.54 1539.15 2262.9 1544.91 Z\" fill=\"#000000\" fill-rule=\"nonzero\" fill-opacity=\"1\" /><path clip-path=\"url(#clip120)\" d=\"M2289.03 1542.97 L2293.91 1542.97 L2293.91 1548.85 L2289.03 1548.85 L2289.03 1542.97 Z\" fill=\"#000000\" fill-rule=\"nonzero\" fill-opacity=\"1\" /><path clip-path=\"url(#clip120)\" d=\"M2314.1 1517.37 Q2310.49 1517.37 2308.66 1520.93 Q2306.85 1524.47 2306.85 1531.6 Q2306.85 1538.71 2308.66 1542.27 Q2310.49 1545.82 2314.1 1545.82 Q2317.73 1545.82 2319.54 1542.27 Q2321.37 1538.71 2321.37 1531.6 Q2321.37 1524.47 2319.54 1520.93 Q2317.73 1517.37 2314.1 1517.37 M2314.1 1513.66 Q2319.91 1513.66 2322.96 1518.27 Q2326.04 1522.85 2326.04 1531.6 Q2326.04 1540.33 2322.96 1544.94 Q2319.91 1549.52 2314.1 1549.52 Q2308.29 1549.52 2305.21 1544.94 Q2302.15 1540.33 2302.15 1531.6 Q2302.15 1522.85 2305.21 1518.27 Q2308.29 1513.66 2314.1 1513.66 Z\" fill=\"#000000\" fill-rule=\"nonzero\" fill-opacity=\"1\" /><polyline clip-path=\"url(#clip122)\" style=\"stroke:#000000; stroke-linecap:round; stroke-linejoin:round; stroke-width:2; stroke-opacity:0.1; fill:none\" points=\"193.936,1445.72 2352.76,1445.72 \"/>\n",
       "<polyline clip-path=\"url(#clip122)\" style=\"stroke:#000000; stroke-linecap:round; stroke-linejoin:round; stroke-width:2; stroke-opacity:0.1; fill:none\" points=\"193.936,1106.28 2352.76,1106.28 \"/>\n",
       "<polyline clip-path=\"url(#clip122)\" style=\"stroke:#000000; stroke-linecap:round; stroke-linejoin:round; stroke-width:2; stroke-opacity:0.1; fill:none\" points=\"193.936,766.846 2352.76,766.846 \"/>\n",
       "<polyline clip-path=\"url(#clip122)\" style=\"stroke:#000000; stroke-linecap:round; stroke-linejoin:round; stroke-width:2; stroke-opacity:0.1; fill:none\" points=\"193.936,427.411 2352.76,427.411 \"/>\n",
       "<polyline clip-path=\"url(#clip122)\" style=\"stroke:#000000; stroke-linecap:round; stroke-linejoin:round; stroke-width:2; stroke-opacity:0.1; fill:none\" points=\"193.936,87.9763 2352.76,87.9763 \"/>\n",
       "<polyline clip-path=\"url(#clip120)\" style=\"stroke:#000000; stroke-linecap:round; stroke-linejoin:round; stroke-width:4; stroke-opacity:1; fill:none\" points=\"193.936,1486.45 193.936,47.2441 \"/>\n",
       "<polyline clip-path=\"url(#clip120)\" style=\"stroke:#000000; stroke-linecap:round; stroke-linejoin:round; stroke-width:4; stroke-opacity:1; fill:none\" points=\"193.936,1445.72 212.834,1445.72 \"/>\n",
       "<polyline clip-path=\"url(#clip120)\" style=\"stroke:#000000; stroke-linecap:round; stroke-linejoin:round; stroke-width:4; stroke-opacity:1; fill:none\" points=\"193.936,1106.28 212.834,1106.28 \"/>\n",
       "<polyline clip-path=\"url(#clip120)\" style=\"stroke:#000000; stroke-linecap:round; stroke-linejoin:round; stroke-width:4; stroke-opacity:1; fill:none\" points=\"193.936,766.846 212.834,766.846 \"/>\n",
       "<polyline clip-path=\"url(#clip120)\" style=\"stroke:#000000; stroke-linecap:round; stroke-linejoin:round; stroke-width:4; stroke-opacity:1; fill:none\" points=\"193.936,427.411 212.834,427.411 \"/>\n",
       "<polyline clip-path=\"url(#clip120)\" style=\"stroke:#000000; stroke-linecap:round; stroke-linejoin:round; stroke-width:4; stroke-opacity:1; fill:none\" points=\"193.936,87.9763 212.834,87.9763 \"/>\n",
       "<path clip-path=\"url(#clip120)\" d=\"M50.9921 1446.17 L80.6679 1446.17 L80.6679 1450.1 L50.9921 1450.1 L50.9921 1446.17 Z\" fill=\"#000000\" fill-rule=\"nonzero\" fill-opacity=\"1\" /><path clip-path=\"url(#clip120)\" d=\"M91.5706 1459.06 L99.2095 1459.06 L99.2095 1432.69 L90.8993 1434.36 L90.8993 1430.1 L99.1632 1428.44 L103.839 1428.44 L103.839 1459.06 L111.478 1459.06 L111.478 1463 L91.5706 1463 L91.5706 1459.06 Z\" fill=\"#000000\" fill-rule=\"nonzero\" fill-opacity=\"1\" /><path clip-path=\"url(#clip120)\" d=\"M120.922 1457.12 L125.807 1457.12 L125.807 1463 L120.922 1463 L120.922 1457.12 Z\" fill=\"#000000\" fill-rule=\"nonzero\" fill-opacity=\"1\" /><path clip-path=\"url(#clip120)\" d=\"M145.992 1431.51 Q142.381 1431.51 140.552 1435.08 Q138.746 1438.62 138.746 1445.75 Q138.746 1452.86 140.552 1456.42 Q142.381 1459.96 145.992 1459.96 Q149.626 1459.96 151.431 1456.42 Q153.26 1452.86 153.26 1445.75 Q153.26 1438.62 151.431 1435.08 Q149.626 1431.51 145.992 1431.51 M145.992 1427.81 Q151.802 1427.81 154.857 1432.42 Q157.936 1437 157.936 1445.75 Q157.936 1454.48 154.857 1459.08 Q151.802 1463.67 145.992 1463.67 Q140.181 1463.67 137.103 1459.08 Q134.047 1454.48 134.047 1445.75 Q134.047 1437 137.103 1432.42 Q140.181 1427.81 145.992 1427.81 Z\" fill=\"#000000\" fill-rule=\"nonzero\" fill-opacity=\"1\" /><path clip-path=\"url(#clip120)\" d=\"M51.9875 1106.73 L81.6633 1106.73 L81.6633 1110.67 L51.9875 1110.67 L51.9875 1106.73 Z\" fill=\"#000000\" fill-rule=\"nonzero\" fill-opacity=\"1\" /><path clip-path=\"url(#clip120)\" d=\"M101.756 1092.08 Q98.1447 1092.08 96.316 1095.64 Q94.5104 1099.19 94.5104 1106.32 Q94.5104 1113.42 96.316 1116.99 Q98.1447 1120.53 101.756 1120.53 Q105.39 1120.53 107.196 1116.99 Q109.024 1113.42 109.024 1106.32 Q109.024 1099.19 107.196 1095.64 Q105.39 1092.08 101.756 1092.08 M101.756 1088.38 Q107.566 1088.38 110.621 1092.98 Q113.7 1097.57 113.7 1106.32 Q113.7 1115.04 110.621 1119.65 Q107.566 1124.23 101.756 1124.23 Q95.9456 1124.23 92.8669 1119.65 Q89.8114 1115.04 89.8114 1106.32 Q89.8114 1097.57 92.8669 1092.98 Q95.9456 1088.38 101.756 1088.38 Z\" fill=\"#000000\" fill-rule=\"nonzero\" fill-opacity=\"1\" /><path clip-path=\"url(#clip120)\" d=\"M121.918 1117.68 L126.802 1117.68 L126.802 1123.56 L121.918 1123.56 L121.918 1117.68 Z\" fill=\"#000000\" fill-rule=\"nonzero\" fill-opacity=\"1\" /><path clip-path=\"url(#clip120)\" d=\"M137.033 1089 L155.39 1089 L155.39 1092.94 L141.316 1092.94 L141.316 1101.41 Q142.334 1101.06 143.353 1100.9 Q144.371 1100.71 145.39 1100.71 Q151.177 1100.71 154.556 1103.89 Q157.936 1107.06 157.936 1112.47 Q157.936 1118.05 154.464 1121.15 Q150.992 1124.23 144.672 1124.23 Q142.496 1124.23 140.228 1123.86 Q137.982 1123.49 135.575 1122.75 L135.575 1118.05 Q137.658 1119.19 139.881 1119.74 Q142.103 1120.3 144.58 1120.3 Q148.584 1120.3 150.922 1118.19 Q153.26 1116.08 153.26 1112.47 Q153.26 1108.86 150.922 1106.76 Q148.584 1104.65 144.58 1104.65 Q142.705 1104.65 140.83 1105.07 Q138.978 1105.48 137.033 1106.36 L137.033 1089 Z\" fill=\"#000000\" fill-rule=\"nonzero\" fill-opacity=\"1\" /><path clip-path=\"url(#clip120)\" d=\"M100.76 752.645 Q97.1493 752.645 95.3206 756.209 Q93.515 759.751 93.515 766.881 Q93.515 773.987 95.3206 777.552 Q97.1493 781.094 100.76 781.094 Q104.395 781.094 106.2 777.552 Q108.029 773.987 108.029 766.881 Q108.029 759.751 106.2 756.209 Q104.395 752.645 100.76 752.645 M100.76 748.941 Q106.571 748.941 109.626 753.547 Q112.705 758.131 112.705 766.881 Q112.705 775.608 109.626 780.214 Q106.571 784.797 100.76 784.797 Q94.9502 784.797 91.8715 780.214 Q88.816 775.608 88.816 766.881 Q88.816 758.131 91.8715 753.547 Q94.9502 748.941 100.76 748.941 Z\" fill=\"#000000\" fill-rule=\"nonzero\" fill-opacity=\"1\" /><path clip-path=\"url(#clip120)\" d=\"M120.922 778.246 L125.807 778.246 L125.807 784.126 L120.922 784.126 L120.922 778.246 Z\" fill=\"#000000\" fill-rule=\"nonzero\" fill-opacity=\"1\" /><path clip-path=\"url(#clip120)\" d=\"M145.992 752.645 Q142.381 752.645 140.552 756.209 Q138.746 759.751 138.746 766.881 Q138.746 773.987 140.552 777.552 Q142.381 781.094 145.992 781.094 Q149.626 781.094 151.431 777.552 Q153.26 773.987 153.26 766.881 Q153.26 759.751 151.431 756.209 Q149.626 752.645 145.992 752.645 M145.992 748.941 Q151.802 748.941 154.857 753.547 Q157.936 758.131 157.936 766.881 Q157.936 775.608 154.857 780.214 Q151.802 784.797 145.992 784.797 Q140.181 784.797 137.103 780.214 Q134.047 775.608 134.047 766.881 Q134.047 758.131 137.103 753.547 Q140.181 748.941 145.992 748.941 Z\" fill=\"#000000\" fill-rule=\"nonzero\" fill-opacity=\"1\" /><path clip-path=\"url(#clip120)\" d=\"M101.756 413.21 Q98.1447 413.21 96.316 416.775 Q94.5104 420.316 94.5104 427.446 Q94.5104 434.552 96.316 438.117 Q98.1447 441.659 101.756 441.659 Q105.39 441.659 107.196 438.117 Q109.024 434.552 109.024 427.446 Q109.024 420.316 107.196 416.775 Q105.39 413.21 101.756 413.21 M101.756 409.506 Q107.566 409.506 110.621 414.113 Q113.7 418.696 113.7 427.446 Q113.7 436.173 110.621 440.779 Q107.566 445.362 101.756 445.362 Q95.9456 445.362 92.8669 440.779 Q89.8114 436.173 89.8114 427.446 Q89.8114 418.696 92.8669 414.113 Q95.9456 409.506 101.756 409.506 Z\" fill=\"#000000\" fill-rule=\"nonzero\" fill-opacity=\"1\" /><path clip-path=\"url(#clip120)\" d=\"M121.918 438.812 L126.802 438.812 L126.802 444.691 L121.918 444.691 L121.918 438.812 Z\" fill=\"#000000\" fill-rule=\"nonzero\" fill-opacity=\"1\" /><path clip-path=\"url(#clip120)\" d=\"M137.033 410.131 L155.39 410.131 L155.39 414.066 L141.316 414.066 L141.316 422.538 Q142.334 422.191 143.353 422.029 Q144.371 421.844 145.39 421.844 Q151.177 421.844 154.556 425.015 Q157.936 428.187 157.936 433.603 Q157.936 439.182 154.464 442.284 Q150.992 445.362 144.672 445.362 Q142.496 445.362 140.228 444.992 Q137.982 444.622 135.575 443.881 L135.575 439.182 Q137.658 440.316 139.881 440.872 Q142.103 441.427 144.58 441.427 Q148.584 441.427 150.922 439.321 Q153.26 437.214 153.26 433.603 Q153.26 429.992 150.922 427.886 Q148.584 425.779 144.58 425.779 Q142.705 425.779 140.83 426.196 Q138.978 426.613 137.033 427.492 L137.033 410.131 Z\" fill=\"#000000\" fill-rule=\"nonzero\" fill-opacity=\"1\" /><path clip-path=\"url(#clip120)\" d=\"M91.5706 101.321 L99.2095 101.321 L99.2095 74.9555 L90.8993 76.6222 L90.8993 72.3629 L99.1632 70.6963 L103.839 70.6963 L103.839 101.321 L111.478 101.321 L111.478 105.256 L91.5706 105.256 L91.5706 101.321 Z\" fill=\"#000000\" fill-rule=\"nonzero\" fill-opacity=\"1\" /><path clip-path=\"url(#clip120)\" d=\"M120.922 99.3767 L125.807 99.3767 L125.807 105.256 L120.922 105.256 L120.922 99.3767 Z\" fill=\"#000000\" fill-rule=\"nonzero\" fill-opacity=\"1\" /><path clip-path=\"url(#clip120)\" d=\"M145.992 73.775 Q142.381 73.775 140.552 77.3398 Q138.746 80.8814 138.746 88.011 Q138.746 95.1174 140.552 98.6822 Q142.381 102.224 145.992 102.224 Q149.626 102.224 151.431 98.6822 Q153.26 95.1174 153.26 88.011 Q153.26 80.8814 151.431 77.3398 Q149.626 73.775 145.992 73.775 M145.992 70.0713 Q151.802 70.0713 154.857 74.6777 Q157.936 79.261 157.936 88.011 Q157.936 96.7378 154.857 101.344 Q151.802 105.928 145.992 105.928 Q140.181 105.928 137.103 101.344 Q134.047 96.7378 134.047 88.011 Q134.047 79.261 137.103 74.6777 Q140.181 70.0713 145.992 70.0713 Z\" fill=\"#000000\" fill-rule=\"nonzero\" fill-opacity=\"1\" /><polyline clip-path=\"url(#clip122)\" style=\"stroke:#009af9; stroke-linecap:round; stroke-linejoin:round; stroke-width:4; stroke-opacity:1; fill:none\" points=\"255.035,87.9763 356.866,155.863 458.697,223.75 560.528,291.637 662.359,359.524 764.19,427.411 866.021,495.298 967.853,563.185 1069.68,631.072 1171.51,682.912 1273.35,720.517 1375.18,747.187 1477.01,765.58 1578.84,777.824 1680.67,785.608 1782.5,790.259 1884.33,792.804 1986.16,794.021 2087.99,794.483 2189.83,794.589 2291.66,794.589 \"/>\n",
       "<polyline clip-path=\"url(#clip122)\" style=\"stroke:#e26f46; stroke-linecap:round; stroke-linejoin:round; stroke-width:4; stroke-opacity:1; fill:none\" points=\"255.035,1445.72 356.866,1445.72 458.697,1445.72 560.528,1445.72 662.359,1445.72 764.19,1445.72 866.021,1445.72 967.853,1445.72 1069.68,1285.24 1171.51,1142.9 1273.35,1033.54 1375.18,950.774 1477.01,889.286 1578.84,844.688 1680.67,813.356 1782.5,792.292 1884.33,779.018 1986.16,771.468 2087.99,767.907 2189.83,766.846 \"/>\n",
       "<path clip-path=\"url(#clip120)\" d=\"M1986.72 250.738 L2280.8 250.738 L2280.8 95.2176 L1986.72 95.2176  Z\" fill=\"#ffffff\" fill-rule=\"evenodd\" fill-opacity=\"1\"/>\n",
       "<polyline clip-path=\"url(#clip120)\" style=\"stroke:#000000; stroke-linecap:round; stroke-linejoin:round; stroke-width:4; stroke-opacity:1; fill:none\" points=\"1986.72,250.738 2280.8,250.738 2280.8,95.2176 1986.72,95.2176 1986.72,250.738 \"/>\n",
       "<polyline clip-path=\"url(#clip120)\" style=\"stroke:#009af9; stroke-linecap:round; stroke-linejoin:round; stroke-width:4; stroke-opacity:1; fill:none\" points=\"2010.71,147.058 2154.63,147.058 \"/>\n",
       "<path clip-path=\"url(#clip120)\" d=\"M2203.27 138.412 L2193.89 151.027 L2203.75 164.338 L2198.73 164.338 L2191.18 154.152 L2183.64 164.338 L2178.61 164.338 L2188.68 150.773 L2179.47 138.412 L2184.49 138.412 L2191.37 147.648 L2198.24 138.412 L2203.27 138.412 Z\" fill=\"#000000\" fill-rule=\"nonzero\" fill-opacity=\"1\" /><path clip-path=\"url(#clip120)\" d=\"M2220 128.366 Q2216.9 133.69 2215.4 138.898 Q2213.89 144.106 2213.89 149.453 Q2213.89 154.801 2215.4 160.055 Q2216.92 165.287 2220 170.588 L2216.3 170.588 Q2212.83 165.148 2211.09 159.893 Q2209.38 154.639 2209.38 149.453 Q2209.38 144.291 2211.09 139.06 Q2212.8 133.828 2216.3 128.366 L2220 128.366 Z\" fill=\"#000000\" fill-rule=\"nonzero\" fill-opacity=\"1\" /><path clip-path=\"url(#clip120)\" d=\"M2232.48 131.051 L2232.48 138.412 L2241.25 138.412 L2241.25 141.722 L2232.48 141.722 L2232.48 155.796 Q2232.48 158.967 2233.34 159.87 Q2234.22 160.773 2236.88 160.773 L2241.25 160.773 L2241.25 164.338 L2236.88 164.338 Q2231.95 164.338 2230.07 162.509 Q2228.2 160.657 2228.2 155.796 L2228.2 141.722 L2225.07 141.722 L2225.07 138.412 L2228.2 138.412 L2228.2 131.051 L2232.48 131.051 Z\" fill=\"#000000\" fill-rule=\"nonzero\" fill-opacity=\"1\" /><path clip-path=\"url(#clip120)\" d=\"M2246.18 128.366 L2249.89 128.366 Q2253.36 133.828 2255.07 139.06 Q2256.81 144.291 2256.81 149.453 Q2256.81 154.639 2255.07 159.893 Q2253.36 165.148 2249.89 170.588 L2246.18 170.588 Q2249.26 165.287 2250.77 160.055 Q2252.29 154.801 2252.29 149.453 Q2252.29 144.106 2250.77 138.898 Q2249.26 133.69 2246.18 128.366 Z\" fill=\"#000000\" fill-rule=\"nonzero\" fill-opacity=\"1\" /><polyline clip-path=\"url(#clip120)\" style=\"stroke:#e26f46; stroke-linecap:round; stroke-linejoin:round; stroke-width:4; stroke-opacity:1; fill:none\" points=\"2010.71,198.898 2154.63,198.898 \"/>\n",
       "<path clip-path=\"url(#clip120)\" d=\"M2178.61 205.946 L2178.61 190.252 L2182.87 190.252 L2182.87 205.784 Q2182.87 209.465 2184.31 211.316 Q2185.74 213.145 2188.61 213.145 Q2192.06 213.145 2194.05 210.946 Q2196.07 208.747 2196.07 204.951 L2196.07 190.252 L2200.33 190.252 L2200.33 216.178 L2196.07 216.178 L2196.07 212.196 Q2194.52 214.557 2192.46 215.715 Q2190.42 216.849 2187.71 216.849 Q2183.24 216.849 2180.93 214.071 Q2178.61 211.293 2178.61 205.946 M2189.33 189.627 L2189.33 189.627 Z\" fill=\"#000000\" fill-rule=\"nonzero\" fill-opacity=\"1\" /><path clip-path=\"url(#clip120)\" d=\"M2219.33 180.206 Q2216.23 185.53 2214.73 190.738 Q2213.22 195.946 2213.22 201.293 Q2213.22 206.641 2214.73 211.895 Q2216.25 217.127 2219.33 222.428 L2215.63 222.428 Q2212.16 216.988 2210.42 211.733 Q2208.71 206.479 2208.71 201.293 Q2208.71 196.131 2210.42 190.9 Q2212.13 185.668 2215.63 180.206 L2219.33 180.206 Z\" fill=\"#000000\" fill-rule=\"nonzero\" fill-opacity=\"1\" /><path clip-path=\"url(#clip120)\" d=\"M2231.81 182.891 L2231.81 190.252 L2240.58 190.252 L2240.58 193.562 L2231.81 193.562 L2231.81 207.636 Q2231.81 210.807 2232.66 211.71 Q2233.54 212.613 2236.21 212.613 L2240.58 212.613 L2240.58 216.178 L2236.21 216.178 Q2231.28 216.178 2229.4 214.349 Q2227.53 212.497 2227.53 207.636 L2227.53 193.562 L2224.4 193.562 L2224.4 190.252 L2227.53 190.252 L2227.53 182.891 L2231.81 182.891 Z\" fill=\"#000000\" fill-rule=\"nonzero\" fill-opacity=\"1\" /><path clip-path=\"url(#clip120)\" d=\"M2245.51 180.206 L2249.22 180.206 Q2252.69 185.668 2254.4 190.9 Q2256.14 196.131 2256.14 201.293 Q2256.14 206.479 2254.4 211.733 Q2252.69 216.988 2249.22 222.428 L2245.51 222.428 Q2248.59 217.127 2250.1 211.895 Q2251.62 206.641 2251.62 201.293 Q2251.62 195.946 2250.1 190.738 Q2248.59 185.53 2245.51 180.206 Z\" fill=\"#000000\" fill-rule=\"nonzero\" fill-opacity=\"1\" /></svg>\n"
      ]
     },
     "execution_count": 35,
     "metadata": {},
     "output_type": "execute_result"
    }
   ],
   "source": [
    "using Plots\n",
    "plot(h*(0:20),xsopt[1,:],label=\"x(t)\")\n",
    "plot!(h*(0:19),uopt[1,:],label=\"u(t)\")"
   ]
  },
  {
   "cell_type": "markdown",
   "id": "dd7f1536-10c1-43bb-8744-3266b088cc50",
   "metadata": {},
   "source": [
    "#### Parameters"
   ]
  },
  {
   "cell_type": "code",
   "execution_count": 44,
   "id": "854fb296-dbc3-4668-a670-8b8f9e205927",
   "metadata": {},
   "outputs": [
    {
     "data": {
      "text/plain": [
       "Dict{String, Real} with 9 entries:\n",
       "  \"eps\"     => 0.01\n",
       "  \"c1\"      => 0.05\n",
       "  \"f_max\"   => 1.0\n",
       "  \"maxiter\" => 10000\n",
       "  \"alpha\"   => 0.5\n",
       "  \"s0\"      => 1.0\n",
       "  \"h\"       => 0.1\n",
       "  \"delta\"   => 0.5\n",
       "  \"beta\"    => 1.0"
      ]
     },
     "execution_count": 44,
     "metadata": {},
     "output_type": "execute_result"
    }
   ],
   "source": [
    "using LinearAlgebra\n",
    "xv  = [2.1; 1.1]\n",
    "t = 0.0; \n",
    "N = 200\n",
    "u = -ones(1,N)\n",
    "du = 1e-3*[0.7]\n",
    "T = 20 \n",
    "\n",
    "params = Dict(\n",
    "    \"alpha\"=>0.5,\n",
    "    \"delta\"=>0.5,\n",
    "    \"beta\"=>1.0,\n",
    "    \"f_max\"=>1.0,\n",
    "    \"h\"=>0.1,\n",
    "    \"eps\"=>1e-2,\n",
    "    \"s0\"=>1.0, \n",
    "    \"c1\"=>0.05,\n",
    "    \"maxiter\"=>10_000\n",
    ")"
   ]
  },
  {
   "cell_type": "code",
   "execution_count": 45,
   "id": "ce65239d-23c5-46d8-b315-c8e712676abf",
   "metadata": {},
   "outputs": [
    {
     "data": {
      "text/plain": [
       "2×201 Matrix{Float64}:\n",
       " 2.1  2.1945  2.28288  2.36474   2.43985   …       3.0       3.0       3.0\n",
       " 1.1  0.945   0.7728   0.583152  0.375835     -68606.2  -72036.8  -75638.9"
      ]
     },
     "execution_count": 45,
     "metadata": {},
     "output_type": "execute_result"
    }
   ],
   "source": [
    "xs = forwardstep(t,xv,u,F,params,0)"
   ]
  },
  {
   "cell_type": "code",
   "execution_count": 46,
   "id": "0c58089f-302d-4ec3-894a-8758cc965a9e",
   "metadata": {},
   "outputs": [
    {
     "data": {
      "text/plain": [
       "2-element Vector{Float64}:\n",
       "  0.0\n",
       " -1.0"
      ]
     },
     "execution_count": 46,
     "metadata": {},
     "output_type": "execute_result"
    }
   ],
   "source": [
    "λend = dg(xs[:,end])"
   ]
  },
  {
   "cell_type": "code",
   "execution_count": 51,
   "id": "cd2c6588-ecd8-43d3-b245-f0c112b3cf81",
   "metadata": {},
   "outputs": [
    {
     "data": {
      "text/plain": [
       "2×200 Matrix{Float64}:\n",
       " -6.92087e8  -6.40928e8  -5.76723e8  …   0.36025   0.22     0.1    0.0\n",
       " -1.21194e6   1.27031e8   2.41517e8     -1.06013  -1.0725  -1.05  -1.0"
      ]
     },
     "execution_count": 51,
     "metadata": {},
     "output_type": "execute_result"
    }
   ],
   "source": [
    "λs = adjointstep(λend,t,xs,u,dFdx,params)"
   ]
  },
  {
   "cell_type": "code",
   "execution_count": 53,
   "id": "ae25d639-e363-4b83-a6a9-b2fd674269b8",
   "metadata": {},
   "outputs": [
    {
     "data": {
      "text/plain": [
       "([0.5 0.5 … 0.5 0.5], 1)"
      ]
     },
     "execution_count": 53,
     "metadata": {},
     "output_type": "execute_result"
    }
   ],
   "source": [
    "ulist = []\n",
    "u = fill(0.5, 1,N)\n",
    "opt_u,iters = optcontrol(t,xv,u,F,dFdx,dFdu,g,dg,u->proj_u(u,0.0,0.5),params,ulist,0)"
   ]
  },
  {
   "cell_type": "code",
   "execution_count": 54,
   "id": "b88ec86f-2c82-4bb6-85e7-67aa94e375bb",
   "metadata": {},
   "outputs": [
    {
     "data": {
      "text/plain": [
       "1×200 Matrix{Float64}:\n",
       " 0.5  0.5  0.5  0.5  0.5  0.5  0.5  0.5  …  0.5  0.5  0.5  0.5  0.5  0.5  0.5"
      ]
     },
     "execution_count": 54,
     "metadata": {},
     "output_type": "execute_result"
    }
   ],
   "source": [
    "opt_u"
   ]
  },
  {
   "cell_type": "code",
   "execution_count": 55,
   "id": "577faaef-b95f-4651-ba11-e896bc5fd9dc",
   "metadata": {},
   "outputs": [
    {
     "data": {
      "text/plain": [
       "2×201 Matrix{Float64}:\n",
       " 2.1  1.8795  1.70287  1.55788  1.43653  …      0.0944825      0.0940362\n",
       " 1.1  1.26    1.41698  1.57297  1.72951     33616.8        35297.7"
      ]
     },
     "execution_count": 55,
     "metadata": {},
     "output_type": "execute_result"
    }
   ],
   "source": [
    "xsopt = forwardstep(t,xv,opt_u,F,params)"
   ]
  },
  {
   "cell_type": "code",
   "execution_count": 56,
   "id": "7d25e8aa-7a21-4ae7-82b1-cfd9e76cdf4f",
   "metadata": {},
   "outputs": [
    {
     "data": {
      "image/png": "[encoded data removed]",
      "image/svg+xml": [
       "<?xml version=\"1.0\" encoding=\"utf-8\"?>\n",
       "<svg xmlns=\"http://www.w3.org/2000/svg\" xmlns:xlink=\"http://www.w3.org/1999/xlink\" width=\"600\" height=\"400\" viewBox=\"0 0 2400 1600\">\n",
       "<defs>\n",
       "  <clipPath id=\"clip160\">\n",
       "    <rect x=\"0\" y=\"0\" width=\"2400\" height=\"1600\"/>\n",
       "  </clipPath>\n",
       "</defs>\n",
       "<path clip-path=\"url(#clip160)\" d=\"M0 1600 L2400 1600 L2400 8.88178e-14 L0 8.88178e-14  Z\" fill=\"#ffffff\" fill-rule=\"evenodd\" fill-opacity=\"1\"/>\n",
       "<defs>\n",
       "  <clipPath id=\"clip161\">\n",
       "    <rect x=\"480\" y=\"0\" width=\"1681\" height=\"1600\"/>\n",
       "  </clipPath>\n",
       "</defs>\n",
       "<path clip-path=\"url(#clip160)\" d=\"M155.765 1486.45 L2352.76 1486.45 L2352.76 47.2441 L155.765 47.2441  Z\" fill=\"#ffffff\" fill-rule=\"evenodd\" fill-opacity=\"1\"/>\n",
       "<defs>\n",
       "  <clipPath id=\"clip162\">\n",
       "    <rect x=\"155\" y=\"47\" width=\"2198\" height=\"1440\"/>\n",
       "  </clipPath>\n",
       "</defs>\n",
       "<polyline clip-path=\"url(#clip162)\" style=\"stroke:#000000; stroke-linecap:round; stroke-linejoin:round; stroke-width:2; stroke-opacity:0.1; fill:none\" points=\"217.944,1486.45 217.944,47.2441 \"/>\n",
       "<polyline clip-path=\"url(#clip162)\" style=\"stroke:#000000; stroke-linecap:round; stroke-linejoin:round; stroke-width:2; stroke-opacity:0.1; fill:none\" points=\"736.102,1486.45 736.102,47.2441 \"/>\n",
       "<polyline clip-path=\"url(#clip162)\" style=\"stroke:#000000; stroke-linecap:round; stroke-linejoin:round; stroke-width:2; stroke-opacity:0.1; fill:none\" points=\"1254.26,1486.45 1254.26,47.2441 \"/>\n",
       "<polyline clip-path=\"url(#clip162)\" style=\"stroke:#000000; stroke-linecap:round; stroke-linejoin:round; stroke-width:2; stroke-opacity:0.1; fill:none\" points=\"1772.42,1486.45 1772.42,47.2441 \"/>\n",
       "<polyline clip-path=\"url(#clip162)\" style=\"stroke:#000000; stroke-linecap:round; stroke-linejoin:round; stroke-width:2; stroke-opacity:0.1; fill:none\" points=\"2290.58,1486.45 2290.58,47.2441 \"/>\n",
       "<polyline clip-path=\"url(#clip160)\" style=\"stroke:#000000; stroke-linecap:round; stroke-linejoin:round; stroke-width:4; stroke-opacity:1; fill:none\" points=\"155.765,1486.45 2352.76,1486.45 \"/>\n",
       "<polyline clip-path=\"url(#clip160)\" style=\"stroke:#000000; stroke-linecap:round; stroke-linejoin:round; stroke-width:4; stroke-opacity:1; fill:none\" points=\"217.944,1486.45 217.944,1467.55 \"/>\n",
       "<polyline clip-path=\"url(#clip160)\" style=\"stroke:#000000; stroke-linecap:round; stroke-linejoin:round; stroke-width:4; stroke-opacity:1; fill:none\" points=\"736.102,1486.45 736.102,1467.55 \"/>\n",
       "<polyline clip-path=\"url(#clip160)\" style=\"stroke:#000000; stroke-linecap:round; stroke-linejoin:round; stroke-width:4; stroke-opacity:1; fill:none\" points=\"1254.26,1486.45 1254.26,1467.55 \"/>\n",
       "<polyline clip-path=\"url(#clip160)\" style=\"stroke:#000000; stroke-linecap:round; stroke-linejoin:round; stroke-width:4; stroke-opacity:1; fill:none\" points=\"1772.42,1486.45 1772.42,1467.55 \"/>\n",
       "<polyline clip-path=\"url(#clip160)\" style=\"stroke:#000000; stroke-linecap:round; stroke-linejoin:round; stroke-width:4; stroke-opacity:1; fill:none\" points=\"2290.58,1486.45 2290.58,1467.55 \"/>\n",
       "<path clip-path=\"url(#clip160)\" d=\"M217.944 1517.37 Q214.333 1517.37 212.504 1520.93 Q210.699 1524.47 210.699 1531.6 Q210.699 1538.71 212.504 1542.27 Q214.333 1545.82 217.944 1545.82 Q221.578 1545.82 223.384 1542.27 Q225.212 1538.71 225.212 1531.6 Q225.212 1524.47 223.384 1520.93 Q221.578 1517.37 217.944 1517.37 M217.944 1513.66 Q223.754 1513.66 226.81 1518.27 Q229.888 1522.85 229.888 1531.6 Q229.888 1540.33 226.81 1544.94 Q223.754 1549.52 217.944 1549.52 Q212.134 1549.52 209.055 1544.94 Q206 1540.33 206 1531.6 Q206 1522.85 209.055 1518.27 Q212.134 1513.66 217.944 1513.66 Z\" fill=\"#000000\" fill-rule=\"nonzero\" fill-opacity=\"1\" /><path clip-path=\"url(#clip160)\" d=\"M726.38 1514.29 L744.736 1514.29 L744.736 1518.22 L730.662 1518.22 L730.662 1526.7 Q731.681 1526.35 732.699 1526.19 Q733.718 1526 734.736 1526 Q740.523 1526 743.903 1529.17 Q747.283 1532.34 747.283 1537.76 Q747.283 1543.34 743.81 1546.44 Q740.338 1549.52 734.019 1549.52 Q731.843 1549.52 729.574 1549.15 Q727.329 1548.78 724.922 1548.04 L724.922 1543.34 Q727.005 1544.47 729.227 1545.03 Q731.449 1545.58 733.926 1545.58 Q737.931 1545.58 740.269 1543.48 Q742.607 1541.37 742.607 1537.76 Q742.607 1534.15 740.269 1532.04 Q737.931 1529.94 733.926 1529.94 Q732.051 1529.94 730.176 1530.35 Q728.324 1530.77 726.38 1531.65 L726.38 1514.29 Z\" fill=\"#000000\" fill-rule=\"nonzero\" fill-opacity=\"1\" /><path clip-path=\"url(#clip160)\" d=\"M1228.95 1544.91 L1236.59 1544.91 L1236.59 1518.55 L1228.28 1520.21 L1228.28 1515.95 L1236.54 1514.29 L1241.22 1514.29 L1241.22 1544.91 L1248.86 1544.91 L1248.86 1548.85 L1228.95 1548.85 L1228.95 1544.91 Z\" fill=\"#000000\" fill-rule=\"nonzero\" fill-opacity=\"1\" /><path clip-path=\"url(#clip160)\" d=\"M1268.3 1517.37 Q1264.69 1517.37 1262.86 1520.93 Q1261.05 1524.47 1261.05 1531.6 Q1261.05 1538.71 1262.86 1542.27 Q1264.69 1545.82 1268.3 1545.82 Q1271.93 1545.82 1273.74 1542.27 Q1275.57 1538.71 1275.57 1531.6 Q1275.57 1524.47 1273.74 1520.93 Q1271.93 1517.37 1268.3 1517.37 M1268.3 1513.66 Q1274.11 1513.66 1277.17 1518.27 Q1280.24 1522.85 1280.24 1531.6 Q1280.24 1540.33 1277.17 1544.94 Q1274.11 1549.52 1268.3 1549.52 Q1262.49 1549.52 1259.41 1544.94 Q1256.36 1540.33 1256.36 1531.6 Q1256.36 1522.85 1259.41 1518.27 Q1262.49 1513.66 1268.3 1513.66 Z\" fill=\"#000000\" fill-rule=\"nonzero\" fill-opacity=\"1\" /><path clip-path=\"url(#clip160)\" d=\"M1747.6 1544.91 L1755.24 1544.91 L1755.24 1518.55 L1746.93 1520.21 L1746.93 1515.95 L1755.2 1514.29 L1759.87 1514.29 L1759.87 1544.91 L1767.51 1544.91 L1767.51 1548.85 L1747.6 1548.85 L1747.6 1544.91 Z\" fill=\"#000000\" fill-rule=\"nonzero\" fill-opacity=\"1\" /><path clip-path=\"url(#clip160)\" d=\"M1777 1514.29 L1795.36 1514.29 L1795.36 1518.22 L1781.28 1518.22 L1781.28 1526.7 Q1782.3 1526.35 1783.32 1526.19 Q1784.34 1526 1785.36 1526 Q1791.15 1526 1794.53 1529.17 Q1797.9 1532.34 1797.9 1537.76 Q1797.9 1543.34 1794.43 1546.44 Q1790.96 1549.52 1784.64 1549.52 Q1782.46 1549.52 1780.2 1549.15 Q1777.95 1548.78 1775.54 1548.04 L1775.54 1543.34 Q1777.63 1544.47 1779.85 1545.03 Q1782.07 1545.58 1784.55 1545.58 Q1788.55 1545.58 1790.89 1543.48 Q1793.23 1541.37 1793.23 1537.76 Q1793.23 1534.15 1790.89 1532.04 Q1788.55 1529.94 1784.55 1529.94 Q1782.67 1529.94 1780.8 1530.35 Q1778.95 1530.77 1777 1531.65 L1777 1514.29 Z\" fill=\"#000000\" fill-rule=\"nonzero\" fill-opacity=\"1\" /><path clip-path=\"url(#clip160)\" d=\"M2269.35 1544.91 L2285.67 1544.91 L2285.67 1548.85 L2263.73 1548.85 L2263.73 1544.91 Q2266.39 1542.16 2270.97 1537.53 Q2275.58 1532.88 2276.76 1531.53 Q2279 1529.01 2279.88 1527.27 Q2280.79 1525.51 2280.79 1523.82 Q2280.79 1521.07 2278.84 1519.33 Q2276.92 1517.6 2273.82 1517.6 Q2271.62 1517.6 2269.16 1518.36 Q2266.73 1519.13 2263.96 1520.68 L2263.96 1515.95 Q2266.78 1514.82 2269.23 1514.24 Q2271.69 1513.66 2273.73 1513.66 Q2279.1 1513.66 2282.29 1516.35 Q2285.48 1519.03 2285.48 1523.52 Q2285.48 1525.65 2284.67 1527.57 Q2283.89 1529.47 2281.78 1532.07 Q2281.2 1532.74 2278.1 1535.95 Q2275 1539.15 2269.35 1544.91 Z\" fill=\"#000000\" fill-rule=\"nonzero\" fill-opacity=\"1\" /><path clip-path=\"url(#clip160)\" d=\"M2305.48 1517.37 Q2301.87 1517.37 2300.04 1520.93 Q2298.24 1524.47 2298.24 1531.6 Q2298.24 1538.71 2300.04 1542.27 Q2301.87 1545.82 2305.48 1545.82 Q2309.12 1545.82 2310.92 1542.27 Q2312.75 1538.71 2312.75 1531.6 Q2312.75 1524.47 2310.92 1520.93 Q2309.12 1517.37 2305.48 1517.37 M2305.48 1513.66 Q2311.29 1513.66 2314.35 1518.27 Q2317.43 1522.85 2317.43 1531.6 Q2317.43 1540.33 2314.35 1544.94 Q2311.29 1549.52 2305.48 1549.52 Q2299.67 1549.52 2296.6 1544.94 Q2293.54 1540.33 2293.54 1531.6 Q2293.54 1522.85 2296.6 1518.27 Q2299.67 1513.66 2305.48 1513.66 Z\" fill=\"#000000\" fill-rule=\"nonzero\" fill-opacity=\"1\" /><polyline clip-path=\"url(#clip162)\" style=\"stroke:#000000; stroke-linecap:round; stroke-linejoin:round; stroke-width:2; stroke-opacity:0.1; fill:none\" points=\"155.765,1170.94 2352.76,1170.94 \"/>\n",
       "<polyline clip-path=\"url(#clip162)\" style=\"stroke:#000000; stroke-linecap:round; stroke-linejoin:round; stroke-width:2; stroke-opacity:0.1; fill:none\" points=\"155.765,832.513 2352.76,832.513 \"/>\n",
       "<polyline clip-path=\"url(#clip162)\" style=\"stroke:#000000; stroke-linecap:round; stroke-linejoin:round; stroke-width:2; stroke-opacity:0.1; fill:none\" points=\"155.765,494.087 2352.76,494.087 \"/>\n",
       "<polyline clip-path=\"url(#clip162)\" style=\"stroke:#000000; stroke-linecap:round; stroke-linejoin:round; stroke-width:2; stroke-opacity:0.1; fill:none\" points=\"155.765,155.661 2352.76,155.661 \"/>\n",
       "<polyline clip-path=\"url(#clip160)\" style=\"stroke:#000000; stroke-linecap:round; stroke-linejoin:round; stroke-width:4; stroke-opacity:1; fill:none\" points=\"155.765,1486.45 155.765,47.2441 \"/>\n",
       "<polyline clip-path=\"url(#clip160)\" style=\"stroke:#000000; stroke-linecap:round; stroke-linejoin:round; stroke-width:4; stroke-opacity:1; fill:none\" points=\"155.765,1170.94 174.663,1170.94 \"/>\n",
       "<polyline clip-path=\"url(#clip160)\" style=\"stroke:#000000; stroke-linecap:round; stroke-linejoin:round; stroke-width:4; stroke-opacity:1; fill:none\" points=\"155.765,832.513 174.663,832.513 \"/>\n",
       "<polyline clip-path=\"url(#clip160)\" style=\"stroke:#000000; stroke-linecap:round; stroke-linejoin:round; stroke-width:4; stroke-opacity:1; fill:none\" points=\"155.765,494.087 174.663,494.087 \"/>\n",
       "<polyline clip-path=\"url(#clip160)\" style=\"stroke:#000000; stroke-linecap:round; stroke-linejoin:round; stroke-width:4; stroke-opacity:1; fill:none\" points=\"155.765,155.661 174.663,155.661 \"/>\n",
       "<path clip-path=\"url(#clip160)\" d=\"M63.5847 1156.74 Q59.9736 1156.74 58.1449 1160.3 Q56.3393 1163.84 56.3393 1170.97 Q56.3393 1178.08 58.1449 1181.64 Q59.9736 1185.19 63.5847 1185.19 Q67.2189 1185.19 69.0244 1181.64 Q70.8531 1178.08 70.8531 1170.97 Q70.8531 1163.84 69.0244 1160.3 Q67.2189 1156.74 63.5847 1156.74 M63.5847 1153.03 Q69.3948 1153.03 72.4503 1157.64 Q75.529 1162.22 75.529 1170.97 Q75.529 1179.7 72.4503 1184.31 Q69.3948 1188.89 63.5847 1188.89 Q57.7745 1188.89 54.6958 1184.31 Q51.6403 1179.7 51.6403 1170.97 Q51.6403 1162.22 54.6958 1157.64 Q57.7745 1153.03 63.5847 1153.03 Z\" fill=\"#000000\" fill-rule=\"nonzero\" fill-opacity=\"1\" /><path clip-path=\"url(#clip160)\" d=\"M83.7466 1182.34 L88.6308 1182.34 L88.6308 1188.22 L83.7466 1188.22 L83.7466 1182.34 Z\" fill=\"#000000\" fill-rule=\"nonzero\" fill-opacity=\"1\" /><path clip-path=\"url(#clip160)\" d=\"M98.8622 1153.66 L117.219 1153.66 L117.219 1157.59 L103.145 1157.59 L103.145 1166.07 Q104.163 1165.72 105.182 1165.56 Q106.2 1165.37 107.219 1165.37 Q113.006 1165.37 116.385 1168.54 Q119.765 1171.71 119.765 1177.13 Q119.765 1182.71 116.293 1185.81 Q112.82 1188.89 106.501 1188.89 Q104.325 1188.89 102.057 1188.52 Q99.8113 1188.15 97.4039 1187.41 L97.4039 1182.71 Q99.4872 1183.84 101.709 1184.4 Q103.932 1184.95 106.408 1184.95 Q110.413 1184.95 112.751 1182.85 Q115.089 1180.74 115.089 1177.13 Q115.089 1173.52 112.751 1171.41 Q110.413 1169.31 106.408 1169.31 Q104.534 1169.31 102.659 1169.72 Q100.807 1170.14 98.8622 1171.02 L98.8622 1153.66 Z\" fill=\"#000000\" fill-rule=\"nonzero\" fill-opacity=\"1\" /><path clip-path=\"url(#clip160)\" d=\"M53.3995 845.858 L61.0384 845.858 L61.0384 819.492 L52.7282 821.159 L52.7282 816.899 L60.9921 815.233 L65.668 815.233 L65.668 845.858 L73.3068 845.858 L73.3068 849.793 L53.3995 849.793 L53.3995 845.858 Z\" fill=\"#000000\" fill-rule=\"nonzero\" fill-opacity=\"1\" /><path clip-path=\"url(#clip160)\" d=\"M82.7512 843.913 L87.6354 843.913 L87.6354 849.793 L82.7512 849.793 L82.7512 843.913 Z\" fill=\"#000000\" fill-rule=\"nonzero\" fill-opacity=\"1\" /><path clip-path=\"url(#clip160)\" d=\"M107.821 818.311 Q104.209 818.311 102.381 821.876 Q100.575 825.418 100.575 832.548 Q100.575 839.654 102.381 843.219 Q104.209 846.76 107.821 846.76 Q111.455 846.76 113.26 843.219 Q115.089 839.654 115.089 832.548 Q115.089 825.418 113.26 821.876 Q111.455 818.311 107.821 818.311 M107.821 814.608 Q113.631 814.608 116.686 819.214 Q119.765 823.798 119.765 832.548 Q119.765 841.274 116.686 845.881 Q113.631 850.464 107.821 850.464 Q102.01 850.464 98.9317 845.881 Q95.8761 841.274 95.8761 832.548 Q95.8761 823.798 98.9317 819.214 Q102.01 814.608 107.821 814.608 Z\" fill=\"#000000\" fill-rule=\"nonzero\" fill-opacity=\"1\" /><path clip-path=\"url(#clip160)\" d=\"M54.3949 507.432 L62.0337 507.432 L62.0337 481.066 L53.7236 482.733 L53.7236 478.474 L61.9874 476.807 L66.6633 476.807 L66.6633 507.432 L74.3022 507.432 L74.3022 511.367 L54.3949 511.367 L54.3949 507.432 Z\" fill=\"#000000\" fill-rule=\"nonzero\" fill-opacity=\"1\" /><path clip-path=\"url(#clip160)\" d=\"M83.7466 505.488 L88.6308 505.488 L88.6308 511.367 L83.7466 511.367 L83.7466 505.488 Z\" fill=\"#000000\" fill-rule=\"nonzero\" fill-opacity=\"1\" /><path clip-path=\"url(#clip160)\" d=\"M98.8622 476.807 L117.219 476.807 L117.219 480.742 L103.145 480.742 L103.145 489.214 Q104.163 488.867 105.182 488.705 Q106.2 488.52 107.219 488.52 Q113.006 488.52 116.385 491.691 Q119.765 494.863 119.765 500.279 Q119.765 505.858 116.293 508.96 Q112.82 512.038 106.501 512.038 Q104.325 512.038 102.057 511.668 Q99.8113 511.298 97.4039 510.557 L97.4039 505.858 Q99.4872 506.992 101.709 507.548 Q103.932 508.103 106.408 508.103 Q110.413 508.103 112.751 505.997 Q115.089 503.89 115.089 500.279 Q115.089 496.668 112.751 494.562 Q110.413 492.455 106.408 492.455 Q104.534 492.455 102.659 492.872 Q100.807 493.289 98.8622 494.168 L98.8622 476.807 Z\" fill=\"#000000\" fill-rule=\"nonzero\" fill-opacity=\"1\" /><path clip-path=\"url(#clip160)\" d=\"M56.6171 169.006 L72.9365 169.006 L72.9365 172.941 L50.9921 172.941 L50.9921 169.006 Q53.6541 166.252 58.2375 161.622 Q62.8439 156.969 64.0245 155.627 Q66.2698 153.104 67.1494 151.367 Q68.0522 149.608 68.0522 147.918 Q68.0522 145.164 66.1078 143.428 Q64.1865 141.692 61.0847 141.692 Q58.8856 141.692 56.4319 142.455 Q54.0014 143.219 51.2236 144.77 L51.2236 140.048 Q54.0477 138.914 56.5014 138.335 Q58.955 137.756 60.9921 137.756 Q66.3624 137.756 69.5568 140.442 Q72.7513 143.127 72.7513 147.617 Q72.7513 149.747 71.9411 151.668 Q71.1541 153.567 69.0476 156.159 Q68.4689 156.83 65.367 160.048 Q62.2652 163.242 56.6171 169.006 Z\" fill=\"#000000\" fill-rule=\"nonzero\" fill-opacity=\"1\" /><path clip-path=\"url(#clip160)\" d=\"M82.7512 167.062 L87.6354 167.062 L87.6354 172.941 L82.7512 172.941 L82.7512 167.062 Z\" fill=\"#000000\" fill-rule=\"nonzero\" fill-opacity=\"1\" /><path clip-path=\"url(#clip160)\" d=\"M107.821 141.46 Q104.209 141.46 102.381 145.025 Q100.575 148.567 100.575 155.696 Q100.575 162.803 102.381 166.367 Q104.209 169.909 107.821 169.909 Q111.455 169.909 113.26 166.367 Q115.089 162.803 115.089 155.696 Q115.089 148.567 113.26 145.025 Q111.455 141.46 107.821 141.46 M107.821 137.756 Q113.631 137.756 116.686 142.363 Q119.765 146.946 119.765 155.696 Q119.765 164.423 116.686 169.029 Q113.631 173.613 107.821 173.613 Q102.01 173.613 98.9317 169.029 Q95.8761 164.423 95.8761 155.696 Q95.8761 146.946 98.9317 142.363 Q102.01 137.756 107.821 137.756 Z\" fill=\"#000000\" fill-rule=\"nonzero\" fill-opacity=\"1\" /><polyline clip-path=\"url(#clip162)\" style=\"stroke:#009af9; stroke-linecap:round; stroke-linejoin:round; stroke-width:4; stroke-opacity:1; fill:none\" points=\"217.944,87.9763 228.307,237.222 238.67,356.772 249.033,454.908 259.397,537.044 269.76,606.882 280.123,667.049 290.486,719.46 300.849,765.552 311.212,806.422 321.576,842.924 331.939,875.733 342.302,905.392 352.665,932.339 363.028,956.935 373.391,979.479 383.755,1000.22 394.118,1019.37 404.481,1037.11 414.844,1053.58 425.207,1068.93 435.57,1083.26 445.934,1096.67 456.297,1109.25 466.66,1121.08 477.023,1132.21 487.386,1142.72 497.749,1152.65 508.113,1162.05 518.476,1170.96 528.839,1179.42 539.202,1187.46 549.565,1195.12 559.928,1202.41 570.292,1209.37 580.655,1216.02 591.018,1222.38 601.381,1228.46 611.744,1234.29 622.107,1239.88 632.47,1245.25 642.834,1250.4 653.197,1255.35 663.56,1260.12 673.923,1264.71 684.286,1269.13 694.649,1273.39 705.013,1277.51 715.376,1281.48 725.739,1285.31 736.102,1289.02 746.465,1292.61 756.828,1296.08 767.192,1299.44 777.555,1302.7 787.918,1305.85 798.281,1308.91 808.644,1311.88 819.007,1314.76 829.371,1317.56 839.734,1320.27 850.097,1322.92 860.46,1325.48 870.823,1327.98 881.186,1330.41 891.55,1332.78 901.913,1335.08 912.276,1337.33 922.639,1339.51 933.002,1341.64 943.365,1343.72 953.729,1345.75 964.092,1347.73 974.455,1349.66 984.818,1351.54 995.181,1353.38 1005.54,1355.18 1015.91,1356.93 1026.27,1358.65 1036.63,1360.33 1047,1361.97 1057.36,1363.57 1067.72,1365.14 1078.09,1366.68 1088.45,1368.18 1098.81,1369.66 1109.18,1371.1 1119.54,1372.51 1129.9,1373.89 1140.27,1375.25 1150.63,1376.58 1160.99,1377.88 1171.36,1379.16 1181.72,1380.41 1192.08,1381.64 1202.44,1382.84 1212.81,1384.03 1223.17,1385.19 1233.53,1386.33 1243.9,1387.44 1254.26,1388.54 1264.62,1389.62 1274.99,1390.68 1285.35,1391.72 1295.71,1392.74 1306.08,1393.75 1316.44,1394.73 1326.8,1395.71 1337.17,1396.66 1347.53,1397.6 1357.89,1398.52 1368.26,1399.43 1378.62,1400.32 1388.98,1401.2 1399.34,1402.06 1409.71,1402.91 1420.07,1403.75 1430.43,1404.58 1440.8,1405.39 1451.16,1406.19 1461.52,1406.97 1471.89,1407.75 1482.25,1408.51 1492.61,1409.26 1502.98,1410 1513.34,1410.73 1523.7,1411.45 1534.07,1412.16 1544.43,1412.85 1554.79,1413.54 1565.16,1414.22 1575.52,1414.89 1585.88,1415.55 1596.24,1416.2 1606.61,1416.84 1616.97,1417.47 1627.33,1418.1 1637.7,1418.71 1648.06,1419.32 1658.42,1419.92 1668.79,1420.51 1679.15,1421.09 1689.51,1421.67 1699.88,1422.24 1710.24,1422.8 1720.6,1423.35 1730.97,1423.9 1741.33,1424.44 1751.69,1424.97 1762.06,1425.5 1772.42,1426.02 1782.78,1426.53 1793.14,1427.04 1803.51,1427.54 1813.87,1428.03 1824.23,1428.52 1834.6,1429 1844.96,1429.48 1855.32,1429.95 1865.69,1430.42 1876.05,1430.88 1886.41,1431.33 1896.78,1431.78 1907.14,1432.23 1917.5,1432.67 1927.87,1433.1 1938.23,1433.53 1948.59,1433.95 1958.96,1434.38 1969.32,1434.79 1979.68,1435.2 1990.05,1435.61 2000.41,1436.01 2010.77,1436.41 2021.13,1436.8 2031.5,1437.19 2041.86,1437.57 2052.22,1437.95 2062.59,1438.33 2072.95,1438.7 2083.31,1439.07 2093.68,1439.44 2104.04,1439.8 2114.4,1440.16 2124.77,1440.51 2135.13,1440.86 2145.49,1441.21 2155.86,1441.55 2166.22,1441.89 2176.58,1442.23 2186.95,1442.56 2197.31,1442.89 2207.67,1443.22 2218.03,1443.54 2228.4,1443.86 2238.76,1444.18 2249.12,1444.49 2259.49,1444.8 2269.85,1445.11 2280.21,1445.41 2290.58,1445.72 \"/>\n",
       "<polyline clip-path=\"url(#clip162)\" style=\"stroke:#e26f46; stroke-linecap:round; stroke-linejoin:round; stroke-width:4; stroke-opacity:1; fill:none\" points=\"217.944,1170.94 228.307,1170.94 238.67,1170.94 249.033,1170.94 259.397,1170.94 269.76,1170.94 280.123,1170.94 290.486,1170.94 300.849,1170.94 311.212,1170.94 321.576,1170.94 331.939,1170.94 342.302,1170.94 352.665,1170.94 363.028,1170.94 373.391,1170.94 383.755,1170.94 394.118,1170.94 404.481,1170.94 414.844,1170.94 425.207,1170.94 435.57,1170.94 445.934,1170.94 456.297,1170.94 466.66,1170.94 477.023,1170.94 487.386,1170.94 497.749,1170.94 508.113,1170.94 518.476,1170.94 528.839,1170.94 539.202,1170.94 549.565,1170.94 559.928,1170.94 570.292,1170.94 580.655,1170.94 591.018,1170.94 601.381,1170.94 611.744,1170.94 622.107,1170.94 632.47,1170.94 642.834,1170.94 653.197,1170.94 663.56,1170.94 673.923,1170.94 684.286,1170.94 694.649,1170.94 705.013,1170.94 715.376,1170.94 725.739,1170.94 736.102,1170.94 746.465,1170.94 756.828,1170.94 767.192,1170.94 777.555,1170.94 787.918,1170.94 798.281,1170.94 808.644,1170.94 819.007,1170.94 829.371,1170.94 839.734,1170.94 850.097,1170.94 860.46,1170.94 870.823,1170.94 881.186,1170.94 891.55,1170.94 901.913,1170.94 912.276,1170.94 922.639,1170.94 933.002,1170.94 943.365,1170.94 953.729,1170.94 964.092,1170.94 974.455,1170.94 984.818,1170.94 995.181,1170.94 1005.54,1170.94 1015.91,1170.94 1026.27,1170.94 1036.63,1170.94 1047,1170.94 1057.36,1170.94 1067.72,1170.94 1078.09,1170.94 1088.45,1170.94 1098.81,1170.94 1109.18,1170.94 1119.54,1170.94 1129.9,1170.94 1140.27,1170.94 1150.63,1170.94 1160.99,1170.94 1171.36,1170.94 1181.72,1170.94 1192.08,1170.94 1202.44,1170.94 1212.81,1170.94 1223.17,1170.94 1233.53,1170.94 1243.9,1170.94 1254.26,1170.94 1264.62,1170.94 1274.99,1170.94 1285.35,1170.94 1295.71,1170.94 1306.08,1170.94 1316.44,1170.94 1326.8,1170.94 1337.17,1170.94 1347.53,1170.94 1357.89,1170.94 1368.26,1170.94 1378.62,1170.94 1388.98,1170.94 1399.34,1170.94 1409.71,1170.94 1420.07,1170.94 1430.43,1170.94 1440.8,1170.94 1451.16,1170.94 1461.52,1170.94 1471.89,1170.94 1482.25,1170.94 1492.61,1170.94 1502.98,1170.94 1513.34,1170.94 1523.7,1170.94 1534.07,1170.94 1544.43,1170.94 1554.79,1170.94 1565.16,1170.94 1575.52,1170.94 1585.88,1170.94 1596.24,1170.94 1606.61,1170.94 1616.97,1170.94 1627.33,1170.94 1637.7,1170.94 1648.06,1170.94 1658.42,1170.94 1668.79,1170.94 1679.15,1170.94 1689.51,1170.94 1699.88,1170.94 1710.24,1170.94 1720.6,1170.94 1730.97,1170.94 1741.33,1170.94 1751.69,1170.94 1762.06,1170.94 1772.42,1170.94 1782.78,1170.94 1793.14,1170.94 1803.51,1170.94 1813.87,1170.94 1824.23,1170.94 1834.6,1170.94 1844.96,1170.94 1855.32,1170.94 1865.69,1170.94 1876.05,1170.94 1886.41,1170.94 1896.78,1170.94 1907.14,1170.94 1917.5,1170.94 1927.87,1170.94 1938.23,1170.94 1948.59,1170.94 1958.96,1170.94 1969.32,1170.94 1979.68,1170.94 1990.05,1170.94 2000.41,1170.94 2010.77,1170.94 2021.13,1170.94 2031.5,1170.94 2041.86,1170.94 2052.22,1170.94 2062.59,1170.94 2072.95,1170.94 2083.31,1170.94 2093.68,1170.94 2104.04,1170.94 2114.4,1170.94 2124.77,1170.94 2135.13,1170.94 2145.49,1170.94 2155.86,1170.94 2166.22,1170.94 2176.58,1170.94 2186.95,1170.94 2197.31,1170.94 2207.67,1170.94 2218.03,1170.94 2228.4,1170.94 2238.76,1170.94 2249.12,1170.94 2259.49,1170.94 2269.85,1170.94 2280.21,1170.94 \"/>\n",
       "<path clip-path=\"url(#clip160)\" d=\"M1981.63 250.738 L2279.52 250.738 L2279.52 95.2176 L1981.63 95.2176  Z\" fill=\"#ffffff\" fill-rule=\"evenodd\" fill-opacity=\"1\"/>\n",
       "<polyline clip-path=\"url(#clip160)\" style=\"stroke:#000000; stroke-linecap:round; stroke-linejoin:round; stroke-width:4; stroke-opacity:1; fill:none\" points=\"1981.63,250.738 2279.52,250.738 2279.52,95.2176 1981.63,95.2176 1981.63,250.738 \"/>\n",
       "<polyline clip-path=\"url(#clip160)\" style=\"stroke:#009af9; stroke-linecap:round; stroke-linejoin:round; stroke-width:4; stroke-opacity:1; fill:none\" points=\"2006.04,147.058 2152.51,147.058 \"/>\n",
       "<path clip-path=\"url(#clip160)\" d=\"M2201.57 138.412 L2192.2 151.027 L2202.06 164.338 L2197.03 164.338 L2189.49 154.152 L2181.94 164.338 L2176.92 164.338 L2186.99 150.773 L2177.77 138.412 L2182.8 138.412 L2189.67 147.648 L2196.55 138.412 L2201.57 138.412 Z\" fill=\"#000000\" fill-rule=\"nonzero\" fill-opacity=\"1\" /><path clip-path=\"url(#clip160)\" d=\"M2218.31 128.366 Q2215.2 133.69 2213.7 138.898 Q2212.2 144.106 2212.2 149.453 Q2212.2 154.801 2213.7 160.055 Q2215.23 165.287 2218.31 170.588 L2214.6 170.588 Q2211.13 165.148 2209.39 159.893 Q2207.68 154.639 2207.68 149.453 Q2207.68 144.291 2209.39 139.06 Q2211.11 133.828 2214.6 128.366 L2218.31 128.366 Z\" fill=\"#000000\" fill-rule=\"nonzero\" fill-opacity=\"1\" /><path clip-path=\"url(#clip160)\" d=\"M2230.78 131.051 L2230.78 138.412 L2239.56 138.412 L2239.56 141.722 L2230.78 141.722 L2230.78 155.796 Q2230.78 158.967 2231.64 159.87 Q2232.52 160.773 2235.18 160.773 L2239.56 160.773 L2239.56 164.338 L2235.18 164.338 Q2230.25 164.338 2228.38 162.509 Q2226.5 160.657 2226.5 155.796 L2226.5 141.722 L2223.38 141.722 L2223.38 138.412 L2226.5 138.412 L2226.5 131.051 L2230.78 131.051 Z\" fill=\"#000000\" fill-rule=\"nonzero\" fill-opacity=\"1\" /><path clip-path=\"url(#clip160)\" d=\"M2244.49 128.366 L2248.19 128.366 Q2251.66 133.828 2253.38 139.06 Q2255.11 144.291 2255.11 149.453 Q2255.11 154.639 2253.38 159.893 Q2251.66 165.148 2248.19 170.588 L2244.49 170.588 Q2247.57 165.287 2249.07 160.055 Q2250.6 154.801 2250.6 149.453 Q2250.6 144.106 2249.07 138.898 Q2247.57 133.69 2244.49 128.366 Z\" fill=\"#000000\" fill-rule=\"nonzero\" fill-opacity=\"1\" /><polyline clip-path=\"url(#clip160)\" style=\"stroke:#e26f46; stroke-linecap:round; stroke-linejoin:round; stroke-width:4; stroke-opacity:1; fill:none\" points=\"2006.04,198.898 2152.51,198.898 \"/>\n",
       "<path clip-path=\"url(#clip160)\" d=\"M2176.92 205.946 L2176.92 190.252 L2181.18 190.252 L2181.18 205.784 Q2181.18 209.465 2182.61 211.316 Q2184.05 213.145 2186.92 213.145 Q2190.37 213.145 2192.36 210.946 Q2194.37 208.747 2194.37 204.951 L2194.37 190.252 L2198.63 190.252 L2198.63 216.178 L2194.37 216.178 L2194.37 212.196 Q2192.82 214.557 2190.76 215.715 Q2188.72 216.849 2186.02 216.849 Q2181.55 216.849 2179.23 214.071 Q2176.92 211.293 2176.92 205.946 M2187.64 189.627 L2187.64 189.627 Z\" fill=\"#000000\" fill-rule=\"nonzero\" fill-opacity=\"1\" /><path clip-path=\"url(#clip160)\" d=\"M2217.64 180.206 Q2214.53 185.53 2213.03 190.738 Q2211.52 195.946 2211.52 201.293 Q2211.52 206.641 2213.03 211.895 Q2214.56 217.127 2217.64 222.428 L2213.93 222.428 Q2210.46 216.988 2208.72 211.733 Q2207.01 206.479 2207.01 201.293 Q2207.01 196.131 2208.72 190.9 Q2210.44 185.668 2213.93 180.206 L2217.64 180.206 Z\" fill=\"#000000\" fill-rule=\"nonzero\" fill-opacity=\"1\" /><path clip-path=\"url(#clip160)\" d=\"M2230.11 182.891 L2230.11 190.252 L2238.89 190.252 L2238.89 193.562 L2230.11 193.562 L2230.11 207.636 Q2230.11 210.807 2230.97 211.71 Q2231.85 212.613 2234.51 212.613 L2238.89 212.613 L2238.89 216.178 L2234.51 216.178 Q2229.58 216.178 2227.7 214.349 Q2225.83 212.497 2225.83 207.636 L2225.83 193.562 L2222.7 193.562 L2222.7 190.252 L2225.83 190.252 L2225.83 182.891 L2230.11 182.891 Z\" fill=\"#000000\" fill-rule=\"nonzero\" fill-opacity=\"1\" /><path clip-path=\"url(#clip160)\" d=\"M2243.82 180.206 L2247.52 180.206 Q2250.99 185.668 2252.7 190.9 Q2254.44 196.131 2254.44 201.293 Q2254.44 206.479 2252.7 211.733 Q2250.99 216.988 2247.52 222.428 L2243.82 222.428 Q2246.89 217.127 2248.4 211.895 Q2249.93 206.641 2249.93 201.293 Q2249.93 195.946 2248.4 190.738 Q2246.89 185.53 2243.82 180.206 Z\" fill=\"#000000\" fill-rule=\"nonzero\" fill-opacity=\"1\" /></svg>\n"
      ],
      "text/html": [
       "<?xml version=\"1.0\" encoding=\"utf-8\"?>\n",
       "<svg xmlns=\"http://www.w3.org/2000/svg\" xmlns:xlink=\"http://www.w3.org/1999/xlink\" width=\"600\" height=\"400\" viewBox=\"0 0 2400 1600\">\n",
       "<defs>\n",
       "  <clipPath id=\"clip210\">\n",
       "    <rect x=\"0\" y=\"0\" width=\"2400\" height=\"1600\"/>\n",
       "  </clipPath>\n",
       "</defs>\n",
       "<path clip-path=\"url(#clip210)\" d=\"M0 1600 L2400 1600 L2400 8.88178e-14 L0 8.88178e-14  Z\" fill=\"#ffffff\" fill-rule=\"evenodd\" fill-opacity=\"1\"/>\n",
       "<defs>\n",
       "  <clipPath id=\"clip211\">\n",
       "    <rect x=\"480\" y=\"0\" width=\"1681\" height=\"1600\"/>\n",
       "  </clipPath>\n",
       "</defs>\n",
       "<path clip-path=\"url(#clip210)\" d=\"M155.765 1486.45 L2352.76 1486.45 L2352.76 47.2441 L155.765 47.2441  Z\" fill=\"#ffffff\" fill-rule=\"evenodd\" fill-opacity=\"1\"/>\n",
       "<defs>\n",
       "  <clipPath id=\"clip212\">\n",
       "    <rect x=\"155\" y=\"47\" width=\"2198\" height=\"1440\"/>\n",
       "  </clipPath>\n",
       "</defs>\n",
       "<polyline clip-path=\"url(#clip212)\" style=\"stroke:#000000; stroke-linecap:round; stroke-linejoin:round; stroke-width:2; stroke-opacity:0.1; fill:none\" points=\"217.944,1486.45 217.944,47.2441 \"/>\n",
       "<polyline clip-path=\"url(#clip212)\" style=\"stroke:#000000; stroke-linecap:round; stroke-linejoin:round; stroke-width:2; stroke-opacity:0.1; fill:none\" points=\"736.102,1486.45 736.102,47.2441 \"/>\n",
       "<polyline clip-path=\"url(#clip212)\" style=\"stroke:#000000; stroke-linecap:round; stroke-linejoin:round; stroke-width:2; stroke-opacity:0.1; fill:none\" points=\"1254.26,1486.45 1254.26,47.2441 \"/>\n",
       "<polyline clip-path=\"url(#clip212)\" style=\"stroke:#000000; stroke-linecap:round; stroke-linejoin:round; stroke-width:2; stroke-opacity:0.1; fill:none\" points=\"1772.42,1486.45 1772.42,47.2441 \"/>\n",
       "<polyline clip-path=\"url(#clip212)\" style=\"stroke:#000000; stroke-linecap:round; stroke-linejoin:round; stroke-width:2; stroke-opacity:0.1; fill:none\" points=\"2290.58,1486.45 2290.58,47.2441 \"/>\n",
       "<polyline clip-path=\"url(#clip210)\" style=\"stroke:#000000; stroke-linecap:round; stroke-linejoin:round; stroke-width:4; stroke-opacity:1; fill:none\" points=\"155.765,1486.45 2352.76,1486.45 \"/>\n",
       "<polyline clip-path=\"url(#clip210)\" style=\"stroke:#000000; stroke-linecap:round; stroke-linejoin:round; stroke-width:4; stroke-opacity:1; fill:none\" points=\"217.944,1486.45 217.944,1467.55 \"/>\n",
       "<polyline clip-path=\"url(#clip210)\" style=\"stroke:#000000; stroke-linecap:round; stroke-linejoin:round; stroke-width:4; stroke-opacity:1; fill:none\" points=\"736.102,1486.45 736.102,1467.55 \"/>\n",
       "<polyline clip-path=\"url(#clip210)\" style=\"stroke:#000000; stroke-linecap:round; stroke-linejoin:round; stroke-width:4; stroke-opacity:1; fill:none\" points=\"1254.26,1486.45 1254.26,1467.55 \"/>\n",
       "<polyline clip-path=\"url(#clip210)\" style=\"stroke:#000000; stroke-linecap:round; stroke-linejoin:round; stroke-width:4; stroke-opacity:1; fill:none\" points=\"1772.42,1486.45 1772.42,1467.55 \"/>\n",
       "<polyline clip-path=\"url(#clip210)\" style=\"stroke:#000000; stroke-linecap:round; stroke-linejoin:round; stroke-width:4; stroke-opacity:1; fill:none\" points=\"2290.58,1486.45 2290.58,1467.55 \"/>\n",
       "<path clip-path=\"url(#clip210)\" d=\"M217.944 1517.37 Q214.333 1517.37 212.504 1520.93 Q210.699 1524.47 210.699 1531.6 Q210.699 1538.71 212.504 1542.27 Q214.333 1545.82 217.944 1545.82 Q221.578 1545.82 223.384 1542.27 Q225.212 1538.71 225.212 1531.6 Q225.212 1524.47 223.384 1520.93 Q221.578 1517.37 217.944 1517.37 M217.944 1513.66 Q223.754 1513.66 226.81 1518.27 Q229.888 1522.85 229.888 1531.6 Q229.888 1540.33 226.81 1544.94 Q223.754 1549.52 217.944 1549.52 Q212.134 1549.52 209.055 1544.94 Q206 1540.33 206 1531.6 Q206 1522.85 209.055 1518.27 Q212.134 1513.66 217.944 1513.66 Z\" fill=\"#000000\" fill-rule=\"nonzero\" fill-opacity=\"1\" /><path clip-path=\"url(#clip210)\" d=\"M726.38 1514.29 L744.736 1514.29 L744.736 1518.22 L730.662 1518.22 L730.662 1526.7 Q731.681 1526.35 732.699 1526.19 Q733.718 1526 734.736 1526 Q740.523 1526 743.903 1529.17 Q747.283 1532.34 747.283 1537.76 Q747.283 1543.34 743.81 1546.44 Q740.338 1549.52 734.019 1549.52 Q731.843 1549.52 729.574 1549.15 Q727.329 1548.78 724.922 1548.04 L724.922 1543.34 Q727.005 1544.47 729.227 1545.03 Q731.449 1545.58 733.926 1545.58 Q737.931 1545.58 740.269 1543.48 Q742.607 1541.37 742.607 1537.76 Q742.607 1534.15 740.269 1532.04 Q737.931 1529.94 733.926 1529.94 Q732.051 1529.94 730.176 1530.35 Q728.324 1530.77 726.38 1531.65 L726.38 1514.29 Z\" fill=\"#000000\" fill-rule=\"nonzero\" fill-opacity=\"1\" /><path clip-path=\"url(#clip210)\" d=\"M1228.95 1544.91 L1236.59 1544.91 L1236.59 1518.55 L1228.28 1520.21 L1228.28 1515.95 L1236.54 1514.29 L1241.22 1514.29 L1241.22 1544.91 L1248.86 1544.91 L1248.86 1548.85 L1228.95 1548.85 L1228.95 1544.91 Z\" fill=\"#000000\" fill-rule=\"nonzero\" fill-opacity=\"1\" /><path clip-path=\"url(#clip210)\" d=\"M1268.3 1517.37 Q1264.69 1517.37 1262.86 1520.93 Q1261.05 1524.47 1261.05 1531.6 Q1261.05 1538.71 1262.86 1542.27 Q1264.69 1545.82 1268.3 1545.82 Q1271.93 1545.82 1273.74 1542.27 Q1275.57 1538.71 1275.57 1531.6 Q1275.57 1524.47 1273.74 1520.93 Q1271.93 1517.37 1268.3 1517.37 M1268.3 1513.66 Q1274.11 1513.66 1277.17 1518.27 Q1280.24 1522.85 1280.24 1531.6 Q1280.24 1540.33 1277.17 1544.94 Q1274.11 1549.52 1268.3 1549.52 Q1262.49 1549.52 1259.41 1544.94 Q1256.36 1540.33 1256.36 1531.6 Q1256.36 1522.85 1259.41 1518.27 Q1262.49 1513.66 1268.3 1513.66 Z\" fill=\"#000000\" fill-rule=\"nonzero\" fill-opacity=\"1\" /><path clip-path=\"url(#clip210)\" d=\"M1747.6 1544.91 L1755.24 1544.91 L1755.24 1518.55 L1746.93 1520.21 L1746.93 1515.95 L1755.2 1514.29 L1759.87 1514.29 L1759.87 1544.91 L1767.51 1544.91 L1767.51 1548.85 L1747.6 1548.85 L1747.6 1544.91 Z\" fill=\"#000000\" fill-rule=\"nonzero\" fill-opacity=\"1\" /><path clip-path=\"url(#clip210)\" d=\"M1777 1514.29 L1795.36 1514.29 L1795.36 1518.22 L1781.28 1518.22 L1781.28 1526.7 Q1782.3 1526.35 1783.32 1526.19 Q1784.34 1526 1785.36 1526 Q1791.15 1526 1794.53 1529.17 Q1797.9 1532.34 1797.9 1537.76 Q1797.9 1543.34 1794.43 1546.44 Q1790.96 1549.52 1784.64 1549.52 Q1782.46 1549.52 1780.2 1549.15 Q1777.95 1548.78 1775.54 1548.04 L1775.54 1543.34 Q1777.63 1544.47 1779.85 1545.03 Q1782.07 1545.58 1784.55 1545.58 Q1788.55 1545.58 1790.89 1543.48 Q1793.23 1541.37 1793.23 1537.76 Q1793.23 1534.15 1790.89 1532.04 Q1788.55 1529.94 1784.55 1529.94 Q1782.67 1529.94 1780.8 1530.35 Q1778.95 1530.77 1777 1531.65 L1777 1514.29 Z\" fill=\"#000000\" fill-rule=\"nonzero\" fill-opacity=\"1\" /><path clip-path=\"url(#clip210)\" d=\"M2269.35 1544.91 L2285.67 1544.91 L2285.67 1548.85 L2263.73 1548.85 L2263.73 1544.91 Q2266.39 1542.16 2270.97 1537.53 Q2275.58 1532.88 2276.76 1531.53 Q2279 1529.01 2279.88 1527.27 Q2280.79 1525.51 2280.79 1523.82 Q2280.79 1521.07 2278.84 1519.33 Q2276.92 1517.6 2273.82 1517.6 Q2271.62 1517.6 2269.16 1518.36 Q2266.73 1519.13 2263.96 1520.68 L2263.96 1515.95 Q2266.78 1514.82 2269.23 1514.24 Q2271.69 1513.66 2273.73 1513.66 Q2279.1 1513.66 2282.29 1516.35 Q2285.48 1519.03 2285.48 1523.52 Q2285.48 1525.65 2284.67 1527.57 Q2283.89 1529.47 2281.78 1532.07 Q2281.2 1532.74 2278.1 1535.95 Q2275 1539.15 2269.35 1544.91 Z\" fill=\"#000000\" fill-rule=\"nonzero\" fill-opacity=\"1\" /><path clip-path=\"url(#clip210)\" d=\"M2305.48 1517.37 Q2301.87 1517.37 2300.04 1520.93 Q2298.24 1524.47 2298.24 1531.6 Q2298.24 1538.71 2300.04 1542.27 Q2301.87 1545.82 2305.48 1545.82 Q2309.12 1545.82 2310.92 1542.27 Q2312.75 1538.71 2312.75 1531.6 Q2312.75 1524.47 2310.92 1520.93 Q2309.12 1517.37 2305.48 1517.37 M2305.48 1513.66 Q2311.29 1513.66 2314.35 1518.27 Q2317.43 1522.85 2317.43 1531.6 Q2317.43 1540.33 2314.35 1544.94 Q2311.29 1549.52 2305.48 1549.52 Q2299.67 1549.52 2296.6 1544.94 Q2293.54 1540.33 2293.54 1531.6 Q2293.54 1522.85 2296.6 1518.27 Q2299.67 1513.66 2305.48 1513.66 Z\" fill=\"#000000\" fill-rule=\"nonzero\" fill-opacity=\"1\" /><polyline clip-path=\"url(#clip212)\" style=\"stroke:#000000; stroke-linecap:round; stroke-linejoin:round; stroke-width:2; stroke-opacity:0.1; fill:none\" points=\"155.765,1170.94 2352.76,1170.94 \"/>\n",
       "<polyline clip-path=\"url(#clip212)\" style=\"stroke:#000000; stroke-linecap:round; stroke-linejoin:round; stroke-width:2; stroke-opacity:0.1; fill:none\" points=\"155.765,832.513 2352.76,832.513 \"/>\n",
       "<polyline clip-path=\"url(#clip212)\" style=\"stroke:#000000; stroke-linecap:round; stroke-linejoin:round; stroke-width:2; stroke-opacity:0.1; fill:none\" points=\"155.765,494.087 2352.76,494.087 \"/>\n",
       "<polyline clip-path=\"url(#clip212)\" style=\"stroke:#000000; stroke-linecap:round; stroke-linejoin:round; stroke-width:2; stroke-opacity:0.1; fill:none\" points=\"155.765,155.661 2352.76,155.661 \"/>\n",
       "<polyline clip-path=\"url(#clip210)\" style=\"stroke:#000000; stroke-linecap:round; stroke-linejoin:round; stroke-width:4; stroke-opacity:1; fill:none\" points=\"155.765,1486.45 155.765,47.2441 \"/>\n",
       "<polyline clip-path=\"url(#clip210)\" style=\"stroke:#000000; stroke-linecap:round; stroke-linejoin:round; stroke-width:4; stroke-opacity:1; fill:none\" points=\"155.765,1170.94 174.663,1170.94 \"/>\n",
       "<polyline clip-path=\"url(#clip210)\" style=\"stroke:#000000; stroke-linecap:round; stroke-linejoin:round; stroke-width:4; stroke-opacity:1; fill:none\" points=\"155.765,832.513 174.663,832.513 \"/>\n",
       "<polyline clip-path=\"url(#clip210)\" style=\"stroke:#000000; stroke-linecap:round; stroke-linejoin:round; stroke-width:4; stroke-opacity:1; fill:none\" points=\"155.765,494.087 174.663,494.087 \"/>\n",
       "<polyline clip-path=\"url(#clip210)\" style=\"stroke:#000000; stroke-linecap:round; stroke-linejoin:round; stroke-width:4; stroke-opacity:1; fill:none\" points=\"155.765,155.661 174.663,155.661 \"/>\n",
       "<path clip-path=\"url(#clip210)\" d=\"M63.5847 1156.74 Q59.9736 1156.74 58.1449 1160.3 Q56.3393 1163.84 56.3393 1170.97 Q56.3393 1178.08 58.1449 1181.64 Q59.9736 1185.19 63.5847 1185.19 Q67.2189 1185.19 69.0244 1181.64 Q70.8531 1178.08 70.8531 1170.97 Q70.8531 1163.84 69.0244 1160.3 Q67.2189 1156.74 63.5847 1156.74 M63.5847 1153.03 Q69.3948 1153.03 72.4503 1157.64 Q75.529 1162.22 75.529 1170.97 Q75.529 1179.7 72.4503 1184.31 Q69.3948 1188.89 63.5847 1188.89 Q57.7745 1188.89 54.6958 1184.31 Q51.6403 1179.7 51.6403 1170.97 Q51.6403 1162.22 54.6958 1157.64 Q57.7745 1153.03 63.5847 1153.03 Z\" fill=\"#000000\" fill-rule=\"nonzero\" fill-opacity=\"1\" /><path clip-path=\"url(#clip210)\" d=\"M83.7466 1182.34 L88.6308 1182.34 L88.6308 1188.22 L83.7466 1188.22 L83.7466 1182.34 Z\" fill=\"#000000\" fill-rule=\"nonzero\" fill-opacity=\"1\" /><path clip-path=\"url(#clip210)\" d=\"M98.8622 1153.66 L117.219 1153.66 L117.219 1157.59 L103.145 1157.59 L103.145 1166.07 Q104.163 1165.72 105.182 1165.56 Q106.2 1165.37 107.219 1165.37 Q113.006 1165.37 116.385 1168.54 Q119.765 1171.71 119.765 1177.13 Q119.765 1182.71 116.293 1185.81 Q112.82 1188.89 106.501 1188.89 Q104.325 1188.89 102.057 1188.52 Q99.8113 1188.15 97.4039 1187.41 L97.4039 1182.71 Q99.4872 1183.84 101.709 1184.4 Q103.932 1184.95 106.408 1184.95 Q110.413 1184.95 112.751 1182.85 Q115.089 1180.74 115.089 1177.13 Q115.089 1173.52 112.751 1171.41 Q110.413 1169.31 106.408 1169.31 Q104.534 1169.31 102.659 1169.72 Q100.807 1170.14 98.8622 1171.02 L98.8622 1153.66 Z\" fill=\"#000000\" fill-rule=\"nonzero\" fill-opacity=\"1\" /><path clip-path=\"url(#clip210)\" d=\"M53.3995 845.858 L61.0384 845.858 L61.0384 819.492 L52.7282 821.159 L52.7282 816.899 L60.9921 815.233 L65.668 815.233 L65.668 845.858 L73.3068 845.858 L73.3068 849.793 L53.3995 849.793 L53.3995 845.858 Z\" fill=\"#000000\" fill-rule=\"nonzero\" fill-opacity=\"1\" /><path clip-path=\"url(#clip210)\" d=\"M82.7512 843.913 L87.6354 843.913 L87.6354 849.793 L82.7512 849.793 L82.7512 843.913 Z\" fill=\"#000000\" fill-rule=\"nonzero\" fill-opacity=\"1\" /><path clip-path=\"url(#clip210)\" d=\"M107.821 818.311 Q104.209 818.311 102.381 821.876 Q100.575 825.418 100.575 832.548 Q100.575 839.654 102.381 843.219 Q104.209 846.76 107.821 846.76 Q111.455 846.76 113.26 843.219 Q115.089 839.654 115.089 832.548 Q115.089 825.418 113.26 821.876 Q111.455 818.311 107.821 818.311 M107.821 814.608 Q113.631 814.608 116.686 819.214 Q119.765 823.798 119.765 832.548 Q119.765 841.274 116.686 845.881 Q113.631 850.464 107.821 850.464 Q102.01 850.464 98.9317 845.881 Q95.8761 841.274 95.8761 832.548 Q95.8761 823.798 98.9317 819.214 Q102.01 814.608 107.821 814.608 Z\" fill=\"#000000\" fill-rule=\"nonzero\" fill-opacity=\"1\" /><path clip-path=\"url(#clip210)\" d=\"M54.3949 507.432 L62.0337 507.432 L62.0337 481.066 L53.7236 482.733 L53.7236 478.474 L61.9874 476.807 L66.6633 476.807 L66.6633 507.432 L74.3022 507.432 L74.3022 511.367 L54.3949 511.367 L54.3949 507.432 Z\" fill=\"#000000\" fill-rule=\"nonzero\" fill-opacity=\"1\" /><path clip-path=\"url(#clip210)\" d=\"M83.7466 505.488 L88.6308 505.488 L88.6308 511.367 L83.7466 511.367 L83.7466 505.488 Z\" fill=\"#000000\" fill-rule=\"nonzero\" fill-opacity=\"1\" /><path clip-path=\"url(#clip210)\" d=\"M98.8622 476.807 L117.219 476.807 L117.219 480.742 L103.145 480.742 L103.145 489.214 Q104.163 488.867 105.182 488.705 Q106.2 488.52 107.219 488.52 Q113.006 488.52 116.385 491.691 Q119.765 494.863 119.765 500.279 Q119.765 505.858 116.293 508.96 Q112.82 512.038 106.501 512.038 Q104.325 512.038 102.057 511.668 Q99.8113 511.298 97.4039 510.557 L97.4039 505.858 Q99.4872 506.992 101.709 507.548 Q103.932 508.103 106.408 508.103 Q110.413 508.103 112.751 505.997 Q115.089 503.89 115.089 500.279 Q115.089 496.668 112.751 494.562 Q110.413 492.455 106.408 492.455 Q104.534 492.455 102.659 492.872 Q100.807 493.289 98.8622 494.168 L98.8622 476.807 Z\" fill=\"#000000\" fill-rule=\"nonzero\" fill-opacity=\"1\" /><path clip-path=\"url(#clip210)\" d=\"M56.6171 169.006 L72.9365 169.006 L72.9365 172.941 L50.9921 172.941 L50.9921 169.006 Q53.6541 166.252 58.2375 161.622 Q62.8439 156.969 64.0245 155.627 Q66.2698 153.104 67.1494 151.367 Q68.0522 149.608 68.0522 147.918 Q68.0522 145.164 66.1078 143.428 Q64.1865 141.692 61.0847 141.692 Q58.8856 141.692 56.4319 142.455 Q54.0014 143.219 51.2236 144.77 L51.2236 140.048 Q54.0477 138.914 56.5014 138.335 Q58.955 137.756 60.9921 137.756 Q66.3624 137.756 69.5568 140.442 Q72.7513 143.127 72.7513 147.617 Q72.7513 149.747 71.9411 151.668 Q71.1541 153.567 69.0476 156.159 Q68.4689 156.83 65.367 160.048 Q62.2652 163.242 56.6171 169.006 Z\" fill=\"#000000\" fill-rule=\"nonzero\" fill-opacity=\"1\" /><path clip-path=\"url(#clip210)\" d=\"M82.7512 167.062 L87.6354 167.062 L87.6354 172.941 L82.7512 172.941 L82.7512 167.062 Z\" fill=\"#000000\" fill-rule=\"nonzero\" fill-opacity=\"1\" /><path clip-path=\"url(#clip210)\" d=\"M107.821 141.46 Q104.209 141.46 102.381 145.025 Q100.575 148.567 100.575 155.696 Q100.575 162.803 102.381 166.367 Q104.209 169.909 107.821 169.909 Q111.455 169.909 113.26 166.367 Q115.089 162.803 115.089 155.696 Q115.089 148.567 113.26 145.025 Q111.455 141.46 107.821 141.46 M107.821 137.756 Q113.631 137.756 116.686 142.363 Q119.765 146.946 119.765 155.696 Q119.765 164.423 116.686 169.029 Q113.631 173.613 107.821 173.613 Q102.01 173.613 98.9317 169.029 Q95.8761 164.423 95.8761 155.696 Q95.8761 146.946 98.9317 142.363 Q102.01 137.756 107.821 137.756 Z\" fill=\"#000000\" fill-rule=\"nonzero\" fill-opacity=\"1\" /><polyline clip-path=\"url(#clip212)\" style=\"stroke:#009af9; stroke-linecap:round; stroke-linejoin:round; stroke-width:4; stroke-opacity:1; fill:none\" points=\"217.944,87.9763 228.307,237.222 238.67,356.772 249.033,454.908 259.397,537.044 269.76,606.882 280.123,667.049 290.486,719.46 300.849,765.552 311.212,806.422 321.576,842.924 331.939,875.733 342.302,905.392 352.665,932.339 363.028,956.935 373.391,979.479 383.755,1000.22 394.118,1019.37 404.481,1037.11 414.844,1053.58 425.207,1068.93 435.57,1083.26 445.934,1096.67 456.297,1109.25 466.66,1121.08 477.023,1132.21 487.386,1142.72 497.749,1152.65 508.113,1162.05 518.476,1170.96 528.839,1179.42 539.202,1187.46 549.565,1195.12 559.928,1202.41 570.292,1209.37 580.655,1216.02 591.018,1222.38 601.381,1228.46 611.744,1234.29 622.107,1239.88 632.47,1245.25 642.834,1250.4 653.197,1255.35 663.56,1260.12 673.923,1264.71 684.286,1269.13 694.649,1273.39 705.013,1277.51 715.376,1281.48 725.739,1285.31 736.102,1289.02 746.465,1292.61 756.828,1296.08 767.192,1299.44 777.555,1302.7 787.918,1305.85 798.281,1308.91 808.644,1311.88 819.007,1314.76 829.371,1317.56 839.734,1320.27 850.097,1322.92 860.46,1325.48 870.823,1327.98 881.186,1330.41 891.55,1332.78 901.913,1335.08 912.276,1337.33 922.639,1339.51 933.002,1341.64 943.365,1343.72 953.729,1345.75 964.092,1347.73 974.455,1349.66 984.818,1351.54 995.181,1353.38 1005.54,1355.18 1015.91,1356.93 1026.27,1358.65 1036.63,1360.33 1047,1361.97 1057.36,1363.57 1067.72,1365.14 1078.09,1366.68 1088.45,1368.18 1098.81,1369.66 1109.18,1371.1 1119.54,1372.51 1129.9,1373.89 1140.27,1375.25 1150.63,1376.58 1160.99,1377.88 1171.36,1379.16 1181.72,1380.41 1192.08,1381.64 1202.44,1382.84 1212.81,1384.03 1223.17,1385.19 1233.53,1386.33 1243.9,1387.44 1254.26,1388.54 1264.62,1389.62 1274.99,1390.68 1285.35,1391.72 1295.71,1392.74 1306.08,1393.75 1316.44,1394.73 1326.8,1395.71 1337.17,1396.66 1347.53,1397.6 1357.89,1398.52 1368.26,1399.43 1378.62,1400.32 1388.98,1401.2 1399.34,1402.06 1409.71,1402.91 1420.07,1403.75 1430.43,1404.58 1440.8,1405.39 1451.16,1406.19 1461.52,1406.97 1471.89,1407.75 1482.25,1408.51 1492.61,1409.26 1502.98,1410 1513.34,1410.73 1523.7,1411.45 1534.07,1412.16 1544.43,1412.85 1554.79,1413.54 1565.16,1414.22 1575.52,1414.89 1585.88,1415.55 1596.24,1416.2 1606.61,1416.84 1616.97,1417.47 1627.33,1418.1 1637.7,1418.71 1648.06,1419.32 1658.42,1419.92 1668.79,1420.51 1679.15,1421.09 1689.51,1421.67 1699.88,1422.24 1710.24,1422.8 1720.6,1423.35 1730.97,1423.9 1741.33,1424.44 1751.69,1424.97 1762.06,1425.5 1772.42,1426.02 1782.78,1426.53 1793.14,1427.04 1803.51,1427.54 1813.87,1428.03 1824.23,1428.52 1834.6,1429 1844.96,1429.48 1855.32,1429.95 1865.69,1430.42 1876.05,1430.88 1886.41,1431.33 1896.78,1431.78 1907.14,1432.23 1917.5,1432.67 1927.87,1433.1 1938.23,1433.53 1948.59,1433.95 1958.96,1434.38 1969.32,1434.79 1979.68,1435.2 1990.05,1435.61 2000.41,1436.01 2010.77,1436.41 2021.13,1436.8 2031.5,1437.19 2041.86,1437.57 2052.22,1437.95 2062.59,1438.33 2072.95,1438.7 2083.31,1439.07 2093.68,1439.44 2104.04,1439.8 2114.4,1440.16 2124.77,1440.51 2135.13,1440.86 2145.49,1441.21 2155.86,1441.55 2166.22,1441.89 2176.58,1442.23 2186.95,1442.56 2197.31,1442.89 2207.67,1443.22 2218.03,1443.54 2228.4,1443.86 2238.76,1444.18 2249.12,1444.49 2259.49,1444.8 2269.85,1445.11 2280.21,1445.41 2290.58,1445.72 \"/>\n",
       "<polyline clip-path=\"url(#clip212)\" style=\"stroke:#e26f46; stroke-linecap:round; stroke-linejoin:round; stroke-width:4; stroke-opacity:1; fill:none\" points=\"217.944,1170.94 228.307,1170.94 238.67,1170.94 249.033,1170.94 259.397,1170.94 269.76,1170.94 280.123,1170.94 290.486,1170.94 300.849,1170.94 311.212,1170.94 321.576,1170.94 331.939,1170.94 342.302,1170.94 352.665,1170.94 363.028,1170.94 373.391,1170.94 383.755,1170.94 394.118,1170.94 404.481,1170.94 414.844,1170.94 425.207,1170.94 435.57,1170.94 445.934,1170.94 456.297,1170.94 466.66,1170.94 477.023,1170.94 487.386,1170.94 497.749,1170.94 508.113,1170.94 518.476,1170.94 528.839,1170.94 539.202,1170.94 549.565,1170.94 559.928,1170.94 570.292,1170.94 580.655,1170.94 591.018,1170.94 601.381,1170.94 611.744,1170.94 622.107,1170.94 632.47,1170.94 642.834,1170.94 653.197,1170.94 663.56,1170.94 673.923,1170.94 684.286,1170.94 694.649,1170.94 705.013,1170.94 715.376,1170.94 725.739,1170.94 736.102,1170.94 746.465,1170.94 756.828,1170.94 767.192,1170.94 777.555,1170.94 787.918,1170.94 798.281,1170.94 808.644,1170.94 819.007,1170.94 829.371,1170.94 839.734,1170.94 850.097,1170.94 860.46,1170.94 870.823,1170.94 881.186,1170.94 891.55,1170.94 901.913,1170.94 912.276,1170.94 922.639,1170.94 933.002,1170.94 943.365,1170.94 953.729,1170.94 964.092,1170.94 974.455,1170.94 984.818,1170.94 995.181,1170.94 1005.54,1170.94 1015.91,1170.94 1026.27,1170.94 1036.63,1170.94 1047,1170.94 1057.36,1170.94 1067.72,1170.94 1078.09,1170.94 1088.45,1170.94 1098.81,1170.94 1109.18,1170.94 1119.54,1170.94 1129.9,1170.94 1140.27,1170.94 1150.63,1170.94 1160.99,1170.94 1171.36,1170.94 1181.72,1170.94 1192.08,1170.94 1202.44,1170.94 1212.81,1170.94 1223.17,1170.94 1233.53,1170.94 1243.9,1170.94 1254.26,1170.94 1264.62,1170.94 1274.99,1170.94 1285.35,1170.94 1295.71,1170.94 1306.08,1170.94 1316.44,1170.94 1326.8,1170.94 1337.17,1170.94 1347.53,1170.94 1357.89,1170.94 1368.26,1170.94 1378.62,1170.94 1388.98,1170.94 1399.34,1170.94 1409.71,1170.94 1420.07,1170.94 1430.43,1170.94 1440.8,1170.94 1451.16,1170.94 1461.52,1170.94 1471.89,1170.94 1482.25,1170.94 1492.61,1170.94 1502.98,1170.94 1513.34,1170.94 1523.7,1170.94 1534.07,1170.94 1544.43,1170.94 1554.79,1170.94 1565.16,1170.94 1575.52,1170.94 1585.88,1170.94 1596.24,1170.94 1606.61,1170.94 1616.97,1170.94 1627.33,1170.94 1637.7,1170.94 1648.06,1170.94 1658.42,1170.94 1668.79,1170.94 1679.15,1170.94 1689.51,1170.94 1699.88,1170.94 1710.24,1170.94 1720.6,1170.94 1730.97,1170.94 1741.33,1170.94 1751.69,1170.94 1762.06,1170.94 1772.42,1170.94 1782.78,1170.94 1793.14,1170.94 1803.51,1170.94 1813.87,1170.94 1824.23,1170.94 1834.6,1170.94 1844.96,1170.94 1855.32,1170.94 1865.69,1170.94 1876.05,1170.94 1886.41,1170.94 1896.78,1170.94 1907.14,1170.94 1917.5,1170.94 1927.87,1170.94 1938.23,1170.94 1948.59,1170.94 1958.96,1170.94 1969.32,1170.94 1979.68,1170.94 1990.05,1170.94 2000.41,1170.94 2010.77,1170.94 2021.13,1170.94 2031.5,1170.94 2041.86,1170.94 2052.22,1170.94 2062.59,1170.94 2072.95,1170.94 2083.31,1170.94 2093.68,1170.94 2104.04,1170.94 2114.4,1170.94 2124.77,1170.94 2135.13,1170.94 2145.49,1170.94 2155.86,1170.94 2166.22,1170.94 2176.58,1170.94 2186.95,1170.94 2197.31,1170.94 2207.67,1170.94 2218.03,1170.94 2228.4,1170.94 2238.76,1170.94 2249.12,1170.94 2259.49,1170.94 2269.85,1170.94 2280.21,1170.94 \"/>\n",
       "<path clip-path=\"url(#clip210)\" d=\"M1981.63 250.738 L2279.52 250.738 L2279.52 95.2176 L1981.63 95.2176  Z\" fill=\"#ffffff\" fill-rule=\"evenodd\" fill-opacity=\"1\"/>\n",
       "<polyline clip-path=\"url(#clip210)\" style=\"stroke:#000000; stroke-linecap:round; stroke-linejoin:round; stroke-width:4; stroke-opacity:1; fill:none\" points=\"1981.63,250.738 2279.52,250.738 2279.52,95.2176 1981.63,95.2176 1981.63,250.738 \"/>\n",
       "<polyline clip-path=\"url(#clip210)\" style=\"stroke:#009af9; stroke-linecap:round; stroke-linejoin:round; stroke-width:4; stroke-opacity:1; fill:none\" points=\"2006.04,147.058 2152.51,147.058 \"/>\n",
       "<path clip-path=\"url(#clip210)\" d=\"M2201.57 138.412 L2192.2 151.027 L2202.06 164.338 L2197.03 164.338 L2189.49 154.152 L2181.94 164.338 L2176.92 164.338 L2186.99 150.773 L2177.77 138.412 L2182.8 138.412 L2189.67 147.648 L2196.55 138.412 L2201.57 138.412 Z\" fill=\"#000000\" fill-rule=\"nonzero\" fill-opacity=\"1\" /><path clip-path=\"url(#clip210)\" d=\"M2218.31 128.366 Q2215.2 133.69 2213.7 138.898 Q2212.2 144.106 2212.2 149.453 Q2212.2 154.801 2213.7 160.055 Q2215.23 165.287 2218.31 170.588 L2214.6 170.588 Q2211.13 165.148 2209.39 159.893 Q2207.68 154.639 2207.68 149.453 Q2207.68 144.291 2209.39 139.06 Q2211.11 133.828 2214.6 128.366 L2218.31 128.366 Z\" fill=\"#000000\" fill-rule=\"nonzero\" fill-opacity=\"1\" /><path clip-path=\"url(#clip210)\" d=\"M2230.78 131.051 L2230.78 138.412 L2239.56 138.412 L2239.56 141.722 L2230.78 141.722 L2230.78 155.796 Q2230.78 158.967 2231.64 159.87 Q2232.52 160.773 2235.18 160.773 L2239.56 160.773 L2239.56 164.338 L2235.18 164.338 Q2230.25 164.338 2228.38 162.509 Q2226.5 160.657 2226.5 155.796 L2226.5 141.722 L2223.38 141.722 L2223.38 138.412 L2226.5 138.412 L2226.5 131.051 L2230.78 131.051 Z\" fill=\"#000000\" fill-rule=\"nonzero\" fill-opacity=\"1\" /><path clip-path=\"url(#clip210)\" d=\"M2244.49 128.366 L2248.19 128.366 Q2251.66 133.828 2253.38 139.06 Q2255.11 144.291 2255.11 149.453 Q2255.11 154.639 2253.38 159.893 Q2251.66 165.148 2248.19 170.588 L2244.49 170.588 Q2247.57 165.287 2249.07 160.055 Q2250.6 154.801 2250.6 149.453 Q2250.6 144.106 2249.07 138.898 Q2247.57 133.69 2244.49 128.366 Z\" fill=\"#000000\" fill-rule=\"nonzero\" fill-opacity=\"1\" /><polyline clip-path=\"url(#clip210)\" style=\"stroke:#e26f46; stroke-linecap:round; stroke-linejoin:round; stroke-width:4; stroke-opacity:1; fill:none\" points=\"2006.04,198.898 2152.51,198.898 \"/>\n",
       "<path clip-path=\"url(#clip210)\" d=\"M2176.92 205.946 L2176.92 190.252 L2181.18 190.252 L2181.18 205.784 Q2181.18 209.465 2182.61 211.316 Q2184.05 213.145 2186.92 213.145 Q2190.37 213.145 2192.36 210.946 Q2194.37 208.747 2194.37 204.951 L2194.37 190.252 L2198.63 190.252 L2198.63 216.178 L2194.37 216.178 L2194.37 212.196 Q2192.82 214.557 2190.76 215.715 Q2188.72 216.849 2186.02 216.849 Q2181.55 216.849 2179.23 214.071 Q2176.92 211.293 2176.92 205.946 M2187.64 189.627 L2187.64 189.627 Z\" fill=\"#000000\" fill-rule=\"nonzero\" fill-opacity=\"1\" /><path clip-path=\"url(#clip210)\" d=\"M2217.64 180.206 Q2214.53 185.53 2213.03 190.738 Q2211.52 195.946 2211.52 201.293 Q2211.52 206.641 2213.03 211.895 Q2214.56 217.127 2217.64 222.428 L2213.93 222.428 Q2210.46 216.988 2208.72 211.733 Q2207.01 206.479 2207.01 201.293 Q2207.01 196.131 2208.72 190.9 Q2210.44 185.668 2213.93 180.206 L2217.64 180.206 Z\" fill=\"#000000\" fill-rule=\"nonzero\" fill-opacity=\"1\" /><path clip-path=\"url(#clip210)\" d=\"M2230.11 182.891 L2230.11 190.252 L2238.89 190.252 L2238.89 193.562 L2230.11 193.562 L2230.11 207.636 Q2230.11 210.807 2230.97 211.71 Q2231.85 212.613 2234.51 212.613 L2238.89 212.613 L2238.89 216.178 L2234.51 216.178 Q2229.58 216.178 2227.7 214.349 Q2225.83 212.497 2225.83 207.636 L2225.83 193.562 L2222.7 193.562 L2222.7 190.252 L2225.83 190.252 L2225.83 182.891 L2230.11 182.891 Z\" fill=\"#000000\" fill-rule=\"nonzero\" fill-opacity=\"1\" /><path clip-path=\"url(#clip210)\" d=\"M2243.82 180.206 L2247.52 180.206 Q2250.99 185.668 2252.7 190.9 Q2254.44 196.131 2254.44 201.293 Q2254.44 206.479 2252.7 211.733 Q2250.99 216.988 2247.52 222.428 L2243.82 222.428 Q2246.89 217.127 2248.4 211.895 Q2249.93 206.641 2249.93 201.293 Q2249.93 195.946 2248.4 190.738 Q2246.89 185.53 2243.82 180.206 Z\" fill=\"#000000\" fill-rule=\"nonzero\" fill-opacity=\"1\" /></svg>\n"
      ]
     },
     "execution_count": 56,
     "metadata": {},
     "output_type": "execute_result"
    }
   ],
   "source": [
    "using Plots\n",
    "plot(0.1*(0:N),xsopt[1,:],label=\"x(t)\")\n",
    "plot!(0.1*(0:N-1),opt_u[1,:],label=\"u(t)\")"
   ]
  },
  {
   "cell_type": "markdown",
   "id": "355a635d-be29-4a07-b8d9-4d7717d81d4e",
   "metadata": {},
   "source": [
    "#### Initial Parameters #1:\n",
    "$\\quad$ $T = 20\\space years, \\alpha = 0.1/year, \\delta = 0.05/year, u_{max}=0.5, N=200, h=0.1$"
   ]
  },
  {
   "cell_type": "markdown",
   "id": "2b66a510-66f1-47c1-96b1-ecddae41b5ed",
   "metadata": {},
   "source": [
    "## Optimal Fishing Effort - Addition of Predator\n",
    "\n",
    "#### Minimization problem: \n",
    "$\\quad$ $\\min_u{g(\\textbf{x}(T))}$ subject to $\\frac{d\\textbf{x}}{dt} = \\textbf{F}(\\textbf{x}(t), \\textbf{u}(t))$, $x(0) = x_0$\n",
    "#### where\n",
    "$\\quad$ $\\textbf{F}(\\textbf{x}(t), \\textbf{u}(t)) = \\begin{bmatrix} \\alpha f(f_{max}-f)-\\beta f u - \\gamma f s\\\\ \\gamma f s - \\rho s \\\\ \\delta m + \\beta f u\\end{bmatrix} \\;$ , $\\beta = 1, f_{max}=f_{0}=1, \\rho = 1, \\alpha = 0.1, \\gamma = 5$\n",
    "#### So,\n",
    "$\\quad$ $\\textbf{F}(\\textbf{x}(t), \\textbf{u}(t)) = \\begin{bmatrix} \\alpha f(1-f)-f u \\\\ \\delta m + f u \\end{bmatrix}, x(0)=x_{0}, \\textbf{u}(t)\\in U  \\space \\forall t$\n",
    "\n",
    "#### Where our objective function is \n",
    "$\\quad$ $g(\\begin{bmatrix} f \\\\ m\\end{bmatrix}) = -m(T)$\n",
    "\n",
    "#### And the gradient is \n",
    "$\\quad$ $\\nabla g(\\begin{bmatrix} f \\\\ m\\end{bmatrix}) = \\begin{bmatrix} 0 \\\\ -1 \\end{bmatrix}$"
   ]
  },
  {
   "cell_type": "code",
   "execution_count": 231,
   "id": "ced6e4c9-bb91-4840-a40e-f9462575888c",
   "metadata": {},
   "outputs": [
    {
     "data": {
      "text/plain": [
       "dFdx_pred (generic function with 2 methods)"
      ]
     },
     "execution_count": 231,
     "metadata": {},
     "output_type": "execute_result"
    }
   ],
   "source": [
    "function F_pred(t, x, u, alpha, delta, verbose=0)\n",
    "    f, s, m = x\n",
    "    dfdt = alpha * f * (1 - f) - f* u[1] - 5 * f * s\n",
    "    dsdt = 5 * f * s - s\n",
    "    dmdt = delta * m + u[1] * f\n",
    "\n",
    "    if verbose == 1\n",
    "        println(\"================================\")\n",
    "        println(\"[F] f: \", dfdt)\n",
    "        println(\"[F] m: \", dfdt)\n",
    "        println(\"[F] dfdf: \", dfdt)\n",
    "        println(\"[F] dmdt: \", dfdt)\n",
    "    end\n",
    "\n",
    "    return [dfdt, dmdt]\n",
    "end\n",
    "\n",
    "function g(xv,verbose=0)\n",
    "    if verbose == 1\n",
    "        println(\"[g] g: \", -xv[2])\n",
    "    end\n",
    "    return -xv[2]\n",
    "end\n",
    "\n",
    "function dg(xv, verbose=0) \n",
    "    if verbose == 1\n",
    "        println(\"[dg] dg: \", [0.0, 0.0, -1.0])\n",
    "    end\n",
    "    return [0.0, -1.0]\n",
    "end\n",
    "\n",
    "function dFdu_pred(t, xvect,u,alpha,delta,verbose=0)\n",
    "    if verbose==1\n",
    "        println(\"================================\")\n",
    "        println(\"[dFdu]: \",reshape([-xvect[1] ; xvect[1]],2,1))\n",
    "    end\n",
    "    return reshape([-xvect[1] ; xvect[1]],2,1)\n",
    "end\n",
    "\n",
    "function dFdx_pred(t, xv, u, alpha, delta,verbose=0)\n",
    "    if verbose == 1\n",
    "        println(\"================================\")\n",
    "        println(\"dFdx: \", [alpha - 2*alpha*xv[1] - u[1]  u[1];\n",
    "                   0                    delta])\n",
    "    end\n",
    "    return [alpha - 2*alpha*xv[1] - u[1]  u[1];\n",
    "                   0                    delta]\n",
    "end"
   ]
  },
  {
   "cell_type": "code",
   "execution_count": 232,
   "id": "311a7a7e-359d-48d0-8abb-62bfd9958512",
   "metadata": {},
   "outputs": [
    {
     "ename": "LoadError",
     "evalue": "cannot assign a value to imported variable Plots.alpha from module Main",
     "output_type": "error",
     "traceback": [
      "cannot assign a value to imported variable Plots.alpha from module Main",
      "",
      "Stacktrace:",
      " [1] top-level scope",
      "   @ In[232]:6"
     ]
    }
   ],
   "source": [
    "using LinearAlgebra\n",
    "xv  = [2.1; 1.1; 1.2]\n",
    "dxv = 1e-3*[1.2; -0.7; 0.5]\n",
    "t = 0; u = [0.5]; du = 1e-3*[0.7]\n",
    "T = 20\n",
    "alpha = 1\n",
    "delta = 1\n",
    "@show (F_pred(t,xv+dxv,u,alpha,delta)-F_pred(t,xv-dxv,u,alpha,delta)-2dFdx_pred(t,xv,u,alpha,delta)*dxv)/norm(dxv)\n",
    "@show (F_pred(t,xv,u+du,alpha,delta,1)-F_pred(t,xv,u-du,alpha,delta,1)-2*dFdu_pred(t,xv,u,alpha,delta,1)*du)/norm(du)\n",
    "@show (g_pred(xv+dxv,1)-g_pred|(xv-dxv,1)-2*dot(dg_pred(xv),dxv))/norm(dxv)"
   ]
  },
  {
   "cell_type": "code",
   "execution_count": null,
   "id": "1ddfa60b-d3bd-4306-8656-75e288f04523",
   "metadata": {},
   "outputs": [],
   "source": []
  }
 ],
 "metadata": {
  "kernelspec": {
   "display_name": "Julia 1.10.2",
   "language": "julia",
   "name": "julia-1.10"
  },
  "language_info": {
   "file_extension": ".jl",
   "mimetype": "application/julia",
   "name": "julia",
   "version": "1.10.2"
  }
 },
 "nbformat": 4,
 "nbformat_minor": 5
}
